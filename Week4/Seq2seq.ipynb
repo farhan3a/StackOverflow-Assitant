{
  "nbformat": 4,
  "nbformat_minor": 0,
  "metadata": {
    "kernelspec": {
      "display_name": "Python 3",
      "language": "python",
      "name": "python3"
    },
    "language_info": {
      "codemirror_mode": {
        "name": "ipython",
        "version": 3
      },
      "file_extension": ".py",
      "mimetype": "text/x-python",
      "name": "python",
      "nbconvert_exporter": "python",
      "pygments_lexer": "ipython3",
      "version": "3.4.3"
    },
    "colab": {
      "name": "Week4_seq2seq.ipynb",
      "provenance": []
    },
    "accelerator": "GPU"
  },
  "cells": [
    {
      "cell_type": "code",
      "metadata": {
        "id": "q1xdQsEWq0x3",
        "colab_type": "code",
        "colab": {
          "base_uri": "https://localhost:8080/",
          "height": 202
        },
        "outputId": "731ca3be-1394-4f30-fef7-1b5486f32593"
      },
      "source": [
        "! wget https://raw.githubusercontent.com/hse-aml/natural-language-processing/master/setup_google_colab.py -O setup_google_colab.py\n",
        "import setup_google_colab\n",
        "# please, uncomment the week you're working on\n",
        "# setup_google_colab.setup_week1()  \n",
        "# setup_google_colab.setup_week2()\n",
        "# setup_google_colab.setup_week3()\n",
        "setup_google_colab.setup_week4()\n",
        "# setup_google_colab.setup_project()\n",
        "# setup_google_colab.setup_honor()"
      ],
      "execution_count": null,
      "outputs": [
        {
          "output_type": "stream",
          "text": [
            "--2020-07-26 18:35:48--  https://raw.githubusercontent.com/hse-aml/natural-language-processing/master/setup_google_colab.py\n",
            "Resolving raw.githubusercontent.com (raw.githubusercontent.com)... 151.101.0.133, 151.101.64.133, 151.101.128.133, ...\n",
            "Connecting to raw.githubusercontent.com (raw.githubusercontent.com)|151.101.0.133|:443... connected.\n",
            "HTTP request sent, awaiting response... 200 OK\n",
            "Length: 1939 (1.9K) [text/plain]\n",
            "Saving to: ‘setup_google_colab.py’\n",
            "\n",
            "\rsetup_google_colab.   0%[                    ]       0  --.-KB/s               \rsetup_google_colab. 100%[===================>]   1.89K  --.-KB/s    in 0s      \n",
            "\n",
            "2020-07-26 18:35:48 (35.5 MB/s) - ‘setup_google_colab.py’ saved [1939/1939]\n",
            "\n"
          ],
          "name": "stdout"
        }
      ]
    },
    {
      "cell_type": "markdown",
      "metadata": {
        "id": "Yp7-d-5hqoV_",
        "colab_type": "text"
      },
      "source": [
        "# Learn to calculate with seq2seq model\n",
        "\n",
        "In this assignment, you will learn how to use neural networks to solve sequence-to-sequence prediction tasks. Seq2Seq models are very popular these days because they achieve great results in Machine Translation, Text Summarization, Conversational Modeling and more.\n",
        "\n",
        "Using sequence-to-sequence modeling you are going to build a calculator for evaluating arithmetic expressions, by taking an equation as an input to the neural network and producing an answer as it's output.\n",
        "\n",
        "The resulting solution for this problem will be based on state-of-the-art approaches for sequence-to-sequence learning and you should be able to easily adapt it to solve other tasks. However, if you want to train your own machine translation system or intellectual chat bot, it would be useful to have access to compute resources like GPU, and be patient, because training of such systems is usually time consuming. \n",
        "\n",
        "### Libraries\n",
        "\n",
        "For this task you will need the following libraries:\n",
        " - [TensorFlow](https://www.tensorflow.org) — an open-source software library for Machine Intelligence.\n",
        " \n",
        "In this assignment, we use Tensorflow 1.15.0. You can install it with pip:\n",
        "\n",
        "    !pip install tensorflow==1.15.0\n",
        "     \n",
        " - [scikit-learn](http://scikit-learn.org/stable/index.html) — a tool for data mining and data analysis.\n",
        " \n",
        "If you have never worked with TensorFlow, you will probably want to read some tutorials during your work on this assignment, e.g. [Neural Machine Translation](https://www.tensorflow.org/tutorials/seq2seq) tutorial deals with very similar task and can explain some concepts to you. "
      ]
    },
    {
      "cell_type": "code",
      "metadata": {
        "id": "-J_G8otCrKoi",
        "colab_type": "code",
        "colab": {}
      },
      "source": [
        "# pip install tensorflow==1.15.0"
      ],
      "execution_count": null,
      "outputs": []
    },
    {
      "cell_type": "code",
      "metadata": {
        "id": "oHMhLjB2eUGE",
        "colab_type": "code",
        "colab": {
          "base_uri": "https://localhost:8080/",
          "height": 106
        },
        "outputId": "7ded8a60-79a8-4a0e-d12d-816165a4f872"
      },
      "source": [
        "import tensorflow as tf\n",
        "tf.disable_v2_behavior()\n",
        "tf.__version__"
      ],
      "execution_count": null,
      "outputs": [
        {
          "output_type": "stream",
          "text": [
            "WARNING:tensorflow:From /usr/local/lib/python3.6/dist-packages/tensorflow_core/python/compat/v2_compat.py:68: disable_resource_variables (from tensorflow.python.ops.variable_scope) is deprecated and will be removed in a future version.\n",
            "Instructions for updating:\n",
            "non-resource variables are not supported in the long term\n"
          ],
          "name": "stdout"
        },
        {
          "output_type": "execute_result",
          "data": {
            "application/vnd.google.colaboratory.intrinsic+json": {
              "type": "string"
            },
            "text/plain": [
              "'1.15.0'"
            ]
          },
          "metadata": {
            "tags": []
          },
          "execution_count": 4
        }
      ]
    },
    {
      "cell_type": "code",
      "metadata": {
        "id": "KyTXQZfDqoWA",
        "colab_type": "code",
        "colab": {
          "base_uri": "https://localhost:8080/",
          "height": 202
        },
        "outputId": "f99d02d7-b45b-439a-f00c-35a7193101d6"
      },
      "source": [
        "try:\n",
        "    import google.colab\n",
        "    IN_COLAB = True\n",
        "except:\n",
        "    IN_COLAB = False\n",
        "\n",
        "if IN_COLAB:\n",
        "    ! wget https://raw.githubusercontent.com/hse-aml/natural-language-processing/master/setup_google_colab.py -O setup_google_colab.py\n",
        "    import setup_google_colab\n",
        "    setup_google_colab.setup_week4()"
      ],
      "execution_count": null,
      "outputs": [
        {
          "output_type": "stream",
          "text": [
            "--2020-07-26 18:36:20--  https://raw.githubusercontent.com/hse-aml/natural-language-processing/master/setup_google_colab.py\n",
            "Resolving raw.githubusercontent.com (raw.githubusercontent.com)... 151.101.0.133, 151.101.64.133, 151.101.128.133, ...\n",
            "Connecting to raw.githubusercontent.com (raw.githubusercontent.com)|151.101.0.133|:443... connected.\n",
            "HTTP request sent, awaiting response... 200 OK\n",
            "Length: 1939 (1.9K) [text/plain]\n",
            "Saving to: ‘setup_google_colab.py’\n",
            "\n",
            "\rsetup_google_colab.   0%[                    ]       0  --.-KB/s               \rsetup_google_colab. 100%[===================>]   1.89K  --.-KB/s    in 0s      \n",
            "\n",
            "2020-07-26 18:36:20 (31.3 MB/s) - ‘setup_google_colab.py’ saved [1939/1939]\n",
            "\n"
          ],
          "name": "stdout"
        }
      ]
    },
    {
      "cell_type": "markdown",
      "metadata": {
        "id": "ru_9KWZ4qoWE",
        "colab_type": "text"
      },
      "source": [
        "### Data\n",
        "\n",
        "One benefit of this task is that you don't need to download any data — you will generate it on your own! We will use two operators (addition and subtraction) and work with positive integer numbers in some range. Here are examples of correct inputs and outputs:\n",
        "\n",
        "    Input: '1+2'\n",
        "    Output: '3'\n",
        "    \n",
        "    Input: '0-99'\n",
        "    Output: '-99'\n",
        "\n",
        "*Note, that there are no spaces between operators and operands.*\n",
        "\n",
        "\n",
        "Now you need to implement the function *generate_equations*, which will be used to generate the data."
      ]
    },
    {
      "cell_type": "code",
      "metadata": {
        "id": "HVzVYCTzqoWE",
        "colab_type": "code",
        "colab": {}
      },
      "source": [
        "import random"
      ],
      "execution_count": null,
      "outputs": []
    },
    {
      "cell_type": "code",
      "metadata": {
        "id": "WYKu-2XwqoWH",
        "colab_type": "code",
        "colab": {}
      },
      "source": [
        "def generate_equations(allowed_operators, dataset_size, min_value, max_value):\n",
        "    \"\"\"Generates pairs of equations and solutions to them.\n",
        "    \n",
        "       Each equation has a form of two integers with an operator in between.\n",
        "       Each solution is an integer with the result of the operaion.\n",
        "    \n",
        "        allowed_operators: list of strings, allowed operators.\n",
        "        dataset_size: an integer, number of equations to be generated.\n",
        "        min_value: an integer, min value of each operand.\n",
        "        max_value: an integer, max value of each operand.\n",
        "\n",
        "        result: a list of tuples of strings (equation, solution).\n",
        "    \"\"\"\n",
        "    sample = []\n",
        "    for _ in range(dataset_size):\n",
        "        a, b = random.randint(min_value, max_value), random.randint(min_value, max_value)\n",
        "        op = random.choice(allowed_operators)\n",
        "        res = str(a)+op+str(b)\n",
        "        sample.append((res, str(eval(res))))\n",
        "    return sample"
      ],
      "execution_count": null,
      "outputs": []
    },
    {
      "cell_type": "markdown",
      "metadata": {
        "id": "6Af14KeYqoWJ",
        "colab_type": "text"
      },
      "source": [
        "To check the correctness of your implementation, use *test_generate_equations* function:"
      ]
    },
    {
      "cell_type": "code",
      "metadata": {
        "id": "OTXDDatFqoWK",
        "colab_type": "code",
        "colab": {}
      },
      "source": [
        "def test_generate_equations():\n",
        "    allowed_operators = ['+', '-']\n",
        "    dataset_size = 10\n",
        "    for (input_, output_) in generate_equations(allowed_operators, dataset_size, 0, 100):\n",
        "        if not (type(input_) is str and type(output_) is str):\n",
        "            return \"Both parts should be strings.\"\n",
        "        if eval(input_) != int(output_):\n",
        "            return \"The (equation: {!r}, solution: {!r}) pair is incorrect.\".format(input_, output_)\n",
        "    return \"Tests passed.\""
      ],
      "execution_count": null,
      "outputs": []
    },
    {
      "cell_type": "code",
      "metadata": {
        "id": "I1vtv4QzqoWN",
        "colab_type": "code",
        "colab": {
          "base_uri": "https://localhost:8080/",
          "height": 34
        },
        "outputId": "1ad2c51f-a778-417c-f195-4434fda70349"
      },
      "source": [
        "print(test_generate_equations())"
      ],
      "execution_count": null,
      "outputs": [
        {
          "output_type": "stream",
          "text": [
            "Tests passed.\n"
          ],
          "name": "stdout"
        }
      ]
    },
    {
      "cell_type": "markdown",
      "metadata": {
        "id": "cMy7nDxpqoWQ",
        "colab_type": "text"
      },
      "source": [
        "Finally, we are ready to generate the train and test data for the neural network:"
      ]
    },
    {
      "cell_type": "code",
      "metadata": {
        "id": "9Iut8TJqqoWQ",
        "colab_type": "code",
        "colab": {}
      },
      "source": [
        "from sklearn.model_selection import train_test_split"
      ],
      "execution_count": null,
      "outputs": []
    },
    {
      "cell_type": "code",
      "metadata": {
        "id": "-__BMIbAqoWU",
        "colab_type": "code",
        "colab": {}
      },
      "source": [
        "allowed_operators = ['+', '-']\n",
        "dataset_size = 100000\n",
        "data = generate_equations(allowed_operators, dataset_size, min_value=0, max_value=9999)\n",
        "\n",
        "train_set, test_set = train_test_split(data, test_size=0.2, random_state=42)"
      ],
      "execution_count": null,
      "outputs": []
    },
    {
      "cell_type": "markdown",
      "metadata": {
        "id": "KWMVNEXOqoWX",
        "colab_type": "text"
      },
      "source": [
        "## Prepare data for the neural network\n",
        "\n",
        "The next stage of data preparation is creating mappings of the characters to their indices in some vocabulary. Since in our task we already know which symbols will appear in the inputs and outputs, generating the vocabulary is a simple step.\n",
        "\n",
        "#### How to create dictionaries for other task\n",
        "\n",
        "First of all, you need to understand what is the basic unit of the sequence in your task. In our case, we operate on symbols and the basic unit is a symbol. The number of symbols is small, so we don't need to think about filtering/normalization steps. However, in other tasks, the basic unit is often a word, and in this case the mapping would be *word $\\to$ integer*. The number of words might be huge, so it would be reasonable to filter them, for example, by frequency and leave only the frequent ones. Other strategies that your should consider are: data normalization (lowercasing, tokenization, how to consider punctuation marks), separate vocabulary for input and for output (e.g. for machine translation), some specifics of the task."
      ]
    },
    {
      "cell_type": "code",
      "metadata": {
        "id": "TpvNbKEsqoWY",
        "colab_type": "code",
        "colab": {}
      },
      "source": [
        "word2id = {symbol:i for i, symbol in enumerate('#^$+-1234567890')}\n",
        "id2word = {i:symbol for symbol, i in word2id.items()}"
      ],
      "execution_count": null,
      "outputs": []
    },
    {
      "cell_type": "markdown",
      "metadata": {
        "id": "OJvDJoP0qoWd",
        "colab_type": "text"
      },
      "source": [
        "#### Special symbols"
      ]
    },
    {
      "cell_type": "code",
      "metadata": {
        "id": "ADW_Dhp7qoWd",
        "colab_type": "code",
        "colab": {}
      },
      "source": [
        "start_symbol = '^'\n",
        "end_symbol = '$'\n",
        "padding_symbol = '#'"
      ],
      "execution_count": null,
      "outputs": []
    },
    {
      "cell_type": "markdown",
      "metadata": {
        "id": "DgKaeN4wqoWi",
        "colab_type": "text"
      },
      "source": [
        "You could notice that we have added 3 special symbols: '^', '\\$' and '#':\n",
        "- '^' symbol will be passed to the network to indicate the beginning of the decoding procedure. We will discuss this one later in more details.\n",
        "- '\\$' symbol will be used to indicate the *end of a string*, both for input and output sequences. \n",
        "- '#' symbol will be used as a *padding* character to make lengths of all strings equal within one training batch.\n",
        "\n",
        "People have a bit different habits when it comes to special symbols in encoder-decoder networks, so don't get too much confused if you come across other variants in tutorials you read. "
      ]
    },
    {
      "cell_type": "markdown",
      "metadata": {
        "id": "ffBFMRdzqoWj",
        "colab_type": "text"
      },
      "source": [
        "#### Padding"
      ]
    },
    {
      "cell_type": "markdown",
      "metadata": {
        "id": "VWCGX2lDqoWk",
        "colab_type": "text"
      },
      "source": [
        "When vocabularies are ready, we need to be able to convert a sentence to a list of vocabulary word indices and back. At the same time, let's care about padding. We are going to preprocess each sequence from the input (and output ground truth) in such a way that:\n",
        "- it has a predefined length *padded_len*\n",
        "- it is probably cut off or padded with the *padding symbol* '#'\n",
        "- it *always* ends with the *end symbol* '$'\n",
        "\n",
        "We will treat the original characters of the sequence **and the end symbol** as the valid part of the input. We will store *the actual length* of the sequence, which includes the end symbol, but does not include the padding symbols. "
      ]
    },
    {
      "cell_type": "markdown",
      "metadata": {
        "id": "mALElydyqoWl",
        "colab_type": "text"
      },
      "source": [
        " Now you need to implement the function *sentence_to_ids* that does the described job. "
      ]
    },
    {
      "cell_type": "code",
      "metadata": {
        "id": "3Cxc0b95qoWm",
        "colab_type": "code",
        "colab": {}
      },
      "source": [
        "def sentence_to_ids(sentence, word2id, padded_len):\n",
        "    \"\"\" Converts a sequence of symbols to a padded sequence of their ids.\n",
        "    \n",
        "      sentence: a string, input/output sequence of symbols.\n",
        "      word2id: a dict, a mapping from original symbols to ids.\n",
        "      padded_len: an integer, a desirable length of the sequence.\n",
        "\n",
        "      result: a tuple of (a list of ids, an actual length of sentence).\n",
        "    \"\"\"\n",
        "    sent_ids = []\n",
        "    if len(sentence) >= padded_len:\n",
        "      itr = padded_len-1\n",
        "    else:\n",
        "      itr = len(sentence)\n",
        "    for i in range(itr):\n",
        "      sent_ids.append(word2id[sentence[i]])\n",
        "    sent_ids.append(word2id[end_symbol])\n",
        "    sent_len = len(sent_ids)\n",
        "    for i in range(len(sent_ids), padded_len):\n",
        "      sent_ids.append(word2id[padding_symbol]) \n",
        "    \n",
        "    return sent_ids, sent_len"
      ],
      "execution_count": null,
      "outputs": []
    },
    {
      "cell_type": "markdown",
      "metadata": {
        "id": "oriHZtIGqoWp",
        "colab_type": "text"
      },
      "source": [
        "Check that your implementation is correct:"
      ]
    },
    {
      "cell_type": "code",
      "metadata": {
        "id": "iH4XgpC7qoWp",
        "colab_type": "code",
        "colab": {}
      },
      "source": [
        "def test_sentence_to_ids():\n",
        "    sentences = [(\"123+123\", 7), (\"123+123\", 8), (\"123+123\", 10)]\n",
        "    expected_output = [([5, 6, 7, 3, 5, 6, 2], 7), \n",
        "                       ([5, 6, 7, 3, 5, 6, 7, 2], 8), \n",
        "                       ([5, 6, 7, 3, 5, 6, 7, 2, 0, 0], 8)] \n",
        "    for (sentence, padded_len), (sentence_ids, expected_length) in zip(sentences, expected_output):\n",
        "        output, length = sentence_to_ids(sentence, word2id, padded_len)\n",
        "        if output != sentence_ids:\n",
        "            return(\"Convertion of '{}' for padded_len={} to {} is incorrect.\".format(\n",
        "                sentence, padded_len, output))\n",
        "        if length != expected_length:\n",
        "            return(\"Convertion of '{}' for padded_len={} has incorrect actual length {}.\".format(\n",
        "                sentence, padded_len, length))\n",
        "    return(\"Tests passed.\")"
      ],
      "execution_count": null,
      "outputs": []
    },
    {
      "cell_type": "code",
      "metadata": {
        "id": "yM9vD-uUqoWr",
        "colab_type": "code",
        "colab": {
          "base_uri": "https://localhost:8080/",
          "height": 34
        },
        "outputId": "a5bd661e-eceb-4796-871b-282b86edf754"
      },
      "source": [
        "print(test_sentence_to_ids())"
      ],
      "execution_count": null,
      "outputs": [
        {
          "output_type": "stream",
          "text": [
            "Tests passed.\n"
          ],
          "name": "stdout"
        }
      ]
    },
    {
      "cell_type": "markdown",
      "metadata": {
        "id": "SzrXqjETqoWu",
        "colab_type": "text"
      },
      "source": [
        "We also need to be able to get back from indices to symbols:"
      ]
    },
    {
      "cell_type": "code",
      "metadata": {
        "id": "MC3A4WobqoWu",
        "colab_type": "code",
        "colab": {}
      },
      "source": [
        "def ids_to_sentence(ids, id2word):\n",
        "    \"\"\" Converts a sequence of ids to a sequence of symbols.\n",
        "    \n",
        "          ids: a list, indices for the padded sequence.\n",
        "          id2word:  a dict, a mapping from ids to original symbols.\n",
        "\n",
        "          result: a list of symbols.\n",
        "    \"\"\"\n",
        " \n",
        "    return [id2word[i] for i in ids] "
      ],
      "execution_count": null,
      "outputs": []
    },
    {
      "cell_type": "markdown",
      "metadata": {
        "id": "IrVNS0z9qoWx",
        "colab_type": "text"
      },
      "source": [
        "#### Generating batches"
      ]
    },
    {
      "cell_type": "markdown",
      "metadata": {
        "id": "9LB1VEwHqoWx",
        "colab_type": "text"
      },
      "source": [
        "The final step of data preparation is a function that transforms a batch of sentences to a list of lists of indices. "
      ]
    },
    {
      "cell_type": "code",
      "metadata": {
        "id": "G0HaaqkdqoWy",
        "colab_type": "code",
        "colab": {}
      },
      "source": [
        "def batch_to_ids(sentences, word2id, max_len):\n",
        "    \"\"\"Prepares batches of indices. \n",
        "    \n",
        "       Sequences are padded to match the longest sequence in the batch,\n",
        "       if it's longer than max_len, then max_len is used instead.\n",
        "\n",
        "        sentences: a list of strings, original sequences.\n",
        "        word2id: a dict, a mapping from original symbols to ids.\n",
        "        max_len: an integer, max len of sequences allowed.\n",
        "\n",
        "        result: a list of lists of ids, a list of actual lengths.\n",
        "    \"\"\"\n",
        "    \n",
        "    max_len_in_batch = min(max(len(s) for s in sentences) + 1, max_len)\n",
        "    batch_ids, batch_ids_len = [], []\n",
        "    for sentence in sentences:\n",
        "        ids, ids_len = sentence_to_ids(sentence, word2id, max_len_in_batch)\n",
        "        batch_ids.append(ids)\n",
        "        batch_ids_len.append(ids_len)\n",
        "    return batch_ids, batch_ids_len"
      ],
      "execution_count": null,
      "outputs": []
    },
    {
      "cell_type": "markdown",
      "metadata": {
        "id": "9L004WX2qoW0",
        "colab_type": "text"
      },
      "source": [
        "The function *generate_batches* will help to generate batches with defined size from given samples."
      ]
    },
    {
      "cell_type": "code",
      "metadata": {
        "id": "1ebOF00KqoW1",
        "colab_type": "code",
        "colab": {}
      },
      "source": [
        "def generate_batches(samples, batch_size=64):\n",
        "    X, Y = [], []\n",
        "    for i, (x, y) in enumerate(samples, 1):\n",
        "        X.append(x)\n",
        "        Y.append(y)\n",
        "        if i % batch_size == 0:\n",
        "            yield X, Y\n",
        "            X, Y = [], []\n",
        "    if X and Y:\n",
        "        yield X, Y"
      ],
      "execution_count": null,
      "outputs": []
    },
    {
      "cell_type": "markdown",
      "metadata": {
        "id": "qDQRwnDqqoW3",
        "colab_type": "text"
      },
      "source": [
        "To illustrate the result of the implemented functions, run the following cell:"
      ]
    },
    {
      "cell_type": "code",
      "metadata": {
        "id": "IxgEy7OhqoW4",
        "colab_type": "code",
        "colab": {
          "base_uri": "https://localhost:8080/",
          "height": 67
        },
        "outputId": "a825d05b-899e-414e-a912-feb323e1b329"
      },
      "source": [
        "sentences = train_set[0]\n",
        "ids, sent_lens = batch_to_ids(sentences[0], word2id, max_len=10)\n",
        "print('Input:', sentences)\n",
        "print('Ids: {}\\nSentences lengths: {}'.format(ids, sent_lens))"
      ],
      "execution_count": null,
      "outputs": [
        {
          "output_type": "stream",
          "text": [
            "Input: ('5602+6708', '12310')\n",
            "Ids: [[9, 2], [10, 2], [14, 2], [6, 2], [3, 2], [10, 2], [11, 2], [14, 2], [12, 2]]\n",
            "Sentences lengths: [2, 2, 2, 2, 2, 2, 2, 2, 2]\n"
          ],
          "name": "stdout"
        }
      ]
    },
    {
      "cell_type": "markdown",
      "metadata": {
        "id": "72x8vuJAqoW7",
        "colab_type": "text"
      },
      "source": [
        "## Encoder-Decoder architecture\n",
        "\n",
        "Encoder-Decoder is a successful architecture for Seq2Seq tasks with different lengths of input and output sequences. The main idea is to use two recurrent neural networks, where the first neural network *encodes* the input sequence into a real-valued vector and then the second neural network *decodes* this vector into the output sequence. While building the neural network, we will specify some particular characteristics of this architecture."
      ]
    },
    {
      "cell_type": "code",
      "metadata": {
        "id": "8sVPobQhqoW8",
        "colab_type": "code",
        "colab": {}
      },
      "source": [
        "import tensorflow as tf"
      ],
      "execution_count": null,
      "outputs": []
    },
    {
      "cell_type": "markdown",
      "metadata": {
        "id": "sF6XphwwqoW_",
        "colab_type": "text"
      },
      "source": [
        "Let us use TensorFlow building blocks to specify the network architecture."
      ]
    },
    {
      "cell_type": "code",
      "metadata": {
        "id": "0gP32QGFqoW_",
        "colab_type": "code",
        "colab": {}
      },
      "source": [
        "class Seq2SeqModel(object):\n",
        "    pass"
      ],
      "execution_count": null,
      "outputs": []
    },
    {
      "cell_type": "markdown",
      "metadata": {
        "id": "T18xpmpSqoXC",
        "colab_type": "text"
      },
      "source": [
        "First, we need to create [placeholders](https://www.tensorflow.org/api_guides/python/io_ops#Placeholders) to specify what data we are going to feed into the network during the execution time. For this task we will need:\n",
        " - *input_batch* — sequences of sentences (the shape will equal to [batch_size, max_sequence_len_in_batch]);\n",
        " - *input_batch_lengths* — lengths of not padded sequences (the shape equals to [batch_size]);\n",
        " - *ground_truth* — sequences of groundtruth (the shape will equal to [batch_size, max_sequence_len_in_batch]);\n",
        " - *ground_truth_lengths* — lengths of not padded groundtruth sequences (the shape equals to [batch_size]);\n",
        " - *dropout_ph* — dropout keep probability; this placeholder has a predifined value 1;\n",
        " - *learning_rate_ph* — learning rate."
      ]
    },
    {
      "cell_type": "code",
      "metadata": {
        "id": "calvMLpGqoXC",
        "colab_type": "code",
        "colab": {}
      },
      "source": [
        "def declare_placeholders(self):\n",
        "    \"\"\"Specifies placeholders for the model.\"\"\"\n",
        "    \n",
        "    # Placeholders for input and its actual lengths.\n",
        "    self.input_batch = tf.placeholder(shape=(None, None), dtype=tf.int32, name='input_batch')\n",
        "    self.input_batch_lengths = tf.placeholder(shape=(None, ), dtype=tf.int32, name='input_batch_lengths')\n",
        "    \n",
        "    # Placeholders for groundtruth and its actual lengths.\n",
        "    self.ground_truth = tf.placeholder(shape=(None, None), dtype=tf.int32, name='ground_truth')\n",
        "    self.ground_truth_lengths = tf.placeholder(shape=(None, ), dtype=tf.int32, name='ground_truth_lengths')\n",
        "        \n",
        "    self.dropout_ph = tf.placeholder_with_default(tf.cast(1.0, tf.float32), shape=[])\n",
        "    self.learning_rate_ph =  tf.placeholder(dtype=tf.float32, shape=[])"
      ],
      "execution_count": null,
      "outputs": []
    },
    {
      "cell_type": "code",
      "metadata": {
        "id": "9bPJ7pP9qoXF",
        "colab_type": "code",
        "colab": {}
      },
      "source": [
        "Seq2SeqModel.__declare_placeholders = classmethod(declare_placeholders)"
      ],
      "execution_count": null,
      "outputs": []
    },
    {
      "cell_type": "markdown",
      "metadata": {
        "id": "e0Uf-i52qoXI",
        "colab_type": "text"
      },
      "source": [
        "Now, let us specify the layers of the neural network. First, we need to prepare an embedding matrix. Since we use the same vocabulary for input and output, we need only one such matrix. For tasks with different vocabularies there would be multiple embedding layers.\n",
        "- Create embeddings matrix with [tf.Variable](https://www.tensorflow.org/api_docs/python/tf/Variable). Specify its name, type (tf.float32), and initialize with random values.\n",
        "- Perform [embeddings lookup](https://www.tensorflow.org/api_docs/python/tf/nn/embedding_lookup) for a given input batch."
      ]
    },
    {
      "cell_type": "code",
      "metadata": {
        "id": "wG6Um-POqoXJ",
        "colab_type": "code",
        "colab": {}
      },
      "source": [
        "def create_embeddings(self, vocab_size, embeddings_size):\n",
        "    \"\"\"Specifies embeddings layer and embeds an input batch.\"\"\"\n",
        "     \n",
        "    random_initializer = tf.random_uniform((vocab_size, embeddings_size), -1.0, 1.0)\n",
        "    self.embeddings = tf.Variable(initial_value=random_initializer, dtype=tf.float32, name=\"embeddings\")\n",
        "    \n",
        "    # Perform embeddings lookup for self.input_batch. \n",
        "    self.input_batch_embedded = tf.nn.embedding_lookup(self.embeddings, self.input_batch)"
      ],
      "execution_count": null,
      "outputs": []
    },
    {
      "cell_type": "code",
      "metadata": {
        "id": "LC38RLoOqoXL",
        "colab_type": "code",
        "colab": {}
      },
      "source": [
        "Seq2SeqModel.__create_embeddings = classmethod(create_embeddings)"
      ],
      "execution_count": null,
      "outputs": []
    },
    {
      "cell_type": "markdown",
      "metadata": {
        "id": "bkV-PSktqoXO",
        "colab_type": "text"
      },
      "source": [
        "#### Encoder\n",
        "\n",
        "The first RNN of the current architecture is called an *encoder* and serves for encoding an input sequence to a real-valued vector. Input of this RNN is an embedded input batch. Since sentences in the same batch could have different actual lengths, we also provide input lengths to avoid unnecessary computations. The final encoder state will be passed to the second RNN (decoder), which we will create soon. \n",
        "\n",
        "- TensorFlow provides a number of [RNN cells](https://www.tensorflow.org/api_guides/python/contrib.rnn#Core_RNN_Cells_for_use_with_TensorFlow_s_core_RNN_methods) ready for use. We suggest that you use [GRU cell](https://www.tensorflow.org/api_docs/python/tf/contrib/rnn/GRUCell), but you can also experiment with other types. \n",
        "- Wrap your cells with [DropoutWrapper](https://www.tensorflow.org/api_docs/python/tf/contrib/rnn/DropoutWrapper). Dropout is an important regularization technique for neural networks. Specify input keep probability using the dropout placeholder that we created before.\n",
        "- Combine the defined encoder cells with [Dynamic RNN](https://www.tensorflow.org/api_docs/python/tf/nn/dynamic_rnn). Use the embedded input batches and their lengths here.\n",
        "- Use *dtype=tf.float32* everywhere."
      ]
    },
    {
      "cell_type": "code",
      "metadata": {
        "id": "1N4GeerxqoXO",
        "colab_type": "code",
        "colab": {}
      },
      "source": [
        "def build_encoder(self, hidden_size):\n",
        "    \"\"\"Specifies encoder architecture and computes its output.\"\"\"\n",
        "    \n",
        "    # Create GRUCell with dropout.\n",
        "    encoder_cell = tf.nn.rnn_cell.GRUCell(hidden_size, dtype=tf.float32)\n",
        "    encoder_cell = tf.nn.rnn_cell.DropoutWrapper(encoder_cell, \n",
        "                                                 input_keep_prob=self.dropout_ph)\n",
        "    \n",
        "    # Create RNN with the predefined cell.\n",
        "    _, self.final_encoder_state = tf.nn.dynamic_rnn(encoder_cell,\n",
        "                                                    self.input_batch_embedded,\n",
        "                                                    sequence_length=self.input_batch_lengths,\n",
        "                                                    dtype=tf.float32)"
      ],
      "execution_count": null,
      "outputs": []
    },
    {
      "cell_type": "code",
      "metadata": {
        "id": "VB9EJgv0qoXR",
        "colab_type": "code",
        "colab": {}
      },
      "source": [
        "Seq2SeqModel.__build_encoder = classmethod(build_encoder)"
      ],
      "execution_count": null,
      "outputs": []
    },
    {
      "cell_type": "markdown",
      "metadata": {
        "id": "eRwz_mq6qoXU",
        "colab_type": "text"
      },
      "source": [
        "#### Decoder\n",
        "\n",
        "The second RNN is called a *decoder* and serves for generating the output sequence. In the simple seq2seq arcitecture, the input sequence is provided to the decoder only as the final state of the encoder. Obviously, it is a bottleneck and [Attention techniques](https://www.tensorflow.org/tutorials/seq2seq#background_on_the_attention_mechanism) can help to overcome it. So far, we do not need them to make our calculator work, but this would be a necessary ingredient for more advanced tasks. \n",
        "\n",
        "During training, decoder also uses information about the true output. It is feeded in as input symbol by symbol. However, during the prediction stage (which is called *inference* in this architecture), the decoder can only use its own generated output from the previous step to feed it in at the next step. Because of this difference (*training* vs *inference*), we will create two distinct instances, which will serve for the described scenarios.\n",
        "\n",
        "The picture below illustrates the point. It also shows our work with the special characters, e.g. look how the start symbol `^` is used. The transparent parts are ignored. In decoder, it is masked out in the loss computation. In encoder, the green state is considered as final and passed to the decoder. "
      ]
    },
    {
      "cell_type": "markdown",
      "metadata": {
        "id": "CYRwT--jqoXU",
        "colab_type": "text"
      },
      "source": [
        "<img src=\"https://github.com/hse-aml/natural-language-processing/blob/master/week4/encoder-decoder-pic.png?raw=1\" style=\"width: 500px;\">"
      ]
    },
    {
      "cell_type": "markdown",
      "metadata": {
        "id": "X5DB72XwqoXU",
        "colab_type": "text"
      },
      "source": [
        "Now, it's time to implement the decoder:\n",
        " - First, we should create two [helpers](https://www.tensorflow.org/api_guides/python/contrib.seq2seq#Dynamic_Decoding). These classes help to determine the behaviour of the decoder. During the training time, we will use [TrainingHelper](https://www.tensorflow.org/api_docs/python/tf/contrib/seq2seq/TrainingHelper). For the inference we recommend to use [GreedyEmbeddingHelper](https://www.tensorflow.org/api_docs/python/tf/contrib/seq2seq/GreedyEmbeddingHelper).\n",
        " - To share all parameters during training and inference, we use one scope and set the flag 'reuse' to True at inference time. You might be interested to know more about how [variable scopes](https://www.tensorflow.org/programmers_guide/variables) work in TF. \n",
        " - To create the decoder itself, we will use [BasicDecoder](https://www.tensorflow.org/api_docs/python/tf/contrib/seq2seq/BasicDecoder) class. As previously, you should choose some RNN cell, e.g. GRU cell. To turn hidden states into logits, we will need a projection layer. One of the simple solutions is using [OutputProjectionWrapper](https://www.tensorflow.org/api_docs/python/tf/contrib/rnn/OutputProjectionWrapper).\n",
        " - For getting the predictions, it will be convinient to use [dynamic_decode](https://www.tensorflow.org/api_docs/python/tf/contrib/seq2seq/dynamic_decode). This function uses the provided decoder to perform decoding."
      ]
    },
    {
      "cell_type": "code",
      "metadata": {
        "id": "QlAy5JFeqoXV",
        "colab_type": "code",
        "colab": {}
      },
      "source": [
        "def build_decoder(self, hidden_size, vocab_size, max_iter, start_symbol_id, end_symbol_id):\n",
        "    \"\"\"Specifies decoder architecture and computes the output.\n",
        "    \n",
        "        Uses different helpers:\n",
        "          - for train: feeding ground truth\n",
        "          - for inference: feeding generated output\n",
        "\n",
        "        As a result, self.train_outputs and self.infer_outputs are created. \n",
        "        Each of them contains two fields:\n",
        "          rnn_output (predicted logits)\n",
        "          sample_id (predictions).\n",
        "\n",
        "    \"\"\"\n",
        "    \n",
        "    # Use start symbols as the decoder inputs at the first time step.\n",
        "    batch_size = tf.shape(self.input_batch)[0]\n",
        "    start_tokens = tf.fill([batch_size], start_symbol_id)\n",
        "    ground_truth_as_input = tf.concat([tf.expand_dims(start_tokens, 1), self.ground_truth], 1)\n",
        "    \n",
        "    # Use the embedding layer defined before to lookup embedings for ground_truth_as_input. \n",
        "    self.ground_truth_embedded = tf.nn.embedding_lookup(self.embeddings, ground_truth_as_input)\n",
        "     \n",
        "    # Create TrainingHelper for the train stage.\n",
        "    train_helper = tf.contrib.seq2seq.TrainingHelper(self.ground_truth_embedded, \n",
        "                                                     self.ground_truth_lengths)\n",
        "    \n",
        "    # Create GreedyEmbeddingHelper for the inference stage.\n",
        "    # You should provide the embedding layer, start_tokens and index of the end symbol.\n",
        "    infer_helper = tf.contrib.seq2seq.GreedyEmbeddingHelper(embedding=self.embeddings,\n",
        "                                                            start_tokens=start_tokens, \n",
        "                                                            end_token=end_symbol_id)\n",
        "    \n",
        "  \n",
        "    def decode(helper, scope, reuse=None):\n",
        "        \"\"\"Creates decoder and return the results of the decoding with a given helper.\"\"\"\n",
        "        \n",
        "        with tf.variable_scope(scope, reuse=reuse):\n",
        "            # Create GRUCell with dropout. Do not forget to set the reuse flag properly.\n",
        "            decoder_cell = tf.nn.rnn_cell.GRUCell(num_units=hidden_size, reuse=reuse, dtype=tf.float32)\n",
        "            decoder_cell = tf.nn.rnn_cell.DropoutWrapper(decoder_cell, \n",
        "                                                 input_keep_prob=self.dropout_ph)\n",
        "            \n",
        "            # Create a projection wrapper.\n",
        "            decoder_cell = tf.contrib.rnn.OutputProjectionWrapper(decoder_cell, vocab_size, reuse=reuse)\n",
        "            \n",
        "            # Create BasicDecoder, pass the defined cell, a helper, and initial state.\n",
        "            # The initial state should be equal to the final state of the encoder!\n",
        "            decoder = tf.contrib.seq2seq.BasicDecoder(cell=decoder_cell,\n",
        "                                                      helper=helper,\n",
        "                                                      initial_state=self.final_encoder_state)\n",
        "            \n",
        "            # The first returning argument of dynamic_decode contains two fields:\n",
        "            #   rnn_output (predicted logits)\n",
        "            #   sample_id (predictions)\n",
        "            outputs, _, _ = tf.contrib.seq2seq.dynamic_decode(decoder=decoder, maximum_iterations=max_iter, \n",
        "                                                              output_time_major=False, impute_finished=True)\n",
        "\n",
        "            return outputs\n",
        "        \n",
        "    self.train_outputs = decode(train_helper, 'decode')\n",
        "    self.infer_outputs = decode(infer_helper, 'decode', reuse=True)"
      ],
      "execution_count": null,
      "outputs": []
    },
    {
      "cell_type": "code",
      "metadata": {
        "id": "M6smlB5uqoXY",
        "colab_type": "code",
        "colab": {}
      },
      "source": [
        "Seq2SeqModel.__build_decoder = classmethod(build_decoder)"
      ],
      "execution_count": null,
      "outputs": []
    },
    {
      "cell_type": "markdown",
      "metadata": {
        "id": "c_OtaFMfqoXa",
        "colab_type": "text"
      },
      "source": [
        "In this task we will use [sequence_loss](https://www.tensorflow.org/api_docs/python/tf/contrib/seq2seq/sequence_loss), which is a weighted cross-entropy loss for a sequence of logits. Take a moment to understand, what is your train logits and targets. Also note, that we do not want to take into account loss terms coming from padding symbols, so we will mask them out using weights.  "
      ]
    },
    {
      "cell_type": "code",
      "metadata": {
        "id": "lplQf2kuqoXa",
        "colab_type": "code",
        "colab": {}
      },
      "source": [
        "def compute_loss(self):\n",
        "    \"\"\"Computes sequence loss (masked cross-entopy loss with logits).\"\"\"\n",
        "    \n",
        "    weights = tf.cast(tf.sequence_mask(self.ground_truth_lengths), dtype=tf.float32)\n",
        "    \n",
        "    self.loss = tf.contrib.seq2seq.sequence_loss(logits=self.train_outputs.rnn_output, targets=self.ground_truth, weights=weights)"
      ],
      "execution_count": null,
      "outputs": []
    },
    {
      "cell_type": "code",
      "metadata": {
        "id": "95whgX_uqoXc",
        "colab_type": "code",
        "colab": {}
      },
      "source": [
        "Seq2SeqModel.__compute_loss = classmethod(compute_loss)"
      ],
      "execution_count": null,
      "outputs": []
    },
    {
      "cell_type": "markdown",
      "metadata": {
        "id": "f8NRo_afqoXd",
        "colab_type": "text"
      },
      "source": [
        "The last thing to specify is the optimization of the defined loss. \n",
        "We suggest that you use [optimize_loss](https://www.tensorflow.org/api_docs/python/tf/contrib/layers/optimize_loss) with Adam optimizer and a learning rate from the corresponding placeholder. You might also need to pass global step (e.g. as tf.train.get_global_step()) and clip gradients by 1.0."
      ]
    },
    {
      "cell_type": "code",
      "metadata": {
        "id": "yv9tpYBFqoXe",
        "colab_type": "code",
        "colab": {}
      },
      "source": [
        "def perform_optimization(self):\n",
        "    \"\"\"Specifies train_op that optimizes self.loss.\"\"\"\n",
        "    \n",
        "    self.train_op = tf.contrib.layers.optimize_loss(loss=self.loss,\n",
        "                                                    global_step=tf.train.get_global_step(),\n",
        "                                                    learning_rate=self.learning_rate_ph,\n",
        "                                                    optimizer='Adam',\n",
        "                                                    clip_gradients=1.0)"
      ],
      "execution_count": null,
      "outputs": []
    },
    {
      "cell_type": "code",
      "metadata": {
        "id": "I6vWjpapqoXg",
        "colab_type": "code",
        "colab": {}
      },
      "source": [
        "Seq2SeqModel.__perform_optimization = classmethod(perform_optimization)"
      ],
      "execution_count": null,
      "outputs": []
    },
    {
      "cell_type": "markdown",
      "metadata": {
        "id": "WUQW7fRgqoXi",
        "colab_type": "text"
      },
      "source": [
        "Congratulations! You have specified all the parts of your network. You may have noticed, that we didn't deal with any real data yet, so what you have written is just recipies on how the network should function.\n",
        "Now we will put them to the constructor of our Seq2SeqModel class to use it in the next section. "
      ]
    },
    {
      "cell_type": "code",
      "metadata": {
        "id": "qGfO2MwIqoXi",
        "colab_type": "code",
        "colab": {}
      },
      "source": [
        "def init_model(self, vocab_size, embeddings_size, hidden_size, \n",
        "               max_iter, start_symbol_id, end_symbol_id, padding_symbol_id):\n",
        "    \n",
        "    self.__declare_placeholders()\n",
        "    self.__create_embeddings(vocab_size, embeddings_size)\n",
        "    self.__build_encoder(hidden_size)\n",
        "    self.__build_decoder(hidden_size, vocab_size, max_iter, start_symbol_id, end_symbol_id)\n",
        "    \n",
        "    # Compute loss and back-propagate.\n",
        "    self.__compute_loss()\n",
        "    self.__perform_optimization()\n",
        "    \n",
        "    # Get predictions for evaluation.\n",
        "    self.train_predictions = self.train_outputs.sample_id\n",
        "    self.infer_predictions = self.infer_outputs.sample_id"
      ],
      "execution_count": null,
      "outputs": []
    },
    {
      "cell_type": "code",
      "metadata": {
        "id": "nthOw6xIqoXk",
        "colab_type": "code",
        "colab": {}
      },
      "source": [
        "Seq2SeqModel.__init__ = classmethod(init_model)"
      ],
      "execution_count": null,
      "outputs": []
    },
    {
      "cell_type": "markdown",
      "metadata": {
        "id": "5Y9bazFPqoXl",
        "colab_type": "text"
      },
      "source": [
        "## Train the network and predict output\n",
        "\n",
        "[Session.run](https://www.tensorflow.org/api_docs/python/tf/Session#run) is a point which initiates computations in the graph that we have defined. To train the network, we need to compute *self.train_op*. To predict output, we just need to compute *self.infer_predictions*. In any case, we need to feed actual data through the placeholders that we defined above. "
      ]
    },
    {
      "cell_type": "code",
      "metadata": {
        "id": "o77y0qHnqoXl",
        "colab_type": "code",
        "colab": {}
      },
      "source": [
        "def train_on_batch(self, session, X, X_seq_len, Y, Y_seq_len, learning_rate, dropout_keep_probability):\n",
        "    feed_dict = {\n",
        "            self.input_batch: X,\n",
        "            self.input_batch_lengths: X_seq_len,\n",
        "            self.ground_truth: Y,\n",
        "            self.ground_truth_lengths: Y_seq_len,\n",
        "            self.learning_rate_ph: learning_rate,\n",
        "            self.dropout_ph: dropout_keep_probability\n",
        "        }\n",
        "    pred, loss, _ = session.run([\n",
        "            self.train_predictions,\n",
        "            self.loss,\n",
        "            self.train_op], feed_dict=feed_dict)\n",
        "    return pred, loss"
      ],
      "execution_count": null,
      "outputs": []
    },
    {
      "cell_type": "code",
      "metadata": {
        "id": "_jqzoXmrqoXp",
        "colab_type": "code",
        "colab": {}
      },
      "source": [
        "Seq2SeqModel.train_on_batch = classmethod(train_on_batch)"
      ],
      "execution_count": null,
      "outputs": []
    },
    {
      "cell_type": "markdown",
      "metadata": {
        "id": "_1wB_X2eqoXs",
        "colab_type": "text"
      },
      "source": [
        "We implemented two prediction functions: *predict_for_batch* and *predict_for_batch_with_loss*. The first one allows only to predict output for some input sequence, while the second one could compute loss because we provide also ground truth values. Both these functions might be useful since the first one could be used for predicting only, and the second one is helpful for validating results on not-training data during the training."
      ]
    },
    {
      "cell_type": "code",
      "metadata": {
        "id": "6aPA6ohOqoXs",
        "colab_type": "code",
        "colab": {}
      },
      "source": [
        "def predict_for_batch(self, session, X, X_seq_len):\n",
        "    feed_dict = {self.input_batch: X,\n",
        "                 self.input_batch_lengths: X_seq_len}\n",
        "    pred = session.run([\n",
        "            self.infer_predictions\n",
        "        ], feed_dict=feed_dict)[0]\n",
        "    return pred\n",
        "\n",
        "def predict_for_batch_with_loss(self, session, X, X_seq_len, Y, Y_seq_len):\n",
        "    feed_dict = {self.input_batch: X,\n",
        "                 self.input_batch_lengths: X_seq_len,\n",
        "                 self.ground_truth: Y,\n",
        "                 self.ground_truth_lengths: Y_seq_len}\n",
        "    pred, loss = session.run([\n",
        "            self.infer_predictions,\n",
        "            self.loss,\n",
        "        ], feed_dict=feed_dict)\n",
        "    return pred, loss"
      ],
      "execution_count": null,
      "outputs": []
    },
    {
      "cell_type": "code",
      "metadata": {
        "id": "3XkRVAZIqoXv",
        "colab_type": "code",
        "colab": {}
      },
      "source": [
        "Seq2SeqModel.predict_for_batch = classmethod(predict_for_batch)\n",
        "Seq2SeqModel.predict_for_batch_with_loss = classmethod(predict_for_batch_with_loss)"
      ],
      "execution_count": null,
      "outputs": []
    },
    {
      "cell_type": "markdown",
      "metadata": {
        "id": "9cSB2szJqoXx",
        "colab_type": "text"
      },
      "source": [
        "## Run your experiment\n",
        "\n",
        "Create *Seq2SeqModel* model with the following parameters:\n",
        " - *vocab_size* — number of tokens;\n",
        " - *embeddings_size* — dimension of embeddings, recommended value: 20;\n",
        " - *max_iter* — maximum number of steps in decoder, recommended value: 7;\n",
        " - *hidden_size* — size of hidden layers for RNN, recommended value: 512;\n",
        " - *start_symbol_id* — an index of the start token (`^`).\n",
        " - *end_symbol_id* — an index of the end token (`$`).\n",
        " - *padding_symbol_id* — an index of the padding token (`#`).\n",
        "\n",
        "Set hyperparameters. You might want to start with the following values and see how it works:\n",
        "- *batch_size*: 128;\n",
        "- at least 10 epochs;\n",
        "- value of *learning_rate*: 0.001\n",
        "- *dropout_keep_probability* equals to 0.5 for training (typical values for dropout probability are ranging from 0.1 to 1.0); larger values correspond smaler number of dropout units;\n",
        "- *max_len*: 20."
      ]
    },
    {
      "cell_type": "code",
      "metadata": {
        "id": "XbeITh05qoXy",
        "colab_type": "code",
        "colab": {}
      },
      "source": [
        "tf.reset_default_graph()\n",
        "\n",
        "model = Seq2SeqModel(vocab_size=len(word2id),\n",
        "                     embeddings_size=20,\n",
        "                     hidden_size=512,\n",
        "                     max_iter=7,\n",
        "                     start_symbol_id=word2id[start_symbol],\n",
        "                     end_symbol_id=word2id[end_symbol],\n",
        "                     padding_symbol_id=word2id[padding_symbol])\n",
        "\n",
        "batch_size = 128\n",
        "n_epochs = 10\n",
        "learning_rate = 0.001\n",
        "dropout_keep_probability = 0.5\n",
        "max_len = 20\n",
        "\n",
        "n_step = int(len(train_set) / batch_size)"
      ],
      "execution_count": null,
      "outputs": []
    },
    {
      "cell_type": "markdown",
      "metadata": {
        "id": "HDT-acwqqoX0",
        "colab_type": "text"
      },
      "source": [
        "Finally, we are ready to run the training! A good indicator that everything works fine is decreasing loss during the training. You should account on the loss value equal to approximately 2.7 at the beginning of the training and near 1 after the 10th epoch."
      ]
    },
    {
      "cell_type": "code",
      "metadata": {
        "scrolled": true,
        "id": "SDJLp7-HqoX0",
        "colab_type": "code",
        "colab": {
          "base_uri": "https://localhost:8080/",
          "height": 1000
        },
        "outputId": "63f022aa-efe0-40de-c0b1-779742c9d610"
      },
      "source": [
        "import re\n",
        "session = tf.Session()\n",
        "session.run(tf.global_variables_initializer())\n",
        "            \n",
        "invalid_number_prediction_counts = []\n",
        "all_model_predictions = []\n",
        "all_ground_truth = []\n",
        "\n",
        "print('Start training... \\n')\n",
        "for epoch in range(n_epochs):  \n",
        "    random.shuffle(train_set)\n",
        "    random.shuffle(test_set)\n",
        "    \n",
        "    print('Train: epoch', epoch + 1)\n",
        "    for n_iter, (X_batch, Y_batch) in enumerate(generate_batches(train_set, batch_size=batch_size)):\n",
        "        # prepare the data (X_batch and Y_batch) for training\n",
        "        # using function batch_to_ids\n",
        "        X_train, X_train_len = batch_to_ids(X_batch, word2id, max_len)\n",
        "        Y_train, Y_train_len = batch_to_ids(Y_batch, word2id, max_len)\n",
        "\n",
        "        predictions, loss = model.train_on_batch(session=session,\n",
        "                                           X=X_train,\n",
        "                                           X_seq_len=X_train_len,\n",
        "                                           Y=Y_train,\n",
        "                                           Y_seq_len=Y_train_len,\n",
        "                                           learning_rate=learning_rate,\n",
        "                                           dropout_keep_probability=dropout_keep_probability)\n",
        "        # print(\"abc\\n\\n\", predictions[0].shape)\n",
        "        # break\n",
        "        if n_iter % 200 == 0:\n",
        "            print(\"Epoch: [%d/%d], step: [%d/%d], loss: %f\" % (epoch + 1, n_epochs, n_iter + 1, n_step, loss)) \n",
        "\n",
        "    print(\"1st stage completed\")\n",
        "    X_sent, Y_sent = next(generate_batches(test_set, batch_size=batch_size))\n",
        "    # prepare test data (X_sent and Y_sent) for predicting \n",
        "    # quality and computing value of the loss function\n",
        "    # using function batch_to_ids\n",
        "    X, X_test_len = batch_to_ids(X_sent, word2id, max_len)\n",
        "    Y, Y_test_len = batch_to_ids(Y_sent, word2id, max_len)\n",
        "    \n",
        "    predictions, loss = model.predict_for_batch_with_loss(session=session,\n",
        "                                                    X=X,\n",
        "                                                    X_seq_len=X_test_len,\n",
        "                                                    Y=Y,\n",
        "                                                    Y_seq_len=Y_test_len)\n",
        "    print('Test: epoch', epoch + 1, 'loss:', loss,)\n",
        "    for x, y, p  in list(zip(X, Y, predictions))[:3]:\n",
        "        print('X:',''.join(ids_to_sentence(x, id2word)))\n",
        "        print('Y:',''.join(ids_to_sentence(y, id2word)))\n",
        "        print('O:',''.join(ids_to_sentence(p, id2word)))\n",
        "        print('')\n",
        "\n",
        "    print(\"2nd stage completed\")\n",
        "    model_predictions = []\n",
        "    ground_truth = []\n",
        "    invalid_number_prediction_count = 0\n",
        "    # For the whole test set calculate ground-truth values (as integer numbers)\n",
        "    # and prediction values (also as integers) to calculate metrics.\n",
        "    # If generated by model number is not correct (e.g. '1-1'), \n",
        "    # increase invalid_number_prediction_count and don't append this and corresponding\n",
        "    # ground-truth value to the arrays.\n",
        "    for X_batch, Y_batch in generate_batches(test_set, batch_size=batch_size):\n",
        "        X_test, X_test_len = batch_to_ids(X_batch, word2id, max_len)\n",
        "        Y_test, Y_test_len = batch_to_ids(Y_batch, word2id, max_len)\n",
        "        predictions, l = model.predict_for_batch_with_loss(session=session,\n",
        "                                                    X=X_test,\n",
        "                                                    X_seq_len=X_test_len,\n",
        "                                                    Y=Y_test,\n",
        "                                                    Y_seq_len=Y_test_len)\n",
        "        for i in range(len(predictions)):\n",
        "          p = ''.join(ids_to_sentence(predictions[i], id2word))\n",
        "          if bool(re.match('-?[0-9]+[$][#]*', str(p))):\n",
        "            model_predictions.append(int(re.sub('[^-+0-9]', '', str(p))))\n",
        "            ground_truth.append(int(Y_batch[i]))\n",
        "          else:\n",
        "            invalid_number_prediction_count += 1\n",
        "\n",
        "    all_model_predictions.append(model_predictions)\n",
        "    all_ground_truth.append(ground_truth)\n",
        "    invalid_number_prediction_counts.append(invalid_number_prediction_count)\n",
        "            \n",
        "print('\\n...training finished.')"
      ],
      "execution_count": null,
      "outputs": [
        {
          "output_type": "stream",
          "text": [
            "Start training... \n",
            "\n",
            "Train: epoch 1\n",
            "Epoch: [1/10], step: [1/625], loss: 2.705605\n",
            "Epoch: [1/10], step: [201/625], loss: 1.878375\n",
            "Epoch: [1/10], step: [401/625], loss: 1.714105\n",
            "Epoch: [1/10], step: [601/625], loss: 1.636179\n",
            "1st stage completed\n",
            "Test: epoch 1 loss: 1.5597564\n",
            "X: 1659+5271$\n",
            "Y: 6930$#\n",
            "O: 7400$#\n",
            "\n",
            "X: 8833-6115$\n",
            "Y: 2718$#\n",
            "O: 2446$#\n",
            "\n",
            "X: 9655+2604$\n",
            "Y: 12259$\n",
            "O: 11436$\n",
            "\n",
            "2nd stage completed\n",
            "Train: epoch 2\n",
            "Epoch: [2/10], step: [1/625], loss: 1.614729\n",
            "Epoch: [2/10], step: [201/625], loss: 1.553426\n",
            "Epoch: [2/10], step: [401/625], loss: 1.515904\n",
            "Epoch: [2/10], step: [601/625], loss: 1.481761\n",
            "1st stage completed\n",
            "Test: epoch 2 loss: 1.4256272\n",
            "X: 5955+7778$\n",
            "Y: 13733$\n",
            "O: 13511$\n",
            "\n",
            "X: 4751+2159$\n",
            "Y: 6910$#\n",
            "O: 6685$#\n",
            "\n",
            "X: 7720-6637$\n",
            "Y: 1083$#\n",
            "O: 1185$#\n",
            "\n",
            "2nd stage completed\n",
            "Train: epoch 3\n",
            "Epoch: [3/10], step: [1/625], loss: 1.449047\n",
            "Epoch: [3/10], step: [201/625], loss: 1.414091\n",
            "Epoch: [3/10], step: [401/625], loss: 1.388843\n",
            "Epoch: [3/10], step: [601/625], loss: 1.377798\n",
            "1st stage completed\n",
            "Test: epoch 3 loss: 1.3134872\n",
            "X: 8769-4558$\n",
            "Y: 4211$#\n",
            "O: 4900$#\n",
            "\n",
            "X: 4864-347$#\n",
            "Y: 4517$#\n",
            "O: 4606$#\n",
            "\n",
            "X: 268+8047$#\n",
            "Y: 8315$#\n",
            "O: 8200$#\n",
            "\n",
            "2nd stage completed\n",
            "Train: epoch 4\n",
            "Epoch: [4/10], step: [1/625], loss: 1.387110\n",
            "Epoch: [4/10], step: [201/625], loss: 1.374146\n",
            "Epoch: [4/10], step: [401/625], loss: 1.371054\n",
            "Epoch: [4/10], step: [601/625], loss: 1.332061\n",
            "1st stage completed\n",
            "Test: epoch 4 loss: 1.3049912\n",
            "X: 9155-7669$\n",
            "Y: 1486$#\n",
            "O: 1733$#\n",
            "\n",
            "X: 4755+6726$\n",
            "Y: 11481$\n",
            "O: 11310$\n",
            "\n",
            "X: 1781+6246$\n",
            "Y: 8027$#\n",
            "O: 8092$#\n",
            "\n",
            "2nd stage completed\n",
            "Train: epoch 5\n",
            "Epoch: [5/10], step: [1/625], loss: 1.313276\n",
            "Epoch: [5/10], step: [201/625], loss: 1.329604\n",
            "Epoch: [5/10], step: [401/625], loss: 1.355125\n",
            "Epoch: [5/10], step: [601/625], loss: 1.311814\n",
            "1st stage completed\n",
            "Test: epoch 5 loss: 1.268379\n",
            "X: 2953+9569$\n",
            "Y: 12522$\n",
            "O: 12500$\n",
            "\n",
            "X: 547-5564$#\n",
            "Y: -5017$\n",
            "O: -4900$\n",
            "\n",
            "X: 2741+4329$\n",
            "Y: 7070$#\n",
            "O: 7000$#\n",
            "\n",
            "2nd stage completed\n",
            "Train: epoch 6\n",
            "Epoch: [6/10], step: [1/625], loss: 1.322198\n",
            "Epoch: [6/10], step: [201/625], loss: 1.294985\n",
            "Epoch: [6/10], step: [401/625], loss: 1.258471\n",
            "Epoch: [6/10], step: [601/625], loss: 1.258050\n",
            "1st stage completed\n",
            "Test: epoch 6 loss: 1.2210855\n",
            "X: 2908-9970$\n",
            "Y: -7062$\n",
            "O: -7001$\n",
            "\n",
            "X: 5406+5434$\n",
            "Y: 10840$\n",
            "O: 10775$\n",
            "\n",
            "X: 4223+4683$\n",
            "Y: 8906$#\n",
            "O: 8060$#\n",
            "\n",
            "2nd stage completed\n",
            "Train: epoch 7\n",
            "Epoch: [7/10], step: [1/625], loss: 1.236185\n",
            "Epoch: [7/10], step: [201/625], loss: 1.220721\n",
            "Epoch: [7/10], step: [401/625], loss: 1.223271\n",
            "Epoch: [7/10], step: [601/625], loss: 1.151030\n",
            "1st stage completed\n",
            "Test: epoch 7 loss: 1.0856066\n",
            "X: 5113+6994$\n",
            "Y: 12107$\n",
            "O: 12109$\n",
            "\n",
            "X: 4576-2310$\n",
            "Y: 2266$#\n",
            "O: 2263$#\n",
            "\n",
            "X: 3372+3379$\n",
            "Y: 6751$#\n",
            "O: 6770$#\n",
            "\n",
            "2nd stage completed\n",
            "Train: epoch 8\n",
            "Epoch: [8/10], step: [1/625], loss: 1.108757\n",
            "Epoch: [8/10], step: [201/625], loss: 1.100135\n",
            "Epoch: [8/10], step: [401/625], loss: 1.070728\n",
            "Epoch: [8/10], step: [601/625], loss: 1.052175\n",
            "1st stage completed\n",
            "Test: epoch 8 loss: 0.99349356\n",
            "X: 8266-5483$\n",
            "Y: 2783$#\n",
            "O: 2819$#\n",
            "\n",
            "X: 8092+645$#\n",
            "Y: 8737$#\n",
            "O: 8729$#\n",
            "\n",
            "X: 3778-685$#\n",
            "Y: 3093$#\n",
            "O: 3063$#\n",
            "\n",
            "2nd stage completed\n",
            "Train: epoch 9\n",
            "Epoch: [9/10], step: [1/625], loss: 1.026882\n",
            "Epoch: [9/10], step: [201/625], loss: 1.056060\n",
            "Epoch: [9/10], step: [401/625], loss: 0.969866\n",
            "Epoch: [9/10], step: [601/625], loss: 1.018854\n",
            "1st stage completed\n",
            "Test: epoch 9 loss: 0.9617019\n",
            "X: 6788+4415$\n",
            "Y: 11203$\n",
            "O: 11143$\n",
            "\n",
            "X: 6885+6623$\n",
            "Y: 13508$\n",
            "O: 13481$\n",
            "\n",
            "X: 6842-7575$\n",
            "Y: -733$#\n",
            "O: -755$#\n",
            "\n",
            "2nd stage completed\n",
            "Train: epoch 10\n",
            "Epoch: [10/10], step: [1/625], loss: 1.031673\n",
            "Epoch: [10/10], step: [201/625], loss: 1.024865\n",
            "Epoch: [10/10], step: [401/625], loss: 0.957814\n",
            "Epoch: [10/10], step: [601/625], loss: 0.977231\n",
            "1st stage completed\n",
            "Test: epoch 10 loss: 0.90986216\n",
            "X: 8474-183$#\n",
            "Y: 8291$#\n",
            "O: 8290$#\n",
            "\n",
            "X: 4024+5844$\n",
            "Y: 9868$#\n",
            "O: 9843$#\n",
            "\n",
            "X: 7366-6311$\n",
            "Y: 1055$#\n",
            "O: 1039$#\n",
            "\n",
            "2nd stage completed\n",
            "\n",
            "...training finished.\n"
          ],
          "name": "stdout"
        }
      ]
    },
    {
      "cell_type": "markdown",
      "metadata": {
        "id": "rDOohtdMqoX2",
        "colab_type": "text"
      },
      "source": [
        "## Evaluate results\n",
        "\n",
        "Because our task is simple and the output is straight-forward, we will use [MAE](https://en.wikipedia.org/wiki/Mean_absolute_error) metric to evaluate the trained model during the epochs. Compute the value of the metric for the output from each epoch."
      ]
    },
    {
      "cell_type": "code",
      "metadata": {
        "id": "Eqs1EfnIqQvV",
        "colab_type": "code",
        "colab": {
          "base_uri": "https://localhost:8080/",
          "height": 34
        },
        "outputId": "dff6aa8b-68cf-4eab-ec4b-380e9dede288"
      },
      "source": [
        "invalid_number_prediction_counts"
      ],
      "execution_count": null,
      "outputs": [
        {
          "output_type": "execute_result",
          "data": {
            "text/plain": [
              "[0, 0, 0, 0, 0, 0, 0, 0, 0, 0]"
            ]
          },
          "metadata": {
            "tags": []
          },
          "execution_count": 208
        }
      ]
    },
    {
      "cell_type": "code",
      "metadata": {
        "id": "QZZqAx8HqoX2",
        "colab_type": "code",
        "colab": {}
      },
      "source": [
        "from sklearn.metrics import mean_absolute_error"
      ],
      "execution_count": null,
      "outputs": []
    },
    {
      "cell_type": "code",
      "metadata": {
        "id": "moUIrtZSqoX4",
        "colab_type": "code",
        "colab": {
          "base_uri": "https://localhost:8080/",
          "height": 185
        },
        "outputId": "f93d819e-e8e0-4ab0-b152-efcae3c08c70"
      },
      "source": [
        "for i, (gts, predictions, invalid_number_prediction_count) in enumerate(zip(all_ground_truth,\n",
        "                                                                            all_model_predictions,\n",
        "                                                                            invalid_number_prediction_counts), 1):\n",
        "    mae = mean_absolute_error(gts, predictions)\n",
        "    print(\"Epoch: %i, MAE: %f, Invalid numbers: %i\" % (i, mae, invalid_number_prediction_count))"
      ],
      "execution_count": null,
      "outputs": [
        {
          "output_type": "stream",
          "text": [
            "Epoch: 1, MAE: 784.799000, Invalid numbers: 0\n",
            "Epoch: 2, MAE: 398.451250, Invalid numbers: 0\n",
            "Epoch: 3, MAE: 221.647900, Invalid numbers: 0\n",
            "Epoch: 4, MAE: 192.755600, Invalid numbers: 0\n",
            "Epoch: 5, MAE: 170.052900, Invalid numbers: 0\n",
            "Epoch: 6, MAE: 132.256550, Invalid numbers: 0\n",
            "Epoch: 7, MAE: 75.568450, Invalid numbers: 0\n",
            "Epoch: 8, MAE: 53.542500, Invalid numbers: 0\n",
            "Epoch: 9, MAE: 43.408000, Invalid numbers: 0\n",
            "Epoch: 10, MAE: 34.709750, Invalid numbers: 0\n"
          ],
          "name": "stdout"
        }
      ]
    },
    {
      "cell_type": "markdown",
      "metadata": {
        "id": "fvk0Z0ol1CKJ",
        "colab_type": "text"
      },
      "source": [
        "Experiment 2"
      ]
    },
    {
      "cell_type": "code",
      "metadata": {
        "id": "sPINtMDER-b9",
        "colab_type": "code",
        "colab": {}
      },
      "source": [
        "tf.reset_default_graph()\n",
        "\n",
        "model = Seq2SeqModel(vocab_size=len(word2id),\n",
        "                     embeddings_size=20,\n",
        "                     hidden_size=512,\n",
        "                     max_iter=7,\n",
        "                     start_symbol_id=word2id[start_symbol],\n",
        "                     end_symbol_id=word2id[end_symbol],\n",
        "                     padding_symbol_id=word2id[padding_symbol])\n",
        "\n",
        "batch_size = 128\n",
        "n_epochs = 10\n",
        "learning_rate = 0.001\n",
        "dropout_keep_probability = 0.7\n",
        "max_len = 20\n",
        "\n",
        "n_step = int(len(train_set) / batch_size)"
      ],
      "execution_count": null,
      "outputs": []
    },
    {
      "cell_type": "code",
      "metadata": {
        "id": "TCSheGx2R_c0",
        "colab_type": "code",
        "colab": {
          "base_uri": "https://localhost:8080/",
          "height": 1000
        },
        "outputId": "36ced43b-583a-413b-edec-7a27e384c46a"
      },
      "source": [
        "import re\n",
        "session = tf.Session()\n",
        "session.run(tf.global_variables_initializer())\n",
        "            \n",
        "invalid_number_prediction_counts = []\n",
        "all_model_predictions = []\n",
        "all_ground_truth = []\n",
        "\n",
        "print('Start training... \\n')\n",
        "for epoch in range(n_epochs):  \n",
        "    random.shuffle(train_set)\n",
        "    random.shuffle(test_set)\n",
        "    \n",
        "    print('Train: epoch', epoch + 1)\n",
        "    for n_iter, (X_batch, Y_batch) in enumerate(generate_batches(train_set, batch_size=batch_size)):\n",
        "        # prepare the data (X_batch and Y_batch) for training\n",
        "        # using function batch_to_ids\n",
        "        X_train, X_train_len = batch_to_ids(X_batch, word2id, max_len)\n",
        "        Y_train, Y_train_len = batch_to_ids(Y_batch, word2id, max_len)\n",
        "\n",
        "        predictions, loss = model.train_on_batch(session=session,\n",
        "                                           X=X_train,\n",
        "                                           X_seq_len=X_train_len,\n",
        "                                           Y=Y_train,\n",
        "                                           Y_seq_len=Y_train_len,\n",
        "                                           learning_rate=learning_rate,\n",
        "                                           dropout_keep_probability=dropout_keep_probability)\n",
        "        if n_iter % 200 == 0:\n",
        "            print(\"Epoch: [%d/%d], step: [%d/%d], loss: %f\" % (epoch + 1, n_epochs, n_iter + 1, n_step, loss)) \n",
        "\n",
        "    X_sent, Y_sent = next(generate_batches(test_set, batch_size=batch_size))\n",
        "    # prepare test data (X_sent and Y_sent) for predicting \n",
        "    # quality and computing value of the loss function\n",
        "    # using function batch_to_ids\n",
        "    X, X_test_len = batch_to_ids(X_sent, word2id, max_len)\n",
        "    Y, Y_test_len = batch_to_ids(Y_sent, word2id, max_len)\n",
        "    \n",
        "    predictions, loss = model.predict_for_batch_with_loss(session=session,\n",
        "                                                    X=X,\n",
        "                                                    X_seq_len=X_test_len,\n",
        "                                                    Y=Y,\n",
        "                                                    Y_seq_len=Y_test_len)\n",
        "    print('Test: epoch', epoch + 1, 'loss:', loss,)\n",
        "    for x, y, p  in list(zip(X, Y, predictions))[:3]:\n",
        "        print('X:',''.join(ids_to_sentence(x, id2word)))\n",
        "        print('Y:',''.join(ids_to_sentence(y, id2word)))\n",
        "        print('O:',''.join(ids_to_sentence(p, id2word)))\n",
        "        print('')\n",
        "\n",
        "    model_predictions = []\n",
        "    ground_truth = []\n",
        "    invalid_number_prediction_count = 0\n",
        "    # For the whole test set calculate ground-truth values (as integer numbers)\n",
        "    # and prediction values (also as integers) to calculate metrics.\n",
        "    # If generated by model number is not correct (e.g. '1-1'), \n",
        "    # increase invalid_number_prediction_count and don't append this and corresponding\n",
        "    # ground-truth value to the arrays.\n",
        "    for X_batch, Y_batch in generate_batches(test_set, batch_size=batch_size):\n",
        "        X_test, X_test_len = batch_to_ids(X_batch, word2id, max_len)\n",
        "        Y_test, Y_test_len = batch_to_ids(Y_batch, word2id, max_len)\n",
        "        predictions, l = model.predict_for_batch_with_loss(session=session,\n",
        "                                                    X=X_test,\n",
        "                                                    X_seq_len=X_test_len,\n",
        "                                                    Y=Y_test,\n",
        "                                                    Y_seq_len=Y_test_len)\n",
        "        for i in range(len(predictions)):\n",
        "          p = ''.join(ids_to_sentence(predictions[i], id2word))\n",
        "          if bool(re.match('-?[0-9]+[$][#]*', str(p))):\n",
        "            model_predictions.append(int(re.sub('[^-+0-9]', '', str(p))))\n",
        "            ground_truth.append(int(Y_batch[i]))\n",
        "          else:\n",
        "            invalid_number_prediction_count += 1\n",
        "\n",
        "    all_model_predictions.append(model_predictions)\n",
        "    all_ground_truth.append(ground_truth)\n",
        "    invalid_number_prediction_counts.append(invalid_number_prediction_count)\n",
        "            \n",
        "print('\\n...training finished.')"
      ],
      "execution_count": null,
      "outputs": [
        {
          "output_type": "stream",
          "text": [
            "Start training... \n",
            "\n",
            "Train: epoch 1\n",
            "Epoch: [1/10], step: [1/625], loss: 2.714549\n",
            "Epoch: [1/10], step: [201/625], loss: 1.782946\n",
            "Epoch: [1/10], step: [401/625], loss: 1.646996\n",
            "Epoch: [1/10], step: [601/625], loss: 1.535730\n",
            "1st stage completed\n",
            "Test: epoch 1 loss: 1.4943327\n",
            "X: 4943+7699$\n",
            "Y: 12642$\n",
            "O: 12232$\n",
            "\n",
            "X: 1869-9361$\n",
            "Y: -7492$\n",
            "O: -6662$\n",
            "\n",
            "X: 2557-5247$\n",
            "Y: -2690$\n",
            "O: -2188$\n",
            "\n",
            "2nd stage completed\n",
            "Train: epoch 2\n",
            "Epoch: [2/10], step: [1/625], loss: 1.549287\n",
            "Epoch: [2/10], step: [201/625], loss: 1.495173\n",
            "Epoch: [2/10], step: [401/625], loss: 1.478492\n",
            "Epoch: [2/10], step: [601/625], loss: 1.382560\n",
            "1st stage completed\n",
            "Test: epoch 2 loss: 1.3542469\n",
            "X: 5553-6959$\n",
            "Y: -1406$\n",
            "O: -1300$\n",
            "\n",
            "X: 7699-9705$\n",
            "Y: -2006$\n",
            "O: -1007$\n",
            "\n",
            "X: 7069+8305$\n",
            "Y: 15374$\n",
            "O: 15400$\n",
            "\n",
            "2nd stage completed\n",
            "Train: epoch 3\n",
            "Epoch: [3/10], step: [1/625], loss: 1.387319\n",
            "Epoch: [3/10], step: [201/625], loss: 1.392317\n",
            "Epoch: [3/10], step: [401/625], loss: 1.332944\n",
            "Epoch: [3/10], step: [601/625], loss: 1.362249\n",
            "1st stage completed\n",
            "Test: epoch 3 loss: 1.2827171\n",
            "X: 4174-9047$\n",
            "Y: -4873$\n",
            "O: -5020$\n",
            "\n",
            "X: 5412+7117$\n",
            "Y: 12529$\n",
            "O: 12111$\n",
            "\n",
            "X: 8535+7332$\n",
            "Y: 15867$\n",
            "O: 15819$\n",
            "\n",
            "2nd stage completed\n",
            "Train: epoch 4\n",
            "Epoch: [4/10], step: [1/625], loss: 1.346402\n",
            "Epoch: [4/10], step: [201/625], loss: 1.300538\n",
            "Epoch: [4/10], step: [401/625], loss: 1.302247\n",
            "Epoch: [4/10], step: [601/625], loss: 1.300002\n",
            "1st stage completed\n",
            "Test: epoch 4 loss: 1.2179807\n",
            "X: 1452+3381$\n",
            "Y: 4833$#\n",
            "O: 4888$#\n",
            "\n",
            "X: 3808-1896$\n",
            "Y: 1912$#\n",
            "O: 2031$#\n",
            "\n",
            "X: 6726-797$#\n",
            "Y: 5929$#\n",
            "O: 5808$#\n",
            "\n",
            "2nd stage completed\n",
            "Train: epoch 5\n",
            "Epoch: [5/10], step: [1/625], loss: 1.267058\n",
            "Epoch: [5/10], step: [201/625], loss: 1.235222\n",
            "Epoch: [5/10], step: [401/625], loss: 1.227677\n",
            "Epoch: [5/10], step: [601/625], loss: 1.227523\n",
            "1st stage completed\n",
            "Test: epoch 5 loss: 1.1890823\n",
            "X: 2935-501$#\n",
            "Y: 2434$#\n",
            "O: 2583$#\n",
            "\n",
            "X: 1689-6099$\n",
            "Y: -4410$\n",
            "O: -4445$\n",
            "\n",
            "X: 8332+9141$\n",
            "Y: 17473$\n",
            "O: 17476$\n",
            "\n",
            "2nd stage completed\n",
            "Train: epoch 6\n",
            "Epoch: [6/10], step: [1/625], loss: 1.238529\n",
            "Epoch: [6/10], step: [201/625], loss: 1.220769\n",
            "Epoch: [6/10], step: [401/625], loss: 1.197459\n",
            "Epoch: [6/10], step: [601/625], loss: 1.187731\n",
            "1st stage completed\n",
            "Test: epoch 6 loss: 1.1692321\n",
            "X: 4660-6930$\n",
            "Y: -2270$\n",
            "O: -2313$\n",
            "\n",
            "X: 120+9982$#\n",
            "Y: 10102$\n",
            "O: 10000$\n",
            "\n",
            "X: 5417+1152$\n",
            "Y: 6569$#\n",
            "O: 6629$#\n",
            "\n",
            "2nd stage completed\n",
            "Train: epoch 7\n",
            "Epoch: [7/10], step: [1/625], loss: 1.204483\n",
            "Epoch: [7/10], step: [201/625], loss: 1.154337\n",
            "Epoch: [7/10], step: [401/625], loss: 1.177029\n",
            "Epoch: [7/10], step: [601/625], loss: 1.165347\n",
            "1st stage completed\n",
            "Test: epoch 7 loss: 1.1573489\n",
            "X: 7069-2666$\n",
            "Y: 4403$#\n",
            "O: 4422$#\n",
            "\n",
            "X: 279+7030$#\n",
            "Y: 7309$#\n",
            "O: 7480$#\n",
            "\n",
            "X: 7610-6537$\n",
            "Y: 1073$#\n",
            "O: 1022$#\n",
            "\n",
            "2nd stage completed\n",
            "Train: epoch 8\n",
            "Epoch: [8/10], step: [1/625], loss: 1.139749\n",
            "Epoch: [8/10], step: [201/625], loss: 1.126901\n",
            "Epoch: [8/10], step: [401/625], loss: 1.126037\n",
            "Epoch: [8/10], step: [601/625], loss: 1.108347\n",
            "1st stage completed\n",
            "Test: epoch 8 loss: 1.1132542\n",
            "X: 5606-7934$\n",
            "Y: -2328$\n",
            "O: -2379$\n",
            "\n",
            "X: 5157+6713$\n",
            "Y: 11870$\n",
            "O: 11870$\n",
            "\n",
            "X: 8022-1783$\n",
            "Y: 6239$#\n",
            "O: 6355$#\n",
            "\n",
            "2nd stage completed\n",
            "Train: epoch 9\n",
            "Epoch: [9/10], step: [1/625], loss: 1.121956\n",
            "Epoch: [9/10], step: [201/625], loss: 1.115843\n",
            "Epoch: [9/10], step: [401/625], loss: 1.129416\n",
            "Epoch: [9/10], step: [601/625], loss: 1.042382\n",
            "1st stage completed\n",
            "Test: epoch 9 loss: 1.0607148\n",
            "X: 9345-6957$\n",
            "Y: 2388$#\n",
            "O: 2355$#\n",
            "\n",
            "X: 1523-6964$\n",
            "Y: -5441$\n",
            "O: -5538$\n",
            "\n",
            "X: 1494+1717$\n",
            "Y: 3211$#\n",
            "O: 3306$#\n",
            "\n",
            "2nd stage completed\n",
            "Train: epoch 10\n",
            "Epoch: [10/10], step: [1/625], loss: 1.001778\n",
            "Epoch: [10/10], step: [201/625], loss: 1.023199\n",
            "Epoch: [10/10], step: [401/625], loss: 1.007872\n",
            "Epoch: [10/10], step: [601/625], loss: 0.994952\n",
            "1st stage completed\n",
            "Test: epoch 10 loss: 0.95632184\n",
            "X: 4802-174$#\n",
            "Y: 4628$#\n",
            "O: 4601$#\n",
            "\n",
            "X: 8953+1865$\n",
            "Y: 10818$\n",
            "O: 10850$\n",
            "\n",
            "X: 6578+4403$\n",
            "Y: 10981$\n",
            "O: 10975$\n",
            "\n",
            "2nd stage completed\n",
            "\n",
            "...training finished.\n"
          ],
          "name": "stdout"
        }
      ]
    },
    {
      "cell_type": "code",
      "metadata": {
        "id": "4kkpEnANR_KC",
        "colab_type": "code",
        "colab": {
          "base_uri": "https://localhost:8080/",
          "height": 185
        },
        "outputId": "0b6989a5-3c64-4716-b1e8-5f9f98f5843f"
      },
      "source": [
        "for i, (gts, predictions, invalid_number_prediction_count) in enumerate(zip(all_ground_truth,\n",
        "                                                                            all_model_predictions,\n",
        "                                                                            invalid_number_prediction_counts), 1):\n",
        "    mae = mean_absolute_error(gts, predictions)\n",
        "    print(\"Epoch: %i, MAE: %f, Invalid numbers: %i\" % (i, mae, invalid_number_prediction_count))"
      ],
      "execution_count": null,
      "outputs": [
        {
          "output_type": "stream",
          "text": [
            "Epoch: 1, MAE: 556.564700, Invalid numbers: 0\n",
            "Epoch: 2, MAE: 313.303350, Invalid numbers: 0\n",
            "Epoch: 3, MAE: 185.756000, Invalid numbers: 0\n",
            "Epoch: 4, MAE: 133.311700, Invalid numbers: 0\n",
            "Epoch: 5, MAE: 111.341650, Invalid numbers: 0\n",
            "Epoch: 6, MAE: 87.435350, Invalid numbers: 0\n",
            "Epoch: 7, MAE: 87.039550, Invalid numbers: 0\n",
            "Epoch: 8, MAE: 70.869600, Invalid numbers: 0\n",
            "Epoch: 9, MAE: 50.692000, Invalid numbers: 0\n",
            "Epoch: 10, MAE: 35.844550, Invalid numbers: 0\n"
          ],
          "name": "stdout"
        }
      ]
    },
    {
      "cell_type": "markdown",
      "metadata": {
        "id": "O_apq0xW1JgW",
        "colab_type": "text"
      },
      "source": [
        "Experiment 3"
      ]
    },
    {
      "cell_type": "code",
      "metadata": {
        "id": "kXV6h9m3VZ-N",
        "colab_type": "code",
        "colab": {}
      },
      "source": [
        "tf.reset_default_graph()\n",
        "\n",
        "model = Seq2SeqModel(vocab_size=len(word2id),\n",
        "                     embeddings_size=20,\n",
        "                     hidden_size=512,\n",
        "                     max_iter=7,\n",
        "                     start_symbol_id=word2id[start_symbol],\n",
        "                     end_symbol_id=word2id[end_symbol],\n",
        "                     padding_symbol_id=word2id[padding_symbol])\n",
        "\n",
        "batch_size = 64\n",
        "n_epochs = 10\n",
        "learning_rate = 0.001\n",
        "dropout_keep_probability = 0.5\n",
        "max_len = 20\n",
        "\n",
        "n_step = int(len(train_set) / batch_size)"
      ],
      "execution_count": null,
      "outputs": []
    },
    {
      "cell_type": "code",
      "metadata": {
        "id": "3HzfOZWkVaLf",
        "colab_type": "code",
        "colab": {
          "base_uri": "https://localhost:8080/",
          "height": 1000
        },
        "outputId": "e80480b4-f406-4228-b4e7-14f4650cb06f"
      },
      "source": [
        "import re\n",
        "session = tf.Session()\n",
        "session.run(tf.global_variables_initializer())\n",
        "            \n",
        "invalid_number_prediction_counts = []\n",
        "all_model_predictions = []\n",
        "all_ground_truth = []\n",
        "\n",
        "print('Start training... \\n')\n",
        "for epoch in range(n_epochs):  \n",
        "    random.shuffle(train_set)\n",
        "    random.shuffle(test_set)\n",
        "    \n",
        "    print('Train: epoch', epoch + 1)\n",
        "    for n_iter, (X_batch, Y_batch) in enumerate(generate_batches(train_set, batch_size=batch_size)):\n",
        "        # prepare the data (X_batch and Y_batch) for training\n",
        "        # using function batch_to_ids\n",
        "        X_train, X_train_len = batch_to_ids(X_batch, word2id, max_len)\n",
        "        Y_train, Y_train_len = batch_to_ids(Y_batch, word2id, max_len)\n",
        "\n",
        "        predictions, loss = model.train_on_batch(session=session,\n",
        "                                           X=X_train,\n",
        "                                           X_seq_len=X_train_len,\n",
        "                                           Y=Y_train,\n",
        "                                           Y_seq_len=Y_train_len,\n",
        "                                           learning_rate=learning_rate,\n",
        "                                           dropout_keep_probability=dropout_keep_probability)\n",
        "        if n_iter % 200 == 0:\n",
        "            print(\"Epoch: [%d/%d], step: [%d/%d], loss: %f\" % (epoch + 1, n_epochs, n_iter + 1, n_step, loss)) \n",
        "\n",
        "    print(\"1st stage completed\")\n",
        "    X_sent, Y_sent = next(generate_batches(test_set, batch_size=batch_size))\n",
        "    # prepare test data (X_sent and Y_sent) for predicting \n",
        "    # quality and computing value of the loss function\n",
        "    # using function batch_to_ids\n",
        "    X, X_test_len = batch_to_ids(X_sent, word2id, max_len)\n",
        "    Y, Y_test_len = batch_to_ids(Y_sent, word2id, max_len)\n",
        "    \n",
        "    predictions, loss = model.predict_for_batch_with_loss(session=session,\n",
        "                                                    X=X,\n",
        "                                                    X_seq_len=X_test_len,\n",
        "                                                    Y=Y,\n",
        "                                                    Y_seq_len=Y_test_len)\n",
        "    print('Test: epoch', epoch + 1, 'loss:', loss,)\n",
        "    for x, y, p  in list(zip(X, Y, predictions))[:3]:\n",
        "        print('X:',''.join(ids_to_sentence(x, id2word)))\n",
        "        print('Y:',''.join(ids_to_sentence(y, id2word)))\n",
        "        print('O:',''.join(ids_to_sentence(p, id2word)))\n",
        "        print('')\n",
        "\n",
        "    print(\"2nd stage completed\")\n",
        "    model_predictions = []\n",
        "    ground_truth = []\n",
        "    invalid_number_prediction_count = 0\n",
        "    # For the whole test set calculate ground-truth values (as integer numbers)\n",
        "    # and prediction values (also as integers) to calculate metrics.\n",
        "    # If generated by model number is not correct (e.g. '1-1'), \n",
        "    # increase invalid_number_prediction_count and don't append this and corresponding\n",
        "    # ground-truth value to the arrays.\n",
        "    for X_batch, Y_batch in generate_batches(test_set, batch_size=batch_size):\n",
        "        X_test, X_test_len = batch_to_ids(X_batch, word2id, max_len)\n",
        "        Y_test, Y_test_len = batch_to_ids(Y_batch, word2id, max_len)\n",
        "        predictions, l = model.predict_for_batch_with_loss(session=session,\n",
        "                                                    X=X_test,\n",
        "                                                    X_seq_len=X_test_len,\n",
        "                                                    Y=Y_test,\n",
        "                                                    Y_seq_len=Y_test_len)\n",
        "        for i in range(len(predictions)):\n",
        "          p = ''.join(ids_to_sentence(predictions[i], id2word))\n",
        "          if bool(re.match('-?[0-9]+[$][#]*', str(p))):\n",
        "            model_predictions.append(int(re.sub('[^-+0-9]', '', str(p))))\n",
        "            ground_truth.append(int(Y_batch[i]))\n",
        "          else:\n",
        "            invalid_number_prediction_count += 1\n",
        "\n",
        "    all_model_predictions.append(model_predictions)\n",
        "    all_ground_truth.append(ground_truth)\n",
        "    invalid_number_prediction_counts.append(invalid_number_prediction_count)\n",
        "            \n",
        "print('\\n...training finished.')"
      ],
      "execution_count": null,
      "outputs": [
        {
          "output_type": "stream",
          "text": [
            "Start training... \n",
            "\n",
            "Train: epoch 1\n",
            "Epoch: [1/10], step: [1/1250], loss: 2.721108\n",
            "Epoch: [1/10], step: [201/1250], loss: 1.832988\n",
            "Epoch: [1/10], step: [401/1250], loss: 1.818878\n",
            "Epoch: [1/10], step: [601/1250], loss: 1.694161\n",
            "Epoch: [1/10], step: [801/1250], loss: 1.606129\n",
            "Epoch: [1/10], step: [1001/1250], loss: 1.593738\n",
            "Epoch: [1/10], step: [1201/1250], loss: 1.519227\n",
            "1st stage completed\n",
            "Test: epoch 1 loss: 1.4380172\n",
            "X: 1337+8555$\n",
            "Y: 9892$#\n",
            "O: 9950$#\n",
            "\n",
            "X: 3445+2084$\n",
            "Y: 5529$#\n",
            "O: 5753$#\n",
            "\n",
            "X: 3063+144$#\n",
            "Y: 3207$#\n",
            "O: 3553$#\n",
            "\n",
            "2nd stage completed\n",
            "Train: epoch 2\n",
            "Epoch: [2/10], step: [1/1250], loss: 1.478680\n",
            "Epoch: [2/10], step: [201/1250], loss: 1.472394\n",
            "Epoch: [2/10], step: [401/1250], loss: 1.442449\n",
            "Epoch: [2/10], step: [601/1250], loss: 1.447617\n",
            "Epoch: [2/10], step: [801/1250], loss: 1.463470\n",
            "Epoch: [2/10], step: [1001/1250], loss: 1.426381\n",
            "Epoch: [2/10], step: [1201/1250], loss: 1.357492\n",
            "1st stage completed\n",
            "Test: epoch 2 loss: 1.3981923\n",
            "X: 793-6660$#\n",
            "Y: -5867$\n",
            "O: -6333$\n",
            "\n",
            "X: 1908+1647$\n",
            "Y: 3555$#\n",
            "O: 3722$#\n",
            "\n",
            "X: 5268+8301$\n",
            "Y: 13569$\n",
            "O: 13777$\n",
            "\n",
            "2nd stage completed\n",
            "Train: epoch 3\n",
            "Epoch: [3/10], step: [1/1250], loss: 1.360386\n",
            "Epoch: [3/10], step: [201/1250], loss: 1.405028\n",
            "Epoch: [3/10], step: [401/1250], loss: 1.394017\n",
            "Epoch: [3/10], step: [601/1250], loss: 1.411490\n",
            "Epoch: [3/10], step: [801/1250], loss: 1.323380\n",
            "Epoch: [3/10], step: [1001/1250], loss: 1.364016\n",
            "Epoch: [3/10], step: [1201/1250], loss: 1.336421\n",
            "1st stage completed\n",
            "Test: epoch 3 loss: 1.2981383\n",
            "X: 5594+3067$\n",
            "Y: 8661$#\n",
            "O: 8999$#\n",
            "\n",
            "X: 6487-227$#\n",
            "Y: 6260$#\n",
            "O: 6599$#\n",
            "\n",
            "X: 164-3179$#\n",
            "Y: -3015$\n",
            "O: -3000$\n",
            "\n",
            "2nd stage completed\n",
            "Train: epoch 4\n",
            "Epoch: [4/10], step: [1/1250], loss: 1.318307\n",
            "Epoch: [4/10], step: [201/1250], loss: 1.367573\n",
            "Epoch: [4/10], step: [401/1250], loss: 1.331155\n",
            "Epoch: [4/10], step: [601/1250], loss: 1.318049\n",
            "Epoch: [4/10], step: [801/1250], loss: 1.327589\n",
            "Epoch: [4/10], step: [1001/1250], loss: 1.252234\n",
            "Epoch: [4/10], step: [1201/1250], loss: 1.268288\n",
            "1st stage completed\n",
            "Test: epoch 4 loss: 1.253922\n",
            "X: 8545+5483$\n",
            "Y: 14028$\n",
            "O: 13961$\n",
            "\n",
            "X: 4291+6547$\n",
            "Y: 10838$\n",
            "O: 10960$\n",
            "\n",
            "X: 992+6332$#\n",
            "Y: 7324$#\n",
            "O: 7300$#\n",
            "\n",
            "2nd stage completed\n",
            "Train: epoch 5\n",
            "Epoch: [5/10], step: [1/1250], loss: 1.274100\n",
            "Epoch: [5/10], step: [201/1250], loss: 1.226732\n",
            "Epoch: [5/10], step: [401/1250], loss: 1.237591\n",
            "Epoch: [5/10], step: [601/1250], loss: 1.234829\n",
            "Epoch: [5/10], step: [801/1250], loss: 1.247728\n",
            "Epoch: [5/10], step: [1001/1250], loss: 1.195443\n",
            "Epoch: [5/10], step: [1201/1250], loss: 1.223124\n",
            "1st stage completed\n",
            "Test: epoch 5 loss: 1.1420397\n",
            "X: 1791-2205$\n",
            "Y: -414$#\n",
            "O: -446$#\n",
            "\n",
            "X: 3250+3652$\n",
            "Y: 6902$#\n",
            "O: 6943$#\n",
            "\n",
            "X: 7645+1778$\n",
            "Y: 9423$#\n",
            "O: 9336$#\n",
            "\n",
            "2nd stage completed\n",
            "Train: epoch 6\n",
            "Epoch: [6/10], step: [1/1250], loss: 1.196698\n",
            "Epoch: [6/10], step: [201/1250], loss: 1.170570\n",
            "Epoch: [6/10], step: [401/1250], loss: 1.199691\n",
            "Epoch: [6/10], step: [601/1250], loss: 1.113529\n",
            "Epoch: [6/10], step: [801/1250], loss: 1.107296\n",
            "Epoch: [6/10], step: [1001/1250], loss: 1.072830\n",
            "Epoch: [6/10], step: [1201/1250], loss: 1.069155\n",
            "1st stage completed\n",
            "Test: epoch 6 loss: 0.98025775\n",
            "X: 8327-4908$\n",
            "Y: 3419$#\n",
            "O: 3400$#\n",
            "\n",
            "X: 2913-8391$\n",
            "Y: -5478$\n",
            "O: -5477$\n",
            "\n",
            "X: 1757+8942$\n",
            "Y: 10699$\n",
            "O: 10766$\n",
            "\n",
            "2nd stage completed\n",
            "Train: epoch 7\n",
            "Epoch: [7/10], step: [1/1250], loss: 1.018636\n",
            "Epoch: [7/10], step: [201/1250], loss: 1.016010\n",
            "Epoch: [7/10], step: [401/1250], loss: 1.033936\n",
            "Epoch: [7/10], step: [601/1250], loss: 0.999143\n",
            "Epoch: [7/10], step: [801/1250], loss: 1.004038\n",
            "Epoch: [7/10], step: [1001/1250], loss: 0.988453\n",
            "Epoch: [7/10], step: [1201/1250], loss: 1.022613\n",
            "1st stage completed\n",
            "Test: epoch 7 loss: 0.9468668\n",
            "X: 8240-4835$\n",
            "Y: 3405$#\n",
            "O: 3399$#\n",
            "\n",
            "X: 891-3354$#\n",
            "Y: -2463$\n",
            "O: -2430$\n",
            "\n",
            "X: 1153-1040$\n",
            "Y: 113$##\n",
            "O: 111$##\n",
            "\n",
            "2nd stage completed\n",
            "Train: epoch 8\n",
            "Epoch: [8/10], step: [1/1250], loss: 0.965745\n",
            "Epoch: [8/10], step: [201/1250], loss: 0.982719\n",
            "Epoch: [8/10], step: [401/1250], loss: 1.029773\n",
            "Epoch: [8/10], step: [601/1250], loss: 1.043727\n",
            "Epoch: [8/10], step: [801/1250], loss: 0.958513\n",
            "Epoch: [8/10], step: [1001/1250], loss: 0.933378\n",
            "Epoch: [8/10], step: [1201/1250], loss: 0.958655\n",
            "1st stage completed\n",
            "Test: epoch 8 loss: 0.8973595\n",
            "X: 2481-6865$\n",
            "Y: -4384$\n",
            "O: -4382$\n",
            "\n",
            "X: 1322-4969$\n",
            "Y: -3647$\n",
            "O: -3630$\n",
            "\n",
            "X: 9420-9331$\n",
            "Y: 89$###\n",
            "O: 103$##\n",
            "\n",
            "2nd stage completed\n",
            "Train: epoch 9\n",
            "Epoch: [9/10], step: [1/1250], loss: 0.936626\n",
            "Epoch: [9/10], step: [201/1250], loss: 0.908730\n",
            "Epoch: [9/10], step: [401/1250], loss: 0.875451\n",
            "Epoch: [9/10], step: [601/1250], loss: 0.957219\n",
            "Epoch: [9/10], step: [801/1250], loss: 0.918885\n",
            "Epoch: [9/10], step: [1001/1250], loss: 0.863928\n",
            "Epoch: [9/10], step: [1201/1250], loss: 0.882051\n",
            "1st stage completed\n",
            "Test: epoch 9 loss: 0.8340943\n",
            "X: 6104-5213$\n",
            "Y: 891$##\n",
            "O: 892$##\n",
            "\n",
            "X: 7872-6502$\n",
            "Y: 1370$#\n",
            "O: 1430$#\n",
            "\n",
            "X: 6263+679$#\n",
            "Y: 6942$#\n",
            "O: 6929$#\n",
            "\n",
            "2nd stage completed\n",
            "Train: epoch 10\n",
            "Epoch: [10/10], step: [1/1250], loss: 0.791977\n",
            "Epoch: [10/10], step: [201/1250], loss: 0.875525\n",
            "Epoch: [10/10], step: [401/1250], loss: 0.895139\n",
            "Epoch: [10/10], step: [601/1250], loss: 0.892981\n",
            "Epoch: [10/10], step: [801/1250], loss: 0.829237\n",
            "Epoch: [10/10], step: [1001/1250], loss: 0.826404\n",
            "Epoch: [10/10], step: [1201/1250], loss: 0.901410\n",
            "1st stage completed\n",
            "Test: epoch 10 loss: 0.76650506\n",
            "X: 3230+3938$\n",
            "Y: 7168$#\n",
            "O: 7165$#\n",
            "\n",
            "X: 9912-8015$\n",
            "Y: 1897$#\n",
            "O: 1887$#\n",
            "\n",
            "X: 5433-880$#\n",
            "Y: 4553$#\n",
            "O: 4554$#\n",
            "\n",
            "2nd stage completed\n",
            "\n",
            "...training finished.\n"
          ],
          "name": "stdout"
        }
      ]
    },
    {
      "cell_type": "code",
      "metadata": {
        "id": "MNRGidXvVZwQ",
        "colab_type": "code",
        "colab": {
          "base_uri": "https://localhost:8080/",
          "height": 185
        },
        "outputId": "e13d1013-795b-48ac-c720-3b1f0a05cb1a"
      },
      "source": [
        "for i, (gts, predictions, invalid_number_prediction_count) in enumerate(zip(all_ground_truth,\n",
        "                                                                            all_model_predictions,\n",
        "                                                                            invalid_number_prediction_counts), 1):\n",
        "    mae = mean_absolute_error(gts, predictions)\n",
        "    print(\"Epoch: %i, MAE: %f, Invalid numbers: %i\" % (i, mae, invalid_number_prediction_count))"
      ],
      "execution_count": null,
      "outputs": [
        {
          "output_type": "stream",
          "text": [
            "Epoch: 1, MAE: 502.659900, Invalid numbers: 0\n",
            "Epoch: 2, MAE: 244.468900, Invalid numbers: 0\n",
            "Epoch: 3, MAE: 183.615050, Invalid numbers: 0\n",
            "Epoch: 4, MAE: 142.624050, Invalid numbers: 0\n",
            "Epoch: 5, MAE: 99.256500, Invalid numbers: 0\n",
            "Epoch: 6, MAE: 48.924900, Invalid numbers: 0\n",
            "Epoch: 7, MAE: 34.524150, Invalid numbers: 0\n",
            "Epoch: 8, MAE: 27.769750, Invalid numbers: 0\n",
            "Epoch: 9, MAE: 24.941200, Invalid numbers: 0\n",
            "Epoch: 10, MAE: 21.516900, Invalid numbers: 0\n"
          ],
          "name": "stdout"
        }
      ]
    },
    {
      "cell_type": "markdown",
      "metadata": {
        "id": "6lGwDFZ71a5P",
        "colab_type": "text"
      },
      "source": [
        "Experiment 4"
      ]
    },
    {
      "cell_type": "code",
      "metadata": {
        "id": "h_P1wVpcbYxy",
        "colab_type": "code",
        "colab": {}
      },
      "source": [
        "tf.reset_default_graph()\n",
        "\n",
        "model = Seq2SeqModel(vocab_size=len(word2id),\n",
        "                     embeddings_size=20,\n",
        "                     hidden_size=512,\n",
        "                     max_iter=7,\n",
        "                     start_symbol_id=word2id[start_symbol],\n",
        "                     end_symbol_id=word2id[end_symbol],\n",
        "                     padding_symbol_id=word2id[padding_symbol])\n",
        "\n",
        "batch_size = 64\n",
        "n_epochs = 20\n",
        "learning_rate = 0.001\n",
        "dropout_keep_probability = 0.5\n",
        "max_len = 20\n",
        "\n",
        "n_step = int(len(train_set) / batch_size)"
      ],
      "execution_count": null,
      "outputs": []
    },
    {
      "cell_type": "code",
      "metadata": {
        "id": "auqHEFIkbYQv",
        "colab_type": "code",
        "colab": {
          "base_uri": "https://localhost:8080/",
          "height": 1000
        },
        "outputId": "0bfa24f7-e316-4141-bb36-c2da1e13f27e"
      },
      "source": [
        "import re\n",
        "session = tf.Session()\n",
        "session.run(tf.global_variables_initializer())\n",
        "            \n",
        "invalid_number_prediction_counts = []\n",
        "all_model_predictions = []\n",
        "all_ground_truth = []\n",
        "\n",
        "print('Start training... \\n')\n",
        "for epoch in range(n_epochs):  \n",
        "    random.shuffle(train_set)\n",
        "    random.shuffle(test_set)\n",
        "    \n",
        "    print('Train: epoch', epoch + 1)\n",
        "    for n_iter, (X_batch, Y_batch) in enumerate(generate_batches(train_set, batch_size=batch_size)):\n",
        "        # prepare the data (X_batch and Y_batch) for training\n",
        "        # using function batch_to_ids\n",
        "        X_train, X_train_len = batch_to_ids(X_batch, word2id, max_len)\n",
        "        Y_train, Y_train_len = batch_to_ids(Y_batch, word2id, max_len)\n",
        "\n",
        "        predictions, loss = model.train_on_batch(session=session,\n",
        "                                           X=X_train,\n",
        "                                           X_seq_len=X_train_len,\n",
        "                                           Y=Y_train,\n",
        "                                           Y_seq_len=Y_train_len,\n",
        "                                           learning_rate=learning_rate,\n",
        "                                           dropout_keep_probability=dropout_keep_probability)\n",
        "        if n_iter % 200 == 0:\n",
        "            print(\"Epoch: [%d/%d], step: [%d/%d], loss: %f\" % (epoch + 1, n_epochs, n_iter + 1, n_step, loss)) \n",
        "\n",
        "    print(\"1st stage completed\")\n",
        "    X_sent, Y_sent = next(generate_batches(test_set, batch_size=batch_size))\n",
        "    # prepare test data (X_sent and Y_sent) for predicting \n",
        "    # quality and computing value of the loss function\n",
        "    # using function batch_to_ids\n",
        "    X, X_test_len = batch_to_ids(X_sent, word2id, max_len)\n",
        "    Y, Y_test_len = batch_to_ids(Y_sent, word2id, max_len)\n",
        "    \n",
        "    predictions, loss = model.predict_for_batch_with_loss(session=session,\n",
        "                                                    X=X,\n",
        "                                                    X_seq_len=X_test_len,\n",
        "                                                    Y=Y,\n",
        "                                                    Y_seq_len=Y_test_len)\n",
        "    print('Test: epoch', epoch + 1, 'loss:', loss,)\n",
        "    for x, y, p  in list(zip(X, Y, predictions))[:3]:\n",
        "        print('X:',''.join(ids_to_sentence(x, id2word)))\n",
        "        print('Y:',''.join(ids_to_sentence(y, id2word)))\n",
        "        print('O:',''.join(ids_to_sentence(p, id2word)))\n",
        "        print('')\n",
        "\n",
        "    print(\"2nd stage completed\")\n",
        "    model_predictions = []\n",
        "    ground_truth = []\n",
        "    invalid_number_prediction_count = 0\n",
        "    # For the whole test set calculate ground-truth values (as integer numbers)\n",
        "    # and prediction values (also as integers) to calculate metrics.\n",
        "    # If generated by model number is not correct (e.g. '1-1'), \n",
        "    # increase invalid_number_prediction_count and don't append this and corresponding\n",
        "    # ground-truth value to the arrays.\n",
        "    for X_batch, Y_batch in generate_batches(test_set, batch_size=batch_size):\n",
        "        X_test, X_test_len = batch_to_ids(X_batch, word2id, max_len)\n",
        "        Y_test, Y_test_len = batch_to_ids(Y_batch, word2id, max_len)\n",
        "        predictions, l = model.predict_for_batch_with_loss(session=session,\n",
        "                                                    X=X_test,\n",
        "                                                    X_seq_len=X_test_len,\n",
        "                                                    Y=Y_test,\n",
        "                                                    Y_seq_len=Y_test_len)\n",
        "        for i in range(len(predictions)):\n",
        "          p = ''.join(ids_to_sentence(predictions[i], id2word))\n",
        "          if bool(re.match('-?[0-9]+[$][#]*', str(p))):\n",
        "            model_predictions.append(int(re.sub('[^-+0-9]', '', str(p))))\n",
        "            ground_truth.append(int(Y_batch[i]))\n",
        "          else:\n",
        "            invalid_number_prediction_count += 1\n",
        "\n",
        "    all_model_predictions.append(model_predictions)\n",
        "    all_ground_truth.append(ground_truth)\n",
        "    invalid_number_prediction_counts.append(invalid_number_prediction_count)\n",
        "            \n",
        "print('\\n...training finished.')"
      ],
      "execution_count": null,
      "outputs": [
        {
          "output_type": "stream",
          "text": [
            "Start training... \n",
            "\n",
            "Train: epoch 1\n",
            "Epoch: [1/20], step: [1/1250], loss: 2.722885\n",
            "Epoch: [1/20], step: [201/1250], loss: 1.892526\n",
            "Epoch: [1/20], step: [401/1250], loss: 1.768542\n",
            "Epoch: [1/20], step: [601/1250], loss: 1.759009\n",
            "Epoch: [1/20], step: [801/1250], loss: 1.694223\n",
            "Epoch: [1/20], step: [1001/1250], loss: 1.603241\n",
            "Epoch: [1/20], step: [1201/1250], loss: 1.616838\n",
            "1st stage completed\n",
            "Test: epoch 1 loss: 1.5502056\n",
            "X: 1941+8905$\n",
            "Y: 10846$\n",
            "O: 10112$\n",
            "\n",
            "X: 1318+9845$\n",
            "Y: 11163$\n",
            "O: 11112$\n",
            "\n",
            "X: 3939+5627$\n",
            "Y: 9566$#\n",
            "O: 9912$#\n",
            "\n",
            "2nd stage completed\n",
            "Train: epoch 2\n",
            "Epoch: [2/20], step: [1/1250], loss: 1.547476\n",
            "Epoch: [2/20], step: [201/1250], loss: 1.489063\n",
            "Epoch: [2/20], step: [401/1250], loss: 1.511141\n",
            "Epoch: [2/20], step: [601/1250], loss: 1.497172\n",
            "Epoch: [2/20], step: [801/1250], loss: 1.497887\n",
            "Epoch: [2/20], step: [1001/1250], loss: 1.383869\n",
            "Epoch: [2/20], step: [1201/1250], loss: 1.409819\n",
            "1st stage completed\n",
            "Test: epoch 2 loss: 1.3652828\n",
            "X: 9279+9724$\n",
            "Y: 19003$\n",
            "O: 18668$\n",
            "\n",
            "X: 2754+700$#\n",
            "Y: 3454$#\n",
            "O: 3333$#\n",
            "\n",
            "X: 7871+2519$\n",
            "Y: 10390$\n",
            "O: 10601$\n",
            "\n",
            "2nd stage completed\n",
            "Train: epoch 3\n",
            "Epoch: [3/20], step: [1/1250], loss: 1.370920\n",
            "Epoch: [3/20], step: [201/1250], loss: 1.448176\n",
            "Epoch: [3/20], step: [401/1250], loss: 1.363336\n",
            "Epoch: [3/20], step: [601/1250], loss: 1.332407\n",
            "Epoch: [3/20], step: [801/1250], loss: 1.347241\n",
            "Epoch: [3/20], step: [1001/1250], loss: 1.364451\n",
            "Epoch: [3/20], step: [1201/1250], loss: 1.359684\n",
            "1st stage completed\n",
            "Test: epoch 3 loss: 1.2926017\n",
            "X: 387-9110$#\n",
            "Y: -8723$\n",
            "O: -8800$\n",
            "\n",
            "X: 4638+7016$\n",
            "Y: 11654$\n",
            "O: 11555$\n",
            "\n",
            "X: 9556+3306$\n",
            "Y: 12862$\n",
            "O: 12955$\n",
            "\n",
            "2nd stage completed\n",
            "Train: epoch 4\n",
            "Epoch: [4/20], step: [1/1250], loss: 1.367131\n",
            "Epoch: [4/20], step: [201/1250], loss: 1.344507\n",
            "Epoch: [4/20], step: [401/1250], loss: 1.253921\n",
            "Epoch: [4/20], step: [601/1250], loss: 1.288013\n",
            "Epoch: [4/20], step: [801/1250], loss: 1.272870\n",
            "Epoch: [4/20], step: [1001/1250], loss: 1.238248\n",
            "Epoch: [4/20], step: [1201/1250], loss: 1.206219\n",
            "1st stage completed\n",
            "Test: epoch 4 loss: 1.161725\n",
            "X: 7385-5925$\n",
            "Y: 1460$#\n",
            "O: 1500$#\n",
            "\n",
            "X: 4610-5711$\n",
            "Y: -1101$\n",
            "O: -1132$\n",
            "\n",
            "X: 3691+4074$\n",
            "Y: 7765$#\n",
            "O: 7822$#\n",
            "\n",
            "2nd stage completed\n",
            "Train: epoch 5\n",
            "Epoch: [5/20], step: [1/1250], loss: 1.204069\n",
            "Epoch: [5/20], step: [201/1250], loss: 1.133247\n",
            "Epoch: [5/20], step: [401/1250], loss: 1.224413\n",
            "Epoch: [5/20], step: [601/1250], loss: 1.063750\n",
            "Epoch: [5/20], step: [801/1250], loss: 1.111599\n",
            "Epoch: [5/20], step: [1001/1250], loss: 1.078877\n",
            "Epoch: [5/20], step: [1201/1250], loss: 1.031366\n",
            "1st stage completed\n",
            "Test: epoch 5 loss: 1.0040423\n",
            "X: 5191-5832$\n",
            "Y: -641$#\n",
            "O: -699$#\n",
            "\n",
            "X: 9925+8828$\n",
            "Y: 18753$\n",
            "O: 18794$\n",
            "\n",
            "X: 5361+7505$\n",
            "Y: 12866$\n",
            "O: 12844$\n",
            "\n",
            "2nd stage completed\n",
            "Train: epoch 6\n",
            "Epoch: [6/20], step: [1/1250], loss: 1.057472\n",
            "Epoch: [6/20], step: [201/1250], loss: 1.077884\n",
            "Epoch: [6/20], step: [401/1250], loss: 0.992741\n",
            "Epoch: [6/20], step: [601/1250], loss: 1.029730\n",
            "Epoch: [6/20], step: [801/1250], loss: 1.017777\n",
            "Epoch: [6/20], step: [1001/1250], loss: 1.007700\n",
            "Epoch: [6/20], step: [1201/1250], loss: 0.976021\n",
            "1st stage completed\n",
            "Test: epoch 6 loss: 0.92397827\n",
            "X: 7775-1317$\n",
            "Y: 6458$#\n",
            "O: 6474$#\n",
            "\n",
            "X: 3921+6092$\n",
            "Y: 10013$\n",
            "O: 9981$#\n",
            "\n",
            "X: 9633+111$#\n",
            "Y: 9744$#\n",
            "O: 9747$#\n",
            "\n",
            "2nd stage completed\n",
            "Train: epoch 7\n",
            "Epoch: [7/20], step: [1/1250], loss: 1.025972\n",
            "Epoch: [7/20], step: [201/1250], loss: 0.929139\n",
            "Epoch: [7/20], step: [401/1250], loss: 0.952160\n",
            "Epoch: [7/20], step: [601/1250], loss: 0.993172\n",
            "Epoch: [7/20], step: [801/1250], loss: 0.914064\n",
            "Epoch: [7/20], step: [1001/1250], loss: 0.980973\n",
            "Epoch: [7/20], step: [1201/1250], loss: 1.013739\n",
            "1st stage completed\n",
            "Test: epoch 7 loss: 0.8923145\n",
            "X: 3683+3458$\n",
            "Y: 7141$#\n",
            "O: 7140$#\n",
            "\n",
            "X: 7109+6328$\n",
            "Y: 13437$\n",
            "O: 13481$\n",
            "\n",
            "X: 9018+3962$\n",
            "Y: 12980$\n",
            "O: 12011$\n",
            "\n",
            "2nd stage completed\n",
            "Train: epoch 8\n",
            "Epoch: [8/20], step: [1/1250], loss: 0.974667\n",
            "Epoch: [8/20], step: [201/1250], loss: 0.901975\n",
            "Epoch: [8/20], step: [401/1250], loss: 0.981315\n",
            "Epoch: [8/20], step: [601/1250], loss: 0.901525\n",
            "Epoch: [8/20], step: [801/1250], loss: 0.909883\n",
            "Epoch: [8/20], step: [1001/1250], loss: 0.925986\n",
            "Epoch: [8/20], step: [1201/1250], loss: 0.946856\n",
            "1st stage completed\n",
            "Test: epoch 8 loss: 0.8836622\n",
            "X: 342+7181$#\n",
            "Y: 7523$#\n",
            "O: 7545$#\n",
            "\n",
            "X: 659-4438$#\n",
            "Y: -3779$\n",
            "O: -3776$\n",
            "\n",
            "X: 8290-587$#\n",
            "Y: 7703$#\n",
            "O: 7611$#\n",
            "\n",
            "2nd stage completed\n",
            "Train: epoch 9\n",
            "Epoch: [9/20], step: [1/1250], loss: 0.933293\n",
            "Epoch: [9/20], step: [201/1250], loss: 0.908855\n",
            "Epoch: [9/20], step: [401/1250], loss: 0.887479\n",
            "Epoch: [9/20], step: [601/1250], loss: 0.934256\n",
            "Epoch: [9/20], step: [801/1250], loss: 0.932171\n",
            "Epoch: [9/20], step: [1001/1250], loss: 0.911022\n",
            "Epoch: [9/20], step: [1201/1250], loss: 0.926130\n",
            "1st stage completed\n",
            "Test: epoch 9 loss: 0.84629726\n",
            "X: 869-1072$#\n",
            "Y: -203$#\n",
            "O: -199$#\n",
            "\n",
            "X: 2835+9254$\n",
            "Y: 12089$\n",
            "O: 12055$\n",
            "\n",
            "X: 5091-5127$\n",
            "Y: -36$##\n",
            "O: -100$#\n",
            "\n",
            "2nd stage completed\n",
            "Train: epoch 10\n",
            "Epoch: [10/20], step: [1/1250], loss: 0.885026\n",
            "Epoch: [10/20], step: [201/1250], loss: 0.855506\n",
            "Epoch: [10/20], step: [401/1250], loss: 0.880367\n",
            "Epoch: [10/20], step: [601/1250], loss: 0.883778\n",
            "Epoch: [10/20], step: [801/1250], loss: 0.906485\n",
            "Epoch: [10/20], step: [1001/1250], loss: 0.904367\n",
            "Epoch: [10/20], step: [1201/1250], loss: 0.796456\n",
            "1st stage completed\n",
            "Test: epoch 10 loss: 0.79953545\n",
            "X: 884-4319$#\n",
            "Y: -3435$\n",
            "O: -3419$\n",
            "\n",
            "X: 5377+1398$\n",
            "Y: 6775$#\n",
            "O: 6775$#\n",
            "\n",
            "X: 8178-7828$\n",
            "Y: 350$##\n",
            "O: 342$##\n",
            "\n",
            "2nd stage completed\n",
            "Train: epoch 11\n",
            "Epoch: [11/20], step: [1/1250], loss: 0.790177\n",
            "Epoch: [11/20], step: [201/1250], loss: 0.782852\n",
            "Epoch: [11/20], step: [401/1250], loss: 0.800647\n",
            "Epoch: [11/20], step: [601/1250], loss: 0.854164\n",
            "Epoch: [11/20], step: [801/1250], loss: 0.762071\n",
            "Epoch: [11/20], step: [1001/1250], loss: 0.796274\n",
            "Epoch: [11/20], step: [1201/1250], loss: 0.705790\n",
            "1st stage completed\n",
            "Test: epoch 11 loss: 0.67470896\n",
            "X: 6864+3241$\n",
            "Y: 10105$\n",
            "O: 10099$\n",
            "\n",
            "X: 6479-9187$\n",
            "Y: -2708$\n",
            "O: -2703$\n",
            "\n",
            "X: 8742-1377$\n",
            "Y: 7365$#\n",
            "O: 7371$#\n",
            "\n",
            "2nd stage completed\n",
            "Train: epoch 12\n",
            "Epoch: [12/20], step: [1/1250], loss: 0.717408\n",
            "Epoch: [12/20], step: [201/1250], loss: 0.696449\n",
            "Epoch: [12/20], step: [401/1250], loss: 0.708985\n",
            "Epoch: [12/20], step: [601/1250], loss: 0.658059\n",
            "Epoch: [12/20], step: [801/1250], loss: 0.703727\n",
            "Epoch: [12/20], step: [1001/1250], loss: 0.655470\n",
            "Epoch: [12/20], step: [1201/1250], loss: 0.717500\n",
            "1st stage completed\n",
            "Test: epoch 12 loss: 0.57270736\n",
            "X: 9771+5251$\n",
            "Y: 15022$\n",
            "O: 15024$\n",
            "\n",
            "X: 4782-3728$\n",
            "Y: 1054$#\n",
            "O: 1057$#\n",
            "\n",
            "X: 9259+2045$\n",
            "Y: 11304$\n",
            "O: 11305$\n",
            "\n",
            "2nd stage completed\n",
            "Train: epoch 13\n",
            "Epoch: [13/20], step: [1/1250], loss: 0.613167\n",
            "Epoch: [13/20], step: [201/1250], loss: 0.615740\n",
            "Epoch: [13/20], step: [401/1250], loss: 0.657748\n",
            "Epoch: [13/20], step: [601/1250], loss: 0.620708\n",
            "Epoch: [13/20], step: [801/1250], loss: 0.775112\n",
            "Epoch: [13/20], step: [1001/1250], loss: 0.613508\n",
            "Epoch: [13/20], step: [1201/1250], loss: 0.651911\n",
            "1st stage completed\n",
            "Test: epoch 13 loss: 0.6374154\n",
            "X: 6977-2109$\n",
            "Y: 4868$#\n",
            "O: 4868$#\n",
            "\n",
            "X: 9679-6078$\n",
            "Y: 3601$#\n",
            "O: 3595$#\n",
            "\n",
            "X: 6517-6125$\n",
            "Y: 392$##\n",
            "O: 495$##\n",
            "\n",
            "2nd stage completed\n",
            "Train: epoch 14\n",
            "Epoch: [14/20], step: [1/1250], loss: 0.645274\n",
            "Epoch: [14/20], step: [201/1250], loss: 0.668353\n",
            "Epoch: [14/20], step: [401/1250], loss: 0.554570\n",
            "Epoch: [14/20], step: [601/1250], loss: 0.568333\n",
            "Epoch: [14/20], step: [801/1250], loss: 0.646665\n",
            "Epoch: [14/20], step: [1001/1250], loss: 0.615054\n",
            "Epoch: [14/20], step: [1201/1250], loss: 0.581777\n",
            "1st stage completed\n",
            "Test: epoch 14 loss: 0.5634236\n",
            "X: 4199-4191$\n",
            "Y: 8$####\n",
            "O: -15$##\n",
            "\n",
            "X: 8948-9611$\n",
            "Y: -663$#\n",
            "O: -664$#\n",
            "\n",
            "X: 43+5334$##\n",
            "Y: 5377$#\n",
            "O: 5388$#\n",
            "\n",
            "2nd stage completed\n",
            "Train: epoch 15\n",
            "Epoch: [15/20], step: [1/1250], loss: 0.569396\n",
            "Epoch: [15/20], step: [201/1250], loss: 0.572598\n",
            "Epoch: [15/20], step: [401/1250], loss: 0.605156\n",
            "Epoch: [15/20], step: [601/1250], loss: 0.549530\n",
            "Epoch: [15/20], step: [801/1250], loss: 0.504615\n",
            "Epoch: [15/20], step: [1001/1250], loss: 0.557262\n",
            "Epoch: [15/20], step: [1201/1250], loss: 0.551578\n",
            "1st stage completed\n",
            "Test: epoch 15 loss: 0.5011089\n",
            "X: 4069+6705$\n",
            "Y: 10774$\n",
            "O: 10774$\n",
            "\n",
            "X: 6090-3179$\n",
            "Y: 2911$#\n",
            "O: 2918$#\n",
            "\n",
            "X: 1297-7296$\n",
            "Y: -5999$\n",
            "O: -5999$\n",
            "\n",
            "2nd stage completed\n",
            "Train: epoch 16\n",
            "Epoch: [16/20], step: [1/1250], loss: 0.553037\n",
            "Epoch: [16/20], step: [201/1250], loss: 0.528062\n",
            "Epoch: [16/20], step: [401/1250], loss: 0.513182\n",
            "Epoch: [16/20], step: [601/1250], loss: 0.526940\n",
            "Epoch: [16/20], step: [801/1250], loss: 0.561299\n",
            "Epoch: [16/20], step: [1001/1250], loss: 0.491640\n",
            "Epoch: [16/20], step: [1201/1250], loss: 0.507303\n",
            "1st stage completed\n",
            "Test: epoch 16 loss: 0.526745\n",
            "X: 4218+4406$\n",
            "Y: 8624$#\n",
            "O: 8624$#\n",
            "\n",
            "X: 1240-8858$\n",
            "Y: -7618$\n",
            "O: -7618$\n",
            "\n",
            "X: 3589-5030$\n",
            "Y: -1441$\n",
            "O: -1444$\n",
            "\n",
            "2nd stage completed\n",
            "Train: epoch 17\n",
            "Epoch: [17/20], step: [1/1250], loss: 0.460438\n",
            "Epoch: [17/20], step: [201/1250], loss: 0.443066\n",
            "Epoch: [17/20], step: [401/1250], loss: 0.624515\n",
            "Epoch: [17/20], step: [601/1250], loss: 0.495198\n",
            "Epoch: [17/20], step: [801/1250], loss: 0.520288\n",
            "Epoch: [17/20], step: [1001/1250], loss: 0.510365\n",
            "Epoch: [17/20], step: [1201/1250], loss: 0.510312\n",
            "1st stage completed\n",
            "Test: epoch 17 loss: 0.5631731\n",
            "X: 3221-9974$\n",
            "Y: -6753$\n",
            "O: -6750$\n",
            "\n",
            "X: 3014-4540$\n",
            "Y: -1526$\n",
            "O: -1529$\n",
            "\n",
            "X: 1056-4598$\n",
            "Y: -3542$\n",
            "O: -3536$\n",
            "\n",
            "2nd stage completed\n",
            "Train: epoch 18\n",
            "Epoch: [18/20], step: [1/1250], loss: 0.541403\n",
            "Epoch: [18/20], step: [201/1250], loss: 0.462870\n",
            "Epoch: [18/20], step: [401/1250], loss: 0.493437\n",
            "Epoch: [18/20], step: [601/1250], loss: 0.538590\n",
            "Epoch: [18/20], step: [801/1250], loss: 0.453843\n",
            "Epoch: [18/20], step: [1001/1250], loss: 0.458496\n",
            "Epoch: [18/20], step: [1201/1250], loss: 0.529486\n",
            "1st stage completed\n",
            "Test: epoch 18 loss: 0.44549707\n",
            "X: 5957+5730$\n",
            "Y: 11687$\n",
            "O: 11691$\n",
            "\n",
            "X: 2140+4217$\n",
            "Y: 6357$#\n",
            "O: 6359$#\n",
            "\n",
            "X: 149+4337$#\n",
            "Y: 4486$#\n",
            "O: 4583$#\n",
            "\n",
            "2nd stage completed\n",
            "Train: epoch 19\n",
            "Epoch: [19/20], step: [1/1250], loss: 0.429634\n",
            "Epoch: [19/20], step: [201/1250], loss: 0.477303\n",
            "Epoch: [19/20], step: [401/1250], loss: 0.445968\n",
            "Epoch: [19/20], step: [601/1250], loss: 0.500991\n",
            "Epoch: [19/20], step: [801/1250], loss: 0.419922\n",
            "Epoch: [19/20], step: [1001/1250], loss: 0.505945\n",
            "Epoch: [19/20], step: [1201/1250], loss: 0.470418\n",
            "1st stage completed\n",
            "Test: epoch 19 loss: 0.5204091\n",
            "X: 3188+6900$\n",
            "Y: 10088$\n",
            "O: 10088$\n",
            "\n",
            "X: 963+69$###\n",
            "Y: 1032$#\n",
            "O: 985$##\n",
            "\n",
            "X: 674-7262$#\n",
            "Y: -6588$\n",
            "O: -6585$\n",
            "\n",
            "2nd stage completed\n",
            "Train: epoch 20\n",
            "Epoch: [20/20], step: [1/1250], loss: 0.458495\n",
            "Epoch: [20/20], step: [201/1250], loss: 0.421171\n",
            "Epoch: [20/20], step: [401/1250], loss: 0.412350\n",
            "Epoch: [20/20], step: [601/1250], loss: 0.480971\n",
            "Epoch: [20/20], step: [801/1250], loss: 0.467304\n",
            "Epoch: [20/20], step: [1001/1250], loss: 0.441025\n",
            "Epoch: [20/20], step: [1201/1250], loss: 0.490556\n",
            "1st stage completed\n",
            "Test: epoch 20 loss: 0.5084053\n",
            "X: 4089-1646$\n",
            "Y: 2443$#\n",
            "O: 2445$#\n",
            "\n",
            "X: 3608+6129$\n",
            "Y: 9737$#\n",
            "O: 9735$#\n",
            "\n",
            "X: 1296+8585$\n",
            "Y: 9881$#\n",
            "O: 9883$#\n",
            "\n",
            "2nd stage completed\n",
            "\n",
            "...training finished.\n"
          ],
          "name": "stdout"
        }
      ]
    },
    {
      "cell_type": "code",
      "metadata": {
        "id": "NHr43_CKbYCh",
        "colab_type": "code",
        "colab": {
          "base_uri": "https://localhost:8080/",
          "height": 353
        },
        "outputId": "a1c59b5e-27d8-48f2-cdc8-47019798c8a1"
      },
      "source": [
        "for i, (gts, predictions, invalid_number_prediction_count) in enumerate(zip(all_ground_truth,\n",
        "                                                                            all_model_predictions,\n",
        "                                                                            invalid_number_prediction_counts), 1):\n",
        "    mae = mean_absolute_error(gts, predictions)\n",
        "    print(\"Epoch: %i, MAE: %f, Invalid numbers: %i\" % (i, mae, invalid_number_prediction_count))"
      ],
      "execution_count": null,
      "outputs": [
        {
          "output_type": "stream",
          "text": [
            "Epoch: 1, MAE: 609.948700, Invalid numbers: 0\n",
            "Epoch: 2, MAE: 290.274250, Invalid numbers: 0\n",
            "Epoch: 3, MAE: 205.606450, Invalid numbers: 0\n",
            "Epoch: 4, MAE: 106.960150, Invalid numbers: 0\n",
            "Epoch: 5, MAE: 46.727550, Invalid numbers: 0\n",
            "Epoch: 6, MAE: 46.215650, Invalid numbers: 0\n",
            "Epoch: 7, MAE: 31.412550, Invalid numbers: 0\n",
            "Epoch: 8, MAE: 27.550950, Invalid numbers: 0\n",
            "Epoch: 9, MAE: 24.595000, Invalid numbers: 0\n",
            "Epoch: 10, MAE: 20.303550, Invalid numbers: 0\n",
            "Epoch: 11, MAE: 18.583650, Invalid numbers: 0\n",
            "Epoch: 12, MAE: 13.683350, Invalid numbers: 0\n",
            "Epoch: 13, MAE: 13.260950, Invalid numbers: 0\n",
            "Epoch: 14, MAE: 10.505750, Invalid numbers: 0\n",
            "Epoch: 15, MAE: 12.445300, Invalid numbers: 0\n",
            "Epoch: 16, MAE: 11.655366, Invalid numbers: 2\n",
            "Epoch: 17, MAE: 11.399250, Invalid numbers: 0\n",
            "Epoch: 18, MAE: 14.629350, Invalid numbers: 0\n",
            "Epoch: 19, MAE: 12.481450, Invalid numbers: 0\n",
            "Epoch: 20, MAE: 13.942150, Invalid numbers: 0\n"
          ],
          "name": "stdout"
        }
      ]
    },
    {
      "cell_type": "markdown",
      "metadata": {
        "id": "lmYkOJRH1sKm",
        "colab_type": "text"
      },
      "source": [
        "Experiment 4 gave the best results with the following hyperparameters:\n",
        "<br/>batch_size = 64\n",
        "<br/>n_epochs = 20\n",
        "<br/>learning_rate = 0.001\n",
        "<br/>dropout_keep_probability = 0.5\n",
        "<br/>max_len = 20"
      ]
    },
    {
      "cell_type": "code",
      "metadata": {
        "id": "2xSaedVBeaAK",
        "colab_type": "code",
        "colab": {}
      },
      "source": [
        ""
      ],
      "execution_count": null,
      "outputs": []
    }
  ]
}