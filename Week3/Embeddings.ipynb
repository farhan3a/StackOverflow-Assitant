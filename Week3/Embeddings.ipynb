{
  "nbformat": 4,
  "nbformat_minor": 0,
  "metadata": {
    "kernelspec": {
      "display_name": "Python 3",
      "language": "python",
      "name": "python3"
    },
    "language_info": {
      "codemirror_mode": {
        "name": "ipython",
        "version": 3
      },
      "file_extension": ".py",
      "mimetype": "text/x-python",
      "name": "python",
      "nbconvert_exporter": "python",
      "pygments_lexer": "ipython3",
      "version": "3.7.7"
    },
    "colab": {
      "name": "week3_Embeddings.ipynb",
      "provenance": [],
      "collapsed_sections": [
        "Sa3PWa2tSkT1"
      ],
      "toc_visible": true
    },
    "accelerator": "GPU",
    "widgets": {
      "application/vnd.jupyter.widget-state+json": {
        "1da8bbdd4c0746e88df7ef82ec97cc09": {
          "model_module": "@jupyter-widgets/controls",
          "model_name": "HBoxModel",
          "state": {
            "_view_name": "HBoxView",
            "_dom_classes": [],
            "_model_name": "HBoxModel",
            "_view_module": "@jupyter-widgets/controls",
            "_model_module_version": "1.5.0",
            "_view_count": null,
            "_view_module_version": "1.5.0",
            "box_style": "",
            "layout": "IPY_MODEL_d64b907138cb4c1d81173c434fb2e891",
            "_model_module": "@jupyter-widgets/controls",
            "children": [
              "IPY_MODEL_fd6eb90445df41928a87bd73f49b88cb",
              "IPY_MODEL_5f646e8d9cbf4365aece2bf66af9b91d"
            ]
          }
        },
        "d64b907138cb4c1d81173c434fb2e891": {
          "model_module": "@jupyter-widgets/base",
          "model_name": "LayoutModel",
          "state": {
            "_view_name": "LayoutView",
            "grid_template_rows": null,
            "right": null,
            "justify_content": null,
            "_view_module": "@jupyter-widgets/base",
            "overflow": null,
            "_model_module_version": "1.2.0",
            "_view_count": null,
            "flex_flow": null,
            "width": null,
            "min_width": null,
            "border": null,
            "align_items": null,
            "bottom": null,
            "_model_module": "@jupyter-widgets/base",
            "top": null,
            "grid_column": null,
            "overflow_y": null,
            "overflow_x": null,
            "grid_auto_flow": null,
            "grid_area": null,
            "grid_template_columns": null,
            "flex": null,
            "_model_name": "LayoutModel",
            "justify_items": null,
            "grid_row": null,
            "max_height": null,
            "align_content": null,
            "visibility": null,
            "align_self": null,
            "height": null,
            "min_height": null,
            "padding": null,
            "grid_auto_rows": null,
            "grid_gap": null,
            "max_width": null,
            "order": null,
            "_view_module_version": "1.2.0",
            "grid_template_areas": null,
            "object_position": null,
            "object_fit": null,
            "grid_auto_columns": null,
            "margin": null,
            "display": null,
            "left": null
          }
        },
        "fd6eb90445df41928a87bd73f49b88cb": {
          "model_module": "@jupyter-widgets/controls",
          "model_name": "FloatProgressModel",
          "state": {
            "_view_name": "ProgressView",
            "style": "IPY_MODEL_8ffa97efe87846d68d98242ae3d15403",
            "_dom_classes": [],
            "description": "train.tsv: 100%",
            "_model_name": "FloatProgressModel",
            "bar_style": "success",
            "max": 119127793,
            "_view_module": "@jupyter-widgets/controls",
            "_model_module_version": "1.5.0",
            "value": 119127793,
            "_view_count": null,
            "_view_module_version": "1.5.0",
            "orientation": "horizontal",
            "min": 0,
            "description_tooltip": null,
            "_model_module": "@jupyter-widgets/controls",
            "layout": "IPY_MODEL_b01b36bdf350425d83b51116f38f3f9d"
          }
        },
        "5f646e8d9cbf4365aece2bf66af9b91d": {
          "model_module": "@jupyter-widgets/controls",
          "model_name": "HTMLModel",
          "state": {
            "_view_name": "HTMLView",
            "style": "IPY_MODEL_97c5303936e64b00a6d4a33da275c05d",
            "_dom_classes": [],
            "description": "",
            "_model_name": "HTMLModel",
            "placeholder": "​",
            "_view_module": "@jupyter-widgets/controls",
            "_model_module_version": "1.5.0",
            "value": " 119M/119M [02:54&lt;00:00, 683kB/s]",
            "_view_count": null,
            "_view_module_version": "1.5.0",
            "description_tooltip": null,
            "_model_module": "@jupyter-widgets/controls",
            "layout": "IPY_MODEL_3de1964d221046c2a724f0514981fb4f"
          }
        },
        "8ffa97efe87846d68d98242ae3d15403": {
          "model_module": "@jupyter-widgets/controls",
          "model_name": "ProgressStyleModel",
          "state": {
            "_view_name": "StyleView",
            "_model_name": "ProgressStyleModel",
            "description_width": "initial",
            "_view_module": "@jupyter-widgets/base",
            "_model_module_version": "1.5.0",
            "_view_count": null,
            "_view_module_version": "1.2.0",
            "bar_color": null,
            "_model_module": "@jupyter-widgets/controls"
          }
        },
        "b01b36bdf350425d83b51116f38f3f9d": {
          "model_module": "@jupyter-widgets/base",
          "model_name": "LayoutModel",
          "state": {
            "_view_name": "LayoutView",
            "grid_template_rows": null,
            "right": null,
            "justify_content": null,
            "_view_module": "@jupyter-widgets/base",
            "overflow": null,
            "_model_module_version": "1.2.0",
            "_view_count": null,
            "flex_flow": null,
            "width": null,
            "min_width": null,
            "border": null,
            "align_items": null,
            "bottom": null,
            "_model_module": "@jupyter-widgets/base",
            "top": null,
            "grid_column": null,
            "overflow_y": null,
            "overflow_x": null,
            "grid_auto_flow": null,
            "grid_area": null,
            "grid_template_columns": null,
            "flex": null,
            "_model_name": "LayoutModel",
            "justify_items": null,
            "grid_row": null,
            "max_height": null,
            "align_content": null,
            "visibility": null,
            "align_self": null,
            "height": null,
            "min_height": null,
            "padding": null,
            "grid_auto_rows": null,
            "grid_gap": null,
            "max_width": null,
            "order": null,
            "_view_module_version": "1.2.0",
            "grid_template_areas": null,
            "object_position": null,
            "object_fit": null,
            "grid_auto_columns": null,
            "margin": null,
            "display": null,
            "left": null
          }
        },
        "97c5303936e64b00a6d4a33da275c05d": {
          "model_module": "@jupyter-widgets/controls",
          "model_name": "DescriptionStyleModel",
          "state": {
            "_view_name": "StyleView",
            "_model_name": "DescriptionStyleModel",
            "description_width": "",
            "_view_module": "@jupyter-widgets/base",
            "_model_module_version": "1.5.0",
            "_view_count": null,
            "_view_module_version": "1.2.0",
            "_model_module": "@jupyter-widgets/controls"
          }
        },
        "3de1964d221046c2a724f0514981fb4f": {
          "model_module": "@jupyter-widgets/base",
          "model_name": "LayoutModel",
          "state": {
            "_view_name": "LayoutView",
            "grid_template_rows": null,
            "right": null,
            "justify_content": null,
            "_view_module": "@jupyter-widgets/base",
            "overflow": null,
            "_model_module_version": "1.2.0",
            "_view_count": null,
            "flex_flow": null,
            "width": null,
            "min_width": null,
            "border": null,
            "align_items": null,
            "bottom": null,
            "_model_module": "@jupyter-widgets/base",
            "top": null,
            "grid_column": null,
            "overflow_y": null,
            "overflow_x": null,
            "grid_auto_flow": null,
            "grid_area": null,
            "grid_template_columns": null,
            "flex": null,
            "_model_name": "LayoutModel",
            "justify_items": null,
            "grid_row": null,
            "max_height": null,
            "align_content": null,
            "visibility": null,
            "align_self": null,
            "height": null,
            "min_height": null,
            "padding": null,
            "grid_auto_rows": null,
            "grid_gap": null,
            "max_width": null,
            "order": null,
            "_view_module_version": "1.2.0",
            "grid_template_areas": null,
            "object_position": null,
            "object_fit": null,
            "grid_auto_columns": null,
            "margin": null,
            "display": null,
            "left": null
          }
        },
        "55a6b6ba834e4c7fa9264e30e1ddbb91": {
          "model_module": "@jupyter-widgets/controls",
          "model_name": "HBoxModel",
          "state": {
            "_view_name": "HBoxView",
            "_dom_classes": [],
            "_model_name": "HBoxModel",
            "_view_module": "@jupyter-widgets/controls",
            "_model_module_version": "1.5.0",
            "_view_count": null,
            "_view_module_version": "1.5.0",
            "box_style": "",
            "layout": "IPY_MODEL_05a4cc2d88df4dacbac6693a971b4204",
            "_model_module": "@jupyter-widgets/controls",
            "children": [
              "IPY_MODEL_2ecc738a7fc248a086bea79d7fb51caa",
              "IPY_MODEL_c8b83b65ae76440b945334c76ec7a247"
            ]
          }
        },
        "05a4cc2d88df4dacbac6693a971b4204": {
          "model_module": "@jupyter-widgets/base",
          "model_name": "LayoutModel",
          "state": {
            "_view_name": "LayoutView",
            "grid_template_rows": null,
            "right": null,
            "justify_content": null,
            "_view_module": "@jupyter-widgets/base",
            "overflow": null,
            "_model_module_version": "1.2.0",
            "_view_count": null,
            "flex_flow": null,
            "width": null,
            "min_width": null,
            "border": null,
            "align_items": null,
            "bottom": null,
            "_model_module": "@jupyter-widgets/base",
            "top": null,
            "grid_column": null,
            "overflow_y": null,
            "overflow_x": null,
            "grid_auto_flow": null,
            "grid_area": null,
            "grid_template_columns": null,
            "flex": null,
            "_model_name": "LayoutModel",
            "justify_items": null,
            "grid_row": null,
            "max_height": null,
            "align_content": null,
            "visibility": null,
            "align_self": null,
            "height": null,
            "min_height": null,
            "padding": null,
            "grid_auto_rows": null,
            "grid_gap": null,
            "max_width": null,
            "order": null,
            "_view_module_version": "1.2.0",
            "grid_template_areas": null,
            "object_position": null,
            "object_fit": null,
            "grid_auto_columns": null,
            "margin": null,
            "display": null,
            "left": null
          }
        },
        "2ecc738a7fc248a086bea79d7fb51caa": {
          "model_module": "@jupyter-widgets/controls",
          "model_name": "FloatProgressModel",
          "state": {
            "_view_name": "ProgressView",
            "style": "IPY_MODEL_707bfd7411df43cdaae6e1e67f2a6eb1",
            "_dom_classes": [],
            "description": "validation.tsv: 100%",
            "_model_name": "FloatProgressModel",
            "bar_style": "success",
            "max": 535543630,
            "_view_module": "@jupyter-widgets/controls",
            "_model_module_version": "1.5.0",
            "value": 535543630,
            "_view_count": null,
            "_view_module_version": "1.5.0",
            "orientation": "horizontal",
            "min": 0,
            "description_tooltip": null,
            "_model_module": "@jupyter-widgets/controls",
            "layout": "IPY_MODEL_7d51edf0f5994657b51ca09fc6aff65d"
          }
        },
        "c8b83b65ae76440b945334c76ec7a247": {
          "model_module": "@jupyter-widgets/controls",
          "model_name": "HTMLModel",
          "state": {
            "_view_name": "HTMLView",
            "style": "IPY_MODEL_f96133273b104555ab7e8d300a62fd82",
            "_dom_classes": [],
            "description": "",
            "_model_name": "HTMLModel",
            "placeholder": "​",
            "_view_module": "@jupyter-widgets/controls",
            "_model_module_version": "1.5.0",
            "value": " 536M/536M [00:35&lt;00:00, 14.9MB/s]",
            "_view_count": null,
            "_view_module_version": "1.5.0",
            "description_tooltip": null,
            "_model_module": "@jupyter-widgets/controls",
            "layout": "IPY_MODEL_a5e02ef4ce844c6ba94b3cec0d9535a2"
          }
        },
        "707bfd7411df43cdaae6e1e67f2a6eb1": {
          "model_module": "@jupyter-widgets/controls",
          "model_name": "ProgressStyleModel",
          "state": {
            "_view_name": "StyleView",
            "_model_name": "ProgressStyleModel",
            "description_width": "initial",
            "_view_module": "@jupyter-widgets/base",
            "_model_module_version": "1.5.0",
            "_view_count": null,
            "_view_module_version": "1.2.0",
            "bar_color": null,
            "_model_module": "@jupyter-widgets/controls"
          }
        },
        "7d51edf0f5994657b51ca09fc6aff65d": {
          "model_module": "@jupyter-widgets/base",
          "model_name": "LayoutModel",
          "state": {
            "_view_name": "LayoutView",
            "grid_template_rows": null,
            "right": null,
            "justify_content": null,
            "_view_module": "@jupyter-widgets/base",
            "overflow": null,
            "_model_module_version": "1.2.0",
            "_view_count": null,
            "flex_flow": null,
            "width": null,
            "min_width": null,
            "border": null,
            "align_items": null,
            "bottom": null,
            "_model_module": "@jupyter-widgets/base",
            "top": null,
            "grid_column": null,
            "overflow_y": null,
            "overflow_x": null,
            "grid_auto_flow": null,
            "grid_area": null,
            "grid_template_columns": null,
            "flex": null,
            "_model_name": "LayoutModel",
            "justify_items": null,
            "grid_row": null,
            "max_height": null,
            "align_content": null,
            "visibility": null,
            "align_self": null,
            "height": null,
            "min_height": null,
            "padding": null,
            "grid_auto_rows": null,
            "grid_gap": null,
            "max_width": null,
            "order": null,
            "_view_module_version": "1.2.0",
            "grid_template_areas": null,
            "object_position": null,
            "object_fit": null,
            "grid_auto_columns": null,
            "margin": null,
            "display": null,
            "left": null
          }
        },
        "f96133273b104555ab7e8d300a62fd82": {
          "model_module": "@jupyter-widgets/controls",
          "model_name": "DescriptionStyleModel",
          "state": {
            "_view_name": "StyleView",
            "_model_name": "DescriptionStyleModel",
            "description_width": "",
            "_view_module": "@jupyter-widgets/base",
            "_model_module_version": "1.5.0",
            "_view_count": null,
            "_view_module_version": "1.2.0",
            "_model_module": "@jupyter-widgets/controls"
          }
        },
        "a5e02ef4ce844c6ba94b3cec0d9535a2": {
          "model_module": "@jupyter-widgets/base",
          "model_name": "LayoutModel",
          "state": {
            "_view_name": "LayoutView",
            "grid_template_rows": null,
            "right": null,
            "justify_content": null,
            "_view_module": "@jupyter-widgets/base",
            "overflow": null,
            "_model_module_version": "1.2.0",
            "_view_count": null,
            "flex_flow": null,
            "width": null,
            "min_width": null,
            "border": null,
            "align_items": null,
            "bottom": null,
            "_model_module": "@jupyter-widgets/base",
            "top": null,
            "grid_column": null,
            "overflow_y": null,
            "overflow_x": null,
            "grid_auto_flow": null,
            "grid_area": null,
            "grid_template_columns": null,
            "flex": null,
            "_model_name": "LayoutModel",
            "justify_items": null,
            "grid_row": null,
            "max_height": null,
            "align_content": null,
            "visibility": null,
            "align_self": null,
            "height": null,
            "min_height": null,
            "padding": null,
            "grid_auto_rows": null,
            "grid_gap": null,
            "max_width": null,
            "order": null,
            "_view_module_version": "1.2.0",
            "grid_template_areas": null,
            "object_position": null,
            "object_fit": null,
            "grid_auto_columns": null,
            "margin": null,
            "display": null,
            "left": null
          }
        },
        "5d74b17b543646ff9e8083e53afd3f7b": {
          "model_module": "@jupyter-widgets/controls",
          "model_name": "HBoxModel",
          "state": {
            "_view_name": "HBoxView",
            "_dom_classes": [],
            "_model_name": "HBoxModel",
            "_view_module": "@jupyter-widgets/controls",
            "_model_module_version": "1.5.0",
            "_view_count": null,
            "_view_module_version": "1.5.0",
            "box_style": "",
            "layout": "IPY_MODEL_cbbcdabc104e4559b08546859cb5be85",
            "_model_module": "@jupyter-widgets/controls",
            "children": [
              "IPY_MODEL_905ff5d75e3b4b22b10a287bb097c4ff",
              "IPY_MODEL_a67cc873402f4ad699a3cf5b06f05b62"
            ]
          }
        },
        "cbbcdabc104e4559b08546859cb5be85": {
          "model_module": "@jupyter-widgets/base",
          "model_name": "LayoutModel",
          "state": {
            "_view_name": "LayoutView",
            "grid_template_rows": null,
            "right": null,
            "justify_content": null,
            "_view_module": "@jupyter-widgets/base",
            "overflow": null,
            "_model_module_version": "1.2.0",
            "_view_count": null,
            "flex_flow": null,
            "width": null,
            "min_width": null,
            "border": null,
            "align_items": null,
            "bottom": null,
            "_model_module": "@jupyter-widgets/base",
            "top": null,
            "grid_column": null,
            "overflow_y": null,
            "overflow_x": null,
            "grid_auto_flow": null,
            "grid_area": null,
            "grid_template_columns": null,
            "flex": null,
            "_model_name": "LayoutModel",
            "justify_items": null,
            "grid_row": null,
            "max_height": null,
            "align_content": null,
            "visibility": null,
            "align_self": null,
            "height": null,
            "min_height": null,
            "padding": null,
            "grid_auto_rows": null,
            "grid_gap": null,
            "max_width": null,
            "order": null,
            "_view_module_version": "1.2.0",
            "grid_template_areas": null,
            "object_position": null,
            "object_fit": null,
            "grid_auto_columns": null,
            "margin": null,
            "display": null,
            "left": null
          }
        },
        "905ff5d75e3b4b22b10a287bb097c4ff": {
          "model_module": "@jupyter-widgets/controls",
          "model_name": "FloatProgressModel",
          "state": {
            "_view_name": "ProgressView",
            "style": "IPY_MODEL_5aa1ada706d6426e84d6a486267bb7bc",
            "_dom_classes": [],
            "description": "test.tsv: 100%",
            "_model_name": "FloatProgressModel",
            "bar_style": "success",
            "max": 46408910,
            "_view_module": "@jupyter-widgets/controls",
            "_model_module_version": "1.5.0",
            "value": 46408910,
            "_view_count": null,
            "_view_module_version": "1.5.0",
            "orientation": "horizontal",
            "min": 0,
            "description_tooltip": null,
            "_model_module": "@jupyter-widgets/controls",
            "layout": "IPY_MODEL_3a9c17a76676468ea9ba6e2ac0c3f967"
          }
        },
        "a67cc873402f4ad699a3cf5b06f05b62": {
          "model_module": "@jupyter-widgets/controls",
          "model_name": "HTMLModel",
          "state": {
            "_view_name": "HTMLView",
            "style": "IPY_MODEL_31f3e0ee6eda41549d2006891c8471f6",
            "_dom_classes": [],
            "description": "",
            "_model_name": "HTMLModel",
            "placeholder": "​",
            "_view_module": "@jupyter-widgets/controls",
            "_model_module_version": "1.5.0",
            "value": " 46.4M/46.4M [02:07&lt;00:00, 364kB/s]",
            "_view_count": null,
            "_view_module_version": "1.5.0",
            "description_tooltip": null,
            "_model_module": "@jupyter-widgets/controls",
            "layout": "IPY_MODEL_8ea21f64f8884f9594a9a7a10baca357"
          }
        },
        "5aa1ada706d6426e84d6a486267bb7bc": {
          "model_module": "@jupyter-widgets/controls",
          "model_name": "ProgressStyleModel",
          "state": {
            "_view_name": "StyleView",
            "_model_name": "ProgressStyleModel",
            "description_width": "initial",
            "_view_module": "@jupyter-widgets/base",
            "_model_module_version": "1.5.0",
            "_view_count": null,
            "_view_module_version": "1.2.0",
            "bar_color": null,
            "_model_module": "@jupyter-widgets/controls"
          }
        },
        "3a9c17a76676468ea9ba6e2ac0c3f967": {
          "model_module": "@jupyter-widgets/base",
          "model_name": "LayoutModel",
          "state": {
            "_view_name": "LayoutView",
            "grid_template_rows": null,
            "right": null,
            "justify_content": null,
            "_view_module": "@jupyter-widgets/base",
            "overflow": null,
            "_model_module_version": "1.2.0",
            "_view_count": null,
            "flex_flow": null,
            "width": null,
            "min_width": null,
            "border": null,
            "align_items": null,
            "bottom": null,
            "_model_module": "@jupyter-widgets/base",
            "top": null,
            "grid_column": null,
            "overflow_y": null,
            "overflow_x": null,
            "grid_auto_flow": null,
            "grid_area": null,
            "grid_template_columns": null,
            "flex": null,
            "_model_name": "LayoutModel",
            "justify_items": null,
            "grid_row": null,
            "max_height": null,
            "align_content": null,
            "visibility": null,
            "align_self": null,
            "height": null,
            "min_height": null,
            "padding": null,
            "grid_auto_rows": null,
            "grid_gap": null,
            "max_width": null,
            "order": null,
            "_view_module_version": "1.2.0",
            "grid_template_areas": null,
            "object_position": null,
            "object_fit": null,
            "grid_auto_columns": null,
            "margin": null,
            "display": null,
            "left": null
          }
        },
        "31f3e0ee6eda41549d2006891c8471f6": {
          "model_module": "@jupyter-widgets/controls",
          "model_name": "DescriptionStyleModel",
          "state": {
            "_view_name": "StyleView",
            "_model_name": "DescriptionStyleModel",
            "description_width": "",
            "_view_module": "@jupyter-widgets/base",
            "_model_module_version": "1.5.0",
            "_view_count": null,
            "_view_module_version": "1.2.0",
            "_model_module": "@jupyter-widgets/controls"
          }
        },
        "8ea21f64f8884f9594a9a7a10baca357": {
          "model_module": "@jupyter-widgets/base",
          "model_name": "LayoutModel",
          "state": {
            "_view_name": "LayoutView",
            "grid_template_rows": null,
            "right": null,
            "justify_content": null,
            "_view_module": "@jupyter-widgets/base",
            "overflow": null,
            "_model_module_version": "1.2.0",
            "_view_count": null,
            "flex_flow": null,
            "width": null,
            "min_width": null,
            "border": null,
            "align_items": null,
            "bottom": null,
            "_model_module": "@jupyter-widgets/base",
            "top": null,
            "grid_column": null,
            "overflow_y": null,
            "overflow_x": null,
            "grid_auto_flow": null,
            "grid_area": null,
            "grid_template_columns": null,
            "flex": null,
            "_model_name": "LayoutModel",
            "justify_items": null,
            "grid_row": null,
            "max_height": null,
            "align_content": null,
            "visibility": null,
            "align_self": null,
            "height": null,
            "min_height": null,
            "padding": null,
            "grid_auto_rows": null,
            "grid_gap": null,
            "max_width": null,
            "order": null,
            "_view_module_version": "1.2.0",
            "grid_template_areas": null,
            "object_position": null,
            "object_fit": null,
            "grid_auto_columns": null,
            "margin": null,
            "display": null,
            "left": null
          }
        },
        "3b783e4b356c43c08070b4e1f4a142ef": {
          "model_module": "@jupyter-widgets/controls",
          "model_name": "HBoxModel",
          "state": {
            "_view_name": "HBoxView",
            "_dom_classes": [],
            "_model_name": "HBoxModel",
            "_view_module": "@jupyter-widgets/controls",
            "_model_module_version": "1.5.0",
            "_view_count": null,
            "_view_module_version": "1.5.0",
            "box_style": "",
            "layout": "IPY_MODEL_d715b53562b84f459ba3506db63e754d",
            "_model_module": "@jupyter-widgets/controls",
            "children": [
              "IPY_MODEL_f1d38feda76e407d8e0fcbb17f970d43",
              "IPY_MODEL_66bf7847d5c243d5b2d6c3f145fcd876"
            ]
          }
        },
        "d715b53562b84f459ba3506db63e754d": {
          "model_module": "@jupyter-widgets/base",
          "model_name": "LayoutModel",
          "state": {
            "_view_name": "LayoutView",
            "grid_template_rows": null,
            "right": null,
            "justify_content": null,
            "_view_module": "@jupyter-widgets/base",
            "overflow": null,
            "_model_module_version": "1.2.0",
            "_view_count": null,
            "flex_flow": null,
            "width": null,
            "min_width": null,
            "border": null,
            "align_items": null,
            "bottom": null,
            "_model_module": "@jupyter-widgets/base",
            "top": null,
            "grid_column": null,
            "overflow_y": null,
            "overflow_x": null,
            "grid_auto_flow": null,
            "grid_area": null,
            "grid_template_columns": null,
            "flex": null,
            "_model_name": "LayoutModel",
            "justify_items": null,
            "grid_row": null,
            "max_height": null,
            "align_content": null,
            "visibility": null,
            "align_self": null,
            "height": null,
            "min_height": null,
            "padding": null,
            "grid_auto_rows": null,
            "grid_gap": null,
            "max_width": null,
            "order": null,
            "_view_module_version": "1.2.0",
            "grid_template_areas": null,
            "object_position": null,
            "object_fit": null,
            "grid_auto_columns": null,
            "margin": null,
            "display": null,
            "left": null
          }
        },
        "f1d38feda76e407d8e0fcbb17f970d43": {
          "model_module": "@jupyter-widgets/controls",
          "model_name": "FloatProgressModel",
          "state": {
            "_view_name": "ProgressView",
            "style": "IPY_MODEL_d91ec32816304a9cb3004456991793d2",
            "_dom_classes": [],
            "description": "test_embeddings.tsv: 100%",
            "_model_name": "FloatProgressModel",
            "bar_style": "success",
            "max": 5333,
            "_view_module": "@jupyter-widgets/controls",
            "_model_module_version": "1.5.0",
            "value": 5333,
            "_view_count": null,
            "_view_module_version": "1.5.0",
            "orientation": "horizontal",
            "min": 0,
            "description_tooltip": null,
            "_model_module": "@jupyter-widgets/controls",
            "layout": "IPY_MODEL_4b71c38b045b455194567d4fd8a50d51"
          }
        },
        "66bf7847d5c243d5b2d6c3f145fcd876": {
          "model_module": "@jupyter-widgets/controls",
          "model_name": "HTMLModel",
          "state": {
            "_view_name": "HTMLView",
            "style": "IPY_MODEL_5800748385504582926bf2c35fb2f8ad",
            "_dom_classes": [],
            "description": "",
            "_model_name": "HTMLModel",
            "placeholder": "​",
            "_view_module": "@jupyter-widgets/controls",
            "_model_module_version": "1.5.0",
            "value": " 5.33k/5.33k [02:02&lt;00:00, 43.6B/s]",
            "_view_count": null,
            "_view_module_version": "1.5.0",
            "description_tooltip": null,
            "_model_module": "@jupyter-widgets/controls",
            "layout": "IPY_MODEL_21d2c08d1cef4122ad3ac4559cdac367"
          }
        },
        "d91ec32816304a9cb3004456991793d2": {
          "model_module": "@jupyter-widgets/controls",
          "model_name": "ProgressStyleModel",
          "state": {
            "_view_name": "StyleView",
            "_model_name": "ProgressStyleModel",
            "description_width": "initial",
            "_view_module": "@jupyter-widgets/base",
            "_model_module_version": "1.5.0",
            "_view_count": null,
            "_view_module_version": "1.2.0",
            "bar_color": null,
            "_model_module": "@jupyter-widgets/controls"
          }
        },
        "4b71c38b045b455194567d4fd8a50d51": {
          "model_module": "@jupyter-widgets/base",
          "model_name": "LayoutModel",
          "state": {
            "_view_name": "LayoutView",
            "grid_template_rows": null,
            "right": null,
            "justify_content": null,
            "_view_module": "@jupyter-widgets/base",
            "overflow": null,
            "_model_module_version": "1.2.0",
            "_view_count": null,
            "flex_flow": null,
            "width": null,
            "min_width": null,
            "border": null,
            "align_items": null,
            "bottom": null,
            "_model_module": "@jupyter-widgets/base",
            "top": null,
            "grid_column": null,
            "overflow_y": null,
            "overflow_x": null,
            "grid_auto_flow": null,
            "grid_area": null,
            "grid_template_columns": null,
            "flex": null,
            "_model_name": "LayoutModel",
            "justify_items": null,
            "grid_row": null,
            "max_height": null,
            "align_content": null,
            "visibility": null,
            "align_self": null,
            "height": null,
            "min_height": null,
            "padding": null,
            "grid_auto_rows": null,
            "grid_gap": null,
            "max_width": null,
            "order": null,
            "_view_module_version": "1.2.0",
            "grid_template_areas": null,
            "object_position": null,
            "object_fit": null,
            "grid_auto_columns": null,
            "margin": null,
            "display": null,
            "left": null
          }
        },
        "5800748385504582926bf2c35fb2f8ad": {
          "model_module": "@jupyter-widgets/controls",
          "model_name": "DescriptionStyleModel",
          "state": {
            "_view_name": "StyleView",
            "_model_name": "DescriptionStyleModel",
            "description_width": "",
            "_view_module": "@jupyter-widgets/base",
            "_model_module_version": "1.5.0",
            "_view_count": null,
            "_view_module_version": "1.2.0",
            "_model_module": "@jupyter-widgets/controls"
          }
        },
        "21d2c08d1cef4122ad3ac4559cdac367": {
          "model_module": "@jupyter-widgets/base",
          "model_name": "LayoutModel",
          "state": {
            "_view_name": "LayoutView",
            "grid_template_rows": null,
            "right": null,
            "justify_content": null,
            "_view_module": "@jupyter-widgets/base",
            "overflow": null,
            "_model_module_version": "1.2.0",
            "_view_count": null,
            "flex_flow": null,
            "width": null,
            "min_width": null,
            "border": null,
            "align_items": null,
            "bottom": null,
            "_model_module": "@jupyter-widgets/base",
            "top": null,
            "grid_column": null,
            "overflow_y": null,
            "overflow_x": null,
            "grid_auto_flow": null,
            "grid_area": null,
            "grid_template_columns": null,
            "flex": null,
            "_model_name": "LayoutModel",
            "justify_items": null,
            "grid_row": null,
            "max_height": null,
            "align_content": null,
            "visibility": null,
            "align_self": null,
            "height": null,
            "min_height": null,
            "padding": null,
            "grid_auto_rows": null,
            "grid_gap": null,
            "max_width": null,
            "order": null,
            "_view_module_version": "1.2.0",
            "grid_template_areas": null,
            "object_position": null,
            "object_fit": null,
            "grid_auto_columns": null,
            "margin": null,
            "display": null,
            "left": null
          }
        },
        "0e6265b268c140588b952f8ecd1552f2": {
          "model_module": "@jupyter-widgets/controls",
          "model_name": "HBoxModel",
          "state": {
            "_view_name": "HBoxView",
            "_dom_classes": [],
            "_model_name": "HBoxModel",
            "_view_module": "@jupyter-widgets/controls",
            "_model_module_version": "1.5.0",
            "_view_count": null,
            "_view_module_version": "1.5.0",
            "box_style": "",
            "layout": "IPY_MODEL_8723c2b20b634e4d942103b44eff4204",
            "_model_module": "@jupyter-widgets/controls",
            "children": [
              "IPY_MODEL_c86bce332db34b9799c790be689573d4",
              "IPY_MODEL_be08d197b9204484996e5eee1f1407d8"
            ]
          }
        },
        "8723c2b20b634e4d942103b44eff4204": {
          "model_module": "@jupyter-widgets/base",
          "model_name": "LayoutModel",
          "state": {
            "_view_name": "LayoutView",
            "grid_template_rows": null,
            "right": null,
            "justify_content": null,
            "_view_module": "@jupyter-widgets/base",
            "overflow": null,
            "_model_module_version": "1.2.0",
            "_view_count": null,
            "flex_flow": null,
            "width": null,
            "min_width": null,
            "border": null,
            "align_items": null,
            "bottom": null,
            "_model_module": "@jupyter-widgets/base",
            "top": null,
            "grid_column": null,
            "overflow_y": null,
            "overflow_x": null,
            "grid_auto_flow": null,
            "grid_area": null,
            "grid_template_columns": null,
            "flex": null,
            "_model_name": "LayoutModel",
            "justify_items": null,
            "grid_row": null,
            "max_height": null,
            "align_content": null,
            "visibility": null,
            "align_self": null,
            "height": null,
            "min_height": null,
            "padding": null,
            "grid_auto_rows": null,
            "grid_gap": null,
            "max_width": null,
            "order": null,
            "_view_module_version": "1.2.0",
            "grid_template_areas": null,
            "object_position": null,
            "object_fit": null,
            "grid_auto_columns": null,
            "margin": null,
            "display": null,
            "left": null
          }
        },
        "c86bce332db34b9799c790be689573d4": {
          "model_module": "@jupyter-widgets/controls",
          "model_name": "FloatProgressModel",
          "state": {
            "_view_name": "ProgressView",
            "style": "IPY_MODEL_5cfedd8a692e4296ae1f66b8e7a116b0",
            "_dom_classes": [],
            "description": "GoogleNews-vectors-negative300.bin.gz: 100%",
            "_model_name": "FloatProgressModel",
            "bar_style": "success",
            "max": 1647046227,
            "_view_module": "@jupyter-widgets/controls",
            "_model_module_version": "1.5.0",
            "value": 1647046227,
            "_view_count": null,
            "_view_module_version": "1.5.0",
            "orientation": "horizontal",
            "min": 0,
            "description_tooltip": null,
            "_model_module": "@jupyter-widgets/controls",
            "layout": "IPY_MODEL_dcfd697d9c4d484691b2eb1c1d41a416"
          }
        },
        "be08d197b9204484996e5eee1f1407d8": {
          "model_module": "@jupyter-widgets/controls",
          "model_name": "HTMLModel",
          "state": {
            "_view_name": "HTMLView",
            "style": "IPY_MODEL_57fdc53840e44d8b87cb0993ec3fa892",
            "_dom_classes": [],
            "description": "",
            "_model_name": "HTMLModel",
            "placeholder": "​",
            "_view_module": "@jupyter-widgets/controls",
            "_model_module_version": "1.5.0",
            "value": " 1.65G/1.65G [02:01&lt;00:00, 13.6MB/s]",
            "_view_count": null,
            "_view_module_version": "1.5.0",
            "description_tooltip": null,
            "_model_module": "@jupyter-widgets/controls",
            "layout": "IPY_MODEL_463a55c1cc394d13a49a8d64041551a5"
          }
        },
        "5cfedd8a692e4296ae1f66b8e7a116b0": {
          "model_module": "@jupyter-widgets/controls",
          "model_name": "ProgressStyleModel",
          "state": {
            "_view_name": "StyleView",
            "_model_name": "ProgressStyleModel",
            "description_width": "initial",
            "_view_module": "@jupyter-widgets/base",
            "_model_module_version": "1.5.0",
            "_view_count": null,
            "_view_module_version": "1.2.0",
            "bar_color": null,
            "_model_module": "@jupyter-widgets/controls"
          }
        },
        "dcfd697d9c4d484691b2eb1c1d41a416": {
          "model_module": "@jupyter-widgets/base",
          "model_name": "LayoutModel",
          "state": {
            "_view_name": "LayoutView",
            "grid_template_rows": null,
            "right": null,
            "justify_content": null,
            "_view_module": "@jupyter-widgets/base",
            "overflow": null,
            "_model_module_version": "1.2.0",
            "_view_count": null,
            "flex_flow": null,
            "width": null,
            "min_width": null,
            "border": null,
            "align_items": null,
            "bottom": null,
            "_model_module": "@jupyter-widgets/base",
            "top": null,
            "grid_column": null,
            "overflow_y": null,
            "overflow_x": null,
            "grid_auto_flow": null,
            "grid_area": null,
            "grid_template_columns": null,
            "flex": null,
            "_model_name": "LayoutModel",
            "justify_items": null,
            "grid_row": null,
            "max_height": null,
            "align_content": null,
            "visibility": null,
            "align_self": null,
            "height": null,
            "min_height": null,
            "padding": null,
            "grid_auto_rows": null,
            "grid_gap": null,
            "max_width": null,
            "order": null,
            "_view_module_version": "1.2.0",
            "grid_template_areas": null,
            "object_position": null,
            "object_fit": null,
            "grid_auto_columns": null,
            "margin": null,
            "display": null,
            "left": null
          }
        },
        "57fdc53840e44d8b87cb0993ec3fa892": {
          "model_module": "@jupyter-widgets/controls",
          "model_name": "DescriptionStyleModel",
          "state": {
            "_view_name": "StyleView",
            "_model_name": "DescriptionStyleModel",
            "description_width": "",
            "_view_module": "@jupyter-widgets/base",
            "_model_module_version": "1.5.0",
            "_view_count": null,
            "_view_module_version": "1.2.0",
            "_model_module": "@jupyter-widgets/controls"
          }
        },
        "463a55c1cc394d13a49a8d64041551a5": {
          "model_module": "@jupyter-widgets/base",
          "model_name": "LayoutModel",
          "state": {
            "_view_name": "LayoutView",
            "grid_template_rows": null,
            "right": null,
            "justify_content": null,
            "_view_module": "@jupyter-widgets/base",
            "overflow": null,
            "_model_module_version": "1.2.0",
            "_view_count": null,
            "flex_flow": null,
            "width": null,
            "min_width": null,
            "border": null,
            "align_items": null,
            "bottom": null,
            "_model_module": "@jupyter-widgets/base",
            "top": null,
            "grid_column": null,
            "overflow_y": null,
            "overflow_x": null,
            "grid_auto_flow": null,
            "grid_area": null,
            "grid_template_columns": null,
            "flex": null,
            "_model_name": "LayoutModel",
            "justify_items": null,
            "grid_row": null,
            "max_height": null,
            "align_content": null,
            "visibility": null,
            "align_self": null,
            "height": null,
            "min_height": null,
            "padding": null,
            "grid_auto_rows": null,
            "grid_gap": null,
            "max_width": null,
            "order": null,
            "_view_module_version": "1.2.0",
            "grid_template_areas": null,
            "object_position": null,
            "object_fit": null,
            "grid_auto_columns": null,
            "margin": null,
            "display": null,
            "left": null
          }
        }
      }
    }
  },
  "cells": [
    {
      "cell_type": "markdown",
      "metadata": {
        "id": "-yRi0f1lSkTe",
        "colab_type": "text"
      },
      "source": [
        "# Find duplicate questions on StackOverflow by their embeddings\n",
        "\n",
        "In this assignment you will learn how to calculate a similarity for pieces of text. Using this approach you will know how to find duplicate questions from [StackOverflow](https://stackoverflow.com)."
      ]
    },
    {
      "cell_type": "markdown",
      "metadata": {
        "id": "HDmPAUopSkTf",
        "colab_type": "text"
      },
      "source": [
        "### Libraries\n",
        "\n",
        "In this task you will you will need the following libraries:\n",
        "- [StarSpace](https://github.com/facebookresearch/StarSpace) — a general-purpose model for efficient learning of entity embeddings from Facebook\n",
        "- [Gensim](https://radimrehurek.com/gensim/) — a tool for solving various NLP-related tasks (topic modeling, text representation, ...)\n",
        "- [Numpy](http://www.numpy.org) — a package for scientific computing.\n",
        "- [scikit-learn](http://scikit-learn.org/stable/index.html) — a tool for data mining and data analysis.\n",
        "- [Nltk](http://www.nltk.org) — a platform to work with human language data."
      ]
    },
    {
      "cell_type": "markdown",
      "metadata": {
        "id": "nNYB_XaHSkTf",
        "colab_type": "text"
      },
      "source": [
        "### Data\n",
        "\n",
        "The following cell will download all data required for this assignment into the folder `week3/data`."
      ]
    },
    {
      "cell_type": "code",
      "metadata": {
        "id": "tPJnP_EVSkTg",
        "colab_type": "code",
        "colab": {
          "base_uri": "https://localhost:8080/",
          "height": 462,
          "referenced_widgets": [
            "1da8bbdd4c0746e88df7ef82ec97cc09",
            "d64b907138cb4c1d81173c434fb2e891",
            "fd6eb90445df41928a87bd73f49b88cb",
            "5f646e8d9cbf4365aece2bf66af9b91d",
            "8ffa97efe87846d68d98242ae3d15403",
            "b01b36bdf350425d83b51116f38f3f9d",
            "97c5303936e64b00a6d4a33da275c05d",
            "3de1964d221046c2a724f0514981fb4f",
            "55a6b6ba834e4c7fa9264e30e1ddbb91",
            "05a4cc2d88df4dacbac6693a971b4204",
            "2ecc738a7fc248a086bea79d7fb51caa",
            "c8b83b65ae76440b945334c76ec7a247",
            "707bfd7411df43cdaae6e1e67f2a6eb1",
            "7d51edf0f5994657b51ca09fc6aff65d",
            "f96133273b104555ab7e8d300a62fd82",
            "a5e02ef4ce844c6ba94b3cec0d9535a2",
            "5d74b17b543646ff9e8083e53afd3f7b",
            "cbbcdabc104e4559b08546859cb5be85",
            "905ff5d75e3b4b22b10a287bb097c4ff",
            "a67cc873402f4ad699a3cf5b06f05b62",
            "5aa1ada706d6426e84d6a486267bb7bc",
            "3a9c17a76676468ea9ba6e2ac0c3f967",
            "31f3e0ee6eda41549d2006891c8471f6",
            "8ea21f64f8884f9594a9a7a10baca357",
            "3b783e4b356c43c08070b4e1f4a142ef",
            "d715b53562b84f459ba3506db63e754d",
            "f1d38feda76e407d8e0fcbb17f970d43",
            "66bf7847d5c243d5b2d6c3f145fcd876",
            "d91ec32816304a9cb3004456991793d2",
            "4b71c38b045b455194567d4fd8a50d51",
            "5800748385504582926bf2c35fb2f8ad",
            "21d2c08d1cef4122ad3ac4559cdac367",
            "0e6265b268c140588b952f8ecd1552f2",
            "8723c2b20b634e4d942103b44eff4204",
            "c86bce332db34b9799c790be689573d4",
            "be08d197b9204484996e5eee1f1407d8",
            "5cfedd8a692e4296ae1f66b8e7a116b0",
            "dcfd697d9c4d484691b2eb1c1d41a416",
            "57fdc53840e44d8b87cb0993ec3fa892",
            "463a55c1cc394d13a49a8d64041551a5"
          ]
        },
        "outputId": "1bd96563-a2e8-4713-bd6a-bb648a155af7"
      },
      "source": [
        "try:\n",
        "    import google.colab\n",
        "    IN_COLAB = True\n",
        "except:\n",
        "    IN_COLAB = False\n",
        "\n",
        "if IN_COLAB:\n",
        "    ! wget https://raw.githubusercontent.com/hse-aml/natural-language-processing/master/setup_google_colab.py -O setup_google_colab.py\n",
        "    import setup_google_colab\n",
        "    setup_google_colab.setup_week3()\n",
        "    \n",
        "import sys\n",
        "sys.path.append(\"..\")\n",
        "from common.download_utils import download_week3_resources\n",
        "\n",
        "download_week3_resources()"
      ],
      "execution_count": null,
      "outputs": [
        {
          "output_type": "stream",
          "text": [
            "--2020-07-21 16:53:03--  https://raw.githubusercontent.com/hse-aml/natural-language-processing/master/setup_google_colab.py\n",
            "Resolving raw.githubusercontent.com (raw.githubusercontent.com)... 151.101.0.133, 151.101.64.133, 151.101.128.133, ...\n",
            "Connecting to raw.githubusercontent.com (raw.githubusercontent.com)|151.101.0.133|:443... connected.\n",
            "HTTP request sent, awaiting response... 200 OK\n",
            "Length: 1939 (1.9K) [text/plain]\n",
            "Saving to: ‘setup_google_colab.py’\n",
            "\n",
            "\rsetup_google_colab.   0%[                    ]       0  --.-KB/s               \rsetup_google_colab. 100%[===================>]   1.89K  --.-KB/s    in 0s      \n",
            "\n",
            "2020-07-21 16:53:03 (23.7 MB/s) - ‘setup_google_colab.py’ saved [1939/1939]\n",
            "\n"
          ],
          "name": "stdout"
        },
        {
          "output_type": "display_data",
          "data": {
            "application/vnd.jupyter.widget-view+json": {
              "model_id": "1da8bbdd4c0746e88df7ef82ec97cc09",
              "version_minor": 0,
              "version_major": 2
            },
            "text/plain": [
              "HBox(children=(FloatProgress(value=0.0, max=119127793.0), HTML(value='')))"
            ]
          },
          "metadata": {
            "tags": []
          }
        },
        {
          "output_type": "stream",
          "text": [
            "\n"
          ],
          "name": "stdout"
        },
        {
          "output_type": "display_data",
          "data": {
            "application/vnd.jupyter.widget-view+json": {
              "model_id": "55a6b6ba834e4c7fa9264e30e1ddbb91",
              "version_minor": 0,
              "version_major": 2
            },
            "text/plain": [
              "HBox(children=(FloatProgress(value=0.0, max=535543630.0), HTML(value='')))"
            ]
          },
          "metadata": {
            "tags": []
          }
        },
        {
          "output_type": "stream",
          "text": [
            "\n"
          ],
          "name": "stdout"
        },
        {
          "output_type": "display_data",
          "data": {
            "application/vnd.jupyter.widget-view+json": {
              "model_id": "5d74b17b543646ff9e8083e53afd3f7b",
              "version_minor": 0,
              "version_major": 2
            },
            "text/plain": [
              "HBox(children=(FloatProgress(value=0.0, max=46408910.0), HTML(value='')))"
            ]
          },
          "metadata": {
            "tags": []
          }
        },
        {
          "output_type": "stream",
          "text": [
            "\n"
          ],
          "name": "stdout"
        },
        {
          "output_type": "display_data",
          "data": {
            "application/vnd.jupyter.widget-view+json": {
              "model_id": "3b783e4b356c43c08070b4e1f4a142ef",
              "version_minor": 0,
              "version_major": 2
            },
            "text/plain": [
              "HBox(children=(FloatProgress(value=0.0, max=5333.0), HTML(value='')))"
            ]
          },
          "metadata": {
            "tags": []
          }
        },
        {
          "output_type": "stream",
          "text": [
            "\n",
            "Downloading GoogleNews-vectors-negative300.bin.gz (1.5G) for you, it will take a while...\n"
          ],
          "name": "stdout"
        },
        {
          "output_type": "display_data",
          "data": {
            "application/vnd.jupyter.widget-view+json": {
              "model_id": "0e6265b268c140588b952f8ecd1552f2",
              "version_minor": 0,
              "version_major": 2
            },
            "text/plain": [
              "HBox(children=(FloatProgress(value=0.0, max=1647046227.0), HTML(value='')))"
            ]
          },
          "metadata": {
            "tags": []
          }
        },
        {
          "output_type": "stream",
          "text": [
            "\n"
          ],
          "name": "stdout"
        }
      ]
    },
    {
      "cell_type": "markdown",
      "metadata": {
        "id": "bY1ADNhASkTj",
        "colab_type": "text"
      },
      "source": [
        "### Grading\n",
        "We will create a grader instace below and use it to collect your answers. Note that these outputs will be stored locally inside grader and will be uploaded to platform only after running submiting function in the last part of this assignment. If you want to make partial submission, you can run that cell any time you want."
      ]
    },
    {
      "cell_type": "code",
      "metadata": {
        "id": "NHUNLRknSkTk",
        "colab_type": "code",
        "colab": {}
      },
      "source": [
        "from grader import Grader"
      ],
      "execution_count": null,
      "outputs": []
    },
    {
      "cell_type": "code",
      "metadata": {
        "id": "5w0dehBQSkTm",
        "colab_type": "code",
        "colab": {}
      },
      "source": [
        "grader = Grader()"
      ],
      "execution_count": null,
      "outputs": []
    },
    {
      "cell_type": "markdown",
      "metadata": {
        "id": "neKuVnRySkTp",
        "colab_type": "text"
      },
      "source": [
        "## Word embedding\n",
        "\n",
        "To solve the problem, you will use two different models of embeddings:\n",
        "\n",
        " - [Pre-trained word vectors](https://code.google.com/archive/p/word2vec/) from Google which were trained on a part of Google News dataset (about 100 billion words). The model contains 300-dimensional vectors for 3 million words and phrases. `GoogleNews-vectors-negative300.bin.gz` will be downloaded in `download_week3_resources()`.\n",
        " - Representations using StarSpace on StackOverflow data sample. You will need to train them from scratch."
      ]
    },
    {
      "cell_type": "markdown",
      "metadata": {
        "id": "W0eafZY6SkTq",
        "colab_type": "text"
      },
      "source": [
        "It's always easier to start with pre-trained embeddings. Unpack the pre-trained Goggle's vectors and upload them using the function [KeyedVectors.load_word2vec_format](https://radimrehurek.com/gensim/models/keyedvectors.html) from gensim library with the parameter *binary=True*. If the size of the embeddings is larger than the avaliable memory, you could load only a part of the embeddings by defining the parameter *limit* (recommended: 500000)."
      ]
    },
    {
      "cell_type": "code",
      "metadata": {
        "id": "5q1K3Z1aSkTq",
        "colab_type": "code",
        "colab": {}
      },
      "source": [
        "import gensim"
      ],
      "execution_count": null,
      "outputs": []
    },
    {
      "cell_type": "code",
      "metadata": {
        "id": "YhUFqBmOSkTs",
        "colab_type": "code",
        "colab": {}
      },
      "source": [
        "from gensim.models import KeyedVectors\n",
        "wv_embeddings = KeyedVectors.load_word2vec_format('GoogleNews-vectors-negative300.bin.gz', binary=True, limit=500000)"
      ],
      "execution_count": null,
      "outputs": []
    },
    {
      "cell_type": "markdown",
      "metadata": {
        "id": "yLUIqEfOSkTx",
        "colab_type": "text"
      },
      "source": [
        "### How to work with Google's word2vec embeddings?\n",
        "\n",
        "Once you have loaded the representations, make sure you can access them. First, you can check if the loaded embeddings contain a word:\n",
        "    \n",
        "    'word' in wv_embeddings\n",
        "    \n",
        "Second, to get the corresponding embedding you can use the square brackets:\n",
        "\n",
        "    wv_embeddings['word']\n",
        " \n",
        "### Checking that the embeddings are correct \n",
        " \n",
        "To prevent any errors during the first stage, we can check that the loaded embeddings are correct. You can call the function *check_embeddings*, implemented below, which runs 3 tests:\n",
        "1. Find the most similar word for provided \"positive\" and \"negative\" words.\n",
        "2. Find which word from the given list doesn’t go with the others.\n",
        "3. Find the most similar word for the provided one.\n",
        "\n",
        "In the right case the function will return the string *These embeddings look good*. Othervise, you need to validate the previous steps."
      ]
    },
    {
      "cell_type": "code",
      "metadata": {
        "id": "7F_ygFtUSkTx",
        "colab_type": "code",
        "colab": {}
      },
      "source": [
        "def check_embeddings(embeddings):\n",
        "    error_text = \"Something wrong with your embeddings ('%s test isn't correct).\"\n",
        "    most_similar = embeddings.most_similar(positive=['woman', 'king'], negative=['man'])\n",
        "    if len(most_similar) < 1 or most_similar[0][0] != 'queen':\n",
        "        return error_text % \"Most similar\"\n",
        "\n",
        "    doesnt_match = embeddings.doesnt_match(['breakfast', 'cereal', 'dinner', 'lunch'])\n",
        "    if doesnt_match != 'cereal':\n",
        "        return error_text % \"Doesn't match\"\n",
        "    \n",
        "    most_similar_to_given = embeddings.most_similar_to_given('music', ['water', 'sound', 'backpack', 'mouse'])\n",
        "    if most_similar_to_given != 'sound':\n",
        "        return error_text % \"Most similar to given\"\n",
        "    \n",
        "    return \"These embeddings look good.\""
      ],
      "execution_count": null,
      "outputs": []
    },
    {
      "cell_type": "code",
      "metadata": {
        "id": "hituZD3DSkTz",
        "colab_type": "code",
        "colab": {
          "base_uri": "https://localhost:8080/",
          "height": 87
        },
        "outputId": "66671dc9-e638-4b65-8627-3d197d9f70da"
      },
      "source": [
        "print(check_embeddings(wv_embeddings))"
      ],
      "execution_count": null,
      "outputs": [
        {
          "output_type": "stream",
          "text": [
            "These embeddings look good.\n"
          ],
          "name": "stdout"
        },
        {
          "output_type": "stream",
          "text": [
            "/usr/local/lib/python3.6/dist-packages/gensim/models/keyedvectors.py:877: FutureWarning: arrays to stack must be passed as a \"sequence\" type such as list or tuple. Support for non-sequence iterables such as generators is deprecated as of NumPy 1.16 and will raise an error in the future.\n",
            "  vectors = vstack(self.word_vec(word, use_norm=True) for word in used_words).astype(REAL)\n"
          ],
          "name": "stderr"
        }
      ]
    },
    {
      "cell_type": "markdown",
      "metadata": {
        "id": "Sa3PWa2tSkT1",
        "colab_type": "text"
      },
      "source": [
        "## From word to text embeddings\n",
        "\n",
        "**Task 1 (Question2Vec).** Usually, we have word-based embeddings, but for the task we need to create a representation for the whole question. It could be done in different ways. In our case we will use a **mean** of all word vectors in the question. Now you need to implement the function *question_to_vec*, which calculates the question representation described above. This function should work with the input text as is without any preprocessing.\n",
        "\n",
        "Note that there could be words without the corresponding embeddings. In this case, you can just skip these words and don't take them into account during calculating the result. If the question doesn't contain any known word with embedding, the function should return a zero vector."
      ]
    },
    {
      "cell_type": "code",
      "metadata": {
        "id": "_RTmBJgkSkT2",
        "colab_type": "code",
        "colab": {}
      },
      "source": [
        "import numpy as np\n",
        "import nltk"
      ],
      "execution_count": null,
      "outputs": []
    },
    {
      "cell_type": "code",
      "metadata": {
        "id": "cXWcvdeiSkT4",
        "colab_type": "code",
        "colab": {}
      },
      "source": [
        "def question_to_vec(question, embeddings, dim=300):\n",
        "    \"\"\"\n",
        "        question: a string\n",
        "        embeddings: dict where the key is a word and a value is its' embedding\n",
        "        dim: size of the representation\n",
        "\n",
        "        result: vector representation for the question\n",
        "    \"\"\"\n",
        "    res = np.zeros(dim)\n",
        "    if len(question) == 0:\n",
        "        return res\n",
        "    else:\n",
        "        tokenizer = nltk.tokenize.WhitespaceTokenizer()\n",
        "        tokens = tokenizer.tokenize(question)\n",
        "        count = 0\n",
        "        for token in tokens:\n",
        "            if token in embeddings:\n",
        "                res = res + embeddings[token]\n",
        "                count += 1\n",
        "        if count == 0:\n",
        "            return res\n",
        "        else:\n",
        "            return res/count"
      ],
      "execution_count": null,
      "outputs": []
    },
    {
      "cell_type": "markdown",
      "metadata": {
        "id": "MNhwovThSkT6",
        "colab_type": "text"
      },
      "source": [
        "To check the basic correctness of your implementation, run the function *question_to_vec_tests*."
      ]
    },
    {
      "cell_type": "code",
      "metadata": {
        "id": "KHVNetJ3SkT7",
        "colab_type": "code",
        "colab": {}
      },
      "source": [
        "def question_to_vec_tests():\n",
        "    if (np.zeros(300) != question_to_vec('', wv_embeddings)).any():\n",
        "        return \"You need to return zero vector for empty question.\"\n",
        "    if (np.zeros(300) != question_to_vec('thereisnosuchword', wv_embeddings)).any():\n",
        "        return \"You need to return zero vector for the question, which consists only unknown words.\"\n",
        "    if (wv_embeddings['word'] != question_to_vec('word', wv_embeddings)).any():\n",
        "        return \"You need to check the corectness of your function.\"\n",
        "    if ((wv_embeddings['I'] + wv_embeddings['am']) / 2 != question_to_vec('I am', wv_embeddings)).any():\n",
        "        return \"Your function should calculate a mean of word vectors.\"\n",
        "    if (wv_embeddings['word'] != question_to_vec('thereisnosuchword word', wv_embeddings)).any():\n",
        "        return \"You should not consider words which embeddings are unknown.\"\n",
        "    return \"Basic tests are passed.\""
      ],
      "execution_count": null,
      "outputs": []
    },
    {
      "cell_type": "code",
      "metadata": {
        "id": "bBhzRtRZSkT9",
        "colab_type": "code",
        "colab": {
          "base_uri": "https://localhost:8080/"
        },
        "outputId": "e2a38c36-7594-4c79-dab0-06d42b0da490"
      },
      "source": [
        "print(question_to_vec_tests())"
      ],
      "execution_count": null,
      "outputs": [
        {
          "output_type": "stream",
          "text": [
            "Basic tests are passed.\n"
          ],
          "name": "stdout"
        }
      ]
    },
    {
      "cell_type": "markdown",
      "metadata": {
        "id": "AyTm-ie6SkT_",
        "colab_type": "text"
      },
      "source": [
        "You can submit embeddings for the questions from the file *test_embeddings.tsv* to earn the points. In this task you don't need to transform the text of a question somehow."
      ]
    },
    {
      "cell_type": "code",
      "metadata": {
        "id": "HzL7l247SkUA",
        "colab_type": "code",
        "colab": {
          "base_uri": "https://localhost:8080/"
        },
        "outputId": "1d5e5450-67e8-43da-ca6c-8b4901b2bdcd"
      },
      "source": [
        "import nltk\n",
        "nltk.download('stopwords')\n",
        "from util import array_to_string"
      ],
      "execution_count": null,
      "outputs": [
        {
          "output_type": "stream",
          "text": [
            "[nltk_data] Downloading package stopwords to /root/nltk_data...\n",
            "[nltk_data]   Unzipping corpora/stopwords.zip.\n"
          ],
          "name": "stderr"
        }
      ]
    },
    {
      "cell_type": "code",
      "metadata": {
        "id": "-foYjAb3SkUC",
        "colab_type": "code",
        "colab": {
          "base_uri": "https://localhost:8080/"
        },
        "outputId": "a31d538f-3a83-4293-a06f-17799466db95"
      },
      "source": [
        "question2vec_result = []\n",
        "for question in open('data/test_embeddings.tsv'):\n",
        "    question = question.strip()\n",
        "    answer = question_to_vec(question, wv_embeddings)\n",
        "    question2vec_result = np.append(question2vec_result, answer)\n",
        "\n",
        "grader.submit_tag('Question2Vec', array_to_string(question2vec_result))"
      ],
      "execution_count": null,
      "outputs": [
        {
          "output_type": "stream",
          "text": [
            "Current answer for task Question2Vec is: 0.019293891059027776\n",
            "-0.028727213541666668\n",
            "0.046056111653645836\n",
            "0.08525933159722222\n",
            "0.02430555555555...\n"
          ],
          "name": "stdout"
        }
      ]
    },
    {
      "cell_type": "markdown",
      "metadata": {
        "id": "_rBjIcMGSkUF",
        "colab_type": "text"
      },
      "source": [
        "Now we have a method to create a representation of any sentence and we are ready for the first evaluation. So, let's check how well our solution (Google's vectors + *question_to_vec*) will work.\n",
        "\n",
        "## Evaluation of text similarity\n",
        "\n",
        "We can imagine that if we use good embeddings, the cosine similarity between the duplicate sentences should be less than for the random ones. Overall, for each pair of duplicate sentences we can generate *R* random negative examples and find out the position of the correct duplicate.  \n",
        "\n",
        "For example, we have the question *\"Exceptions What really happens\"* and we are sure that another question *\"How does the catch keyword determine the type of exception that was thrown\"* is a duplicate. But our model doesn't know it and tries to find out the best option also among questions like *\"How Can I Make These Links Rotate in PHP\"*, *\"NSLog array description not memory address\"* and *\"PECL_HTTP not recognised php ubuntu\"*. The goal of the model is to rank all these 4 questions (1 *positive* and *R* = 3 *negative*) in the way that the correct one is in the first place.\n",
        "\n",
        "However, it is unnatural to count on that the best candidate will be always in the first place. So let us consider the place of the best candidate in the sorted list of candidates and formulate a metric based on it. We can fix some *K* — a reasonalble number of top-ranked elements and *N* — a number of queries (size of the sample).\n",
        "\n",
        "### Hits@K\n",
        "\n",
        "The first simple metric will be a number of correct hits for some *K*:\n",
        "$$ \\text{Hits@K} = \\frac{1}{N}\\sum_{i=1}^N \\, [dup_i \\in topK(q_i)]$$\n",
        "\n",
        "where $q_i$ is the i-th query, $dup_i$ is its duplicate, $topK(q_i)$ is the top K elements of the ranked sentences provided by our model and the operation $[dup_i \\in topK(q_i)]$ equals 1 if the condition is true and 0 otherwise (more details about this operation could be found [here](https://en.wikipedia.org/wiki/Iverson_bracket)).\n",
        "\n",
        "\n",
        "### DCG@K\n",
        "The second one is a simplified [DCG metric](https://en.wikipedia.org/wiki/Discounted_cumulative_gain):\n",
        "\n",
        "$$ \\text{DCG@K} = \\frac{1}{N} \\sum_{i=1}^N\\frac{1}{\\log_2(1+rank_{dup_i})}\\cdot[rank_{dup_i} \\le K] $$\n",
        "\n",
        "where $rank_{dup_i}$ is a position of the duplicate in the sorted list of the nearest sentences for the query $q_i$. According to this metric, the model gets a higher reward for a higher position of the correct answer. If the answer does not appear in topK at all, the reward is zero. "
      ]
    },
    {
      "cell_type": "markdown",
      "metadata": {
        "id": "m40UjUfSSkUF",
        "colab_type": "text"
      },
      "source": [
        "### Evaluation examples\n",
        "\n",
        "Let's calculate the described metrics for the toy example introduced above. In this case $N$ = 1 and the correct candidate for $q_1$ is *\"How does the catch keyword determine the type of exception that was thrown\"*. Consider the following ranking of the candidates:\n",
        "1. *\"How Can I Make These Links Rotate in PHP\"*\n",
        "2. *\"How does the catch keyword determine the type of exception that was thrown\"*\n",
        "3. *\"NSLog array description not memory address\"*\n",
        "4. *\"PECL_HTTP not recognised php ubuntu\"*\n",
        "\n",
        "Using the ranking above, calculate *Hits@K* metric for *K = 1, 2, 4*: \n",
        " \n",
        "- [K = 1] $\\text{Hits@1} = \\frac{1}{1}\\sum_{i=1}^1 \\, [dup_i \\in top1(q_i)] = [dup_1 \\in top1(q_1)] = 0$ because the correct answer doesn't appear in the *top1* list.\n",
        "- [K = 2] $\\text{Hits@2} = \\frac{1}{1}\\sum_{i=1}^1 \\, [dup_i \\in top2(q_i)] = [dup_1 \\in top2(q_1)] = 1$ because $rank_{dup_1} = 2$.\n",
        "- [K = 4] $\\text{Hits@4} = \\frac{1}{1}\\sum_{i=1}^1 \\, [dup_i \\in top4(q_i)] = [dup_1 \\in top4(q_1)] = 1$\n",
        "\n",
        "Using the ranking above, calculate *DCG@K* metric for *K = 1, 2, 4*:\n",
        "\n",
        "- [K = 1] $\\text{DCG@1} = \\frac{1}{1} \\sum_{i=1}^1\\frac{1}{\\log_2(1+rank_{dup_i})}\\cdot[rank_{dup_i} \\le 1] = \\frac{1}{\\log_2(1+rank_{dup_i})}\\cdot[rank_{dup_i} \\le 1] = 0$ because the correct answer doesn't appear in the top1 list.\n",
        "- [K = 2] $\\text{DCG@2} = \\frac{1}{1} \\sum_{i=1}^1\\frac{1}{\\log_2(1+rank_{dup_i})}\\cdot[rank_{dup_i} \\le 2] = \\frac{1}{\\log_2{3}}$, because $rank_{dup_1} = 2$.\n",
        "- [K = 4] $\\text{DCG@4} = \\frac{1}{1} \\sum_{i=1}^1\\frac{1}{\\log_2(1+rank_{dup_i})}\\cdot[rank_{dup_i} \\le 4] = \\frac{1}{\\log_2{3}}$.\n"
      ]
    },
    {
      "cell_type": "markdown",
      "metadata": {
        "id": "6dKICWqjSkUF",
        "colab_type": "text"
      },
      "source": [
        "**Tasks 2 and 3 (HitsCount and DCGScore).** Implement the functions *hits_count* and *dcg_score* as described above. Each function has two arguments: *dup_ranks* and *k*. *dup_ranks* is a list which contains *values of ranks* of duplicates. For example, *dup_ranks* is *[2]* for the example provided above."
      ]
    },
    {
      "cell_type": "code",
      "metadata": {
        "id": "azAChHv5SkUI",
        "colab_type": "code",
        "colab": {}
      },
      "source": [
        "def hits_count(dup_ranks, k):\n",
        "    \"\"\"\n",
        "        dup_ranks: list of duplicates' ranks; one rank per question; \n",
        "                   length is a number of questions which we are looking for duplicates; \n",
        "                   rank is a number from 1 to len(candidates of the question); \n",
        "                   e.g. [2, 3] means that the first duplicate has the rank 2, the second one — 3.\n",
        "        k: number of top-ranked elements (k in Hits@k metric)\n",
        "\n",
        "        result: return Hits@k value for current ranking\n",
        "    \"\"\"\n",
        "    N = len(dup_ranks)\n",
        "    match = 0\n",
        "    res = []\n",
        "    for d in dup_ranks:\n",
        "        if d <= k:\n",
        "            match += 1\n",
        "    return match/N"
      ],
      "execution_count": null,
      "outputs": []
    },
    {
      "cell_type": "markdown",
      "metadata": {
        "id": "oUe31hfsSkUM",
        "colab_type": "text"
      },
      "source": [
        "Test your code on the tiny examples:"
      ]
    },
    {
      "cell_type": "code",
      "metadata": {
        "id": "KQQHRU7VSkUP",
        "colab_type": "code",
        "colab": {}
      },
      "source": [
        "def test_hits():\n",
        "    # *Evaluation example*\n",
        "    # answers — dup_i\n",
        "    answers = [\"How does the catch keyword determine the type of exception that was thrown\"]\n",
        "    \n",
        "    # candidates_ranking — the ranked sentences provided by our model\n",
        "    candidates_ranking = [[\"How Can I Make These Links Rotate in PHP\", \n",
        "                           \"How does the catch keyword determine the type of exception that was thrown\",\n",
        "                           \"NSLog array description not memory address\",\n",
        "                           \"PECL_HTTP not recognised php ubuntu\"]]\n",
        "    # dup_ranks — position of the dup_i in the list of ranks +1\n",
        "    dup_ranks = [candidates_ranking[i].index(answers[i]) + 1 for i in range(len(answers))]\n",
        "    \n",
        "    # correct_answers — the expected values of the result for each k from 1 to 4\n",
        "    correct_answers = [0, 1, 1, 1]\n",
        "    for k, correct in enumerate(correct_answers, 1):\n",
        "        if not np.isclose(hits_count(dup_ranks, k), correct):\n",
        "            return \"Check the function.\"\n",
        "    \n",
        "    # Other tests\n",
        "    answers = [\"How does the catch keyword determine the type of exception that was thrown\", \n",
        "               \"Convert Google results object (pure js) to Python object\"]\n",
        "    \n",
        "    # The first test: both duplicates on the first position in ranked list\n",
        "    candidates_ranking = [[\"How does the catch keyword determine the type of exception that was thrown\",\n",
        "                           \"How Can I Make These Links Rotate in PHP\"], \n",
        "                          [\"Convert Google results object (pure js) to Python object\",\n",
        "                           \"WPF- How to update the changes in list item of a list\"]]\n",
        "    dup_ranks = [candidates_ranking[i].index(answers[i]) + 1 for i in range(len(answers))]\n",
        "    correct_answers = [1, 1]\n",
        "    for k, correct in enumerate(correct_answers, 1):\n",
        "        if not np.isclose(hits_count(dup_ranks, k), correct):\n",
        "            return \"Check the function (test: both duplicates on the first position in ranked list).\"\n",
        "        \n",
        "    # The second test: one candidate on the first position, another — on the second\n",
        "    candidates_ranking = [[\"How Can I Make These Links Rotate in PHP\", \n",
        "                           \"How does the catch keyword determine the type of exception that was thrown\"], \n",
        "                          [\"Convert Google results object (pure js) to Python object\",\n",
        "                           \"WPF- How to update the changes in list item of a list\"]]\n",
        "    dup_ranks = [candidates_ranking[i].index(answers[i]) + 1 for i in range(len(answers))]\n",
        "    correct_answers = [0.5, 1]\n",
        "    for k, correct in enumerate(correct_answers, 1):\n",
        "        if not np.isclose(hits_count(dup_ranks, k), correct):\n",
        "            return \"Check the function (test: one candidate on the first position, another — on the second).\"\n",
        "\n",
        "    # The third test: both candidates on the second position\n",
        "    candidates_ranking = [[\"How Can I Make These Links Rotate in PHP\", \n",
        "                           \"How does the catch keyword determine the type of exception that was thrown\"], \n",
        "                          [\"WPF- How to update the changes in list item of a list\",\n",
        "                           \"Convert Google results object (pure js) to Python object\"]]\n",
        "    dup_ranks = [candidates_ranking[i].index(answers[i]) + 1 for i in range(len(answers))]\n",
        "    correct_answers = [0, 1]\n",
        "    for k, correct in enumerate(correct_answers, 1):\n",
        "        if not np.isclose(hits_count(dup_ranks, k), correct):\n",
        "            return \"Check the function (test: both candidates on the second position).\"\n",
        "\n",
        "    return \"Basic test are passed.\""
      ],
      "execution_count": null,
      "outputs": []
    },
    {
      "cell_type": "code",
      "metadata": {
        "id": "9k4s71r0SkUQ",
        "colab_type": "code",
        "colab": {
          "base_uri": "https://localhost:8080/",
          "height": 34
        },
        "outputId": "c29ca94a-de64-4fb0-87bc-a617960b59e3"
      },
      "source": [
        "print(test_hits())"
      ],
      "execution_count": null,
      "outputs": [
        {
          "output_type": "stream",
          "text": [
            "Basic test are passed.\n"
          ],
          "name": "stdout"
        }
      ]
    },
    {
      "cell_type": "code",
      "metadata": {
        "id": "8iQPVtAsSkUS",
        "colab_type": "code",
        "colab": {}
      },
      "source": [
        "import math\n",
        "def dcg_score(dup_ranks, k):\n",
        "    \"\"\"\n",
        "        dup_ranks: list of duplicates' ranks; one rank per question; \n",
        "                   length is a number of questions which we are looking for duplicates; \n",
        "                   rank is a number from 1 to len(candidates of the question); \n",
        "                   e.g. [2, 3] means that the first duplicate has the rank 2, the second one — 3.\n",
        "        k: number of top-ranked elements (k in DCG@k metric)\n",
        "\n",
        "        result: return DCG@k value for current ranking\n",
        "    \"\"\"\n",
        "    N = len(dup_ranks)\n",
        "    match = 0\n",
        "    res = []\n",
        "    for d in dup_ranks:\n",
        "        if d <= k:\n",
        "            match += 1/np.log2(d+1)\n",
        "    return match/N"
      ],
      "execution_count": null,
      "outputs": []
    },
    {
      "cell_type": "code",
      "metadata": {
        "id": "2KvlrDV1SkUU",
        "colab_type": "code",
        "colab": {}
      },
      "source": [
        "def test_dcg():\n",
        "    # *Evaluation example*\n",
        "    # answers — dup_i\n",
        "    answers = [\"How does the catch keyword determine the type of exception that was thrown\"]\n",
        "    \n",
        "    # candidates_ranking — the ranked sentences provided by our model\n",
        "    candidates_ranking = [[\"How Can I Make These Links Rotate in PHP\", \n",
        "                           \"How does the catch keyword determine the type of exception that was thrown\",\n",
        "                           \"NSLog array description not memory address\",\n",
        "                           \"PECL_HTTP not recognised php ubuntu\"]]\n",
        "    # dup_ranks — position of the dup_i in the list of ranks +1\n",
        "    dup_ranks = [candidates_ranking[i].index(answers[i]) + 1 for i in range(len(answers))]\n",
        "    \n",
        "    # correct_answers — the expected values of the result for each k from 1 to 4\n",
        "    correct_answers = [0, 1 / (np.log2(3)), 1 / (np.log2(3)), 1 / (np.log2(3))]\n",
        "    for k, correct in enumerate(correct_answers, 1):\n",
        "        if not np.isclose(dcg_score(dup_ranks, k), correct):\n",
        "            return \"Check the function.\"\n",
        "    \n",
        "    # Other tests\n",
        "    answers = [\"How does the catch keyword determine the type of exception that was thrown\", \n",
        "               \"Convert Google results object (pure js) to Python object\"]\n",
        "\n",
        "    # The first test: both duplicates on the first position in ranked list\n",
        "    candidates_ranking = [[\"How does the catch keyword determine the type of exception that was thrown\",\n",
        "                           \"How Can I Make These Links Rotate in PHP\"], \n",
        "                          [\"Convert Google results object (pure js) to Python object\",\n",
        "                           \"WPF- How to update the changes in list item of a list\"]]\n",
        "    dup_ranks = [candidates_ranking[i].index(answers[i]) + 1 for i in range(len(answers))]\n",
        "    correct_answers = [1, 1]\n",
        "    for k, correct in enumerate(correct_answers, 1):\n",
        "        if not np.isclose(dcg_score(dup_ranks, k), correct):\n",
        "            return \"Check the function (test: both duplicates on the first position in ranked list).\"\n",
        "        \n",
        "    # The second test: one candidate on the first position, another — on the second\n",
        "    candidates_ranking = [[\"How Can I Make These Links Rotate in PHP\", \n",
        "                           \"How does the catch keyword determine the type of exception that was thrown\"], \n",
        "                          [\"Convert Google results object (pure js) to Python object\",\n",
        "                           \"WPF- How to update the changes in list item of a list\"]]\n",
        "    dup_ranks = [candidates_ranking[i].index(answers[i]) + 1 for i in range(len(answers))]\n",
        "    correct_answers = [0.5, (1 + (1 / (np.log2(3)))) / 2]\n",
        "    for k, correct in enumerate(correct_answers, 1):\n",
        "        if not np.isclose(dcg_score(dup_ranks, k), correct):\n",
        "            return \"Check the function (test: one candidate on the first position, another — on the second).\"\n",
        "        \n",
        "    # The third test: both candidates on the second position\n",
        "    candidates_ranking = [[\"How Can I Make These Links Rotate in PHP\",\n",
        "                           \"How does the catch keyword determine the type of exception that was thrown\"], \n",
        "                          [\"WPF- How to update the changes in list item of a list\",\n",
        "                           \"Convert Google results object (pure js) to Python object\"]]\n",
        "    dup_ranks = [candidates_ranking[i].index(answers[i]) + 1 for i in range(len(answers))]\n",
        "    correct_answers = [0, 1 / (np.log2(3))]\n",
        "    for k, correct in enumerate(correct_answers, 1):\n",
        "        if not np.isclose(dcg_score(dup_ranks, k), correct):\n",
        "            return \"Check the function (test: both candidates on the second position).\"\n",
        "\n",
        "    return \"Basic test are passed.\""
      ],
      "execution_count": null,
      "outputs": []
    },
    {
      "cell_type": "code",
      "metadata": {
        "id": "eHNuwH_7SkUW",
        "colab_type": "code",
        "colab": {
          "base_uri": "https://localhost:8080/",
          "height": 34
        },
        "outputId": "be1fbe24-9ee3-4aa3-91b2-2a8b7b4e9075"
      },
      "source": [
        "print(test_dcg())"
      ],
      "execution_count": null,
      "outputs": [
        {
          "output_type": "stream",
          "text": [
            "Basic test are passed.\n"
          ],
          "name": "stdout"
        }
      ]
    },
    {
      "cell_type": "markdown",
      "metadata": {
        "id": "TRFlhOSfSkUa",
        "colab_type": "text"
      },
      "source": [
        "Submit results of the functions *hits_count* and *dcg_score* for the following examples to earn the points."
      ]
    },
    {
      "cell_type": "code",
      "metadata": {
        "id": "x2VG-_J-SkUa",
        "colab_type": "code",
        "colab": {}
      },
      "source": [
        "test_examples = [\n",
        "    [1],\n",
        "    [1, 2],\n",
        "    [2, 1],\n",
        "    [1, 2, 3],\n",
        "    [1, 2, 3, 4, 5, 6, 7, 8, 9, 10],\n",
        "    [9, 5, 4, 2, 8, 10, 7, 6, 1, 3],\n",
        "    [4, 3, 5, 1, 9, 10, 7, 8, 2, 6],\n",
        "    [5, 1, 7, 6, 2, 3, 8, 9, 10, 4],\n",
        "    [6, 3, 1, 4, 7, 2, 9, 8, 10, 5],\n",
        "    [10, 9, 8, 7, 6, 5, 4, 3, 2, 1],\n",
        "]"
      ],
      "execution_count": null,
      "outputs": []
    },
    {
      "cell_type": "code",
      "metadata": {
        "id": "fr-7q-PUSkUe",
        "colab_type": "code",
        "colab": {
          "base_uri": "https://localhost:8080/",
          "height": 319
        },
        "outputId": "df7dff66-cd5b-4a5a-f6fc-3962ae941c7a"
      },
      "source": [
        "hits_results = []\n",
        "for example in test_examples:\n",
        "    for k in range(len(example)):\n",
        "        hits_results.append(hits_count(example, k + 1))\n",
        "grader.submit_tag('HitsCount', array_to_string(hits_results))"
      ],
      "execution_count": null,
      "outputs": [
        {
          "output_type": "stream",
          "text": [
            "Current answer for task HitsCount is: 1.0\n",
            "0.5\n",
            "1.0\n",
            "0.5\n",
            "1.0\n",
            "0.3333333333333333\n",
            "0.6666666666666666\n",
            "1.0\n",
            "0.1\n",
            "0.2\n",
            "0.3\n",
            "0.4\n",
            "0.5\n",
            "0.6\n",
            "0.7\n",
            "0.8\n",
            "0.9\n",
            "1....\n"
          ],
          "name": "stdout"
        }
      ]
    },
    {
      "cell_type": "code",
      "metadata": {
        "id": "qR6OQFbZSkUg",
        "colab_type": "code",
        "colab": {
          "base_uri": "https://localhost:8080/",
          "height": 151
        },
        "outputId": "b92f9089-5906-45eb-e207-832d2a2c181f"
      },
      "source": [
        "dcg_results = []\n",
        "for example in test_examples:\n",
        "    for k in range(len(example)):\n",
        "        dcg_results.append(dcg_score(example, k + 1))\n",
        "grader.submit_tag('DCGScore', array_to_string(dcg_results))"
      ],
      "execution_count": null,
      "outputs": [
        {
          "output_type": "stream",
          "text": [
            "Current answer for task DCGScore is: 1.0\n",
            "0.5\n",
            "0.8154648767857288\n",
            "0.5\n",
            "0.8154648767857288\n",
            "0.3333333333333333\n",
            "0.5436432511904858\n",
            "0.7103099178...\n"
          ],
          "name": "stdout"
        }
      ]
    },
    {
      "cell_type": "markdown",
      "metadata": {
        "id": "cdfPCVGUSkUi",
        "colab_type": "text"
      },
      "source": [
        "##  First solution: pre-trained embeddings"
      ]
    },
    {
      "cell_type": "markdown",
      "metadata": {
        "id": "pftHpmZ8SkUi",
        "colab_type": "text"
      },
      "source": [
        "We will work with predefined train, validation and test corpora. All the files are tab-separated, but have a different format:\n",
        " - *train* corpus contains similar sentences at the same row.\n",
        " - *validation* corpus contains the following columns: *question*, *similar question*, *negative example 1*, *negative example 2*, ... \n",
        " - *test* corpus contains the following columns: *question*, *example 1*, *example 2*, ...\n",
        "\n",
        "Validation corpus will be used for the intermediate validation of models. The test data will be necessary for submitting the quality of your model in the system."
      ]
    },
    {
      "cell_type": "markdown",
      "metadata": {
        "id": "Wg4oGS39SkUi",
        "colab_type": "text"
      },
      "source": [
        "Now you should read *validation* corpus, located at `data/validation.tsv`. You will use it later to evaluate current solution."
      ]
    },
    {
      "cell_type": "code",
      "metadata": {
        "id": "N5QKDTt8SkUj",
        "colab_type": "code",
        "colab": {}
      },
      "source": [
        "def read_corpus(filename):\n",
        "    data = []\n",
        "    for line in open(filename, encoding='utf-8'):\n",
        "        data.append(line.strip().split('\\t'))\n",
        "    return data"
      ],
      "execution_count": null,
      "outputs": []
    },
    {
      "cell_type": "code",
      "metadata": {
        "id": "kEdOAMFVSkUl",
        "colab_type": "code",
        "colab": {}
      },
      "source": [
        "validation = read_corpus('data/validation.tsv')"
      ],
      "execution_count": null,
      "outputs": []
    },
    {
      "cell_type": "code",
      "metadata": {
        "id": "GI5t4nPMSkUp",
        "colab_type": "code",
        "colab": {}
      },
      "source": [
        "from sklearn.metrics.pairwise import cosine_similarity"
      ],
      "execution_count": null,
      "outputs": []
    },
    {
      "cell_type": "markdown",
      "metadata": {
        "id": "HjkDLpkBSkUq",
        "colab_type": "text"
      },
      "source": [
        "We will use cosine distance to rank candidate questions which you need to implement in the function *rank_candidates*. The function should return a sorted list of pairs *(initial position in candidates list, candidate)*. Index of some pair corresponds to its rank (the first is the best). For example, if the list of candidates was *[a, b, c]* and the most similar is *c*, then *a* and *b*, the function should return a list *[(2, c), (0, a), (1, b)]*.\n",
        "\n",
        "Pay attention, if you use the function *cosine_similarity* from *sklearn.metrics.pairwise* to calculate similarity because it works in a different way: most similar objects has greatest similarity. It's preferable to use a vectorized version of *cosine_similarity* function. Try to compute similarity at once and not use list comprehension. It should speed up your computations significantly."
      ]
    },
    {
      "cell_type": "code",
      "metadata": {
        "id": "0p3qSsNlSkUr",
        "colab_type": "code",
        "colab": {
          "base_uri": "https://localhost:8080/",
          "height": 34
        },
        "outputId": "6ed8d50b-95c5-4ae4-f999-6d9763cb7fd1"
      },
      "source": [
        "a = [ 1, 2, 3]\n",
        "b = [ 4, 5, 6]\n",
        "cosine_similarity(np.array(a).reshape(1,-1), np.array(b).reshape(1,-1))[0][0]"
      ],
      "execution_count": null,
      "outputs": [
        {
          "output_type": "execute_result",
          "data": {
            "text/plain": [
              "0.9746318461970762"
            ]
          },
          "metadata": {
            "tags": []
          },
          "execution_count": 31
        }
      ]
    },
    {
      "cell_type": "code",
      "metadata": {
        "id": "rGVva0mzSkUs",
        "colab_type": "code",
        "colab": {}
      },
      "source": [
        "def rank_candidates(question, candidates, embeddings, dim=300):\n",
        "    \"\"\"\n",
        "        question: a string\n",
        "        candidates: a list of strings (candidates) which we want to rank\n",
        "        embeddings: some embeddings\n",
        "        dim: dimension of the current embeddings\n",
        "        \n",
        "        result: a list of pairs (initial position in the list, question)\n",
        "    \"\"\"\n",
        "    \n",
        "    ques = question_to_vec(question, embeddings, dim)\n",
        "    similarity = []\n",
        "    result = []\n",
        "    for i, c in enumerate(candidates):\n",
        "        cand = question_to_vec(c, embeddings, dim)\n",
        "        similarity.append((i, cosine_similarity(np.array(ques).reshape(1, -1), np.array(cand).reshape(1, -1))[0][0]))\n",
        "    similarity.sort(reverse=True, key=lambda x:x[1])\n",
        "    for i, s in similarity:\n",
        "        result.append((i, candidates[i]))\n",
        "    return result"
      ],
      "execution_count": null,
      "outputs": []
    },
    {
      "cell_type": "markdown",
      "metadata": {
        "id": "l525pN2jSkUu",
        "colab_type": "text"
      },
      "source": [
        "Test your code on the tiny examples:"
      ]
    },
    {
      "cell_type": "code",
      "metadata": {
        "id": "QTA--vjBSkUu",
        "colab_type": "code",
        "colab": {}
      },
      "source": [
        "def test_rank_candidates():\n",
        "    questions = ['converting string to list', 'Sending array via Ajax fails']\n",
        "    candidates = [['Convert Google results object (pure js) to Python object', \n",
        "                   'C# create cookie from string and send it',\n",
        "                   'How to use jQuery AJAX for an outside domain?'], \n",
        "                  ['Getting all list items of an unordered list in PHP', \n",
        "                   'WPF- How to update the changes in list item of a list', \n",
        "                   'select2 not displaying search results']]\n",
        "    results = [[(1, 'C# create cookie from string and send it'), \n",
        "                (0, 'Convert Google results object (pure js) to Python object'), \n",
        "                (2, 'How to use jQuery AJAX for an outside domain?')],\n",
        "               [(0, 'Getting all list items of an unordered list in PHP'), \n",
        "                (2, 'select2 not displaying search results'), \n",
        "                (1, 'WPF- How to update the changes in list item of a list')]]\n",
        "    for question, q_candidates, result in zip(questions, candidates, results):\n",
        "        ranks = rank_candidates(question, q_candidates, wv_embeddings, 300)\n",
        "        if not np.all(ranks == result):\n",
        "            return \"Check the function.\"\n",
        "    return \"Basic tests are passed.\""
      ],
      "execution_count": null,
      "outputs": []
    },
    {
      "cell_type": "code",
      "metadata": {
        "id": "0kK_EKx9SkUx",
        "colab_type": "code",
        "colab": {
          "base_uri": "https://localhost:8080/",
          "height": 34
        },
        "outputId": "4aa8f2eb-f0b4-41eb-e4e9-a5db3dcf31f8"
      },
      "source": [
        "print(test_rank_candidates())"
      ],
      "execution_count": null,
      "outputs": [
        {
          "output_type": "stream",
          "text": [
            "Basic tests are passed.\n"
          ],
          "name": "stdout"
        }
      ]
    },
    {
      "cell_type": "markdown",
      "metadata": {
        "id": "-ScJRTkpSkUz",
        "colab_type": "text"
      },
      "source": [
        "Now we can test the quality of the current approach. Run the next two cells to get the results. Pay attention that calculation of similarity between vectors takes time and this calculation is computed approximately in 10 minutes."
      ]
    },
    {
      "cell_type": "code",
      "metadata": {
        "id": "8nG2iiF5SkUz",
        "colab_type": "code",
        "colab": {}
      },
      "source": [
        "wv_ranking = []\n",
        "for line in validation:\n",
        "    q, *ex = line\n",
        "    ranks = rank_candidates(q, ex, wv_embeddings)\n",
        "    wv_ranking.append([r[0] for r in ranks].index(0) + 1)"
      ],
      "execution_count": null,
      "outputs": []
    },
    {
      "cell_type": "code",
      "metadata": {
        "id": "Y4zVSq1OSkU1",
        "colab_type": "code",
        "colab": {
          "base_uri": "https://localhost:8080/",
          "height": 118
        },
        "outputId": "7d38872d-4444-4b0b-c368-37984b8a0ed0"
      },
      "source": [
        "for k in [1, 5, 10, 100, 500, 1000]:\n",
        "    print(\"DCG@%4d: %.3f | Hits@%4d: %.3f\" % (k, dcg_score(wv_ranking, k), k, hits_count(wv_ranking, k)))"
      ],
      "execution_count": null,
      "outputs": [
        {
          "output_type": "stream",
          "text": [
            "DCG@   1: 0.212 | Hits@   1: 0.212\n",
            "DCG@   5: 0.267 | Hits@   5: 0.315\n",
            "DCG@  10: 0.282 | Hits@  10: 0.363\n",
            "DCG@ 100: 0.320 | Hits@ 100: 0.552\n",
            "DCG@ 500: 0.353 | Hits@ 500: 0.811\n",
            "DCG@1000: 0.373 | Hits@1000: 1.000\n"
          ],
          "name": "stdout"
        }
      ]
    },
    {
      "cell_type": "markdown",
      "metadata": {
        "id": "JmmodZ0bSkU3",
        "colab_type": "text"
      },
      "source": [
        "If you did all the steps correctly, you should be frustrated by the received results. Let's try to understand why the quality is so low. First of all, when you work with some data it is necessary to have an idea how the data looks like. Print several questions from the data:"
      ]
    },
    {
      "cell_type": "code",
      "metadata": {
        "id": "gv4F-rKrSkU4",
        "colab_type": "code",
        "colab": {
          "base_uri": "https://localhost:8080/",
          "height": 87
        },
        "outputId": "af7edeb8-53c8-4301-f438-c65194ba4c90"
      },
      "source": [
        "for line in validation[:3]:\n",
        "    q, *examples = line\n",
        "    print(q, *examples[:3])"
      ],
      "execution_count": null,
      "outputs": [
        {
          "output_type": "stream",
          "text": [
            "How to print a binary heap tree without recursion? How do you best convert a recursive function to an iterative one? How can i use ng-model with directive in angular js flash: drawing and erasing\n",
            "How to start PhoneStateListener programmatically? PhoneStateListener and service Java cast object[] to model WCF and What does this mean?\n",
            "jQuery: Show a div2 when mousenter over div1 is over when hover on div1 depenting on if it is on div2 or not it should act differently How to run selenium in google app engine/cloud? Python Comparing two lists of strings for similarities\n"
          ],
          "name": "stdout"
        }
      ]
    },
    {
      "cell_type": "markdown",
      "metadata": {
        "id": "nfmjuFYqSkU6",
        "colab_type": "text"
      },
      "source": [
        "As you can see, we deal with the raw data. It means that we have many punctuation marks, special characters and unlowercased letters. In our case, it could lead to the situation where we can't find some embeddings, e.g. for the word \"grid?\". \n",
        "\n",
        "To solve this problem you should use the functions *text_prepare* from the previous assignments to prepare the data."
      ]
    },
    {
      "cell_type": "code",
      "metadata": {
        "id": "Zz-MEUpjSkU7",
        "colab_type": "code",
        "colab": {}
      },
      "source": [
        "from util import text_prepare"
      ],
      "execution_count": null,
      "outputs": []
    },
    {
      "cell_type": "markdown",
      "metadata": {
        "id": "rz7cnVADSkU9",
        "colab_type": "text"
      },
      "source": [
        "Now transform all the questions from the validation set:"
      ]
    },
    {
      "cell_type": "code",
      "metadata": {
        "id": "quBE8wTSSkVA",
        "colab_type": "code",
        "colab": {}
      },
      "source": [
        "prepared_validation = []\n",
        "for line in validation:\n",
        "    vals = []\n",
        "    for text in line:\n",
        "        text = text_prepare(text)\n",
        "        vals.append(text)\n",
        "    prepared_validation.append(vals)"
      ],
      "execution_count": null,
      "outputs": []
    },
    {
      "cell_type": "markdown",
      "metadata": {
        "id": "WZ5DNAaZSkVH",
        "colab_type": "text"
      },
      "source": [
        "Let's evaluate the approach again after the preparation:"
      ]
    },
    {
      "cell_type": "code",
      "metadata": {
        "id": "PerSU0vgSkVH",
        "colab_type": "code",
        "colab": {}
      },
      "source": [
        "wv_prepared_ranking = []\n",
        "for line in prepared_validation:\n",
        "    q, *ex = line\n",
        "    ranks = rank_candidates(q, ex, wv_embeddings)\n",
        "    wv_prepared_ranking.append([r[0] for r in ranks].index(0) + 1)"
      ],
      "execution_count": null,
      "outputs": []
    },
    {
      "cell_type": "code",
      "metadata": {
        "id": "clp8HF-bSkVJ",
        "colab_type": "code",
        "colab": {
          "base_uri": "https://localhost:8080/",
          "height": 118
        },
        "outputId": "2fff54eb-5fc2-4c8b-c6cb-71f66f873d2f"
      },
      "source": [
        "for k in [1, 5, 10, 100, 500, 1000]:\n",
        "    print(\"DCG@%4d: %.3f | Hits@%4d: %.3f\" % (k, dcg_score(wv_prepared_ranking, k), \n",
        "                                              k, hits_count(wv_prepared_ranking, k)))"
      ],
      "execution_count": null,
      "outputs": [
        {
          "output_type": "stream",
          "text": [
            "DCG@   1: 0.310 | Hits@   1: 0.310\n",
            "DCG@   5: 0.380 | Hits@   5: 0.443\n",
            "DCG@  10: 0.397 | Hits@  10: 0.494\n",
            "DCG@ 100: 0.430 | Hits@ 100: 0.661\n",
            "DCG@ 500: 0.453 | Hits@ 500: 0.835\n",
            "DCG@1000: 0.470 | Hits@1000: 1.000\n"
          ],
          "name": "stdout"
        }
      ]
    },
    {
      "cell_type": "markdown",
      "metadata": {
        "id": "lxfIvmmySkVL",
        "colab_type": "text"
      },
      "source": [
        "Now, prepare also train and test data, because you will need it in the future:"
      ]
    },
    {
      "cell_type": "code",
      "metadata": {
        "id": "nQtoQmviSkVL",
        "colab_type": "code",
        "colab": {}
      },
      "source": [
        "def prepare_file(in_, out_):\n",
        "    out = open(out_, 'w')\n",
        "    for line in open(in_, encoding='utf8'):\n",
        "        line = line.strip().split('\\t')\n",
        "        new_line = [text_prepare(q) for q in line]\n",
        "        print(*new_line, sep='\\t', file=out)\n",
        "    out.close()"
      ],
      "execution_count": null,
      "outputs": []
    },
    {
      "cell_type": "code",
      "metadata": {
        "id": "7d2qbjpfSkVN",
        "colab_type": "code",
        "colab": {}
      },
      "source": [
        "prepare_file('data/train.tsv', 'data/train_prepare.tsv')\n",
        "prepare_file('data/test.tsv', 'data/test_prepare.tsv')"
      ],
      "execution_count": null,
      "outputs": []
    },
    {
      "cell_type": "markdown",
      "metadata": {
        "id": "FySk-x5dSkVP",
        "colab_type": "text"
      },
      "source": [
        "**Task 4 (W2VTokenizedRanks).** For each question from prepared *test.tsv* submit the ranks of the candidates to earn the points. The calculations should take about 3-5 minutes. Pay attention that the function *rank_candidates* returns a ranking, while in this case you should find a position in this ranking. Ranks should start with 1."
      ]
    },
    {
      "cell_type": "code",
      "metadata": {
        "id": "bcVaaPMGSkVP",
        "colab_type": "code",
        "colab": {}
      },
      "source": [
        "from util import matrix_to_string"
      ],
      "execution_count": null,
      "outputs": []
    },
    {
      "cell_type": "code",
      "metadata": {
        "id": "jbJU7Yx4SkVS",
        "colab_type": "code",
        "colab": {
          "base_uri": "https://localhost:8080/",
          "height": 54
        },
        "outputId": "44efabb8-02af-4e06-c55a-1add9767f3a3"
      },
      "source": [
        "w2v_ranks_results = []\n",
        "prepared_test_data = 'data/test_prepare.tsv'\n",
        "for line in open(prepared_test_data):\n",
        "    q, *ex = line.strip().split('\\t')\n",
        "    ranks = rank_candidates(q, ex, wv_embeddings, 300)\n",
        "    ranked_candidates = [r[0] for r in ranks]\n",
        "    w2v_ranks_results.append([ranked_candidates.index(i) + 1 for i in range(len(ranked_candidates))])\n",
        "    \n",
        "grader.submit_tag('W2VTokenizedRanks', matrix_to_string(w2v_ranks_results))"
      ],
      "execution_count": null,
      "outputs": [
        {
          "output_type": "stream",
          "text": [
            "Current answer for task W2VTokenizedRanks is: 95\t94\t7\t9\t64\t36\t31\t93\t23\t100\t99\t20\t60\t6\t97\t48\t70\t37\t41\t96\t29\t56\t2\t65\t68\t44\t27\t25\t57\t62\t11\t87\t50\t66\t7...\n"
          ],
          "name": "stdout"
        }
      ]
    },
    {
      "cell_type": "markdown",
      "metadata": {
        "id": "fi7I7d1QSkVU",
        "colab_type": "text"
      },
      "source": [
        "## Advanced solution: StarSpace embeddings\n",
        "\n",
        "Now you are ready to train your own word embeddings! In particular, you need to train embeddings specially for our task of duplicates detection. Unfortunately, StarSpace cannot be run on Windows and we recommend to use provided\n",
        "[docker container](https://github.com/hse-aml/natural-language-processing/blob/master/Docker-tutorial.md) or other alternatives. Don't delete results of this task because you will need it in the final project.\n",
        "\n",
        "### How it works and what's the main difference with word2vec?\n",
        "The main point in this section is that StarSpace can be trained specifically for some tasks. In contrast to word2vec model, which tries to train similar embeddings for words in similar contexts, StarSpace uses embeddings for the whole sentence (just as a sum of embeddings of words and phrases). Despite the fact that in both cases we get word embeddings as a result of the training, StarSpace embeddings are trained using some supervised data, e.g. a set of similar sentence pairs, and thus they can better suit the task.\n",
        "\n",
        "In our case, StarSpace should use two types of sentence pairs for training: \"positive\" and \"negative\". \"Positive\" examples are extracted from the train sample (duplicates, high similarity) and the \"negative\" examples are generated randomly (low similarity assumed). \n",
        "\n",
        "### How to choose the best params for the model?\n",
        "Normally, you would start with some default choice and then run extensive experiments to compare different strategies. However, we have some recommendations ready for you to save your time:\n",
        "- Be careful with choosing the suitable training mode. In this task we want to explore texts similarity which corresponds to *trainMode = 3*.\n",
        "- Use adagrad optimization (parameter *adagrad = true*).\n",
        "- Set the length of phrase equal to 1 (parameter *ngrams*), because we need embeddings only for words.\n",
        "- Don't use a large number of *epochs* (we think that 5 should be enough).\n",
        "- Try dimension *dim* equal to 100.\n",
        "- To compare embeddings usually *cosine* *similarity* is used.\n",
        "- Set *minCount* greater than 1 (for example, 2) if you don't want to get embeddings for extremely rare words.\n",
        "- Parameter *verbose = true* could show you the progress of the training process.\n",
        "- Set parameter *fileFormat* equals *labelDoc*.\n",
        "- Parameter *negSearchLimit* is responsible for a number of negative examples which is used during the training. We think that 10 will be enought for this task.\n",
        "- To increase a speed of training we recommend to set *learning rate* to 0.05."
      ]
    },
    {
      "cell_type": "markdown",
      "metadata": {
        "id": "AZooiGu6SkVV",
        "colab_type": "text"
      },
      "source": [
        "Train StarSpace embeddings for unigrams on the train dataset. You don't need to change the format of the input data. Just don't forget to use prepared version of the training data. \n",
        "\n",
        "If you follow the instruction, the training process will take about 1 hour. The size of the embeddings' dictionary should be approximately 100 000 (number of lines in the result file). If you got significantly more than this number, try to check all the instructions above."
      ]
    },
    {
      "cell_type": "code",
      "metadata": {
        "id": "bfh0iVj20eEI",
        "colab_type": "code",
        "colab": {
          "base_uri": "https://localhost:8080/",
          "height": 202
        },
        "outputId": "91420dea-5cdc-40aa-aefe-815154e60b87"
      },
      "source": [
        "! wget https://raw.githubusercontent.com/hse-aml/natural-language-processing/master/setup_google_colab.py -O setup_google_colab.py\n",
        "import setup_google_colab\n",
        "# please, uncomment the week you're working on\n",
        "# setup_google_colab.setup_week1()  \n",
        "# setup_google_colab.setup_week2()\n",
        "setup_google_colab.setup_week3()\n",
        "# setup_google_colab.setup_week4()\n",
        "# setup_google_colab.setup_project()\n",
        "# setup_google_colab.setup_honor()"
      ],
      "execution_count": null,
      "outputs": [
        {
          "output_type": "stream",
          "text": [
            "--2020-07-21 22:03:53--  https://raw.githubusercontent.com/hse-aml/natural-language-processing/master/setup_google_colab.py\n",
            "Resolving raw.githubusercontent.com (raw.githubusercontent.com)... 151.101.0.133, 151.101.64.133, 151.101.128.133, ...\n",
            "Connecting to raw.githubusercontent.com (raw.githubusercontent.com)|151.101.0.133|:443... connected.\n",
            "HTTP request sent, awaiting response... 200 OK\n",
            "Length: 1939 (1.9K) [text/plain]\n",
            "Saving to: ‘setup_google_colab.py’\n",
            "\n",
            "\rsetup_google_colab.   0%[                    ]       0  --.-KB/s               \rsetup_google_colab. 100%[===================>]   1.89K  --.-KB/s    in 0s      \n",
            "\n",
            "2020-07-21 22:03:53 (26.1 MB/s) - ‘setup_google_colab.py’ saved [1939/1939]\n",
            "\n"
          ],
          "name": "stdout"
        }
      ]
    },
    {
      "cell_type": "code",
      "metadata": {
        "id": "P87s172NCiUm",
        "colab_type": "code",
        "colab": {
          "base_uri": "https://localhost:8080/",
          "height": 941
        },
        "outputId": "9a5b6f9d-338b-4563-9abb-ffce03b040ca"
      },
      "source": [
        "######### TRAINING HAPPENING HERE #############\n",
        "%%bash\n",
        "./Starspace/starspace train \\\n",
        "-trainFile \"data/train_prepare.tsv\" \\\n",
        "-model \"Starspace_embedding\" \\\n",
        "-trainMode 3 \\\n",
        "-adagrad true \\\n",
        "-ngrams 1 \\\n",
        "-epoch 5 \\\n",
        "-dim 100 \\\n",
        "-similarity \"cosine\" \\\n",
        "-minCount 2 \\\n",
        "-verbose true \\\n",
        "-fileFormat \"labelDoc\" \\\n",
        "-negSearchLimit 10 \\\n",
        "-lr 0.05"
      ],
      "execution_count": null,
      "outputs": [
        {
          "output_type": "stream",
          "text": [
            "Arguments: \n",
            "lr: 0.05\n",
            "dim: 100\n",
            "epoch: 5\n",
            "maxTrainTime: 8640000\n",
            "validationPatience: 10\n",
            "saveEveryEpoch: 0\n",
            "loss: hinge\n",
            "margin: 0.05\n",
            "similarity: cosine\n",
            "maxNegSamples: 10\n",
            "negSearchLimit: 10\n",
            "batchSize: 5\n",
            "thread: 10\n",
            "minCount: 2\n",
            "minCountLabel: 1\n",
            "label: __label__\n",
            "label: __label__\n",
            "ngrams: 1\n",
            "bucket: 2000000\n",
            "adagrad: 1\n",
            "trainMode: 3\n",
            "fileFormat: labelDoc\n",
            "normalizeText: 0\n",
            "dropoutLHS: 0\n",
            "dropoutRHS: 0\n",
            "useWeight: 0\n",
            "weightSep: :\n",
            "Start to initialize starspace model.\n",
            "Build dict from input file : data/train_prepare.tsv\n",
            "Loading data from file : data/train_prepare.tsv\n",
            "Total number of examples loaded : 999740\n",
            "Initialized model weights. Model size :\n",
            "matrix : 95058 100\n",
            "Training epoch 0: 0.05 0.01\n",
            "\n",
            " ---+++                Epoch    0 Train error : 0.04360452 +++--- ☃\n",
            "Training epoch 1: 0.04 0.01\n",
            "\n",
            " ---+++                Epoch    1 Train error : 0.01326627 +++--- ☃\n",
            "Training epoch 2: 0.03 0.01\n",
            "\n",
            " ---+++                Epoch    2 Train error : 0.00947022 +++--- ☃\n",
            "Training epoch 3: 0.02 0.01\n",
            "\n",
            " ---+++                Epoch    3 Train error : 0.00774209 +++--- ☃\n",
            "Training epoch 4: 0.01 0.01\n",
            "\n",
            " ---+++                Epoch    4 Train error : 0.00688207 +++--- ☃\n",
            "Saving model to file : Starspace_embedding\n",
            "Saving model in tsv format : Starspace_embedding.tsv\n"
          ],
          "name": "stdout"
        },
        {
          "output_type": "stream",
          "text": [
            "\rRead 1M words\rRead 2M words\rRead 3M words\rRead 4M words\rRead 5M words\rRead 6M words\rRead 7M words\rRead 8M words\rRead 9M words\rRead 10M words\rRead 11M words\rRead 12M words\rRead 12M words\n",
            "Number of words in dictionary:  95058\n",
            "Number of labels in dictionary: 0\n",
            "\rEpoch: 0.1%  lr: 0.050000  loss: 0.331804  eta: 0h24m  tot: 0h0m0s  (0.0%)\rEpoch: 0.2%  lr: 0.050000  loss: 0.290965  eta: 0h23m  tot: 0h0m0s  (0.0%)\rEpoch: 0.3%  lr: 0.050000  loss: 0.276134  eta: 0h22m  tot: 0h0m0s  (0.1%)\rEpoch: 0.4%  lr: 0.050000  loss: 0.271890  eta: 0h22m  tot: 0h0m1s  (0.1%)\rEpoch: 0.4%  lr: 0.050000  loss: 0.258297  eta: 0h22m  tot: 0h0m1s  (0.1%)\rEpoch: 0.5%  lr: 0.049990  loss: 0.248429  eta: 0h21m  tot: 0h0m1s  (0.1%)\rEpoch: 0.6%  lr: 0.049960  loss: 0.234010  eta: 0h22m  tot: 0h0m1s  (0.1%)\rEpoch: 0.7%  lr: 0.049960  loss: 0.229205  eta: 0h21m  tot: 0h0m1s  (0.1%)\rEpoch: 0.8%  lr: 0.049960  loss: 0.228698  eta: 0h21m  tot: 0h0m2s  (0.2%)\rEpoch: 0.9%  lr: 0.049950  loss: 0.224981  eta: 0h21m  tot: 0h0m2s  (0.2%)\rEpoch: 1.0%  lr: 0.049940  loss: 0.220264  eta: 0h21m  tot: 0h0m2s  (0.2%)\rEpoch: 1.1%  lr: 0.049940  loss: 0.211951  eta: 0h21m  tot: 0h0m2s  (0.2%)\rEpoch: 1.2%  lr: 0.049940  loss: 0.206731  eta: 0h21m  tot: 0h0m3s  (0.2%)\rEpoch: 1.3%  lr: 0.049930  loss: 0.201359  eta: 0h21m  tot: 0h0m3s  (0.3%)\rEpoch: 1.3%  lr: 0.049920  loss: 0.197782  eta: 0h21m  tot: 0h0m3s  (0.3%)\rEpoch: 1.4%  lr: 0.049920  loss: 0.195687  eta: 0h20m  tot: 0h0m3s  (0.3%)\rEpoch: 1.5%  lr: 0.049920  loss: 0.192537  eta: 0h20m  tot: 0h0m3s  (0.3%)\rEpoch: 1.6%  lr: 0.049910  loss: 0.187083  eta: 0h20m  tot: 0h0m4s  (0.3%)\rEpoch: 1.7%  lr: 0.049910  loss: 0.183236  eta: 0h20m  tot: 0h0m4s  (0.3%)\rEpoch: 1.8%  lr: 0.049900  loss: 0.180649  eta: 0h20m  tot: 0h0m4s  (0.4%)\rEpoch: 1.9%  lr: 0.049870  loss: 0.178466  eta: 0h20m  tot: 0h0m4s  (0.4%)\rEpoch: 2.0%  lr: 0.049860  loss: 0.175967  eta: 0h20m  tot: 0h0m4s  (0.4%)\rEpoch: 2.1%  lr: 0.049850  loss: 0.173061  eta: 0h20m  tot: 0h0m5s  (0.4%)\rEpoch: 2.2%  lr: 0.049850  loss: 0.170668  eta: 0h20m  tot: 0h0m5s  (0.4%)\rEpoch: 2.2%  lr: 0.049850  loss: 0.168939  eta: 0h20m  tot: 0h0m5s  (0.4%)\rEpoch: 2.3%  lr: 0.049810  loss: 0.165917  eta: 0h20m  tot: 0h0m5s  (0.5%)\rEpoch: 2.4%  lr: 0.049810  loss: 0.164882  eta: 0h20m  tot: 0h0m5s  (0.5%)\rEpoch: 2.5%  lr: 0.049800  loss: 0.163218  eta: 0h20m  tot: 0h0m6s  (0.5%)\rEpoch: 2.6%  lr: 0.049800  loss: 0.160061  eta: 0h20m  tot: 0h0m6s  (0.5%)\rEpoch: 2.7%  lr: 0.049790  loss: 0.157864  eta: 0h19m  tot: 0h0m6s  (0.5%)\rEpoch: 2.8%  lr: 0.049790  loss: 0.154309  eta: 0h19m  tot: 0h0m6s  (0.6%)\rEpoch: 2.9%  lr: 0.049780  loss: 0.151750  eta: 0h19m  tot: 0h0m6s  (0.6%)\rEpoch: 3.0%  lr: 0.049770  loss: 0.149587  eta: 0h19m  tot: 0h0m7s  (0.6%)\rEpoch: 3.1%  lr: 0.049760  loss: 0.149753  eta: 0h19m  tot: 0h0m7s  (0.6%)\rEpoch: 3.1%  lr: 0.049740  loss: 0.148830  eta: 0h19m  tot: 0h0m7s  (0.6%)\rEpoch: 3.2%  lr: 0.049740  loss: 0.147841  eta: 0h19m  tot: 0h0m7s  (0.6%)\rEpoch: 3.3%  lr: 0.049740  loss: 0.147616  eta: 0h19m  tot: 0h0m7s  (0.7%)\rEpoch: 3.4%  lr: 0.049740  loss: 0.145555  eta: 0h19m  tot: 0h0m8s  (0.7%)\rEpoch: 3.5%  lr: 0.049710  loss: 0.144465  eta: 0h19m  tot: 0h0m8s  (0.7%)\rEpoch: 3.6%  lr: 0.049700  loss: 0.142475  eta: 0h19m  tot: 0h0m8s  (0.7%)\rEpoch: 3.7%  lr: 0.049670  loss: 0.140210  eta: 0h19m  tot: 0h0m8s  (0.7%)\rEpoch: 3.8%  lr: 0.049660  loss: 0.138467  eta: 0h19m  tot: 0h0m8s  (0.8%)\rEpoch: 3.9%  lr: 0.049640  loss: 0.137227  eta: 0h19m  tot: 0h0m9s  (0.8%)\rEpoch: 4.0%  lr: 0.049610  loss: 0.136310  eta: 0h19m  tot: 0h0m9s  (0.8%)\rEpoch: 4.1%  lr: 0.049610  loss: 0.136161  eta: 0h19m  tot: 0h0m9s  (0.8%)\rEpoch: 4.1%  lr: 0.049600  loss: 0.135604  eta: 0h19m  tot: 0h0m9s  (0.8%)\rEpoch: 4.2%  lr: 0.049590  loss: 0.133980  eta: 0h19m  tot: 0h0m9s  (0.8%)\rEpoch: 4.3%  lr: 0.049590  loss: 0.133018  eta: 0h19m  tot: 0h0m10s  (0.9%)\rEpoch: 4.4%  lr: 0.049570  loss: 0.133139  eta: 0h19m  tot: 0h0m10s  (0.9%)\rEpoch: 4.5%  lr: 0.049550  loss: 0.132342  eta: 0h19m  tot: 0h0m10s  (0.9%)\rEpoch: 4.6%  lr: 0.049540  loss: 0.131678  eta: 0h19m  tot: 0h0m10s  (0.9%)\rEpoch: 4.7%  lr: 0.049540  loss: 0.130655  eta: 0h19m  tot: 0h0m10s  (0.9%)\rEpoch: 4.8%  lr: 0.049530  loss: 0.129414  eta: 0h19m  tot: 0h0m11s  (1.0%)\rEpoch: 4.9%  lr: 0.049520  loss: 0.128396  eta: 0h19m  tot: 0h0m11s  (1.0%)\rEpoch: 5.0%  lr: 0.049520  loss: 0.127225  eta: 0h19m  tot: 0h0m11s  (1.0%)\rEpoch: 5.0%  lr: 0.049510  loss: 0.126213  eta: 0h19m  tot: 0h0m11s  (1.0%)\rEpoch: 5.1%  lr: 0.049500  loss: 0.125676  eta: 0h19m  tot: 0h0m11s  (1.0%)\rEpoch: 5.2%  lr: 0.049489  loss: 0.124505  eta: 0h19m  tot: 0h0m12s  (1.0%)\rEpoch: 5.3%  lr: 0.049469  loss: 0.122962  eta: 0h19m  tot: 0h0m12s  (1.1%)\rEpoch: 5.4%  lr: 0.049459  loss: 0.122142  eta: 0h19m  tot: 0h0m12s  (1.1%)\rEpoch: 5.5%  lr: 0.049459  loss: 0.121209  eta: 0h19m  tot: 0h0m12s  (1.1%)\rEpoch: 5.6%  lr: 0.049449  loss: 0.120653  eta: 0h19m  tot: 0h0m12s  (1.1%)\rEpoch: 5.7%  lr: 0.049439  loss: 0.119798  eta: 0h19m  tot: 0h0m13s  (1.1%)\rEpoch: 5.8%  lr: 0.049429  loss: 0.119010  eta: 0h19m  tot: 0h0m13s  (1.2%)\rEpoch: 5.9%  lr: 0.049429  loss: 0.118684  eta: 0h19m  tot: 0h0m13s  (1.2%)\rEpoch: 5.9%  lr: 0.049429  loss: 0.118000  eta: 0h19m  tot: 0h0m13s  (1.2%)\rEpoch: 6.0%  lr: 0.049429  loss: 0.117821  eta: 0h18m  tot: 0h0m13s  (1.2%)\rEpoch: 6.1%  lr: 0.049419  loss: 0.117358  eta: 0h18m  tot: 0h0m14s  (1.2%)\rEpoch: 6.2%  lr: 0.049419  loss: 0.116641  eta: 0h18m  tot: 0h0m14s  (1.2%)\rEpoch: 6.3%  lr: 0.049399  loss: 0.116229  eta: 0h18m  tot: 0h0m14s  (1.3%)\rEpoch: 6.4%  lr: 0.049389  loss: 0.115803  eta: 0h18m  tot: 0h0m14s  (1.3%)\rEpoch: 6.5%  lr: 0.049379  loss: 0.115128  eta: 0h18m  tot: 0h0m14s  (1.3%)\rEpoch: 6.6%  lr: 0.049359  loss: 0.114497  eta: 0h18m  tot: 0h0m15s  (1.3%)\rEpoch: 6.7%  lr: 0.049329  loss: 0.113960  eta: 0h18m  tot: 0h0m15s  (1.3%)\rEpoch: 6.8%  lr: 0.049319  loss: 0.113078  eta: 0h18m  tot: 0h0m15s  (1.4%)\rEpoch: 6.8%  lr: 0.049319  loss: 0.112580  eta: 0h18m  tot: 0h0m15s  (1.4%)\rEpoch: 6.9%  lr: 0.049299  loss: 0.112147  eta: 0h18m  tot: 0h0m15s  (1.4%)\rEpoch: 7.0%  lr: 0.049279  loss: 0.111432  eta: 0h18m  tot: 0h0m16s  (1.4%)\rEpoch: 7.1%  lr: 0.049279  loss: 0.110908  eta: 0h18m  tot: 0h0m16s  (1.4%)\rEpoch: 7.2%  lr: 0.049269  loss: 0.110616  eta: 0h18m  tot: 0h0m16s  (1.4%)\rEpoch: 7.3%  lr: 0.049269  loss: 0.109996  eta: 0h18m  tot: 0h0m16s  (1.5%)\rEpoch: 7.4%  lr: 0.049259  loss: 0.109434  eta: 0h18m  tot: 0h0m16s  (1.5%)\rEpoch: 7.5%  lr: 0.049259  loss: 0.109206  eta: 0h18m  tot: 0h0m17s  (1.5%)\rEpoch: 7.6%  lr: 0.049249  loss: 0.108801  eta: 0h18m  tot: 0h0m17s  (1.5%)\rEpoch: 7.7%  lr: 0.049249  loss: 0.108355  eta: 0h18m  tot: 0h0m17s  (1.5%)\rEpoch: 7.7%  lr: 0.049229  loss: 0.107877  eta: 0h18m  tot: 0h0m17s  (1.5%)\rEpoch: 7.8%  lr: 0.049219  loss: 0.107363  eta: 0h18m  tot: 0h0m17s  (1.6%)\rEpoch: 7.9%  lr: 0.049219  loss: 0.106641  eta: 0h18m  tot: 0h0m17s  (1.6%)\rEpoch: 8.0%  lr: 0.049219  loss: 0.106174  eta: 0h18m  tot: 0h0m18s  (1.6%)\rEpoch: 8.1%  lr: 0.049209  loss: 0.105571  eta: 0h18m  tot: 0h0m18s  (1.6%)\rEpoch: 8.2%  lr: 0.049189  loss: 0.105231  eta: 0h18m  tot: 0h0m18s  (1.6%)\rEpoch: 8.3%  lr: 0.049189  loss: 0.104804  eta: 0h18m  tot: 0h0m18s  (1.7%)\rEpoch: 8.4%  lr: 0.049189  loss: 0.104380  eta: 0h18m  tot: 0h0m18s  (1.7%)\rEpoch: 8.5%  lr: 0.049179  loss: 0.104057  eta: 0h18m  tot: 0h0m19s  (1.7%)\rEpoch: 8.6%  lr: 0.049169  loss: 0.103831  eta: 0h18m  tot: 0h0m19s  (1.7%)\rEpoch: 8.6%  lr: 0.049139  loss: 0.103520  eta: 0h18m  tot: 0h0m19s  (1.7%)\rEpoch: 8.7%  lr: 0.049139  loss: 0.103155  eta: 0h18m  tot: 0h0m19s  (1.7%)\rEpoch: 8.8%  lr: 0.049129  loss: 0.102883  eta: 0h18m  tot: 0h0m19s  (1.8%)\rEpoch: 8.9%  lr: 0.049109  loss: 0.102879  eta: 0h18m  tot: 0h0m20s  (1.8%)\rEpoch: 9.0%  lr: 0.049099  loss: 0.102229  eta: 0h18m  tot: 0h0m20s  (1.8%)\rEpoch: 9.1%  lr: 0.049079  loss: 0.102255  eta: 0h18m  tot: 0h0m20s  (1.8%)\rEpoch: 9.2%  lr: 0.049079  loss: 0.101736  eta: 0h18m  tot: 0h0m20s  (1.8%)\rEpoch: 9.3%  lr: 0.049079  loss: 0.101207  eta: 0h18m  tot: 0h0m20s  (1.9%)\rEpoch: 9.4%  lr: 0.049059  loss: 0.101128  eta: 0h18m  tot: 0h0m21s  (1.9%)\rEpoch: 9.5%  lr: 0.049049  loss: 0.100472  eta: 0h18m  tot: 0h0m21s  (1.9%)\rEpoch: 9.5%  lr: 0.049039  loss: 0.100125  eta: 0h18m  tot: 0h0m21s  (1.9%)\rEpoch: 9.6%  lr: 0.049009  loss: 0.100061  eta: 0h18m  tot: 0h0m21s  (1.9%)\rEpoch: 9.7%  lr: 0.048999  loss: 0.099655  eta: 0h18m  tot: 0h0m21s  (1.9%)\rEpoch: 9.8%  lr: 0.048989  loss: 0.099170  eta: 0h18m  tot: 0h0m21s  (2.0%)\rEpoch: 9.9%  lr: 0.048989  loss: 0.098715  eta: 0h18m  tot: 0h0m22s  (2.0%)\rEpoch: 10.0%  lr: 0.048959  loss: 0.098106  eta: 0h18m  tot: 0h0m22s  (2.0%)\rEpoch: 10.1%  lr: 0.048959  loss: 0.097670  eta: 0h18m  tot: 0h0m22s  (2.0%)\rEpoch: 10.2%  lr: 0.048949  loss: 0.097331  eta: 0h18m  tot: 0h0m22s  (2.0%)\rEpoch: 10.3%  lr: 0.048939  loss: 0.097006  eta: 0h18m  tot: 0h0m22s  (2.1%)\rEpoch: 10.4%  lr: 0.048939  loss: 0.096921  eta: 0h18m  tot: 0h0m23s  (2.1%)\rEpoch: 10.4%  lr: 0.048929  loss: 0.096577  eta: 0h18m  tot: 0h0m23s  (2.1%)\rEpoch: 10.5%  lr: 0.048919  loss: 0.096124  eta: 0h18m  tot: 0h0m23s  (2.1%)\rEpoch: 10.6%  lr: 0.048919  loss: 0.095851  eta: 0h18m  tot: 0h0m23s  (2.1%)\rEpoch: 10.7%  lr: 0.048919  loss: 0.095767  eta: 0h18m  tot: 0h0m23s  (2.1%)\rEpoch: 10.8%  lr: 0.048919  loss: 0.095710  eta: 0h18m  tot: 0h0m24s  (2.2%)\rEpoch: 10.9%  lr: 0.048919  loss: 0.095385  eta: 0h18m  tot: 0h0m24s  (2.2%)\rEpoch: 11.0%  lr: 0.048899  loss: 0.095168  eta: 0h18m  tot: 0h0m24s  (2.2%)\rEpoch: 11.1%  lr: 0.048879  loss: 0.094962  eta: 0h18m  tot: 0h0m24s  (2.2%)\rEpoch: 11.2%  lr: 0.048869  loss: 0.094653  eta: 0h18m  tot: 0h0m24s  (2.2%)\rEpoch: 11.3%  lr: 0.048849  loss: 0.094566  eta: 0h18m  tot: 0h0m24s  (2.3%)\rEpoch: 11.3%  lr: 0.048849  loss: 0.094554  eta: 0h18m  tot: 0h0m25s  (2.3%)\rEpoch: 11.4%  lr: 0.048849  loss: 0.094412  eta: 0h18m  tot: 0h0m25s  (2.3%)\rEpoch: 11.5%  lr: 0.048849  loss: 0.094170  eta: 0h18m  tot: 0h0m25s  (2.3%)\rEpoch: 11.6%  lr: 0.048839  loss: 0.093886  eta: 0h18m  tot: 0h0m25s  (2.3%)\rEpoch: 11.7%  lr: 0.048839  loss: 0.093901  eta: 0h18m  tot: 0h0m25s  (2.3%)\rEpoch: 11.8%  lr: 0.048829  loss: 0.093526  eta: 0h18m  tot: 0h0m26s  (2.4%)\rEpoch: 11.9%  lr: 0.048819  loss: 0.093350  eta: 0h18m  tot: 0h0m26s  (2.4%)\rEpoch: 12.0%  lr: 0.048809  loss: 0.093062  eta: 0h17m  tot: 0h0m26s  (2.4%)\rEpoch: 12.1%  lr: 0.048789  loss: 0.093060  eta: 0h17m  tot: 0h0m26s  (2.4%)\rEpoch: 12.2%  lr: 0.048779  loss: 0.092641  eta: 0h17m  tot: 0h0m26s  (2.4%)\rEpoch: 12.2%  lr: 0.048779  loss: 0.092456  eta: 0h17m  tot: 0h0m27s  (2.4%)\rEpoch: 12.3%  lr: 0.048779  loss: 0.092171  eta: 0h17m  tot: 0h0m27s  (2.5%)\rEpoch: 12.4%  lr: 0.048779  loss: 0.091750  eta: 0h17m  tot: 0h0m27s  (2.5%)\rEpoch: 12.5%  lr: 0.048779  loss: 0.091604  eta: 0h17m  tot: 0h0m27s  (2.5%)\rEpoch: 12.6%  lr: 0.048769  loss: 0.091413  eta: 0h17m  tot: 0h0m27s  (2.5%)\rEpoch: 12.7%  lr: 0.048749  loss: 0.091112  eta: 0h17m  tot: 0h0m27s  (2.5%)\rEpoch: 12.8%  lr: 0.048739  loss: 0.090797  eta: 0h17m  tot: 0h0m28s  (2.6%)\rEpoch: 12.9%  lr: 0.048739  loss: 0.090611  eta: 0h17m  tot: 0h0m28s  (2.6%)\rEpoch: 13.0%  lr: 0.048729  loss: 0.090559  eta: 0h17m  tot: 0h0m28s  (2.6%)\rEpoch: 13.1%  lr: 0.048709  loss: 0.090465  eta: 0h17m  tot: 0h0m28s  (2.6%)\rEpoch: 13.1%  lr: 0.048699  loss: 0.090328  eta: 0h17m  tot: 0h0m28s  (2.6%)\rEpoch: 13.2%  lr: 0.048689  loss: 0.090005  eta: 0h17m  tot: 0h0m29s  (2.6%)\rEpoch: 13.3%  lr: 0.048679  loss: 0.089642  eta: 0h17m  tot: 0h0m29s  (2.7%)\rEpoch: 13.4%  lr: 0.048679  loss: 0.089381  eta: 0h17m  tot: 0h0m29s  (2.7%)\rEpoch: 13.5%  lr: 0.048669  loss: 0.089066  eta: 0h17m  tot: 0h0m29s  (2.7%)\rEpoch: 13.6%  lr: 0.048659  loss: 0.088746  eta: 0h17m  tot: 0h0m29s  (2.7%)\rEpoch: 13.7%  lr: 0.048659  loss: 0.088592  eta: 0h17m  tot: 0h0m30s  (2.7%)\rEpoch: 13.8%  lr: 0.048649  loss: 0.088396  eta: 0h17m  tot: 0h0m30s  (2.8%)\rEpoch: 13.9%  lr: 0.048639  loss: 0.088208  eta: 0h17m  tot: 0h0m30s  (2.8%)\rEpoch: 14.0%  lr: 0.048629  loss: 0.087888  eta: 0h17m  tot: 0h0m30s  (2.8%)\rEpoch: 14.0%  lr: 0.048619  loss: 0.087647  eta: 0h17m  tot: 0h0m30s  (2.8%)\rEpoch: 14.1%  lr: 0.048609  loss: 0.087524  eta: 0h17m  tot: 0h0m30s  (2.8%)\rEpoch: 14.2%  lr: 0.048599  loss: 0.087185  eta: 0h17m  tot: 0h0m31s  (2.8%)\rEpoch: 14.3%  lr: 0.048599  loss: 0.086950  eta: 0h17m  tot: 0h0m31s  (2.9%)\rEpoch: 14.4%  lr: 0.048599  loss: 0.086801  eta: 0h17m  tot: 0h0m31s  (2.9%)\rEpoch: 14.5%  lr: 0.048589  loss: 0.086646  eta: 0h17m  tot: 0h0m31s  (2.9%)\rEpoch: 14.6%  lr: 0.048579  loss: 0.086565  eta: 0h17m  tot: 0h0m31s  (2.9%)\rEpoch: 14.7%  lr: 0.048569  loss: 0.086403  eta: 0h17m  tot: 0h0m32s  (2.9%)\rEpoch: 14.8%  lr: 0.048569  loss: 0.086101  eta: 0h17m  tot: 0h0m32s  (3.0%)\rEpoch: 14.9%  lr: 0.048539  loss: 0.085882  eta: 0h17m  tot: 0h0m32s  (3.0%)\rEpoch: 14.9%  lr: 0.048529  loss: 0.085635  eta: 0h17m  tot: 0h0m32s  (3.0%)\rEpoch: 15.0%  lr: 0.048509  loss: 0.085343  eta: 0h17m  tot: 0h0m32s  (3.0%)\rEpoch: 15.1%  lr: 0.048489  loss: 0.085208  eta: 0h17m  tot: 0h0m32s  (3.0%)\rEpoch: 15.2%  lr: 0.048479  loss: 0.085098  eta: 0h17m  tot: 0h0m33s  (3.0%)\rEpoch: 15.3%  lr: 0.048479  loss: 0.084856  eta: 0h17m  tot: 0h0m33s  (3.1%)\rEpoch: 15.4%  lr: 0.048468  loss: 0.084621  eta: 0h17m  tot: 0h0m33s  (3.1%)\rEpoch: 15.5%  lr: 0.048458  loss: 0.084468  eta: 0h17m  tot: 0h0m33s  (3.1%)\rEpoch: 15.6%  lr: 0.048458  loss: 0.084318  eta: 0h17m  tot: 0h0m33s  (3.1%)\rEpoch: 15.7%  lr: 0.048458  loss: 0.084249  eta: 0h17m  tot: 0h0m34s  (3.1%)\rEpoch: 15.8%  lr: 0.048448  loss: 0.084025  eta: 0h17m  tot: 0h0m34s  (3.2%)\rEpoch: 15.8%  lr: 0.048438  loss: 0.083884  eta: 0h17m  tot: 0h0m34s  (3.2%)\rEpoch: 15.9%  lr: 0.048428  loss: 0.083705  eta: 0h17m  tot: 0h0m34s  (3.2%)\rEpoch: 16.0%  lr: 0.048388  loss: 0.083625  eta: 0h17m  tot: 0h0m34s  (3.2%)\rEpoch: 16.1%  lr: 0.048368  loss: 0.083555  eta: 0h17m  tot: 0h0m35s  (3.2%)\rEpoch: 16.2%  lr: 0.048358  loss: 0.083276  eta: 0h17m  tot: 0h0m35s  (3.2%)\rEpoch: 16.3%  lr: 0.048328  loss: 0.083113  eta: 0h17m  tot: 0h0m35s  (3.3%)\rEpoch: 16.4%  lr: 0.048308  loss: 0.083075  eta: 0h17m  tot: 0h0m35s  (3.3%)\rEpoch: 16.5%  lr: 0.048278  loss: 0.082843  eta: 0h17m  tot: 0h0m35s  (3.3%)\rEpoch: 16.6%  lr: 0.048278  loss: 0.082663  eta: 0h17m  tot: 0h0m35s  (3.3%)\rEpoch: 16.7%  lr: 0.048278  loss: 0.082721  eta: 0h17m  tot: 0h0m36s  (3.3%)\rEpoch: 16.7%  lr: 0.048258  loss: 0.082667  eta: 0h17m  tot: 0h0m36s  (3.3%)\rEpoch: 16.8%  lr: 0.048258  loss: 0.082493  eta: 0h17m  tot: 0h0m36s  (3.4%)\rEpoch: 16.9%  lr: 0.048258  loss: 0.082275  eta: 0h17m  tot: 0h0m36s  (3.4%)\rEpoch: 17.0%  lr: 0.048258  loss: 0.082134  eta: 0h17m  tot: 0h0m36s  (3.4%)\rEpoch: 17.1%  lr: 0.048248  loss: 0.081865  eta: 0h17m  tot: 0h0m37s  (3.4%)\rEpoch: 17.2%  lr: 0.048248  loss: 0.081667  eta: 0h17m  tot: 0h0m37s  (3.4%)\rEpoch: 17.3%  lr: 0.048248  loss: 0.081433  eta: 0h17m  tot: 0h0m37s  (3.5%)\rEpoch: 17.4%  lr: 0.048248  loss: 0.081353  eta: 0h17m  tot: 0h0m37s  (3.5%)\rEpoch: 17.5%  lr: 0.048248  loss: 0.081318  eta: 0h17m  tot: 0h0m37s  (3.5%)\rEpoch: 17.6%  lr: 0.048218  loss: 0.081246  eta: 0h17m  tot: 0h0m37s  (3.5%)\rEpoch: 17.6%  lr: 0.048198  loss: 0.081209  eta: 0h17m  tot: 0h0m38s  (3.5%)\rEpoch: 17.7%  lr: 0.048188  loss: 0.080950  eta: 0h17m  tot: 0h0m38s  (3.5%)\rEpoch: 17.8%  lr: 0.048178  loss: 0.080822  eta: 0h17m  tot: 0h0m38s  (3.6%)\rEpoch: 17.9%  lr: 0.048168  loss: 0.080575  eta: 0h17m  tot: 0h0m38s  (3.6%)\rEpoch: 18.0%  lr: 0.048148  loss: 0.080421  eta: 0h17m  tot: 0h0m38s  (3.6%)\rEpoch: 18.1%  lr: 0.048138  loss: 0.080178  eta: 0h17m  tot: 0h0m39s  (3.6%)\rEpoch: 18.2%  lr: 0.048138  loss: 0.079935  eta: 0h17m  tot: 0h0m39s  (3.6%)\rEpoch: 18.3%  lr: 0.048128  loss: 0.079781  eta: 0h17m  tot: 0h0m39s  (3.7%)\rEpoch: 18.4%  lr: 0.048118  loss: 0.079591  eta: 0h17m  tot: 0h0m39s  (3.7%)\rEpoch: 18.5%  lr: 0.048118  loss: 0.079399  eta: 0h17m  tot: 0h0m39s  (3.7%)\rEpoch: 18.5%  lr: 0.048098  loss: 0.079274  eta: 0h17m  tot: 0h0m39s  (3.7%)\rEpoch: 18.6%  lr: 0.048088  loss: 0.079343  eta: 0h17m  tot: 0h0m40s  (3.7%)\rEpoch: 18.7%  lr: 0.048088  loss: 0.079090  eta: 0h17m  tot: 0h0m40s  (3.7%)\rEpoch: 18.8%  lr: 0.048068  loss: 0.078932  eta: 0h17m  tot: 0h0m40s  (3.8%)\rEpoch: 18.9%  lr: 0.048068  loss: 0.078768  eta: 0h17m  tot: 0h0m40s  (3.8%)\rEpoch: 19.0%  lr: 0.048068  loss: 0.078653  eta: 0h17m  tot: 0h0m40s  (3.8%)\rEpoch: 19.1%  lr: 0.048058  loss: 0.078589  eta: 0h17m  tot: 0h0m41s  (3.8%)\rEpoch: 19.2%  lr: 0.048058  loss: 0.078438  eta: 0h17m  tot: 0h0m41s  (3.8%)\rEpoch: 19.3%  lr: 0.048048  loss: 0.078258  eta: 0h17m  tot: 0h0m41s  (3.9%)\rEpoch: 19.4%  lr: 0.048048  loss: 0.078038  eta: 0h17m  tot: 0h0m41s  (3.9%)\rEpoch: 19.4%  lr: 0.048038  loss: 0.077919  eta: 0h17m  tot: 0h0m41s  (3.9%)\rEpoch: 19.5%  lr: 0.048038  loss: 0.077759  eta: 0h17m  tot: 0h0m41s  (3.9%)\rEpoch: 19.6%  lr: 0.048038  loss: 0.077641  eta: 0h17m  tot: 0h0m42s  (3.9%)\rEpoch: 19.7%  lr: 0.048028  loss: 0.077422  eta: 0h17m  tot: 0h0m42s  (3.9%)\rEpoch: 19.8%  lr: 0.048028  loss: 0.077343  eta: 0h17m  tot: 0h0m42s  (4.0%)\rEpoch: 19.9%  lr: 0.048008  loss: 0.077191  eta: 0h17m  tot: 0h0m42s  (4.0%)\rEpoch: 20.0%  lr: 0.047998  loss: 0.077051  eta: 0h17m  tot: 0h0m42s  (4.0%)\rEpoch: 20.1%  lr: 0.047998  loss: 0.076995  eta: 0h17m  tot: 0h0m43s  (4.0%)\rEpoch: 20.2%  lr: 0.047998  loss: 0.076903  eta: 0h17m  tot: 0h0m43s  (4.0%)\rEpoch: 20.3%  lr: 0.047978  loss: 0.076618  eta: 0h17m  tot: 0h0m43s  (4.1%)\rEpoch: 20.3%  lr: 0.047978  loss: 0.076516  eta: 0h17m  tot: 0h0m43s  (4.1%)\rEpoch: 20.4%  lr: 0.047968  loss: 0.076397  eta: 0h17m  tot: 0h0m43s  (4.1%)\rEpoch: 20.5%  lr: 0.047968  loss: 0.076289  eta: 0h17m  tot: 0h0m43s  (4.1%)\rEpoch: 20.6%  lr: 0.047938  loss: 0.076141  eta: 0h17m  tot: 0h0m44s  (4.1%)\rEpoch: 20.7%  lr: 0.047938  loss: 0.075981  eta: 0h17m  tot: 0h0m44s  (4.1%)\rEpoch: 20.8%  lr: 0.047938  loss: 0.075809  eta: 0h17m  tot: 0h0m44s  (4.2%)\rEpoch: 20.9%  lr: 0.047928  loss: 0.075671  eta: 0h17m  tot: 0h0m44s  (4.2%)\rEpoch: 21.0%  lr: 0.047918  loss: 0.075543  eta: 0h17m  tot: 0h0m44s  (4.2%)\rEpoch: 21.1%  lr: 0.047918  loss: 0.075334  eta: 0h17m  tot: 0h0m45s  (4.2%)\rEpoch: 21.2%  lr: 0.047918  loss: 0.075208  eta: 0h17m  tot: 0h0m45s  (4.2%)\rEpoch: 21.2%  lr: 0.047918  loss: 0.075269  eta: 0h17m  tot: 0h0m45s  (4.2%)\rEpoch: 21.3%  lr: 0.047908  loss: 0.075087  eta: 0h17m  tot: 0h0m45s  (4.3%)\rEpoch: 21.4%  lr: 0.047898  loss: 0.075017  eta: 0h17m  tot: 0h0m45s  (4.3%)\rEpoch: 21.5%  lr: 0.047898  loss: 0.074817  eta: 0h17m  tot: 0h0m45s  (4.3%)\rEpoch: 21.6%  lr: 0.047878  loss: 0.074746  eta: 0h17m  tot: 0h0m46s  (4.3%)\rEpoch: 21.7%  lr: 0.047858  loss: 0.074617  eta: 0h17m  tot: 0h0m46s  (4.3%)\rEpoch: 21.8%  lr: 0.047858  loss: 0.074514  eta: 0h17m  tot: 0h0m46s  (4.4%)\rEpoch: 21.9%  lr: 0.047838  loss: 0.074370  eta: 0h17m  tot: 0h0m46s  (4.4%)\rEpoch: 22.0%  lr: 0.047828  loss: 0.074201  eta: 0h17m  tot: 0h0m46s  (4.4%)\rEpoch: 22.1%  lr: 0.047818  loss: 0.074048  eta: 0h16m  tot: 0h0m47s  (4.4%)\rEpoch: 22.1%  lr: 0.047808  loss: 0.073807  eta: 0h16m  tot: 0h0m47s  (4.4%)\rEpoch: 22.2%  lr: 0.047798  loss: 0.073894  eta: 0h16m  tot: 0h0m47s  (4.4%)\rEpoch: 22.3%  lr: 0.047788  loss: 0.073804  eta: 0h16m  tot: 0h0m47s  (4.5%)\rEpoch: 22.4%  lr: 0.047778  loss: 0.073650  eta: 0h16m  tot: 0h0m47s  (4.5%)\rEpoch: 22.5%  lr: 0.047768  loss: 0.073610  eta: 0h16m  tot: 0h0m48s  (4.5%)\rEpoch: 22.6%  lr: 0.047758  loss: 0.073532  eta: 0h16m  tot: 0h0m48s  (4.5%)\rEpoch: 22.7%  lr: 0.047758  loss: 0.073367  eta: 0h16m  tot: 0h0m48s  (4.5%)\rEpoch: 22.8%  lr: 0.047748  loss: 0.073254  eta: 0h16m  tot: 0h0m48s  (4.6%)\rEpoch: 22.9%  lr: 0.047738  loss: 0.073194  eta: 0h16m  tot: 0h0m48s  (4.6%)\rEpoch: 23.0%  lr: 0.047738  loss: 0.073103  eta: 0h16m  tot: 0h0m48s  (4.6%)\rEpoch: 23.0%  lr: 0.047738  loss: 0.072955  eta: 0h16m  tot: 0h0m49s  (4.6%)\rEpoch: 23.1%  lr: 0.047738  loss: 0.072801  eta: 0h16m  tot: 0h0m49s  (4.6%)\rEpoch: 23.2%  lr: 0.047708  loss: 0.072732  eta: 0h16m  tot: 0h0m49s  (4.6%)\rEpoch: 23.3%  lr: 0.047688  loss: 0.072530  eta: 0h16m  tot: 0h0m49s  (4.7%)\rEpoch: 23.4%  lr: 0.047678  loss: 0.072381  eta: 0h16m  tot: 0h0m49s  (4.7%)\rEpoch: 23.5%  lr: 0.047678  loss: 0.072340  eta: 0h16m  tot: 0h0m50s  (4.7%)\rEpoch: 23.6%  lr: 0.047668  loss: 0.072168  eta: 0h16m  tot: 0h0m50s  (4.7%)\rEpoch: 23.7%  lr: 0.047658  loss: 0.072043  eta: 0h16m  tot: 0h0m50s  (4.7%)\rEpoch: 23.8%  lr: 0.047638  loss: 0.071859  eta: 0h16m  tot: 0h0m50s  (4.8%)\rEpoch: 23.9%  lr: 0.047628  loss: 0.071755  eta: 0h16m  tot: 0h0m50s  (4.8%)\rEpoch: 23.9%  lr: 0.047608  loss: 0.071584  eta: 0h16m  tot: 0h0m50s  (4.8%)\rEpoch: 24.0%  lr: 0.047608  loss: 0.071554  eta: 0h16m  tot: 0h0m51s  (4.8%)\rEpoch: 24.1%  lr: 0.047598  loss: 0.071407  eta: 0h16m  tot: 0h0m51s  (4.8%)\rEpoch: 24.2%  lr: 0.047588  loss: 0.071309  eta: 0h16m  tot: 0h0m51s  (4.8%)\rEpoch: 24.3%  lr: 0.047588  loss: 0.071183  eta: 0h16m  tot: 0h0m51s  (4.9%)\rEpoch: 24.4%  lr: 0.047588  loss: 0.071051  eta: 0h16m  tot: 0h0m51s  (4.9%)\rEpoch: 24.5%  lr: 0.047578  loss: 0.071050  eta: 0h16m  tot: 0h0m52s  (4.9%)\rEpoch: 24.6%  lr: 0.047578  loss: 0.070927  eta: 0h16m  tot: 0h0m52s  (4.9%)\rEpoch: 24.7%  lr: 0.047568  loss: 0.070910  eta: 0h16m  tot: 0h0m52s  (4.9%)\rEpoch: 24.8%  lr: 0.047548  loss: 0.070746  eta: 0h16m  tot: 0h0m52s  (5.0%)\rEpoch: 24.8%  lr: 0.047548  loss: 0.070644  eta: 0h16m  tot: 0h0m52s  (5.0%)\rEpoch: 24.9%  lr: 0.047538  loss: 0.070492  eta: 0h16m  tot: 0h0m52s  (5.0%)\rEpoch: 25.0%  lr: 0.047508  loss: 0.070372  eta: 0h16m  tot: 0h0m53s  (5.0%)\rEpoch: 25.1%  lr: 0.047508  loss: 0.070250  eta: 0h16m  tot: 0h0m53s  (5.0%)\rEpoch: 25.2%  lr: 0.047508  loss: 0.070137  eta: 0h16m  tot: 0h0m53s  (5.0%)\rEpoch: 25.3%  lr: 0.047508  loss: 0.069963  eta: 0h16m  tot: 0h0m53s  (5.1%)\rEpoch: 25.4%  lr: 0.047508  loss: 0.069798  eta: 0h16m  tot: 0h0m53s  (5.1%)\rEpoch: 25.5%  lr: 0.047498  loss: 0.069691  eta: 0h16m  tot: 0h0m53s  (5.1%)\rEpoch: 25.6%  lr: 0.047478  loss: 0.069568  eta: 0h16m  tot: 0h0m54s  (5.1%)\rEpoch: 25.7%  lr: 0.047468  loss: 0.069411  eta: 0h16m  tot: 0h0m54s  (5.1%)\rEpoch: 25.7%  lr: 0.047468  loss: 0.069292  eta: 0h16m  tot: 0h0m54s  (5.1%)\rEpoch: 25.8%  lr: 0.047468  loss: 0.069173  eta: 0h16m  tot: 0h0m54s  (5.2%)\rEpoch: 25.9%  lr: 0.047447  loss: 0.069081  eta: 0h16m  tot: 0h0m54s  (5.2%)\rEpoch: 26.0%  lr: 0.047427  loss: 0.069029  eta: 0h16m  tot: 0h0m55s  (5.2%)\rEpoch: 26.1%  lr: 0.047427  loss: 0.069014  eta: 0h16m  tot: 0h0m55s  (5.2%)\rEpoch: 26.2%  lr: 0.047417  loss: 0.068930  eta: 0h16m  tot: 0h0m55s  (5.2%)\rEpoch: 26.3%  lr: 0.047407  loss: 0.068854  eta: 0h16m  tot: 0h0m55s  (5.3%)\rEpoch: 26.4%  lr: 0.047397  loss: 0.068686  eta: 0h16m  tot: 0h0m55s  (5.3%)\rEpoch: 26.5%  lr: 0.047397  loss: 0.068693  eta: 0h16m  tot: 0h0m55s  (5.3%)\rEpoch: 26.6%  lr: 0.047397  loss: 0.068557  eta: 0h16m  tot: 0h0m56s  (5.3%)\rEpoch: 26.6%  lr: 0.047397  loss: 0.068517  eta: 0h16m  tot: 0h0m56s  (5.3%)\rEpoch: 26.7%  lr: 0.047387  loss: 0.068413  eta: 0h16m  tot: 0h0m56s  (5.3%)\rEpoch: 26.8%  lr: 0.047387  loss: 0.068291  eta: 0h16m  tot: 0h0m56s  (5.4%)\rEpoch: 26.9%  lr: 0.047377  loss: 0.068290  eta: 0h16m  tot: 0h0m56s  (5.4%)\rEpoch: 27.0%  lr: 0.047377  loss: 0.068233  eta: 0h16m  tot: 0h0m57s  (5.4%)\rEpoch: 27.1%  lr: 0.047367  loss: 0.068149  eta: 0h16m  tot: 0h0m57s  (5.4%)\rEpoch: 27.2%  lr: 0.047357  loss: 0.068045  eta: 0h16m  tot: 0h0m57s  (5.4%)\rEpoch: 27.3%  lr: 0.047347  loss: 0.067986  eta: 0h16m  tot: 0h0m57s  (5.5%)\rEpoch: 27.4%  lr: 0.047347  loss: 0.067849  eta: 0h16m  tot: 0h0m57s  (5.5%)\rEpoch: 27.5%  lr: 0.047347  loss: 0.067726  eta: 0h16m  tot: 0h0m57s  (5.5%)\rEpoch: 27.5%  lr: 0.047337  loss: 0.067657  eta: 0h16m  tot: 0h0m58s  (5.5%)\rEpoch: 27.6%  lr: 0.047327  loss: 0.067591  eta: 0h16m  tot: 0h0m58s  (5.5%)\rEpoch: 27.7%  lr: 0.047327  loss: 0.067500  eta: 0h16m  tot: 0h0m58s  (5.5%)\rEpoch: 27.8%  lr: 0.047317  loss: 0.067368  eta: 0h16m  tot: 0h0m58s  (5.6%)\rEpoch: 27.9%  lr: 0.047307  loss: 0.067276  eta: 0h16m  tot: 0h0m58s  (5.6%)\rEpoch: 28.0%  lr: 0.047277  loss: 0.067190  eta: 0h16m  tot: 0h0m58s  (5.6%)\rEpoch: 28.1%  lr: 0.047277  loss: 0.067077  eta: 0h16m  tot: 0h0m59s  (5.6%)\rEpoch: 28.2%  lr: 0.047267  loss: 0.067045  eta: 0h16m  tot: 0h0m59s  (5.6%)\rEpoch: 28.3%  lr: 0.047247  loss: 0.066973  eta: 0h16m  tot: 0h0m59s  (5.7%)\rEpoch: 28.4%  lr: 0.047227  loss: 0.066814  eta: 0h16m  tot: 0h0m59s  (5.7%)\rEpoch: 28.4%  lr: 0.047217  loss: 0.066865  eta: 0h16m  tot: 0h0m59s  (5.7%)\rEpoch: 28.5%  lr: 0.047217  loss: 0.066824  eta: 0h16m  tot: 0h1m0s  (5.7%)\rEpoch: 28.6%  lr: 0.047207  loss: 0.066798  eta: 0h16m  tot: 0h1m0s  (5.7%)\rEpoch: 28.7%  lr: 0.047197  loss: 0.066739  eta: 0h16m  tot: 0h1m0s  (5.7%)\rEpoch: 28.8%  lr: 0.047197  loss: 0.066679  eta: 0h16m  tot: 0h1m0s  (5.8%)\rEpoch: 28.9%  lr: 0.047187  loss: 0.066710  eta: 0h16m  tot: 0h1m0s  (5.8%)\rEpoch: 29.0%  lr: 0.047187  loss: 0.066631  eta: 0h16m  tot: 0h1m1s  (5.8%)\rEpoch: 29.1%  lr: 0.047177  loss: 0.066559  eta: 0h16m  tot: 0h1m1s  (5.8%)\rEpoch: 29.2%  lr: 0.047177  loss: 0.066465  eta: 0h16m  tot: 0h1m1s  (5.8%)\rEpoch: 29.3%  lr: 0.047177  loss: 0.066400  eta: 0h16m  tot: 0h1m1s  (5.9%)\rEpoch: 29.3%  lr: 0.047177  loss: 0.066374  eta: 0h16m  tot: 0h1m1s  (5.9%)\rEpoch: 29.4%  lr: 0.047167  loss: 0.066314  eta: 0h16m  tot: 0h1m1s  (5.9%)\rEpoch: 29.5%  lr: 0.047147  loss: 0.066283  eta: 0h16m  tot: 0h1m2s  (5.9%)\rEpoch: 29.6%  lr: 0.047137  loss: 0.066185  eta: 0h16m  tot: 0h1m2s  (5.9%)\rEpoch: 29.7%  lr: 0.047107  loss: 0.066127  eta: 0h16m  tot: 0h1m2s  (5.9%)\rEpoch: 29.8%  lr: 0.047107  loss: 0.066036  eta: 0h16m  tot: 0h1m2s  (6.0%)\rEpoch: 29.9%  lr: 0.047107  loss: 0.065938  eta: 0h16m  tot: 0h1m2s  (6.0%)\rEpoch: 30.0%  lr: 0.047107  loss: 0.065891  eta: 0h16m  tot: 0h1m3s  (6.0%)\rEpoch: 30.1%  lr: 0.047107  loss: 0.065860  eta: 0h16m  tot: 0h1m3s  (6.0%)\rEpoch: 30.2%  lr: 0.047107  loss: 0.065696  eta: 0h16m  tot: 0h1m3s  (6.0%)\rEpoch: 30.2%  lr: 0.047097  loss: 0.065641  eta: 0h16m  tot: 0h1m3s  (6.0%)\rEpoch: 30.3%  lr: 0.047097  loss: 0.065603  eta: 0h16m  tot: 0h1m3s  (6.1%)\rEpoch: 30.4%  lr: 0.047097  loss: 0.065571  eta: 0h16m  tot: 0h1m3s  (6.1%)\rEpoch: 30.5%  lr: 0.047087  loss: 0.065451  eta: 0h16m  tot: 0h1m4s  (6.1%)\rEpoch: 30.6%  lr: 0.047087  loss: 0.065409  eta: 0h16m  tot: 0h1m4s  (6.1%)\rEpoch: 30.7%  lr: 0.047067  loss: 0.065389  eta: 0h16m  tot: 0h1m4s  (6.1%)\rEpoch: 30.8%  lr: 0.047067  loss: 0.065352  eta: 0h16m  tot: 0h1m4s  (6.2%)\rEpoch: 30.9%  lr: 0.047067  loss: 0.065254  eta: 0h16m  tot: 0h1m4s  (6.2%)\rEpoch: 31.0%  lr: 0.047047  loss: 0.065173  eta: 0h16m  tot: 0h1m5s  (6.2%)\rEpoch: 31.1%  lr: 0.047047  loss: 0.065069  eta: 0h16m  tot: 0h1m5s  (6.2%)\rEpoch: 31.1%  lr: 0.047037  loss: 0.064994  eta: 0h16m  tot: 0h1m5s  (6.2%)\rEpoch: 31.2%  lr: 0.047017  loss: 0.064925  eta: 0h16m  tot: 0h1m5s  (6.2%)\rEpoch: 31.3%  lr: 0.047017  loss: 0.064832  eta: 0h16m  tot: 0h1m5s  (6.3%)\rEpoch: 31.4%  lr: 0.047007  loss: 0.064767  eta: 0h16m  tot: 0h1m5s  (6.3%)\rEpoch: 31.5%  lr: 0.047007  loss: 0.064739  eta: 0h16m  tot: 0h1m6s  (6.3%)\rEpoch: 31.6%  lr: 0.047007  loss: 0.064642  eta: 0h16m  tot: 0h1m6s  (6.3%)\rEpoch: 31.7%  lr: 0.047007  loss: 0.064566  eta: 0h16m  tot: 0h1m6s  (6.3%)\rEpoch: 31.8%  lr: 0.047007  loss: 0.064504  eta: 0h16m  tot: 0h1m6s  (6.4%)\rEpoch: 31.9%  lr: 0.046987  loss: 0.064463  eta: 0h16m  tot: 0h1m6s  (6.4%)\rEpoch: 32.0%  lr: 0.046977  loss: 0.064358  eta: 0h16m  tot: 0h1m7s  (6.4%)\rEpoch: 32.0%  lr: 0.046977  loss: 0.064297  eta: 0h16m  tot: 0h1m7s  (6.4%)\rEpoch: 32.1%  lr: 0.046977  loss: 0.064194  eta: 0h16m  tot: 0h1m7s  (6.4%)\rEpoch: 32.2%  lr: 0.046977  loss: 0.064113  eta: 0h16m  tot: 0h1m7s  (6.4%)\rEpoch: 32.3%  lr: 0.046967  loss: 0.063981  eta: 0h16m  tot: 0h1m7s  (6.5%)\rEpoch: 32.4%  lr: 0.046967  loss: 0.063859  eta: 0h16m  tot: 0h1m7s  (6.5%)\rEpoch: 32.5%  lr: 0.046957  loss: 0.063778  eta: 0h16m  tot: 0h1m8s  (6.5%)\rEpoch: 32.6%  lr: 0.046957  loss: 0.063682  eta: 0h16m  tot: 0h1m8s  (6.5%)\rEpoch: 32.7%  lr: 0.046957  loss: 0.063599  eta: 0h16m  tot: 0h1m8s  (6.5%)\rEpoch: 32.8%  lr: 0.046947  loss: 0.063488  eta: 0h16m  tot: 0h1m8s  (6.6%)\rEpoch: 32.9%  lr: 0.046937  loss: 0.063440  eta: 0h16m  tot: 0h1m8s  (6.6%)\rEpoch: 32.9%  lr: 0.046937  loss: 0.063313  eta: 0h16m  tot: 0h1m9s  (6.6%)\rEpoch: 33.0%  lr: 0.046937  loss: 0.063235  eta: 0h16m  tot: 0h1m9s  (6.6%)\rEpoch: 33.1%  lr: 0.046937  loss: 0.063152  eta: 0h16m  tot: 0h1m9s  (6.6%)\rEpoch: 33.2%  lr: 0.046927  loss: 0.063114  eta: 0h16m  tot: 0h1m9s  (6.6%)\rEpoch: 33.3%  lr: 0.046927  loss: 0.063094  eta: 0h16m  tot: 0h1m9s  (6.7%)\rEpoch: 33.4%  lr: 0.046917  loss: 0.063020  eta: 0h16m  tot: 0h1m9s  (6.7%)\rEpoch: 33.5%  lr: 0.046907  loss: 0.062908  eta: 0h16m  tot: 0h1m10s  (6.7%)\rEpoch: 33.6%  lr: 0.046897  loss: 0.062885  eta: 0h16m  tot: 0h1m10s  (6.7%)\rEpoch: 33.7%  lr: 0.046887  loss: 0.062775  eta: 0h16m  tot: 0h1m10s  (6.7%)\rEpoch: 33.8%  lr: 0.046887  loss: 0.062718  eta: 0h16m  tot: 0h1m10s  (6.8%)\rEpoch: 33.8%  lr: 0.046877  loss: 0.062658  eta: 0h16m  tot: 0h1m10s  (6.8%)\rEpoch: 33.9%  lr: 0.046867  loss: 0.062584  eta: 0h16m  tot: 0h1m10s  (6.8%)\rEpoch: 34.0%  lr: 0.046857  loss: 0.062550  eta: 0h16m  tot: 0h1m11s  (6.8%)\rEpoch: 34.1%  lr: 0.046847  loss: 0.062487  eta: 0h16m  tot: 0h1m11s  (6.8%)\rEpoch: 34.2%  lr: 0.046837  loss: 0.062438  eta: 0h16m  tot: 0h1m11s  (6.8%)\rEpoch: 34.3%  lr: 0.046807  loss: 0.062432  eta: 0h16m  tot: 0h1m11s  (6.9%)\rEpoch: 34.4%  lr: 0.046807  loss: 0.062404  eta: 0h16m  tot: 0h1m11s  (6.9%)\rEpoch: 34.5%  lr: 0.046797  loss: 0.062329  eta: 0h16m  tot: 0h1m12s  (6.9%)\rEpoch: 34.6%  lr: 0.046797  loss: 0.062236  eta: 0h16m  tot: 0h1m12s  (6.9%)\rEpoch: 34.7%  lr: 0.046777  loss: 0.062137  eta: 0h16m  tot: 0h1m12s  (6.9%)\rEpoch: 34.7%  lr: 0.046757  loss: 0.062091  eta: 0h16m  tot: 0h1m12s  (6.9%)\rEpoch: 34.8%  lr: 0.046747  loss: 0.061985  eta: 0h16m  tot: 0h1m12s  (7.0%)\rEpoch: 34.9%  lr: 0.046727  loss: 0.061974  eta: 0h16m  tot: 0h1m12s  (7.0%)\rEpoch: 35.0%  lr: 0.046727  loss: 0.061958  eta: 0h16m  tot: 0h1m13s  (7.0%)\rEpoch: 35.1%  lr: 0.046707  loss: 0.061912  eta: 0h16m  tot: 0h1m13s  (7.0%)\rEpoch: 35.2%  lr: 0.046697  loss: 0.061838  eta: 0h16m  tot: 0h1m13s  (7.0%)\rEpoch: 35.3%  lr: 0.046697  loss: 0.061778  eta: 0h16m  tot: 0h1m13s  (7.1%)\rEpoch: 35.4%  lr: 0.046687  loss: 0.061687  eta: 0h16m  tot: 0h1m13s  (7.1%)\rEpoch: 35.5%  lr: 0.046657  loss: 0.061632  eta: 0h16m  tot: 0h1m14s  (7.1%)\rEpoch: 35.6%  lr: 0.046647  loss: 0.061576  eta: 0h16m  tot: 0h1m14s  (7.1%)\rEpoch: 35.6%  lr: 0.046647  loss: 0.061540  eta: 0h16m  tot: 0h1m14s  (7.1%)\rEpoch: 35.7%  lr: 0.046637  loss: 0.061467  eta: 0h16m  tot: 0h1m14s  (7.1%)\rEpoch: 35.8%  lr: 0.046637  loss: 0.061467  eta: 0h16m  tot: 0h1m14s  (7.2%)\rEpoch: 35.9%  lr: 0.046617  loss: 0.061431  eta: 0h16m  tot: 0h1m14s  (7.2%)\rEpoch: 36.0%  lr: 0.046607  loss: 0.061394  eta: 0h16m  tot: 0h1m15s  (7.2%)\rEpoch: 36.1%  lr: 0.046607  loss: 0.061410  eta: 0h16m  tot: 0h1m15s  (7.2%)\rEpoch: 36.2%  lr: 0.046597  loss: 0.061382  eta: 0h16m  tot: 0h1m15s  (7.2%)\rEpoch: 36.3%  lr: 0.046567  loss: 0.061380  eta: 0h16m  tot: 0h1m15s  (7.3%)\rEpoch: 36.4%  lr: 0.046547  loss: 0.061347  eta: 0h16m  tot: 0h1m15s  (7.3%)\rEpoch: 36.5%  lr: 0.046547  loss: 0.061280  eta: 0h16m  tot: 0h1m16s  (7.3%)\rEpoch: 36.5%  lr: 0.046547  loss: 0.061204  eta: 0h16m  tot: 0h1m16s  (7.3%)\rEpoch: 36.6%  lr: 0.046537  loss: 0.061148  eta: 0h16m  tot: 0h1m16s  (7.3%)\rEpoch: 36.7%  lr: 0.046527  loss: 0.061063  eta: 0h16m  tot: 0h1m16s  (7.3%)\rEpoch: 36.8%  lr: 0.046517  loss: 0.060979  eta: 0h16m  tot: 0h1m16s  (7.4%)\rEpoch: 36.9%  lr: 0.046497  loss: 0.060930  eta: 0h16m  tot: 0h1m17s  (7.4%)\rEpoch: 37.0%  lr: 0.046477  loss: 0.060874  eta: 0h16m  tot: 0h1m17s  (7.4%)\rEpoch: 37.1%  lr: 0.046477  loss: 0.060870  eta: 0h16m  tot: 0h1m17s  (7.4%)\rEpoch: 37.2%  lr: 0.046467  loss: 0.060794  eta: 0h16m  tot: 0h1m17s  (7.4%)\rEpoch: 37.3%  lr: 0.046457  loss: 0.060750  eta: 0h16m  tot: 0h1m17s  (7.5%)\rEpoch: 37.4%  lr: 0.046457  loss: 0.060742  eta: 0h16m  tot: 0h1m17s  (7.5%)\rEpoch: 37.4%  lr: 0.046447  loss: 0.060673  eta: 0h16m  tot: 0h1m18s  (7.5%)\rEpoch: 37.5%  lr: 0.046447  loss: 0.060613  eta: 0h16m  tot: 0h1m18s  (7.5%)\rEpoch: 37.6%  lr: 0.046436  loss: 0.060554  eta: 0h16m  tot: 0h1m18s  (7.5%)\rEpoch: 37.7%  lr: 0.046436  loss: 0.060551  eta: 0h16m  tot: 0h1m18s  (7.5%)\rEpoch: 37.8%  lr: 0.046436  loss: 0.060548  eta: 0h16m  tot: 0h1m18s  (7.6%)\rEpoch: 37.9%  lr: 0.046426  loss: 0.060513  eta: 0h16m  tot: 0h1m18s  (7.6%)\rEpoch: 38.0%  lr: 0.046406  loss: 0.060440  eta: 0h16m  tot: 0h1m19s  (7.6%)\rEpoch: 38.1%  lr: 0.046386  loss: 0.060411  eta: 0h16m  tot: 0h1m19s  (7.6%)\rEpoch: 38.2%  lr: 0.046356  loss: 0.060370  eta: 0h16m  tot: 0h1m19s  (7.6%)\rEpoch: 38.3%  lr: 0.046346  loss: 0.060328  eta: 0h16m  tot: 0h1m19s  (7.7%)\rEpoch: 38.3%  lr: 0.046336  loss: 0.060332  eta: 0h16m  tot: 0h1m19s  (7.7%)\rEpoch: 38.4%  lr: 0.046316  loss: 0.060278  eta: 0h16m  tot: 0h1m20s  (7.7%)\rEpoch: 38.5%  lr: 0.046296  loss: 0.060225  eta: 0h16m  tot: 0h1m20s  (7.7%)\rEpoch: 38.6%  lr: 0.046266  loss: 0.060162  eta: 0h16m  tot: 0h1m20s  (7.7%)\rEpoch: 38.7%  lr: 0.046246  loss: 0.060120  eta: 0h15m  tot: 0h1m20s  (7.7%)\rEpoch: 38.8%  lr: 0.046236  loss: 0.060124  eta: 0h15m  tot: 0h1m20s  (7.8%)\rEpoch: 38.9%  lr: 0.046226  loss: 0.060076  eta: 0h15m  tot: 0h1m20s  (7.8%)\rEpoch: 39.0%  lr: 0.046226  loss: 0.060022  eta: 0h15m  tot: 0h1m21s  (7.8%)\rEpoch: 39.1%  lr: 0.046226  loss: 0.060011  eta: 0h15m  tot: 0h1m21s  (7.8%)\rEpoch: 39.2%  lr: 0.046216  loss: 0.059946  eta: 0h15m  tot: 0h1m21s  (7.8%)\rEpoch: 39.2%  lr: 0.046216  loss: 0.059913  eta: 0h15m  tot: 0h1m21s  (7.8%)\rEpoch: 39.3%  lr: 0.046206  loss: 0.059848  eta: 0h15m  tot: 0h1m21s  (7.9%)\rEpoch: 39.4%  lr: 0.046206  loss: 0.059818  eta: 0h15m  tot: 0h1m22s  (7.9%)\rEpoch: 39.5%  lr: 0.046206  loss: 0.059759  eta: 0h15m  tot: 0h1m22s  (7.9%)\rEpoch: 39.6%  lr: 0.046206  loss: 0.059701  eta: 0h15m  tot: 0h1m22s  (7.9%)\rEpoch: 39.7%  lr: 0.046206  loss: 0.059715  eta: 0h15m  tot: 0h1m22s  (7.9%)\rEpoch: 39.8%  lr: 0.046206  loss: 0.059680  eta: 0h15m  tot: 0h1m22s  (8.0%)\rEpoch: 39.9%  lr: 0.046206  loss: 0.059638  eta: 0h15m  tot: 0h1m22s  (8.0%)\rEpoch: 40.0%  lr: 0.046206  loss: 0.059582  eta: 0h15m  tot: 0h1m23s  (8.0%)\rEpoch: 40.1%  lr: 0.046196  loss: 0.059503  eta: 0h15m  tot: 0h1m23s  (8.0%)\rEpoch: 40.1%  lr: 0.046196  loss: 0.059446  eta: 0h15m  tot: 0h1m23s  (8.0%)\rEpoch: 40.2%  lr: 0.046186  loss: 0.059359  eta: 0h15m  tot: 0h1m23s  (8.0%)\rEpoch: 40.3%  lr: 0.046176  loss: 0.059295  eta: 0h15m  tot: 0h1m23s  (8.1%)\rEpoch: 40.4%  lr: 0.046156  loss: 0.059217  eta: 0h15m  tot: 0h1m23s  (8.1%)\rEpoch: 40.5%  lr: 0.046146  loss: 0.059203  eta: 0h15m  tot: 0h1m24s  (8.1%)\rEpoch: 40.6%  lr: 0.046136  loss: 0.059143  eta: 0h15m  tot: 0h1m24s  (8.1%)\rEpoch: 40.7%  lr: 0.046126  loss: 0.059137  eta: 0h15m  tot: 0h1m24s  (8.1%)\rEpoch: 40.8%  lr: 0.046126  loss: 0.059060  eta: 0h15m  tot: 0h1m24s  (8.2%)\rEpoch: 40.9%  lr: 0.046116  loss: 0.058960  eta: 0h15m  tot: 0h1m24s  (8.2%)\rEpoch: 41.0%  lr: 0.046106  loss: 0.058915  eta: 0h15m  tot: 0h1m25s  (8.2%)\rEpoch: 41.0%  lr: 0.046106  loss: 0.058923  eta: 0h15m  tot: 0h1m25s  (8.2%)\rEpoch: 41.1%  lr: 0.046096  loss: 0.058865  eta: 0h15m  tot: 0h1m25s  (8.2%)\rEpoch: 41.2%  lr: 0.046076  loss: 0.058858  eta: 0h15m  tot: 0h1m25s  (8.2%)\rEpoch: 41.3%  lr: 0.046076  loss: 0.058834  eta: 0h15m  tot: 0h1m25s  (8.3%)\rEpoch: 41.4%  lr: 0.046076  loss: 0.058761  eta: 0h15m  tot: 0h1m25s  (8.3%)\rEpoch: 41.5%  lr: 0.046056  loss: 0.058690  eta: 0h15m  tot: 0h1m26s  (8.3%)\rEpoch: 41.6%  lr: 0.046036  loss: 0.058631  eta: 0h15m  tot: 0h1m26s  (8.3%)\rEpoch: 41.7%  lr: 0.046036  loss: 0.058586  eta: 0h15m  tot: 0h1m26s  (8.3%)\rEpoch: 41.8%  lr: 0.046016  loss: 0.058508  eta: 0h15m  tot: 0h1m26s  (8.4%)\rEpoch: 41.9%  lr: 0.046016  loss: 0.058487  eta: 0h15m  tot: 0h1m26s  (8.4%)\rEpoch: 42.0%  lr: 0.046016  loss: 0.058442  eta: 0h15m  tot: 0h1m27s  (8.4%)\rEpoch: 42.0%  lr: 0.045996  loss: 0.058419  eta: 0h15m  tot: 0h1m27s  (8.4%)\rEpoch: 42.1%  lr: 0.045956  loss: 0.058340  eta: 0h15m  tot: 0h1m27s  (8.4%)\rEpoch: 42.2%  lr: 0.045956  loss: 0.058326  eta: 0h15m  tot: 0h1m27s  (8.4%)\rEpoch: 42.3%  lr: 0.045956  loss: 0.058316  eta: 0h15m  tot: 0h1m27s  (8.5%)\rEpoch: 42.4%  lr: 0.045956  loss: 0.058276  eta: 0h15m  tot: 0h1m27s  (8.5%)\rEpoch: 42.5%  lr: 0.045896  loss: 0.058240  eta: 0h15m  tot: 0h1m28s  (8.5%)\rEpoch: 42.6%  lr: 0.045896  loss: 0.058190  eta: 0h15m  tot: 0h1m28s  (8.5%)\rEpoch: 42.7%  lr: 0.045886  loss: 0.058101  eta: 0h15m  tot: 0h1m28s  (8.5%)\rEpoch: 42.8%  lr: 0.045876  loss: 0.058078  eta: 0h15m  tot: 0h1m28s  (8.6%)\rEpoch: 42.9%  lr: 0.045856  loss: 0.058027  eta: 0h15m  tot: 0h1m28s  (8.6%)\rEpoch: 42.9%  lr: 0.045856  loss: 0.057946  eta: 0h15m  tot: 0h1m28s  (8.6%)\rEpoch: 43.0%  lr: 0.045856  loss: 0.057885  eta: 0h15m  tot: 0h1m29s  (8.6%)\rEpoch: 43.1%  lr: 0.045856  loss: 0.057822  eta: 0h15m  tot: 0h1m29s  (8.6%)\rEpoch: 43.2%  lr: 0.045856  loss: 0.057836  eta: 0h15m  tot: 0h1m29s  (8.6%)\rEpoch: 43.3%  lr: 0.045846  loss: 0.057813  eta: 0h15m  tot: 0h1m29s  (8.7%)\rEpoch: 43.4%  lr: 0.045836  loss: 0.057772  eta: 0h15m  tot: 0h1m29s  (8.7%)\rEpoch: 43.5%  lr: 0.045826  loss: 0.057722  eta: 0h15m  tot: 0h1m30s  (8.7%)\rEpoch: 43.6%  lr: 0.045826  loss: 0.057689  eta: 0h15m  tot: 0h1m30s  (8.7%)\rEpoch: 43.7%  lr: 0.045826  loss: 0.057646  eta: 0h15m  tot: 0h1m30s  (8.7%)\rEpoch: 43.8%  lr: 0.045806  loss: 0.057610  eta: 0h15m  tot: 0h1m30s  (8.8%)\rEpoch: 43.8%  lr: 0.045806  loss: 0.057550  eta: 0h15m  tot: 0h1m30s  (8.8%)\rEpoch: 43.9%  lr: 0.045796  loss: 0.057481  eta: 0h15m  tot: 0h1m30s  (8.8%)\rEpoch: 44.0%  lr: 0.045796  loss: 0.057434  eta: 0h15m  tot: 0h1m31s  (8.8%)\rEpoch: 44.1%  lr: 0.045786  loss: 0.057438  eta: 0h15m  tot: 0h1m31s  (8.8%)\rEpoch: 44.2%  lr: 0.045776  loss: 0.057353  eta: 0h15m  tot: 0h1m31s  (8.8%)\rEpoch: 44.3%  lr: 0.045766  loss: 0.057300  eta: 0h15m  tot: 0h1m31s  (8.9%)\rEpoch: 44.4%  lr: 0.045756  loss: 0.057225  eta: 0h15m  tot: 0h1m31s  (8.9%)\rEpoch: 44.5%  lr: 0.045756  loss: 0.057210  eta: 0h15m  tot: 0h1m32s  (8.9%)\rEpoch: 44.6%  lr: 0.045746  loss: 0.057187  eta: 0h15m  tot: 0h1m32s  (8.9%)\rEpoch: 44.7%  lr: 0.045716  loss: 0.057147  eta: 0h15m  tot: 0h1m32s  (8.9%)\rEpoch: 44.7%  lr: 0.045706  loss: 0.057110  eta: 0h15m  tot: 0h1m32s  (8.9%)\rEpoch: 44.8%  lr: 0.045696  loss: 0.057051  eta: 0h15m  tot: 0h1m32s  (9.0%)\rEpoch: 44.9%  lr: 0.045686  loss: 0.056965  eta: 0h15m  tot: 0h1m32s  (9.0%)\rEpoch: 45.0%  lr: 0.045676  loss: 0.056916  eta: 0h15m  tot: 0h1m33s  (9.0%)\rEpoch: 45.1%  lr: 0.045676  loss: 0.056857  eta: 0h15m  tot: 0h1m33s  (9.0%)\rEpoch: 45.2%  lr: 0.045656  loss: 0.056841  eta: 0h15m  tot: 0h1m33s  (9.0%)\rEpoch: 45.3%  lr: 0.045646  loss: 0.056773  eta: 0h15m  tot: 0h1m33s  (9.1%)\rEpoch: 45.4%  lr: 0.045646  loss: 0.056756  eta: 0h15m  tot: 0h1m33s  (9.1%)\rEpoch: 45.5%  lr: 0.045636  loss: 0.056696  eta: 0h15m  tot: 0h1m34s  (9.1%)\rEpoch: 45.6%  lr: 0.045626  loss: 0.056682  eta: 0h15m  tot: 0h1m34s  (9.1%)\rEpoch: 45.6%  lr: 0.045616  loss: 0.056609  eta: 0h15m  tot: 0h1m34s  (9.1%)\rEpoch: 45.7%  lr: 0.045606  loss: 0.056593  eta: 0h15m  tot: 0h1m34s  (9.1%)\rEpoch: 45.8%  lr: 0.045606  loss: 0.056537  eta: 0h15m  tot: 0h1m34s  (9.2%)\rEpoch: 45.9%  lr: 0.045606  loss: 0.056482  eta: 0h15m  tot: 0h1m34s  (9.2%)\rEpoch: 46.0%  lr: 0.045606  loss: 0.056457  eta: 0h15m  tot: 0h1m35s  (9.2%)\rEpoch: 46.1%  lr: 0.045586  loss: 0.056411  eta: 0h15m  tot: 0h1m35s  (9.2%)\rEpoch: 46.2%  lr: 0.045576  loss: 0.056347  eta: 0h15m  tot: 0h1m35s  (9.2%)\rEpoch: 46.3%  lr: 0.045546  loss: 0.056290  eta: 0h15m  tot: 0h1m35s  (9.3%)\rEpoch: 46.4%  lr: 0.045536  loss: 0.056231  eta: 0h15m  tot: 0h1m35s  (9.3%)\rEpoch: 46.5%  lr: 0.045526  loss: 0.056189  eta: 0h15m  tot: 0h1m36s  (9.3%)\rEpoch: 46.5%  lr: 0.045516  loss: 0.056151  eta: 0h15m  tot: 0h1m36s  (9.3%)\rEpoch: 46.6%  lr: 0.045506  loss: 0.056099  eta: 0h15m  tot: 0h1m36s  (9.3%)\rEpoch: 46.7%  lr: 0.045506  loss: 0.056050  eta: 0h15m  tot: 0h1m36s  (9.3%)\rEpoch: 46.8%  lr: 0.045496  loss: 0.056014  eta: 0h15m  tot: 0h1m36s  (9.4%)\rEpoch: 46.9%  lr: 0.045486  loss: 0.055960  eta: 0h15m  tot: 0h1m36s  (9.4%)\rEpoch: 47.0%  lr: 0.045476  loss: 0.055940  eta: 0h15m  tot: 0h1m37s  (9.4%)\rEpoch: 47.1%  lr: 0.045476  loss: 0.055946  eta: 0h15m  tot: 0h1m37s  (9.4%)\rEpoch: 47.2%  lr: 0.045476  loss: 0.055938  eta: 0h15m  tot: 0h1m37s  (9.4%)\rEpoch: 47.3%  lr: 0.045476  loss: 0.055873  eta: 0h15m  tot: 0h1m37s  (9.5%)\rEpoch: 47.4%  lr: 0.045446  loss: 0.055816  eta: 0h15m  tot: 0h1m37s  (9.5%)\rEpoch: 47.4%  lr: 0.045446  loss: 0.055754  eta: 0h15m  tot: 0h1m37s  (9.5%)\rEpoch: 47.5%  lr: 0.045436  loss: 0.055738  eta: 0h15m  tot: 0h1m38s  (9.5%)\rEpoch: 47.6%  lr: 0.045425  loss: 0.055662  eta: 0h15m  tot: 0h1m38s  (9.5%)\rEpoch: 47.7%  lr: 0.045415  loss: 0.055615  eta: 0h15m  tot: 0h1m38s  (9.5%)\rEpoch: 47.8%  lr: 0.045395  loss: 0.055557  eta: 0h15m  tot: 0h1m38s  (9.6%)\rEpoch: 47.9%  lr: 0.045385  loss: 0.055494  eta: 0h15m  tot: 0h1m38s  (9.6%)\rEpoch: 48.0%  lr: 0.045385  loss: 0.055443  eta: 0h15m  tot: 0h1m39s  (9.6%)\rEpoch: 48.1%  lr: 0.045365  loss: 0.055387  eta: 0h15m  tot: 0h1m39s  (9.6%)\rEpoch: 48.2%  lr: 0.045345  loss: 0.055401  eta: 0h15m  tot: 0h1m39s  (9.6%)\rEpoch: 48.3%  lr: 0.045345  loss: 0.055413  eta: 0h15m  tot: 0h1m39s  (9.7%)\rEpoch: 48.3%  lr: 0.045325  loss: 0.055361  eta: 0h15m  tot: 0h1m39s  (9.7%)\rEpoch: 48.4%  lr: 0.045305  loss: 0.055312  eta: 0h15m  tot: 0h1m39s  (9.7%)\rEpoch: 48.5%  lr: 0.045295  loss: 0.055269  eta: 0h15m  tot: 0h1m40s  (9.7%)\rEpoch: 48.6%  lr: 0.045265  loss: 0.055266  eta: 0h15m  tot: 0h1m40s  (9.7%)\rEpoch: 48.7%  lr: 0.045255  loss: 0.055250  eta: 0h15m  tot: 0h1m40s  (9.7%)\rEpoch: 48.8%  lr: 0.045245  loss: 0.055209  eta: 0h15m  tot: 0h1m40s  (9.8%)\rEpoch: 48.9%  lr: 0.045235  loss: 0.055149  eta: 0h15m  tot: 0h1m40s  (9.8%)\rEpoch: 49.0%  lr: 0.045235  loss: 0.055096  eta: 0h15m  tot: 0h1m40s  (9.8%)\rEpoch: 49.1%  lr: 0.045235  loss: 0.055048  eta: 0h15m  tot: 0h1m41s  (9.8%)\rEpoch: 49.2%  lr: 0.045225  loss: 0.054985  eta: 0h15m  tot: 0h1m41s  (9.8%)\rEpoch: 49.2%  lr: 0.045215  loss: 0.054954  eta: 0h15m  tot: 0h1m41s  (9.8%)\rEpoch: 49.3%  lr: 0.045205  loss: 0.054898  eta: 0h15m  tot: 0h1m41s  (9.9%)\rEpoch: 49.4%  lr: 0.045205  loss: 0.054858  eta: 0h15m  tot: 0h1m41s  (9.9%)\rEpoch: 49.5%  lr: 0.045205  loss: 0.054800  eta: 0h15m  tot: 0h1m42s  (9.9%)\rEpoch: 49.6%  lr: 0.045175  loss: 0.054767  eta: 0h15m  tot: 0h1m42s  (9.9%)\rEpoch: 49.7%  lr: 0.045155  loss: 0.054712  eta: 0h15m  tot: 0h1m42s  (9.9%)\rEpoch: 49.8%  lr: 0.045155  loss: 0.054702  eta: 0h15m  tot: 0h1m42s  (10.0%)\rEpoch: 49.9%  lr: 0.045155  loss: 0.054664  eta: 0h15m  tot: 0h1m42s  (10.0%)\rEpoch: 50.0%  lr: 0.045135  loss: 0.054615  eta: 0h15m  tot: 0h1m42s  (10.0%)\rEpoch: 50.1%  lr: 0.045135  loss: 0.054598  eta: 0h15m  tot: 0h1m43s  (10.0%)\rEpoch: 50.1%  lr: 0.045105  loss: 0.054559  eta: 0h15m  tot: 0h1m43s  (10.0%)\rEpoch: 50.2%  lr: 0.045105  loss: 0.054511  eta: 0h15m  tot: 0h1m43s  (10.0%)\rEpoch: 50.3%  lr: 0.045105  loss: 0.054446  eta: 0h15m  tot: 0h1m43s  (10.1%)\rEpoch: 50.4%  lr: 0.045105  loss: 0.054425  eta: 0h15m  tot: 0h1m43s  (10.1%)\rEpoch: 50.5%  lr: 0.045085  loss: 0.054439  eta: 0h15m  tot: 0h1m43s  (10.1%)\rEpoch: 50.6%  lr: 0.045075  loss: 0.054411  eta: 0h15m  tot: 0h1m44s  (10.1%)\rEpoch: 50.7%  lr: 0.045055  loss: 0.054432  eta: 0h15m  tot: 0h1m44s  (10.1%)\rEpoch: 50.8%  lr: 0.045045  loss: 0.054380  eta: 0h15m  tot: 0h1m44s  (10.2%)\rEpoch: 50.9%  lr: 0.045045  loss: 0.054370  eta: 0h15m  tot: 0h1m44s  (10.2%)\rEpoch: 51.0%  lr: 0.045045  loss: 0.054338  eta: 0h15m  tot: 0h1m44s  (10.2%)\rEpoch: 51.0%  lr: 0.045035  loss: 0.054287  eta: 0h15m  tot: 0h1m45s  (10.2%)\rEpoch: 51.1%  lr: 0.045035  loss: 0.054267  eta: 0h15m  tot: 0h1m45s  (10.2%)\rEpoch: 51.2%  lr: 0.045035  loss: 0.054225  eta: 0h15m  tot: 0h1m45s  (10.2%)\rEpoch: 51.3%  lr: 0.045015  loss: 0.054175  eta: 0h15m  tot: 0h1m45s  (10.3%)\rEpoch: 51.4%  lr: 0.045005  loss: 0.054137  eta: 0h15m  tot: 0h1m45s  (10.3%)\rEpoch: 51.5%  lr: 0.045005  loss: 0.054111  eta: 0h15m  tot: 0h1m45s  (10.3%)\rEpoch: 51.6%  lr: 0.044995  loss: 0.054050  eta: 0h15m  tot: 0h1m46s  (10.3%)\rEpoch: 51.7%  lr: 0.044995  loss: 0.054026  eta: 0h15m  tot: 0h1m46s  (10.3%)\rEpoch: 51.8%  lr: 0.044995  loss: 0.053979  eta: 0h15m  tot: 0h1m46s  (10.4%)\rEpoch: 51.9%  lr: 0.044985  loss: 0.053973  eta: 0h15m  tot: 0h1m46s  (10.4%)\rEpoch: 51.9%  lr: 0.044985  loss: 0.053927  eta: 0h15m  tot: 0h1m46s  (10.4%)\rEpoch: 52.0%  lr: 0.044975  loss: 0.053896  eta: 0h15m  tot: 0h1m46s  (10.4%)\rEpoch: 52.1%  lr: 0.044965  loss: 0.053886  eta: 0h15m  tot: 0h1m47s  (10.4%)\rEpoch: 52.2%  lr: 0.044945  loss: 0.053833  eta: 0h15m  tot: 0h1m47s  (10.4%)\rEpoch: 52.3%  lr: 0.044935  loss: 0.053818  eta: 0h15m  tot: 0h1m47s  (10.5%)\rEpoch: 52.4%  lr: 0.044925  loss: 0.053817  eta: 0h15m  tot: 0h1m47s  (10.5%)\rEpoch: 52.5%  lr: 0.044905  loss: 0.053766  eta: 0h15m  tot: 0h1m47s  (10.5%)\rEpoch: 52.6%  lr: 0.044895  loss: 0.053743  eta: 0h15m  tot: 0h1m48s  (10.5%)\rEpoch: 52.7%  lr: 0.044895  loss: 0.053740  eta: 0h15m  tot: 0h1m48s  (10.5%)\rEpoch: 52.8%  lr: 0.044895  loss: 0.053712  eta: 0h15m  tot: 0h1m48s  (10.6%)\rEpoch: 52.8%  lr: 0.044885  loss: 0.053658  eta: 0h15m  tot: 0h1m48s  (10.6%)\rEpoch: 52.9%  lr: 0.044875  loss: 0.053651  eta: 0h15m  tot: 0h1m48s  (10.6%)\rEpoch: 53.0%  lr: 0.044865  loss: 0.053657  eta: 0h15m  tot: 0h1m48s  (10.6%)\rEpoch: 53.1%  lr: 0.044865  loss: 0.053609  eta: 0h15m  tot: 0h1m49s  (10.6%)\rEpoch: 53.2%  lr: 0.044865  loss: 0.053612  eta: 0h15m  tot: 0h1m49s  (10.6%)\rEpoch: 53.3%  lr: 0.044855  loss: 0.053600  eta: 0h15m  tot: 0h1m49s  (10.7%)\rEpoch: 53.4%  lr: 0.044835  loss: 0.053582  eta: 0h15m  tot: 0h1m49s  (10.7%)\rEpoch: 53.5%  lr: 0.044815  loss: 0.053554  eta: 0h15m  tot: 0h1m49s  (10.7%)\rEpoch: 53.6%  lr: 0.044805  loss: 0.053508  eta: 0h15m  tot: 0h1m50s  (10.7%)\rEpoch: 53.7%  lr: 0.044805  loss: 0.053456  eta: 0h15m  tot: 0h1m50s  (10.7%)\rEpoch: 53.7%  lr: 0.044805  loss: 0.053401  eta: 0h15m  tot: 0h1m50s  (10.7%)\rEpoch: 53.8%  lr: 0.044805  loss: 0.053334  eta: 0h15m  tot: 0h1m50s  (10.8%)\rEpoch: 53.9%  lr: 0.044785  loss: 0.053312  eta: 0h15m  tot: 0h1m50s  (10.8%)\rEpoch: 54.0%  lr: 0.044775  loss: 0.053313  eta: 0h15m  tot: 0h1m50s  (10.8%)\rEpoch: 54.1%  lr: 0.044765  loss: 0.053297  eta: 0h15m  tot: 0h1m51s  (10.8%)\rEpoch: 54.2%  lr: 0.044755  loss: 0.053314  eta: 0h15m  tot: 0h1m51s  (10.8%)\rEpoch: 54.3%  lr: 0.044755  loss: 0.053285  eta: 0h15m  tot: 0h1m51s  (10.9%)\rEpoch: 54.4%  lr: 0.044755  loss: 0.053231  eta: 0h15m  tot: 0h1m51s  (10.9%)\rEpoch: 54.5%  lr: 0.044745  loss: 0.053215  eta: 0h15m  tot: 0h1m51s  (10.9%)\rEpoch: 54.6%  lr: 0.044735  loss: 0.053168  eta: 0h15m  tot: 0h1m51s  (10.9%)\rEpoch: 54.6%  lr: 0.044725  loss: 0.053104  eta: 0h15m  tot: 0h1m52s  (10.9%)\rEpoch: 54.7%  lr: 0.044715  loss: 0.053085  eta: 0h15m  tot: 0h1m52s  (10.9%)\rEpoch: 54.8%  lr: 0.044695  loss: 0.053059  eta: 0h15m  tot: 0h1m52s  (11.0%)\rEpoch: 54.9%  lr: 0.044695  loss: 0.053028  eta: 0h15m  tot: 0h1m52s  (11.0%)\rEpoch: 55.0%  lr: 0.044685  loss: 0.053020  eta: 0h15m  tot: 0h1m52s  (11.0%)\rEpoch: 55.1%  lr: 0.044675  loss: 0.052995  eta: 0h15m  tot: 0h1m53s  (11.0%)\rEpoch: 55.2%  lr: 0.044675  loss: 0.052976  eta: 0h15m  tot: 0h1m53s  (11.0%)\rEpoch: 55.3%  lr: 0.044675  loss: 0.052952  eta: 0h15m  tot: 0h1m53s  (11.1%)\rEpoch: 55.4%  lr: 0.044675  loss: 0.052933  eta: 0h15m  tot: 0h1m53s  (11.1%)\rEpoch: 55.5%  lr: 0.044665  loss: 0.052917  eta: 0h15m  tot: 0h1m53s  (11.1%)\rEpoch: 55.5%  lr: 0.044625  loss: 0.052906  eta: 0h15m  tot: 0h1m53s  (11.1%)\rEpoch: 55.6%  lr: 0.044615  loss: 0.052869  eta: 0h15m  tot: 0h1m54s  (11.1%)\rEpoch: 55.7%  lr: 0.044595  loss: 0.052877  eta: 0h15m  tot: 0h1m54s  (11.1%)\rEpoch: 55.8%  lr: 0.044585  loss: 0.052855  eta: 0h15m  tot: 0h1m54s  (11.2%)\rEpoch: 55.9%  lr: 0.044585  loss: 0.052818  eta: 0h15m  tot: 0h1m54s  (11.2%)\rEpoch: 56.0%  lr: 0.044575  loss: 0.052763  eta: 0h15m  tot: 0h1m54s  (11.2%)\rEpoch: 56.1%  lr: 0.044575  loss: 0.052727  eta: 0h15m  tot: 0h1m54s  (11.2%)\rEpoch: 56.2%  lr: 0.044555  loss: 0.052750  eta: 0h15m  tot: 0h1m55s  (11.2%)\rEpoch: 56.3%  lr: 0.044545  loss: 0.052723  eta: 0h15m  tot: 0h1m55s  (11.3%)\rEpoch: 56.4%  lr: 0.044545  loss: 0.052714  eta: 0h15m  tot: 0h1m55s  (11.3%)\rEpoch: 56.4%  lr: 0.044545  loss: 0.052682  eta: 0h15m  tot: 0h1m55s  (11.3%)\rEpoch: 56.5%  lr: 0.044525  loss: 0.052681  eta: 0h15m  tot: 0h1m55s  (11.3%)\rEpoch: 56.6%  lr: 0.044525  loss: 0.052631  eta: 0h15m  tot: 0h1m56s  (11.3%)\rEpoch: 56.7%  lr: 0.044525  loss: 0.052612  eta: 0h15m  tot: 0h1m56s  (11.3%)\rEpoch: 56.8%  lr: 0.044515  loss: 0.052561  eta: 0h15m  tot: 0h1m56s  (11.4%)\rEpoch: 56.9%  lr: 0.044505  loss: 0.052611  eta: 0h15m  tot: 0h1m56s  (11.4%)\rEpoch: 57.0%  lr: 0.044495  loss: 0.052591  eta: 0h15m  tot: 0h1m56s  (11.4%)\rEpoch: 57.1%  lr: 0.044485  loss: 0.052621  eta: 0h15m  tot: 0h1m57s  (11.4%)\rEpoch: 57.2%  lr: 0.044485  loss: 0.052628  eta: 0h15m  tot: 0h1m57s  (11.4%)\rEpoch: 57.3%  lr: 0.044475  loss: 0.052599  eta: 0h15m  tot: 0h1m57s  (11.5%)\rEpoch: 57.3%  lr: 0.044475  loss: 0.052560  eta: 0h15m  tot: 0h1m57s  (11.5%)\rEpoch: 57.4%  lr: 0.044475  loss: 0.052528  eta: 0h15m  tot: 0h1m57s  (11.5%)\rEpoch: 57.5%  lr: 0.044465  loss: 0.052520  eta: 0h15m  tot: 0h1m57s  (11.5%)\rEpoch: 57.6%  lr: 0.044455  loss: 0.052487  eta: 0h15m  tot: 0h1m58s  (11.5%)\rEpoch: 57.7%  lr: 0.044455  loss: 0.052431  eta: 0h15m  tot: 0h1m58s  (11.5%)\rEpoch: 57.8%  lr: 0.044425  loss: 0.052384  eta: 0h15m  tot: 0h1m58s  (11.6%)\rEpoch: 57.9%  lr: 0.044415  loss: 0.052348  eta: 0h15m  tot: 0h1m58s  (11.6%)\rEpoch: 58.0%  lr: 0.044415  loss: 0.052294  eta: 0h15m  tot: 0h1m58s  (11.6%)\rEpoch: 58.1%  lr: 0.044394  loss: 0.052245  eta: 0h15m  tot: 0h1m58s  (11.6%)\rEpoch: 58.2%  lr: 0.044384  loss: 0.052208  eta: 0h15m  tot: 0h1m59s  (11.6%)\rEpoch: 58.2%  lr: 0.044354  loss: 0.052185  eta: 0h15m  tot: 0h1m59s  (11.6%)\rEpoch: 58.3%  lr: 0.044354  loss: 0.052158  eta: 0h15m  tot: 0h1m59s  (11.7%)\rEpoch: 58.4%  lr: 0.044354  loss: 0.052152  eta: 0h15m  tot: 0h1m59s  (11.7%)\rEpoch: 58.5%  lr: 0.044354  loss: 0.052166  eta: 0h15m  tot: 0h1m59s  (11.7%)\rEpoch: 58.6%  lr: 0.044354  loss: 0.052107  eta: 0h15m  tot: 0h2m0s  (11.7%)\rEpoch: 58.7%  lr: 0.044344  loss: 0.052065  eta: 0h15m  tot: 0h2m0s  (11.7%)\rEpoch: 58.8%  lr: 0.044324  loss: 0.052019  eta: 0h15m  tot: 0h2m0s  (11.8%)\rEpoch: 58.9%  lr: 0.044314  loss: 0.051977  eta: 0h15m  tot: 0h2m0s  (11.8%)\rEpoch: 59.0%  lr: 0.044294  loss: 0.051957  eta: 0h15m  tot: 0h2m0s  (11.8%)\rEpoch: 59.1%  lr: 0.044264  loss: 0.051903  eta: 0h15m  tot: 0h2m0s  (11.8%)\rEpoch: 59.1%  lr: 0.044244  loss: 0.051871  eta: 0h15m  tot: 0h2m1s  (11.8%)\rEpoch: 59.2%  lr: 0.044234  loss: 0.051836  eta: 0h15m  tot: 0h2m1s  (11.8%)\rEpoch: 59.3%  lr: 0.044234  loss: 0.051849  eta: 0h15m  tot: 0h2m1s  (11.9%)\rEpoch: 59.4%  lr: 0.044234  loss: 0.051849  eta: 0h15m  tot: 0h2m1s  (11.9%)\rEpoch: 59.5%  lr: 0.044214  loss: 0.051836  eta: 0h15m  tot: 0h2m1s  (11.9%)\rEpoch: 59.6%  lr: 0.044204  loss: 0.051827  eta: 0h15m  tot: 0h2m2s  (11.9%)\rEpoch: 59.7%  lr: 0.044184  loss: 0.051802  eta: 0h15m  tot: 0h2m2s  (11.9%)\rEpoch: 59.8%  lr: 0.044174  loss: 0.051778  eta: 0h15m  tot: 0h2m2s  (12.0%)\rEpoch: 59.9%  lr: 0.044164  loss: 0.051762  eta: 0h15m  tot: 0h2m2s  (12.0%)\rEpoch: 60.0%  lr: 0.044164  loss: 0.051711  eta: 0h15m  tot: 0h2m2s  (12.0%)\rEpoch: 60.0%  lr: 0.044144  loss: 0.051702  eta: 0h15m  tot: 0h2m2s  (12.0%)\rEpoch: 60.1%  lr: 0.044134  loss: 0.051661  eta: 0h15m  tot: 0h2m3s  (12.0%)\rEpoch: 60.2%  lr: 0.044134  loss: 0.051627  eta: 0h15m  tot: 0h2m3s  (12.0%)\rEpoch: 60.3%  lr: 0.044124  loss: 0.051588  eta: 0h14m  tot: 0h2m3s  (12.1%)\rEpoch: 60.4%  lr: 0.044124  loss: 0.051555  eta: 0h14m  tot: 0h2m3s  (12.1%)\rEpoch: 60.5%  lr: 0.044114  loss: 0.051513  eta: 0h14m  tot: 0h2m3s  (12.1%)\rEpoch: 60.6%  lr: 0.044094  loss: 0.051483  eta: 0h14m  tot: 0h2m3s  (12.1%)\rEpoch: 60.7%  lr: 0.044074  loss: 0.051473  eta: 0h14m  tot: 0h2m4s  (12.1%)\rEpoch: 60.8%  lr: 0.044074  loss: 0.051448  eta: 0h14m  tot: 0h2m4s  (12.2%)\rEpoch: 60.9%  lr: 0.044074  loss: 0.051403  eta: 0h14m  tot: 0h2m4s  (12.2%)\rEpoch: 60.9%  lr: 0.044074  loss: 0.051376  eta: 0h14m  tot: 0h2m4s  (12.2%)\rEpoch: 61.0%  lr: 0.044064  loss: 0.051332  eta: 0h14m  tot: 0h2m4s  (12.2%)\rEpoch: 61.1%  lr: 0.044044  loss: 0.051336  eta: 0h14m  tot: 0h2m5s  (12.2%)\rEpoch: 61.2%  lr: 0.044034  loss: 0.051313  eta: 0h14m  tot: 0h2m5s  (12.2%)\rEpoch: 61.3%  lr: 0.044004  loss: 0.051289  eta: 0h14m  tot: 0h2m5s  (12.3%)\rEpoch: 61.4%  lr: 0.043994  loss: 0.051249  eta: 0h14m  tot: 0h2m5s  (12.3%)\rEpoch: 61.5%  lr: 0.043984  loss: 0.051238  eta: 0h14m  tot: 0h2m5s  (12.3%)\rEpoch: 61.6%  lr: 0.043964  loss: 0.051254  eta: 0h14m  tot: 0h2m5s  (12.3%)\rEpoch: 61.7%  lr: 0.043944  loss: 0.051230  eta: 0h14m  tot: 0h2m6s  (12.3%)\rEpoch: 61.8%  lr: 0.043934  loss: 0.051233  eta: 0h14m  tot: 0h2m6s  (12.4%)\rEpoch: 61.8%  lr: 0.043914  loss: 0.051246  eta: 0h14m  tot: 0h2m6s  (12.4%)\rEpoch: 61.9%  lr: 0.043904  loss: 0.051228  eta: 0h14m  tot: 0h2m6s  (12.4%)\rEpoch: 62.0%  lr: 0.043894  loss: 0.051181  eta: 0h14m  tot: 0h2m6s  (12.4%)\rEpoch: 62.1%  lr: 0.043894  loss: 0.051129  eta: 0h14m  tot: 0h2m6s  (12.4%)\rEpoch: 62.2%  lr: 0.043884  loss: 0.051096  eta: 0h14m  tot: 0h2m7s  (12.4%)\rEpoch: 62.3%  lr: 0.043874  loss: 0.051096  eta: 0h14m  tot: 0h2m7s  (12.5%)\rEpoch: 62.4%  lr: 0.043874  loss: 0.051055  eta: 0h14m  tot: 0h2m7s  (12.5%)\rEpoch: 62.5%  lr: 0.043854  loss: 0.051021  eta: 0h14m  tot: 0h2m7s  (12.5%)\rEpoch: 62.6%  lr: 0.043854  loss: 0.050974  eta: 0h14m  tot: 0h2m7s  (12.5%)\rEpoch: 62.7%  lr: 0.043844  loss: 0.050923  eta: 0h14m  tot: 0h2m8s  (12.5%)\rEpoch: 62.7%  lr: 0.043834  loss: 0.050925  eta: 0h14m  tot: 0h2m8s  (12.5%)\rEpoch: 62.8%  lr: 0.043824  loss: 0.050890  eta: 0h14m  tot: 0h2m8s  (12.6%)\rEpoch: 62.9%  lr: 0.043824  loss: 0.050854  eta: 0h14m  tot: 0h2m8s  (12.6%)\rEpoch: 63.0%  lr: 0.043824  loss: 0.050829  eta: 0h14m  tot: 0h2m8s  (12.6%)\rEpoch: 63.1%  lr: 0.043814  loss: 0.050775  eta: 0h14m  tot: 0h2m8s  (12.6%)\rEpoch: 63.2%  lr: 0.043784  loss: 0.050731  eta: 0h14m  tot: 0h2m9s  (12.6%)\rEpoch: 63.3%  lr: 0.043774  loss: 0.050703  eta: 0h14m  tot: 0h2m9s  (12.7%)\rEpoch: 63.4%  lr: 0.043744  loss: 0.050674  eta: 0h14m  tot: 0h2m9s  (12.7%)\rEpoch: 63.5%  lr: 0.043714  loss: 0.050660  eta: 0h14m  tot: 0h2m9s  (12.7%)\rEpoch: 63.6%  lr: 0.043694  loss: 0.050609  eta: 0h14m  tot: 0h2m9s  (12.7%)\rEpoch: 63.6%  lr: 0.043694  loss: 0.050574  eta: 0h14m  tot: 0h2m9s  (12.7%)\rEpoch: 63.7%  lr: 0.043684  loss: 0.050566  eta: 0h14m  tot: 0h2m10s  (12.7%)\rEpoch: 63.8%  lr: 0.043684  loss: 0.050563  eta: 0h14m  tot: 0h2m10s  (12.8%)\rEpoch: 63.9%  lr: 0.043684  loss: 0.050523  eta: 0h14m  tot: 0h2m10s  (12.8%)\rEpoch: 64.0%  lr: 0.043684  loss: 0.050517  eta: 0h14m  tot: 0h2m10s  (12.8%)\rEpoch: 64.1%  lr: 0.043684  loss: 0.050474  eta: 0h14m  tot: 0h2m10s  (12.8%)\rEpoch: 64.2%  lr: 0.043684  loss: 0.050462  eta: 0h14m  tot: 0h2m10s  (12.8%)\rEpoch: 64.3%  lr: 0.043664  loss: 0.050440  eta: 0h14m  tot: 0h2m11s  (12.9%)\rEpoch: 64.4%  lr: 0.043664  loss: 0.050402  eta: 0h14m  tot: 0h2m11s  (12.9%)\rEpoch: 64.5%  lr: 0.043654  loss: 0.050358  eta: 0h14m  tot: 0h2m11s  (12.9%)\rEpoch: 64.5%  lr: 0.043654  loss: 0.050360  eta: 0h14m  tot: 0h2m11s  (12.9%)\rEpoch: 64.6%  lr: 0.043624  loss: 0.050352  eta: 0h14m  tot: 0h2m11s  (12.9%)\rEpoch: 64.7%  lr: 0.043624  loss: 0.050320  eta: 0h14m  tot: 0h2m12s  (12.9%)\rEpoch: 64.8%  lr: 0.043614  loss: 0.050291  eta: 0h14m  tot: 0h2m12s  (13.0%)\rEpoch: 64.9%  lr: 0.043594  loss: 0.050284  eta: 0h14m  tot: 0h2m12s  (13.0%)\rEpoch: 65.0%  lr: 0.043594  loss: 0.050239  eta: 0h14m  tot: 0h2m12s  (13.0%)\rEpoch: 65.1%  lr: 0.043584  loss: 0.050199  eta: 0h14m  tot: 0h2m12s  (13.0%)\rEpoch: 65.2%  lr: 0.043564  loss: 0.050158  eta: 0h14m  tot: 0h2m12s  (13.0%)\rEpoch: 65.3%  lr: 0.043564  loss: 0.050136  eta: 0h14m  tot: 0h2m13s  (13.1%)\rEpoch: 65.4%  lr: 0.043554  loss: 0.050107  eta: 0h14m  tot: 0h2m13s  (13.1%)\rEpoch: 65.4%  lr: 0.043534  loss: 0.050080  eta: 0h14m  tot: 0h2m13s  (13.1%)\rEpoch: 65.5%  lr: 0.043524  loss: 0.050072  eta: 0h14m  tot: 0h2m13s  (13.1%)\rEpoch: 65.6%  lr: 0.043524  loss: 0.050039  eta: 0h14m  tot: 0h2m13s  (13.1%)\rEpoch: 65.7%  lr: 0.043514  loss: 0.050043  eta: 0h14m  tot: 0h2m13s  (13.1%)\rEpoch: 65.8%  lr: 0.043514  loss: 0.050019  eta: 0h14m  tot: 0h2m14s  (13.2%)\rEpoch: 65.9%  lr: 0.043514  loss: 0.049988  eta: 0h14m  tot: 0h2m14s  (13.2%)\rEpoch: 66.0%  lr: 0.043484  loss: 0.049971  eta: 0h14m  tot: 0h2m14s  (13.2%)\rEpoch: 66.1%  lr: 0.043484  loss: 0.049924  eta: 0h14m  tot: 0h2m14s  (13.2%)\rEpoch: 66.2%  lr: 0.043474  loss: 0.049906  eta: 0h14m  tot: 0h2m14s  (13.2%)\rEpoch: 66.3%  lr: 0.043474  loss: 0.049859  eta: 0h14m  tot: 0h2m14s  (13.3%)\rEpoch: 66.3%  lr: 0.043464  loss: 0.049826  eta: 0h14m  tot: 0h2m15s  (13.3%)\rEpoch: 66.4%  lr: 0.043454  loss: 0.049797  eta: 0h14m  tot: 0h2m15s  (13.3%)\rEpoch: 66.5%  lr: 0.043424  loss: 0.049776  eta: 0h14m  tot: 0h2m15s  (13.3%)\rEpoch: 66.6%  lr: 0.043404  loss: 0.049752  eta: 0h14m  tot: 0h2m15s  (13.3%)\rEpoch: 66.7%  lr: 0.043393  loss: 0.049710  eta: 0h14m  tot: 0h2m15s  (13.3%)\rEpoch: 66.8%  lr: 0.043383  loss: 0.049664  eta: 0h14m  tot: 0h2m16s  (13.4%)\rEpoch: 66.9%  lr: 0.043353  loss: 0.049657  eta: 0h14m  tot: 0h2m16s  (13.4%)\rEpoch: 67.0%  lr: 0.043353  loss: 0.049623  eta: 0h14m  tot: 0h2m16s  (13.4%)\rEpoch: 67.1%  lr: 0.043353  loss: 0.049608  eta: 0h14m  tot: 0h2m16s  (13.4%)\rEpoch: 67.2%  lr: 0.043353  loss: 0.049585  eta: 0h14m  tot: 0h2m16s  (13.4%)\rEpoch: 67.2%  lr: 0.043353  loss: 0.049549  eta: 0h14m  tot: 0h2m16s  (13.4%)\rEpoch: 67.3%  lr: 0.043333  loss: 0.049533  eta: 0h14m  tot: 0h2m17s  (13.5%)\rEpoch: 67.4%  lr: 0.043323  loss: 0.049501  eta: 0h14m  tot: 0h2m17s  (13.5%)\rEpoch: 67.5%  lr: 0.043313  loss: 0.049462  eta: 0h14m  tot: 0h2m17s  (13.5%)\rEpoch: 67.6%  lr: 0.043313  loss: 0.049447  eta: 0h14m  tot: 0h2m17s  (13.5%)\rEpoch: 67.7%  lr: 0.043283  loss: 0.049415  eta: 0h14m  tot: 0h2m17s  (13.5%)\rEpoch: 67.8%  lr: 0.043283  loss: 0.049391  eta: 0h14m  tot: 0h2m17s  (13.6%)\rEpoch: 67.9%  lr: 0.043283  loss: 0.049405  eta: 0h14m  tot: 0h2m18s  (13.6%)\rEpoch: 68.0%  lr: 0.043253  loss: 0.049391  eta: 0h14m  tot: 0h2m18s  (13.6%)\rEpoch: 68.1%  lr: 0.043223  loss: 0.049362  eta: 0h14m  tot: 0h2m18s  (13.6%)\rEpoch: 68.1%  lr: 0.043203  loss: 0.049319  eta: 0h14m  tot: 0h2m18s  (13.6%)\rEpoch: 68.2%  lr: 0.043203  loss: 0.049330  eta: 0h14m  tot: 0h2m18s  (13.6%)\rEpoch: 68.3%  lr: 0.043203  loss: 0.049298  eta: 0h14m  tot: 0h2m19s  (13.7%)\rEpoch: 68.4%  lr: 0.043193  loss: 0.049294  eta: 0h14m  tot: 0h2m19s  (13.7%)\rEpoch: 68.5%  lr: 0.043193  loss: 0.049254  eta: 0h14m  tot: 0h2m19s  (13.7%)\rEpoch: 68.6%  lr: 0.043193  loss: 0.049233  eta: 0h14m  tot: 0h2m19s  (13.7%)\rEpoch: 68.7%  lr: 0.043183  loss: 0.049184  eta: 0h14m  tot: 0h2m19s  (13.7%)\rEpoch: 68.8%  lr: 0.043173  loss: 0.049170  eta: 0h14m  tot: 0h2m19s  (13.8%)\rEpoch: 68.9%  lr: 0.043173  loss: 0.049134  eta: 0h14m  tot: 0h2m20s  (13.8%)\rEpoch: 69.0%  lr: 0.043163  loss: 0.049095  eta: 0h14m  tot: 0h2m20s  (13.8%)\rEpoch: 69.0%  lr: 0.043133  loss: 0.049048  eta: 0h14m  tot: 0h2m20s  (13.8%)\rEpoch: 69.1%  lr: 0.043133  loss: 0.049028  eta: 0h14m  tot: 0h2m20s  (13.8%)\rEpoch: 69.2%  lr: 0.043133  loss: 0.048994  eta: 0h14m  tot: 0h2m20s  (13.8%)\rEpoch: 69.3%  lr: 0.043113  loss: 0.048981  eta: 0h14m  tot: 0h2m20s  (13.9%)\rEpoch: 69.4%  lr: 0.043103  loss: 0.048955  eta: 0h14m  tot: 0h2m21s  (13.9%)\rEpoch: 69.5%  lr: 0.043103  loss: 0.048942  eta: 0h14m  tot: 0h2m21s  (13.9%)\rEpoch: 69.6%  lr: 0.043103  loss: 0.048916  eta: 0h14m  tot: 0h2m21s  (13.9%)\rEpoch: 69.7%  lr: 0.043103  loss: 0.048912  eta: 0h14m  tot: 0h2m21s  (13.9%)\rEpoch: 69.8%  lr: 0.043103  loss: 0.048915  eta: 0h14m  tot: 0h2m21s  (14.0%)\rEpoch: 69.9%  lr: 0.043103  loss: 0.048893  eta: 0h14m  tot: 0h2m22s  (14.0%)\rEpoch: 69.9%  lr: 0.043103  loss: 0.048885  eta: 0h14m  tot: 0h2m22s  (14.0%)\rEpoch: 70.0%  lr: 0.043103  loss: 0.048869  eta: 0h14m  tot: 0h2m22s  (14.0%)\rEpoch: 70.1%  lr: 0.043103  loss: 0.048833  eta: 0h14m  tot: 0h2m22s  (14.0%)\rEpoch: 70.2%  lr: 0.043063  loss: 0.048807  eta: 0h14m  tot: 0h2m22s  (14.0%)\rEpoch: 70.3%  lr: 0.043053  loss: 0.048792  eta: 0h14m  tot: 0h2m22s  (14.1%)\rEpoch: 70.4%  lr: 0.043023  loss: 0.048796  eta: 0h14m  tot: 0h2m23s  (14.1%)\rEpoch: 70.5%  lr: 0.043023  loss: 0.048797  eta: 0h14m  tot: 0h2m23s  (14.1%)\rEpoch: 70.6%  lr: 0.043013  loss: 0.048821  eta: 0h14m  tot: 0h2m23s  (14.1%)\rEpoch: 70.7%  lr: 0.043013  loss: 0.048784  eta: 0h14m  tot: 0h2m23s  (14.1%)\rEpoch: 70.8%  lr: 0.042993  loss: 0.048752  eta: 0h14m  tot: 0h2m23s  (14.2%)\rEpoch: 70.8%  lr: 0.042993  loss: 0.048714  eta: 0h14m  tot: 0h2m24s  (14.2%)\rEpoch: 70.9%  lr: 0.042983  loss: 0.048695  eta: 0h14m  tot: 0h2m24s  (14.2%)\rEpoch: 71.0%  lr: 0.042983  loss: 0.048659  eta: 0h14m  tot: 0h2m24s  (14.2%)\rEpoch: 71.1%  lr: 0.042983  loss: 0.048630  eta: 0h14m  tot: 0h2m24s  (14.2%)\rEpoch: 71.2%  lr: 0.042983  loss: 0.048591  eta: 0h14m  tot: 0h2m24s  (14.2%)\rEpoch: 71.3%  lr: 0.042973  loss: 0.048600  eta: 0h14m  tot: 0h2m24s  (14.3%)\rEpoch: 71.4%  lr: 0.042973  loss: 0.048561  eta: 0h14m  tot: 0h2m25s  (14.3%)\rEpoch: 71.5%  lr: 0.042953  loss: 0.048531  eta: 0h14m  tot: 0h2m25s  (14.3%)\rEpoch: 71.6%  lr: 0.042923  loss: 0.048533  eta: 0h14m  tot: 0h2m25s  (14.3%)\rEpoch: 71.7%  lr: 0.042923  loss: 0.048517  eta: 0h14m  tot: 0h2m25s  (14.3%)\rEpoch: 71.7%  lr: 0.042913  loss: 0.048486  eta: 0h14m  tot: 0h2m25s  (14.3%)\rEpoch: 71.8%  lr: 0.042913  loss: 0.048457  eta: 0h14m  tot: 0h2m25s  (14.4%)\rEpoch: 71.9%  lr: 0.042903  loss: 0.048425  eta: 0h14m  tot: 0h2m26s  (14.4%)\rEpoch: 72.0%  lr: 0.042883  loss: 0.048434  eta: 0h14m  tot: 0h2m26s  (14.4%)\rEpoch: 72.1%  lr: 0.042883  loss: 0.048393  eta: 0h14m  tot: 0h2m26s  (14.4%)\rEpoch: 72.2%  lr: 0.042883  loss: 0.048400  eta: 0h14m  tot: 0h2m26s  (14.4%)\rEpoch: 72.3%  lr: 0.042883  loss: 0.048384  eta: 0h14m  tot: 0h2m26s  (14.5%)\rEpoch: 72.4%  lr: 0.042873  loss: 0.048364  eta: 0h14m  tot: 0h2m27s  (14.5%)\rEpoch: 72.5%  lr: 0.042863  loss: 0.048339  eta: 0h14m  tot: 0h2m27s  (14.5%)\rEpoch: 72.6%  lr: 0.042863  loss: 0.048304  eta: 0h14m  tot: 0h2m27s  (14.5%)\rEpoch: 72.6%  lr: 0.042853  loss: 0.048266  eta: 0h14m  tot: 0h2m27s  (14.5%)\rEpoch: 72.7%  lr: 0.042833  loss: 0.048239  eta: 0h14m  tot: 0h2m27s  (14.5%)\rEpoch: 72.8%  lr: 0.042833  loss: 0.048202  eta: 0h14m  tot: 0h2m27s  (14.6%)\rEpoch: 72.9%  lr: 0.042833  loss: 0.048211  eta: 0h14m  tot: 0h2m28s  (14.6%)\rEpoch: 73.0%  lr: 0.042813  loss: 0.048186  eta: 0h14m  tot: 0h2m28s  (14.6%)\rEpoch: 73.1%  lr: 0.042793  loss: 0.048165  eta: 0h14m  tot: 0h2m28s  (14.6%)\rEpoch: 73.2%  lr: 0.042773  loss: 0.048157  eta: 0h14m  tot: 0h2m28s  (14.6%)\rEpoch: 73.3%  lr: 0.042773  loss: 0.048130  eta: 0h14m  tot: 0h2m28s  (14.7%)\rEpoch: 73.4%  lr: 0.042773  loss: 0.048103  eta: 0h14m  tot: 0h2m29s  (14.7%)\rEpoch: 73.5%  lr: 0.042753  loss: 0.048078  eta: 0h14m  tot: 0h2m29s  (14.7%)\rEpoch: 73.5%  lr: 0.042743  loss: 0.048050  eta: 0h14m  tot: 0h2m29s  (14.7%)\rEpoch: 73.6%  lr: 0.042743  loss: 0.048034  eta: 0h14m  tot: 0h2m29s  (14.7%)\rEpoch: 73.7%  lr: 0.042743  loss: 0.047997  eta: 0h14m  tot: 0h2m29s  (14.7%)\rEpoch: 73.8%  lr: 0.042723  loss: 0.047968  eta: 0h14m  tot: 0h2m29s  (14.8%)\rEpoch: 73.9%  lr: 0.042713  loss: 0.047963  eta: 0h14m  tot: 0h2m30s  (14.8%)\rEpoch: 74.0%  lr: 0.042703  loss: 0.047958  eta: 0h14m  tot: 0h2m30s  (14.8%)\rEpoch: 74.1%  lr: 0.042703  loss: 0.047933  eta: 0h14m  tot: 0h2m30s  (14.8%)\rEpoch: 74.2%  lr: 0.042693  loss: 0.047892  eta: 0h14m  tot: 0h2m30s  (14.8%)\rEpoch: 74.3%  lr: 0.042693  loss: 0.047863  eta: 0h14m  tot: 0h2m30s  (14.9%)\rEpoch: 74.4%  lr: 0.042683  loss: 0.047820  eta: 0h14m  tot: 0h2m30s  (14.9%)\rEpoch: 74.4%  lr: 0.042673  loss: 0.047823  eta: 0h14m  tot: 0h2m31s  (14.9%)\rEpoch: 74.5%  lr: 0.042643  loss: 0.047802  eta: 0h14m  tot: 0h2m31s  (14.9%)\rEpoch: 74.6%  lr: 0.042643  loss: 0.047764  eta: 0h14m  tot: 0h2m31s  (14.9%)\rEpoch: 74.7%  lr: 0.042633  loss: 0.047788  eta: 0h14m  tot: 0h2m31s  (14.9%)\rEpoch: 74.8%  lr: 0.042613  loss: 0.047763  eta: 0h14m  tot: 0h2m31s  (15.0%)\rEpoch: 74.9%  lr: 0.042613  loss: 0.047738  eta: 0h14m  tot: 0h2m31s  (15.0%)\rEpoch: 75.0%  lr: 0.042603  loss: 0.047719  eta: 0h14m  tot: 0h2m32s  (15.0%)\rEpoch: 75.1%  lr: 0.042603  loss: 0.047731  eta: 0h14m  tot: 0h2m32s  (15.0%)\rEpoch: 75.2%  lr: 0.042593  loss: 0.047711  eta: 0h14m  tot: 0h2m32s  (15.0%)\rEpoch: 75.3%  lr: 0.042583  loss: 0.047684  eta: 0h14m  tot: 0h2m32s  (15.1%)\rEpoch: 75.3%  lr: 0.042583  loss: 0.047664  eta: 0h14m  tot: 0h2m32s  (15.1%)\rEpoch: 75.4%  lr: 0.042573  loss: 0.047634  eta: 0h14m  tot: 0h2m33s  (15.1%)\rEpoch: 75.5%  lr: 0.042563  loss: 0.047616  eta: 0h14m  tot: 0h2m33s  (15.1%)\rEpoch: 75.6%  lr: 0.042563  loss: 0.047584  eta: 0h14m  tot: 0h2m33s  (15.1%)\rEpoch: 75.7%  lr: 0.042563  loss: 0.047558  eta: 0h14m  tot: 0h2m33s  (15.1%)\rEpoch: 75.8%  lr: 0.042563  loss: 0.047544  eta: 0h14m  tot: 0h2m33s  (15.2%)\rEpoch: 75.9%  lr: 0.042563  loss: 0.047526  eta: 0h14m  tot: 0h2m33s  (15.2%)\rEpoch: 76.0%  lr: 0.042563  loss: 0.047511  eta: 0h14m  tot: 0h2m34s  (15.2%)\rEpoch: 76.1%  lr: 0.042563  loss: 0.047514  eta: 0h14m  tot: 0h2m34s  (15.2%)\rEpoch: 76.2%  lr: 0.042563  loss: 0.047498  eta: 0h14m  tot: 0h2m34s  (15.2%)\rEpoch: 76.2%  lr: 0.042553  loss: 0.047473  eta: 0h14m  tot: 0h2m34s  (15.2%)\rEpoch: 76.3%  lr: 0.042543  loss: 0.047440  eta: 0h14m  tot: 0h2m34s  (15.3%)\rEpoch: 76.4%  lr: 0.042533  loss: 0.047431  eta: 0h14m  tot: 0h2m34s  (15.3%)\rEpoch: 76.5%  lr: 0.042533  loss: 0.047412  eta: 0h14m  tot: 0h2m35s  (15.3%)\rEpoch: 76.6%  lr: 0.042533  loss: 0.047383  eta: 0h14m  tot: 0h2m35s  (15.3%)\rEpoch: 76.7%  lr: 0.042523  loss: 0.047359  eta: 0h14m  tot: 0h2m35s  (15.3%)\rEpoch: 76.8%  lr: 0.042513  loss: 0.047326  eta: 0h14m  tot: 0h2m35s  (15.4%)\rEpoch: 76.9%  lr: 0.042493  loss: 0.047288  eta: 0h14m  tot: 0h2m35s  (15.4%)\rEpoch: 77.0%  lr: 0.042463  loss: 0.047274  eta: 0h14m  tot: 0h2m36s  (15.4%)\rEpoch: 77.1%  lr: 0.042463  loss: 0.047268  eta: 0h14m  tot: 0h2m36s  (15.4%)\rEpoch: 77.1%  lr: 0.042453  loss: 0.047256  eta: 0h14m  tot: 0h2m36s  (15.4%)\rEpoch: 77.2%  lr: 0.042453  loss: 0.047229  eta: 0h14m  tot: 0h2m36s  (15.4%)\rEpoch: 77.3%  lr: 0.042453  loss: 0.047197  eta: 0h14m  tot: 0h2m36s  (15.5%)\rEpoch: 77.4%  lr: 0.042413  loss: 0.047186  eta: 0h14m  tot: 0h2m37s  (15.5%)\rEpoch: 77.5%  lr: 0.042403  loss: 0.047147  eta: 0h14m  tot: 0h2m37s  (15.5%)\rEpoch: 77.6%  lr: 0.042393  loss: 0.047134  eta: 0h14m  tot: 0h2m37s  (15.5%)\rEpoch: 77.7%  lr: 0.042383  loss: 0.047104  eta: 0h14m  tot: 0h2m37s  (15.5%)\rEpoch: 77.8%  lr: 0.042372  loss: 0.047096  eta: 0h14m  tot: 0h2m37s  (15.6%)\rEpoch: 77.9%  lr: 0.042362  loss: 0.047077  eta: 0h14m  tot: 0h2m37s  (15.6%)\rEpoch: 78.0%  lr: 0.042352  loss: 0.047057  eta: 0h14m  tot: 0h2m38s  (15.6%)\rEpoch: 78.0%  lr: 0.042342  loss: 0.047035  eta: 0h14m  tot: 0h2m38s  (15.6%)\rEpoch: 78.1%  lr: 0.042322  loss: 0.047022  eta: 0h14m  tot: 0h2m38s  (15.6%)\rEpoch: 78.2%  lr: 0.042292  loss: 0.047008  eta: 0h14m  tot: 0h2m38s  (15.6%)\rEpoch: 78.3%  lr: 0.042272  loss: 0.046998  eta: 0h14m  tot: 0h2m38s  (15.7%)\rEpoch: 78.4%  lr: 0.042272  loss: 0.046970  eta: 0h14m  tot: 0h2m38s  (15.7%)\rEpoch: 78.5%  lr: 0.042252  loss: 0.046941  eta: 0h14m  tot: 0h2m39s  (15.7%)\rEpoch: 78.6%  lr: 0.042252  loss: 0.046919  eta: 0h14m  tot: 0h2m39s  (15.7%)\rEpoch: 78.7%  lr: 0.042222  loss: 0.046899  eta: 0h14m  tot: 0h2m39s  (15.7%)\rEpoch: 78.8%  lr: 0.042222  loss: 0.046864  eta: 0h14m  tot: 0h2m39s  (15.8%)\rEpoch: 78.9%  lr: 0.042222  loss: 0.046831  eta: 0h14m  tot: 0h2m39s  (15.8%)\rEpoch: 78.9%  lr: 0.042212  loss: 0.046812  eta: 0h14m  tot: 0h2m40s  (15.8%)\rEpoch: 79.0%  lr: 0.042212  loss: 0.046775  eta: 0h14m  tot: 0h2m40s  (15.8%)\rEpoch: 79.1%  lr: 0.042202  loss: 0.046756  eta: 0h14m  tot: 0h2m40s  (15.8%)\rEpoch: 79.2%  lr: 0.042202  loss: 0.046722  eta: 0h14m  tot: 0h2m40s  (15.8%)\rEpoch: 79.3%  lr: 0.042192  loss: 0.046696  eta: 0h14m  tot: 0h2m40s  (15.9%)\rEpoch: 79.4%  lr: 0.042192  loss: 0.046685  eta: 0h14m  tot: 0h2m40s  (15.9%)\rEpoch: 79.5%  lr: 0.042172  loss: 0.046689  eta: 0h14m  tot: 0h2m41s  (15.9%)\rEpoch: 79.6%  lr: 0.042172  loss: 0.046683  eta: 0h14m  tot: 0h2m41s  (15.9%)\rEpoch: 79.7%  lr: 0.042162  loss: 0.046664  eta: 0h14m  tot: 0h2m41s  (15.9%)\rEpoch: 79.8%  lr: 0.042152  loss: 0.046663  eta: 0h14m  tot: 0h2m41s  (16.0%)\rEpoch: 79.9%  lr: 0.042142  loss: 0.046657  eta: 0h14m  tot: 0h2m41s  (16.0%)\rEpoch: 79.9%  lr: 0.042122  loss: 0.046626  eta: 0h14m  tot: 0h2m41s  (16.0%)\rEpoch: 80.0%  lr: 0.042122  loss: 0.046611  eta: 0h14m  tot: 0h2m42s  (16.0%)\rEpoch: 80.1%  lr: 0.042122  loss: 0.046590  eta: 0h14m  tot: 0h2m42s  (16.0%)\rEpoch: 80.2%  lr: 0.042102  loss: 0.046567  eta: 0h14m  tot: 0h2m42s  (16.0%)\rEpoch: 80.3%  lr: 0.042102  loss: 0.046548  eta: 0h14m  tot: 0h2m42s  (16.1%)\rEpoch: 80.4%  lr: 0.042102  loss: 0.046522  eta: 0h14m  tot: 0h2m42s  (16.1%)\rEpoch: 80.5%  lr: 0.042102  loss: 0.046500  eta: 0h14m  tot: 0h2m43s  (16.1%)\rEpoch: 80.6%  lr: 0.042092  loss: 0.046469  eta: 0h14m  tot: 0h2m43s  (16.1%)\rEpoch: 80.7%  lr: 0.042092  loss: 0.046448  eta: 0h14m  tot: 0h2m43s  (16.1%)\rEpoch: 80.8%  lr: 0.042072  loss: 0.046426  eta: 0h14m  tot: 0h2m43s  (16.2%)\rEpoch: 80.8%  lr: 0.042062  loss: 0.046400  eta: 0h14m  tot: 0h2m43s  (16.2%)\rEpoch: 80.9%  lr: 0.042022  loss: 0.046386  eta: 0h14m  tot: 0h2m43s  (16.2%)\rEpoch: 81.0%  lr: 0.042022  loss: 0.046384  eta: 0h14m  tot: 0h2m44s  (16.2%)\rEpoch: 81.1%  lr: 0.042022  loss: 0.046368  eta: 0h14m  tot: 0h2m44s  (16.2%)\rEpoch: 81.2%  lr: 0.042022  loss: 0.046342  eta: 0h14m  tot: 0h2m44s  (16.2%)\rEpoch: 81.3%  lr: 0.042012  loss: 0.046341  eta: 0h14m  tot: 0h2m44s  (16.3%)\rEpoch: 81.4%  lr: 0.042002  loss: 0.046327  eta: 0h14m  tot: 0h2m44s  (16.3%)\rEpoch: 81.5%  lr: 0.042002  loss: 0.046297  eta: 0h14m  tot: 0h2m44s  (16.3%)\rEpoch: 81.6%  lr: 0.041972  loss: 0.046279  eta: 0h14m  tot: 0h2m45s  (16.3%)\rEpoch: 81.7%  lr: 0.041962  loss: 0.046261  eta: 0h14m  tot: 0h2m45s  (16.3%)\rEpoch: 81.7%  lr: 0.041952  loss: 0.046235  eta: 0h14m  tot: 0h2m45s  (16.3%)\rEpoch: 81.8%  lr: 0.041952  loss: 0.046215  eta: 0h14m  tot: 0h2m45s  (16.4%)\rEpoch: 81.9%  lr: 0.041942  loss: 0.046194  eta: 0h14m  tot: 0h2m45s  (16.4%)\rEpoch: 82.0%  lr: 0.041942  loss: 0.046170  eta: 0h14m  tot: 0h2m46s  (16.4%)\rEpoch: 82.1%  lr: 0.041932  loss: 0.046133  eta: 0h14m  tot: 0h2m46s  (16.4%)\rEpoch: 82.2%  lr: 0.041932  loss: 0.046122  eta: 0h14m  tot: 0h2m46s  (16.4%)\rEpoch: 82.3%  lr: 0.041922  loss: 0.046088  eta: 0h14m  tot: 0h2m46s  (16.5%)\rEpoch: 82.4%  lr: 0.041912  loss: 0.046105  eta: 0h14m  tot: 0h2m46s  (16.5%)\rEpoch: 82.5%  lr: 0.041892  loss: 0.046087  eta: 0h14m  tot: 0h2m46s  (16.5%)\rEpoch: 82.6%  lr: 0.041892  loss: 0.046088  eta: 0h14m  tot: 0h2m47s  (16.5%)\rEpoch: 82.6%  lr: 0.041892  loss: 0.046058  eta: 0h14m  tot: 0h2m47s  (16.5%)\rEpoch: 82.7%  lr: 0.041882  loss: 0.046021  eta: 0h14m  tot: 0h2m47s  (16.5%)\rEpoch: 82.8%  lr: 0.041862  loss: 0.046009  eta: 0h14m  tot: 0h2m47s  (16.6%)\rEpoch: 82.9%  lr: 0.041852  loss: 0.045980  eta: 0h14m  tot: 0h2m47s  (16.6%)\rEpoch: 83.0%  lr: 0.041852  loss: 0.045948  eta: 0h14m  tot: 0h2m47s  (16.6%)\rEpoch: 83.1%  lr: 0.041842  loss: 0.045914  eta: 0h14m  tot: 0h2m48s  (16.6%)\rEpoch: 83.2%  lr: 0.041822  loss: 0.045915  eta: 0h14m  tot: 0h2m48s  (16.6%)\rEpoch: 83.3%  lr: 0.041822  loss: 0.045902  eta: 0h14m  tot: 0h2m48s  (16.7%)\rEpoch: 83.4%  lr: 0.041812  loss: 0.045877  eta: 0h14m  tot: 0h2m48s  (16.7%)\rEpoch: 83.5%  lr: 0.041802  loss: 0.045857  eta: 0h14m  tot: 0h2m48s  (16.7%)\rEpoch: 83.5%  lr: 0.041782  loss: 0.045825  eta: 0h14m  tot: 0h2m49s  (16.7%)\rEpoch: 83.6%  lr: 0.041762  loss: 0.045810  eta: 0h14m  tot: 0h2m49s  (16.7%)\rEpoch: 83.7%  lr: 0.041742  loss: 0.045788  eta: 0h14m  tot: 0h2m49s  (16.7%)\rEpoch: 83.8%  lr: 0.041732  loss: 0.045758  eta: 0h14m  tot: 0h2m49s  (16.8%)\rEpoch: 83.9%  lr: 0.041722  loss: 0.045735  eta: 0h14m  tot: 0h2m49s  (16.8%)\rEpoch: 84.0%  lr: 0.041722  loss: 0.045725  eta: 0h14m  tot: 0h2m49s  (16.8%)\rEpoch: 84.1%  lr: 0.041702  loss: 0.045694  eta: 0h14m  tot: 0h2m50s  (16.8%)\rEpoch: 84.2%  lr: 0.041702  loss: 0.045682  eta: 0h14m  tot: 0h2m50s  (16.8%)\rEpoch: 84.3%  lr: 0.041702  loss: 0.045658  eta: 0h14m  tot: 0h2m50s  (16.9%)\rEpoch: 84.4%  lr: 0.041672  loss: 0.045623  eta: 0h14m  tot: 0h2m50s  (16.9%)\rEpoch: 84.4%  lr: 0.041652  loss: 0.045597  eta: 0h14m  tot: 0h2m50s  (16.9%)\rEpoch: 84.5%  lr: 0.041652  loss: 0.045589  eta: 0h14m  tot: 0h2m50s  (16.9%)\rEpoch: 84.6%  lr: 0.041642  loss: 0.045581  eta: 0h13m  tot: 0h2m51s  (16.9%)\rEpoch: 84.7%  lr: 0.041622  loss: 0.045550  eta: 0h13m  tot: 0h2m51s  (16.9%)\rEpoch: 84.8%  lr: 0.041592  loss: 0.045544  eta: 0h13m  tot: 0h2m51s  (17.0%)\rEpoch: 84.9%  lr: 0.041592  loss: 0.045540  eta: 0h13m  tot: 0h2m51s  (17.0%)\rEpoch: 85.0%  lr: 0.041562  loss: 0.045526  eta: 0h13m  tot: 0h2m51s  (17.0%)\rEpoch: 85.1%  lr: 0.041552  loss: 0.045495  eta: 0h13m  tot: 0h2m52s  (17.0%)\rEpoch: 85.2%  lr: 0.041542  loss: 0.045460  eta: 0h13m  tot: 0h2m52s  (17.0%)\rEpoch: 85.3%  lr: 0.041522  loss: 0.045434  eta: 0h13m  tot: 0h2m52s  (17.1%)\rEpoch: 85.3%  lr: 0.041502  loss: 0.045412  eta: 0h13m  tot: 0h2m52s  (17.1%)\rEpoch: 85.4%  lr: 0.041502  loss: 0.045385  eta: 0h13m  tot: 0h2m52s  (17.1%)\rEpoch: 85.5%  lr: 0.041482  loss: 0.045409  eta: 0h13m  tot: 0h2m52s  (17.1%)\rEpoch: 85.6%  lr: 0.041472  loss: 0.045400  eta: 0h13m  tot: 0h2m53s  (17.1%)\rEpoch: 85.7%  lr: 0.041472  loss: 0.045399  eta: 0h13m  tot: 0h2m53s  (17.1%)\rEpoch: 85.8%  lr: 0.041462  loss: 0.045367  eta: 0h13m  tot: 0h2m53s  (17.2%)\rEpoch: 85.9%  lr: 0.041462  loss: 0.045367  eta: 0h13m  tot: 0h2m53s  (17.2%)\rEpoch: 86.0%  lr: 0.041452  loss: 0.045379  eta: 0h13m  tot: 0h2m53s  (17.2%)\rEpoch: 86.1%  lr: 0.041442  loss: 0.045349  eta: 0h13m  tot: 0h2m53s  (17.2%)\rEpoch: 86.2%  lr: 0.041422  loss: 0.045324  eta: 0h13m  tot: 0h2m54s  (17.2%)\rEpoch: 86.2%  lr: 0.041412  loss: 0.045315  eta: 0h13m  tot: 0h2m54s  (17.2%)\rEpoch: 86.3%  lr: 0.041412  loss: 0.045290  eta: 0h13m  tot: 0h2m54s  (17.3%)\rEpoch: 86.4%  lr: 0.041392  loss: 0.045289  eta: 0h13m  tot: 0h2m54s  (17.3%)\rEpoch: 86.5%  lr: 0.041372  loss: 0.045263  eta: 0h13m  tot: 0h2m54s  (17.3%)\rEpoch: 86.6%  lr: 0.041351  loss: 0.045259  eta: 0h13m  tot: 0h2m55s  (17.3%)\rEpoch: 86.7%  lr: 0.041331  loss: 0.045244  eta: 0h13m  tot: 0h2m55s  (17.3%)\rEpoch: 86.8%  lr: 0.041301  loss: 0.045222  eta: 0h13m  tot: 0h2m55s  (17.4%)\rEpoch: 86.9%  lr: 0.041291  loss: 0.045195  eta: 0h13m  tot: 0h2m55s  (17.4%)\rEpoch: 87.0%  lr: 0.041251  loss: 0.045169  eta: 0h13m  tot: 0h2m55s  (17.4%)\rEpoch: 87.1%  lr: 0.041251  loss: 0.045153  eta: 0h13m  tot: 0h2m55s  (17.4%)\rEpoch: 87.1%  lr: 0.041241  loss: 0.045135  eta: 0h13m  tot: 0h2m56s  (17.4%)\rEpoch: 87.2%  lr: 0.041241  loss: 0.045125  eta: 0h13m  tot: 0h2m56s  (17.4%)\rEpoch: 87.3%  lr: 0.041231  loss: 0.045089  eta: 0h13m  tot: 0h2m56s  (17.5%)\rEpoch: 87.4%  lr: 0.041231  loss: 0.045100  eta: 0h13m  tot: 0h2m56s  (17.5%)\rEpoch: 87.5%  lr: 0.041201  loss: 0.045099  eta: 0h13m  tot: 0h2m56s  (17.5%)\rEpoch: 87.6%  lr: 0.041201  loss: 0.045075  eta: 0h13m  tot: 0h2m56s  (17.5%)\rEpoch: 87.7%  lr: 0.041191  loss: 0.045055  eta: 0h13m  tot: 0h2m57s  (17.5%)\rEpoch: 87.8%  lr: 0.041181  loss: 0.045036  eta: 0h13m  tot: 0h2m57s  (17.6%)\rEpoch: 87.9%  lr: 0.041171  loss: 0.045030  eta: 0h13m  tot: 0h2m57s  (17.6%)\rEpoch: 88.0%  lr: 0.041171  loss: 0.045003  eta: 0h13m  tot: 0h2m57s  (17.6%)\rEpoch: 88.0%  lr: 0.041131  loss: 0.044991  eta: 0h13m  tot: 0h2m57s  (17.6%)\rEpoch: 88.1%  lr: 0.041131  loss: 0.044975  eta: 0h13m  tot: 0h2m58s  (17.6%)\rEpoch: 88.2%  lr: 0.041131  loss: 0.044943  eta: 0h13m  tot: 0h2m58s  (17.6%)\rEpoch: 88.3%  lr: 0.041131  loss: 0.044923  eta: 0h13m  tot: 0h2m58s  (17.7%)\rEpoch: 88.4%  lr: 0.041131  loss: 0.044899  eta: 0h13m  tot: 0h2m58s  (17.7%)\rEpoch: 88.5%  lr: 0.041131  loss: 0.044904  eta: 0h13m  tot: 0h2m58s  (17.7%)\rEpoch: 88.6%  lr: 0.041121  loss: 0.044894  eta: 0h13m  tot: 0h2m58s  (17.7%)\rEpoch: 88.7%  lr: 0.041111  loss: 0.044879  eta: 0h13m  tot: 0h2m59s  (17.7%)\rEpoch: 88.8%  lr: 0.041111  loss: 0.044854  eta: 0h13m  tot: 0h2m59s  (17.8%)\rEpoch: 88.9%  lr: 0.041101  loss: 0.044845  eta: 0h13m  tot: 0h2m59s  (17.8%)\rEpoch: 88.9%  lr: 0.041101  loss: 0.044837  eta: 0h13m  tot: 0h2m59s  (17.8%)\rEpoch: 89.0%  lr: 0.041101  loss: 0.044824  eta: 0h13m  tot: 0h2m59s  (17.8%)\rEpoch: 89.1%  lr: 0.041091  loss: 0.044789  eta: 0h13m  tot: 0h2m59s  (17.8%)\rEpoch: 89.2%  lr: 0.041081  loss: 0.044779  eta: 0h13m  tot: 0h3m0s  (17.8%)\rEpoch: 89.3%  lr: 0.041071  loss: 0.044764  eta: 0h13m  tot: 0h3m0s  (17.9%)\rEpoch: 89.4%  lr: 0.041051  loss: 0.044762  eta: 0h13m  tot: 0h3m0s  (17.9%)\rEpoch: 89.5%  lr: 0.041031  loss: 0.044742  eta: 0h13m  tot: 0h3m0s  (17.9%)\rEpoch: 89.6%  lr: 0.041001  loss: 0.044729  eta: 0h13m  tot: 0h3m0s  (17.9%)\rEpoch: 89.7%  lr: 0.040981  loss: 0.044729  eta: 0h13m  tot: 0h3m1s  (17.9%)\rEpoch: 89.8%  lr: 0.040981  loss: 0.044712  eta: 0h13m  tot: 0h3m1s  (18.0%)\rEpoch: 89.8%  lr: 0.040951  loss: 0.044697  eta: 0h13m  tot: 0h3m1s  (18.0%)\rEpoch: 89.9%  lr: 0.040931  loss: 0.044677  eta: 0h13m  tot: 0h3m1s  (18.0%)\rEpoch: 90.0%  lr: 0.040921  loss: 0.044653  eta: 0h13m  tot: 0h3m1s  (18.0%)\rEpoch: 90.1%  lr: 0.040911  loss: 0.044664  eta: 0h13m  tot: 0h3m1s  (18.0%)\rEpoch: 90.2%  lr: 0.040911  loss: 0.044647  eta: 0h13m  tot: 0h3m2s  (18.0%)\rEpoch: 90.3%  lr: 0.040911  loss: 0.044624  eta: 0h13m  tot: 0h3m2s  (18.1%)\rEpoch: 90.4%  lr: 0.040901  loss: 0.044614  eta: 0h13m  tot: 0h3m2s  (18.1%)\rEpoch: 90.5%  lr: 0.040881  loss: 0.044594  eta: 0h13m  tot: 0h3m2s  (18.1%)\rEpoch: 90.6%  lr: 0.040881  loss: 0.044598  eta: 0h13m  tot: 0h3m2s  (18.1%)\rEpoch: 90.7%  lr: 0.040871  loss: 0.044592  eta: 0h13m  tot: 0h3m2s  (18.1%)\rEpoch: 90.7%  lr: 0.040861  loss: 0.044577  eta: 0h13m  tot: 0h3m3s  (18.1%)\rEpoch: 90.8%  lr: 0.040841  loss: 0.044574  eta: 0h13m  tot: 0h3m3s  (18.2%)\rEpoch: 90.9%  lr: 0.040821  loss: 0.044546  eta: 0h13m  tot: 0h3m3s  (18.2%)\rEpoch: 91.0%  lr: 0.040821  loss: 0.044531  eta: 0h13m  tot: 0h3m3s  (18.2%)\rEpoch: 91.1%  lr: 0.040821  loss: 0.044527  eta: 0h13m  tot: 0h3m3s  (18.2%)\rEpoch: 91.2%  lr: 0.040811  loss: 0.044511  eta: 0h13m  tot: 0h3m3s  (18.2%)\rEpoch: 91.3%  lr: 0.040811  loss: 0.044493  eta: 0h13m  tot: 0h3m4s  (18.3%)\rEpoch: 91.4%  lr: 0.040801  loss: 0.044478  eta: 0h13m  tot: 0h3m4s  (18.3%)\rEpoch: 91.5%  lr: 0.040791  loss: 0.044452  eta: 0h13m  tot: 0h3m4s  (18.3%)\rEpoch: 91.6%  lr: 0.040781  loss: 0.044451  eta: 0h13m  tot: 0h3m4s  (18.3%)\rEpoch: 91.6%  lr: 0.040771  loss: 0.044420  eta: 0h13m  tot: 0h3m4s  (18.3%)\rEpoch: 91.7%  lr: 0.040741  loss: 0.044388  eta: 0h13m  tot: 0h3m5s  (18.3%)\rEpoch: 91.8%  lr: 0.040741  loss: 0.044373  eta: 0h13m  tot: 0h3m5s  (18.4%)\rEpoch: 91.9%  lr: 0.040741  loss: 0.044368  eta: 0h13m  tot: 0h3m5s  (18.4%)\rEpoch: 92.0%  lr: 0.040711  loss: 0.044362  eta: 0h13m  tot: 0h3m5s  (18.4%)\rEpoch: 92.1%  lr: 0.040711  loss: 0.044357  eta: 0h13m  tot: 0h3m5s  (18.4%)\rEpoch: 92.2%  lr: 0.040711  loss: 0.044339  eta: 0h13m  tot: 0h3m5s  (18.4%)\rEpoch: 92.3%  lr: 0.040681  loss: 0.044316  eta: 0h13m  tot: 0h3m6s  (18.5%)\rEpoch: 92.4%  lr: 0.040671  loss: 0.044315  eta: 0h13m  tot: 0h3m6s  (18.5%)\rEpoch: 92.5%  lr: 0.040631  loss: 0.044294  eta: 0h13m  tot: 0h3m6s  (18.5%)\rEpoch: 92.5%  lr: 0.040611  loss: 0.044287  eta: 0h13m  tot: 0h3m6s  (18.5%)\rEpoch: 92.6%  lr: 0.040611  loss: 0.044280  eta: 0h13m  tot: 0h3m6s  (18.5%)\rEpoch: 92.7%  lr: 0.040601  loss: 0.044275  eta: 0h13m  tot: 0h3m6s  (18.5%)\rEpoch: 92.8%  lr: 0.040601  loss: 0.044277  eta: 0h13m  tot: 0h3m7s  (18.6%)\rEpoch: 92.9%  lr: 0.040601  loss: 0.044250  eta: 0h13m  tot: 0h3m7s  (18.6%)\rEpoch: 93.0%  lr: 0.040591  loss: 0.044220  eta: 0h13m  tot: 0h3m7s  (18.6%)\rEpoch: 93.1%  lr: 0.040591  loss: 0.044190  eta: 0h13m  tot: 0h3m7s  (18.6%)\rEpoch: 93.2%  lr: 0.040571  loss: 0.044208  eta: 0h13m  tot: 0h3m7s  (18.6%)\rEpoch: 93.3%  lr: 0.040551  loss: 0.044196  eta: 0h13m  tot: 0h3m7s  (18.7%)\rEpoch: 93.4%  lr: 0.040541  loss: 0.044167  eta: 0h13m  tot: 0h3m8s  (18.7%)\rEpoch: 93.4%  lr: 0.040531  loss: 0.044141  eta: 0h13m  tot: 0h3m8s  (18.7%)\rEpoch: 93.5%  lr: 0.040531  loss: 0.044151  eta: 0h13m  tot: 0h3m8s  (18.7%)\rEpoch: 93.6%  lr: 0.040521  loss: 0.044128  eta: 0h13m  tot: 0h3m8s  (18.7%)\rEpoch: 93.7%  lr: 0.040511  loss: 0.044123  eta: 0h13m  tot: 0h3m8s  (18.7%)\rEpoch: 93.8%  lr: 0.040491  loss: 0.044112  eta: 0h13m  tot: 0h3m9s  (18.8%)\rEpoch: 93.9%  lr: 0.040481  loss: 0.044082  eta: 0h13m  tot: 0h3m9s  (18.8%)\rEpoch: 94.0%  lr: 0.040471  loss: 0.044083  eta: 0h13m  tot: 0h3m9s  (18.8%)\rEpoch: 94.1%  lr: 0.040471  loss: 0.044067  eta: 0h13m  tot: 0h3m9s  (18.8%)\rEpoch: 94.2%  lr: 0.040471  loss: 0.044039  eta: 0h13m  tot: 0h3m9s  (18.8%)\rEpoch: 94.3%  lr: 0.040471  loss: 0.044023  eta: 0h13m  tot: 0h3m9s  (18.9%)\rEpoch: 94.3%  lr: 0.040471  loss: 0.044002  eta: 0h13m  tot: 0h3m10s  (18.9%)\rEpoch: 94.4%  lr: 0.040451  loss: 0.043974  eta: 0h13m  tot: 0h3m10s  (18.9%)\rEpoch: 94.5%  lr: 0.040451  loss: 0.043955  eta: 0h13m  tot: 0h3m10s  (18.9%)\rEpoch: 94.6%  lr: 0.040451  loss: 0.043934  eta: 0h13m  tot: 0h3m10s  (18.9%)\rEpoch: 94.7%  lr: 0.040441  loss: 0.043928  eta: 0h13m  tot: 0h3m10s  (18.9%)\rEpoch: 94.8%  lr: 0.040431  loss: 0.043915  eta: 0h13m  tot: 0h3m10s  (19.0%)\rEpoch: 94.9%  lr: 0.040431  loss: 0.043907  eta: 0h13m  tot: 0h3m11s  (19.0%)\rEpoch: 95.0%  lr: 0.040431  loss: 0.043890  eta: 0h13m  tot: 0h3m11s  (19.0%)\rEpoch: 95.1%  lr: 0.040431  loss: 0.043858  eta: 0h13m  tot: 0h3m11s  (19.0%)\rEpoch: 95.2%  lr: 0.040431  loss: 0.043850  eta: 0h13m  tot: 0h3m11s  (19.0%)\rEpoch: 95.2%  lr: 0.040411  loss: 0.043833  eta: 0h13m  tot: 0h3m11s  (19.0%)\rEpoch: 95.3%  lr: 0.040411  loss: 0.043832  eta: 0h13m  tot: 0h3m11s  (19.1%)\rEpoch: 95.4%  lr: 0.040371  loss: 0.043815  eta: 0h13m  tot: 0h3m12s  (19.1%)\rEpoch: 95.5%  lr: 0.040361  loss: 0.043810  eta: 0h13m  tot: 0h3m12s  (19.1%)\rEpoch: 95.6%  lr: 0.040361  loss: 0.043787  eta: 0h13m  tot: 0h3m12s  (19.1%)\rEpoch: 95.7%  lr: 0.040340  loss: 0.043769  eta: 0h13m  tot: 0h3m12s  (19.1%)\rEpoch: 95.8%  lr: 0.040340  loss: 0.043767  eta: 0h13m  tot: 0h3m12s  (19.2%)\rEpoch: 95.9%  lr: 0.040330  loss: 0.043751  eta: 0h13m  tot: 0h3m13s  (19.2%)\rEpoch: 96.0%  lr: 0.040320  loss: 0.043736  eta: 0h13m  tot: 0h3m13s  (19.2%)\rEpoch: 96.1%  lr: 0.040310  loss: 0.043724  eta: 0h13m  tot: 0h3m13s  (19.2%)\rEpoch: 96.1%  lr: 0.040310  loss: 0.043706  eta: 0h13m  tot: 0h3m13s  (19.2%)\rEpoch: 96.2%  lr: 0.040280  loss: 0.043686  eta: 0h13m  tot: 0h3m13s  (19.2%)\rEpoch: 96.3%  lr: 0.040270  loss: 0.043680  eta: 0h13m  tot: 0h3m13s  (19.3%)\rEpoch: 96.4%  lr: 0.040260  loss: 0.043658  eta: 0h13m  tot: 0h3m14s  (19.3%)\rEpoch: 96.5%  lr: 0.040260  loss: 0.043644  eta: 0h13m  tot: 0h3m14s  (19.3%)\rEpoch: 96.6%  lr: 0.040260  loss: 0.043640  eta: 0h13m  tot: 0h3m14s  (19.3%)\rEpoch: 96.7%  lr: 0.040240  loss: 0.043623  eta: 0h13m  tot: 0h3m14s  (19.3%)\rEpoch: 96.8%  lr: 0.040240  loss: 0.043602  eta: 0h13m  tot: 0h3m14s  (19.4%)\rEpoch: 96.9%  lr: 0.040240  loss: 0.043581  eta: 0h13m  tot: 0h3m15s  (19.4%)\rEpoch: 97.0%  lr: 0.040230  loss: 0.043567  eta: 0h13m  tot: 0h3m15s  (19.4%)\rEpoch: 97.0%  lr: 0.040220  loss: 0.043546  eta: 0h13m  tot: 0h3m15s  (19.4%)\rEpoch: 97.1%  lr: 0.040200  loss: 0.043520  eta: 0h13m  tot: 0h3m15s  (19.4%)\rEpoch: 97.2%  lr: 0.040200  loss: 0.043526  eta: 0h13m  tot: 0h3m15s  (19.4%)\rEpoch: 97.3%  lr: 0.040190  loss: 0.043501  eta: 0h13m  tot: 0h3m15s  (19.5%)\rEpoch: 97.4%  lr: 0.040170  loss: 0.043479  eta: 0h13m  tot: 0h3m16s  (19.5%)\rEpoch: 97.5%  lr: 0.040170  loss: 0.043449  eta: 0h13m  tot: 0h3m16s  (19.5%)\rEpoch: 97.6%  lr: 0.040170  loss: 0.043435  eta: 0h13m  tot: 0h3m16s  (19.5%)\rEpoch: 97.7%  lr: 0.040170  loss: 0.043428  eta: 0h13m  tot: 0h3m16s  (19.5%)\rEpoch: 97.8%  lr: 0.040140  loss: 0.043418  eta: 0h13m  tot: 0h3m16s  (19.6%)\rEpoch: 97.9%  lr: 0.040130  loss: 0.043419  eta: 0h13m  tot: 0h3m16s  (19.6%)\rEpoch: 97.9%  lr: 0.040130  loss: 0.043400  eta: 0h13m  tot: 0h3m17s  (19.6%)\rEpoch: 98.0%  lr: 0.040120  loss: 0.043394  eta: 0h13m  tot: 0h3m17s  (19.6%)\rEpoch: 98.1%  lr: 0.040120  loss: 0.043364  eta: 0h13m  tot: 0h3m17s  (19.6%)\rEpoch: 98.2%  lr: 0.040100  loss: 0.043350  eta: 0h13m  tot: 0h3m17s  (19.6%)\rEpoch: 98.3%  lr: 0.040080  loss: 0.043325  eta: 0h13m  tot: 0h3m17s  (19.7%)\rEpoch: 98.4%  lr: 0.040080  loss: 0.043305  eta: 0h13m  tot: 0h3m17s  (19.7%)\rEpoch: 98.5%  lr: 0.040080  loss: 0.043289  eta: 0h13m  tot: 0h3m18s  (19.7%)\rEpoch: 98.6%  lr: 0.040080  loss: 0.043267  eta: 0h13m  tot: 0h3m18s  (19.7%)\rEpoch: 98.7%  lr: 0.040080  loss: 0.043258  eta: 0h13m  tot: 0h3m18s  (19.7%)\rEpoch: 98.8%  lr: 0.040070  loss: 0.043248  eta: 0h13m  tot: 0h3m18s  (19.8%)\rEpoch: 98.8%  lr: 0.040060  loss: 0.043244  eta: 0h13m  tot: 0h3m18s  (19.8%)\rEpoch: 98.9%  lr: 0.040060  loss: 0.043228  eta: 0h13m  tot: 0h3m19s  (19.8%)\rEpoch: 99.0%  lr: 0.040050  loss: 0.043202  eta: 0h13m  tot: 0h3m19s  (19.8%)\rEpoch: 99.1%  lr: 0.040050  loss: 0.043184  eta: 0h13m  tot: 0h3m19s  (19.8%)\rEpoch: 99.2%  lr: 0.040050  loss: 0.043186  eta: 0h13m  tot: 0h3m19s  (19.8%)\rEpoch: 99.3%  lr: 0.040020  loss: 0.043175  eta: 0h13m  tot: 0h3m19s  (19.9%)\rEpoch: 99.4%  lr: 0.040020  loss: 0.043153  eta: 0h13m  tot: 0h3m19s  (19.9%)\rEpoch: 99.5%  lr: 0.040010  loss: 0.043143  eta: 0h13m  tot: 0h3m20s  (19.9%)\rEpoch: 99.6%  lr: 0.040000  loss: 0.043132  eta: 0h13m  tot: 0h3m20s  (19.9%)\rEpoch: 99.7%  lr: 0.040000  loss: 0.043133  eta: 0h13m  tot: 0h3m20s  (19.9%)\rEpoch: 99.7%  lr: 0.040000  loss: 0.043126  eta: 0h13m  tot: 0h3m20s  (19.9%)\rEpoch: 99.8%  lr: 0.040000  loss: 0.043106  eta: 0h13m  tot: 0h3m20s  (20.0%)\rEpoch: 99.9%  lr: 0.040000  loss: 0.043106  eta: 0h13m  tot: 0h3m20s  (20.0%)\rEpoch: 100.0%  lr: 0.040000  loss: 0.043112  eta: 0h13m  tot: 0h3m20s  (20.0%)\rEpoch: 0.1%  lr: 0.039990  loss: 0.010862  eta: 0h13m  tot: 0h3m20s  (20.0%)\rEpoch: 0.2%  lr: 0.039980  loss: 0.011104  eta: 0h11m  tot: 0h3m20s  (20.0%)\rEpoch: 0.3%  lr: 0.039970  loss: 0.012102  eta: 0h11m  tot: 0h3m21s  (20.1%)\rEpoch: 0.4%  lr: 0.039970  loss: 0.011199  eta: 0h11m  tot: 0h3m21s  (20.1%)\rEpoch: 0.4%  lr: 0.039950  loss: 0.011007  eta: 0h11m  tot: 0h3m21s  (20.1%)\rEpoch: 0.5%  lr: 0.039950  loss: 0.012258  eta: 0h11m  tot: 0h3m21s  (20.1%)\rEpoch: 0.6%  lr: 0.039950  loss: 0.012336  eta: 0h11m  tot: 0h3m21s  (20.1%)\rEpoch: 0.7%  lr: 0.039940  loss: 0.012096  eta: 0h11m  tot: 0h3m21s  (20.1%)\rEpoch: 0.8%  lr: 0.039910  loss: 0.011496  eta: 0h11m  tot: 0h3m21s  (20.2%)\rEpoch: 0.9%  lr: 0.039900  loss: 0.011180  eta: 0h11m  tot: 0h3m22s  (20.2%)\rEpoch: 1.0%  lr: 0.039880  loss: 0.012461  eta: 0h11m  tot: 0h3m22s  (20.2%)\rEpoch: 1.1%  lr: 0.039860  loss: 0.011968  eta: 0h11m  tot: 0h3m22s  (20.2%)\rEpoch: 1.2%  lr: 0.039860  loss: 0.012109  eta: 0h11m  tot: 0h3m22s  (20.2%)\rEpoch: 1.3%  lr: 0.039860  loss: 0.012337  eta: 0h11m  tot: 0h3m22s  (20.3%)\rEpoch: 1.3%  lr: 0.039860  loss: 0.013162  eta: 0h11m  tot: 0h3m22s  (20.3%)\rEpoch: 1.4%  lr: 0.039860  loss: 0.013509  eta: 0h11m  tot: 0h3m23s  (20.3%)\rEpoch: 1.5%  lr: 0.039860  loss: 0.013479  eta: 0h11m  tot: 0h3m23s  (20.3%)\rEpoch: 1.6%  lr: 0.039860  loss: 0.013584  eta: 0h11m  tot: 0h3m23s  (20.3%)\rEpoch: 1.7%  lr: 0.039850  loss: 0.013266  eta: 0h11m  tot: 0h3m23s  (20.3%)\rEpoch: 1.8%  lr: 0.039850  loss: 0.014064  eta: 0h11m  tot: 0h3m23s  (20.4%)\rEpoch: 1.9%  lr: 0.039840  loss: 0.013878  eta: 0h11m  tot: 0h3m23s  (20.4%)\rEpoch: 2.0%  lr: 0.039830  loss: 0.013767  eta: 0h11m  tot: 0h3m24s  (20.4%)\rEpoch: 2.1%  lr: 0.039830  loss: 0.013528  eta: 0h11m  tot: 0h3m24s  (20.4%)\rEpoch: 2.2%  lr: 0.039800  loss: 0.013227  eta: 0h11m  tot: 0h3m24s  (20.4%)\rEpoch: 2.2%  lr: 0.039800  loss: 0.013061  eta: 0h11m  tot: 0h3m24s  (20.4%)\rEpoch: 2.3%  lr: 0.039770  loss: 0.013196  eta: 0h11m  tot: 0h3m24s  (20.5%)\rEpoch: 2.4%  lr: 0.039760  loss: 0.013728  eta: 0h11m  tot: 0h3m24s  (20.5%)\rEpoch: 2.5%  lr: 0.039760  loss: 0.014079  eta: 0h12m  tot: 0h3m25s  (20.5%)\rEpoch: 2.6%  lr: 0.039760  loss: 0.014362  eta: 0h12m  tot: 0h3m25s  (20.5%)\rEpoch: 2.7%  lr: 0.039760  loss: 0.014100  eta: 0h12m  tot: 0h3m25s  (20.5%)\rEpoch: 2.8%  lr: 0.039760  loss: 0.014042  eta: 0h12m  tot: 0h3m25s  (20.6%)\rEpoch: 2.9%  lr: 0.039750  loss: 0.014116  eta: 0h12m  tot: 0h3m25s  (20.6%)\rEpoch: 3.0%  lr: 0.039750  loss: 0.014075  eta: 0h12m  tot: 0h3m25s  (20.6%)\rEpoch: 3.1%  lr: 0.039740  loss: 0.014159  eta: 0h12m  tot: 0h3m26s  (20.6%)\rEpoch: 3.1%  lr: 0.039740  loss: 0.013953  eta: 0h12m  tot: 0h3m26s  (20.6%)\rEpoch: 3.2%  lr: 0.039720  loss: 0.013925  eta: 0h12m  tot: 0h3m26s  (20.6%)\rEpoch: 3.3%  lr: 0.039710  loss: 0.014154  eta: 0h12m  tot: 0h3m26s  (20.7%)\rEpoch: 3.4%  lr: 0.039690  loss: 0.014090  eta: 0h12m  tot: 0h3m26s  (20.7%)\rEpoch: 3.5%  lr: 0.039670  loss: 0.014003  eta: 0h12m  tot: 0h3m26s  (20.7%)\rEpoch: 3.6%  lr: 0.039660  loss: 0.013868  eta: 0h12m  tot: 0h3m27s  (20.7%)\rEpoch: 3.7%  lr: 0.039650  loss: 0.013626  eta: 0h11m  tot: 0h3m27s  (20.7%)\rEpoch: 3.8%  lr: 0.039640  loss: 0.013602  eta: 0h11m  tot: 0h3m27s  (20.8%)\rEpoch: 3.9%  lr: 0.039640  loss: 0.013598  eta: 0h12m  tot: 0h3m27s  (20.8%)\rEpoch: 4.0%  lr: 0.039630  loss: 0.013930  eta: 0h12m  tot: 0h3m27s  (20.8%)\rEpoch: 4.1%  lr: 0.039630  loss: 0.013860  eta: 0h12m  tot: 0h3m27s  (20.8%)\rEpoch: 4.1%  lr: 0.039620  loss: 0.013829  eta: 0h12m  tot: 0h3m28s  (20.8%)\rEpoch: 4.2%  lr: 0.039620  loss: 0.013680  eta: 0h12m  tot: 0h3m28s  (20.8%)\rEpoch: 4.3%  lr: 0.039590  loss: 0.014194  eta: 0h12m  tot: 0h3m28s  (20.9%)\rEpoch: 4.4%  lr: 0.039590  loss: 0.014019  eta: 0h12m  tot: 0h3m28s  (20.9%)\rEpoch: 4.5%  lr: 0.039590  loss: 0.014001  eta: 0h12m  tot: 0h3m28s  (20.9%)\rEpoch: 4.6%  lr: 0.039580  loss: 0.013923  eta: 0h12m  tot: 0h3m28s  (20.9%)\rEpoch: 4.7%  lr: 0.039570  loss: 0.014099  eta: 0h12m  tot: 0h3m29s  (20.9%)\rEpoch: 4.8%  lr: 0.039570  loss: 0.014055  eta: 0h12m  tot: 0h3m29s  (21.0%)\rEpoch: 4.9%  lr: 0.039570  loss: 0.014046  eta: 0h12m  tot: 0h3m29s  (21.0%)\rEpoch: 5.0%  lr: 0.039560  loss: 0.014272  eta: 0h12m  tot: 0h3m29s  (21.0%)\rEpoch: 5.0%  lr: 0.039530  loss: 0.014192  eta: 0h12m  tot: 0h3m29s  (21.0%)\rEpoch: 5.1%  lr: 0.039530  loss: 0.014353  eta: 0h12m  tot: 0h3m29s  (21.0%)\rEpoch: 5.2%  lr: 0.039530  loss: 0.014418  eta: 0h12m  tot: 0h3m30s  (21.0%)\rEpoch: 5.3%  lr: 0.039520  loss: 0.014341  eta: 0h12m  tot: 0h3m30s  (21.1%)\rEpoch: 5.4%  lr: 0.039520  loss: 0.014394  eta: 0h12m  tot: 0h3m30s  (21.1%)\rEpoch: 5.5%  lr: 0.039510  loss: 0.014523  eta: 0h12m  tot: 0h3m30s  (21.1%)\rEpoch: 5.6%  lr: 0.039510  loss: 0.014507  eta: 0h12m  tot: 0h3m30s  (21.1%)\rEpoch: 5.7%  lr: 0.039500  loss: 0.014359  eta: 0h12m  tot: 0h3m30s  (21.1%)\rEpoch: 5.8%  lr: 0.039500  loss: 0.014256  eta: 0h12m  tot: 0h3m31s  (21.2%)\rEpoch: 5.9%  lr: 0.039469  loss: 0.014327  eta: 0h12m  tot: 0h3m31s  (21.2%)\rEpoch: 5.9%  lr: 0.039469  loss: 0.014345  eta: 0h12m  tot: 0h3m31s  (21.2%)\rEpoch: 6.0%  lr: 0.039459  loss: 0.014510  eta: 0h12m  tot: 0h3m31s  (21.2%)\rEpoch: 6.1%  lr: 0.039449  loss: 0.014500  eta: 0h12m  tot: 0h3m31s  (21.2%)\rEpoch: 6.2%  lr: 0.039419  loss: 0.014454  eta: 0h12m  tot: 0h3m31s  (21.2%)\rEpoch: 6.3%  lr: 0.039409  loss: 0.014391  eta: 0h12m  tot: 0h3m32s  (21.3%)\rEpoch: 6.4%  lr: 0.039399  loss: 0.014401  eta: 0h12m  tot: 0h3m32s  (21.3%)\rEpoch: 6.5%  lr: 0.039389  loss: 0.014267  eta: 0h12m  tot: 0h3m32s  (21.3%)\rEpoch: 6.6%  lr: 0.039369  loss: 0.014325  eta: 0h12m  tot: 0h3m32s  (21.3%)\rEpoch: 6.7%  lr: 0.039369  loss: 0.014349  eta: 0h12m  tot: 0h3m32s  (21.3%)\rEpoch: 6.8%  lr: 0.039359  loss: 0.014419  eta: 0h12m  tot: 0h3m32s  (21.4%)\rEpoch: 6.8%  lr: 0.039349  loss: 0.014479  eta: 0h12m  tot: 0h3m33s  (21.4%)\rEpoch: 6.9%  lr: 0.039329  loss: 0.014485  eta: 0h12m  tot: 0h3m33s  (21.4%)\rEpoch: 7.0%  lr: 0.039319  loss: 0.014449  eta: 0h12m  tot: 0h3m33s  (21.4%)\rEpoch: 7.1%  lr: 0.039319  loss: 0.014419  eta: 0h12m  tot: 0h3m33s  (21.4%)\rEpoch: 7.2%  lr: 0.039309  loss: 0.014313  eta: 0h11m  tot: 0h3m33s  (21.4%)\rEpoch: 7.3%  lr: 0.039309  loss: 0.014265  eta: 0h11m  tot: 0h3m33s  (21.5%)\rEpoch: 7.4%  lr: 0.039299  loss: 0.014327  eta: 0h12m  tot: 0h3m34s  (21.5%)\rEpoch: 7.5%  lr: 0.039299  loss: 0.014350  eta: 0h11m  tot: 0h3m34s  (21.5%)\rEpoch: 7.6%  lr: 0.039279  loss: 0.014301  eta: 0h11m  tot: 0h3m34s  (21.5%)\rEpoch: 7.7%  lr: 0.039259  loss: 0.014225  eta: 0h11m  tot: 0h3m34s  (21.5%)\rEpoch: 7.7%  lr: 0.039249  loss: 0.014177  eta: 0h11m  tot: 0h3m34s  (21.5%)\rEpoch: 7.8%  lr: 0.039229  loss: 0.014144  eta: 0h11m  tot: 0h3m34s  (21.6%)\rEpoch: 7.9%  lr: 0.039209  loss: 0.014157  eta: 0h11m  tot: 0h3m35s  (21.6%)\rEpoch: 8.0%  lr: 0.039209  loss: 0.014248  eta: 0h11m  tot: 0h3m35s  (21.6%)\rEpoch: 8.1%  lr: 0.039189  loss: 0.014209  eta: 0h11m  tot: 0h3m35s  (21.6%)\rEpoch: 8.2%  lr: 0.039189  loss: 0.014205  eta: 0h11m  tot: 0h3m35s  (21.6%)\rEpoch: 8.3%  lr: 0.039189  loss: 0.014268  eta: 0h11m  tot: 0h3m35s  (21.7%)\rEpoch: 8.4%  lr: 0.039169  loss: 0.014332  eta: 0h11m  tot: 0h3m35s  (21.7%)\rEpoch: 8.5%  lr: 0.039159  loss: 0.014348  eta: 0h11m  tot: 0h3m36s  (21.7%)\rEpoch: 8.6%  lr: 0.039149  loss: 0.014294  eta: 0h11m  tot: 0h3m36s  (21.7%)\rEpoch: 8.6%  lr: 0.039129  loss: 0.014495  eta: 0h11m  tot: 0h3m36s  (21.7%)\rEpoch: 8.7%  lr: 0.039109  loss: 0.014532  eta: 0h11m  tot: 0h3m36s  (21.7%)\rEpoch: 8.8%  lr: 0.039109  loss: 0.014544  eta: 0h11m  tot: 0h3m36s  (21.8%)\rEpoch: 8.9%  lr: 0.039089  loss: 0.014550  eta: 0h11m  tot: 0h3m36s  (21.8%)\rEpoch: 9.0%  lr: 0.039079  loss: 0.014529  eta: 0h11m  tot: 0h3m37s  (21.8%)\rEpoch: 9.1%  lr: 0.039069  loss: 0.014550  eta: 0h11m  tot: 0h3m37s  (21.8%)\rEpoch: 9.2%  lr: 0.039069  loss: 0.014619  eta: 0h11m  tot: 0h3m37s  (21.8%)\rEpoch: 9.3%  lr: 0.039059  loss: 0.014522  eta: 0h11m  tot: 0h3m37s  (21.9%)\rEpoch: 9.4%  lr: 0.039049  loss: 0.014446  eta: 0h11m  tot: 0h3m37s  (21.9%)\rEpoch: 9.5%  lr: 0.039039  loss: 0.014446  eta: 0h11m  tot: 0h3m37s  (21.9%)\rEpoch: 9.5%  lr: 0.039029  loss: 0.014402  eta: 0h11m  tot: 0h3m38s  (21.9%)\rEpoch: 9.6%  lr: 0.039009  loss: 0.014380  eta: 0h11m  tot: 0h3m38s  (21.9%)\rEpoch: 9.7%  lr: 0.038999  loss: 0.014325  eta: 0h11m  tot: 0h3m38s  (21.9%)\rEpoch: 9.8%  lr: 0.038989  loss: 0.014434  eta: 0h11m  tot: 0h3m38s  (22.0%)\rEpoch: 9.9%  lr: 0.038969  loss: 0.014415  eta: 0h11m  tot: 0h3m38s  (22.0%)\rEpoch: 10.0%  lr: 0.038969  loss: 0.014467  eta: 0h11m  tot: 0h3m38s  (22.0%)\rEpoch: 10.1%  lr: 0.038959  loss: 0.014451  eta: 0h11m  tot: 0h3m39s  (22.0%)\rEpoch: 10.2%  lr: 0.038959  loss: 0.014474  eta: 0h11m  tot: 0h3m39s  (22.0%)\rEpoch: 10.3%  lr: 0.038959  loss: 0.014526  eta: 0h11m  tot: 0h3m39s  (22.1%)\rEpoch: 10.4%  lr: 0.038959  loss: 0.014488  eta: 0h11m  tot: 0h3m39s  (22.1%)\rEpoch: 10.4%  lr: 0.038959  loss: 0.014503  eta: 0h11m  tot: 0h3m39s  (22.1%)\rEpoch: 10.5%  lr: 0.038949  loss: 0.014523  eta: 0h11m  tot: 0h3m39s  (22.1%)\rEpoch: 10.6%  lr: 0.038949  loss: 0.014503  eta: 0h11m  tot: 0h3m40s  (22.1%)\rEpoch: 10.7%  lr: 0.038929  loss: 0.014484  eta: 0h11m  tot: 0h3m40s  (22.1%)\rEpoch: 10.8%  lr: 0.038929  loss: 0.014545  eta: 0h11m  tot: 0h3m40s  (22.2%)\rEpoch: 10.9%  lr: 0.038919  loss: 0.014609  eta: 0h11m  tot: 0h3m40s  (22.2%)\rEpoch: 11.0%  lr: 0.038919  loss: 0.014551  eta: 0h11m  tot: 0h3m40s  (22.2%)\rEpoch: 11.1%  lr: 0.038909  loss: 0.014533  eta: 0h11m  tot: 0h3m40s  (22.2%)\rEpoch: 11.2%  lr: 0.038909  loss: 0.014551  eta: 0h11m  tot: 0h3m41s  (22.2%)\rEpoch: 11.3%  lr: 0.038899  loss: 0.014511  eta: 0h11m  tot: 0h3m41s  (22.3%)\rEpoch: 11.3%  lr: 0.038899  loss: 0.014485  eta: 0h11m  tot: 0h3m41s  (22.3%)\rEpoch: 11.4%  lr: 0.038889  loss: 0.014420  eta: 0h11m  tot: 0h3m41s  (22.3%)\rEpoch: 11.5%  lr: 0.038889  loss: 0.014409  eta: 0h11m  tot: 0h3m41s  (22.3%)\rEpoch: 11.6%  lr: 0.038859  loss: 0.014441  eta: 0h11m  tot: 0h3m41s  (22.3%)\rEpoch: 11.7%  lr: 0.038829  loss: 0.014431  eta: 0h11m  tot: 0h3m42s  (22.3%)\rEpoch: 11.8%  lr: 0.038799  loss: 0.014441  eta: 0h11m  tot: 0h3m42s  (22.4%)\rEpoch: 11.9%  lr: 0.038789  loss: 0.014390  eta: 0h11m  tot: 0h3m42s  (22.4%)\rEpoch: 12.0%  lr: 0.038779  loss: 0.014438  eta: 0h11m  tot: 0h3m42s  (22.4%)\rEpoch: 12.1%  lr: 0.038779  loss: 0.014441  eta: 0h11m  tot: 0h3m42s  (22.4%)\rEpoch: 12.2%  lr: 0.038779  loss: 0.014423  eta: 0h11m  tot: 0h3m42s  (22.4%)\rEpoch: 12.2%  lr: 0.038769  loss: 0.014444  eta: 0h11m  tot: 0h3m43s  (22.4%)\rEpoch: 12.3%  lr: 0.038759  loss: 0.014404  eta: 0h11m  tot: 0h3m43s  (22.5%)\rEpoch: 12.4%  lr: 0.038749  loss: 0.014369  eta: 0h11m  tot: 0h3m43s  (22.5%)\rEpoch: 12.5%  lr: 0.038739  loss: 0.014389  eta: 0h11m  tot: 0h3m43s  (22.5%)\rEpoch: 12.6%  lr: 0.038719  loss: 0.014355  eta: 0h11m  tot: 0h3m43s  (22.5%)\rEpoch: 12.7%  lr: 0.038709  loss: 0.014331  eta: 0h11m  tot: 0h3m43s  (22.5%)\rEpoch: 12.8%  lr: 0.038689  loss: 0.014246  eta: 0h11m  tot: 0h3m43s  (22.6%)\rEpoch: 12.9%  lr: 0.038669  loss: 0.014270  eta: 0h11m  tot: 0h3m44s  (22.6%)\rEpoch: 13.0%  lr: 0.038639  loss: 0.014209  eta: 0h11m  tot: 0h3m44s  (22.6%)\rEpoch: 13.1%  lr: 0.038629  loss: 0.014187  eta: 0h11m  tot: 0h3m44s  (22.6%)\rEpoch: 13.1%  lr: 0.038609  loss: 0.014175  eta: 0h11m  tot: 0h3m44s  (22.6%)\rEpoch: 13.2%  lr: 0.038609  loss: 0.014104  eta: 0h11m  tot: 0h3m44s  (22.6%)\rEpoch: 13.3%  lr: 0.038609  loss: 0.014063  eta: 0h11m  tot: 0h3m44s  (22.7%)\rEpoch: 13.4%  lr: 0.038599  loss: 0.014036  eta: 0h11m  tot: 0h3m45s  (22.7%)\rEpoch: 13.5%  lr: 0.038589  loss: 0.014082  eta: 0h11m  tot: 0h3m45s  (22.7%)\rEpoch: 13.6%  lr: 0.038579  loss: 0.014167  eta: 0h11m  tot: 0h3m45s  (22.7%)\rEpoch: 13.7%  lr: 0.038569  loss: 0.014186  eta: 0h11m  tot: 0h3m45s  (22.7%)\rEpoch: 13.8%  lr: 0.038569  loss: 0.014174  eta: 0h11m  tot: 0h3m45s  (22.8%)\rEpoch: 13.9%  lr: 0.038559  loss: 0.014157  eta: 0h11m  tot: 0h3m45s  (22.8%)\rEpoch: 14.0%  lr: 0.038549  loss: 0.014131  eta: 0h11m  tot: 0h3m46s  (22.8%)\rEpoch: 14.0%  lr: 0.038549  loss: 0.014083  eta: 0h11m  tot: 0h3m46s  (22.8%)\rEpoch: 14.1%  lr: 0.038549  loss: 0.014155  eta: 0h11m  tot: 0h3m46s  (22.8%)\rEpoch: 14.2%  lr: 0.038529  loss: 0.014165  eta: 0h11m  tot: 0h3m46s  (22.8%)\rEpoch: 14.3%  lr: 0.038529  loss: 0.014233  eta: 0h11m  tot: 0h3m46s  (22.9%)\rEpoch: 14.4%  lr: 0.038519  loss: 0.014197  eta: 0h11m  tot: 0h3m46s  (22.9%)\rEpoch: 14.5%  lr: 0.038499  loss: 0.014179  eta: 0h11m  tot: 0h3m47s  (22.9%)\rEpoch: 14.6%  lr: 0.038489  loss: 0.014153  eta: 0h11m  tot: 0h3m47s  (22.9%)\rEpoch: 14.7%  lr: 0.038479  loss: 0.014131  eta: 0h11m  tot: 0h3m47s  (22.9%)\rEpoch: 14.8%  lr: 0.038468  loss: 0.014167  eta: 0h11m  tot: 0h3m47s  (23.0%)\rEpoch: 14.9%  lr: 0.038468  loss: 0.014178  eta: 0h11m  tot: 0h3m47s  (23.0%)\rEpoch: 14.9%  lr: 0.038468  loss: 0.014144  eta: 0h11m  tot: 0h3m47s  (23.0%)\rEpoch: 15.0%  lr: 0.038468  loss: 0.014198  eta: 0h11m  tot: 0h3m48s  (23.0%)\rEpoch: 15.1%  lr: 0.038468  loss: 0.014173  eta: 0h11m  tot: 0h3m48s  (23.0%)\rEpoch: 15.2%  lr: 0.038468  loss: 0.014183  eta: 0h11m  tot: 0h3m48s  (23.0%)\rEpoch: 15.3%  lr: 0.038448  loss: 0.014138  eta: 0h11m  tot: 0h3m48s  (23.1%)\rEpoch: 15.4%  lr: 0.038428  loss: 0.014164  eta: 0h11m  tot: 0h3m48s  (23.1%)\rEpoch: 15.5%  lr: 0.038428  loss: 0.014193  eta: 0h11m  tot: 0h3m48s  (23.1%)\rEpoch: 15.6%  lr: 0.038428  loss: 0.014173  eta: 0h11m  tot: 0h3m49s  (23.1%)\rEpoch: 15.7%  lr: 0.038418  loss: 0.014146  eta: 0h11m  tot: 0h3m49s  (23.1%)\rEpoch: 15.8%  lr: 0.038398  loss: 0.014109  eta: 0h11m  tot: 0h3m49s  (23.2%)\rEpoch: 15.8%  lr: 0.038398  loss: 0.014075  eta: 0h11m  tot: 0h3m49s  (23.2%)\rEpoch: 15.9%  lr: 0.038398  loss: 0.014048  eta: 0h11m  tot: 0h3m49s  (23.2%)\rEpoch: 16.0%  lr: 0.038388  loss: 0.014041  eta: 0h11m  tot: 0h3m49s  (23.2%)\rEpoch: 16.1%  lr: 0.038358  loss: 0.014040  eta: 0h11m  tot: 0h3m49s  (23.2%)\rEpoch: 16.2%  lr: 0.038358  loss: 0.014038  eta: 0h11m  tot: 0h3m50s  (23.2%)\rEpoch: 16.3%  lr: 0.038358  loss: 0.014066  eta: 0h11m  tot: 0h3m50s  (23.3%)\rEpoch: 16.4%  lr: 0.038358  loss: 0.014037  eta: 0h11m  tot: 0h3m50s  (23.3%)\rEpoch: 16.5%  lr: 0.038348  loss: 0.014033  eta: 0h11m  tot: 0h3m50s  (23.3%)\rEpoch: 16.6%  lr: 0.038338  loss: 0.014052  eta: 0h11m  tot: 0h3m50s  (23.3%)\rEpoch: 16.7%  lr: 0.038328  loss: 0.014007  eta: 0h11m  tot: 0h3m51s  (23.3%)\rEpoch: 16.7%  lr: 0.038298  loss: 0.013968  eta: 0h11m  tot: 0h3m51s  (23.3%)\rEpoch: 16.8%  lr: 0.038288  loss: 0.013924  eta: 0h11m  tot: 0h3m51s  (23.4%)\rEpoch: 16.9%  lr: 0.038288  loss: 0.013937  eta: 0h11m  tot: 0h3m51s  (23.4%)\rEpoch: 17.0%  lr: 0.038288  loss: 0.013928  eta: 0h11m  tot: 0h3m51s  (23.4%)\rEpoch: 17.1%  lr: 0.038288  loss: 0.013886  eta: 0h11m  tot: 0h3m51s  (23.4%)\rEpoch: 17.2%  lr: 0.038288  loss: 0.013847  eta: 0h11m  tot: 0h3m51s  (23.4%)\rEpoch: 17.3%  lr: 0.038288  loss: 0.013816  eta: 0h11m  tot: 0h3m52s  (23.5%)\rEpoch: 17.4%  lr: 0.038288  loss: 0.013802  eta: 0h11m  tot: 0h3m52s  (23.5%)\rEpoch: 17.5%  lr: 0.038278  loss: 0.013776  eta: 0h11m  tot: 0h3m52s  (23.5%)\rEpoch: 17.6%  lr: 0.038278  loss: 0.013746  eta: 0h11m  tot: 0h3m52s  (23.5%)\rEpoch: 17.6%  lr: 0.038258  loss: 0.013732  eta: 0h11m  tot: 0h3m52s  (23.5%)\rEpoch: 17.7%  lr: 0.038228  loss: 0.013769  eta: 0h11m  tot: 0h3m52s  (23.5%)\rEpoch: 17.8%  lr: 0.038218  loss: 0.013754  eta: 0h11m  tot: 0h3m53s  (23.6%)\rEpoch: 17.9%  lr: 0.038208  loss: 0.013739  eta: 0h11m  tot: 0h3m53s  (23.6%)\rEpoch: 18.0%  lr: 0.038188  loss: 0.013769  eta: 0h11m  tot: 0h3m53s  (23.6%)\rEpoch: 18.1%  lr: 0.038188  loss: 0.013754  eta: 0h11m  tot: 0h3m53s  (23.6%)\rEpoch: 18.2%  lr: 0.038178  loss: 0.013716  eta: 0h11m  tot: 0h3m53s  (23.6%)\rEpoch: 18.3%  lr: 0.038178  loss: 0.013691  eta: 0h11m  tot: 0h3m53s  (23.7%)\rEpoch: 18.4%  lr: 0.038178  loss: 0.013645  eta: 0h11m  tot: 0h3m54s  (23.7%)\rEpoch: 18.5%  lr: 0.038168  loss: 0.013700  eta: 0h11m  tot: 0h3m54s  (23.7%)\rEpoch: 18.5%  lr: 0.038158  loss: 0.013711  eta: 0h11m  tot: 0h3m54s  (23.7%)\rEpoch: 18.6%  lr: 0.038148  loss: 0.013698  eta: 0h11m  tot: 0h3m54s  (23.7%)\rEpoch: 18.7%  lr: 0.038148  loss: 0.013725  eta: 0h11m  tot: 0h3m54s  (23.7%)\rEpoch: 18.8%  lr: 0.038138  loss: 0.013781  eta: 0h11m  tot: 0h3m54s  (23.8%)\rEpoch: 18.9%  lr: 0.038138  loss: 0.013797  eta: 0h11m  tot: 0h3m55s  (23.8%)\rEpoch: 19.0%  lr: 0.038138  loss: 0.013766  eta: 0h11m  tot: 0h3m55s  (23.8%)\rEpoch: 19.1%  lr: 0.038138  loss: 0.013749  eta: 0h11m  tot: 0h3m55s  (23.8%)\rEpoch: 19.2%  lr: 0.038128  loss: 0.013743  eta: 0h11m  tot: 0h3m55s  (23.8%)\rEpoch: 19.3%  lr: 0.038128  loss: 0.013757  eta: 0h11m  tot: 0h3m55s  (23.9%)\rEpoch: 19.4%  lr: 0.038118  loss: 0.013735  eta: 0h11m  tot: 0h3m55s  (23.9%)\rEpoch: 19.4%  lr: 0.038108  loss: 0.013752  eta: 0h11m  tot: 0h3m55s  (23.9%)\rEpoch: 19.5%  lr: 0.038108  loss: 0.013763  eta: 0h11m  tot: 0h3m56s  (23.9%)\rEpoch: 19.6%  lr: 0.038098  loss: 0.013750  eta: 0h11m  tot: 0h3m56s  (23.9%)\rEpoch: 19.7%  lr: 0.038098  loss: 0.013816  eta: 0h11m  tot: 0h3m56s  (23.9%)\rEpoch: 19.8%  lr: 0.038098  loss: 0.013836  eta: 0h11m  tot: 0h3m56s  (24.0%)\rEpoch: 19.9%  lr: 0.038098  loss: 0.013837  eta: 0h11m  tot: 0h3m56s  (24.0%)\rEpoch: 20.0%  lr: 0.038068  loss: 0.013787  eta: 0h11m  tot: 0h3m56s  (24.0%)\rEpoch: 20.1%  lr: 0.038038  loss: 0.013838  eta: 0h11m  tot: 0h3m57s  (24.0%)\rEpoch: 20.2%  lr: 0.038018  loss: 0.013866  eta: 0h11m  tot: 0h3m57s  (24.0%)\rEpoch: 20.3%  lr: 0.038018  loss: 0.013842  eta: 0h11m  tot: 0h3m57s  (24.1%)\rEpoch: 20.3%  lr: 0.037988  loss: 0.013873  eta: 0h11m  tot: 0h3m57s  (24.1%)\rEpoch: 20.4%  lr: 0.037988  loss: 0.013851  eta: 0h11m  tot: 0h3m57s  (24.1%)\rEpoch: 20.5%  lr: 0.037988  loss: 0.013879  eta: 0h11m  tot: 0h3m57s  (24.1%)\rEpoch: 20.6%  lr: 0.037958  loss: 0.013873  eta: 0h11m  tot: 0h3m58s  (24.1%)\rEpoch: 20.7%  lr: 0.037938  loss: 0.013864  eta: 0h11m  tot: 0h3m58s  (24.1%)\rEpoch: 20.8%  lr: 0.037918  loss: 0.013861  eta: 0h11m  tot: 0h3m58s  (24.2%)\rEpoch: 20.9%  lr: 0.037918  loss: 0.013845  eta: 0h11m  tot: 0h3m58s  (24.2%)\rEpoch: 21.0%  lr: 0.037918  loss: 0.013894  eta: 0h11m  tot: 0h3m58s  (24.2%)\rEpoch: 21.1%  lr: 0.037908  loss: 0.013898  eta: 0h11m  tot: 0h3m58s  (24.2%)\rEpoch: 21.2%  lr: 0.037898  loss: 0.013933  eta: 0h11m  tot: 0h3m59s  (24.2%)\rEpoch: 21.2%  lr: 0.037888  loss: 0.013929  eta: 0h11m  tot: 0h3m59s  (24.2%)\rEpoch: 21.3%  lr: 0.037888  loss: 0.013920  eta: 0h11m  tot: 0h3m59s  (24.3%)\rEpoch: 21.4%  lr: 0.037868  loss: 0.013919  eta: 0h11m  tot: 0h3m59s  (24.3%)\rEpoch: 21.5%  lr: 0.037868  loss: 0.013911  eta: 0h11m  tot: 0h3m59s  (24.3%)\rEpoch: 21.6%  lr: 0.037868  loss: 0.013889  eta: 0h11m  tot: 0h3m59s  (24.3%)\rEpoch: 21.7%  lr: 0.037868  loss: 0.013892  eta: 0h11m  tot: 0h4m0s  (24.3%)\rEpoch: 21.8%  lr: 0.037868  loss: 0.013922  eta: 0h11m  tot: 0h4m0s  (24.4%)\rEpoch: 21.9%  lr: 0.037868  loss: 0.013945  eta: 0h11m  tot: 0h4m0s  (24.4%)\rEpoch: 22.0%  lr: 0.037858  loss: 0.013944  eta: 0h11m  tot: 0h4m0s  (24.4%)\rEpoch: 22.1%  lr: 0.037838  loss: 0.013917  eta: 0h11m  tot: 0h4m0s  (24.4%)\rEpoch: 22.1%  lr: 0.037838  loss: 0.013974  eta: 0h11m  tot: 0h4m0s  (24.4%)\rEpoch: 22.2%  lr: 0.037838  loss: 0.013969  eta: 0h11m  tot: 0h4m1s  (24.4%)\rEpoch: 22.3%  lr: 0.037838  loss: 0.013934  eta: 0h11m  tot: 0h4m1s  (24.5%)\rEpoch: 22.4%  lr: 0.037818  loss: 0.013939  eta: 0h11m  tot: 0h4m1s  (24.5%)\rEpoch: 22.5%  lr: 0.037818  loss: 0.013931  eta: 0h11m  tot: 0h4m1s  (24.5%)\rEpoch: 22.6%  lr: 0.037818  loss: 0.013919  eta: 0h11m  tot: 0h4m1s  (24.5%)\rEpoch: 22.7%  lr: 0.037818  loss: 0.013963  eta: 0h11m  tot: 0h4m1s  (24.5%)\rEpoch: 22.8%  lr: 0.037808  loss: 0.013959  eta: 0h11m  tot: 0h4m2s  (24.6%)\rEpoch: 22.9%  lr: 0.037798  loss: 0.013941  eta: 0h11m  tot: 0h4m2s  (24.6%)\rEpoch: 23.0%  lr: 0.037788  loss: 0.013902  eta: 0h11m  tot: 0h4m2s  (24.6%)\rEpoch: 23.0%  lr: 0.037778  loss: 0.013935  eta: 0h11m  tot: 0h4m2s  (24.6%)\rEpoch: 23.1%  lr: 0.037778  loss: 0.013949  eta: 0h11m  tot: 0h4m2s  (24.6%)\rEpoch: 23.2%  lr: 0.037758  loss: 0.013942  eta: 0h11m  tot: 0h4m2s  (24.6%)\rEpoch: 23.3%  lr: 0.037758  loss: 0.013934  eta: 0h11m  tot: 0h4m3s  (24.7%)\rEpoch: 23.4%  lr: 0.037748  loss: 0.013917  eta: 0h11m  tot: 0h4m3s  (24.7%)\rEpoch: 23.5%  lr: 0.037748  loss: 0.013907  eta: 0h11m  tot: 0h4m3s  (24.7%)\rEpoch: 23.6%  lr: 0.037738  loss: 0.013968  eta: 0h11m  tot: 0h4m3s  (24.7%)\rEpoch: 23.7%  lr: 0.037738  loss: 0.014009  eta: 0h11m  tot: 0h4m3s  (24.7%)\rEpoch: 23.8%  lr: 0.037738  loss: 0.013985  eta: 0h11m  tot: 0h4m3s  (24.8%)\rEpoch: 23.9%  lr: 0.037718  loss: 0.013968  eta: 0h11m  tot: 0h4m4s  (24.8%)\rEpoch: 23.9%  lr: 0.037718  loss: 0.013974  eta: 0h11m  tot: 0h4m4s  (24.8%)\rEpoch: 24.0%  lr: 0.037708  loss: 0.013950  eta: 0h11m  tot: 0h4m4s  (24.8%)\rEpoch: 24.1%  lr: 0.037698  loss: 0.013973  eta: 0h11m  tot: 0h4m4s  (24.8%)\rEpoch: 24.2%  lr: 0.037688  loss: 0.014012  eta: 0h11m  tot: 0h4m4s  (24.8%)\rEpoch: 24.3%  lr: 0.037678  loss: 0.014001  eta: 0h11m  tot: 0h4m4s  (24.9%)\rEpoch: 24.4%  lr: 0.037678  loss: 0.013967  eta: 0h11m  tot: 0h4m5s  (24.9%)\rEpoch: 24.5%  lr: 0.037678  loss: 0.013978  eta: 0h11m  tot: 0h4m5s  (24.9%)\rEpoch: 24.6%  lr: 0.037668  loss: 0.013997  eta: 0h11m  tot: 0h4m5s  (24.9%)\rEpoch: 24.7%  lr: 0.037658  loss: 0.013998  eta: 0h11m  tot: 0h4m5s  (24.9%)\rEpoch: 24.8%  lr: 0.037648  loss: 0.013985  eta: 0h11m  tot: 0h4m5s  (25.0%)\rEpoch: 24.8%  lr: 0.037648  loss: 0.013983  eta: 0h11m  tot: 0h4m5s  (25.0%)\rEpoch: 24.9%  lr: 0.037638  loss: 0.013972  eta: 0h11m  tot: 0h4m6s  (25.0%)\rEpoch: 25.0%  lr: 0.037628  loss: 0.013979  eta: 0h11m  tot: 0h4m6s  (25.0%)\rEpoch: 25.1%  lr: 0.037628  loss: 0.013970  eta: 0h11m  tot: 0h4m6s  (25.0%)\rEpoch: 25.2%  lr: 0.037628  loss: 0.014015  eta: 0h11m  tot: 0h4m6s  (25.0%)\rEpoch: 25.3%  lr: 0.037628  loss: 0.013998  eta: 0h11m  tot: 0h4m6s  (25.1%)\rEpoch: 25.4%  lr: 0.037608  loss: 0.013977  eta: 0h11m  tot: 0h4m6s  (25.1%)\rEpoch: 25.5%  lr: 0.037608  loss: 0.013972  eta: 0h11m  tot: 0h4m7s  (25.1%)\rEpoch: 25.6%  lr: 0.037588  loss: 0.014022  eta: 0h11m  tot: 0h4m7s  (25.1%)\rEpoch: 25.7%  lr: 0.037578  loss: 0.014024  eta: 0h11m  tot: 0h4m7s  (25.1%)\rEpoch: 25.7%  lr: 0.037578  loss: 0.014000  eta: 0h11m  tot: 0h4m7s  (25.1%)\rEpoch: 25.8%  lr: 0.037558  loss: 0.013975  eta: 0h11m  tot: 0h4m7s  (25.2%)\rEpoch: 25.9%  lr: 0.037548  loss: 0.013977  eta: 0h11m  tot: 0h4m7s  (25.2%)\rEpoch: 26.0%  lr: 0.037548  loss: 0.013956  eta: 0h11m  tot: 0h4m8s  (25.2%)\rEpoch: 26.1%  lr: 0.037548  loss: 0.013946  eta: 0h11m  tot: 0h4m8s  (25.2%)\rEpoch: 26.2%  lr: 0.037538  loss: 0.013941  eta: 0h11m  tot: 0h4m8s  (25.2%)\rEpoch: 26.3%  lr: 0.037528  loss: 0.013962  eta: 0h11m  tot: 0h4m8s  (25.3%)\rEpoch: 26.4%  lr: 0.037508  loss: 0.013987  eta: 0h11m  tot: 0h4m8s  (25.3%)\rEpoch: 26.5%  lr: 0.037498  loss: 0.013966  eta: 0h11m  tot: 0h4m8s  (25.3%)\rEpoch: 26.6%  lr: 0.037437  loss: 0.013976  eta: 0h11m  tot: 0h4m9s  (25.3%)\rEpoch: 26.6%  lr: 0.037417  loss: 0.013947  eta: 0h11m  tot: 0h4m9s  (25.3%)\rEpoch: 26.7%  lr: 0.037397  loss: 0.013949  eta: 0h11m  tot: 0h4m9s  (25.3%)\rEpoch: 26.8%  lr: 0.037377  loss: 0.013972  eta: 0h11m  tot: 0h4m9s  (25.4%)\rEpoch: 26.9%  lr: 0.037367  loss: 0.013966  eta: 0h11m  tot: 0h4m9s  (25.4%)\rEpoch: 27.0%  lr: 0.037367  loss: 0.013957  eta: 0h11m  tot: 0h4m9s  (25.4%)\rEpoch: 27.1%  lr: 0.037357  loss: 0.013947  eta: 0h11m  tot: 0h4m10s  (25.4%)\rEpoch: 27.2%  lr: 0.037337  loss: 0.013931  eta: 0h11m  tot: 0h4m10s  (25.4%)\rEpoch: 27.3%  lr: 0.037327  loss: 0.013934  eta: 0h11m  tot: 0h4m10s  (25.5%)\rEpoch: 27.4%  lr: 0.037327  loss: 0.013924  eta: 0h11m  tot: 0h4m10s  (25.5%)\rEpoch: 27.5%  lr: 0.037327  loss: 0.013917  eta: 0h11m  tot: 0h4m10s  (25.5%)\rEpoch: 27.5%  lr: 0.037317  loss: 0.013911  eta: 0h11m  tot: 0h4m10s  (25.5%)\rEpoch: 27.6%  lr: 0.037317  loss: 0.013886  eta: 0h11m  tot: 0h4m11s  (25.5%)\rEpoch: 27.7%  lr: 0.037317  loss: 0.013874  eta: 0h11m  tot: 0h4m11s  (25.5%)\rEpoch: 27.8%  lr: 0.037317  loss: 0.013881  eta: 0h11m  tot: 0h4m11s  (25.6%)\rEpoch: 27.9%  lr: 0.037317  loss: 0.013882  eta: 0h11m  tot: 0h4m11s  (25.6%)\rEpoch: 28.0%  lr: 0.037287  loss: 0.013931  eta: 0h11m  tot: 0h4m11s  (25.6%)\rEpoch: 28.1%  lr: 0.037247  loss: 0.013923  eta: 0h11m  tot: 0h4m11s  (25.6%)\rEpoch: 28.2%  lr: 0.037237  loss: 0.013933  eta: 0h11m  tot: 0h4m11s  (25.6%)\rEpoch: 28.3%  lr: 0.037237  loss: 0.013957  eta: 0h11m  tot: 0h4m12s  (25.7%)\rEpoch: 28.4%  lr: 0.037227  loss: 0.013988  eta: 0h11m  tot: 0h4m12s  (25.7%)\rEpoch: 28.4%  lr: 0.037207  loss: 0.013981  eta: 0h11m  tot: 0h4m12s  (25.7%)\rEpoch: 28.5%  lr: 0.037187  loss: 0.013984  eta: 0h11m  tot: 0h4m12s  (25.7%)\rEpoch: 28.6%  lr: 0.037187  loss: 0.013970  eta: 0h11m  tot: 0h4m12s  (25.7%)\rEpoch: 28.7%  lr: 0.037177  loss: 0.013992  eta: 0h11m  tot: 0h4m12s  (25.7%)\rEpoch: 28.8%  lr: 0.037177  loss: 0.013967  eta: 0h11m  tot: 0h4m13s  (25.8%)\rEpoch: 28.9%  lr: 0.037167  loss: 0.013971  eta: 0h11m  tot: 0h4m13s  (25.8%)\rEpoch: 29.0%  lr: 0.037137  loss: 0.013966  eta: 0h11m  tot: 0h4m13s  (25.8%)\rEpoch: 29.1%  lr: 0.037137  loss: 0.013956  eta: 0h11m  tot: 0h4m13s  (25.8%)\rEpoch: 29.2%  lr: 0.037127  loss: 0.013946  eta: 0h11m  tot: 0h4m13s  (25.8%)\rEpoch: 29.3%  lr: 0.037127  loss: 0.013928  eta: 0h11m  tot: 0h4m13s  (25.9%)\rEpoch: 29.3%  lr: 0.037107  loss: 0.013902  eta: 0h11m  tot: 0h4m14s  (25.9%)\rEpoch: 29.4%  lr: 0.037107  loss: 0.013875  eta: 0h11m  tot: 0h4m14s  (25.9%)\rEpoch: 29.5%  lr: 0.037107  loss: 0.013880  eta: 0h11m  tot: 0h4m14s  (25.9%)\rEpoch: 29.6%  lr: 0.037077  loss: 0.013860  eta: 0h11m  tot: 0h4m14s  (25.9%)\rEpoch: 29.7%  lr: 0.037077  loss: 0.013843  eta: 0h11m  tot: 0h4m14s  (25.9%)\rEpoch: 29.8%  lr: 0.037077  loss: 0.013845  eta: 0h11m  tot: 0h4m14s  (26.0%)\rEpoch: 29.9%  lr: 0.037057  loss: 0.013832  eta: 0h11m  tot: 0h4m15s  (26.0%)\rEpoch: 30.0%  lr: 0.037057  loss: 0.013841  eta: 0h11m  tot: 0h4m15s  (26.0%)\rEpoch: 30.1%  lr: 0.037047  loss: 0.013840  eta: 0h11m  tot: 0h4m15s  (26.0%)\rEpoch: 30.2%  lr: 0.037027  loss: 0.013830  eta: 0h11m  tot: 0h4m15s  (26.0%)\rEpoch: 30.2%  lr: 0.037027  loss: 0.013836  eta: 0h11m  tot: 0h4m15s  (26.0%)\rEpoch: 30.3%  lr: 0.037027  loss: 0.013810  eta: 0h11m  tot: 0h4m15s  (26.1%)\rEpoch: 30.4%  lr: 0.037027  loss: 0.013789  eta: 0h11m  tot: 0h4m15s  (26.1%)\rEpoch: 30.5%  lr: 0.037007  loss: 0.013797  eta: 0h11m  tot: 0h4m16s  (26.1%)\rEpoch: 30.6%  lr: 0.037007  loss: 0.013786  eta: 0h11m  tot: 0h4m16s  (26.1%)\rEpoch: 30.7%  lr: 0.036987  loss: 0.013777  eta: 0h11m  tot: 0h4m16s  (26.1%)\rEpoch: 30.8%  lr: 0.036967  loss: 0.013817  eta: 0h11m  tot: 0h4m16s  (26.2%)\rEpoch: 30.9%  lr: 0.036967  loss: 0.013823  eta: 0h11m  tot: 0h4m16s  (26.2%)\rEpoch: 31.0%  lr: 0.036947  loss: 0.013845  eta: 0h11m  tot: 0h4m16s  (26.2%)\rEpoch: 31.1%  lr: 0.036937  loss: 0.013835  eta: 0h11m  tot: 0h4m17s  (26.2%)\rEpoch: 31.1%  lr: 0.036937  loss: 0.013832  eta: 0h11m  tot: 0h4m17s  (26.2%)\rEpoch: 31.2%  lr: 0.036937  loss: 0.013846  eta: 0h11m  tot: 0h4m17s  (26.2%)\rEpoch: 31.3%  lr: 0.036927  loss: 0.013898  eta: 0h11m  tot: 0h4m17s  (26.3%)\rEpoch: 31.4%  lr: 0.036917  loss: 0.013883  eta: 0h11m  tot: 0h4m17s  (26.3%)\rEpoch: 31.5%  lr: 0.036897  loss: 0.013878  eta: 0h11m  tot: 0h4m17s  (26.3%)\rEpoch: 31.6%  lr: 0.036897  loss: 0.013903  eta: 0h11m  tot: 0h4m18s  (26.3%)\rEpoch: 31.7%  lr: 0.036877  loss: 0.013878  eta: 0h11m  tot: 0h4m18s  (26.3%)\rEpoch: 31.8%  lr: 0.036857  loss: 0.013878  eta: 0h11m  tot: 0h4m18s  (26.4%)\rEpoch: 31.9%  lr: 0.036837  loss: 0.013877  eta: 0h11m  tot: 0h4m18s  (26.4%)\rEpoch: 32.0%  lr: 0.036817  loss: 0.013892  eta: 0h11m  tot: 0h4m18s  (26.4%)\rEpoch: 32.0%  lr: 0.036817  loss: 0.013897  eta: 0h11m  tot: 0h4m18s  (26.4%)\rEpoch: 32.1%  lr: 0.036807  loss: 0.013888  eta: 0h11m  tot: 0h4m19s  (26.4%)\rEpoch: 32.2%  lr: 0.036807  loss: 0.013887  eta: 0h11m  tot: 0h4m19s  (26.4%)\rEpoch: 32.3%  lr: 0.036807  loss: 0.013871  eta: 0h11m  tot: 0h4m19s  (26.5%)\rEpoch: 32.4%  lr: 0.036797  loss: 0.013876  eta: 0h11m  tot: 0h4m19s  (26.5%)\rEpoch: 32.5%  lr: 0.036757  loss: 0.013893  eta: 0h11m  tot: 0h4m19s  (26.5%)\rEpoch: 32.6%  lr: 0.036747  loss: 0.013883  eta: 0h11m  tot: 0h4m19s  (26.5%)\rEpoch: 32.7%  lr: 0.036737  loss: 0.013866  eta: 0h11m  tot: 0h4m20s  (26.5%)\rEpoch: 32.8%  lr: 0.036737  loss: 0.013854  eta: 0h11m  tot: 0h4m20s  (26.6%)\rEpoch: 32.9%  lr: 0.036717  loss: 0.013896  eta: 0h11m  tot: 0h4m20s  (26.6%)\rEpoch: 32.9%  lr: 0.036687  loss: 0.013885  eta: 0h11m  tot: 0h4m20s  (26.6%)\rEpoch: 33.0%  lr: 0.036667  loss: 0.013917  eta: 0h11m  tot: 0h4m20s  (26.6%)\rEpoch: 33.1%  lr: 0.036667  loss: 0.013901  eta: 0h11m  tot: 0h4m20s  (26.6%)\rEpoch: 33.2%  lr: 0.036667  loss: 0.013916  eta: 0h11m  tot: 0h4m21s  (26.6%)\rEpoch: 33.3%  lr: 0.036657  loss: 0.013899  eta: 0h11m  tot: 0h4m21s  (26.7%)\rEpoch: 33.4%  lr: 0.036647  loss: 0.013937  eta: 0h11m  tot: 0h4m21s  (26.7%)\rEpoch: 33.5%  lr: 0.036637  loss: 0.013924  eta: 0h11m  tot: 0h4m21s  (26.7%)\rEpoch: 33.6%  lr: 0.036637  loss: 0.013968  eta: 0h11m  tot: 0h4m21s  (26.7%)\rEpoch: 33.7%  lr: 0.036627  loss: 0.013964  eta: 0h11m  tot: 0h4m21s  (26.7%)\rEpoch: 33.8%  lr: 0.036627  loss: 0.013961  eta: 0h11m  tot: 0h4m22s  (26.8%)\rEpoch: 33.8%  lr: 0.036627  loss: 0.013943  eta: 0h11m  tot: 0h4m22s  (26.8%)\rEpoch: 33.9%  lr: 0.036617  loss: 0.013923  eta: 0h11m  tot: 0h4m22s  (26.8%)\rEpoch: 34.0%  lr: 0.036617  loss: 0.013904  eta: 0h11m  tot: 0h4m22s  (26.8%)\rEpoch: 34.1%  lr: 0.036587  loss: 0.013900  eta: 0h11m  tot: 0h4m22s  (26.8%)\rEpoch: 34.2%  lr: 0.036577  loss: 0.013891  eta: 0h11m  tot: 0h4m22s  (26.8%)\rEpoch: 34.3%  lr: 0.036557  loss: 0.013877  eta: 0h11m  tot: 0h4m23s  (26.9%)\rEpoch: 34.4%  lr: 0.036557  loss: 0.013874  eta: 0h11m  tot: 0h4m23s  (26.9%)\rEpoch: 34.5%  lr: 0.036537  loss: 0.013874  eta: 0h11m  tot: 0h4m23s  (26.9%)\rEpoch: 34.6%  lr: 0.036537  loss: 0.013874  eta: 0h11m  tot: 0h4m23s  (26.9%)\rEpoch: 34.7%  lr: 0.036537  loss: 0.013876  eta: 0h11m  tot: 0h4m23s  (26.9%)\rEpoch: 34.7%  lr: 0.036527  loss: 0.013872  eta: 0h11m  tot: 0h4m23s  (26.9%)\rEpoch: 34.8%  lr: 0.036517  loss: 0.013860  eta: 0h11m  tot: 0h4m24s  (27.0%)\rEpoch: 34.9%  lr: 0.036507  loss: 0.013863  eta: 0h11m  tot: 0h4m24s  (27.0%)\rEpoch: 35.0%  lr: 0.036507  loss: 0.013870  eta: 0h11m  tot: 0h4m24s  (27.0%)\rEpoch: 35.1%  lr: 0.036497  loss: 0.013857  eta: 0h11m  tot: 0h4m24s  (27.0%)\rEpoch: 35.2%  lr: 0.036487  loss: 0.013846  eta: 0h11m  tot: 0h4m24s  (27.0%)\rEpoch: 35.3%  lr: 0.036487  loss: 0.013838  eta: 0h11m  tot: 0h4m24s  (27.1%)\rEpoch: 35.4%  lr: 0.036447  loss: 0.013827  eta: 0h11m  tot: 0h4m25s  (27.1%)\rEpoch: 35.5%  lr: 0.036436  loss: 0.013812  eta: 0h11m  tot: 0h4m25s  (27.1%)\rEpoch: 35.6%  lr: 0.036426  loss: 0.013795  eta: 0h11m  tot: 0h4m25s  (27.1%)\rEpoch: 35.6%  lr: 0.036406  loss: 0.013815  eta: 0h11m  tot: 0h4m25s  (27.1%)\rEpoch: 35.7%  lr: 0.036406  loss: 0.013824  eta: 0h11m  tot: 0h4m25s  (27.1%)\rEpoch: 35.8%  lr: 0.036396  loss: 0.013828  eta: 0h11m  tot: 0h4m25s  (27.2%)\rEpoch: 35.9%  lr: 0.036386  loss: 0.013808  eta: 0h11m  tot: 0h4m26s  (27.2%)\rEpoch: 36.0%  lr: 0.036376  loss: 0.013837  eta: 0h11m  tot: 0h4m26s  (27.2%)\rEpoch: 36.1%  lr: 0.036366  loss: 0.013820  eta: 0h11m  tot: 0h4m26s  (27.2%)\rEpoch: 36.2%  lr: 0.036346  loss: 0.013829  eta: 0h11m  tot: 0h4m26s  (27.2%)\rEpoch: 36.3%  lr: 0.036346  loss: 0.013806  eta: 0h11m  tot: 0h4m26s  (27.3%)\rEpoch: 36.4%  lr: 0.036346  loss: 0.013793  eta: 0h11m  tot: 0h4m26s  (27.3%)\rEpoch: 36.5%  lr: 0.036336  loss: 0.013775  eta: 0h11m  tot: 0h4m27s  (27.3%)\rEpoch: 36.5%  lr: 0.036306  loss: 0.013768  eta: 0h11m  tot: 0h4m27s  (27.3%)\rEpoch: 36.6%  lr: 0.036306  loss: 0.013771  eta: 0h11m  tot: 0h4m27s  (27.3%)\rEpoch: 36.7%  lr: 0.036296  loss: 0.013747  eta: 0h11m  tot: 0h4m27s  (27.3%)\rEpoch: 36.8%  lr: 0.036296  loss: 0.013753  eta: 0h11m  tot: 0h4m27s  (27.4%)\rEpoch: 36.9%  lr: 0.036286  loss: 0.013740  eta: 0h11m  tot: 0h4m27s  (27.4%)\rEpoch: 37.0%  lr: 0.036276  loss: 0.013770  eta: 0h11m  tot: 0h4m28s  (27.4%)\rEpoch: 37.1%  lr: 0.036256  loss: 0.013778  eta: 0h11m  tot: 0h4m28s  (27.4%)\rEpoch: 37.2%  lr: 0.036246  loss: 0.013776  eta: 0h11m  tot: 0h4m28s  (27.4%)\rEpoch: 37.3%  lr: 0.036236  loss: 0.013756  eta: 0h11m  tot: 0h4m28s  (27.5%)\rEpoch: 37.4%  lr: 0.036236  loss: 0.013781  eta: 0h11m  tot: 0h4m28s  (27.5%)\rEpoch: 37.4%  lr: 0.036226  loss: 0.013779  eta: 0h11m  tot: 0h4m28s  (27.5%)\rEpoch: 37.5%  lr: 0.036216  loss: 0.013806  eta: 0h11m  tot: 0h4m29s  (27.5%)\rEpoch: 37.6%  lr: 0.036196  loss: 0.013818  eta: 0h11m  tot: 0h4m29s  (27.5%)\rEpoch: 37.7%  lr: 0.036176  loss: 0.013817  eta: 0h11m  tot: 0h4m29s  (27.5%)\rEpoch: 37.8%  lr: 0.036146  loss: 0.013827  eta: 0h11m  tot: 0h4m29s  (27.6%)\rEpoch: 37.9%  lr: 0.036146  loss: 0.013818  eta: 0h11m  tot: 0h4m29s  (27.6%)\rEpoch: 38.0%  lr: 0.036146  loss: 0.013803  eta: 0h11m  tot: 0h4m29s  (27.6%)\rEpoch: 38.1%  lr: 0.036146  loss: 0.013801  eta: 0h11m  tot: 0h4m29s  (27.6%)\rEpoch: 38.2%  lr: 0.036126  loss: 0.013796  eta: 0h10m  tot: 0h4m30s  (27.6%)\rEpoch: 38.3%  lr: 0.036116  loss: 0.013798  eta: 0h10m  tot: 0h4m30s  (27.7%)\rEpoch: 38.3%  lr: 0.036106  loss: 0.013813  eta: 0h10m  tot: 0h4m30s  (27.7%)\rEpoch: 38.4%  lr: 0.036106  loss: 0.013819  eta: 0h10m  tot: 0h4m30s  (27.7%)\rEpoch: 38.5%  lr: 0.036106  loss: 0.013816  eta: 0h10m  tot: 0h4m30s  (27.7%)\rEpoch: 38.6%  lr: 0.036106  loss: 0.013797  eta: 0h10m  tot: 0h4m30s  (27.7%)\rEpoch: 38.7%  lr: 0.036096  loss: 0.013793  eta: 0h10m  tot: 0h4m31s  (27.7%)\rEpoch: 38.8%  lr: 0.036096  loss: 0.013784  eta: 0h10m  tot: 0h4m31s  (27.8%)\rEpoch: 38.9%  lr: 0.036066  loss: 0.013770  eta: 0h10m  tot: 0h4m31s  (27.8%)\rEpoch: 39.0%  lr: 0.036056  loss: 0.013752  eta: 0h10m  tot: 0h4m31s  (27.8%)\rEpoch: 39.1%  lr: 0.036056  loss: 0.013729  eta: 0h10m  tot: 0h4m31s  (27.8%)\rEpoch: 39.2%  lr: 0.036056  loss: 0.013735  eta: 0h10m  tot: 0h4m31s  (27.8%)\rEpoch: 39.2%  lr: 0.036056  loss: 0.013726  eta: 0h10m  tot: 0h4m32s  (27.8%)\rEpoch: 39.3%  lr: 0.036016  loss: 0.013715  eta: 0h10m  tot: 0h4m32s  (27.9%)\rEpoch: 39.4%  lr: 0.036016  loss: 0.013739  eta: 0h10m  tot: 0h4m32s  (27.9%)\rEpoch: 39.5%  lr: 0.036006  loss: 0.013738  eta: 0h10m  tot: 0h4m32s  (27.9%)\rEpoch: 39.6%  lr: 0.035986  loss: 0.013745  eta: 0h10m  tot: 0h4m32s  (27.9%)\rEpoch: 39.7%  lr: 0.035976  loss: 0.013750  eta: 0h10m  tot: 0h4m32s  (27.9%)\rEpoch: 39.8%  lr: 0.035956  loss: 0.013739  eta: 0h10m  tot: 0h4m33s  (28.0%)\rEpoch: 39.9%  lr: 0.035956  loss: 0.013736  eta: 0h10m  tot: 0h4m33s  (28.0%)\rEpoch: 40.0%  lr: 0.035956  loss: 0.013724  eta: 0h10m  tot: 0h4m33s  (28.0%)\rEpoch: 40.1%  lr: 0.035936  loss: 0.013704  eta: 0h10m  tot: 0h4m33s  (28.0%)\rEpoch: 40.1%  lr: 0.035916  loss: 0.013702  eta: 0h10m  tot: 0h4m33s  (28.0%)\rEpoch: 40.2%  lr: 0.035916  loss: 0.013687  eta: 0h10m  tot: 0h4m33s  (28.0%)\rEpoch: 40.3%  lr: 0.035906  loss: 0.013700  eta: 0h10m  tot: 0h4m34s  (28.1%)\rEpoch: 40.4%  lr: 0.035906  loss: 0.013697  eta: 0h10m  tot: 0h4m34s  (28.1%)\rEpoch: 40.5%  lr: 0.035906  loss: 0.013724  eta: 0h10m  tot: 0h4m34s  (28.1%)\rEpoch: 40.6%  lr: 0.035896  loss: 0.013719  eta: 0h10m  tot: 0h4m34s  (28.1%)\rEpoch: 40.7%  lr: 0.035866  loss: 0.013718  eta: 0h10m  tot: 0h4m34s  (28.1%)\rEpoch: 40.8%  lr: 0.035856  loss: 0.013719  eta: 0h10m  tot: 0h4m34s  (28.2%)\rEpoch: 40.9%  lr: 0.035856  loss: 0.013738  eta: 0h10m  tot: 0h4m35s  (28.2%)\rEpoch: 41.0%  lr: 0.035846  loss: 0.013730  eta: 0h10m  tot: 0h4m35s  (28.2%)\rEpoch: 41.0%  lr: 0.035846  loss: 0.013713  eta: 0h10m  tot: 0h4m35s  (28.2%)\rEpoch: 41.1%  lr: 0.035846  loss: 0.013735  eta: 0h10m  tot: 0h4m35s  (28.2%)\rEpoch: 41.2%  lr: 0.035846  loss: 0.013736  eta: 0h10m  tot: 0h4m35s  (28.2%)\rEpoch: 41.3%  lr: 0.035826  loss: 0.013724  eta: 0h10m  tot: 0h4m35s  (28.3%)\rEpoch: 41.4%  lr: 0.035826  loss: 0.013733  eta: 0h10m  tot: 0h4m36s  (28.3%)\rEpoch: 41.5%  lr: 0.035826  loss: 0.013725  eta: 0h10m  tot: 0h4m36s  (28.3%)\rEpoch: 41.6%  lr: 0.035806  loss: 0.013724  eta: 0h10m  tot: 0h4m36s  (28.3%)\rEpoch: 41.7%  lr: 0.035786  loss: 0.013704  eta: 0h10m  tot: 0h4m36s  (28.3%)\rEpoch: 41.8%  lr: 0.035786  loss: 0.013693  eta: 0h10m  tot: 0h4m36s  (28.4%)\rEpoch: 41.9%  lr: 0.035786  loss: 0.013702  eta: 0h10m  tot: 0h4m36s  (28.4%)\rEpoch: 42.0%  lr: 0.035776  loss: 0.013686  eta: 0h10m  tot: 0h4m37s  (28.4%)\rEpoch: 42.0%  lr: 0.035766  loss: 0.013667  eta: 0h10m  tot: 0h4m37s  (28.4%)\rEpoch: 42.1%  lr: 0.035756  loss: 0.013661  eta: 0h10m  tot: 0h4m37s  (28.4%)\rEpoch: 42.2%  lr: 0.035746  loss: 0.013659  eta: 0h10m  tot: 0h4m37s  (28.4%)\rEpoch: 42.3%  lr: 0.035746  loss: 0.013683  eta: 0h10m  tot: 0h4m37s  (28.5%)\rEpoch: 42.4%  lr: 0.035736  loss: 0.013678  eta: 0h10m  tot: 0h4m37s  (28.5%)\rEpoch: 42.5%  lr: 0.035726  loss: 0.013669  eta: 0h10m  tot: 0h4m38s  (28.5%)\rEpoch: 42.6%  lr: 0.035716  loss: 0.013668  eta: 0h10m  tot: 0h4m38s  (28.5%)\rEpoch: 42.7%  lr: 0.035706  loss: 0.013669  eta: 0h10m  tot: 0h4m38s  (28.5%)\rEpoch: 42.8%  lr: 0.035686  loss: 0.013701  eta: 0h10m  tot: 0h4m38s  (28.6%)\rEpoch: 42.9%  lr: 0.035676  loss: 0.013699  eta: 0h10m  tot: 0h4m38s  (28.6%)\rEpoch: 42.9%  lr: 0.035656  loss: 0.013693  eta: 0h10m  tot: 0h4m38s  (28.6%)\rEpoch: 43.0%  lr: 0.035646  loss: 0.013679  eta: 0h10m  tot: 0h4m39s  (28.6%)\rEpoch: 43.1%  lr: 0.035636  loss: 0.013667  eta: 0h10m  tot: 0h4m39s  (28.6%)\rEpoch: 43.2%  lr: 0.035626  loss: 0.013656  eta: 0h10m  tot: 0h4m39s  (28.6%)\rEpoch: 43.3%  lr: 0.035626  loss: 0.013653  eta: 0h10m  tot: 0h4m39s  (28.7%)\rEpoch: 43.4%  lr: 0.035626  loss: 0.013647  eta: 0h10m  tot: 0h4m39s  (28.7%)\rEpoch: 43.5%  lr: 0.035626  loss: 0.013650  eta: 0h10m  tot: 0h4m39s  (28.7%)\rEpoch: 43.6%  lr: 0.035616  loss: 0.013648  eta: 0h10m  tot: 0h4m39s  (28.7%)\rEpoch: 43.7%  lr: 0.035606  loss: 0.013645  eta: 0h10m  tot: 0h4m40s  (28.7%)\rEpoch: 43.8%  lr: 0.035596  loss: 0.013637  eta: 0h10m  tot: 0h4m40s  (28.8%)\rEpoch: 43.8%  lr: 0.035586  loss: 0.013670  eta: 0h10m  tot: 0h4m40s  (28.8%)\rEpoch: 43.9%  lr: 0.035576  loss: 0.013674  eta: 0h10m  tot: 0h4m40s  (28.8%)\rEpoch: 44.0%  lr: 0.035556  loss: 0.013673  eta: 0h10m  tot: 0h4m40s  (28.8%)\rEpoch: 44.1%  lr: 0.035546  loss: 0.013661  eta: 0h10m  tot: 0h4m40s  (28.8%)\rEpoch: 44.2%  lr: 0.035516  loss: 0.013659  eta: 0h10m  tot: 0h4m41s  (28.8%)\rEpoch: 44.3%  lr: 0.035516  loss: 0.013692  eta: 0h10m  tot: 0h4m41s  (28.9%)\rEpoch: 44.4%  lr: 0.035516  loss: 0.013684  eta: 0h10m  tot: 0h4m41s  (28.9%)\rEpoch: 44.5%  lr: 0.035506  loss: 0.013688  eta: 0h10m  tot: 0h4m41s  (28.9%)\rEpoch: 44.6%  lr: 0.035506  loss: 0.013689  eta: 0h10m  tot: 0h4m41s  (28.9%)\rEpoch: 44.7%  lr: 0.035506  loss: 0.013696  eta: 0h10m  tot: 0h4m41s  (28.9%)\rEpoch: 44.7%  lr: 0.035506  loss: 0.013681  eta: 0h10m  tot: 0h4m42s  (28.9%)\rEpoch: 44.8%  lr: 0.035486  loss: 0.013701  eta: 0h10m  tot: 0h4m42s  (29.0%)\rEpoch: 44.9%  lr: 0.035476  loss: 0.013698  eta: 0h10m  tot: 0h4m42s  (29.0%)\rEpoch: 45.0%  lr: 0.035466  loss: 0.013724  eta: 0h10m  tot: 0h4m42s  (29.0%)\rEpoch: 45.1%  lr: 0.035466  loss: 0.013704  eta: 0h10m  tot: 0h4m42s  (29.0%)\rEpoch: 45.2%  lr: 0.035446  loss: 0.013703  eta: 0h10m  tot: 0h4m42s  (29.0%)\rEpoch: 45.3%  lr: 0.035446  loss: 0.013709  eta: 0h10m  tot: 0h4m43s  (29.1%)\rEpoch: 45.4%  lr: 0.035415  loss: 0.013707  eta: 0h10m  tot: 0h4m43s  (29.1%)\rEpoch: 45.5%  lr: 0.035375  loss: 0.013700  eta: 0h10m  tot: 0h4m43s  (29.1%)\rEpoch: 45.6%  lr: 0.035355  loss: 0.013698  eta: 0h10m  tot: 0h4m43s  (29.1%)\rEpoch: 45.6%  lr: 0.035355  loss: 0.013692  eta: 0h10m  tot: 0h4m43s  (29.1%)\rEpoch: 45.7%  lr: 0.035345  loss: 0.013694  eta: 0h10m  tot: 0h4m43s  (29.1%)\rEpoch: 45.8%  lr: 0.035345  loss: 0.013688  eta: 0h10m  tot: 0h4m44s  (29.2%)\rEpoch: 45.9%  lr: 0.035325  loss: 0.013695  eta: 0h10m  tot: 0h4m44s  (29.2%)\rEpoch: 46.0%  lr: 0.035315  loss: 0.013684  eta: 0h10m  tot: 0h4m44s  (29.2%)\rEpoch: 46.1%  lr: 0.035295  loss: 0.013666  eta: 0h10m  tot: 0h4m44s  (29.2%)\rEpoch: 46.2%  lr: 0.035285  loss: 0.013674  eta: 0h10m  tot: 0h4m44s  (29.2%)\rEpoch: 46.3%  lr: 0.035265  loss: 0.013669  eta: 0h10m  tot: 0h4m44s  (29.3%)\rEpoch: 46.4%  lr: 0.035265  loss: 0.013686  eta: 0h10m  tot: 0h4m45s  (29.3%)\rEpoch: 46.5%  lr: 0.035265  loss: 0.013684  eta: 0h10m  tot: 0h4m45s  (29.3%)\rEpoch: 46.5%  lr: 0.035255  loss: 0.013680  eta: 0h10m  tot: 0h4m45s  (29.3%)\rEpoch: 46.6%  lr: 0.035245  loss: 0.013672  eta: 0h10m  tot: 0h4m45s  (29.3%)\rEpoch: 46.7%  lr: 0.035235  loss: 0.013659  eta: 0h10m  tot: 0h4m45s  (29.3%)\rEpoch: 46.8%  lr: 0.035215  loss: 0.013652  eta: 0h10m  tot: 0h4m45s  (29.4%)\rEpoch: 46.9%  lr: 0.035195  loss: 0.013650  eta: 0h10m  tot: 0h4m46s  (29.4%)\rEpoch: 47.0%  lr: 0.035185  loss: 0.013644  eta: 0h10m  tot: 0h4m46s  (29.4%)\rEpoch: 47.1%  lr: 0.035185  loss: 0.013640  eta: 0h10m  tot: 0h4m46s  (29.4%)\rEpoch: 47.2%  lr: 0.035185  loss: 0.013636  eta: 0h10m  tot: 0h4m46s  (29.4%)\rEpoch: 47.3%  lr: 0.035165  loss: 0.013640  eta: 0h10m  tot: 0h4m46s  (29.5%)\rEpoch: 47.4%  lr: 0.035165  loss: 0.013656  eta: 0h10m  tot: 0h4m46s  (29.5%)\rEpoch: 47.4%  lr: 0.035155  loss: 0.013661  eta: 0h10m  tot: 0h4m47s  (29.5%)\rEpoch: 47.5%  lr: 0.035145  loss: 0.013653  eta: 0h10m  tot: 0h4m47s  (29.5%)\rEpoch: 47.6%  lr: 0.035135  loss: 0.013644  eta: 0h10m  tot: 0h4m47s  (29.5%)\rEpoch: 47.7%  lr: 0.035105  loss: 0.013632  eta: 0h10m  tot: 0h4m47s  (29.5%)\rEpoch: 47.8%  lr: 0.035085  loss: 0.013635  eta: 0h10m  tot: 0h4m47s  (29.6%)\rEpoch: 47.9%  lr: 0.035075  loss: 0.013639  eta: 0h10m  tot: 0h4m47s  (29.6%)\rEpoch: 48.0%  lr: 0.035075  loss: 0.013623  eta: 0h10m  tot: 0h4m48s  (29.6%)\rEpoch: 48.1%  lr: 0.035055  loss: 0.013642  eta: 0h10m  tot: 0h4m48s  (29.6%)\rEpoch: 48.2%  lr: 0.035035  loss: 0.013633  eta: 0h10m  tot: 0h4m48s  (29.6%)\rEpoch: 48.3%  lr: 0.035025  loss: 0.013631  eta: 0h10m  tot: 0h4m48s  (29.7%)\rEpoch: 48.3%  lr: 0.035015  loss: 0.013634  eta: 0h10m  tot: 0h4m48s  (29.7%)\rEpoch: 48.4%  lr: 0.035005  loss: 0.013625  eta: 0h10m  tot: 0h4m48s  (29.7%)\rEpoch: 48.5%  lr: 0.035005  loss: 0.013612  eta: 0h10m  tot: 0h4m49s  (29.7%)\rEpoch: 48.6%  lr: 0.034985  loss: 0.013616  eta: 0h10m  tot: 0h4m49s  (29.7%)\rEpoch: 48.7%  lr: 0.034975  loss: 0.013629  eta: 0h10m  tot: 0h4m49s  (29.7%)\rEpoch: 48.8%  lr: 0.034965  loss: 0.013618  eta: 0h10m  tot: 0h4m49s  (29.8%)\rEpoch: 48.9%  lr: 0.034965  loss: 0.013635  eta: 0h10m  tot: 0h4m49s  (29.8%)\rEpoch: 49.0%  lr: 0.034965  loss: 0.013631  eta: 0h10m  tot: 0h4m49s  (29.8%)\rEpoch: 49.1%  lr: 0.034945  loss: 0.013649  eta: 0h10m  tot: 0h4m50s  (29.8%)\rEpoch: 49.2%  lr: 0.034935  loss: 0.013631  eta: 0h10m  tot: 0h4m50s  (29.8%)\rEpoch: 49.2%  lr: 0.034915  loss: 0.013629  eta: 0h10m  tot: 0h4m50s  (29.8%)\rEpoch: 49.3%  lr: 0.034915  loss: 0.013634  eta: 0h10m  tot: 0h4m50s  (29.9%)\rEpoch: 49.4%  lr: 0.034915  loss: 0.013640  eta: 0h10m  tot: 0h4m50s  (29.9%)\rEpoch: 49.5%  lr: 0.034915  loss: 0.013649  eta: 0h10m  tot: 0h4m50s  (29.9%)\rEpoch: 49.6%  lr: 0.034905  loss: 0.013670  eta: 0h10m  tot: 0h4m51s  (29.9%)\rEpoch: 49.7%  lr: 0.034895  loss: 0.013675  eta: 0h10m  tot: 0h4m51s  (29.9%)\rEpoch: 49.8%  lr: 0.034895  loss: 0.013669  eta: 0h10m  tot: 0h4m51s  (30.0%)\rEpoch: 49.9%  lr: 0.034875  loss: 0.013670  eta: 0h10m  tot: 0h4m51s  (30.0%)\rEpoch: 50.0%  lr: 0.034855  loss: 0.013675  eta: 0h10m  tot: 0h4m51s  (30.0%)\rEpoch: 50.1%  lr: 0.034855  loss: 0.013666  eta: 0h10m  tot: 0h4m51s  (30.0%)\rEpoch: 50.1%  lr: 0.034845  loss: 0.013657  eta: 0h10m  tot: 0h4m52s  (30.0%)\rEpoch: 50.2%  lr: 0.034845  loss: 0.013653  eta: 0h10m  tot: 0h4m52s  (30.0%)\rEpoch: 50.3%  lr: 0.034825  loss: 0.013660  eta: 0h10m  tot: 0h4m52s  (30.1%)\rEpoch: 50.4%  lr: 0.034815  loss: 0.013645  eta: 0h10m  tot: 0h4m52s  (30.1%)\rEpoch: 50.5%  lr: 0.034795  loss: 0.013641  eta: 0h10m  tot: 0h4m52s  (30.1%)\rEpoch: 50.6%  lr: 0.034785  loss: 0.013635  eta: 0h10m  tot: 0h4m52s  (30.1%)\rEpoch: 50.7%  lr: 0.034765  loss: 0.013658  eta: 0h10m  tot: 0h4m53s  (30.1%)\rEpoch: 50.8%  lr: 0.034745  loss: 0.013654  eta: 0h10m  tot: 0h4m53s  (30.2%)\rEpoch: 50.9%  lr: 0.034745  loss: 0.013660  eta: 0h10m  tot: 0h4m53s  (30.2%)\rEpoch: 51.0%  lr: 0.034745  loss: 0.013642  eta: 0h10m  tot: 0h4m53s  (30.2%)\rEpoch: 51.0%  lr: 0.034745  loss: 0.013640  eta: 0h10m  tot: 0h4m53s  (30.2%)\rEpoch: 51.1%  lr: 0.034745  loss: 0.013674  eta: 0h10m  tot: 0h4m53s  (30.2%)\rEpoch: 51.2%  lr: 0.034745  loss: 0.013673  eta: 0h10m  tot: 0h4m53s  (30.2%)\rEpoch: 51.3%  lr: 0.034735  loss: 0.013686  eta: 0h10m  tot: 0h4m54s  (30.3%)\rEpoch: 51.4%  lr: 0.034695  loss: 0.013697  eta: 0h10m  tot: 0h4m54s  (30.3%)\rEpoch: 51.5%  lr: 0.034695  loss: 0.013714  eta: 0h10m  tot: 0h4m54s  (30.3%)\rEpoch: 51.6%  lr: 0.034685  loss: 0.013718  eta: 0h10m  tot: 0h4m54s  (30.3%)\rEpoch: 51.7%  lr: 0.034685  loss: 0.013706  eta: 0h10m  tot: 0h4m54s  (30.3%)\rEpoch: 51.8%  lr: 0.034675  loss: 0.013695  eta: 0h10m  tot: 0h4m54s  (30.4%)\rEpoch: 51.9%  lr: 0.034675  loss: 0.013690  eta: 0h10m  tot: 0h4m55s  (30.4%)\rEpoch: 51.9%  lr: 0.034655  loss: 0.013683  eta: 0h10m  tot: 0h4m55s  (30.4%)\rEpoch: 52.0%  lr: 0.034655  loss: 0.013683  eta: 0h10m  tot: 0h4m55s  (30.4%)\rEpoch: 52.1%  lr: 0.034645  loss: 0.013687  eta: 0h10m  tot: 0h4m55s  (30.4%)\rEpoch: 52.2%  lr: 0.034645  loss: 0.013682  eta: 0h10m  tot: 0h4m55s  (30.4%)\rEpoch: 52.3%  lr: 0.034635  loss: 0.013680  eta: 0h10m  tot: 0h4m55s  (30.5%)\rEpoch: 52.4%  lr: 0.034625  loss: 0.013682  eta: 0h10m  tot: 0h4m56s  (30.5%)\rEpoch: 52.5%  lr: 0.034585  loss: 0.013670  eta: 0h10m  tot: 0h4m56s  (30.5%)\rEpoch: 52.6%  lr: 0.034565  loss: 0.013659  eta: 0h10m  tot: 0h4m56s  (30.5%)\rEpoch: 52.7%  lr: 0.034555  loss: 0.013642  eta: 0h10m  tot: 0h4m56s  (30.5%)\rEpoch: 52.8%  lr: 0.034545  loss: 0.013650  eta: 0h10m  tot: 0h4m56s  (30.6%)\rEpoch: 52.8%  lr: 0.034535  loss: 0.013636  eta: 0h10m  tot: 0h4m56s  (30.6%)\rEpoch: 52.9%  lr: 0.034505  loss: 0.013625  eta: 0h10m  tot: 0h4m57s  (30.6%)\rEpoch: 53.0%  lr: 0.034505  loss: 0.013620  eta: 0h10m  tot: 0h4m57s  (30.6%)\rEpoch: 53.1%  lr: 0.034485  loss: 0.013619  eta: 0h10m  tot: 0h4m57s  (30.6%)\rEpoch: 53.2%  lr: 0.034485  loss: 0.013617  eta: 0h10m  tot: 0h4m57s  (30.6%)\rEpoch: 53.3%  lr: 0.034485  loss: 0.013614  eta: 0h10m  tot: 0h4m57s  (30.7%)\rEpoch: 53.4%  lr: 0.034485  loss: 0.013622  eta: 0h10m  tot: 0h4m57s  (30.7%)\rEpoch: 53.5%  lr: 0.034465  loss: 0.013616  eta: 0h10m  tot: 0h4m58s  (30.7%)\rEpoch: 53.6%  lr: 0.034445  loss: 0.013601  eta: 0h10m  tot: 0h4m58s  (30.7%)\rEpoch: 53.7%  lr: 0.034425  loss: 0.013618  eta: 0h10m  tot: 0h4m58s  (30.7%)\rEpoch: 53.7%  lr: 0.034425  loss: 0.013633  eta: 0h10m  tot: 0h4m58s  (30.7%)\rEpoch: 53.8%  lr: 0.034404  loss: 0.013651  eta: 0h10m  tot: 0h4m58s  (30.8%)\rEpoch: 53.9%  lr: 0.034384  loss: 0.013643  eta: 0h10m  tot: 0h4m58s  (30.8%)\rEpoch: 54.0%  lr: 0.034374  loss: 0.013638  eta: 0h10m  tot: 0h4m59s  (30.8%)\rEpoch: 54.1%  lr: 0.034374  loss: 0.013636  eta: 0h10m  tot: 0h4m59s  (30.8%)\rEpoch: 54.2%  lr: 0.034354  loss: 0.013626  eta: 0h10m  tot: 0h4m59s  (30.8%)\rEpoch: 54.3%  lr: 0.034354  loss: 0.013614  eta: 0h10m  tot: 0h4m59s  (30.9%)\rEpoch: 54.4%  lr: 0.034344  loss: 0.013630  eta: 0h10m  tot: 0h4m59s  (30.9%)\rEpoch: 54.5%  lr: 0.034334  loss: 0.013616  eta: 0h10m  tot: 0h4m59s  (30.9%)\rEpoch: 54.6%  lr: 0.034334  loss: 0.013603  eta: 0h10m  tot: 0h5m0s  (30.9%)\rEpoch: 54.6%  lr: 0.034324  loss: 0.013612  eta: 0h10m  tot: 0h5m0s  (30.9%)\rEpoch: 54.7%  lr: 0.034324  loss: 0.013613  eta: 0h10m  tot: 0h5m0s  (30.9%)\rEpoch: 54.8%  lr: 0.034304  loss: 0.013610  eta: 0h10m  tot: 0h5m0s  (31.0%)\rEpoch: 54.9%  lr: 0.034294  loss: 0.013636  eta: 0h10m  tot: 0h5m0s  (31.0%)\rEpoch: 55.0%  lr: 0.034274  loss: 0.013626  eta: 0h10m  tot: 0h5m0s  (31.0%)\rEpoch: 55.1%  lr: 0.034264  loss: 0.013634  eta: 0h10m  tot: 0h5m1s  (31.0%)\rEpoch: 55.2%  lr: 0.034264  loss: 0.013626  eta: 0h10m  tot: 0h5m1s  (31.0%)\rEpoch: 55.3%  lr: 0.034244  loss: 0.013625  eta: 0h10m  tot: 0h5m1s  (31.1%)\rEpoch: 55.4%  lr: 0.034244  loss: 0.013606  eta: 0h10m  tot: 0h5m1s  (31.1%)\rEpoch: 55.5%  lr: 0.034244  loss: 0.013601  eta: 0h10m  tot: 0h5m1s  (31.1%)\rEpoch: 55.5%  lr: 0.034244  loss: 0.013592  eta: 0h10m  tot: 0h5m1s  (31.1%)\rEpoch: 55.6%  lr: 0.034244  loss: 0.013584  eta: 0h10m  tot: 0h5m2s  (31.1%)\rEpoch: 55.7%  lr: 0.034244  loss: 0.013568  eta: 0h10m  tot: 0h5m2s  (31.1%)\rEpoch: 55.8%  lr: 0.034234  loss: 0.013558  eta: 0h10m  tot: 0h5m2s  (31.2%)\rEpoch: 55.9%  lr: 0.034224  loss: 0.013554  eta: 0h10m  tot: 0h5m2s  (31.2%)\rEpoch: 56.0%  lr: 0.034224  loss: 0.013566  eta: 0h10m  tot: 0h5m2s  (31.2%)\rEpoch: 56.1%  lr: 0.034194  loss: 0.013556  eta: 0h10m  tot: 0h5m2s  (31.2%)\rEpoch: 56.2%  lr: 0.034184  loss: 0.013569  eta: 0h10m  tot: 0h5m3s  (31.2%)\rEpoch: 56.3%  lr: 0.034184  loss: 0.013571  eta: 0h10m  tot: 0h5m3s  (31.3%)\rEpoch: 56.4%  lr: 0.034184  loss: 0.013569  eta: 0h10m  tot: 0h5m3s  (31.3%)\rEpoch: 56.4%  lr: 0.034164  loss: 0.013562  eta: 0h10m  tot: 0h5m3s  (31.3%)\rEpoch: 56.5%  lr: 0.034154  loss: 0.013558  eta: 0h10m  tot: 0h5m3s  (31.3%)\rEpoch: 56.6%  lr: 0.034134  loss: 0.013544  eta: 0h10m  tot: 0h5m3s  (31.3%)\rEpoch: 56.7%  lr: 0.034114  loss: 0.013530  eta: 0h10m  tot: 0h5m4s  (31.3%)\rEpoch: 56.8%  lr: 0.034104  loss: 0.013543  eta: 0h10m  tot: 0h5m4s  (31.4%)\rEpoch: 56.9%  lr: 0.034104  loss: 0.013550  eta: 0h10m  tot: 0h5m4s  (31.4%)\rEpoch: 57.0%  lr: 0.034094  loss: 0.013551  eta: 0h10m  tot: 0h5m4s  (31.4%)\rEpoch: 57.1%  lr: 0.034094  loss: 0.013547  eta: 0h10m  tot: 0h5m4s  (31.4%)\rEpoch: 57.2%  lr: 0.034084  loss: 0.013544  eta: 0h10m  tot: 0h5m4s  (31.4%)\rEpoch: 57.3%  lr: 0.034074  loss: 0.013536  eta: 0h10m  tot: 0h5m5s  (31.5%)\rEpoch: 57.3%  lr: 0.034044  loss: 0.013534  eta: 0h10m  tot: 0h5m5s  (31.5%)\rEpoch: 57.4%  lr: 0.034044  loss: 0.013539  eta: 0h10m  tot: 0h5m5s  (31.5%)\rEpoch: 57.5%  lr: 0.034044  loss: 0.013544  eta: 0h10m  tot: 0h5m5s  (31.5%)\rEpoch: 57.6%  lr: 0.034034  loss: 0.013531  eta: 0h10m  tot: 0h5m5s  (31.5%)\rEpoch: 57.7%  lr: 0.034024  loss: 0.013541  eta: 0h10m  tot: 0h5m5s  (31.5%)\rEpoch: 57.8%  lr: 0.034014  loss: 0.013548  eta: 0h10m  tot: 0h5m6s  (31.6%)\rEpoch: 57.9%  lr: 0.034014  loss: 0.013552  eta: 0h10m  tot: 0h5m6s  (31.6%)\rEpoch: 58.0%  lr: 0.034004  loss: 0.013539  eta: 0h10m  tot: 0h5m6s  (31.6%)\rEpoch: 58.1%  lr: 0.034004  loss: 0.013569  eta: 0h10m  tot: 0h5m6s  (31.6%)\rEpoch: 58.2%  lr: 0.034004  loss: 0.013561  eta: 0h10m  tot: 0h5m6s  (31.6%)\rEpoch: 58.2%  lr: 0.033994  loss: 0.013560  eta: 0h10m  tot: 0h5m6s  (31.6%)\rEpoch: 58.3%  lr: 0.033984  loss: 0.013558  eta: 0h10m  tot: 0h5m7s  (31.7%)\rEpoch: 58.4%  lr: 0.033974  loss: 0.013560  eta: 0h10m  tot: 0h5m7s  (31.7%)\rEpoch: 58.5%  lr: 0.033974  loss: 0.013559  eta: 0h10m  tot: 0h5m7s  (31.7%)\rEpoch: 58.6%  lr: 0.033944  loss: 0.013546  eta: 0h10m  tot: 0h5m7s  (31.7%)\rEpoch: 58.7%  lr: 0.033934  loss: 0.013536  eta: 0h10m  tot: 0h5m7s  (31.7%)\rEpoch: 58.8%  lr: 0.033924  loss: 0.013535  eta: 0h10m  tot: 0h5m7s  (31.8%)\rEpoch: 58.9%  lr: 0.033924  loss: 0.013530  eta: 0h10m  tot: 0h5m8s  (31.8%)\rEpoch: 59.0%  lr: 0.033914  loss: 0.013527  eta: 0h10m  tot: 0h5m8s  (31.8%)\rEpoch: 59.1%  lr: 0.033904  loss: 0.013530  eta: 0h10m  tot: 0h5m8s  (31.8%)\rEpoch: 59.1%  lr: 0.033894  loss: 0.013520  eta: 0h10m  tot: 0h5m8s  (31.8%)\rEpoch: 59.2%  lr: 0.033894  loss: 0.013511  eta: 0h10m  tot: 0h5m8s  (31.8%)\rEpoch: 59.3%  lr: 0.033874  loss: 0.013501  eta: 0h10m  tot: 0h5m8s  (31.9%)\rEpoch: 59.4%  lr: 0.033874  loss: 0.013493  eta: 0h10m  tot: 0h5m9s  (31.9%)\rEpoch: 59.5%  lr: 0.033854  loss: 0.013480  eta: 0h10m  tot: 0h5m9s  (31.9%)\rEpoch: 59.6%  lr: 0.033854  loss: 0.013498  eta: 0h10m  tot: 0h5m9s  (31.9%)\rEpoch: 59.7%  lr: 0.033844  loss: 0.013517  eta: 0h10m  tot: 0h5m9s  (31.9%)\rEpoch: 59.8%  lr: 0.033834  loss: 0.013514  eta: 0h10m  tot: 0h5m9s  (32.0%)\rEpoch: 59.9%  lr: 0.033834  loss: 0.013535  eta: 0h10m  tot: 0h5m9s  (32.0%)\rEpoch: 60.0%  lr: 0.033824  loss: 0.013538  eta: 0h10m  tot: 0h5m10s  (32.0%)\rEpoch: 60.0%  lr: 0.033814  loss: 0.013535  eta: 0h10m  tot: 0h5m10s  (32.0%)\rEpoch: 60.1%  lr: 0.033794  loss: 0.013529  eta: 0h10m  tot: 0h5m10s  (32.0%)\rEpoch: 60.2%  lr: 0.033784  loss: 0.013520  eta: 0h10m  tot: 0h5m10s  (32.0%)\rEpoch: 60.3%  lr: 0.033784  loss: 0.013523  eta: 0h10m  tot: 0h5m10s  (32.1%)\rEpoch: 60.4%  lr: 0.033754  loss: 0.013511  eta: 0h10m  tot: 0h5m10s  (32.1%)\rEpoch: 60.5%  lr: 0.033754  loss: 0.013512  eta: 0h10m  tot: 0h5m11s  (32.1%)\rEpoch: 60.6%  lr: 0.033754  loss: 0.013505  eta: 0h10m  tot: 0h5m11s  (32.1%)\rEpoch: 60.7%  lr: 0.033734  loss: 0.013498  eta: 0h10m  tot: 0h5m11s  (32.1%)\rEpoch: 60.8%  lr: 0.033734  loss: 0.013490  eta: 0h10m  tot: 0h5m11s  (32.2%)\rEpoch: 60.9%  lr: 0.033734  loss: 0.013487  eta: 0h10m  tot: 0h5m11s  (32.2%)\rEpoch: 60.9%  lr: 0.033734  loss: 0.013478  eta: 0h10m  tot: 0h5m11s  (32.2%)\rEpoch: 61.0%  lr: 0.033724  loss: 0.013487  eta: 0h10m  tot: 0h5m12s  (32.2%)\rEpoch: 61.1%  lr: 0.033724  loss: 0.013485  eta: 0h10m  tot: 0h5m12s  (32.2%)\rEpoch: 61.2%  lr: 0.033704  loss: 0.013472  eta: 0h10m  tot: 0h5m12s  (32.2%)\rEpoch: 61.3%  lr: 0.033684  loss: 0.013473  eta: 0h10m  tot: 0h5m12s  (32.3%)\rEpoch: 61.4%  lr: 0.033674  loss: 0.013469  eta: 0h10m  tot: 0h5m12s  (32.3%)\rEpoch: 61.5%  lr: 0.033664  loss: 0.013469  eta: 0h10m  tot: 0h5m12s  (32.3%)\rEpoch: 61.6%  lr: 0.033644  loss: 0.013467  eta: 0h10m  tot: 0h5m13s  (32.3%)\rEpoch: 61.7%  lr: 0.033634  loss: 0.013460  eta: 0h10m  tot: 0h5m13s  (32.3%)\rEpoch: 61.8%  lr: 0.033614  loss: 0.013450  eta: 0h10m  tot: 0h5m13s  (32.4%)\rEpoch: 61.8%  lr: 0.033584  loss: 0.013449  eta: 0h10m  tot: 0h5m13s  (32.4%)\rEpoch: 61.9%  lr: 0.033584  loss: 0.013461  eta: 0h10m  tot: 0h5m13s  (32.4%)\rEpoch: 62.0%  lr: 0.033554  loss: 0.013454  eta: 0h10m  tot: 0h5m13s  (32.4%)\rEpoch: 62.1%  lr: 0.033554  loss: 0.013445  eta: 0h10m  tot: 0h5m13s  (32.4%)\rEpoch: 62.2%  lr: 0.033554  loss: 0.013434  eta: 0h10m  tot: 0h5m14s  (32.4%)\rEpoch: 62.3%  lr: 0.033534  loss: 0.013419  eta: 0h10m  tot: 0h5m14s  (32.5%)\rEpoch: 62.4%  lr: 0.033534  loss: 0.013434  eta: 0h10m  tot: 0h5m14s  (32.5%)\rEpoch: 62.5%  lr: 0.033514  loss: 0.013426  eta: 0h10m  tot: 0h5m14s  (32.5%)\rEpoch: 62.6%  lr: 0.033494  loss: 0.013422  eta: 0h10m  tot: 0h5m14s  (32.5%)\rEpoch: 62.7%  lr: 0.033474  loss: 0.013430  eta: 0h10m  tot: 0h5m14s  (32.5%)\rEpoch: 62.7%  lr: 0.033474  loss: 0.013458  eta: 0h10m  tot: 0h5m15s  (32.5%)\rEpoch: 62.8%  lr: 0.033454  loss: 0.013456  eta: 0h10m  tot: 0h5m15s  (32.6%)\rEpoch: 62.9%  lr: 0.033444  loss: 0.013447  eta: 0h10m  tot: 0h5m15s  (32.6%)\rEpoch: 63.0%  lr: 0.033434  loss: 0.013444  eta: 0h10m  tot: 0h5m15s  (32.6%)\rEpoch: 63.1%  lr: 0.033434  loss: 0.013438  eta: 0h10m  tot: 0h5m15s  (32.6%)\rEpoch: 63.2%  lr: 0.033424  loss: 0.013451  eta: 0h10m  tot: 0h5m15s  (32.6%)\rEpoch: 63.3%  lr: 0.033424  loss: 0.013453  eta: 0h10m  tot: 0h5m16s  (32.7%)\rEpoch: 63.4%  lr: 0.033414  loss: 0.013447  eta: 0h10m  tot: 0h5m16s  (32.7%)\rEpoch: 63.5%  lr: 0.033404  loss: 0.013445  eta: 0h10m  tot: 0h5m16s  (32.7%)\rEpoch: 63.6%  lr: 0.033393  loss: 0.013444  eta: 0h10m  tot: 0h5m16s  (32.7%)\rEpoch: 63.6%  lr: 0.033393  loss: 0.013444  eta: 0h10m  tot: 0h5m16s  (32.7%)\rEpoch: 63.7%  lr: 0.033393  loss: 0.013439  eta: 0h10m  tot: 0h5m16s  (32.7%)\rEpoch: 63.8%  lr: 0.033393  loss: 0.013440  eta: 0h10m  tot: 0h5m17s  (32.8%)\rEpoch: 63.9%  lr: 0.033383  loss: 0.013454  eta: 0h10m  tot: 0h5m17s  (32.8%)\rEpoch: 64.0%  lr: 0.033383  loss: 0.013445  eta: 0h10m  tot: 0h5m17s  (32.8%)\rEpoch: 64.1%  lr: 0.033373  loss: 0.013442  eta: 0h10m  tot: 0h5m17s  (32.8%)\rEpoch: 64.2%  lr: 0.033373  loss: 0.013440  eta: 0h10m  tot: 0h5m17s  (32.8%)\rEpoch: 64.3%  lr: 0.033363  loss: 0.013449  eta: 0h10m  tot: 0h5m17s  (32.9%)\rEpoch: 64.4%  lr: 0.033363  loss: 0.013449  eta: 0h10m  tot: 0h5m18s  (32.9%)\rEpoch: 64.5%  lr: 0.033353  loss: 0.013458  eta: 0h10m  tot: 0h5m18s  (32.9%)\rEpoch: 64.5%  lr: 0.033343  loss: 0.013453  eta: 0h10m  tot: 0h5m18s  (32.9%)\rEpoch: 64.6%  lr: 0.033323  loss: 0.013461  eta: 0h10m  tot: 0h5m18s  (32.9%)\rEpoch: 64.7%  lr: 0.033313  loss: 0.013446  eta: 0h10m  tot: 0h5m18s  (32.9%)\rEpoch: 64.8%  lr: 0.033313  loss: 0.013445  eta: 0h10m  tot: 0h5m18s  (33.0%)\rEpoch: 64.9%  lr: 0.033283  loss: 0.013445  eta: 0h10m  tot: 0h5m19s  (33.0%)\rEpoch: 65.0%  lr: 0.033283  loss: 0.013453  eta: 0h10m  tot: 0h5m19s  (33.0%)\rEpoch: 65.1%  lr: 0.033273  loss: 0.013449  eta: 0h10m  tot: 0h5m19s  (33.0%)\rEpoch: 65.2%  lr: 0.033253  loss: 0.013441  eta: 0h10m  tot: 0h5m19s  (33.0%)\rEpoch: 65.3%  lr: 0.033253  loss: 0.013436  eta: 0h10m  tot: 0h5m19s  (33.1%)\rEpoch: 65.4%  lr: 0.033233  loss: 0.013433  eta: 0h10m  tot: 0h5m19s  (33.1%)\rEpoch: 65.4%  lr: 0.033223  loss: 0.013435  eta: 0h10m  tot: 0h5m20s  (33.1%)\rEpoch: 65.5%  lr: 0.033223  loss: 0.013440  eta: 0h10m  tot: 0h5m20s  (33.1%)\rEpoch: 65.6%  lr: 0.033203  loss: 0.013440  eta: 0h10m  tot: 0h5m20s  (33.1%)\rEpoch: 65.7%  lr: 0.033203  loss: 0.013446  eta: 0h10m  tot: 0h5m20s  (33.1%)\rEpoch: 65.8%  lr: 0.033173  loss: 0.013443  eta: 0h10m  tot: 0h5m20s  (33.2%)\rEpoch: 65.9%  lr: 0.033173  loss: 0.013434  eta: 0h10m  tot: 0h5m20s  (33.2%)\rEpoch: 66.0%  lr: 0.033163  loss: 0.013432  eta: 0h10m  tot: 0h5m21s  (33.2%)\rEpoch: 66.1%  lr: 0.033163  loss: 0.013440  eta: 0h10m  tot: 0h5m21s  (33.2%)\rEpoch: 66.2%  lr: 0.033153  loss: 0.013446  eta: 0h10m  tot: 0h5m21s  (33.2%)\rEpoch: 66.3%  lr: 0.033143  loss: 0.013455  eta: 0h10m  tot: 0h5m21s  (33.3%)\rEpoch: 66.3%  lr: 0.033143  loss: 0.013442  eta: 0h10m  tot: 0h5m21s  (33.3%)\rEpoch: 66.4%  lr: 0.033133  loss: 0.013435  eta: 0h10m  tot: 0h5m21s  (33.3%)\rEpoch: 66.5%  lr: 0.033113  loss: 0.013451  eta: 0h10m  tot: 0h5m22s  (33.3%)\rEpoch: 66.6%  lr: 0.033103  loss: 0.013441  eta: 0h10m  tot: 0h5m22s  (33.3%)\rEpoch: 66.7%  lr: 0.033103  loss: 0.013444  eta: 0h10m  tot: 0h5m22s  (33.3%)\rEpoch: 66.8%  lr: 0.033103  loss: 0.013440  eta: 0h10m  tot: 0h5m22s  (33.4%)\rEpoch: 66.9%  lr: 0.033093  loss: 0.013442  eta: 0h10m  tot: 0h5m22s  (33.4%)\rEpoch: 67.0%  lr: 0.033093  loss: 0.013446  eta: 0h10m  tot: 0h5m22s  (33.4%)\rEpoch: 67.1%  lr: 0.033073  loss: 0.013435  eta: 0h10m  tot: 0h5m23s  (33.4%)\rEpoch: 67.2%  lr: 0.033063  loss: 0.013442  eta: 0h10m  tot: 0h5m23s  (33.4%)\rEpoch: 67.2%  lr: 0.033063  loss: 0.013435  eta: 0h10m  tot: 0h5m23s  (33.4%)\rEpoch: 67.3%  lr: 0.033053  loss: 0.013433  eta: 0h10m  tot: 0h5m23s  (33.5%)\rEpoch: 67.4%  lr: 0.033053  loss: 0.013422  eta: 0h10m  tot: 0h5m23s  (33.5%)\rEpoch: 67.5%  lr: 0.033053  loss: 0.013415  eta: 0h10m  tot: 0h5m23s  (33.5%)\rEpoch: 67.6%  lr: 0.033043  loss: 0.013421  eta: 0h10m  tot: 0h5m24s  (33.5%)\rEpoch: 67.7%  lr: 0.033043  loss: 0.013429  eta: 0h10m  tot: 0h5m24s  (33.5%)\rEpoch: 67.8%  lr: 0.033033  loss: 0.013437  eta: 0h10m  tot: 0h5m24s  (33.6%)\rEpoch: 67.9%  lr: 0.033023  loss: 0.013448  eta: 0h10m  tot: 0h5m24s  (33.6%)\rEpoch: 68.0%  lr: 0.033023  loss: 0.013463  eta: 0h10m  tot: 0h5m24s  (33.6%)\rEpoch: 68.1%  lr: 0.033023  loss: 0.013479  eta: 0h10m  tot: 0h5m24s  (33.6%)\rEpoch: 68.1%  lr: 0.033013  loss: 0.013478  eta: 0h10m  tot: 0h5m25s  (33.6%)\rEpoch: 68.2%  lr: 0.033013  loss: 0.013481  eta: 0h10m  tot: 0h5m25s  (33.6%)\rEpoch: 68.3%  lr: 0.033013  loss: 0.013478  eta: 0h10m  tot: 0h5m25s  (33.7%)\rEpoch: 68.4%  lr: 0.033003  loss: 0.013485  eta: 0h10m  tot: 0h5m25s  (33.7%)\rEpoch: 68.5%  lr: 0.032983  loss: 0.013480  eta: 0h10m  tot: 0h5m25s  (33.7%)\rEpoch: 68.6%  lr: 0.032983  loss: 0.013481  eta: 0h10m  tot: 0h5m25s  (33.7%)\rEpoch: 68.7%  lr: 0.032973  loss: 0.013496  eta: 0h10m  tot: 0h5m26s  (33.7%)\rEpoch: 68.8%  lr: 0.032973  loss: 0.013490  eta: 0h10m  tot: 0h5m26s  (33.8%)\rEpoch: 68.9%  lr: 0.032963  loss: 0.013486  eta: 0h10m  tot: 0h5m26s  (33.8%)\rEpoch: 69.0%  lr: 0.032953  loss: 0.013474  eta: 0h10m  tot: 0h5m26s  (33.8%)\rEpoch: 69.0%  lr: 0.032943  loss: 0.013473  eta: 0h10m  tot: 0h5m26s  (33.8%)\rEpoch: 69.1%  lr: 0.032933  loss: 0.013467  eta: 0h10m  tot: 0h5m26s  (33.8%)\rEpoch: 69.2%  lr: 0.032923  loss: 0.013465  eta: 0h10m  tot: 0h5m27s  (33.8%)\rEpoch: 69.3%  lr: 0.032913  loss: 0.013475  eta: 0h10m  tot: 0h5m27s  (33.9%)\rEpoch: 69.4%  lr: 0.032913  loss: 0.013470  eta: 0h10m  tot: 0h5m27s  (33.9%)\rEpoch: 69.5%  lr: 0.032903  loss: 0.013469  eta: 0h10m  tot: 0h5m27s  (33.9%)\rEpoch: 69.6%  lr: 0.032903  loss: 0.013467  eta: 0h10m  tot: 0h5m27s  (33.9%)\rEpoch: 69.7%  lr: 0.032903  loss: 0.013460  eta: 0h10m  tot: 0h5m27s  (33.9%)\rEpoch: 69.8%  lr: 0.032893  loss: 0.013470  eta: 0h10m  tot: 0h5m28s  (34.0%)\rEpoch: 69.9%  lr: 0.032893  loss: 0.013473  eta: 0h10m  tot: 0h5m28s  (34.0%)\rEpoch: 69.9%  lr: 0.032863  loss: 0.013463  eta: 0h10m  tot: 0h5m28s  (34.0%)\rEpoch: 70.0%  lr: 0.032863  loss: 0.013459  eta: 0h10m  tot: 0h5m28s  (34.0%)\rEpoch: 70.1%  lr: 0.032853  loss: 0.013447  eta: 0h10m  tot: 0h5m28s  (34.0%)\rEpoch: 70.2%  lr: 0.032823  loss: 0.013435  eta: 0h10m  tot: 0h5m28s  (34.0%)\rEpoch: 70.3%  lr: 0.032823  loss: 0.013429  eta: 0h10m  tot: 0h5m28s  (34.1%)\rEpoch: 70.4%  lr: 0.032813  loss: 0.013433  eta: 0h10m  tot: 0h5m29s  (34.1%)\rEpoch: 70.5%  lr: 0.032783  loss: 0.013426  eta: 0h10m  tot: 0h5m29s  (34.1%)\rEpoch: 70.6%  lr: 0.032773  loss: 0.013429  eta: 0h10m  tot: 0h5m29s  (34.1%)\rEpoch: 70.7%  lr: 0.032763  loss: 0.013420  eta: 0h10m  tot: 0h5m29s  (34.1%)\rEpoch: 70.8%  lr: 0.032763  loss: 0.013414  eta: 0h10m  tot: 0h5m29s  (34.2%)\rEpoch: 70.8%  lr: 0.032753  loss: 0.013410  eta: 0h10m  tot: 0h5m29s  (34.2%)\rEpoch: 70.9%  lr: 0.032743  loss: 0.013414  eta: 0h10m  tot: 0h5m30s  (34.2%)\rEpoch: 71.0%  lr: 0.032713  loss: 0.013403  eta: 0h10m  tot: 0h5m30s  (34.2%)\rEpoch: 71.1%  lr: 0.032713  loss: 0.013402  eta: 0h10m  tot: 0h5m30s  (34.2%)\rEpoch: 71.2%  lr: 0.032713  loss: 0.013391  eta: 0h10m  tot: 0h5m30s  (34.2%)\rEpoch: 71.3%  lr: 0.032713  loss: 0.013400  eta: 0h9m  tot: 0h5m30s  (34.3%)\rEpoch: 71.4%  lr: 0.032713  loss: 0.013407  eta: 0h9m  tot: 0h5m30s  (34.3%)\rEpoch: 71.5%  lr: 0.032703  loss: 0.013405  eta: 0h9m  tot: 0h5m31s  (34.3%)\rEpoch: 71.6%  lr: 0.032703  loss: 0.013398  eta: 0h9m  tot: 0h5m31s  (34.3%)\rEpoch: 71.7%  lr: 0.032683  loss: 0.013405  eta: 0h9m  tot: 0h5m31s  (34.3%)\rEpoch: 71.7%  lr: 0.032683  loss: 0.013411  eta: 0h9m  tot: 0h5m31s  (34.3%)\rEpoch: 71.8%  lr: 0.032673  loss: 0.013404  eta: 0h9m  tot: 0h5m31s  (34.4%)\rEpoch: 71.9%  lr: 0.032653  loss: 0.013406  eta: 0h9m  tot: 0h5m31s  (34.4%)\rEpoch: 72.0%  lr: 0.032653  loss: 0.013399  eta: 0h9m  tot: 0h5m32s  (34.4%)\rEpoch: 72.1%  lr: 0.032643  loss: 0.013399  eta: 0h9m  tot: 0h5m32s  (34.4%)\rEpoch: 72.2%  lr: 0.032623  loss: 0.013407  eta: 0h9m  tot: 0h5m32s  (34.4%)\rEpoch: 72.3%  lr: 0.032593  loss: 0.013432  eta: 0h9m  tot: 0h5m32s  (34.5%)\rEpoch: 72.4%  lr: 0.032593  loss: 0.013439  eta: 0h9m  tot: 0h5m32s  (34.5%)\rEpoch: 72.5%  lr: 0.032593  loss: 0.013434  eta: 0h9m  tot: 0h5m32s  (34.5%)\rEpoch: 72.6%  lr: 0.032593  loss: 0.013428  eta: 0h9m  tot: 0h5m33s  (34.5%)\rEpoch: 72.6%  lr: 0.032593  loss: 0.013428  eta: 0h9m  tot: 0h5m33s  (34.5%)\rEpoch: 72.7%  lr: 0.032573  loss: 0.013419  eta: 0h9m  tot: 0h5m33s  (34.5%)\rEpoch: 72.8%  lr: 0.032563  loss: 0.013424  eta: 0h9m  tot: 0h5m33s  (34.6%)\rEpoch: 72.9%  lr: 0.032543  loss: 0.013419  eta: 0h9m  tot: 0h5m33s  (34.6%)\rEpoch: 73.0%  lr: 0.032543  loss: 0.013428  eta: 0h9m  tot: 0h5m33s  (34.6%)\rEpoch: 73.1%  lr: 0.032523  loss: 0.013432  eta: 0h9m  tot: 0h5m33s  (34.6%)\rEpoch: 73.2%  lr: 0.032513  loss: 0.013439  eta: 0h9m  tot: 0h5m34s  (34.6%)\rEpoch: 73.3%  lr: 0.032513  loss: 0.013440  eta: 0h9m  tot: 0h5m34s  (34.7%)\rEpoch: 73.4%  lr: 0.032513  loss: 0.013432  eta: 0h9m  tot: 0h5m34s  (34.7%)\rEpoch: 73.5%  lr: 0.032513  loss: 0.013420  eta: 0h9m  tot: 0h5m34s  (34.7%)\rEpoch: 73.5%  lr: 0.032513  loss: 0.013414  eta: 0h9m  tot: 0h5m34s  (34.7%)\rEpoch: 73.6%  lr: 0.032493  loss: 0.013419  eta: 0h9m  tot: 0h5m34s  (34.7%)\rEpoch: 73.7%  lr: 0.032493  loss: 0.013422  eta: 0h9m  tot: 0h5m35s  (34.7%)\rEpoch: 73.8%  lr: 0.032483  loss: 0.013437  eta: 0h9m  tot: 0h5m35s  (34.8%)\rEpoch: 73.9%  lr: 0.032483  loss: 0.013430  eta: 0h9m  tot: 0h5m35s  (34.8%)\rEpoch: 74.0%  lr: 0.032473  loss: 0.013424  eta: 0h9m  tot: 0h5m35s  (34.8%)\rEpoch: 74.1%  lr: 0.032463  loss: 0.013430  eta: 0h9m  tot: 0h5m35s  (34.8%)\rEpoch: 74.2%  lr: 0.032463  loss: 0.013426  eta: 0h9m  tot: 0h5m35s  (34.8%)\rEpoch: 74.3%  lr: 0.032453  loss: 0.013430  eta: 0h9m  tot: 0h5m36s  (34.9%)\rEpoch: 74.4%  lr: 0.032433  loss: 0.013426  eta: 0h9m  tot: 0h5m36s  (34.9%)\rEpoch: 74.4%  lr: 0.032423  loss: 0.013416  eta: 0h9m  tot: 0h5m36s  (34.9%)\rEpoch: 74.5%  lr: 0.032413  loss: 0.013403  eta: 0h9m  tot: 0h5m36s  (34.9%)\rEpoch: 74.6%  lr: 0.032413  loss: 0.013404  eta: 0h9m  tot: 0h5m36s  (34.9%)\rEpoch: 74.7%  lr: 0.032413  loss: 0.013394  eta: 0h9m  tot: 0h5m36s  (34.9%)\rEpoch: 74.8%  lr: 0.032403  loss: 0.013387  eta: 0h9m  tot: 0h5m37s  (35.0%)\rEpoch: 74.9%  lr: 0.032393  loss: 0.013380  eta: 0h9m  tot: 0h5m37s  (35.0%)\rEpoch: 75.0%  lr: 0.032362  loss: 0.013395  eta: 0h9m  tot: 0h5m37s  (35.0%)\rEpoch: 75.1%  lr: 0.032332  loss: 0.013399  eta: 0h9m  tot: 0h5m37s  (35.0%)\rEpoch: 75.2%  lr: 0.032322  loss: 0.013392  eta: 0h9m  tot: 0h5m37s  (35.0%)\rEpoch: 75.3%  lr: 0.032322  loss: 0.013382  eta: 0h9m  tot: 0h5m37s  (35.1%)\rEpoch: 75.3%  lr: 0.032312  loss: 0.013385  eta: 0h9m  tot: 0h5m38s  (35.1%)\rEpoch: 75.4%  lr: 0.032312  loss: 0.013381  eta: 0h9m  tot: 0h5m38s  (35.1%)\rEpoch: 75.5%  lr: 0.032302  loss: 0.013386  eta: 0h9m  tot: 0h5m38s  (35.1%)\rEpoch: 75.6%  lr: 0.032302  loss: 0.013381  eta: 0h9m  tot: 0h5m38s  (35.1%)\rEpoch: 75.7%  lr: 0.032272  loss: 0.013373  eta: 0h9m  tot: 0h5m38s  (35.1%)\rEpoch: 75.8%  lr: 0.032272  loss: 0.013373  eta: 0h9m  tot: 0h5m38s  (35.2%)\rEpoch: 75.9%  lr: 0.032272  loss: 0.013380  eta: 0h9m  tot: 0h5m39s  (35.2%)\rEpoch: 76.0%  lr: 0.032262  loss: 0.013377  eta: 0h9m  tot: 0h5m39s  (35.2%)\rEpoch: 76.1%  lr: 0.032262  loss: 0.013379  eta: 0h9m  tot: 0h5m39s  (35.2%)\rEpoch: 76.2%  lr: 0.032262  loss: 0.013381  eta: 0h9m  tot: 0h5m39s  (35.2%)\rEpoch: 76.2%  lr: 0.032242  loss: 0.013380  eta: 0h9m  tot: 0h5m39s  (35.2%)\rEpoch: 76.3%  lr: 0.032222  loss: 0.013377  eta: 0h9m  tot: 0h5m39s  (35.3%)\rEpoch: 76.4%  lr: 0.032222  loss: 0.013370  eta: 0h9m  tot: 0h5m39s  (35.3%)\rEpoch: 76.5%  lr: 0.032222  loss: 0.013368  eta: 0h9m  tot: 0h5m40s  (35.3%)\rEpoch: 76.6%  lr: 0.032212  loss: 0.013364  eta: 0h9m  tot: 0h5m40s  (35.3%)\rEpoch: 76.7%  lr: 0.032202  loss: 0.013360  eta: 0h9m  tot: 0h5m40s  (35.3%)\rEpoch: 76.8%  lr: 0.032192  loss: 0.013358  eta: 0h9m  tot: 0h5m40s  (35.4%)\rEpoch: 76.9%  lr: 0.032182  loss: 0.013357  eta: 0h9m  tot: 0h5m40s  (35.4%)\rEpoch: 77.0%  lr: 0.032182  loss: 0.013351  eta: 0h9m  tot: 0h5m40s  (35.4%)\rEpoch: 77.1%  lr: 0.032182  loss: 0.013348  eta: 0h9m  tot: 0h5m41s  (35.4%)\rEpoch: 77.1%  lr: 0.032172  loss: 0.013367  eta: 0h9m  tot: 0h5m41s  (35.4%)\rEpoch: 77.2%  lr: 0.032162  loss: 0.013368  eta: 0h9m  tot: 0h5m41s  (35.4%)\rEpoch: 77.3%  lr: 0.032142  loss: 0.013371  eta: 0h9m  tot: 0h5m41s  (35.5%)\rEpoch: 77.4%  lr: 0.032142  loss: 0.013374  eta: 0h9m  tot: 0h5m41s  (35.5%)\rEpoch: 77.5%  lr: 0.032142  loss: 0.013365  eta: 0h9m  tot: 0h5m41s  (35.5%)\rEpoch: 77.6%  lr: 0.032122  loss: 0.013369  eta: 0h9m  tot: 0h5m42s  (35.5%)\rEpoch: 77.7%  lr: 0.032122  loss: 0.013367  eta: 0h9m  tot: 0h5m42s  (35.5%)\rEpoch: 77.8%  lr: 0.032122  loss: 0.013362  eta: 0h9m  tot: 0h5m42s  (35.6%)\rEpoch: 77.9%  lr: 0.032122  loss: 0.013358  eta: 0h9m  tot: 0h5m42s  (35.6%)\rEpoch: 78.0%  lr: 0.032122  loss: 0.013346  eta: 0h9m  tot: 0h5m42s  (35.6%)\rEpoch: 78.0%  lr: 0.032122  loss: 0.013344  eta: 0h9m  tot: 0h5m42s  (35.6%)\rEpoch: 78.1%  lr: 0.032112  loss: 0.013350  eta: 0h9m  tot: 0h5m43s  (35.6%)\rEpoch: 78.2%  lr: 0.032112  loss: 0.013354  eta: 0h9m  tot: 0h5m43s  (35.6%)\rEpoch: 78.3%  lr: 0.032102  loss: 0.013356  eta: 0h9m  tot: 0h5m43s  (35.7%)\rEpoch: 78.4%  lr: 0.032082  loss: 0.013361  eta: 0h9m  tot: 0h5m43s  (35.7%)\rEpoch: 78.5%  lr: 0.032082  loss: 0.013365  eta: 0h9m  tot: 0h5m43s  (35.7%)\rEpoch: 78.6%  lr: 0.032072  loss: 0.013369  eta: 0h9m  tot: 0h5m43s  (35.7%)\rEpoch: 78.7%  lr: 0.032072  loss: 0.013367  eta: 0h9m  tot: 0h5m44s  (35.7%)\rEpoch: 78.8%  lr: 0.032062  loss: 0.013371  eta: 0h9m  tot: 0h5m44s  (35.8%)\rEpoch: 78.9%  lr: 0.032062  loss: 0.013369  eta: 0h9m  tot: 0h5m44s  (35.8%)\rEpoch: 78.9%  lr: 0.032052  loss: 0.013380  eta: 0h9m  tot: 0h5m44s  (35.8%)\rEpoch: 79.0%  lr: 0.032042  loss: 0.013382  eta: 0h9m  tot: 0h5m44s  (35.8%)\rEpoch: 79.1%  lr: 0.032042  loss: 0.013372  eta: 0h9m  tot: 0h5m44s  (35.8%)\rEpoch: 79.2%  lr: 0.032042  loss: 0.013372  eta: 0h9m  tot: 0h5m44s  (35.8%)\rEpoch: 79.3%  lr: 0.032032  loss: 0.013375  eta: 0h9m  tot: 0h5m45s  (35.9%)\rEpoch: 79.4%  lr: 0.032032  loss: 0.013381  eta: 0h9m  tot: 0h5m45s  (35.9%)\rEpoch: 79.5%  lr: 0.032002  loss: 0.013386  eta: 0h9m  tot: 0h5m45s  (35.9%)\rEpoch: 79.6%  lr: 0.031992  loss: 0.013382  eta: 0h9m  tot: 0h5m45s  (35.9%)\rEpoch: 79.7%  lr: 0.031992  loss: 0.013392  eta: 0h9m  tot: 0h5m45s  (35.9%)\rEpoch: 79.8%  lr: 0.031972  loss: 0.013384  eta: 0h9m  tot: 0h5m45s  (36.0%)\rEpoch: 79.9%  lr: 0.031962  loss: 0.013372  eta: 0h9m  tot: 0h5m46s  (36.0%)\rEpoch: 79.9%  lr: 0.031962  loss: 0.013381  eta: 0h9m  tot: 0h5m46s  (36.0%)\rEpoch: 80.0%  lr: 0.031952  loss: 0.013375  eta: 0h9m  tot: 0h5m46s  (36.0%)\rEpoch: 80.1%  lr: 0.031952  loss: 0.013375  eta: 0h9m  tot: 0h5m46s  (36.0%)\rEpoch: 80.2%  lr: 0.031942  loss: 0.013394  eta: 0h9m  tot: 0h5m46s  (36.0%)\rEpoch: 80.3%  lr: 0.031932  loss: 0.013394  eta: 0h9m  tot: 0h5m46s  (36.1%)\rEpoch: 80.4%  lr: 0.031932  loss: 0.013398  eta: 0h9m  tot: 0h5m47s  (36.1%)\rEpoch: 80.5%  lr: 0.031932  loss: 0.013397  eta: 0h9m  tot: 0h5m47s  (36.1%)\rEpoch: 80.6%  lr: 0.031932  loss: 0.013394  eta: 0h9m  tot: 0h5m47s  (36.1%)\rEpoch: 80.7%  lr: 0.031922  loss: 0.013393  eta: 0h9m  tot: 0h5m47s  (36.1%)\rEpoch: 80.8%  lr: 0.031912  loss: 0.013398  eta: 0h9m  tot: 0h5m47s  (36.2%)\rEpoch: 80.8%  lr: 0.031912  loss: 0.013397  eta: 0h9m  tot: 0h5m47s  (36.2%)\rEpoch: 80.9%  lr: 0.031892  loss: 0.013395  eta: 0h9m  tot: 0h5m48s  (36.2%)\rEpoch: 81.0%  lr: 0.031882  loss: 0.013398  eta: 0h9m  tot: 0h5m48s  (36.2%)\rEpoch: 81.1%  lr: 0.031882  loss: 0.013402  eta: 0h9m  tot: 0h5m48s  (36.2%)\rEpoch: 81.2%  lr: 0.031882  loss: 0.013413  eta: 0h9m  tot: 0h5m48s  (36.2%)\rEpoch: 81.3%  lr: 0.031882  loss: 0.013417  eta: 0h9m  tot: 0h5m48s  (36.3%)\rEpoch: 81.4%  lr: 0.031882  loss: 0.013407  eta: 0h9m  tot: 0h5m48s  (36.3%)\rEpoch: 81.5%  lr: 0.031872  loss: 0.013417  eta: 0h9m  tot: 0h5m49s  (36.3%)\rEpoch: 81.6%  lr: 0.031862  loss: 0.013413  eta: 0h9m  tot: 0h5m49s  (36.3%)\rEpoch: 81.7%  lr: 0.031842  loss: 0.013410  eta: 0h9m  tot: 0h5m49s  (36.3%)\rEpoch: 81.7%  lr: 0.031812  loss: 0.013414  eta: 0h9m  tot: 0h5m49s  (36.3%)\rEpoch: 81.8%  lr: 0.031812  loss: 0.013409  eta: 0h9m  tot: 0h5m49s  (36.4%)\rEpoch: 81.9%  lr: 0.031802  loss: 0.013405  eta: 0h9m  tot: 0h5m49s  (36.4%)\rEpoch: 82.0%  lr: 0.031802  loss: 0.013412  eta: 0h9m  tot: 0h5m50s  (36.4%)\rEpoch: 82.1%  lr: 0.031792  loss: 0.013416  eta: 0h9m  tot: 0h5m50s  (36.4%)\rEpoch: 82.2%  lr: 0.031792  loss: 0.013411  eta: 0h9m  tot: 0h5m50s  (36.4%)\rEpoch: 82.3%  lr: 0.031782  loss: 0.013436  eta: 0h9m  tot: 0h5m50s  (36.5%)\rEpoch: 82.4%  lr: 0.031772  loss: 0.013439  eta: 0h9m  tot: 0h5m50s  (36.5%)\rEpoch: 82.5%  lr: 0.031772  loss: 0.013435  eta: 0h9m  tot: 0h5m50s  (36.5%)\rEpoch: 82.6%  lr: 0.031742  loss: 0.013433  eta: 0h9m  tot: 0h5m50s  (36.5%)\rEpoch: 82.6%  lr: 0.031742  loss: 0.013436  eta: 0h9m  tot: 0h5m51s  (36.5%)\rEpoch: 82.7%  lr: 0.031732  loss: 0.013442  eta: 0h9m  tot: 0h5m51s  (36.5%)\rEpoch: 82.8%  lr: 0.031732  loss: 0.013437  eta: 0h9m  tot: 0h5m51s  (36.6%)\rEpoch: 82.9%  lr: 0.031732  loss: 0.013429  eta: 0h9m  tot: 0h5m51s  (36.6%)\rEpoch: 83.0%  lr: 0.031732  loss: 0.013427  eta: 0h9m  tot: 0h5m51s  (36.6%)\rEpoch: 83.1%  lr: 0.031712  loss: 0.013436  eta: 0h9m  tot: 0h5m51s  (36.6%)\rEpoch: 83.2%  lr: 0.031702  loss: 0.013432  eta: 0h9m  tot: 0h5m52s  (36.6%)\rEpoch: 83.3%  lr: 0.031692  loss: 0.013431  eta: 0h9m  tot: 0h5m52s  (36.7%)\rEpoch: 83.4%  lr: 0.031692  loss: 0.013429  eta: 0h9m  tot: 0h5m52s  (36.7%)\rEpoch: 83.5%  lr: 0.031682  loss: 0.013444  eta: 0h9m  tot: 0h5m52s  (36.7%)\rEpoch: 83.5%  lr: 0.031662  loss: 0.013458  eta: 0h9m  tot: 0h5m52s  (36.7%)\rEpoch: 83.6%  lr: 0.031652  loss: 0.013454  eta: 0h9m  tot: 0h5m52s  (36.7%)\rEpoch: 83.7%  lr: 0.031632  loss: 0.013446  eta: 0h9m  tot: 0h5m53s  (36.7%)\rEpoch: 83.8%  lr: 0.031622  loss: 0.013449  eta: 0h9m  tot: 0h5m53s  (36.8%)\rEpoch: 83.9%  lr: 0.031622  loss: 0.013444  eta: 0h9m  tot: 0h5m53s  (36.8%)\rEpoch: 84.0%  lr: 0.031592  loss: 0.013435  eta: 0h9m  tot: 0h5m53s  (36.8%)\rEpoch: 84.1%  lr: 0.031582  loss: 0.013428  eta: 0h9m  tot: 0h5m53s  (36.8%)\rEpoch: 84.2%  lr: 0.031582  loss: 0.013429  eta: 0h9m  tot: 0h5m53s  (36.8%)\rEpoch: 84.3%  lr: 0.031572  loss: 0.013431  eta: 0h9m  tot: 0h5m54s  (36.9%)\rEpoch: 84.4%  lr: 0.031572  loss: 0.013427  eta: 0h9m  tot: 0h5m54s  (36.9%)\rEpoch: 84.4%  lr: 0.031562  loss: 0.013422  eta: 0h9m  tot: 0h5m54s  (36.9%)\rEpoch: 84.5%  lr: 0.031562  loss: 0.013429  eta: 0h9m  tot: 0h5m54s  (36.9%)\rEpoch: 84.6%  lr: 0.031562  loss: 0.013418  eta: 0h9m  tot: 0h5m54s  (36.9%)\rEpoch: 84.7%  lr: 0.031542  loss: 0.013418  eta: 0h9m  tot: 0h5m54s  (36.9%)\rEpoch: 84.8%  lr: 0.031532  loss: 0.013419  eta: 0h9m  tot: 0h5m55s  (37.0%)\rEpoch: 84.9%  lr: 0.031522  loss: 0.013430  eta: 0h9m  tot: 0h5m55s  (37.0%)\rEpoch: 85.0%  lr: 0.031512  loss: 0.013436  eta: 0h9m  tot: 0h5m55s  (37.0%)\rEpoch: 85.1%  lr: 0.031512  loss: 0.013430  eta: 0h9m  tot: 0h5m55s  (37.0%)\rEpoch: 85.2%  lr: 0.031502  loss: 0.013435  eta: 0h9m  tot: 0h5m55s  (37.0%)\rEpoch: 85.3%  lr: 0.031482  loss: 0.013429  eta: 0h9m  tot: 0h5m55s  (37.1%)\rEpoch: 85.3%  lr: 0.031472  loss: 0.013429  eta: 0h9m  tot: 0h5m56s  (37.1%)\rEpoch: 85.4%  lr: 0.031452  loss: 0.013425  eta: 0h9m  tot: 0h5m56s  (37.1%)\rEpoch: 85.5%  lr: 0.031442  loss: 0.013425  eta: 0h9m  tot: 0h5m56s  (37.1%)\rEpoch: 85.6%  lr: 0.031432  loss: 0.013420  eta: 0h9m  tot: 0h5m56s  (37.1%)\rEpoch: 85.7%  lr: 0.031412  loss: 0.013429  eta: 0h9m  tot: 0h5m56s  (37.1%)\rEpoch: 85.8%  lr: 0.031402  loss: 0.013434  eta: 0h9m  tot: 0h5m56s  (37.2%)\rEpoch: 85.9%  lr: 0.031382  loss: 0.013429  eta: 0h9m  tot: 0h5m57s  (37.2%)\rEpoch: 86.0%  lr: 0.031382  loss: 0.013435  eta: 0h9m  tot: 0h5m57s  (37.2%)\rEpoch: 86.1%  lr: 0.031382  loss: 0.013435  eta: 0h9m  tot: 0h5m57s  (37.2%)\rEpoch: 86.2%  lr: 0.031372  loss: 0.013436  eta: 0h9m  tot: 0h5m57s  (37.2%)\rEpoch: 86.2%  lr: 0.031351  loss: 0.013430  eta: 0h9m  tot: 0h5m57s  (37.2%)\rEpoch: 86.3%  lr: 0.031341  loss: 0.013427  eta: 0h9m  tot: 0h5m57s  (37.3%)\rEpoch: 86.4%  lr: 0.031321  loss: 0.013441  eta: 0h9m  tot: 0h5m58s  (37.3%)\rEpoch: 86.5%  lr: 0.031321  loss: 0.013457  eta: 0h9m  tot: 0h5m58s  (37.3%)\rEpoch: 86.6%  lr: 0.031311  loss: 0.013457  eta: 0h9m  tot: 0h5m58s  (37.3%)\rEpoch: 86.7%  lr: 0.031301  loss: 0.013463  eta: 0h9m  tot: 0h5m58s  (37.3%)\rEpoch: 86.8%  lr: 0.031301  loss: 0.013475  eta: 0h9m  tot: 0h5m58s  (37.4%)\rEpoch: 86.9%  lr: 0.031301  loss: 0.013482  eta: 0h9m  tot: 0h5m58s  (37.4%)\rEpoch: 87.0%  lr: 0.031291  loss: 0.013486  eta: 0h9m  tot: 0h5m59s  (37.4%)\rEpoch: 87.1%  lr: 0.031291  loss: 0.013482  eta: 0h9m  tot: 0h5m59s  (37.4%)\rEpoch: 87.1%  lr: 0.031281  loss: 0.013474  eta: 0h9m  tot: 0h5m59s  (37.4%)\rEpoch: 87.2%  lr: 0.031281  loss: 0.013470  eta: 0h9m  tot: 0h5m59s  (37.4%)\rEpoch: 87.3%  lr: 0.031261  loss: 0.013462  eta: 0h9m  tot: 0h5m59s  (37.5%)\rEpoch: 87.4%  lr: 0.031251  loss: 0.013457  eta: 0h9m  tot: 0h5m59s  (37.5%)\rEpoch: 87.5%  lr: 0.031241  loss: 0.013451  eta: 0h9m  tot: 0h5m59s  (37.5%)\rEpoch: 87.6%  lr: 0.031231  loss: 0.013447  eta: 0h9m  tot: 0h6m0s  (37.5%)\rEpoch: 87.7%  lr: 0.031221  loss: 0.013447  eta: 0h9m  tot: 0h6m0s  (37.5%)\rEpoch: 87.8%  lr: 0.031211  loss: 0.013449  eta: 0h9m  tot: 0h6m0s  (37.6%)\rEpoch: 87.9%  lr: 0.031211  loss: 0.013439  eta: 0h9m  tot: 0h6m0s  (37.6%)\rEpoch: 88.0%  lr: 0.031211  loss: 0.013441  eta: 0h9m  tot: 0h6m0s  (37.6%)\rEpoch: 88.0%  lr: 0.031201  loss: 0.013449  eta: 0h9m  tot: 0h6m0s  (37.6%)\rEpoch: 88.1%  lr: 0.031201  loss: 0.013445  eta: 0h9m  tot: 0h6m1s  (37.6%)\rEpoch: 88.2%  lr: 0.031181  loss: 0.013442  eta: 0h9m  tot: 0h6m1s  (37.6%)\rEpoch: 88.3%  lr: 0.031171  loss: 0.013447  eta: 0h9m  tot: 0h6m1s  (37.7%)\rEpoch: 88.4%  lr: 0.031171  loss: 0.013455  eta: 0h9m  tot: 0h6m1s  (37.7%)\rEpoch: 88.5%  lr: 0.031171  loss: 0.013456  eta: 0h9m  tot: 0h6m1s  (37.7%)\rEpoch: 88.6%  lr: 0.031161  loss: 0.013456  eta: 0h9m  tot: 0h6m1s  (37.7%)\rEpoch: 88.7%  lr: 0.031141  loss: 0.013450  eta: 0h9m  tot: 0h6m2s  (37.7%)\rEpoch: 88.8%  lr: 0.031121  loss: 0.013449  eta: 0h9m  tot: 0h6m2s  (37.8%)\rEpoch: 88.9%  lr: 0.031111  loss: 0.013440  eta: 0h9m  tot: 0h6m2s  (37.8%)\rEpoch: 88.9%  lr: 0.031111  loss: 0.013434  eta: 0h9m  tot: 0h6m2s  (37.8%)\rEpoch: 89.0%  lr: 0.031111  loss: 0.013427  eta: 0h9m  tot: 0h6m2s  (37.8%)\rEpoch: 89.1%  lr: 0.031111  loss: 0.013428  eta: 0h9m  tot: 0h6m2s  (37.8%)\rEpoch: 89.2%  lr: 0.031101  loss: 0.013423  eta: 0h9m  tot: 0h6m3s  (37.8%)\rEpoch: 89.3%  lr: 0.031091  loss: 0.013424  eta: 0h9m  tot: 0h6m3s  (37.9%)\rEpoch: 89.4%  lr: 0.031091  loss: 0.013428  eta: 0h9m  tot: 0h6m3s  (37.9%)\rEpoch: 89.5%  lr: 0.031091  loss: 0.013442  eta: 0h9m  tot: 0h6m3s  (37.9%)\rEpoch: 89.6%  lr: 0.031081  loss: 0.013433  eta: 0h9m  tot: 0h6m3s  (37.9%)\rEpoch: 89.7%  lr: 0.031071  loss: 0.013443  eta: 0h9m  tot: 0h6m3s  (37.9%)\rEpoch: 89.8%  lr: 0.031061  loss: 0.013444  eta: 0h9m  tot: 0h6m4s  (38.0%)\rEpoch: 89.8%  lr: 0.031061  loss: 0.013441  eta: 0h9m  tot: 0h6m4s  (38.0%)\rEpoch: 89.9%  lr: 0.031051  loss: 0.013434  eta: 0h9m  tot: 0h6m4s  (38.0%)\rEpoch: 90.0%  lr: 0.031051  loss: 0.013432  eta: 0h9m  tot: 0h6m4s  (38.0%)\rEpoch: 90.1%  lr: 0.031051  loss: 0.013427  eta: 0h9m  tot: 0h6m4s  (38.0%)\rEpoch: 90.2%  lr: 0.031041  loss: 0.013424  eta: 0h9m  tot: 0h6m4s  (38.0%)\rEpoch: 90.3%  lr: 0.031041  loss: 0.013417  eta: 0h9m  tot: 0h6m5s  (38.1%)\rEpoch: 90.4%  lr: 0.031031  loss: 0.013413  eta: 0h9m  tot: 0h6m5s  (38.1%)\rEpoch: 90.5%  lr: 0.031011  loss: 0.013403  eta: 0h9m  tot: 0h6m5s  (38.1%)\rEpoch: 90.6%  lr: 0.030991  loss: 0.013421  eta: 0h9m  tot: 0h6m5s  (38.1%)\rEpoch: 90.7%  lr: 0.030991  loss: 0.013432  eta: 0h9m  tot: 0h6m5s  (38.1%)\rEpoch: 90.7%  lr: 0.030991  loss: 0.013440  eta: 0h9m  tot: 0h6m5s  (38.1%)\rEpoch: 90.8%  lr: 0.030971  loss: 0.013441  eta: 0h9m  tot: 0h6m6s  (38.2%)\rEpoch: 90.9%  lr: 0.030961  loss: 0.013444  eta: 0h9m  tot: 0h6m6s  (38.2%)\rEpoch: 91.0%  lr: 0.030961  loss: 0.013439  eta: 0h9m  tot: 0h6m6s  (38.2%)\rEpoch: 91.1%  lr: 0.030951  loss: 0.013435  eta: 0h9m  tot: 0h6m6s  (38.2%)\rEpoch: 91.2%  lr: 0.030931  loss: 0.013434  eta: 0h9m  tot: 0h6m6s  (38.2%)\rEpoch: 91.3%  lr: 0.030891  loss: 0.013429  eta: 0h9m  tot: 0h6m6s  (38.3%)\rEpoch: 91.4%  lr: 0.030871  loss: 0.013419  eta: 0h9m  tot: 0h6m7s  (38.3%)\rEpoch: 91.5%  lr: 0.030871  loss: 0.013413  eta: 0h9m  tot: 0h6m7s  (38.3%)\rEpoch: 91.6%  lr: 0.030871  loss: 0.013419  eta: 0h9m  tot: 0h6m7s  (38.3%)\rEpoch: 91.6%  lr: 0.030861  loss: 0.013419  eta: 0h9m  tot: 0h6m7s  (38.3%)\rEpoch: 91.7%  lr: 0.030861  loss: 0.013416  eta: 0h9m  tot: 0h6m7s  (38.3%)\rEpoch: 91.8%  lr: 0.030851  loss: 0.013413  eta: 0h9m  tot: 0h6m7s  (38.4%)\rEpoch: 91.9%  lr: 0.030851  loss: 0.013419  eta: 0h9m  tot: 0h6m8s  (38.4%)\rEpoch: 92.0%  lr: 0.030841  loss: 0.013418  eta: 0h9m  tot: 0h6m8s  (38.4%)\rEpoch: 92.1%  lr: 0.030841  loss: 0.013422  eta: 0h9m  tot: 0h6m8s  (38.4%)\rEpoch: 92.2%  lr: 0.030841  loss: 0.013438  eta: 0h9m  tot: 0h6m8s  (38.4%)\rEpoch: 92.3%  lr: 0.030831  loss: 0.013430  eta: 0h9m  tot: 0h6m8s  (38.5%)\rEpoch: 92.4%  lr: 0.030821  loss: 0.013433  eta: 0h9m  tot: 0h6m8s  (38.5%)\rEpoch: 92.5%  lr: 0.030811  loss: 0.013432  eta: 0h9m  tot: 0h6m9s  (38.5%)\rEpoch: 92.5%  lr: 0.030811  loss: 0.013428  eta: 0h9m  tot: 0h6m9s  (38.5%)\rEpoch: 92.6%  lr: 0.030811  loss: 0.013428  eta: 0h9m  tot: 0h6m9s  (38.5%)\rEpoch: 92.7%  lr: 0.030811  loss: 0.013431  eta: 0h9m  tot: 0h6m9s  (38.5%)\rEpoch: 92.8%  lr: 0.030791  loss: 0.013425  eta: 0h9m  tot: 0h6m9s  (38.6%)\rEpoch: 92.9%  lr: 0.030771  loss: 0.013422  eta: 0h9m  tot: 0h6m9s  (38.6%)\rEpoch: 93.0%  lr: 0.030761  loss: 0.013414  eta: 0h9m  tot: 0h6m9s  (38.6%)\rEpoch: 93.1%  lr: 0.030751  loss: 0.013412  eta: 0h9m  tot: 0h6m10s  (38.6%)\rEpoch: 93.2%  lr: 0.030741  loss: 0.013412  eta: 0h9m  tot: 0h6m10s  (38.6%)\rEpoch: 93.3%  lr: 0.030731  loss: 0.013416  eta: 0h9m  tot: 0h6m10s  (38.7%)\rEpoch: 93.4%  lr: 0.030731  loss: 0.013413  eta: 0h9m  tot: 0h6m10s  (38.7%)\rEpoch: 93.4%  lr: 0.030711  loss: 0.013414  eta: 0h9m  tot: 0h6m10s  (38.7%)\rEpoch: 93.5%  lr: 0.030681  loss: 0.013407  eta: 0h9m  tot: 0h6m11s  (38.7%)\rEpoch: 93.6%  lr: 0.030681  loss: 0.013406  eta: 0h9m  tot: 0h6m11s  (38.7%)\rEpoch: 93.7%  lr: 0.030681  loss: 0.013406  eta: 0h9m  tot: 0h6m11s  (38.7%)\rEpoch: 93.8%  lr: 0.030671  loss: 0.013403  eta: 0h9m  tot: 0h6m11s  (38.8%)\rEpoch: 93.9%  lr: 0.030651  loss: 0.013409  eta: 0h9m  tot: 0h6m11s  (38.8%)\rEpoch: 94.0%  lr: 0.030651  loss: 0.013411  eta: 0h9m  tot: 0h6m11s  (38.8%)\rEpoch: 94.1%  lr: 0.030631  loss: 0.013402  eta: 0h9m  tot: 0h6m11s  (38.8%)\rEpoch: 94.2%  lr: 0.030621  loss: 0.013399  eta: 0h9m  tot: 0h6m12s  (38.8%)\rEpoch: 94.3%  lr: 0.030581  loss: 0.013394  eta: 0h9m  tot: 0h6m12s  (38.9%)\rEpoch: 94.3%  lr: 0.030561  loss: 0.013388  eta: 0h9m  tot: 0h6m12s  (38.9%)\rEpoch: 94.4%  lr: 0.030531  loss: 0.013384  eta: 0h9m  tot: 0h6m12s  (38.9%)\rEpoch: 94.5%  lr: 0.030511  loss: 0.013380  eta: 0h9m  tot: 0h6m12s  (38.9%)\rEpoch: 94.6%  lr: 0.030501  loss: 0.013384  eta: 0h9m  tot: 0h6m12s  (38.9%)\rEpoch: 94.7%  lr: 0.030501  loss: 0.013388  eta: 0h9m  tot: 0h6m13s  (38.9%)\rEpoch: 94.8%  lr: 0.030491  loss: 0.013384  eta: 0h9m  tot: 0h6m13s  (39.0%)\rEpoch: 94.9%  lr: 0.030481  loss: 0.013379  eta: 0h9m  tot: 0h6m13s  (39.0%)\rEpoch: 95.0%  lr: 0.030471  loss: 0.013394  eta: 0h9m  tot: 0h6m13s  (39.0%)\rEpoch: 95.1%  lr: 0.030441  loss: 0.013389  eta: 0h9m  tot: 0h6m13s  (39.0%)\rEpoch: 95.2%  lr: 0.030431  loss: 0.013393  eta: 0h9m  tot: 0h6m13s  (39.0%)\rEpoch: 95.2%  lr: 0.030421  loss: 0.013408  eta: 0h9m  tot: 0h6m14s  (39.0%)\rEpoch: 95.3%  lr: 0.030421  loss: 0.013399  eta: 0h9m  tot: 0h6m14s  (39.1%)\rEpoch: 95.4%  lr: 0.030411  loss: 0.013401  eta: 0h9m  tot: 0h6m14s  (39.1%)\rEpoch: 95.5%  lr: 0.030401  loss: 0.013395  eta: 0h9m  tot: 0h6m14s  (39.1%)\rEpoch: 95.6%  lr: 0.030401  loss: 0.013394  eta: 0h9m  tot: 0h6m14s  (39.1%)\rEpoch: 95.7%  lr: 0.030401  loss: 0.013394  eta: 0h9m  tot: 0h6m14s  (39.1%)\rEpoch: 95.8%  lr: 0.030361  loss: 0.013400  eta: 0h9m  tot: 0h6m15s  (39.2%)\rEpoch: 95.9%  lr: 0.030350  loss: 0.013401  eta: 0h9m  tot: 0h6m15s  (39.2%)\rEpoch: 96.0%  lr: 0.030340  loss: 0.013392  eta: 0h9m  tot: 0h6m15s  (39.2%)\rEpoch: 96.1%  lr: 0.030310  loss: 0.013387  eta: 0h9m  tot: 0h6m15s  (39.2%)\rEpoch: 96.1%  lr: 0.030290  loss: 0.013391  eta: 0h9m  tot: 0h6m15s  (39.2%)\rEpoch: 96.2%  lr: 0.030290  loss: 0.013392  eta: 0h9m  tot: 0h6m15s  (39.2%)\rEpoch: 96.3%  lr: 0.030290  loss: 0.013389  eta: 0h9m  tot: 0h6m16s  (39.3%)\rEpoch: 96.4%  lr: 0.030280  loss: 0.013406  eta: 0h9m  tot: 0h6m16s  (39.3%)\rEpoch: 96.5%  lr: 0.030260  loss: 0.013416  eta: 0h9m  tot: 0h6m16s  (39.3%)\rEpoch: 96.6%  lr: 0.030260  loss: 0.013412  eta: 0h9m  tot: 0h6m16s  (39.3%)\rEpoch: 96.7%  lr: 0.030240  loss: 0.013409  eta: 0h9m  tot: 0h6m16s  (39.3%)\rEpoch: 96.8%  lr: 0.030230  loss: 0.013405  eta: 0h9m  tot: 0h6m16s  (39.4%)\rEpoch: 96.9%  lr: 0.030220  loss: 0.013397  eta: 0h9m  tot: 0h6m17s  (39.4%)\rEpoch: 97.0%  lr: 0.030220  loss: 0.013405  eta: 0h9m  tot: 0h6m17s  (39.4%)\rEpoch: 97.0%  lr: 0.030220  loss: 0.013404  eta: 0h9m  tot: 0h6m17s  (39.4%)\rEpoch: 97.1%  lr: 0.030220  loss: 0.013400  eta: 0h9m  tot: 0h6m17s  (39.4%)\rEpoch: 97.2%  lr: 0.030200  loss: 0.013400  eta: 0h9m  tot: 0h6m17s  (39.4%)\rEpoch: 97.3%  lr: 0.030200  loss: 0.013415  eta: 0h9m  tot: 0h6m17s  (39.5%)\rEpoch: 97.4%  lr: 0.030200  loss: 0.013418  eta: 0h9m  tot: 0h6m18s  (39.5%)\rEpoch: 97.5%  lr: 0.030200  loss: 0.013421  eta: 0h9m  tot: 0h6m18s  (39.5%)\rEpoch: 97.6%  lr: 0.030200  loss: 0.013413  eta: 0h9m  tot: 0h6m18s  (39.5%)\rEpoch: 97.7%  lr: 0.030200  loss: 0.013423  eta: 0h9m  tot: 0h6m18s  (39.5%)\rEpoch: 97.8%  lr: 0.030190  loss: 0.013420  eta: 0h9m  tot: 0h6m18s  (39.6%)\rEpoch: 97.9%  lr: 0.030190  loss: 0.013414  eta: 0h9m  tot: 0h6m18s  (39.6%)\rEpoch: 97.9%  lr: 0.030180  loss: 0.013409  eta: 0h9m  tot: 0h6m19s  (39.6%)\rEpoch: 98.0%  lr: 0.030160  loss: 0.013400  eta: 0h9m  tot: 0h6m19s  (39.6%)\rEpoch: 98.1%  lr: 0.030160  loss: 0.013393  eta: 0h9m  tot: 0h6m19s  (39.6%)\rEpoch: 98.2%  lr: 0.030160  loss: 0.013392  eta: 0h9m  tot: 0h6m19s  (39.6%)\rEpoch: 98.3%  lr: 0.030160  loss: 0.013391  eta: 0h9m  tot: 0h6m19s  (39.7%)\rEpoch: 98.4%  lr: 0.030160  loss: 0.013387  eta: 0h9m  tot: 0h6m19s  (39.7%)\rEpoch: 98.5%  lr: 0.030150  loss: 0.013385  eta: 0h9m  tot: 0h6m20s  (39.7%)\rEpoch: 98.6%  lr: 0.030130  loss: 0.013381  eta: 0h9m  tot: 0h6m20s  (39.7%)\rEpoch: 98.7%  lr: 0.030120  loss: 0.013375  eta: 0h9m  tot: 0h6m20s  (39.7%)\rEpoch: 98.8%  lr: 0.030110  loss: 0.013380  eta: 0h9m  tot: 0h6m20s  (39.8%)\rEpoch: 98.8%  lr: 0.030080  loss: 0.013374  eta: 0h9m  tot: 0h6m20s  (39.8%)\rEpoch: 98.9%  lr: 0.030080  loss: 0.013388  eta: 0h9m  tot: 0h6m20s  (39.8%)\rEpoch: 99.0%  lr: 0.030070  loss: 0.013392  eta: 0h9m  tot: 0h6m21s  (39.8%)\rEpoch: 99.1%  lr: 0.030050  loss: 0.013391  eta: 0h9m  tot: 0h6m21s  (39.8%)\rEpoch: 99.2%  lr: 0.030050  loss: 0.013389  eta: 0h9m  tot: 0h6m21s  (39.8%)\rEpoch: 99.3%  lr: 0.030040  loss: 0.013387  eta: 0h9m  tot: 0h6m21s  (39.9%)\rEpoch: 99.4%  lr: 0.030020  loss: 0.013382  eta: 0h9m  tot: 0h6m21s  (39.9%)\rEpoch: 99.5%  lr: 0.030020  loss: 0.013385  eta: 0h9m  tot: 0h6m21s  (39.9%)\rEpoch: 99.6%  lr: 0.030010  loss: 0.013394  eta: 0h9m  tot: 0h6m21s  (39.9%)\rEpoch: 99.7%  lr: 0.030010  loss: 0.013401  eta: 0h9m  tot: 0h6m21s  (39.9%)\rEpoch: 99.7%  lr: 0.030010  loss: 0.013401  eta: 0h9m  tot: 0h6m21s  (39.9%)\rEpoch: 99.8%  lr: 0.030000  loss: 0.013398  eta: 0h9m  tot: 0h6m21s  (40.0%)\rEpoch: 99.9%  lr: 0.030000  loss: 0.013404  eta: 0h9m  tot: 0h6m22s  (40.0%)\rEpoch: 100.0%  lr: 0.030000  loss: 0.013405  eta: 0h9m  tot: 0h6m22s  (40.0%)\rEpoch: 0.1%  lr: 0.029990  loss: 0.011125  eta: 0h1m  tot: 0h6m22s  (40.0%)\rEpoch: 0.2%  lr: 0.029990  loss: 0.010685  eta: 0h4m  tot: 0h6m22s  (40.0%)\rEpoch: 0.3%  lr: 0.029970  loss: 0.013709  eta: 0h6m  tot: 0h6m22s  (40.1%)\rEpoch: 0.4%  lr: 0.029940  loss: 0.012193  eta: 0h7m  tot: 0h6m22s  (40.1%)\rEpoch: 0.4%  lr: 0.029930  loss: 0.011466  eta: 0h7m  tot: 0h6m22s  (40.1%)\rEpoch: 0.5%  lr: 0.029920  loss: 0.011437  eta: 0h7m  tot: 0h6m22s  (40.1%)\rEpoch: 0.6%  lr: 0.029910  loss: 0.010641  eta: 0h7m  tot: 0h6m23s  (40.1%)\rEpoch: 0.7%  lr: 0.029890  loss: 0.010154  eta: 0h7m  tot: 0h6m23s  (40.1%)\rEpoch: 0.8%  lr: 0.029870  loss: 0.009915  eta: 0h8m  tot: 0h6m23s  (40.2%)\rEpoch: 0.9%  lr: 0.029850  loss: 0.009986  eta: 0h8m  tot: 0h6m23s  (40.2%)\rEpoch: 1.0%  lr: 0.029850  loss: 0.010311  eta: 0h8m  tot: 0h6m23s  (40.2%)\rEpoch: 1.1%  lr: 0.029850  loss: 0.009895  eta: 0h8m  tot: 0h6m23s  (40.2%)\rEpoch: 1.2%  lr: 0.029830  loss: 0.009541  eta: 0h8m  tot: 0h6m24s  (40.2%)\rEpoch: 1.3%  lr: 0.029830  loss: 0.009262  eta: 0h8m  tot: 0h6m24s  (40.3%)\rEpoch: 1.3%  lr: 0.029820  loss: 0.008888  eta: 0h8m  tot: 0h6m24s  (40.3%)\rEpoch: 1.4%  lr: 0.029810  loss: 0.008949  eta: 0h8m  tot: 0h6m24s  (40.3%)\rEpoch: 1.5%  lr: 0.029800  loss: 0.008827  eta: 0h8m  tot: 0h6m24s  (40.3%)\rEpoch: 1.6%  lr: 0.029800  loss: 0.008612  eta: 0h8m  tot: 0h6m24s  (40.3%)\rEpoch: 1.7%  lr: 0.029790  loss: 0.008599  eta: 0h8m  tot: 0h6m25s  (40.3%)\rEpoch: 1.8%  lr: 0.029770  loss: 0.008640  eta: 0h8m  tot: 0h6m25s  (40.4%)\rEpoch: 1.9%  lr: 0.029760  loss: 0.008523  eta: 0h8m  tot: 0h6m25s  (40.4%)\rEpoch: 2.0%  lr: 0.029740  loss: 0.008598  eta: 0h8m  tot: 0h6m25s  (40.4%)\rEpoch: 2.1%  lr: 0.029730  loss: 0.008902  eta: 0h8m  tot: 0h6m25s  (40.4%)\rEpoch: 2.2%  lr: 0.029730  loss: 0.009073  eta: 0h8m  tot: 0h6m25s  (40.4%)\rEpoch: 2.2%  lr: 0.029720  loss: 0.009035  eta: 0h8m  tot: 0h6m25s  (40.4%)\rEpoch: 2.3%  lr: 0.029720  loss: 0.009364  eta: 0h8m  tot: 0h6m26s  (40.5%)\rEpoch: 2.4%  lr: 0.029720  loss: 0.009213  eta: 0h8m  tot: 0h6m26s  (40.5%)\rEpoch: 2.5%  lr: 0.029680  loss: 0.009076  eta: 0h8m  tot: 0h6m26s  (40.5%)\rEpoch: 2.6%  lr: 0.029670  loss: 0.008797  eta: 0h8m  tot: 0h6m26s  (40.5%)\rEpoch: 2.7%  lr: 0.029670  loss: 0.008651  eta: 0h8m  tot: 0h6m26s  (40.5%)\rEpoch: 2.8%  lr: 0.029660  loss: 0.008615  eta: 0h8m  tot: 0h6m26s  (40.6%)\rEpoch: 2.9%  lr: 0.029640  loss: 0.008608  eta: 0h8m  tot: 0h6m27s  (40.6%)\rEpoch: 3.0%  lr: 0.029620  loss: 0.008579  eta: 0h8m  tot: 0h6m27s  (40.6%)\rEpoch: 3.1%  lr: 0.029600  loss: 0.008610  eta: 0h8m  tot: 0h6m27s  (40.6%)\rEpoch: 3.1%  lr: 0.029580  loss: 0.008625  eta: 0h8m  tot: 0h6m27s  (40.6%)\rEpoch: 3.2%  lr: 0.029570  loss: 0.008803  eta: 0h8m  tot: 0h6m27s  (40.6%)\rEpoch: 3.3%  lr: 0.029560  loss: 0.008862  eta: 0h8m  tot: 0h6m27s  (40.7%)\rEpoch: 3.4%  lr: 0.029530  loss: 0.008755  eta: 0h8m  tot: 0h6m28s  (40.7%)\rEpoch: 3.5%  lr: 0.029520  loss: 0.008681  eta: 0h8m  tot: 0h6m28s  (40.7%)\rEpoch: 3.6%  lr: 0.029520  loss: 0.008673  eta: 0h8m  tot: 0h6m28s  (40.7%)\rEpoch: 3.7%  lr: 0.029520  loss: 0.008630  eta: 0h8m  tot: 0h6m28s  (40.7%)\rEpoch: 3.8%  lr: 0.029510  loss: 0.008612  eta: 0h8m  tot: 0h6m28s  (40.8%)\rEpoch: 3.9%  lr: 0.029479  loss: 0.008610  eta: 0h8m  tot: 0h6m28s  (40.8%)\rEpoch: 4.0%  lr: 0.029469  loss: 0.008577  eta: 0h8m  tot: 0h6m29s  (40.8%)\rEpoch: 4.1%  lr: 0.029459  loss: 0.008453  eta: 0h8m  tot: 0h6m29s  (40.8%)\rEpoch: 4.1%  lr: 0.029459  loss: 0.008507  eta: 0h8m  tot: 0h6m29s  (40.8%)\rEpoch: 4.2%  lr: 0.029459  loss: 0.008521  eta: 0h8m  tot: 0h6m29s  (40.8%)\rEpoch: 4.3%  lr: 0.029449  loss: 0.008537  eta: 0h8m  tot: 0h6m29s  (40.9%)\rEpoch: 4.4%  lr: 0.029429  loss: 0.008556  eta: 0h8m  tot: 0h6m29s  (40.9%)\rEpoch: 4.5%  lr: 0.029429  loss: 0.008619  eta: 0h8m  tot: 0h6m30s  (40.9%)\rEpoch: 4.6%  lr: 0.029419  loss: 0.008625  eta: 0h8m  tot: 0h6m30s  (40.9%)\rEpoch: 4.7%  lr: 0.029419  loss: 0.008964  eta: 0h8m  tot: 0h6m30s  (40.9%)\rEpoch: 4.8%  lr: 0.029409  loss: 0.009132  eta: 0h8m  tot: 0h6m30s  (41.0%)\rEpoch: 4.9%  lr: 0.029409  loss: 0.009079  eta: 0h8m  tot: 0h6m30s  (41.0%)\rEpoch: 5.0%  lr: 0.029409  loss: 0.009007  eta: 0h8m  tot: 0h6m30s  (41.0%)\rEpoch: 5.0%  lr: 0.029399  loss: 0.008949  eta: 0h8m  tot: 0h6m31s  (41.0%)\rEpoch: 5.1%  lr: 0.029369  loss: 0.008950  eta: 0h8m  tot: 0h6m31s  (41.0%)\rEpoch: 5.2%  lr: 0.029369  loss: 0.008865  eta: 0h8m  tot: 0h6m31s  (41.0%)\rEpoch: 5.3%  lr: 0.029339  loss: 0.008984  eta: 0h8m  tot: 0h6m31s  (41.1%)\rEpoch: 5.4%  lr: 0.029339  loss: 0.008933  eta: 0h8m  tot: 0h6m31s  (41.1%)\rEpoch: 5.5%  lr: 0.029339  loss: 0.008861  eta: 0h8m  tot: 0h6m31s  (41.1%)\rEpoch: 5.6%  lr: 0.029339  loss: 0.008897  eta: 0h8m  tot: 0h6m31s  (41.1%)\rEpoch: 5.7%  lr: 0.029339  loss: 0.008890  eta: 0h8m  tot: 0h6m32s  (41.1%)\rEpoch: 5.8%  lr: 0.029339  loss: 0.008898  eta: 0h8m  tot: 0h6m32s  (41.2%)\rEpoch: 5.9%  lr: 0.029319  loss: 0.009005  eta: 0h8m  tot: 0h6m32s  (41.2%)\rEpoch: 5.9%  lr: 0.029309  loss: 0.009053  eta: 0h8m  tot: 0h6m32s  (41.2%)\rEpoch: 6.0%  lr: 0.029299  loss: 0.008959  eta: 0h8m  tot: 0h6m32s  (41.2%)\rEpoch: 6.1%  lr: 0.029289  loss: 0.008950  eta: 0h8m  tot: 0h6m32s  (41.2%)\rEpoch: 6.2%  lr: 0.029289  loss: 0.008981  eta: 0h8m  tot: 0h6m33s  (41.2%)\rEpoch: 6.3%  lr: 0.029289  loss: 0.008917  eta: 0h8m  tot: 0h6m33s  (41.3%)\rEpoch: 6.4%  lr: 0.029289  loss: 0.008930  eta: 0h8m  tot: 0h6m33s  (41.3%)\rEpoch: 6.5%  lr: 0.029279  loss: 0.009092  eta: 0h8m  tot: 0h6m33s  (41.3%)\rEpoch: 6.6%  lr: 0.029269  loss: 0.009145  eta: 0h8m  tot: 0h6m33s  (41.3%)\rEpoch: 6.7%  lr: 0.029259  loss: 0.009176  eta: 0h8m  tot: 0h6m33s  (41.3%)\rEpoch: 6.8%  lr: 0.029259  loss: 0.009087  eta: 0h8m  tot: 0h6m34s  (41.4%)\rEpoch: 6.8%  lr: 0.029239  loss: 0.009099  eta: 0h8m  tot: 0h6m34s  (41.4%)\rEpoch: 6.9%  lr: 0.029239  loss: 0.009152  eta: 0h8m  tot: 0h6m34s  (41.4%)\rEpoch: 7.0%  lr: 0.029219  loss: 0.009142  eta: 0h8m  tot: 0h6m34s  (41.4%)\rEpoch: 7.1%  lr: 0.029199  loss: 0.009081  eta: 0h8m  tot: 0h6m34s  (41.4%)\rEpoch: 7.2%  lr: 0.029169  loss: 0.009110  eta: 0h8m  tot: 0h6m34s  (41.4%)\rEpoch: 7.3%  lr: 0.029159  loss: 0.009180  eta: 0h8m  tot: 0h6m35s  (41.5%)\rEpoch: 7.4%  lr: 0.029159  loss: 0.009310  eta: 0h8m  tot: 0h6m35s  (41.5%)\rEpoch: 7.5%  lr: 0.029149  loss: 0.009313  eta: 0h8m  tot: 0h6m35s  (41.5%)\rEpoch: 7.6%  lr: 0.029139  loss: 0.009305  eta: 0h8m  tot: 0h6m35s  (41.5%)\rEpoch: 7.7%  lr: 0.029119  loss: 0.009254  eta: 0h8m  tot: 0h6m35s  (41.5%)\rEpoch: 7.7%  lr: 0.029119  loss: 0.009218  eta: 0h8m  tot: 0h6m35s  (41.5%)\rEpoch: 7.8%  lr: 0.029099  loss: 0.009228  eta: 0h8m  tot: 0h6m36s  (41.6%)\rEpoch: 7.9%  lr: 0.029079  loss: 0.009253  eta: 0h8m  tot: 0h6m36s  (41.6%)\rEpoch: 8.0%  lr: 0.029069  loss: 0.009241  eta: 0h8m  tot: 0h6m36s  (41.6%)\rEpoch: 8.1%  lr: 0.029059  loss: 0.009219  eta: 0h8m  tot: 0h6m36s  (41.6%)\rEpoch: 8.2%  lr: 0.029049  loss: 0.009167  eta: 0h8m  tot: 0h6m36s  (41.6%)\rEpoch: 8.3%  lr: 0.029049  loss: 0.009170  eta: 0h8m  tot: 0h6m36s  (41.7%)\rEpoch: 8.4%  lr: 0.029049  loss: 0.009095  eta: 0h8m  tot: 0h6m37s  (41.7%)\rEpoch: 8.5%  lr: 0.029049  loss: 0.009096  eta: 0h8m  tot: 0h6m37s  (41.7%)\rEpoch: 8.6%  lr: 0.029049  loss: 0.009034  eta: 0h8m  tot: 0h6m37s  (41.7%)\rEpoch: 8.6%  lr: 0.029029  loss: 0.008974  eta: 0h8m  tot: 0h6m37s  (41.7%)\rEpoch: 8.7%  lr: 0.029029  loss: 0.008960  eta: 0h8m  tot: 0h6m37s  (41.7%)\rEpoch: 8.8%  lr: 0.029029  loss: 0.008950  eta: 0h8m  tot: 0h6m37s  (41.8%)\rEpoch: 8.9%  lr: 0.029029  loss: 0.009042  eta: 0h8m  tot: 0h6m38s  (41.8%)\rEpoch: 9.0%  lr: 0.029029  loss: 0.009018  eta: 0h8m  tot: 0h6m38s  (41.8%)\rEpoch: 9.1%  lr: 0.029029  loss: 0.009061  eta: 0h8m  tot: 0h6m38s  (41.8%)\rEpoch: 9.2%  lr: 0.028999  loss: 0.009037  eta: 0h8m  tot: 0h6m38s  (41.8%)\rEpoch: 9.3%  lr: 0.028999  loss: 0.009083  eta: 0h8m  tot: 0h6m38s  (41.9%)\rEpoch: 9.4%  lr: 0.028989  loss: 0.009146  eta: 0h8m  tot: 0h6m38s  (41.9%)\rEpoch: 9.5%  lr: 0.028979  loss: 0.009230  eta: 0h8m  tot: 0h6m39s  (41.9%)\rEpoch: 9.5%  lr: 0.028979  loss: 0.009311  eta: 0h8m  tot: 0h6m39s  (41.9%)\rEpoch: 9.6%  lr: 0.028979  loss: 0.009285  eta: 0h8m  tot: 0h6m39s  (41.9%)\rEpoch: 9.7%  lr: 0.028979  loss: 0.009429  eta: 0h8m  tot: 0h6m39s  (41.9%)\rEpoch: 9.8%  lr: 0.028969  loss: 0.009412  eta: 0h8m  tot: 0h6m39s  (42.0%)\rEpoch: 9.9%  lr: 0.028959  loss: 0.009376  eta: 0h8m  tot: 0h6m39s  (42.0%)\rEpoch: 10.0%  lr: 0.028949  loss: 0.009329  eta: 0h8m  tot: 0h6m40s  (42.0%)\rEpoch: 10.1%  lr: 0.028939  loss: 0.009331  eta: 0h8m  tot: 0h6m40s  (42.0%)\rEpoch: 10.2%  lr: 0.028929  loss: 0.009360  eta: 0h8m  tot: 0h6m40s  (42.0%)\rEpoch: 10.3%  lr: 0.028919  loss: 0.009363  eta: 0h8m  tot: 0h6m40s  (42.1%)\rEpoch: 10.4%  lr: 0.028909  loss: 0.009361  eta: 0h8m  tot: 0h6m40s  (42.1%)\rEpoch: 10.4%  lr: 0.028889  loss: 0.009330  eta: 0h8m  tot: 0h6m40s  (42.1%)\rEpoch: 10.5%  lr: 0.028879  loss: 0.009300  eta: 0h8m  tot: 0h6m41s  (42.1%)\rEpoch: 10.6%  lr: 0.028879  loss: 0.009288  eta: 0h8m  tot: 0h6m41s  (42.1%)\rEpoch: 10.7%  lr: 0.028869  loss: 0.009282  eta: 0h8m  tot: 0h6m41s  (42.1%)\rEpoch: 10.8%  lr: 0.028869  loss: 0.009223  eta: 0h8m  tot: 0h6m41s  (42.2%)\rEpoch: 10.9%  lr: 0.028849  loss: 0.009244  eta: 0h8m  tot: 0h6m41s  (42.2%)\rEpoch: 11.0%  lr: 0.028849  loss: 0.009184  eta: 0h8m  tot: 0h6m41s  (42.2%)\rEpoch: 11.1%  lr: 0.028849  loss: 0.009155  eta: 0h8m  tot: 0h6m41s  (42.2%)\rEpoch: 11.2%  lr: 0.028839  loss: 0.009146  eta: 0h8m  tot: 0h6m42s  (42.2%)\rEpoch: 11.3%  lr: 0.028829  loss: 0.009142  eta: 0h8m  tot: 0h6m42s  (42.3%)\rEpoch: 11.3%  lr: 0.028829  loss: 0.009087  eta: 0h8m  tot: 0h6m42s  (42.3%)\rEpoch: 11.4%  lr: 0.028829  loss: 0.009055  eta: 0h8m  tot: 0h6m42s  (42.3%)\rEpoch: 11.5%  lr: 0.028829  loss: 0.009150  eta: 0h8m  tot: 0h6m42s  (42.3%)\rEpoch: 11.6%  lr: 0.028819  loss: 0.009185  eta: 0h8m  tot: 0h6m42s  (42.3%)\rEpoch: 11.7%  lr: 0.028819  loss: 0.009191  eta: 0h8m  tot: 0h6m43s  (42.3%)\rEpoch: 11.8%  lr: 0.028819  loss: 0.009241  eta: 0h8m  tot: 0h6m43s  (42.4%)\rEpoch: 11.9%  lr: 0.028809  loss: 0.009237  eta: 0h8m  tot: 0h6m43s  (42.4%)\rEpoch: 12.0%  lr: 0.028809  loss: 0.009250  eta: 0h8m  tot: 0h6m43s  (42.4%)\rEpoch: 12.1%  lr: 0.028799  loss: 0.009253  eta: 0h8m  tot: 0h6m43s  (42.4%)\rEpoch: 12.2%  lr: 0.028779  loss: 0.009226  eta: 0h8m  tot: 0h6m43s  (42.4%)\rEpoch: 12.2%  lr: 0.028769  loss: 0.009214  eta: 0h8m  tot: 0h6m44s  (42.4%)\rEpoch: 12.3%  lr: 0.028759  loss: 0.009228  eta: 0h8m  tot: 0h6m44s  (42.5%)\rEpoch: 12.4%  lr: 0.028759  loss: 0.009181  eta: 0h8m  tot: 0h6m44s  (42.5%)\rEpoch: 12.5%  lr: 0.028759  loss: 0.009176  eta: 0h8m  tot: 0h6m44s  (42.5%)\rEpoch: 12.6%  lr: 0.028759  loss: 0.009185  eta: 0h8m  tot: 0h6m44s  (42.5%)\rEpoch: 12.7%  lr: 0.028749  loss: 0.009195  eta: 0h8m  tot: 0h6m44s  (42.5%)\rEpoch: 12.8%  lr: 0.028739  loss: 0.009181  eta: 0h8m  tot: 0h6m45s  (42.6%)\rEpoch: 12.9%  lr: 0.028729  loss: 0.009159  eta: 0h8m  tot: 0h6m45s  (42.6%)\rEpoch: 13.0%  lr: 0.028709  loss: 0.009182  eta: 0h8m  tot: 0h6m45s  (42.6%)\rEpoch: 13.1%  lr: 0.028699  loss: 0.009242  eta: 0h8m  tot: 0h6m45s  (42.6%)\rEpoch: 13.1%  lr: 0.028699  loss: 0.009253  eta: 0h8m  tot: 0h6m45s  (42.6%)\rEpoch: 13.2%  lr: 0.028679  loss: 0.009259  eta: 0h8m  tot: 0h6m45s  (42.6%)\rEpoch: 13.3%  lr: 0.028679  loss: 0.009263  eta: 0h8m  tot: 0h6m46s  (42.7%)\rEpoch: 13.4%  lr: 0.028659  loss: 0.009287  eta: 0h8m  tot: 0h6m46s  (42.7%)\rEpoch: 13.5%  lr: 0.028639  loss: 0.009267  eta: 0h8m  tot: 0h6m46s  (42.7%)\rEpoch: 13.6%  lr: 0.028619  loss: 0.009275  eta: 0h8m  tot: 0h6m46s  (42.7%)\rEpoch: 13.7%  lr: 0.028619  loss: 0.009318  eta: 0h8m  tot: 0h6m46s  (42.7%)\rEpoch: 13.8%  lr: 0.028619  loss: 0.009300  eta: 0h8m  tot: 0h6m46s  (42.8%)\rEpoch: 13.9%  lr: 0.028599  loss: 0.009280  eta: 0h8m  tot: 0h6m47s  (42.8%)\rEpoch: 14.0%  lr: 0.028589  loss: 0.009258  eta: 0h8m  tot: 0h6m47s  (42.8%)\rEpoch: 14.0%  lr: 0.028579  loss: 0.009262  eta: 0h8m  tot: 0h6m47s  (42.8%)\rEpoch: 14.1%  lr: 0.028569  loss: 0.009252  eta: 0h8m  tot: 0h6m47s  (42.8%)\rEpoch: 14.2%  lr: 0.028569  loss: 0.009225  eta: 0h8m  tot: 0h6m47s  (42.8%)\rEpoch: 14.3%  lr: 0.028559  loss: 0.009230  eta: 0h8m  tot: 0h6m47s  (42.9%)\rEpoch: 14.4%  lr: 0.028549  loss: 0.009218  eta: 0h8m  tot: 0h6m47s  (42.9%)\rEpoch: 14.5%  lr: 0.028529  loss: 0.009237  eta: 0h8m  tot: 0h6m48s  (42.9%)\rEpoch: 14.6%  lr: 0.028519  loss: 0.009220  eta: 0h8m  tot: 0h6m48s  (42.9%)\rEpoch: 14.7%  lr: 0.028499  loss: 0.009208  eta: 0h8m  tot: 0h6m48s  (42.9%)\rEpoch: 14.8%  lr: 0.028489  loss: 0.009224  eta: 0h8m  tot: 0h6m48s  (43.0%)\rEpoch: 14.9%  lr: 0.028489  loss: 0.009207  eta: 0h8m  tot: 0h6m48s  (43.0%)\rEpoch: 14.9%  lr: 0.028468  loss: 0.009186  eta: 0h8m  tot: 0h6m48s  (43.0%)\rEpoch: 15.0%  lr: 0.028468  loss: 0.009166  eta: 0h8m  tot: 0h6m49s  (43.0%)\rEpoch: 15.1%  lr: 0.028448  loss: 0.009157  eta: 0h8m  tot: 0h6m49s  (43.0%)\rEpoch: 15.2%  lr: 0.028448  loss: 0.009192  eta: 0h8m  tot: 0h6m49s  (43.0%)\rEpoch: 15.3%  lr: 0.028448  loss: 0.009225  eta: 0h8m  tot: 0h6m49s  (43.1%)\rEpoch: 15.4%  lr: 0.028448  loss: 0.009224  eta: 0h8m  tot: 0h6m49s  (43.1%)\rEpoch: 15.5%  lr: 0.028428  loss: 0.009251  eta: 0h8m  tot: 0h6m49s  (43.1%)\rEpoch: 15.6%  lr: 0.028428  loss: 0.009252  eta: 0h8m  tot: 0h6m50s  (43.1%)\rEpoch: 15.7%  lr: 0.028418  loss: 0.009249  eta: 0h8m  tot: 0h6m50s  (43.1%)\rEpoch: 15.8%  lr: 0.028398  loss: 0.009230  eta: 0h8m  tot: 0h6m50s  (43.2%)\rEpoch: 15.8%  lr: 0.028398  loss: 0.009212  eta: 0h8m  tot: 0h6m50s  (43.2%)\rEpoch: 15.9%  lr: 0.028368  loss: 0.009215  eta: 0h8m  tot: 0h6m50s  (43.2%)\rEpoch: 16.0%  lr: 0.028358  loss: 0.009177  eta: 0h8m  tot: 0h6m50s  (43.2%)\rEpoch: 16.1%  lr: 0.028348  loss: 0.009190  eta: 0h8m  tot: 0h6m51s  (43.2%)\rEpoch: 16.2%  lr: 0.028338  loss: 0.009267  eta: 0h8m  tot: 0h6m51s  (43.2%)\rEpoch: 16.3%  lr: 0.028338  loss: 0.009252  eta: 0h8m  tot: 0h6m51s  (43.3%)\rEpoch: 16.4%  lr: 0.028328  loss: 0.009232  eta: 0h8m  tot: 0h6m51s  (43.3%)\rEpoch: 16.5%  lr: 0.028328  loss: 0.009248  eta: 0h8m  tot: 0h6m51s  (43.3%)\rEpoch: 16.6%  lr: 0.028308  loss: 0.009265  eta: 0h8m  tot: 0h6m51s  (43.3%)\rEpoch: 16.7%  lr: 0.028298  loss: 0.009323  eta: 0h8m  tot: 0h6m52s  (43.3%)\rEpoch: 16.7%  lr: 0.028298  loss: 0.009307  eta: 0h8m  tot: 0h6m52s  (43.3%)\rEpoch: 16.8%  lr: 0.028298  loss: 0.009286  eta: 0h8m  tot: 0h6m52s  (43.4%)\rEpoch: 16.9%  lr: 0.028298  loss: 0.009290  eta: 0h8m  tot: 0h6m52s  (43.4%)\rEpoch: 17.0%  lr: 0.028298  loss: 0.009301  eta: 0h8m  tot: 0h6m52s  (43.4%)\rEpoch: 17.1%  lr: 0.028298  loss: 0.009356  eta: 0h8m  tot: 0h6m52s  (43.4%)\rEpoch: 17.2%  lr: 0.028288  loss: 0.009334  eta: 0h8m  tot: 0h6m52s  (43.4%)\rEpoch: 17.3%  lr: 0.028258  loss: 0.009349  eta: 0h8m  tot: 0h6m53s  (43.5%)\rEpoch: 17.4%  lr: 0.028228  loss: 0.009371  eta: 0h8m  tot: 0h6m53s  (43.5%)\rEpoch: 17.5%  lr: 0.028198  loss: 0.009382  eta: 0h8m  tot: 0h6m53s  (43.5%)\rEpoch: 17.6%  lr: 0.028198  loss: 0.009393  eta: 0h8m  tot: 0h6m53s  (43.5%)\rEpoch: 17.6%  lr: 0.028188  loss: 0.009437  eta: 0h8m  tot: 0h6m53s  (43.5%)\rEpoch: 17.7%  lr: 0.028168  loss: 0.009444  eta: 0h8m  tot: 0h6m53s  (43.5%)\rEpoch: 17.8%  lr: 0.028168  loss: 0.009426  eta: 0h8m  tot: 0h6m54s  (43.6%)\rEpoch: 17.9%  lr: 0.028148  loss: 0.009440  eta: 0h8m  tot: 0h6m54s  (43.6%)\rEpoch: 18.0%  lr: 0.028138  loss: 0.009427  eta: 0h8m  tot: 0h6m54s  (43.6%)\rEpoch: 18.1%  lr: 0.028118  loss: 0.009419  eta: 0h8m  tot: 0h6m54s  (43.6%)\rEpoch: 18.2%  lr: 0.028108  loss: 0.009458  eta: 0h8m  tot: 0h6m54s  (43.6%)\rEpoch: 18.3%  lr: 0.028108  loss: 0.009424  eta: 0h8m  tot: 0h6m54s  (43.7%)\rEpoch: 18.4%  lr: 0.028108  loss: 0.009486  eta: 0h8m  tot: 0h6m55s  (43.7%)\rEpoch: 18.5%  lr: 0.028108  loss: 0.009459  eta: 0h8m  tot: 0h6m55s  (43.7%)\rEpoch: 18.5%  lr: 0.028098  loss: 0.009480  eta: 0h8m  tot: 0h6m55s  (43.7%)\rEpoch: 18.6%  lr: 0.028098  loss: 0.009494  eta: 0h8m  tot: 0h6m55s  (43.7%)\rEpoch: 18.7%  lr: 0.028098  loss: 0.009471  eta: 0h8m  tot: 0h6m55s  (43.7%)\rEpoch: 18.8%  lr: 0.028088  loss: 0.009463  eta: 0h8m  tot: 0h6m55s  (43.8%)\rEpoch: 18.9%  lr: 0.028078  loss: 0.009471  eta: 0h8m  tot: 0h6m56s  (43.8%)\rEpoch: 19.0%  lr: 0.028068  loss: 0.009515  eta: 0h8m  tot: 0h6m56s  (43.8%)\rEpoch: 19.1%  lr: 0.028068  loss: 0.009517  eta: 0h8m  tot: 0h6m56s  (43.8%)\rEpoch: 19.2%  lr: 0.028038  loss: 0.009528  eta: 0h8m  tot: 0h6m56s  (43.8%)\rEpoch: 19.3%  lr: 0.028038  loss: 0.009501  eta: 0h8m  tot: 0h6m56s  (43.9%)\rEpoch: 19.4%  lr: 0.028028  loss: 0.009505  eta: 0h8m  tot: 0h6m56s  (43.9%)\rEpoch: 19.4%  lr: 0.028008  loss: 0.009484  eta: 0h8m  tot: 0h6m57s  (43.9%)\rEpoch: 19.5%  lr: 0.028008  loss: 0.009473  eta: 0h8m  tot: 0h6m57s  (43.9%)\rEpoch: 19.6%  lr: 0.027988  loss: 0.009458  eta: 0h8m  tot: 0h6m57s  (43.9%)\rEpoch: 19.7%  lr: 0.027988  loss: 0.009433  eta: 0h8m  tot: 0h6m57s  (43.9%)\rEpoch: 19.8%  lr: 0.027978  loss: 0.009424  eta: 0h8m  tot: 0h6m57s  (44.0%)\rEpoch: 19.9%  lr: 0.027958  loss: 0.009429  eta: 0h8m  tot: 0h6m57s  (44.0%)\rEpoch: 20.0%  lr: 0.027958  loss: 0.009400  eta: 0h8m  tot: 0h6m58s  (44.0%)\rEpoch: 20.1%  lr: 0.027948  loss: 0.009387  eta: 0h8m  tot: 0h6m58s  (44.0%)\rEpoch: 20.2%  lr: 0.027938  loss: 0.009375  eta: 0h8m  tot: 0h6m58s  (44.0%)\rEpoch: 20.3%  lr: 0.027918  loss: 0.009372  eta: 0h8m  tot: 0h6m58s  (44.1%)\rEpoch: 20.3%  lr: 0.027918  loss: 0.009346  eta: 0h8m  tot: 0h6m58s  (44.1%)\rEpoch: 20.4%  lr: 0.027898  loss: 0.009359  eta: 0h8m  tot: 0h6m58s  (44.1%)\rEpoch: 20.5%  lr: 0.027868  loss: 0.009389  eta: 0h8m  tot: 0h6m58s  (44.1%)\rEpoch: 20.6%  lr: 0.027858  loss: 0.009394  eta: 0h8m  tot: 0h6m59s  (44.1%)\rEpoch: 20.7%  lr: 0.027848  loss: 0.009381  eta: 0h8m  tot: 0h6m59s  (44.1%)\rEpoch: 20.8%  lr: 0.027848  loss: 0.009396  eta: 0h8m  tot: 0h6m59s  (44.2%)\rEpoch: 20.9%  lr: 0.027838  loss: 0.009398  eta: 0h8m  tot: 0h6m59s  (44.2%)\rEpoch: 21.0%  lr: 0.027818  loss: 0.009424  eta: 0h8m  tot: 0h6m59s  (44.2%)\rEpoch: 21.1%  lr: 0.027818  loss: 0.009461  eta: 0h8m  tot: 0h6m59s  (44.2%)\rEpoch: 21.2%  lr: 0.027798  loss: 0.009442  eta: 0h8m  tot: 0h7m0s  (44.2%)\rEpoch: 21.2%  lr: 0.027768  loss: 0.009446  eta: 0h8m  tot: 0h7m0s  (44.2%)\rEpoch: 21.3%  lr: 0.027768  loss: 0.009440  eta: 0h8m  tot: 0h7m0s  (44.3%)\rEpoch: 21.4%  lr: 0.027758  loss: 0.009432  eta: 0h8m  tot: 0h7m0s  (44.3%)\rEpoch: 21.5%  lr: 0.027748  loss: 0.009401  eta: 0h8m  tot: 0h7m0s  (44.3%)\rEpoch: 21.6%  lr: 0.027738  loss: 0.009405  eta: 0h8m  tot: 0h7m0s  (44.3%)\rEpoch: 21.7%  lr: 0.027728  loss: 0.009383  eta: 0h8m  tot: 0h7m1s  (44.3%)\rEpoch: 21.8%  lr: 0.027718  loss: 0.009400  eta: 0h8m  tot: 0h7m1s  (44.4%)\rEpoch: 21.9%  lr: 0.027698  loss: 0.009411  eta: 0h8m  tot: 0h7m1s  (44.4%)\rEpoch: 22.0%  lr: 0.027698  loss: 0.009423  eta: 0h8m  tot: 0h7m1s  (44.4%)\rEpoch: 22.1%  lr: 0.027688  loss: 0.009417  eta: 0h8m  tot: 0h7m1s  (44.4%)\rEpoch: 22.1%  lr: 0.027688  loss: 0.009412  eta: 0h8m  tot: 0h7m1s  (44.4%)\rEpoch: 22.2%  lr: 0.027678  loss: 0.009434  eta: 0h8m  tot: 0h7m2s  (44.4%)\rEpoch: 22.3%  lr: 0.027668  loss: 0.009500  eta: 0h8m  tot: 0h7m2s  (44.5%)\rEpoch: 22.4%  lr: 0.027668  loss: 0.009503  eta: 0h8m  tot: 0h7m2s  (44.5%)\rEpoch: 22.5%  lr: 0.027668  loss: 0.009489  eta: 0h8m  tot: 0h7m2s  (44.5%)\rEpoch: 22.6%  lr: 0.027648  loss: 0.009469  eta: 0h8m  tot: 0h7m2s  (44.5%)\rEpoch: 22.7%  lr: 0.027638  loss: 0.009489  eta: 0h8m  tot: 0h7m2s  (44.5%)\rEpoch: 22.8%  lr: 0.027638  loss: 0.009524  eta: 0h8m  tot: 0h7m3s  (44.6%)\rEpoch: 22.9%  lr: 0.027638  loss: 0.009515  eta: 0h8m  tot: 0h7m3s  (44.6%)\rEpoch: 23.0%  lr: 0.027638  loss: 0.009539  eta: 0h8m  tot: 0h7m3s  (44.6%)\rEpoch: 23.0%  lr: 0.027638  loss: 0.009598  eta: 0h8m  tot: 0h7m3s  (44.6%)\rEpoch: 23.1%  lr: 0.027638  loss: 0.009611  eta: 0h8m  tot: 0h7m3s  (44.6%)\rEpoch: 23.2%  lr: 0.027608  loss: 0.009597  eta: 0h8m  tot: 0h7m3s  (44.6%)\rEpoch: 23.3%  lr: 0.027588  loss: 0.009605  eta: 0h8m  tot: 0h7m4s  (44.7%)\rEpoch: 23.4%  lr: 0.027578  loss: 0.009616  eta: 0h8m  tot: 0h7m4s  (44.7%)\rEpoch: 23.5%  lr: 0.027578  loss: 0.009601  eta: 0h8m  tot: 0h7m4s  (44.7%)\rEpoch: 23.6%  lr: 0.027578  loss: 0.009580  eta: 0h8m  tot: 0h7m4s  (44.7%)\rEpoch: 23.7%  lr: 0.027568  loss: 0.009571  eta: 0h8m  tot: 0h7m4s  (44.7%)\rEpoch: 23.8%  lr: 0.027548  loss: 0.009549  eta: 0h8m  tot: 0h7m4s  (44.8%)\rEpoch: 23.9%  lr: 0.027548  loss: 0.009541  eta: 0h8m  tot: 0h7m4s  (44.8%)\rEpoch: 23.9%  lr: 0.027548  loss: 0.009541  eta: 0h8m  tot: 0h7m5s  (44.8%)\rEpoch: 24.0%  lr: 0.027528  loss: 0.009544  eta: 0h8m  tot: 0h7m5s  (44.8%)\rEpoch: 24.1%  lr: 0.027528  loss: 0.009557  eta: 0h8m  tot: 0h7m5s  (44.8%)\rEpoch: 24.2%  lr: 0.027518  loss: 0.009547  eta: 0h8m  tot: 0h7m5s  (44.8%)\rEpoch: 24.3%  lr: 0.027508  loss: 0.009540  eta: 0h8m  tot: 0h7m5s  (44.9%)\rEpoch: 24.4%  lr: 0.027508  loss: 0.009537  eta: 0h8m  tot: 0h7m5s  (44.9%)\rEpoch: 24.5%  lr: 0.027488  loss: 0.009549  eta: 0h8m  tot: 0h7m6s  (44.9%)\rEpoch: 24.6%  lr: 0.027488  loss: 0.009553  eta: 0h8m  tot: 0h7m6s  (44.9%)\rEpoch: 24.7%  lr: 0.027488  loss: 0.009541  eta: 0h8m  tot: 0h7m6s  (44.9%)\rEpoch: 24.8%  lr: 0.027468  loss: 0.009529  eta: 0h8m  tot: 0h7m6s  (45.0%)\rEpoch: 24.8%  lr: 0.027447  loss: 0.009539  eta: 0h8m  tot: 0h7m6s  (45.0%)\rEpoch: 24.9%  lr: 0.027397  loss: 0.009565  eta: 0h8m  tot: 0h7m6s  (45.0%)\rEpoch: 25.0%  lr: 0.027387  loss: 0.009561  eta: 0h8m  tot: 0h7m7s  (45.0%)\rEpoch: 25.1%  lr: 0.027387  loss: 0.009548  eta: 0h8m  tot: 0h7m7s  (45.0%)\rEpoch: 25.2%  lr: 0.027377  loss: 0.009542  eta: 0h8m  tot: 0h7m7s  (45.0%)\rEpoch: 25.3%  lr: 0.027367  loss: 0.009536  eta: 0h8m  tot: 0h7m7s  (45.1%)\rEpoch: 25.4%  lr: 0.027367  loss: 0.009539  eta: 0h8m  tot: 0h7m7s  (45.1%)\rEpoch: 25.5%  lr: 0.027367  loss: 0.009551  eta: 0h8m  tot: 0h7m7s  (45.1%)\rEpoch: 25.6%  lr: 0.027347  loss: 0.009526  eta: 0h8m  tot: 0h7m8s  (45.1%)\rEpoch: 25.7%  lr: 0.027347  loss: 0.009516  eta: 0h8m  tot: 0h7m8s  (45.1%)\rEpoch: 25.7%  lr: 0.027347  loss: 0.009509  eta: 0h8m  tot: 0h7m8s  (45.1%)\rEpoch: 25.8%  lr: 0.027347  loss: 0.009509  eta: 0h8m  tot: 0h7m8s  (45.2%)\rEpoch: 25.9%  lr: 0.027337  loss: 0.009508  eta: 0h8m  tot: 0h7m8s  (45.2%)\rEpoch: 26.0%  lr: 0.027327  loss: 0.009504  eta: 0h8m  tot: 0h7m8s  (45.2%)\rEpoch: 26.1%  lr: 0.027307  loss: 0.009517  eta: 0h8m  tot: 0h7m9s  (45.2%)\rEpoch: 26.2%  lr: 0.027307  loss: 0.009504  eta: 0h8m  tot: 0h7m9s  (45.2%)\rEpoch: 26.3%  lr: 0.027277  loss: 0.009541  eta: 0h8m  tot: 0h7m9s  (45.3%)\rEpoch: 26.4%  lr: 0.027267  loss: 0.009560  eta: 0h8m  tot: 0h7m9s  (45.3%)\rEpoch: 26.5%  lr: 0.027267  loss: 0.009599  eta: 0h8m  tot: 0h7m9s  (45.3%)\rEpoch: 26.6%  lr: 0.027267  loss: 0.009587  eta: 0h8m  tot: 0h7m9s  (45.3%)\rEpoch: 26.6%  lr: 0.027267  loss: 0.009568  eta: 0h8m  tot: 0h7m9s  (45.3%)\rEpoch: 26.7%  lr: 0.027257  loss: 0.009553  eta: 0h8m  tot: 0h7m10s  (45.3%)\rEpoch: 26.8%  lr: 0.027257  loss: 0.009575  eta: 0h8m  tot: 0h7m10s  (45.4%)\rEpoch: 26.9%  lr: 0.027257  loss: 0.009584  eta: 0h8m  tot: 0h7m10s  (45.4%)\rEpoch: 27.0%  lr: 0.027227  loss: 0.009577  eta: 0h8m  tot: 0h7m10s  (45.4%)\rEpoch: 27.1%  lr: 0.027217  loss: 0.009560  eta: 0h8m  tot: 0h7m10s  (45.4%)\rEpoch: 27.2%  lr: 0.027207  loss: 0.009538  eta: 0h8m  tot: 0h7m10s  (45.4%)\rEpoch: 27.3%  lr: 0.027207  loss: 0.009541  eta: 0h8m  tot: 0h7m11s  (45.5%)\rEpoch: 27.4%  lr: 0.027207  loss: 0.009520  eta: 0h8m  tot: 0h7m11s  (45.5%)\rEpoch: 27.5%  lr: 0.027197  loss: 0.009523  eta: 0h8m  tot: 0h7m11s  (45.5%)\rEpoch: 27.5%  lr: 0.027197  loss: 0.009521  eta: 0h8m  tot: 0h7m11s  (45.5%)\rEpoch: 27.6%  lr: 0.027197  loss: 0.009504  eta: 0h8m  tot: 0h7m11s  (45.5%)\rEpoch: 27.7%  lr: 0.027197  loss: 0.009516  eta: 0h8m  tot: 0h7m11s  (45.5%)\rEpoch: 27.8%  lr: 0.027197  loss: 0.009529  eta: 0h8m  tot: 0h7m12s  (45.6%)\rEpoch: 27.9%  lr: 0.027157  loss: 0.009535  eta: 0h8m  tot: 0h7m12s  (45.6%)\rEpoch: 28.0%  lr: 0.027157  loss: 0.009530  eta: 0h8m  tot: 0h7m12s  (45.6%)\rEpoch: 28.1%  lr: 0.027157  loss: 0.009538  eta: 0h8m  tot: 0h7m12s  (45.6%)\rEpoch: 28.2%  lr: 0.027157  loss: 0.009542  eta: 0h8m  tot: 0h7m12s  (45.6%)\rEpoch: 28.3%  lr: 0.027137  loss: 0.009558  eta: 0h8m  tot: 0h7m12s  (45.7%)\rEpoch: 28.4%  lr: 0.027127  loss: 0.009574  eta: 0h8m  tot: 0h7m13s  (45.7%)\rEpoch: 28.4%  lr: 0.027117  loss: 0.009579  eta: 0h8m  tot: 0h7m13s  (45.7%)\rEpoch: 28.5%  lr: 0.027117  loss: 0.009587  eta: 0h8m  tot: 0h7m13s  (45.7%)\rEpoch: 28.6%  lr: 0.027117  loss: 0.009569  eta: 0h8m  tot: 0h7m13s  (45.7%)\rEpoch: 28.7%  lr: 0.027097  loss: 0.009583  eta: 0h8m  tot: 0h7m13s  (45.7%)\rEpoch: 28.8%  lr: 0.027087  loss: 0.009580  eta: 0h8m  tot: 0h7m13s  (45.8%)\rEpoch: 28.9%  lr: 0.027067  loss: 0.009584  eta: 0h8m  tot: 0h7m13s  (45.8%)\rEpoch: 29.0%  lr: 0.027037  loss: 0.009592  eta: 0h8m  tot: 0h7m14s  (45.8%)\rEpoch: 29.1%  lr: 0.027027  loss: 0.009586  eta: 0h8m  tot: 0h7m14s  (45.8%)\rEpoch: 29.2%  lr: 0.027017  loss: 0.009585  eta: 0h8m  tot: 0h7m14s  (45.8%)\rEpoch: 29.3%  lr: 0.026977  loss: 0.009570  eta: 0h8m  tot: 0h7m14s  (45.9%)\rEpoch: 29.3%  lr: 0.026977  loss: 0.009552  eta: 0h8m  tot: 0h7m14s  (45.9%)\rEpoch: 29.4%  lr: 0.026967  loss: 0.009540  eta: 0h8m  tot: 0h7m14s  (45.9%)\rEpoch: 29.5%  lr: 0.026967  loss: 0.009526  eta: 0h8m  tot: 0h7m15s  (45.9%)\rEpoch: 29.6%  lr: 0.026967  loss: 0.009513  eta: 0h8m  tot: 0h7m15s  (45.9%)\rEpoch: 29.7%  lr: 0.026967  loss: 0.009500  eta: 0h8m  tot: 0h7m15s  (45.9%)\rEpoch: 29.8%  lr: 0.026947  loss: 0.009491  eta: 0h8m  tot: 0h7m15s  (46.0%)\rEpoch: 29.9%  lr: 0.026937  loss: 0.009508  eta: 0h8m  tot: 0h7m15s  (46.0%)\rEpoch: 30.0%  lr: 0.026937  loss: 0.009501  eta: 0h8m  tot: 0h7m15s  (46.0%)\rEpoch: 30.1%  lr: 0.026927  loss: 0.009485  eta: 0h8m  tot: 0h7m16s  (46.0%)\rEpoch: 30.2%  lr: 0.026907  loss: 0.009478  eta: 0h8m  tot: 0h7m16s  (46.0%)\rEpoch: 30.2%  lr: 0.026907  loss: 0.009465  eta: 0h8m  tot: 0h7m16s  (46.0%)\rEpoch: 30.3%  lr: 0.026897  loss: 0.009460  eta: 0h8m  tot: 0h7m16s  (46.1%)\rEpoch: 30.4%  lr: 0.026877  loss: 0.009459  eta: 0h8m  tot: 0h7m16s  (46.1%)\rEpoch: 30.5%  lr: 0.026847  loss: 0.009474  eta: 0h8m  tot: 0h7m16s  (46.1%)\rEpoch: 30.6%  lr: 0.026847  loss: 0.009463  eta: 0h8m  tot: 0h7m17s  (46.1%)\rEpoch: 30.7%  lr: 0.026837  loss: 0.009457  eta: 0h8m  tot: 0h7m17s  (46.1%)\rEpoch: 30.8%  lr: 0.026837  loss: 0.009501  eta: 0h8m  tot: 0h7m17s  (46.2%)\rEpoch: 30.9%  lr: 0.026837  loss: 0.009483  eta: 0h8m  tot: 0h7m17s  (46.2%)\rEpoch: 31.0%  lr: 0.026807  loss: 0.009470  eta: 0h8m  tot: 0h7m17s  (46.2%)\rEpoch: 31.1%  lr: 0.026807  loss: 0.009459  eta: 0h8m  tot: 0h7m17s  (46.2%)\rEpoch: 31.1%  lr: 0.026807  loss: 0.009461  eta: 0h8m  tot: 0h7m18s  (46.2%)\rEpoch: 31.2%  lr: 0.026797  loss: 0.009440  eta: 0h8m  tot: 0h7m18s  (46.2%)\rEpoch: 31.3%  lr: 0.026787  loss: 0.009445  eta: 0h8m  tot: 0h7m18s  (46.3%)\rEpoch: 31.4%  lr: 0.026777  loss: 0.009439  eta: 0h8m  tot: 0h7m18s  (46.3%)\rEpoch: 31.5%  lr: 0.026767  loss: 0.009432  eta: 0h8m  tot: 0h7m18s  (46.3%)\rEpoch: 31.6%  lr: 0.026757  loss: 0.009419  eta: 0h8m  tot: 0h7m18s  (46.3%)\rEpoch: 31.7%  lr: 0.026757  loss: 0.009423  eta: 0h8m  tot: 0h7m18s  (46.3%)\rEpoch: 31.8%  lr: 0.026747  loss: 0.009411  eta: 0h8m  tot: 0h7m19s  (46.4%)\rEpoch: 31.9%  lr: 0.026737  loss: 0.009398  eta: 0h8m  tot: 0h7m19s  (46.4%)\rEpoch: 32.0%  lr: 0.026717  loss: 0.009392  eta: 0h8m  tot: 0h7m19s  (46.4%)\rEpoch: 32.0%  lr: 0.026707  loss: 0.009387  eta: 0h8m  tot: 0h7m19s  (46.4%)\rEpoch: 32.1%  lr: 0.026707  loss: 0.009385  eta: 0h8m  tot: 0h7m19s  (46.4%)\rEpoch: 32.2%  lr: 0.026707  loss: 0.009381  eta: 0h8m  tot: 0h7m19s  (46.4%)\rEpoch: 32.3%  lr: 0.026687  loss: 0.009372  eta: 0h8m  tot: 0h7m20s  (46.5%)\rEpoch: 32.4%  lr: 0.026677  loss: 0.009359  eta: 0h8m  tot: 0h7m20s  (46.5%)\rEpoch: 32.5%  lr: 0.026647  loss: 0.009367  eta: 0h8m  tot: 0h7m20s  (46.5%)\rEpoch: 32.6%  lr: 0.026637  loss: 0.009362  eta: 0h7m  tot: 0h7m20s  (46.5%)\rEpoch: 32.7%  lr: 0.026637  loss: 0.009406  eta: 0h7m  tot: 0h7m20s  (46.5%)\rEpoch: 32.8%  lr: 0.026627  loss: 0.009415  eta: 0h7m  tot: 0h7m20s  (46.6%)\rEpoch: 32.9%  lr: 0.026627  loss: 0.009450  eta: 0h7m  tot: 0h7m21s  (46.6%)\rEpoch: 32.9%  lr: 0.026617  loss: 0.009451  eta: 0h7m  tot: 0h7m21s  (46.6%)\rEpoch: 33.0%  lr: 0.026577  loss: 0.009438  eta: 0h7m  tot: 0h7m21s  (46.6%)\rEpoch: 33.1%  lr: 0.026557  loss: 0.009431  eta: 0h7m  tot: 0h7m21s  (46.6%)\rEpoch: 33.2%  lr: 0.026547  loss: 0.009424  eta: 0h7m  tot: 0h7m21s  (46.6%)\rEpoch: 33.3%  lr: 0.026547  loss: 0.009427  eta: 0h7m  tot: 0h7m21s  (46.7%)\rEpoch: 33.4%  lr: 0.026527  loss: 0.009422  eta: 0h7m  tot: 0h7m22s  (46.7%)\rEpoch: 33.5%  lr: 0.026517  loss: 0.009407  eta: 0h7m  tot: 0h7m22s  (46.7%)\rEpoch: 33.6%  lr: 0.026517  loss: 0.009418  eta: 0h7m  tot: 0h7m22s  (46.7%)\rEpoch: 33.7%  lr: 0.026497  loss: 0.009421  eta: 0h7m  tot: 0h7m22s  (46.7%)\rEpoch: 33.8%  lr: 0.026497  loss: 0.009409  eta: 0h7m  tot: 0h7m22s  (46.8%)\rEpoch: 33.8%  lr: 0.026467  loss: 0.009429  eta: 0h7m  tot: 0h7m22s  (46.8%)\rEpoch: 33.9%  lr: 0.026457  loss: 0.009412  eta: 0h7m  tot: 0h7m23s  (46.8%)\rEpoch: 34.0%  lr: 0.026457  loss: 0.009417  eta: 0h7m  tot: 0h7m23s  (46.8%)\rEpoch: 34.1%  lr: 0.026457  loss: 0.009439  eta: 0h7m  tot: 0h7m23s  (46.8%)\rEpoch: 34.2%  lr: 0.026436  loss: 0.009431  eta: 0h7m  tot: 0h7m23s  (46.8%)\rEpoch: 34.3%  lr: 0.026436  loss: 0.009429  eta: 0h7m  tot: 0h7m23s  (46.9%)\rEpoch: 34.4%  lr: 0.026416  loss: 0.009416  eta: 0h7m  tot: 0h7m23s  (46.9%)\rEpoch: 34.5%  lr: 0.026406  loss: 0.009418  eta: 0h7m  tot: 0h7m24s  (46.9%)\rEpoch: 34.6%  lr: 0.026386  loss: 0.009410  eta: 0h7m  tot: 0h7m24s  (46.9%)\rEpoch: 34.7%  lr: 0.026376  loss: 0.009398  eta: 0h7m  tot: 0h7m24s  (46.9%)\rEpoch: 34.7%  lr: 0.026376  loss: 0.009413  eta: 0h7m  tot: 0h7m24s  (46.9%)\rEpoch: 34.8%  lr: 0.026376  loss: 0.009415  eta: 0h7m  tot: 0h7m24s  (47.0%)\rEpoch: 34.9%  lr: 0.026356  loss: 0.009399  eta: 0h7m  tot: 0h7m24s  (47.0%)\rEpoch: 35.0%  lr: 0.026346  loss: 0.009398  eta: 0h7m  tot: 0h7m25s  (47.0%)\rEpoch: 35.1%  lr: 0.026346  loss: 0.009378  eta: 0h7m  tot: 0h7m25s  (47.0%)\rEpoch: 35.2%  lr: 0.026326  loss: 0.009379  eta: 0h7m  tot: 0h7m25s  (47.0%)\rEpoch: 35.3%  lr: 0.026296  loss: 0.009364  eta: 0h7m  tot: 0h7m25s  (47.1%)\rEpoch: 35.4%  lr: 0.026286  loss: 0.009362  eta: 0h7m  tot: 0h7m25s  (47.1%)\rEpoch: 35.5%  lr: 0.026286  loss: 0.009377  eta: 0h7m  tot: 0h7m25s  (47.1%)\rEpoch: 35.6%  lr: 0.026286  loss: 0.009395  eta: 0h7m  tot: 0h7m25s  (47.1%)\rEpoch: 35.6%  lr: 0.026286  loss: 0.009409  eta: 0h7m  tot: 0h7m26s  (47.1%)\rEpoch: 35.7%  lr: 0.026286  loss: 0.009393  eta: 0h7m  tot: 0h7m26s  (47.1%)\rEpoch: 35.8%  lr: 0.026276  loss: 0.009378  eta: 0h7m  tot: 0h7m26s  (47.2%)\rEpoch: 35.9%  lr: 0.026266  loss: 0.009377  eta: 0h7m  tot: 0h7m26s  (47.2%)\rEpoch: 36.0%  lr: 0.026266  loss: 0.009382  eta: 0h7m  tot: 0h7m26s  (47.2%)\rEpoch: 36.1%  lr: 0.026236  loss: 0.009394  eta: 0h7m  tot: 0h7m26s  (47.2%)\rEpoch: 36.2%  lr: 0.026216  loss: 0.009414  eta: 0h7m  tot: 0h7m27s  (47.2%)\rEpoch: 36.3%  lr: 0.026186  loss: 0.009400  eta: 0h7m  tot: 0h7m27s  (47.3%)\rEpoch: 36.4%  lr: 0.026176  loss: 0.009394  eta: 0h7m  tot: 0h7m27s  (47.3%)\rEpoch: 36.5%  lr: 0.026176  loss: 0.009390  eta: 0h7m  tot: 0h7m27s  (47.3%)\rEpoch: 36.5%  lr: 0.026156  loss: 0.009387  eta: 0h7m  tot: 0h7m27s  (47.3%)\rEpoch: 36.6%  lr: 0.026126  loss: 0.009370  eta: 0h7m  tot: 0h7m27s  (47.3%)\rEpoch: 36.7%  lr: 0.026126  loss: 0.009367  eta: 0h7m  tot: 0h7m28s  (47.3%)\rEpoch: 36.8%  lr: 0.026126  loss: 0.009368  eta: 0h7m  tot: 0h7m28s  (47.4%)\rEpoch: 36.9%  lr: 0.026116  loss: 0.009363  eta: 0h7m  tot: 0h7m28s  (47.4%)\rEpoch: 37.0%  lr: 0.026106  loss: 0.009356  eta: 0h7m  tot: 0h7m28s  (47.4%)\rEpoch: 37.1%  lr: 0.026106  loss: 0.009352  eta: 0h7m  tot: 0h7m28s  (47.4%)\rEpoch: 37.2%  lr: 0.026096  loss: 0.009356  eta: 0h7m  tot: 0h7m28s  (47.4%)\rEpoch: 37.3%  lr: 0.026096  loss: 0.009353  eta: 0h7m  tot: 0h7m29s  (47.5%)\rEpoch: 37.4%  lr: 0.026086  loss: 0.009348  eta: 0h7m  tot: 0h7m29s  (47.5%)\rEpoch: 37.4%  lr: 0.026076  loss: 0.009336  eta: 0h7m  tot: 0h7m29s  (47.5%)\rEpoch: 37.5%  lr: 0.026056  loss: 0.009366  eta: 0h7m  tot: 0h7m29s  (47.5%)\rEpoch: 37.6%  lr: 0.026036  loss: 0.009362  eta: 0h7m  tot: 0h7m29s  (47.5%)\rEpoch: 37.7%  lr: 0.026026  loss: 0.009353  eta: 0h7m  tot: 0h7m29s  (47.5%)\rEpoch: 37.8%  lr: 0.026026  loss: 0.009349  eta: 0h7m  tot: 0h7m29s  (47.6%)\rEpoch: 37.9%  lr: 0.026016  loss: 0.009358  eta: 0h7m  tot: 0h7m30s  (47.6%)\rEpoch: 38.0%  lr: 0.026016  loss: 0.009367  eta: 0h7m  tot: 0h7m30s  (47.6%)\rEpoch: 38.1%  lr: 0.026016  loss: 0.009355  eta: 0h7m  tot: 0h7m30s  (47.6%)\rEpoch: 38.2%  lr: 0.026016  loss: 0.009348  eta: 0h7m  tot: 0h7m30s  (47.6%)\rEpoch: 38.3%  lr: 0.026006  loss: 0.009348  eta: 0h7m  tot: 0h7m30s  (47.7%)\rEpoch: 38.3%  lr: 0.026006  loss: 0.009348  eta: 0h7m  tot: 0h7m30s  (47.7%)\rEpoch: 38.4%  lr: 0.025986  loss: 0.009370  eta: 0h7m  tot: 0h7m31s  (47.7%)\rEpoch: 38.5%  lr: 0.025976  loss: 0.009357  eta: 0h7m  tot: 0h7m31s  (47.7%)\rEpoch: 38.6%  lr: 0.025976  loss: 0.009368  eta: 0h7m  tot: 0h7m31s  (47.7%)\rEpoch: 38.7%  lr: 0.025966  loss: 0.009387  eta: 0h7m  tot: 0h7m31s  (47.7%)\rEpoch: 38.8%  lr: 0.025956  loss: 0.009386  eta: 0h7m  tot: 0h7m31s  (47.8%)\rEpoch: 38.9%  lr: 0.025946  loss: 0.009385  eta: 0h7m  tot: 0h7m31s  (47.8%)\rEpoch: 39.0%  lr: 0.025946  loss: 0.009397  eta: 0h7m  tot: 0h7m32s  (47.8%)\rEpoch: 39.1%  lr: 0.025946  loss: 0.009425  eta: 0h7m  tot: 0h7m32s  (47.8%)\rEpoch: 39.2%  lr: 0.025936  loss: 0.009418  eta: 0h7m  tot: 0h7m32s  (47.8%)\rEpoch: 39.2%  lr: 0.025916  loss: 0.009407  eta: 0h7m  tot: 0h7m32s  (47.8%)\rEpoch: 39.3%  lr: 0.025906  loss: 0.009398  eta: 0h7m  tot: 0h7m32s  (47.9%)\rEpoch: 39.4%  lr: 0.025896  loss: 0.009411  eta: 0h7m  tot: 0h7m32s  (47.9%)\rEpoch: 39.5%  lr: 0.025896  loss: 0.009398  eta: 0h7m  tot: 0h7m33s  (47.9%)\rEpoch: 39.6%  lr: 0.025896  loss: 0.009402  eta: 0h7m  tot: 0h7m33s  (47.9%)\rEpoch: 39.7%  lr: 0.025896  loss: 0.009388  eta: 0h7m  tot: 0h7m33s  (47.9%)\rEpoch: 39.8%  lr: 0.025896  loss: 0.009377  eta: 0h7m  tot: 0h7m33s  (48.0%)\rEpoch: 39.9%  lr: 0.025896  loss: 0.009369  eta: 0h7m  tot: 0h7m33s  (48.0%)\rEpoch: 40.0%  lr: 0.025886  loss: 0.009365  eta: 0h7m  tot: 0h7m33s  (48.0%)\rEpoch: 40.1%  lr: 0.025876  loss: 0.009362  eta: 0h7m  tot: 0h7m34s  (48.0%)\rEpoch: 40.1%  lr: 0.025876  loss: 0.009355  eta: 0h7m  tot: 0h7m34s  (48.0%)\rEpoch: 40.2%  lr: 0.025866  loss: 0.009354  eta: 0h7m  tot: 0h7m34s  (48.0%)\rEpoch: 40.3%  lr: 0.025846  loss: 0.009354  eta: 0h7m  tot: 0h7m34s  (48.1%)\rEpoch: 40.4%  lr: 0.025816  loss: 0.009355  eta: 0h7m  tot: 0h7m34s  (48.1%)\rEpoch: 40.5%  lr: 0.025806  loss: 0.009359  eta: 0h7m  tot: 0h7m34s  (48.1%)\rEpoch: 40.6%  lr: 0.025806  loss: 0.009357  eta: 0h7m  tot: 0h7m34s  (48.1%)\rEpoch: 40.7%  lr: 0.025796  loss: 0.009352  eta: 0h7m  tot: 0h7m35s  (48.1%)\rEpoch: 40.8%  lr: 0.025786  loss: 0.009353  eta: 0h7m  tot: 0h7m35s  (48.2%)\rEpoch: 40.9%  lr: 0.025786  loss: 0.009356  eta: 0h7m  tot: 0h7m35s  (48.2%)\rEpoch: 41.0%  lr: 0.025766  loss: 0.009349  eta: 0h7m  tot: 0h7m35s  (48.2%)\rEpoch: 41.0%  lr: 0.025756  loss: 0.009356  eta: 0h7m  tot: 0h7m35s  (48.2%)\rEpoch: 41.1%  lr: 0.025756  loss: 0.009352  eta: 0h7m  tot: 0h7m35s  (48.2%)\rEpoch: 41.2%  lr: 0.025746  loss: 0.009353  eta: 0h7m  tot: 0h7m36s  (48.2%)\rEpoch: 41.3%  lr: 0.025726  loss: 0.009352  eta: 0h7m  tot: 0h7m36s  (48.3%)\rEpoch: 41.4%  lr: 0.025716  loss: 0.009354  eta: 0h7m  tot: 0h7m36s  (48.3%)\rEpoch: 41.5%  lr: 0.025696  loss: 0.009347  eta: 0h7m  tot: 0h7m36s  (48.3%)\rEpoch: 41.6%  lr: 0.025666  loss: 0.009343  eta: 0h7m  tot: 0h7m36s  (48.3%)\rEpoch: 41.7%  lr: 0.025656  loss: 0.009347  eta: 0h7m  tot: 0h7m36s  (48.3%)\rEpoch: 41.8%  lr: 0.025656  loss: 0.009338  eta: 0h7m  tot: 0h7m37s  (48.4%)\rEpoch: 41.9%  lr: 0.025656  loss: 0.009354  eta: 0h7m  tot: 0h7m37s  (48.4%)\rEpoch: 42.0%  lr: 0.025636  loss: 0.009347  eta: 0h7m  tot: 0h7m37s  (48.4%)\rEpoch: 42.0%  lr: 0.025626  loss: 0.009346  eta: 0h7m  tot: 0h7m37s  (48.4%)\rEpoch: 42.1%  lr: 0.025626  loss: 0.009344  eta: 0h7m  tot: 0h7m37s  (48.4%)\rEpoch: 42.2%  lr: 0.025616  loss: 0.009340  eta: 0h7m  tot: 0h7m37s  (48.4%)\rEpoch: 42.3%  lr: 0.025616  loss: 0.009358  eta: 0h7m  tot: 0h7m38s  (48.5%)\rEpoch: 42.4%  lr: 0.025616  loss: 0.009348  eta: 0h7m  tot: 0h7m38s  (48.5%)\rEpoch: 42.5%  lr: 0.025616  loss: 0.009339  eta: 0h7m  tot: 0h7m38s  (48.5%)\rEpoch: 42.6%  lr: 0.025606  loss: 0.009340  eta: 0h7m  tot: 0h7m38s  (48.5%)\rEpoch: 42.7%  lr: 0.025606  loss: 0.009337  eta: 0h7m  tot: 0h7m38s  (48.5%)\rEpoch: 42.8%  lr: 0.025576  loss: 0.009328  eta: 0h7m  tot: 0h7m38s  (48.6%)\rEpoch: 42.9%  lr: 0.025566  loss: 0.009314  eta: 0h7m  tot: 0h7m39s  (48.6%)\rEpoch: 42.9%  lr: 0.025566  loss: 0.009317  eta: 0h7m  tot: 0h7m39s  (48.6%)\rEpoch: 43.0%  lr: 0.025566  loss: 0.009302  eta: 0h7m  tot: 0h7m39s  (48.6%)\rEpoch: 43.1%  lr: 0.025546  loss: 0.009303  eta: 0h7m  tot: 0h7m39s  (48.6%)\rEpoch: 43.2%  lr: 0.025516  loss: 0.009294  eta: 0h7m  tot: 0h7m39s  (48.6%)\rEpoch: 43.3%  lr: 0.025486  loss: 0.009285  eta: 0h7m  tot: 0h7m39s  (48.7%)\rEpoch: 43.4%  lr: 0.025476  loss: 0.009281  eta: 0h7m  tot: 0h7m39s  (48.7%)\rEpoch: 43.5%  lr: 0.025476  loss: 0.009298  eta: 0h7m  tot: 0h7m40s  (48.7%)\rEpoch: 43.6%  lr: 0.025466  loss: 0.009292  eta: 0h7m  tot: 0h7m40s  (48.7%)\rEpoch: 43.7%  lr: 0.025446  loss: 0.009287  eta: 0h7m  tot: 0h7m40s  (48.7%)\rEpoch: 43.8%  lr: 0.025446  loss: 0.009271  eta: 0h7m  tot: 0h7m40s  (48.8%)\rEpoch: 43.8%  lr: 0.025446  loss: 0.009278  eta: 0h7m  tot: 0h7m40s  (48.8%)\rEpoch: 43.9%  lr: 0.025446  loss: 0.009281  eta: 0h7m  tot: 0h7m40s  (48.8%)\rEpoch: 44.0%  lr: 0.025425  loss: 0.009277  eta: 0h7m  tot: 0h7m41s  (48.8%)\rEpoch: 44.1%  lr: 0.025425  loss: 0.009279  eta: 0h7m  tot: 0h7m41s  (48.8%)\rEpoch: 44.2%  lr: 0.025405  loss: 0.009262  eta: 0h7m  tot: 0h7m41s  (48.8%)\rEpoch: 44.3%  lr: 0.025395  loss: 0.009262  eta: 0h7m  tot: 0h7m41s  (48.9%)\rEpoch: 44.4%  lr: 0.025375  loss: 0.009253  eta: 0h7m  tot: 0h7m41s  (48.9%)\rEpoch: 44.5%  lr: 0.025375  loss: 0.009241  eta: 0h7m  tot: 0h7m41s  (48.9%)\rEpoch: 44.6%  lr: 0.025375  loss: 0.009238  eta: 0h7m  tot: 0h7m42s  (48.9%)\rEpoch: 44.7%  lr: 0.025355  loss: 0.009225  eta: 0h7m  tot: 0h7m42s  (48.9%)\rEpoch: 44.7%  lr: 0.025355  loss: 0.009231  eta: 0h7m  tot: 0h7m42s  (48.9%)\rEpoch: 44.8%  lr: 0.025355  loss: 0.009232  eta: 0h7m  tot: 0h7m42s  (49.0%)\rEpoch: 44.9%  lr: 0.025345  loss: 0.009222  eta: 0h7m  tot: 0h7m42s  (49.0%)\rEpoch: 45.0%  lr: 0.025305  loss: 0.009218  eta: 0h7m  tot: 0h7m42s  (49.0%)\rEpoch: 45.1%  lr: 0.025285  loss: 0.009227  eta: 0h7m  tot: 0h7m43s  (49.0%)\rEpoch: 45.2%  lr: 0.025275  loss: 0.009247  eta: 0h7m  tot: 0h7m43s  (49.0%)\rEpoch: 45.3%  lr: 0.025255  loss: 0.009235  eta: 0h7m  tot: 0h7m43s  (49.1%)\rEpoch: 45.4%  lr: 0.025255  loss: 0.009244  eta: 0h7m  tot: 0h7m43s  (49.1%)\rEpoch: 45.5%  lr: 0.025225  loss: 0.009238  eta: 0h7m  tot: 0h7m43s  (49.1%)\rEpoch: 45.6%  lr: 0.025225  loss: 0.009230  eta: 0h7m  tot: 0h7m43s  (49.1%)\rEpoch: 45.6%  lr: 0.025225  loss: 0.009225  eta: 0h7m  tot: 0h7m44s  (49.1%)\rEpoch: 45.7%  lr: 0.025205  loss: 0.009224  eta: 0h7m  tot: 0h7m44s  (49.1%)\rEpoch: 45.8%  lr: 0.025205  loss: 0.009223  eta: 0h7m  tot: 0h7m44s  (49.2%)\rEpoch: 45.9%  lr: 0.025205  loss: 0.009225  eta: 0h7m  tot: 0h7m44s  (49.2%)\rEpoch: 46.0%  lr: 0.025205  loss: 0.009216  eta: 0h7m  tot: 0h7m44s  (49.2%)\rEpoch: 46.1%  lr: 0.025195  loss: 0.009219  eta: 0h7m  tot: 0h7m44s  (49.2%)\rEpoch: 46.2%  lr: 0.025185  loss: 0.009211  eta: 0h7m  tot: 0h7m45s  (49.2%)\rEpoch: 46.3%  lr: 0.025185  loss: 0.009215  eta: 0h7m  tot: 0h7m45s  (49.3%)\rEpoch: 46.4%  lr: 0.025175  loss: 0.009209  eta: 0h7m  tot: 0h7m45s  (49.3%)\rEpoch: 46.5%  lr: 0.025175  loss: 0.009223  eta: 0h7m  tot: 0h7m45s  (49.3%)\rEpoch: 46.5%  lr: 0.025165  loss: 0.009222  eta: 0h7m  tot: 0h7m45s  (49.3%)\rEpoch: 46.6%  lr: 0.025165  loss: 0.009238  eta: 0h7m  tot: 0h7m45s  (49.3%)\rEpoch: 46.7%  lr: 0.025145  loss: 0.009228  eta: 0h7m  tot: 0h7m46s  (49.3%)\rEpoch: 46.8%  lr: 0.025135  loss: 0.009215  eta: 0h7m  tot: 0h7m46s  (49.4%)\rEpoch: 46.9%  lr: 0.025125  loss: 0.009228  eta: 0h7m  tot: 0h7m46s  (49.4%)\rEpoch: 47.0%  lr: 0.025115  loss: 0.009225  eta: 0h7m  tot: 0h7m46s  (49.4%)\rEpoch: 47.1%  lr: 0.025115  loss: 0.009232  eta: 0h7m  tot: 0h7m46s  (49.4%)\rEpoch: 47.2%  lr: 0.025095  loss: 0.009260  eta: 0h7m  tot: 0h7m46s  (49.4%)\rEpoch: 47.3%  lr: 0.025095  loss: 0.009265  eta: 0h7m  tot: 0h7m46s  (49.5%)\rEpoch: 47.4%  lr: 0.025095  loss: 0.009256  eta: 0h7m  tot: 0h7m47s  (49.5%)\rEpoch: 47.4%  lr: 0.025075  loss: 0.009274  eta: 0h7m  tot: 0h7m47s  (49.5%)\rEpoch: 47.5%  lr: 0.025065  loss: 0.009264  eta: 0h7m  tot: 0h7m47s  (49.5%)\rEpoch: 47.6%  lr: 0.025065  loss: 0.009287  eta: 0h7m  tot: 0h7m47s  (49.5%)\rEpoch: 47.7%  lr: 0.025065  loss: 0.009279  eta: 0h7m  tot: 0h7m47s  (49.5%)\rEpoch: 47.8%  lr: 0.025065  loss: 0.009279  eta: 0h7m  tot: 0h7m47s  (49.6%)\rEpoch: 47.9%  lr: 0.025065  loss: 0.009270  eta: 0h7m  tot: 0h7m47s  (49.6%)\rEpoch: 48.0%  lr: 0.025055  loss: 0.009279  eta: 0h7m  tot: 0h7m48s  (49.6%)\rEpoch: 48.1%  lr: 0.025045  loss: 0.009282  eta: 0h7m  tot: 0h7m48s  (49.6%)\rEpoch: 48.2%  lr: 0.025035  loss: 0.009287  eta: 0h7m  tot: 0h7m48s  (49.6%)\rEpoch: 48.3%  lr: 0.025015  loss: 0.009287  eta: 0h7m  tot: 0h7m48s  (49.7%)\rEpoch: 48.3%  lr: 0.025015  loss: 0.009289  eta: 0h7m  tot: 0h7m48s  (49.7%)\rEpoch: 48.4%  lr: 0.025015  loss: 0.009283  eta: 0h7m  tot: 0h7m48s  (49.7%)\rEpoch: 48.5%  lr: 0.025005  loss: 0.009274  eta: 0h7m  tot: 0h7m49s  (49.7%)\rEpoch: 48.6%  lr: 0.024975  loss: 0.009271  eta: 0h7m  tot: 0h7m49s  (49.7%)\rEpoch: 48.7%  lr: 0.024965  loss: 0.009271  eta: 0h7m  tot: 0h7m49s  (49.7%)\rEpoch: 48.8%  lr: 0.024965  loss: 0.009263  eta: 0h7m  tot: 0h7m49s  (49.8%)\rEpoch: 48.9%  lr: 0.024955  loss: 0.009271  eta: 0h7m  tot: 0h7m49s  (49.8%)\rEpoch: 49.0%  lr: 0.024955  loss: 0.009267  eta: 0h7m  tot: 0h7m49s  (49.8%)\rEpoch: 49.1%  lr: 0.024945  loss: 0.009269  eta: 0h7m  tot: 0h7m50s  (49.8%)\rEpoch: 49.2%  lr: 0.024915  loss: 0.009258  eta: 0h7m  tot: 0h7m50s  (49.8%)\rEpoch: 49.2%  lr: 0.024915  loss: 0.009262  eta: 0h7m  tot: 0h7m50s  (49.8%)\rEpoch: 49.3%  lr: 0.024915  loss: 0.009262  eta: 0h7m  tot: 0h7m50s  (49.9%)\rEpoch: 49.4%  lr: 0.024915  loss: 0.009269  eta: 0h7m  tot: 0h7m50s  (49.9%)\rEpoch: 49.5%  lr: 0.024915  loss: 0.009266  eta: 0h7m  tot: 0h7m50s  (49.9%)\rEpoch: 49.6%  lr: 0.024905  loss: 0.009270  eta: 0h7m  tot: 0h7m51s  (49.9%)\rEpoch: 49.7%  lr: 0.024895  loss: 0.009256  eta: 0h7m  tot: 0h7m51s  (49.9%)\rEpoch: 49.8%  lr: 0.024895  loss: 0.009253  eta: 0h7m  tot: 0h7m51s  (50.0%)\rEpoch: 49.9%  lr: 0.024865  loss: 0.009253  eta: 0h7m  tot: 0h7m51s  (50.0%)\rEpoch: 50.0%  lr: 0.024865  loss: 0.009245  eta: 0h7m  tot: 0h7m51s  (50.0%)\rEpoch: 50.1%  lr: 0.024855  loss: 0.009240  eta: 0h7m  tot: 0h7m51s  (50.0%)\rEpoch: 50.1%  lr: 0.024845  loss: 0.009227  eta: 0h7m  tot: 0h7m52s  (50.0%)\rEpoch: 50.2%  lr: 0.024835  loss: 0.009230  eta: 0h7m  tot: 0h7m52s  (50.0%)\rEpoch: 50.3%  lr: 0.024815  loss: 0.009230  eta: 0h7m  tot: 0h7m52s  (50.1%)\rEpoch: 50.4%  lr: 0.024795  loss: 0.009228  eta: 0h7m  tot: 0h7m52s  (50.1%)\rEpoch: 50.5%  lr: 0.024795  loss: 0.009220  eta: 0h7m  tot: 0h7m52s  (50.1%)\rEpoch: 50.6%  lr: 0.024775  loss: 0.009239  eta: 0h7m  tot: 0h7m52s  (50.1%)\rEpoch: 50.7%  lr: 0.024775  loss: 0.009244  eta: 0h7m  tot: 0h7m53s  (50.1%)\rEpoch: 50.8%  lr: 0.024745  loss: 0.009236  eta: 0h7m  tot: 0h7m53s  (50.2%)\rEpoch: 50.9%  lr: 0.024745  loss: 0.009228  eta: 0h7m  tot: 0h7m53s  (50.2%)\rEpoch: 51.0%  lr: 0.024745  loss: 0.009230  eta: 0h7m  tot: 0h7m53s  (50.2%)\rEpoch: 51.0%  lr: 0.024745  loss: 0.009234  eta: 0h7m  tot: 0h7m53s  (50.2%)\rEpoch: 51.1%  lr: 0.024745  loss: 0.009234  eta: 0h7m  tot: 0h7m53s  (50.2%)\rEpoch: 51.2%  lr: 0.024745  loss: 0.009228  eta: 0h7m  tot: 0h7m54s  (50.2%)\rEpoch: 51.3%  lr: 0.024735  loss: 0.009222  eta: 0h7m  tot: 0h7m54s  (50.3%)\rEpoch: 51.4%  lr: 0.024735  loss: 0.009222  eta: 0h7m  tot: 0h7m54s  (50.3%)\rEpoch: 51.5%  lr: 0.024715  loss: 0.009220  eta: 0h7m  tot: 0h7m54s  (50.3%)\rEpoch: 51.6%  lr: 0.024715  loss: 0.009214  eta: 0h7m  tot: 0h7m54s  (50.3%)\rEpoch: 51.7%  lr: 0.024705  loss: 0.009208  eta: 0h7m  tot: 0h7m54s  (50.3%)\rEpoch: 51.8%  lr: 0.024695  loss: 0.009206  eta: 0h7m  tot: 0h7m55s  (50.4%)\rEpoch: 51.9%  lr: 0.024685  loss: 0.009201  eta: 0h7m  tot: 0h7m55s  (50.4%)\rEpoch: 51.9%  lr: 0.024685  loss: 0.009192  eta: 0h7m  tot: 0h7m55s  (50.4%)\rEpoch: 52.0%  lr: 0.024665  loss: 0.009191  eta: 0h7m  tot: 0h7m55s  (50.4%)\rEpoch: 52.1%  lr: 0.024655  loss: 0.009192  eta: 0h7m  tot: 0h7m55s  (50.4%)\rEpoch: 52.2%  lr: 0.024655  loss: 0.009193  eta: 0h7m  tot: 0h7m55s  (50.4%)\rEpoch: 52.3%  lr: 0.024655  loss: 0.009181  eta: 0h7m  tot: 0h7m56s  (50.5%)\rEpoch: 52.4%  lr: 0.024655  loss: 0.009189  eta: 0h7m  tot: 0h7m56s  (50.5%)\rEpoch: 52.5%  lr: 0.024655  loss: 0.009188  eta: 0h7m  tot: 0h7m56s  (50.5%)\rEpoch: 52.6%  lr: 0.024655  loss: 0.009186  eta: 0h7m  tot: 0h7m56s  (50.5%)\rEpoch: 52.7%  lr: 0.024645  loss: 0.009186  eta: 0h7m  tot: 0h7m56s  (50.5%)\rEpoch: 52.8%  lr: 0.024635  loss: 0.009187  eta: 0h7m  tot: 0h7m56s  (50.6%)\rEpoch: 52.8%  lr: 0.024635  loss: 0.009187  eta: 0h7m  tot: 0h7m56s  (50.6%)\rEpoch: 52.9%  lr: 0.024625  loss: 0.009190  eta: 0h7m  tot: 0h7m57s  (50.6%)\rEpoch: 53.0%  lr: 0.024625  loss: 0.009185  eta: 0h7m  tot: 0h7m57s  (50.6%)\rEpoch: 53.1%  lr: 0.024615  loss: 0.009196  eta: 0h7m  tot: 0h7m57s  (50.6%)\rEpoch: 53.2%  lr: 0.024595  loss: 0.009196  eta: 0h7m  tot: 0h7m57s  (50.6%)\rEpoch: 53.3%  lr: 0.024575  loss: 0.009201  eta: 0h7m  tot: 0h7m57s  (50.7%)\rEpoch: 53.4%  lr: 0.024575  loss: 0.009213  eta: 0h7m  tot: 0h7m57s  (50.7%)\rEpoch: 53.5%  lr: 0.024575  loss: 0.009207  eta: 0h7m  tot: 0h7m58s  (50.7%)\rEpoch: 53.6%  lr: 0.024555  loss: 0.009214  eta: 0h7m  tot: 0h7m58s  (50.7%)\rEpoch: 53.7%  lr: 0.024555  loss: 0.009208  eta: 0h7m  tot: 0h7m58s  (50.7%)\rEpoch: 53.7%  lr: 0.024535  loss: 0.009199  eta: 0h7m  tot: 0h7m58s  (50.7%)\rEpoch: 53.8%  lr: 0.024515  loss: 0.009195  eta: 0h7m  tot: 0h7m58s  (50.8%)\rEpoch: 53.9%  lr: 0.024515  loss: 0.009192  eta: 0h7m  tot: 0h7m58s  (50.8%)\rEpoch: 54.0%  lr: 0.024485  loss: 0.009218  eta: 0h7m  tot: 0h7m59s  (50.8%)\rEpoch: 54.1%  lr: 0.024485  loss: 0.009232  eta: 0h7m  tot: 0h7m59s  (50.8%)\rEpoch: 54.2%  lr: 0.024485  loss: 0.009225  eta: 0h7m  tot: 0h7m59s  (50.8%)\rEpoch: 54.3%  lr: 0.024485  loss: 0.009219  eta: 0h7m  tot: 0h7m59s  (50.9%)\rEpoch: 54.4%  lr: 0.024475  loss: 0.009212  eta: 0h7m  tot: 0h7m59s  (50.9%)\rEpoch: 54.5%  lr: 0.024455  loss: 0.009213  eta: 0h7m  tot: 0h7m59s  (50.9%)\rEpoch: 54.6%  lr: 0.024455  loss: 0.009215  eta: 0h7m  tot: 0h8m0s  (50.9%)\rEpoch: 54.6%  lr: 0.024455  loss: 0.009209  eta: 0h7m  tot: 0h8m0s  (50.9%)\rEpoch: 54.7%  lr: 0.024455  loss: 0.009204  eta: 0h7m  tot: 0h8m0s  (50.9%)\rEpoch: 54.8%  lr: 0.024435  loss: 0.009199  eta: 0h7m  tot: 0h8m0s  (51.0%)\rEpoch: 54.9%  lr: 0.024425  loss: 0.009215  eta: 0h7m  tot: 0h8m0s  (51.0%)\rEpoch: 55.0%  lr: 0.024404  loss: 0.009220  eta: 0h7m  tot: 0h8m0s  (51.0%)\rEpoch: 55.1%  lr: 0.024394  loss: 0.009257  eta: 0h7m  tot: 0h8m1s  (51.0%)\rEpoch: 55.2%  lr: 0.024384  loss: 0.009261  eta: 0h7m  tot: 0h8m1s  (51.0%)\rEpoch: 55.3%  lr: 0.024374  loss: 0.009266  eta: 0h7m  tot: 0h8m1s  (51.1%)\rEpoch: 55.4%  lr: 0.024364  loss: 0.009275  eta: 0h7m  tot: 0h8m1s  (51.1%)\rEpoch: 55.5%  lr: 0.024364  loss: 0.009266  eta: 0h7m  tot: 0h8m1s  (51.1%)\rEpoch: 55.5%  lr: 0.024354  loss: 0.009261  eta: 0h7m  tot: 0h8m1s  (51.1%)\rEpoch: 55.6%  lr: 0.024354  loss: 0.009259  eta: 0h7m  tot: 0h8m2s  (51.1%)\rEpoch: 55.7%  lr: 0.024334  loss: 0.009251  eta: 0h7m  tot: 0h8m2s  (51.1%)\rEpoch: 55.8%  lr: 0.024324  loss: 0.009257  eta: 0h7m  tot: 0h8m2s  (51.2%)\rEpoch: 55.9%  lr: 0.024314  loss: 0.009269  eta: 0h7m  tot: 0h8m2s  (51.2%)\rEpoch: 56.0%  lr: 0.024294  loss: 0.009264  eta: 0h7m  tot: 0h8m2s  (51.2%)\rEpoch: 56.1%  lr: 0.024264  loss: 0.009258  eta: 0h7m  tot: 0h8m2s  (51.2%)\rEpoch: 56.2%  lr: 0.024264  loss: 0.009262  eta: 0h7m  tot: 0h8m3s  (51.2%)\rEpoch: 56.3%  lr: 0.024244  loss: 0.009258  eta: 0h7m  tot: 0h8m3s  (51.3%)\rEpoch: 56.4%  lr: 0.024224  loss: 0.009260  eta: 0h7m  tot: 0h8m3s  (51.3%)\rEpoch: 56.4%  lr: 0.024204  loss: 0.009280  eta: 0h7m  tot: 0h8m3s  (51.3%)\rEpoch: 56.5%  lr: 0.024194  loss: 0.009275  eta: 0h7m  tot: 0h8m3s  (51.3%)\rEpoch: 56.6%  lr: 0.024184  loss: 0.009269  eta: 0h7m  tot: 0h8m3s  (51.3%)\rEpoch: 56.7%  lr: 0.024164  loss: 0.009267  eta: 0h7m  tot: 0h8m3s  (51.3%)\rEpoch: 56.8%  lr: 0.024154  loss: 0.009273  eta: 0h7m  tot: 0h8m4s  (51.4%)\rEpoch: 56.9%  lr: 0.024134  loss: 0.009265  eta: 0h7m  tot: 0h8m4s  (51.4%)\rEpoch: 57.0%  lr: 0.024134  loss: 0.009258  eta: 0h7m  tot: 0h8m4s  (51.4%)\rEpoch: 57.1%  lr: 0.024134  loss: 0.009262  eta: 0h7m  tot: 0h8m4s  (51.4%)\rEpoch: 57.2%  lr: 0.024134  loss: 0.009259  eta: 0h7m  tot: 0h8m4s  (51.4%)\rEpoch: 57.3%  lr: 0.024114  loss: 0.009256  eta: 0h7m  tot: 0h8m5s  (51.5%)\rEpoch: 57.3%  lr: 0.024104  loss: 0.009263  eta: 0h7m  tot: 0h8m5s  (51.5%)\rEpoch: 57.4%  lr: 0.024084  loss: 0.009261  eta: 0h7m  tot: 0h8m5s  (51.5%)\rEpoch: 57.5%  lr: 0.024084  loss: 0.009258  eta: 0h7m  tot: 0h8m5s  (51.5%)\rEpoch: 57.6%  lr: 0.024064  loss: 0.009262  eta: 0h7m  tot: 0h8m5s  (51.5%)\rEpoch: 57.7%  lr: 0.024064  loss: 0.009260  eta: 0h7m  tot: 0h8m5s  (51.5%)\rEpoch: 57.8%  lr: 0.024044  loss: 0.009269  eta: 0h7m  tot: 0h8m6s  (51.6%)\rEpoch: 57.9%  lr: 0.024044  loss: 0.009262  eta: 0h7m  tot: 0h8m6s  (51.6%)\rEpoch: 58.0%  lr: 0.024034  loss: 0.009262  eta: 0h7m  tot: 0h8m6s  (51.6%)\rEpoch: 58.1%  lr: 0.024034  loss: 0.009270  eta: 0h7m  tot: 0h8m6s  (51.6%)\rEpoch: 58.2%  lr: 0.024024  loss: 0.009270  eta: 0h7m  tot: 0h8m6s  (51.6%)\rEpoch: 58.2%  lr: 0.024024  loss: 0.009268  eta: 0h7m  tot: 0h8m6s  (51.6%)\rEpoch: 58.3%  lr: 0.024024  loss: 0.009301  eta: 0h7m  tot: 0h8m6s  (51.7%)\rEpoch: 58.4%  lr: 0.024004  loss: 0.009294  eta: 0h7m  tot: 0h8m7s  (51.7%)\rEpoch: 58.5%  lr: 0.024004  loss: 0.009302  eta: 0h7m  tot: 0h8m7s  (51.7%)\rEpoch: 58.6%  lr: 0.024004  loss: 0.009308  eta: 0h7m  tot: 0h8m7s  (51.7%)\rEpoch: 58.7%  lr: 0.023994  loss: 0.009313  eta: 0h7m  tot: 0h8m7s  (51.7%)\rEpoch: 58.8%  lr: 0.023984  loss: 0.009324  eta: 0h7m  tot: 0h8m7s  (51.8%)\rEpoch: 58.9%  lr: 0.023974  loss: 0.009330  eta: 0h7m  tot: 0h8m7s  (51.8%)\rEpoch: 59.0%  lr: 0.023974  loss: 0.009330  eta: 0h7m  tot: 0h8m8s  (51.8%)\rEpoch: 59.1%  lr: 0.023974  loss: 0.009326  eta: 0h7m  tot: 0h8m8s  (51.8%)\rEpoch: 59.1%  lr: 0.023964  loss: 0.009320  eta: 0h7m  tot: 0h8m8s  (51.8%)\rEpoch: 59.2%  lr: 0.023944  loss: 0.009323  eta: 0h7m  tot: 0h8m8s  (51.8%)\rEpoch: 59.3%  lr: 0.023934  loss: 0.009336  eta: 0h7m  tot: 0h8m8s  (51.9%)\rEpoch: 59.4%  lr: 0.023914  loss: 0.009336  eta: 0h7m  tot: 0h8m8s  (51.9%)\rEpoch: 59.5%  lr: 0.023914  loss: 0.009336  eta: 0h7m  tot: 0h8m9s  (51.9%)\rEpoch: 59.6%  lr: 0.023914  loss: 0.009334  eta: 0h7m  tot: 0h8m9s  (51.9%)\rEpoch: 59.7%  lr: 0.023884  loss: 0.009325  eta: 0h7m  tot: 0h8m9s  (51.9%)\rEpoch: 59.8%  lr: 0.023884  loss: 0.009325  eta: 0h7m  tot: 0h8m9s  (52.0%)\rEpoch: 59.9%  lr: 0.023884  loss: 0.009316  eta: 0h7m  tot: 0h8m9s  (52.0%)\rEpoch: 60.0%  lr: 0.023864  loss: 0.009308  eta: 0h7m  tot: 0h8m9s  (52.0%)\rEpoch: 60.0%  lr: 0.023854  loss: 0.009312  eta: 0h7m  tot: 0h8m10s  (52.0%)\rEpoch: 60.1%  lr: 0.023834  loss: 0.009326  eta: 0h7m  tot: 0h8m10s  (52.0%)\rEpoch: 60.2%  lr: 0.023824  loss: 0.009330  eta: 0h7m  tot: 0h8m10s  (52.0%)\rEpoch: 60.3%  lr: 0.023814  loss: 0.009320  eta: 0h7m  tot: 0h8m10s  (52.1%)\rEpoch: 60.4%  lr: 0.023804  loss: 0.009319  eta: 0h7m  tot: 0h8m10s  (52.1%)\rEpoch: 60.5%  lr: 0.023784  loss: 0.009323  eta: 0h7m  tot: 0h8m10s  (52.1%)\rEpoch: 60.6%  lr: 0.023774  loss: 0.009316  eta: 0h7m  tot: 0h8m11s  (52.1%)\rEpoch: 60.7%  lr: 0.023774  loss: 0.009312  eta: 0h7m  tot: 0h8m11s  (52.1%)\rEpoch: 60.8%  lr: 0.023764  loss: 0.009310  eta: 0h7m  tot: 0h8m11s  (52.2%)\rEpoch: 60.9%  lr: 0.023764  loss: 0.009301  eta: 0h7m  tot: 0h8m11s  (52.2%)\rEpoch: 60.9%  lr: 0.023764  loss: 0.009312  eta: 0h7m  tot: 0h8m11s  (52.2%)\rEpoch: 61.0%  lr: 0.023754  loss: 0.009320  eta: 0h7m  tot: 0h8m11s  (52.2%)\rEpoch: 61.1%  lr: 0.023734  loss: 0.009320  eta: 0h7m  tot: 0h8m12s  (52.2%)\rEpoch: 61.2%  lr: 0.023734  loss: 0.009317  eta: 0h7m  tot: 0h8m12s  (52.2%)\rEpoch: 61.3%  lr: 0.023714  loss: 0.009318  eta: 0h7m  tot: 0h8m12s  (52.3%)\rEpoch: 61.4%  lr: 0.023704  loss: 0.009310  eta: 0h7m  tot: 0h8m12s  (52.3%)\rEpoch: 61.5%  lr: 0.023694  loss: 0.009322  eta: 0h7m  tot: 0h8m12s  (52.3%)\rEpoch: 61.6%  lr: 0.023684  loss: 0.009329  eta: 0h7m  tot: 0h8m12s  (52.3%)\rEpoch: 61.7%  lr: 0.023674  loss: 0.009337  eta: 0h7m  tot: 0h8m12s  (52.3%)\rEpoch: 61.8%  lr: 0.023674  loss: 0.009335  eta: 0h7m  tot: 0h8m13s  (52.4%)\rEpoch: 61.8%  lr: 0.023674  loss: 0.009344  eta: 0h7m  tot: 0h8m13s  (52.4%)\rEpoch: 61.9%  lr: 0.023664  loss: 0.009351  eta: 0h7m  tot: 0h8m13s  (52.4%)\rEpoch: 62.0%  lr: 0.023664  loss: 0.009346  eta: 0h7m  tot: 0h8m13s  (52.4%)\rEpoch: 62.1%  lr: 0.023654  loss: 0.009349  eta: 0h7m  tot: 0h8m13s  (52.4%)\rEpoch: 62.2%  lr: 0.023654  loss: 0.009349  eta: 0h7m  tot: 0h8m13s  (52.4%)\rEpoch: 62.3%  lr: 0.023644  loss: 0.009348  eta: 0h7m  tot: 0h8m14s  (52.5%)\rEpoch: 62.4%  lr: 0.023644  loss: 0.009347  eta: 0h7m  tot: 0h8m14s  (52.5%)\rEpoch: 62.5%  lr: 0.023624  loss: 0.009347  eta: 0h7m  tot: 0h8m14s  (52.5%)\rEpoch: 62.6%  lr: 0.023624  loss: 0.009340  eta: 0h7m  tot: 0h8m14s  (52.5%)\rEpoch: 62.7%  lr: 0.023614  loss: 0.009340  eta: 0h7m  tot: 0h8m14s  (52.5%)\rEpoch: 62.7%  lr: 0.023614  loss: 0.009335  eta: 0h7m  tot: 0h8m14s  (52.5%)\rEpoch: 62.8%  lr: 0.023604  loss: 0.009326  eta: 0h7m  tot: 0h8m15s  (52.6%)\rEpoch: 62.9%  lr: 0.023584  loss: 0.009319  eta: 0h7m  tot: 0h8m15s  (52.6%)\rEpoch: 63.0%  lr: 0.023584  loss: 0.009315  eta: 0h7m  tot: 0h8m15s  (52.6%)\rEpoch: 63.1%  lr: 0.023574  loss: 0.009321  eta: 0h7m  tot: 0h8m15s  (52.6%)\rEpoch: 63.2%  lr: 0.023564  loss: 0.009314  eta: 0h7m  tot: 0h8m15s  (52.6%)\rEpoch: 63.3%  lr: 0.023564  loss: 0.009306  eta: 0h7m  tot: 0h8m15s  (52.7%)\rEpoch: 63.4%  lr: 0.023544  loss: 0.009305  eta: 0h7m  tot: 0h8m16s  (52.7%)\rEpoch: 63.5%  lr: 0.023504  loss: 0.009301  eta: 0h7m  tot: 0h8m16s  (52.7%)\rEpoch: 63.6%  lr: 0.023494  loss: 0.009302  eta: 0h7m  tot: 0h8m16s  (52.7%)\rEpoch: 63.6%  lr: 0.023494  loss: 0.009297  eta: 0h7m  tot: 0h8m16s  (52.7%)\rEpoch: 63.7%  lr: 0.023484  loss: 0.009291  eta: 0h7m  tot: 0h8m16s  (52.7%)\rEpoch: 63.8%  lr: 0.023464  loss: 0.009303  eta: 0h7m  tot: 0h8m16s  (52.8%)\rEpoch: 63.9%  lr: 0.023454  loss: 0.009301  eta: 0h7m  tot: 0h8m17s  (52.8%)\rEpoch: 64.0%  lr: 0.023444  loss: 0.009317  eta: 0h7m  tot: 0h8m17s  (52.8%)\rEpoch: 64.1%  lr: 0.023444  loss: 0.009314  eta: 0h7m  tot: 0h8m17s  (52.8%)\rEpoch: 64.2%  lr: 0.023424  loss: 0.009320  eta: 0h7m  tot: 0h8m17s  (52.8%)\rEpoch: 64.3%  lr: 0.023424  loss: 0.009313  eta: 0h7m  tot: 0h8m17s  (52.9%)\rEpoch: 64.4%  lr: 0.023424  loss: 0.009310  eta: 0h7m  tot: 0h8m17s  (52.9%)\rEpoch: 64.5%  lr: 0.023414  loss: 0.009302  eta: 0h7m  tot: 0h8m18s  (52.9%)\rEpoch: 64.5%  lr: 0.023393  loss: 0.009301  eta: 0h7m  tot: 0h8m18s  (52.9%)\rEpoch: 64.6%  lr: 0.023393  loss: 0.009306  eta: 0h7m  tot: 0h8m18s  (52.9%)\rEpoch: 64.7%  lr: 0.023383  loss: 0.009307  eta: 0h7m  tot: 0h8m18s  (52.9%)\rEpoch: 64.8%  lr: 0.023383  loss: 0.009321  eta: 0h7m  tot: 0h8m18s  (53.0%)\rEpoch: 64.9%  lr: 0.023373  loss: 0.009321  eta: 0h7m  tot: 0h8m18s  (53.0%)\rEpoch: 65.0%  lr: 0.023353  loss: 0.009314  eta: 0h7m  tot: 0h8m18s  (53.0%)\rEpoch: 65.1%  lr: 0.023343  loss: 0.009328  eta: 0h7m  tot: 0h8m19s  (53.0%)\rEpoch: 65.2%  lr: 0.023323  loss: 0.009332  eta: 0h7m  tot: 0h8m19s  (53.0%)\rEpoch: 65.3%  lr: 0.023323  loss: 0.009323  eta: 0h7m  tot: 0h8m19s  (53.1%)\rEpoch: 65.4%  lr: 0.023323  loss: 0.009315  eta: 0h7m  tot: 0h8m19s  (53.1%)\rEpoch: 65.4%  lr: 0.023323  loss: 0.009309  eta: 0h7m  tot: 0h8m19s  (53.1%)\rEpoch: 65.5%  lr: 0.023323  loss: 0.009313  eta: 0h7m  tot: 0h8m19s  (53.1%)\rEpoch: 65.6%  lr: 0.023323  loss: 0.009312  eta: 0h7m  tot: 0h8m20s  (53.1%)\rEpoch: 65.7%  lr: 0.023323  loss: 0.009302  eta: 0h7m  tot: 0h8m20s  (53.1%)\rEpoch: 65.8%  lr: 0.023313  loss: 0.009293  eta: 0h7m  tot: 0h8m20s  (53.2%)\rEpoch: 65.9%  lr: 0.023313  loss: 0.009298  eta: 0h7m  tot: 0h8m20s  (53.2%)\rEpoch: 66.0%  lr: 0.023293  loss: 0.009291  eta: 0h7m  tot: 0h8m20s  (53.2%)\rEpoch: 66.1%  lr: 0.023293  loss: 0.009290  eta: 0h7m  tot: 0h8m20s  (53.2%)\rEpoch: 66.2%  lr: 0.023273  loss: 0.009281  eta: 0h7m  tot: 0h8m21s  (53.2%)\rEpoch: 66.3%  lr: 0.023263  loss: 0.009281  eta: 0h7m  tot: 0h8m21s  (53.3%)\rEpoch: 66.3%  lr: 0.023263  loss: 0.009288  eta: 0h7m  tot: 0h8m21s  (53.3%)\rEpoch: 66.4%  lr: 0.023253  loss: 0.009282  eta: 0h6m  tot: 0h8m21s  (53.3%)\rEpoch: 66.5%  lr: 0.023243  loss: 0.009276  eta: 0h6m  tot: 0h8m21s  (53.3%)\rEpoch: 66.6%  lr: 0.023243  loss: 0.009282  eta: 0h6m  tot: 0h8m21s  (53.3%)\rEpoch: 66.7%  lr: 0.023203  loss: 0.009283  eta: 0h6m  tot: 0h8m22s  (53.3%)\rEpoch: 66.8%  lr: 0.023193  loss: 0.009298  eta: 0h6m  tot: 0h8m22s  (53.4%)\rEpoch: 66.9%  lr: 0.023183  loss: 0.009301  eta: 0h6m  tot: 0h8m22s  (53.4%)\rEpoch: 67.0%  lr: 0.023173  loss: 0.009302  eta: 0h6m  tot: 0h8m22s  (53.4%)\rEpoch: 67.1%  lr: 0.023173  loss: 0.009300  eta: 0h6m  tot: 0h8m22s  (53.4%)\rEpoch: 67.2%  lr: 0.023153  loss: 0.009296  eta: 0h6m  tot: 0h8m22s  (53.4%)\rEpoch: 67.2%  lr: 0.023143  loss: 0.009293  eta: 0h6m  tot: 0h8m23s  (53.4%)\rEpoch: 67.3%  lr: 0.023133  loss: 0.009291  eta: 0h6m  tot: 0h8m23s  (53.5%)\rEpoch: 67.4%  lr: 0.023133  loss: 0.009296  eta: 0h6m  tot: 0h8m23s  (53.5%)\rEpoch: 67.5%  lr: 0.023113  loss: 0.009292  eta: 0h6m  tot: 0h8m23s  (53.5%)\rEpoch: 67.6%  lr: 0.023103  loss: 0.009296  eta: 0h6m  tot: 0h8m23s  (53.5%)\rEpoch: 67.7%  lr: 0.023103  loss: 0.009290  eta: 0h6m  tot: 0h8m23s  (53.5%)\rEpoch: 67.8%  lr: 0.023083  loss: 0.009294  eta: 0h6m  tot: 0h8m23s  (53.6%)\rEpoch: 67.9%  lr: 0.023083  loss: 0.009290  eta: 0h6m  tot: 0h8m24s  (53.6%)\rEpoch: 68.0%  lr: 0.023083  loss: 0.009286  eta: 0h6m  tot: 0h8m24s  (53.6%)\rEpoch: 68.1%  lr: 0.023083  loss: 0.009288  eta: 0h6m  tot: 0h8m24s  (53.6%)\rEpoch: 68.1%  lr: 0.023073  loss: 0.009285  eta: 0h6m  tot: 0h8m24s  (53.6%)\rEpoch: 68.2%  lr: 0.023063  loss: 0.009288  eta: 0h6m  tot: 0h8m24s  (53.6%)\rEpoch: 68.3%  lr: 0.023063  loss: 0.009284  eta: 0h6m  tot: 0h8m24s  (53.7%)\rEpoch: 68.4%  lr: 0.023063  loss: 0.009278  eta: 0h6m  tot: 0h8m25s  (53.7%)\rEpoch: 68.5%  lr: 0.023053  loss: 0.009270  eta: 0h6m  tot: 0h8m25s  (53.7%)\rEpoch: 68.6%  lr: 0.023053  loss: 0.009268  eta: 0h6m  tot: 0h8m25s  (53.7%)\rEpoch: 68.7%  lr: 0.023043  loss: 0.009262  eta: 0h6m  tot: 0h8m25s  (53.7%)\rEpoch: 68.8%  lr: 0.023043  loss: 0.009262  eta: 0h6m  tot: 0h8m25s  (53.8%)\rEpoch: 68.9%  lr: 0.023043  loss: 0.009263  eta: 0h6m  tot: 0h8m25s  (53.8%)\rEpoch: 69.0%  lr: 0.023043  loss: 0.009267  eta: 0h6m  tot: 0h8m26s  (53.8%)\rEpoch: 69.0%  lr: 0.023033  loss: 0.009263  eta: 0h6m  tot: 0h8m26s  (53.8%)\rEpoch: 69.1%  lr: 0.023013  loss: 0.009264  eta: 0h6m  tot: 0h8m26s  (53.8%)\rEpoch: 69.2%  lr: 0.023013  loss: 0.009265  eta: 0h6m  tot: 0h8m26s  (53.8%)\rEpoch: 69.3%  lr: 0.022993  loss: 0.009258  eta: 0h6m  tot: 0h8m26s  (53.9%)\rEpoch: 69.4%  lr: 0.022993  loss: 0.009259  eta: 0h6m  tot: 0h8m26s  (53.9%)\rEpoch: 69.5%  lr: 0.022973  loss: 0.009256  eta: 0h6m  tot: 0h8m26s  (53.9%)\rEpoch: 69.6%  lr: 0.022963  loss: 0.009262  eta: 0h6m  tot: 0h8m27s  (53.9%)\rEpoch: 69.7%  lr: 0.022963  loss: 0.009257  eta: 0h6m  tot: 0h8m27s  (53.9%)\rEpoch: 69.8%  lr: 0.022943  loss: 0.009273  eta: 0h6m  tot: 0h8m27s  (54.0%)\rEpoch: 69.9%  lr: 0.022933  loss: 0.009270  eta: 0h6m  tot: 0h8m27s  (54.0%)\rEpoch: 69.9%  lr: 0.022913  loss: 0.009264  eta: 0h6m  tot: 0h8m27s  (54.0%)\rEpoch: 70.0%  lr: 0.022913  loss: 0.009268  eta: 0h6m  tot: 0h8m27s  (54.0%)\rEpoch: 70.1%  lr: 0.022913  loss: 0.009276  eta: 0h6m  tot: 0h8m28s  (54.0%)\rEpoch: 70.2%  lr: 0.022903  loss: 0.009268  eta: 0h6m  tot: 0h8m28s  (54.0%)\rEpoch: 70.3%  lr: 0.022903  loss: 0.009272  eta: 0h6m  tot: 0h8m28s  (54.1%)\rEpoch: 70.4%  lr: 0.022893  loss: 0.009263  eta: 0h6m  tot: 0h8m28s  (54.1%)\rEpoch: 70.5%  lr: 0.022893  loss: 0.009276  eta: 0h6m  tot: 0h8m28s  (54.1%)\rEpoch: 70.6%  lr: 0.022873  loss: 0.009273  eta: 0h6m  tot: 0h8m28s  (54.1%)\rEpoch: 70.7%  lr: 0.022873  loss: 0.009271  eta: 0h6m  tot: 0h8m29s  (54.1%)\rEpoch: 70.8%  lr: 0.022863  loss: 0.009272  eta: 0h6m  tot: 0h8m29s  (54.2%)\rEpoch: 70.8%  lr: 0.022833  loss: 0.009275  eta: 0h6m  tot: 0h8m29s  (54.2%)\rEpoch: 70.9%  lr: 0.022823  loss: 0.009274  eta: 0h6m  tot: 0h8m29s  (54.2%)\rEpoch: 71.0%  lr: 0.022803  loss: 0.009264  eta: 0h6m  tot: 0h8m29s  (54.2%)\rEpoch: 71.1%  lr: 0.022803  loss: 0.009265  eta: 0h6m  tot: 0h8m29s  (54.2%)\rEpoch: 71.2%  lr: 0.022793  loss: 0.009267  eta: 0h6m  tot: 0h8m30s  (54.2%)\rEpoch: 71.3%  lr: 0.022793  loss: 0.009258  eta: 0h6m  tot: 0h8m30s  (54.3%)\rEpoch: 71.4%  lr: 0.022783  loss: 0.009269  eta: 0h6m  tot: 0h8m30s  (54.3%)\rEpoch: 71.5%  lr: 0.022763  loss: 0.009267  eta: 0h6m  tot: 0h8m30s  (54.3%)\rEpoch: 71.6%  lr: 0.022743  loss: 0.009260  eta: 0h6m  tot: 0h8m30s  (54.3%)\rEpoch: 71.7%  lr: 0.022743  loss: 0.009262  eta: 0h6m  tot: 0h8m30s  (54.3%)\rEpoch: 71.7%  lr: 0.022743  loss: 0.009257  eta: 0h6m  tot: 0h8m30s  (54.3%)\rEpoch: 71.8%  lr: 0.022733  loss: 0.009254  eta: 0h6m  tot: 0h8m31s  (54.4%)\rEpoch: 71.9%  lr: 0.022723  loss: 0.009248  eta: 0h6m  tot: 0h8m31s  (54.4%)\rEpoch: 72.0%  lr: 0.022713  loss: 0.009249  eta: 0h6m  tot: 0h8m31s  (54.4%)\rEpoch: 72.1%  lr: 0.022703  loss: 0.009246  eta: 0h6m  tot: 0h8m31s  (54.4%)\rEpoch: 72.2%  lr: 0.022703  loss: 0.009256  eta: 0h6m  tot: 0h8m31s  (54.4%)\rEpoch: 72.3%  lr: 0.022703  loss: 0.009247  eta: 0h6m  tot: 0h8m31s  (54.5%)\rEpoch: 72.4%  lr: 0.022693  loss: 0.009252  eta: 0h6m  tot: 0h8m32s  (54.5%)\rEpoch: 72.5%  lr: 0.022693  loss: 0.009244  eta: 0h6m  tot: 0h8m32s  (54.5%)\rEpoch: 72.6%  lr: 0.022683  loss: 0.009249  eta: 0h6m  tot: 0h8m32s  (54.5%)\rEpoch: 72.6%  lr: 0.022663  loss: 0.009241  eta: 0h6m  tot: 0h8m32s  (54.5%)\rEpoch: 72.7%  lr: 0.022663  loss: 0.009243  eta: 0h6m  tot: 0h8m32s  (54.5%)\rEpoch: 72.8%  lr: 0.022663  loss: 0.009240  eta: 0h6m  tot: 0h8m32s  (54.6%)\rEpoch: 72.9%  lr: 0.022653  loss: 0.009254  eta: 0h6m  tot: 0h8m33s  (54.6%)\rEpoch: 73.0%  lr: 0.022643  loss: 0.009252  eta: 0h6m  tot: 0h8m33s  (54.6%)\rEpoch: 73.1%  lr: 0.022643  loss: 0.009245  eta: 0h6m  tot: 0h8m33s  (54.6%)\rEpoch: 73.2%  lr: 0.022643  loss: 0.009255  eta: 0h6m  tot: 0h8m33s  (54.6%)\rEpoch: 73.3%  lr: 0.022643  loss: 0.009250  eta: 0h6m  tot: 0h8m33s  (54.7%)\rEpoch: 73.4%  lr: 0.022633  loss: 0.009245  eta: 0h6m  tot: 0h8m33s  (54.7%)\rEpoch: 73.5%  lr: 0.022613  loss: 0.009244  eta: 0h6m  tot: 0h8m33s  (54.7%)\rEpoch: 73.5%  lr: 0.022613  loss: 0.009246  eta: 0h6m  tot: 0h8m34s  (54.7%)\rEpoch: 73.6%  lr: 0.022603  loss: 0.009247  eta: 0h6m  tot: 0h8m34s  (54.7%)\rEpoch: 73.7%  lr: 0.022603  loss: 0.009244  eta: 0h6m  tot: 0h8m34s  (54.7%)\rEpoch: 73.8%  lr: 0.022583  loss: 0.009251  eta: 0h6m  tot: 0h8m34s  (54.8%)\rEpoch: 73.9%  lr: 0.022583  loss: 0.009248  eta: 0h6m  tot: 0h8m34s  (54.8%)\rEpoch: 74.0%  lr: 0.022583  loss: 0.009248  eta: 0h6m  tot: 0h8m34s  (54.8%)\rEpoch: 74.1%  lr: 0.022583  loss: 0.009255  eta: 0h6m  tot: 0h8m35s  (54.8%)\rEpoch: 74.2%  lr: 0.022563  loss: 0.009253  eta: 0h6m  tot: 0h8m35s  (54.8%)\rEpoch: 74.3%  lr: 0.022543  loss: 0.009248  eta: 0h6m  tot: 0h8m35s  (54.9%)\rEpoch: 74.4%  lr: 0.022533  loss: 0.009245  eta: 0h6m  tot: 0h8m35s  (54.9%)\rEpoch: 74.4%  lr: 0.022523  loss: 0.009255  eta: 0h6m  tot: 0h8m35s  (54.9%)\rEpoch: 74.5%  lr: 0.022513  loss: 0.009251  eta: 0h6m  tot: 0h8m35s  (54.9%)\rEpoch: 74.6%  lr: 0.022513  loss: 0.009247  eta: 0h6m  tot: 0h8m36s  (54.9%)\rEpoch: 74.7%  lr: 0.022493  loss: 0.009244  eta: 0h6m  tot: 0h8m36s  (54.9%)\rEpoch: 74.8%  lr: 0.022493  loss: 0.009242  eta: 0h6m  tot: 0h8m36s  (55.0%)\rEpoch: 74.9%  lr: 0.022463  loss: 0.009243  eta: 0h6m  tot: 0h8m36s  (55.0%)\rEpoch: 75.0%  lr: 0.022423  loss: 0.009238  eta: 0h6m  tot: 0h8m36s  (55.0%)\rEpoch: 75.1%  lr: 0.022423  loss: 0.009236  eta: 0h6m  tot: 0h8m36s  (55.0%)\rEpoch: 75.2%  lr: 0.022423  loss: 0.009240  eta: 0h6m  tot: 0h8m37s  (55.0%)\rEpoch: 75.3%  lr: 0.022423  loss: 0.009241  eta: 0h6m  tot: 0h8m37s  (55.1%)\rEpoch: 75.3%  lr: 0.022423  loss: 0.009248  eta: 0h6m  tot: 0h8m37s  (55.1%)\rEpoch: 75.4%  lr: 0.022423  loss: 0.009260  eta: 0h6m  tot: 0h8m37s  (55.1%)\rEpoch: 75.5%  lr: 0.022403  loss: 0.009260  eta: 0h6m  tot: 0h8m37s  (55.1%)\rEpoch: 75.6%  lr: 0.022403  loss: 0.009257  eta: 0h6m  tot: 0h8m37s  (55.1%)\rEpoch: 75.7%  lr: 0.022393  loss: 0.009251  eta: 0h6m  tot: 0h8m38s  (55.1%)\rEpoch: 75.8%  lr: 0.022393  loss: 0.009253  eta: 0h6m  tot: 0h8m38s  (55.2%)\rEpoch: 75.9%  lr: 0.022393  loss: 0.009263  eta: 0h6m  tot: 0h8m38s  (55.2%)\rEpoch: 76.0%  lr: 0.022393  loss: 0.009257  eta: 0h6m  tot: 0h8m38s  (55.2%)\rEpoch: 76.1%  lr: 0.022393  loss: 0.009257  eta: 0h6m  tot: 0h8m38s  (55.2%)\rEpoch: 76.2%  lr: 0.022382  loss: 0.009255  eta: 0h6m  tot: 0h8m38s  (55.2%)\rEpoch: 76.2%  lr: 0.022372  loss: 0.009252  eta: 0h6m  tot: 0h8m38s  (55.2%)\rEpoch: 76.3%  lr: 0.022342  loss: 0.009269  eta: 0h6m  tot: 0h8m39s  (55.3%)\rEpoch: 76.4%  lr: 0.022322  loss: 0.009261  eta: 0h6m  tot: 0h8m39s  (55.3%)\rEpoch: 76.5%  lr: 0.022312  loss: 0.009257  eta: 0h6m  tot: 0h8m39s  (55.3%)\rEpoch: 76.6%  lr: 0.022302  loss: 0.009277  eta: 0h6m  tot: 0h8m39s  (55.3%)\rEpoch: 76.7%  lr: 0.022302  loss: 0.009269  eta: 0h6m  tot: 0h8m39s  (55.3%)\rEpoch: 76.8%  lr: 0.022282  loss: 0.009264  eta: 0h6m  tot: 0h8m39s  (55.4%)\rEpoch: 76.9%  lr: 0.022262  loss: 0.009264  eta: 0h6m  tot: 0h8m40s  (55.4%)\rEpoch: 77.0%  lr: 0.022252  loss: 0.009268  eta: 0h6m  tot: 0h8m40s  (55.4%)\rEpoch: 77.1%  lr: 0.022242  loss: 0.009267  eta: 0h6m  tot: 0h8m40s  (55.4%)\rEpoch: 77.1%  lr: 0.022232  loss: 0.009264  eta: 0h6m  tot: 0h8m40s  (55.4%)\rEpoch: 77.2%  lr: 0.022212  loss: 0.009275  eta: 0h6m  tot: 0h8m40s  (55.4%)\rEpoch: 77.3%  lr: 0.022212  loss: 0.009269  eta: 0h6m  tot: 0h8m40s  (55.5%)\rEpoch: 77.4%  lr: 0.022192  loss: 0.009262  eta: 0h6m  tot: 0h8m40s  (55.5%)\rEpoch: 77.5%  lr: 0.022192  loss: 0.009257  eta: 0h6m  tot: 0h8m41s  (55.5%)\rEpoch: 77.6%  lr: 0.022172  loss: 0.009255  eta: 0h6m  tot: 0h8m41s  (55.5%)\rEpoch: 77.7%  lr: 0.022152  loss: 0.009255  eta: 0h6m  tot: 0h8m41s  (55.5%)\rEpoch: 77.8%  lr: 0.022152  loss: 0.009247  eta: 0h6m  tot: 0h8m41s  (55.6%)\rEpoch: 77.9%  lr: 0.022152  loss: 0.009238  eta: 0h6m  tot: 0h8m41s  (55.6%)\rEpoch: 78.0%  lr: 0.022152  loss: 0.009238  eta: 0h6m  tot: 0h8m41s  (55.6%)\rEpoch: 78.0%  lr: 0.022142  loss: 0.009238  eta: 0h6m  tot: 0h8m42s  (55.6%)\rEpoch: 78.1%  lr: 0.022122  loss: 0.009233  eta: 0h6m  tot: 0h8m42s  (55.6%)\rEpoch: 78.2%  lr: 0.022122  loss: 0.009230  eta: 0h6m  tot: 0h8m42s  (55.6%)\rEpoch: 78.3%  lr: 0.022102  loss: 0.009235  eta: 0h6m  tot: 0h8m42s  (55.7%)\rEpoch: 78.4%  lr: 0.022092  loss: 0.009234  eta: 0h6m  tot: 0h8m42s  (55.7%)\rEpoch: 78.5%  lr: 0.022072  loss: 0.009235  eta: 0h6m  tot: 0h8m42s  (55.7%)\rEpoch: 78.6%  lr: 0.022072  loss: 0.009236  eta: 0h6m  tot: 0h8m42s  (55.7%)\rEpoch: 78.7%  lr: 0.022072  loss: 0.009228  eta: 0h6m  tot: 0h8m42s  (55.7%)\rEpoch: 78.8%  lr: 0.022062  loss: 0.009220  eta: 0h6m  tot: 0h8m43s  (55.8%)\rEpoch: 78.9%  lr: 0.022032  loss: 0.009218  eta: 0h6m  tot: 0h8m43s  (55.8%)\rEpoch: 78.9%  lr: 0.022022  loss: 0.009227  eta: 0h6m  tot: 0h8m43s  (55.8%)\rEpoch: 79.0%  lr: 0.022012  loss: 0.009226  eta: 0h6m  tot: 0h8m43s  (55.8%)\rEpoch: 79.1%  lr: 0.022012  loss: 0.009222  eta: 0h6m  tot: 0h8m43s  (55.8%)\rEpoch: 79.2%  lr: 0.022012  loss: 0.009227  eta: 0h6m  tot: 0h8m43s  (55.8%)\rEpoch: 79.3%  lr: 0.022002  loss: 0.009229  eta: 0h6m  tot: 0h8m44s  (55.9%)\rEpoch: 79.4%  lr: 0.022002  loss: 0.009229  eta: 0h6m  tot: 0h8m44s  (55.9%)\rEpoch: 79.5%  lr: 0.022002  loss: 0.009225  eta: 0h6m  tot: 0h8m44s  (55.9%)\rEpoch: 79.6%  lr: 0.021992  loss: 0.009223  eta: 0h6m  tot: 0h8m44s  (55.9%)\rEpoch: 79.7%  lr: 0.021992  loss: 0.009225  eta: 0h6m  tot: 0h8m44s  (55.9%)\rEpoch: 79.8%  lr: 0.021972  loss: 0.009233  eta: 0h6m  tot: 0h8m44s  (56.0%)\rEpoch: 79.9%  lr: 0.021972  loss: 0.009255  eta: 0h6m  tot: 0h8m44s  (56.0%)\rEpoch: 79.9%  lr: 0.021972  loss: 0.009269  eta: 0h6m  tot: 0h8m45s  (56.0%)\rEpoch: 80.0%  lr: 0.021972  loss: 0.009267  eta: 0h6m  tot: 0h8m45s  (56.0%)\rEpoch: 80.1%  lr: 0.021962  loss: 0.009277  eta: 0h6m  tot: 0h8m45s  (56.0%)\rEpoch: 80.2%  lr: 0.021962  loss: 0.009271  eta: 0h6m  tot: 0h8m45s  (56.0%)\rEpoch: 80.3%  lr: 0.021952  loss: 0.009269  eta: 0h6m  tot: 0h8m45s  (56.1%)\rEpoch: 80.4%  lr: 0.021952  loss: 0.009267  eta: 0h6m  tot: 0h8m45s  (56.1%)\rEpoch: 80.5%  lr: 0.021952  loss: 0.009268  eta: 0h6m  tot: 0h8m46s  (56.1%)\rEpoch: 80.6%  lr: 0.021942  loss: 0.009270  eta: 0h6m  tot: 0h8m46s  (56.1%)\rEpoch: 80.7%  lr: 0.021912  loss: 0.009263  eta: 0h6m  tot: 0h8m46s  (56.1%)\rEpoch: 80.8%  lr: 0.021892  loss: 0.009263  eta: 0h6m  tot: 0h8m46s  (56.2%)\rEpoch: 80.8%  lr: 0.021872  loss: 0.009265  eta: 0h6m  tot: 0h8m46s  (56.2%)\rEpoch: 80.9%  lr: 0.021872  loss: 0.009261  eta: 0h6m  tot: 0h8m46s  (56.2%)\rEpoch: 81.0%  lr: 0.021872  loss: 0.009257  eta: 0h6m  tot: 0h8m47s  (56.2%)\rEpoch: 81.1%  lr: 0.021872  loss: 0.009258  eta: 0h6m  tot: 0h8m47s  (56.2%)\rEpoch: 81.2%  lr: 0.021862  loss: 0.009256  eta: 0h6m  tot: 0h8m47s  (56.2%)\rEpoch: 81.3%  lr: 0.021852  loss: 0.009254  eta: 0h6m  tot: 0h8m47s  (56.3%)\rEpoch: 81.4%  lr: 0.021852  loss: 0.009262  eta: 0h6m  tot: 0h8m47s  (56.3%)\rEpoch: 81.5%  lr: 0.021852  loss: 0.009265  eta: 0h6m  tot: 0h8m47s  (56.3%)\rEpoch: 81.6%  lr: 0.021842  loss: 0.009266  eta: 0h6m  tot: 0h8m47s  (56.3%)\rEpoch: 81.7%  lr: 0.021842  loss: 0.009265  eta: 0h6m  tot: 0h8m48s  (56.3%)\rEpoch: 81.7%  lr: 0.021832  loss: 0.009267  eta: 0h6m  tot: 0h8m48s  (56.3%)\rEpoch: 81.8%  lr: 0.021822  loss: 0.009269  eta: 0h6m  tot: 0h8m48s  (56.4%)\rEpoch: 81.9%  lr: 0.021822  loss: 0.009266  eta: 0h6m  tot: 0h8m48s  (56.4%)\rEpoch: 82.0%  lr: 0.021822  loss: 0.009263  eta: 0h6m  tot: 0h8m48s  (56.4%)\rEpoch: 82.1%  lr: 0.021812  loss: 0.009264  eta: 0h6m  tot: 0h8m48s  (56.4%)\rEpoch: 82.2%  lr: 0.021812  loss: 0.009260  eta: 0h6m  tot: 0h8m49s  (56.4%)\rEpoch: 82.3%  lr: 0.021812  loss: 0.009269  eta: 0h6m  tot: 0h8m49s  (56.5%)\rEpoch: 82.4%  lr: 0.021802  loss: 0.009287  eta: 0h6m  tot: 0h8m49s  (56.5%)\rEpoch: 82.5%  lr: 0.021802  loss: 0.009284  eta: 0h6m  tot: 0h8m49s  (56.5%)\rEpoch: 82.6%  lr: 0.021802  loss: 0.009291  eta: 0h6m  tot: 0h8m49s  (56.5%)\rEpoch: 82.6%  lr: 0.021802  loss: 0.009295  eta: 0h6m  tot: 0h8m49s  (56.5%)\rEpoch: 82.7%  lr: 0.021802  loss: 0.009295  eta: 0h6m  tot: 0h8m50s  (56.5%)\rEpoch: 82.8%  lr: 0.021802  loss: 0.009291  eta: 0h6m  tot: 0h8m50s  (56.6%)\rEpoch: 82.9%  lr: 0.021792  loss: 0.009300  eta: 0h6m  tot: 0h8m50s  (56.6%)\rEpoch: 83.0%  lr: 0.021792  loss: 0.009295  eta: 0h6m  tot: 0h8m50s  (56.6%)\rEpoch: 83.1%  lr: 0.021792  loss: 0.009300  eta: 0h6m  tot: 0h8m50s  (56.6%)\rEpoch: 83.2%  lr: 0.021792  loss: 0.009300  eta: 0h6m  tot: 0h8m50s  (56.6%)\rEpoch: 83.3%  lr: 0.021772  loss: 0.009301  eta: 0h6m  tot: 0h8m51s  (56.7%)\rEpoch: 83.4%  lr: 0.021762  loss: 0.009307  eta: 0h6m  tot: 0h8m51s  (56.7%)\rEpoch: 83.5%  lr: 0.021732  loss: 0.009303  eta: 0h6m  tot: 0h8m51s  (56.7%)\rEpoch: 83.5%  lr: 0.021732  loss: 0.009303  eta: 0h6m  tot: 0h8m51s  (56.7%)\rEpoch: 83.6%  lr: 0.021732  loss: 0.009300  eta: 0h6m  tot: 0h8m51s  (56.7%)\rEpoch: 83.7%  lr: 0.021722  loss: 0.009312  eta: 0h6m  tot: 0h8m51s  (56.7%)\rEpoch: 83.8%  lr: 0.021702  loss: 0.009314  eta: 0h6m  tot: 0h8m52s  (56.8%)\rEpoch: 83.9%  lr: 0.021702  loss: 0.009318  eta: 0h6m  tot: 0h8m52s  (56.8%)\rEpoch: 84.0%  lr: 0.021692  loss: 0.009325  eta: 0h6m  tot: 0h8m52s  (56.8%)\rEpoch: 84.1%  lr: 0.021682  loss: 0.009325  eta: 0h6m  tot: 0h8m52s  (56.8%)\rEpoch: 84.2%  lr: 0.021652  loss: 0.009325  eta: 0h6m  tot: 0h8m52s  (56.8%)\rEpoch: 84.3%  lr: 0.021642  loss: 0.009325  eta: 0h6m  tot: 0h8m52s  (56.9%)\rEpoch: 84.4%  lr: 0.021642  loss: 0.009322  eta: 0h6m  tot: 0h8m52s  (56.9%)\rEpoch: 84.4%  lr: 0.021632  loss: 0.009338  eta: 0h6m  tot: 0h8m53s  (56.9%)\rEpoch: 84.5%  lr: 0.021612  loss: 0.009341  eta: 0h6m  tot: 0h8m53s  (56.9%)\rEpoch: 84.6%  lr: 0.021602  loss: 0.009337  eta: 0h6m  tot: 0h8m53s  (56.9%)\rEpoch: 84.7%  lr: 0.021582  loss: 0.009332  eta: 0h6m  tot: 0h8m53s  (56.9%)\rEpoch: 84.8%  lr: 0.021582  loss: 0.009330  eta: 0h6m  tot: 0h8m53s  (57.0%)\rEpoch: 84.9%  lr: 0.021572  loss: 0.009337  eta: 0h6m  tot: 0h8m53s  (57.0%)\rEpoch: 85.0%  lr: 0.021572  loss: 0.009331  eta: 0h6m  tot: 0h8m54s  (57.0%)\rEpoch: 85.1%  lr: 0.021572  loss: 0.009331  eta: 0h6m  tot: 0h8m54s  (57.0%)\rEpoch: 85.2%  lr: 0.021562  loss: 0.009326  eta: 0h6m  tot: 0h8m54s  (57.0%)\rEpoch: 85.3%  lr: 0.021552  loss: 0.009323  eta: 0h6m  tot: 0h8m54s  (57.1%)\rEpoch: 85.3%  lr: 0.021542  loss: 0.009327  eta: 0h6m  tot: 0h8m54s  (57.1%)\rEpoch: 85.4%  lr: 0.021532  loss: 0.009327  eta: 0h6m  tot: 0h8m54s  (57.1%)\rEpoch: 85.5%  lr: 0.021502  loss: 0.009328  eta: 0h6m  tot: 0h8m55s  (57.1%)\rEpoch: 85.6%  lr: 0.021482  loss: 0.009339  eta: 0h6m  tot: 0h8m55s  (57.1%)\rEpoch: 85.7%  lr: 0.021472  loss: 0.009356  eta: 0h6m  tot: 0h8m55s  (57.1%)\rEpoch: 85.8%  lr: 0.021472  loss: 0.009350  eta: 0h6m  tot: 0h8m55s  (57.2%)\rEpoch: 85.9%  lr: 0.021462  loss: 0.009344  eta: 0h6m  tot: 0h8m55s  (57.2%)\rEpoch: 86.0%  lr: 0.021462  loss: 0.009338  eta: 0h6m  tot: 0h8m55s  (57.2%)\rEpoch: 86.1%  lr: 0.021462  loss: 0.009340  eta: 0h6m  tot: 0h8m56s  (57.2%)\rEpoch: 86.2%  lr: 0.021452  loss: 0.009342  eta: 0h6m  tot: 0h8m56s  (57.2%)\rEpoch: 86.2%  lr: 0.021442  loss: 0.009337  eta: 0h6m  tot: 0h8m56s  (57.2%)\rEpoch: 86.3%  lr: 0.021422  loss: 0.009340  eta: 0h6m  tot: 0h8m56s  (57.3%)\rEpoch: 86.4%  lr: 0.021422  loss: 0.009335  eta: 0h6m  tot: 0h8m56s  (57.3%)\rEpoch: 86.5%  lr: 0.021422  loss: 0.009345  eta: 0h6m  tot: 0h8m56s  (57.3%)\rEpoch: 86.6%  lr: 0.021422  loss: 0.009338  eta: 0h6m  tot: 0h8m56s  (57.3%)\rEpoch: 86.7%  lr: 0.021392  loss: 0.009337  eta: 0h6m  tot: 0h8m57s  (57.3%)\rEpoch: 86.8%  lr: 0.021361  loss: 0.009332  eta: 0h6m  tot: 0h8m57s  (57.4%)\rEpoch: 86.9%  lr: 0.021361  loss: 0.009328  eta: 0h6m  tot: 0h8m57s  (57.4%)\rEpoch: 87.0%  lr: 0.021351  loss: 0.009322  eta: 0h6m  tot: 0h8m57s  (57.4%)\rEpoch: 87.1%  lr: 0.021351  loss: 0.009323  eta: 0h6m  tot: 0h8m57s  (57.4%)\rEpoch: 87.1%  lr: 0.021321  loss: 0.009317  eta: 0h6m  tot: 0h8m57s  (57.4%)\rEpoch: 87.2%  lr: 0.021311  loss: 0.009326  eta: 0h6m  tot: 0h8m58s  (57.4%)\rEpoch: 87.3%  lr: 0.021301  loss: 0.009321  eta: 0h6m  tot: 0h8m58s  (57.5%)\rEpoch: 87.4%  lr: 0.021301  loss: 0.009322  eta: 0h6m  tot: 0h8m58s  (57.5%)\rEpoch: 87.5%  lr: 0.021271  loss: 0.009323  eta: 0h6m  tot: 0h8m58s  (57.5%)\rEpoch: 87.6%  lr: 0.021261  loss: 0.009332  eta: 0h6m  tot: 0h8m58s  (57.5%)\rEpoch: 87.7%  lr: 0.021261  loss: 0.009331  eta: 0h6m  tot: 0h8m58s  (57.5%)\rEpoch: 87.8%  lr: 0.021251  loss: 0.009341  eta: 0h6m  tot: 0h8m59s  (57.6%)\rEpoch: 87.9%  lr: 0.021251  loss: 0.009339  eta: 0h6m  tot: 0h8m59s  (57.6%)\rEpoch: 88.0%  lr: 0.021241  loss: 0.009334  eta: 0h6m  tot: 0h8m59s  (57.6%)\rEpoch: 88.0%  lr: 0.021241  loss: 0.009331  eta: 0h6m  tot: 0h8m59s  (57.6%)\rEpoch: 88.1%  lr: 0.021241  loss: 0.009325  eta: 0h6m  tot: 0h8m59s  (57.6%)\rEpoch: 88.2%  lr: 0.021231  loss: 0.009326  eta: 0h6m  tot: 0h8m59s  (57.6%)\rEpoch: 88.3%  lr: 0.021231  loss: 0.009319  eta: 0h6m  tot: 0h9m0s  (57.7%)\rEpoch: 88.4%  lr: 0.021231  loss: 0.009316  eta: 0h6m  tot: 0h9m0s  (57.7%)\rEpoch: 88.5%  lr: 0.021221  loss: 0.009322  eta: 0h6m  tot: 0h9m0s  (57.7%)\rEpoch: 88.6%  lr: 0.021211  loss: 0.009316  eta: 0h6m  tot: 0h9m0s  (57.7%)\rEpoch: 88.7%  lr: 0.021201  loss: 0.009325  eta: 0h6m  tot: 0h9m0s  (57.7%)\rEpoch: 88.8%  lr: 0.021181  loss: 0.009323  eta: 0h6m  tot: 0h9m0s  (57.8%)\rEpoch: 88.9%  lr: 0.021181  loss: 0.009317  eta: 0h6m  tot: 0h9m0s  (57.8%)\rEpoch: 88.9%  lr: 0.021171  loss: 0.009316  eta: 0h6m  tot: 0h9m1s  (57.8%)\rEpoch: 89.0%  lr: 0.021161  loss: 0.009314  eta: 0h6m  tot: 0h9m1s  (57.8%)\rEpoch: 89.1%  lr: 0.021131  loss: 0.009307  eta: 0h6m  tot: 0h9m1s  (57.8%)\rEpoch: 89.2%  lr: 0.021131  loss: 0.009301  eta: 0h6m  tot: 0h9m1s  (57.8%)\rEpoch: 89.3%  lr: 0.021121  loss: 0.009301  eta: 0h6m  tot: 0h9m1s  (57.9%)\rEpoch: 89.4%  lr: 0.021101  loss: 0.009304  eta: 0h6m  tot: 0h9m1s  (57.9%)\rEpoch: 89.5%  lr: 0.021091  loss: 0.009309  eta: 0h6m  tot: 0h9m2s  (57.9%)\rEpoch: 89.6%  lr: 0.021091  loss: 0.009304  eta: 0h6m  tot: 0h9m2s  (57.9%)\rEpoch: 89.7%  lr: 0.021081  loss: 0.009305  eta: 0h6m  tot: 0h9m2s  (57.9%)\rEpoch: 89.8%  lr: 0.021071  loss: 0.009303  eta: 0h6m  tot: 0h9m2s  (58.0%)\rEpoch: 89.8%  lr: 0.021061  loss: 0.009306  eta: 0h6m  tot: 0h9m2s  (58.0%)\rEpoch: 89.9%  lr: 0.021051  loss: 0.009302  eta: 0h6m  tot: 0h9m2s  (58.0%)\rEpoch: 90.0%  lr: 0.021041  loss: 0.009296  eta: 0h6m  tot: 0h9m3s  (58.0%)\rEpoch: 90.1%  lr: 0.021031  loss: 0.009292  eta: 0h6m  tot: 0h9m3s  (58.0%)\rEpoch: 90.2%  lr: 0.021021  loss: 0.009288  eta: 0h6m  tot: 0h9m3s  (58.0%)\rEpoch: 90.3%  lr: 0.020981  loss: 0.009288  eta: 0h6m  tot: 0h9m3s  (58.1%)\rEpoch: 90.4%  lr: 0.020961  loss: 0.009287  eta: 0h6m  tot: 0h9m3s  (58.1%)\rEpoch: 90.5%  lr: 0.020961  loss: 0.009296  eta: 0h6m  tot: 0h9m3s  (58.1%)\rEpoch: 90.6%  lr: 0.020951  loss: 0.009293  eta: 0h6m  tot: 0h9m4s  (58.1%)\rEpoch: 90.7%  lr: 0.020951  loss: 0.009304  eta: 0h6m  tot: 0h9m4s  (58.1%)\rEpoch: 90.7%  lr: 0.020951  loss: 0.009307  eta: 0h6m  tot: 0h9m4s  (58.1%)\rEpoch: 90.8%  lr: 0.020951  loss: 0.009300  eta: 0h6m  tot: 0h9m4s  (58.2%)\rEpoch: 90.9%  lr: 0.020951  loss: 0.009298  eta: 0h6m  tot: 0h9m4s  (58.2%)\rEpoch: 91.0%  lr: 0.020941  loss: 0.009291  eta: 0h6m  tot: 0h9m4s  (58.2%)\rEpoch: 91.1%  lr: 0.020941  loss: 0.009284  eta: 0h6m  tot: 0h9m4s  (58.2%)\rEpoch: 91.2%  lr: 0.020931  loss: 0.009280  eta: 0h6m  tot: 0h9m5s  (58.2%)\rEpoch: 91.3%  lr: 0.020931  loss: 0.009276  eta: 0h6m  tot: 0h9m5s  (58.3%)\rEpoch: 91.4%  lr: 0.020921  loss: 0.009274  eta: 0h6m  tot: 0h9m5s  (58.3%)\rEpoch: 91.5%  lr: 0.020921  loss: 0.009272  eta: 0h6m  tot: 0h9m5s  (58.3%)\rEpoch: 91.6%  lr: 0.020911  loss: 0.009268  eta: 0h6m  tot: 0h9m5s  (58.3%)\rEpoch: 91.6%  lr: 0.020911  loss: 0.009269  eta: 0h6m  tot: 0h9m5s  (58.3%)\rEpoch: 91.7%  lr: 0.020891  loss: 0.009264  eta: 0h6m  tot: 0h9m6s  (58.3%)\rEpoch: 91.8%  lr: 0.020891  loss: 0.009260  eta: 0h6m  tot: 0h9m6s  (58.4%)\rEpoch: 91.9%  lr: 0.020861  loss: 0.009265  eta: 0h6m  tot: 0h9m6s  (58.4%)\rEpoch: 92.0%  lr: 0.020861  loss: 0.009265  eta: 0h6m  tot: 0h9m6s  (58.4%)\rEpoch: 92.1%  lr: 0.020841  loss: 0.009268  eta: 0h6m  tot: 0h9m6s  (58.4%)\rEpoch: 92.2%  lr: 0.020841  loss: 0.009268  eta: 0h6m  tot: 0h9m6s  (58.4%)\rEpoch: 92.3%  lr: 0.020821  loss: 0.009269  eta: 0h6m  tot: 0h9m6s  (58.5%)\rEpoch: 92.4%  lr: 0.020811  loss: 0.009264  eta: 0h6m  tot: 0h9m7s  (58.5%)\rEpoch: 92.5%  lr: 0.020801  loss: 0.009258  eta: 0h6m  tot: 0h9m7s  (58.5%)\rEpoch: 92.5%  lr: 0.020801  loss: 0.009261  eta: 0h6m  tot: 0h9m7s  (58.5%)\rEpoch: 92.6%  lr: 0.020791  loss: 0.009259  eta: 0h6m  tot: 0h9m7s  (58.5%)\rEpoch: 92.7%  lr: 0.020781  loss: 0.009257  eta: 0h6m  tot: 0h9m7s  (58.5%)\rEpoch: 92.8%  lr: 0.020781  loss: 0.009255  eta: 0h6m  tot: 0h9m7s  (58.6%)\rEpoch: 92.9%  lr: 0.020781  loss: 0.009260  eta: 0h6m  tot: 0h9m8s  (58.6%)\rEpoch: 93.0%  lr: 0.020771  loss: 0.009272  eta: 0h6m  tot: 0h9m8s  (58.6%)\rEpoch: 93.1%  lr: 0.020761  loss: 0.009273  eta: 0h6m  tot: 0h9m8s  (58.6%)\rEpoch: 93.2%  lr: 0.020761  loss: 0.009280  eta: 0h6m  tot: 0h9m8s  (58.6%)\rEpoch: 93.3%  lr: 0.020751  loss: 0.009282  eta: 0h6m  tot: 0h9m8s  (58.7%)\rEpoch: 93.4%  lr: 0.020741  loss: 0.009280  eta: 0h6m  tot: 0h9m8s  (58.7%)\rEpoch: 93.4%  lr: 0.020741  loss: 0.009279  eta: 0h6m  tot: 0h9m9s  (58.7%)\rEpoch: 93.5%  lr: 0.020741  loss: 0.009278  eta: 0h6m  tot: 0h9m9s  (58.7%)\rEpoch: 93.6%  lr: 0.020731  loss: 0.009271  eta: 0h6m  tot: 0h9m9s  (58.7%)\rEpoch: 93.7%  lr: 0.020711  loss: 0.009273  eta: 0h6m  tot: 0h9m9s  (58.7%)\rEpoch: 93.8%  lr: 0.020701  loss: 0.009277  eta: 0h6m  tot: 0h9m9s  (58.8%)\rEpoch: 93.9%  lr: 0.020681  loss: 0.009279  eta: 0h6m  tot: 0h9m9s  (58.8%)\rEpoch: 94.0%  lr: 0.020671  loss: 0.009288  eta: 0h6m  tot: 0h9m10s  (58.8%)\rEpoch: 94.1%  lr: 0.020661  loss: 0.009285  eta: 0h6m  tot: 0h9m10s  (58.8%)\rEpoch: 94.2%  lr: 0.020661  loss: 0.009281  eta: 0h6m  tot: 0h9m10s  (58.8%)\rEpoch: 94.3%  lr: 0.020661  loss: 0.009283  eta: 0h6m  tot: 0h9m10s  (58.9%)\rEpoch: 94.3%  lr: 0.020651  loss: 0.009279  eta: 0h6m  tot: 0h9m10s  (58.9%)\rEpoch: 94.4%  lr: 0.020651  loss: 0.009277  eta: 0h6m  tot: 0h9m10s  (58.9%)\rEpoch: 94.5%  lr: 0.020641  loss: 0.009278  eta: 0h6m  tot: 0h9m11s  (58.9%)\rEpoch: 94.6%  lr: 0.020631  loss: 0.009270  eta: 0h6m  tot: 0h9m11s  (58.9%)\rEpoch: 94.7%  lr: 0.020631  loss: 0.009270  eta: 0h6m  tot: 0h9m11s  (58.9%)\rEpoch: 94.8%  lr: 0.020631  loss: 0.009267  eta: 0h6m  tot: 0h9m11s  (59.0%)\rEpoch: 94.9%  lr: 0.020631  loss: 0.009267  eta: 0h6m  tot: 0h9m11s  (59.0%)\rEpoch: 95.0%  lr: 0.020631  loss: 0.009266  eta: 0h6m  tot: 0h9m11s  (59.0%)\rEpoch: 95.1%  lr: 0.020631  loss: 0.009262  eta: 0h6m  tot: 0h9m11s  (59.0%)\rEpoch: 95.2%  lr: 0.020631  loss: 0.009261  eta: 0h6m  tot: 0h9m12s  (59.0%)\rEpoch: 95.2%  lr: 0.020611  loss: 0.009262  eta: 0h6m  tot: 0h9m12s  (59.0%)\rEpoch: 95.3%  lr: 0.020601  loss: 0.009259  eta: 0h6m  tot: 0h9m12s  (59.1%)\rEpoch: 95.4%  lr: 0.020601  loss: 0.009257  eta: 0h6m  tot: 0h9m12s  (59.1%)\rEpoch: 95.5%  lr: 0.020591  loss: 0.009257  eta: 0h6m  tot: 0h9m12s  (59.1%)\rEpoch: 95.6%  lr: 0.020571  loss: 0.009252  eta: 0h6m  tot: 0h9m12s  (59.1%)\rEpoch: 95.7%  lr: 0.020561  loss: 0.009254  eta: 0h6m  tot: 0h9m13s  (59.1%)\rEpoch: 95.8%  lr: 0.020561  loss: 0.009253  eta: 0h6m  tot: 0h9m13s  (59.2%)\rEpoch: 95.9%  lr: 0.020531  loss: 0.009252  eta: 0h6m  tot: 0h9m13s  (59.2%)\rEpoch: 96.0%  lr: 0.020521  loss: 0.009252  eta: 0h6m  tot: 0h9m13s  (59.2%)\rEpoch: 96.1%  lr: 0.020491  loss: 0.009248  eta: 0h6m  tot: 0h9m13s  (59.2%)\rEpoch: 96.1%  lr: 0.020461  loss: 0.009244  eta: 0h6m  tot: 0h9m13s  (59.2%)\rEpoch: 96.2%  lr: 0.020451  loss: 0.009245  eta: 0h6m  tot: 0h9m13s  (59.2%)\rEpoch: 96.3%  lr: 0.020431  loss: 0.009250  eta: 0h6m  tot: 0h9m14s  (59.3%)\rEpoch: 96.4%  lr: 0.020431  loss: 0.009246  eta: 0h6m  tot: 0h9m14s  (59.3%)\rEpoch: 96.5%  lr: 0.020421  loss: 0.009245  eta: 0h6m  tot: 0h9m14s  (59.3%)\rEpoch: 96.6%  lr: 0.020421  loss: 0.009243  eta: 0h6m  tot: 0h9m14s  (59.3%)\rEpoch: 96.7%  lr: 0.020411  loss: 0.009245  eta: 0h6m  tot: 0h9m14s  (59.3%)\rEpoch: 96.8%  lr: 0.020411  loss: 0.009239  eta: 0h6m  tot: 0h9m14s  (59.4%)\rEpoch: 96.9%  lr: 0.020391  loss: 0.009235  eta: 0h6m  tot: 0h9m15s  (59.4%)\rEpoch: 97.0%  lr: 0.020381  loss: 0.009232  eta: 0h6m  tot: 0h9m15s  (59.4%)\rEpoch: 97.0%  lr: 0.020371  loss: 0.009234  eta: 0h6m  tot: 0h9m15s  (59.4%)\rEpoch: 97.1%  lr: 0.020371  loss: 0.009233  eta: 0h6m  tot: 0h9m15s  (59.4%)\rEpoch: 97.2%  lr: 0.020350  loss: 0.009237  eta: 0h6m  tot: 0h9m15s  (59.4%)\rEpoch: 97.3%  lr: 0.020320  loss: 0.009236  eta: 0h6m  tot: 0h9m16s  (59.5%)\rEpoch: 97.4%  lr: 0.020310  loss: 0.009236  eta: 0h6m  tot: 0h9m16s  (59.5%)\rEpoch: 97.5%  lr: 0.020290  loss: 0.009235  eta: 0h6m  tot: 0h9m16s  (59.5%)\rEpoch: 97.6%  lr: 0.020280  loss: 0.009234  eta: 0h6m  tot: 0h9m16s  (59.5%)\rEpoch: 97.7%  lr: 0.020280  loss: 0.009229  eta: 0h6m  tot: 0h9m16s  (59.5%)\rEpoch: 97.8%  lr: 0.020240  loss: 0.009233  eta: 0h6m  tot: 0h9m16s  (59.6%)\rEpoch: 97.9%  lr: 0.020230  loss: 0.009237  eta: 0h6m  tot: 0h9m17s  (59.6%)\rEpoch: 97.9%  lr: 0.020230  loss: 0.009246  eta: 0h6m  tot: 0h9m17s  (59.6%)\rEpoch: 98.0%  lr: 0.020220  loss: 0.009250  eta: 0h6m  tot: 0h9m17s  (59.6%)\rEpoch: 98.1%  lr: 0.020200  loss: 0.009247  eta: 0h6m  tot: 0h9m17s  (59.6%)\rEpoch: 98.2%  lr: 0.020190  loss: 0.009249  eta: 0h6m  tot: 0h9m17s  (59.6%)\rEpoch: 98.3%  lr: 0.020190  loss: 0.009249  eta: 0h6m  tot: 0h9m17s  (59.7%)\rEpoch: 98.4%  lr: 0.020180  loss: 0.009252  eta: 0h6m  tot: 0h9m18s  (59.7%)\rEpoch: 98.5%  lr: 0.020180  loss: 0.009249  eta: 0h6m  tot: 0h9m18s  (59.7%)\rEpoch: 98.6%  lr: 0.020160  loss: 0.009245  eta: 0h6m  tot: 0h9m18s  (59.7%)\rEpoch: 98.7%  lr: 0.020160  loss: 0.009244  eta: 0h6m  tot: 0h9m18s  (59.7%)\rEpoch: 98.8%  lr: 0.020140  loss: 0.009240  eta: 0h5m  tot: 0h9m18s  (59.8%)\rEpoch: 98.8%  lr: 0.020140  loss: 0.009244  eta: 0h5m  tot: 0h9m18s  (59.8%)\rEpoch: 98.9%  lr: 0.020140  loss: 0.009240  eta: 0h5m  tot: 0h9m19s  (59.8%)\rEpoch: 99.0%  lr: 0.020100  loss: 0.009245  eta: 0h5m  tot: 0h9m19s  (59.8%)\rEpoch: 99.1%  lr: 0.020090  loss: 0.009247  eta: 0h5m  tot: 0h9m19s  (59.8%)\rEpoch: 99.2%  lr: 0.020060  loss: 0.009246  eta: 0h5m  tot: 0h9m19s  (59.8%)\rEpoch: 99.3%  lr: 0.020050  loss: 0.009243  eta: 0h5m  tot: 0h9m19s  (59.9%)\rEpoch: 99.4%  lr: 0.020040  loss: 0.009240  eta: 0h5m  tot: 0h9m19s  (59.9%)\rEpoch: 99.5%  lr: 0.020030  loss: 0.009240  eta: 0h5m  tot: 0h9m19s  (59.9%)\rEpoch: 99.6%  lr: 0.020030  loss: 0.009235  eta: 0h5m  tot: 0h9m20s  (59.9%)\rEpoch: 99.7%  lr: 0.020030  loss: 0.009235  eta: 0h5m  tot: 0h9m20s  (59.9%)\rEpoch: 99.7%  lr: 0.020010  loss: 0.009238  eta: 0h5m  tot: 0h9m20s  (59.9%)\rEpoch: 99.8%  lr: 0.020010  loss: 0.009235  eta: 0h5m  tot: 0h9m20s  (60.0%)\rEpoch: 99.9%  lr: 0.020000  loss: 0.009228  eta: 0h5m  tot: 0h9m20s  (60.0%)\rEpoch: 100.0%  lr: 0.020000  loss: 0.009228  eta: 0h5m  tot: 0h9m20s  (60.0%)\rEpoch: 0.1%  lr: 0.019980  loss: 0.004028  eta: 0h7m  tot: 0h9m20s  (60.0%)\rEpoch: 0.2%  lr: 0.019970  loss: 0.003887  eta: 0h5m  tot: 0h9m20s  (60.0%)\rEpoch: 0.3%  lr: 0.019960  loss: 0.003690  eta: 0h5m  tot: 0h9m20s  (60.1%)\rEpoch: 0.4%  lr: 0.019950  loss: 0.003615  eta: 0h5m  tot: 0h9m21s  (60.1%)\rEpoch: 0.4%  lr: 0.019940  loss: 0.003241  eta: 0h5m  tot: 0h9m21s  (60.1%)\rEpoch: 0.5%  lr: 0.019940  loss: 0.004333  eta: 0h5m  tot: 0h9m21s  (60.1%)\rEpoch: 0.6%  lr: 0.019940  loss: 0.004469  eta: 0h5m  tot: 0h9m21s  (60.1%)\rEpoch: 0.7%  lr: 0.019920  loss: 0.004611  eta: 0h5m  tot: 0h9m21s  (60.1%)\rEpoch: 0.8%  lr: 0.019920  loss: 0.004713  eta: 0h5m  tot: 0h9m21s  (60.2%)\rEpoch: 0.9%  lr: 0.019920  loss: 0.004567  eta: 0h5m  tot: 0h9m22s  (60.2%)\rEpoch: 1.0%  lr: 0.019910  loss: 0.004475  eta: 0h5m  tot: 0h9m22s  (60.2%)\rEpoch: 1.1%  lr: 0.019900  loss: 0.005530  eta: 0h5m  tot: 0h9m22s  (60.2%)\rEpoch: 1.2%  lr: 0.019890  loss: 0.005608  eta: 0h5m  tot: 0h9m22s  (60.2%)\rEpoch: 1.3%  lr: 0.019860  loss: 0.005484  eta: 0h5m  tot: 0h9m22s  (60.3%)\rEpoch: 1.3%  lr: 0.019850  loss: 0.005406  eta: 0h5m  tot: 0h9m22s  (60.3%)\rEpoch: 1.4%  lr: 0.019840  loss: 0.005278  eta: 0h5m  tot: 0h9m23s  (60.3%)\rEpoch: 1.5%  lr: 0.019840  loss: 0.005851  eta: 0h5m  tot: 0h9m23s  (60.3%)\rEpoch: 1.6%  lr: 0.019840  loss: 0.005980  eta: 0h5m  tot: 0h9m23s  (60.3%)\rEpoch: 1.7%  lr: 0.019830  loss: 0.006212  eta: 0h5m  tot: 0h9m23s  (60.3%)\rEpoch: 1.8%  lr: 0.019830  loss: 0.006383  eta: 0h5m  tot: 0h9m23s  (60.4%)\rEpoch: 1.9%  lr: 0.019810  loss: 0.006259  eta: 0h5m  tot: 0h9m23s  (60.4%)\rEpoch: 2.0%  lr: 0.019800  loss: 0.006345  eta: 0h5m  tot: 0h9m24s  (60.4%)\rEpoch: 2.1%  lr: 0.019800  loss: 0.006340  eta: 0h5m  tot: 0h9m24s  (60.4%)\rEpoch: 2.2%  lr: 0.019800  loss: 0.006335  eta: 0h5m  tot: 0h9m24s  (60.4%)\rEpoch: 2.2%  lr: 0.019800  loss: 0.006599  eta: 0h5m  tot: 0h9m24s  (60.4%)\rEpoch: 2.3%  lr: 0.019750  loss: 0.006835  eta: 0h5m  tot: 0h9m24s  (60.5%)\rEpoch: 2.4%  lr: 0.019740  loss: 0.006771  eta: 0h5m  tot: 0h9m24s  (60.5%)\rEpoch: 2.5%  lr: 0.019740  loss: 0.006717  eta: 0h5m  tot: 0h9m24s  (60.5%)\rEpoch: 2.6%  lr: 0.019730  loss: 0.006628  eta: 0h5m  tot: 0h9m25s  (60.5%)\rEpoch: 2.7%  lr: 0.019730  loss: 0.006725  eta: 0h5m  tot: 0h9m25s  (60.5%)\rEpoch: 2.8%  lr: 0.019720  loss: 0.006597  eta: 0h5m  tot: 0h9m25s  (60.6%)\rEpoch: 2.9%  lr: 0.019700  loss: 0.006473  eta: 0h5m  tot: 0h9m25s  (60.6%)\rEpoch: 3.0%  lr: 0.019690  loss: 0.006343  eta: 0h5m  tot: 0h9m25s  (60.6%)\rEpoch: 3.1%  lr: 0.019660  loss: 0.006402  eta: 0h5m  tot: 0h9m25s  (60.6%)\rEpoch: 3.1%  lr: 0.019640  loss: 0.006803  eta: 0h5m  tot: 0h9m26s  (60.6%)\rEpoch: 3.2%  lr: 0.019640  loss: 0.006837  eta: 0h5m  tot: 0h9m26s  (60.6%)\rEpoch: 3.3%  lr: 0.019640  loss: 0.006818  eta: 0h5m  tot: 0h9m26s  (60.7%)\rEpoch: 3.4%  lr: 0.019630  loss: 0.006738  eta: 0h5m  tot: 0h9m26s  (60.7%)\rEpoch: 3.5%  lr: 0.019610  loss: 0.006799  eta: 0h5m  tot: 0h9m26s  (60.7%)\rEpoch: 3.6%  lr: 0.019610  loss: 0.006856  eta: 0h5m  tot: 0h9m26s  (60.7%)\rEpoch: 3.7%  lr: 0.019600  loss: 0.006775  eta: 0h5m  tot: 0h9m27s  (60.7%)\rEpoch: 3.8%  lr: 0.019600  loss: 0.006921  eta: 0h5m  tot: 0h9m27s  (60.8%)\rEpoch: 3.9%  lr: 0.019570  loss: 0.007162  eta: 0h5m  tot: 0h9m27s  (60.8%)\rEpoch: 4.0%  lr: 0.019550  loss: 0.007106  eta: 0h5m  tot: 0h9m27s  (60.8%)\rEpoch: 4.1%  lr: 0.019530  loss: 0.007163  eta: 0h5m  tot: 0h9m27s  (60.8%)\rEpoch: 4.1%  lr: 0.019520  loss: 0.007219  eta: 0h5m  tot: 0h9m27s  (60.8%)\rEpoch: 4.2%  lr: 0.019510  loss: 0.007178  eta: 0h5m  tot: 0h9m27s  (60.8%)\rEpoch: 4.3%  lr: 0.019510  loss: 0.007197  eta: 0h5m  tot: 0h9m28s  (60.9%)\rEpoch: 4.4%  lr: 0.019510  loss: 0.007313  eta: 0h5m  tot: 0h9m28s  (60.9%)\rEpoch: 4.5%  lr: 0.019510  loss: 0.007244  eta: 0h5m  tot: 0h9m28s  (60.9%)\rEpoch: 4.6%  lr: 0.019489  loss: 0.007290  eta: 0h5m  tot: 0h9m28s  (60.9%)\rEpoch: 4.7%  lr: 0.019479  loss: 0.007298  eta: 0h5m  tot: 0h9m28s  (60.9%)\rEpoch: 4.8%  lr: 0.019469  loss: 0.007252  eta: 0h5m  tot: 0h9m28s  (61.0%)\rEpoch: 4.9%  lr: 0.019459  loss: 0.007133  eta: 0h5m  tot: 0h9m29s  (61.0%)\rEpoch: 5.0%  lr: 0.019449  loss: 0.007177  eta: 0h5m  tot: 0h9m29s  (61.0%)\rEpoch: 5.0%  lr: 0.019439  loss: 0.007261  eta: 0h5m  tot: 0h9m29s  (61.0%)\rEpoch: 5.1%  lr: 0.019419  loss: 0.007240  eta: 0h5m  tot: 0h9m29s  (61.0%)\rEpoch: 5.2%  lr: 0.019409  loss: 0.007231  eta: 0h5m  tot: 0h9m29s  (61.0%)\rEpoch: 5.3%  lr: 0.019399  loss: 0.007146  eta: 0h5m  tot: 0h9m29s  (61.1%)\rEpoch: 5.4%  lr: 0.019399  loss: 0.007122  eta: 0h5m  tot: 0h9m30s  (61.1%)\rEpoch: 5.5%  lr: 0.019399  loss: 0.007136  eta: 0h5m  tot: 0h9m30s  (61.1%)\rEpoch: 5.6%  lr: 0.019389  loss: 0.007083  eta: 0h5m  tot: 0h9m30s  (61.1%)\rEpoch: 5.7%  lr: 0.019379  loss: 0.007028  eta: 0h5m  tot: 0h9m30s  (61.1%)\rEpoch: 5.8%  lr: 0.019379  loss: 0.007049  eta: 0h5m  tot: 0h9m30s  (61.2%)\rEpoch: 5.9%  lr: 0.019359  loss: 0.007102  eta: 0h5m  tot: 0h9m30s  (61.2%)\rEpoch: 5.9%  lr: 0.019339  loss: 0.007163  eta: 0h5m  tot: 0h9m30s  (61.2%)\rEpoch: 6.0%  lr: 0.019319  loss: 0.007108  eta: 0h5m  tot: 0h9m31s  (61.2%)\rEpoch: 6.1%  lr: 0.019299  loss: 0.007165  eta: 0h5m  tot: 0h9m31s  (61.2%)\rEpoch: 6.2%  lr: 0.019289  loss: 0.007217  eta: 0h5m  tot: 0h9m31s  (61.2%)\rEpoch: 6.3%  lr: 0.019279  loss: 0.007263  eta: 0h5m  tot: 0h9m31s  (61.3%)\rEpoch: 6.4%  lr: 0.019269  loss: 0.007209  eta: 0h5m  tot: 0h9m31s  (61.3%)\rEpoch: 6.5%  lr: 0.019269  loss: 0.007169  eta: 0h5m  tot: 0h9m31s  (61.3%)\rEpoch: 6.6%  lr: 0.019259  loss: 0.007147  eta: 0h5m  tot: 0h9m32s  (61.3%)\rEpoch: 6.7%  lr: 0.019259  loss: 0.007100  eta: 0h5m  tot: 0h9m32s  (61.3%)\rEpoch: 6.8%  lr: 0.019249  loss: 0.007068  eta: 0h5m  tot: 0h9m32s  (61.4%)\rEpoch: 6.8%  lr: 0.019249  loss: 0.007100  eta: 0h5m  tot: 0h9m32s  (61.4%)\rEpoch: 6.9%  lr: 0.019249  loss: 0.007115  eta: 0h5m  tot: 0h9m32s  (61.4%)\rEpoch: 7.0%  lr: 0.019249  loss: 0.007123  eta: 0h5m  tot: 0h9m32s  (61.4%)\rEpoch: 7.1%  lr: 0.019239  loss: 0.007184  eta: 0h5m  tot: 0h9m33s  (61.4%)\rEpoch: 7.2%  lr: 0.019229  loss: 0.007131  eta: 0h5m  tot: 0h9m33s  (61.4%)\rEpoch: 7.3%  lr: 0.019219  loss: 0.007098  eta: 0h5m  tot: 0h9m33s  (61.5%)\rEpoch: 7.4%  lr: 0.019219  loss: 0.007107  eta: 0h5m  tot: 0h9m33s  (61.5%)\rEpoch: 7.5%  lr: 0.019219  loss: 0.007055  eta: 0h5m  tot: 0h9m33s  (61.5%)\rEpoch: 7.6%  lr: 0.019209  loss: 0.007072  eta: 0h5m  tot: 0h9m33s  (61.5%)\rEpoch: 7.7%  lr: 0.019209  loss: 0.007072  eta: 0h5m  tot: 0h9m33s  (61.5%)\rEpoch: 7.7%  lr: 0.019209  loss: 0.007121  eta: 0h5m  tot: 0h9m34s  (61.5%)\rEpoch: 7.8%  lr: 0.019209  loss: 0.007105  eta: 0h5m  tot: 0h9m34s  (61.6%)\rEpoch: 7.9%  lr: 0.019179  loss: 0.007113  eta: 0h5m  tot: 0h9m34s  (61.6%)\rEpoch: 8.0%  lr: 0.019149  loss: 0.007285  eta: 0h5m  tot: 0h9m34s  (61.6%)\rEpoch: 8.1%  lr: 0.019149  loss: 0.007260  eta: 0h5m  tot: 0h9m34s  (61.6%)\rEpoch: 8.2%  lr: 0.019139  loss: 0.007240  eta: 0h5m  tot: 0h9m34s  (61.6%)\rEpoch: 8.3%  lr: 0.019119  loss: 0.007207  eta: 0h5m  tot: 0h9m35s  (61.7%)\rEpoch: 8.4%  lr: 0.019099  loss: 0.007174  eta: 0h5m  tot: 0h9m35s  (61.7%)\rEpoch: 8.5%  lr: 0.019099  loss: 0.007269  eta: 0h5m  tot: 0h9m35s  (61.7%)\rEpoch: 8.6%  lr: 0.019099  loss: 0.007268  eta: 0h5m  tot: 0h9m35s  (61.7%)\rEpoch: 8.6%  lr: 0.019079  loss: 0.007211  eta: 0h5m  tot: 0h9m35s  (61.7%)\rEpoch: 8.7%  lr: 0.019079  loss: 0.007201  eta: 0h5m  tot: 0h9m35s  (61.7%)\rEpoch: 8.8%  lr: 0.019059  loss: 0.007257  eta: 0h5m  tot: 0h9m36s  (61.8%)\rEpoch: 8.9%  lr: 0.019059  loss: 0.007282  eta: 0h5m  tot: 0h9m36s  (61.8%)\rEpoch: 9.0%  lr: 0.019049  loss: 0.007312  eta: 0h5m  tot: 0h9m36s  (61.8%)\rEpoch: 9.1%  lr: 0.019049  loss: 0.007350  eta: 0h5m  tot: 0h9m36s  (61.8%)\rEpoch: 9.2%  lr: 0.019039  loss: 0.007474  eta: 0h5m  tot: 0h9m36s  (61.8%)\rEpoch: 9.3%  lr: 0.019019  loss: 0.007447  eta: 0h5m  tot: 0h9m36s  (61.9%)\rEpoch: 9.4%  lr: 0.018999  loss: 0.007493  eta: 0h5m  tot: 0h9m37s  (61.9%)\rEpoch: 9.5%  lr: 0.018999  loss: 0.007519  eta: 0h5m  tot: 0h9m37s  (61.9%)\rEpoch: 9.5%  lr: 0.018989  loss: 0.007477  eta: 0h5m  tot: 0h9m37s  (61.9%)\rEpoch: 9.6%  lr: 0.018949  loss: 0.007541  eta: 0h5m  tot: 0h9m37s  (61.9%)\rEpoch: 9.7%  lr: 0.018949  loss: 0.007611  eta: 0h5m  tot: 0h9m37s  (61.9%)\rEpoch: 9.8%  lr: 0.018949  loss: 0.007595  eta: 0h5m  tot: 0h9m37s  (62.0%)\rEpoch: 9.9%  lr: 0.018949  loss: 0.007573  eta: 0h5m  tot: 0h9m37s  (62.0%)\rEpoch: 10.0%  lr: 0.018939  loss: 0.007545  eta: 0h5m  tot: 0h9m38s  (62.0%)\rEpoch: 10.1%  lr: 0.018939  loss: 0.007541  eta: 0h5m  tot: 0h9m38s  (62.0%)\rEpoch: 10.2%  lr: 0.018919  loss: 0.007494  eta: 0h5m  tot: 0h9m38s  (62.0%)\rEpoch: 10.3%  lr: 0.018919  loss: 0.007482  eta: 0h5m  tot: 0h9m38s  (62.1%)\rEpoch: 10.4%  lr: 0.018899  loss: 0.007499  eta: 0h5m  tot: 0h9m38s  (62.1%)\rEpoch: 10.4%  lr: 0.018889  loss: 0.007498  eta: 0h5m  tot: 0h9m38s  (62.1%)\rEpoch: 10.5%  lr: 0.018869  loss: 0.007443  eta: 0h5m  tot: 0h9m39s  (62.1%)\rEpoch: 10.6%  lr: 0.018869  loss: 0.007406  eta: 0h5m  tot: 0h9m39s  (62.1%)\rEpoch: 10.7%  lr: 0.018859  loss: 0.007363  eta: 0h5m  tot: 0h9m39s  (62.1%)\rEpoch: 10.8%  lr: 0.018859  loss: 0.007321  eta: 0h5m  tot: 0h9m39s  (62.2%)\rEpoch: 10.9%  lr: 0.018839  loss: 0.007313  eta: 0h5m  tot: 0h9m39s  (62.2%)\rEpoch: 11.0%  lr: 0.018829  loss: 0.007364  eta: 0h5m  tot: 0h9m39s  (62.2%)\rEpoch: 11.1%  lr: 0.018819  loss: 0.007394  eta: 0h5m  tot: 0h9m40s  (62.2%)\rEpoch: 11.2%  lr: 0.018809  loss: 0.007452  eta: 0h5m  tot: 0h9m40s  (62.2%)\rEpoch: 11.3%  lr: 0.018799  loss: 0.007468  eta: 0h5m  tot: 0h9m40s  (62.3%)\rEpoch: 11.3%  lr: 0.018789  loss: 0.007454  eta: 0h5m  tot: 0h9m40s  (62.3%)\rEpoch: 11.4%  lr: 0.018789  loss: 0.007483  eta: 0h5m  tot: 0h9m40s  (62.3%)\rEpoch: 11.5%  lr: 0.018769  loss: 0.007447  eta: 0h5m  tot: 0h9m40s  (62.3%)\rEpoch: 11.6%  lr: 0.018759  loss: 0.007446  eta: 0h5m  tot: 0h9m40s  (62.3%)\rEpoch: 11.7%  lr: 0.018749  loss: 0.007396  eta: 0h5m  tot: 0h9m41s  (62.3%)\rEpoch: 11.8%  lr: 0.018729  loss: 0.007405  eta: 0h5m  tot: 0h9m41s  (62.4%)\rEpoch: 11.9%  lr: 0.018709  loss: 0.007401  eta: 0h5m  tot: 0h9m41s  (62.4%)\rEpoch: 12.0%  lr: 0.018709  loss: 0.007402  eta: 0h5m  tot: 0h9m41s  (62.4%)\rEpoch: 12.1%  lr: 0.018689  loss: 0.007462  eta: 0h5m  tot: 0h9m41s  (62.4%)\rEpoch: 12.2%  lr: 0.018689  loss: 0.007440  eta: 0h5m  tot: 0h9m41s  (62.4%)\rEpoch: 12.2%  lr: 0.018679  loss: 0.007438  eta: 0h5m  tot: 0h9m42s  (62.4%)\rEpoch: 12.3%  lr: 0.018679  loss: 0.007421  eta: 0h5m  tot: 0h9m42s  (62.5%)\rEpoch: 12.4%  lr: 0.018659  loss: 0.007378  eta: 0h5m  tot: 0h9m42s  (62.5%)\rEpoch: 12.5%  lr: 0.018659  loss: 0.007391  eta: 0h5m  tot: 0h9m42s  (62.5%)\rEpoch: 12.6%  lr: 0.018659  loss: 0.007442  eta: 0h5m  tot: 0h9m42s  (62.5%)\rEpoch: 12.7%  lr: 0.018659  loss: 0.007408  eta: 0h5m  tot: 0h9m42s  (62.5%)\rEpoch: 12.8%  lr: 0.018649  loss: 0.007408  eta: 0h5m  tot: 0h9m43s  (62.6%)\rEpoch: 12.9%  lr: 0.018649  loss: 0.007382  eta: 0h5m  tot: 0h9m43s  (62.6%)\rEpoch: 13.0%  lr: 0.018629  loss: 0.007443  eta: 0h5m  tot: 0h9m43s  (62.6%)\rEpoch: 13.1%  lr: 0.018629  loss: 0.007482  eta: 0h5m  tot: 0h9m43s  (62.6%)\rEpoch: 13.1%  lr: 0.018619  loss: 0.007502  eta: 0h5m  tot: 0h9m43s  (62.6%)\rEpoch: 13.2%  lr: 0.018609  loss: 0.007480  eta: 0h5m  tot: 0h9m43s  (62.6%)\rEpoch: 13.3%  lr: 0.018599  loss: 0.007482  eta: 0h5m  tot: 0h9m43s  (62.7%)\rEpoch: 13.4%  lr: 0.018569  loss: 0.007475  eta: 0h5m  tot: 0h9m44s  (62.7%)\rEpoch: 13.5%  lr: 0.018559  loss: 0.007449  eta: 0h5m  tot: 0h9m44s  (62.7%)\rEpoch: 13.6%  lr: 0.018539  loss: 0.007469  eta: 0h5m  tot: 0h9m44s  (62.7%)\rEpoch: 13.7%  lr: 0.018529  loss: 0.007442  eta: 0h5m  tot: 0h9m44s  (62.7%)\rEpoch: 13.8%  lr: 0.018529  loss: 0.007419  eta: 0h5m  tot: 0h9m44s  (62.8%)\rEpoch: 13.9%  lr: 0.018509  loss: 0.007412  eta: 0h5m  tot: 0h9m44s  (62.8%)\rEpoch: 14.0%  lr: 0.018509  loss: 0.007433  eta: 0h5m  tot: 0h9m45s  (62.8%)\rEpoch: 14.0%  lr: 0.018509  loss: 0.007457  eta: 0h5m  tot: 0h9m45s  (62.8%)\rEpoch: 14.1%  lr: 0.018499  loss: 0.007499  eta: 0h5m  tot: 0h9m45s  (62.8%)\rEpoch: 14.2%  lr: 0.018479  loss: 0.007470  eta: 0h5m  tot: 0h9m45s  (62.8%)\rEpoch: 14.3%  lr: 0.018468  loss: 0.007477  eta: 0h5m  tot: 0h9m45s  (62.9%)\rEpoch: 14.4%  lr: 0.018458  loss: 0.007470  eta: 0h5m  tot: 0h9m45s  (62.9%)\rEpoch: 14.5%  lr: 0.018458  loss: 0.007499  eta: 0h5m  tot: 0h9m46s  (62.9%)\rEpoch: 14.6%  lr: 0.018438  loss: 0.007490  eta: 0h5m  tot: 0h9m46s  (62.9%)\rEpoch: 14.7%  lr: 0.018418  loss: 0.007498  eta: 0h5m  tot: 0h9m46s  (62.9%)\rEpoch: 14.8%  lr: 0.018398  loss: 0.007525  eta: 0h5m  tot: 0h9m46s  (63.0%)\rEpoch: 14.9%  lr: 0.018358  loss: 0.007509  eta: 0h5m  tot: 0h9m46s  (63.0%)\rEpoch: 14.9%  lr: 0.018358  loss: 0.007513  eta: 0h5m  tot: 0h9m46s  (63.0%)\rEpoch: 15.0%  lr: 0.018358  loss: 0.007496  eta: 0h5m  tot: 0h9m47s  (63.0%)\rEpoch: 15.1%  lr: 0.018348  loss: 0.007505  eta: 0h5m  tot: 0h9m47s  (63.0%)\rEpoch: 15.2%  lr: 0.018348  loss: 0.007497  eta: 0h5m  tot: 0h9m47s  (63.0%)\rEpoch: 15.3%  lr: 0.018328  loss: 0.007498  eta: 0h5m  tot: 0h9m47s  (63.1%)\rEpoch: 15.4%  lr: 0.018328  loss: 0.007521  eta: 0h5m  tot: 0h9m47s  (63.1%)\rEpoch: 15.5%  lr: 0.018328  loss: 0.007540  eta: 0h5m  tot: 0h9m47s  (63.1%)\rEpoch: 15.6%  lr: 0.018318  loss: 0.007549  eta: 0h5m  tot: 0h9m47s  (63.1%)\rEpoch: 15.7%  lr: 0.018318  loss: 0.007566  eta: 0h5m  tot: 0h9m48s  (63.1%)\rEpoch: 15.8%  lr: 0.018318  loss: 0.007550  eta: 0h5m  tot: 0h9m48s  (63.2%)\rEpoch: 15.8%  lr: 0.018308  loss: 0.007570  eta: 0h5m  tot: 0h9m48s  (63.2%)\rEpoch: 15.9%  lr: 0.018298  loss: 0.007563  eta: 0h5m  tot: 0h9m48s  (63.2%)\rEpoch: 16.0%  lr: 0.018298  loss: 0.007550  eta: 0h5m  tot: 0h9m48s  (63.2%)\rEpoch: 16.1%  lr: 0.018288  loss: 0.007558  eta: 0h5m  tot: 0h9m49s  (63.2%)\rEpoch: 16.2%  lr: 0.018288  loss: 0.007540  eta: 0h5m  tot: 0h9m49s  (63.2%)\rEpoch: 16.3%  lr: 0.018278  loss: 0.007542  eta: 0h5m  tot: 0h9m49s  (63.3%)\rEpoch: 16.4%  lr: 0.018268  loss: 0.007527  eta: 0h5m  tot: 0h9m49s  (63.3%)\rEpoch: 16.5%  lr: 0.018248  loss: 0.007542  eta: 0h5m  tot: 0h9m49s  (63.3%)\rEpoch: 16.6%  lr: 0.018238  loss: 0.007522  eta: 0h5m  tot: 0h9m49s  (63.3%)\rEpoch: 16.7%  lr: 0.018208  loss: 0.007493  eta: 0h5m  tot: 0h9m50s  (63.3%)\rEpoch: 16.7%  lr: 0.018198  loss: 0.007483  eta: 0h5m  tot: 0h9m50s  (63.3%)\rEpoch: 16.8%  lr: 0.018198  loss: 0.007503  eta: 0h5m  tot: 0h9m50s  (63.4%)\rEpoch: 16.9%  lr: 0.018188  loss: 0.007523  eta: 0h5m  tot: 0h9m50s  (63.4%)\rEpoch: 17.0%  lr: 0.018178  loss: 0.007524  eta: 0h5m  tot: 0h9m50s  (63.4%)\rEpoch: 17.1%  lr: 0.018168  loss: 0.007521  eta: 0h5m  tot: 0h9m50s  (63.4%)\rEpoch: 17.2%  lr: 0.018148  loss: 0.007501  eta: 0h5m  tot: 0h9m50s  (63.4%)\rEpoch: 17.3%  lr: 0.018128  loss: 0.007493  eta: 0h5m  tot: 0h9m51s  (63.5%)\rEpoch: 17.4%  lr: 0.018118  loss: 0.007497  eta: 0h5m  tot: 0h9m51s  (63.5%)\rEpoch: 17.5%  lr: 0.018108  loss: 0.007483  eta: 0h5m  tot: 0h9m51s  (63.5%)\rEpoch: 17.6%  lr: 0.018108  loss: 0.007510  eta: 0h5m  tot: 0h9m51s  (63.5%)\rEpoch: 17.6%  lr: 0.018078  loss: 0.007503  eta: 0h5m  tot: 0h9m51s  (63.5%)\rEpoch: 17.7%  lr: 0.018068  loss: 0.007505  eta: 0h5m  tot: 0h9m51s  (63.5%)\rEpoch: 17.8%  lr: 0.018068  loss: 0.007472  eta: 0h5m  tot: 0h9m52s  (63.6%)\rEpoch: 17.9%  lr: 0.018058  loss: 0.007475  eta: 0h5m  tot: 0h9m52s  (63.6%)\rEpoch: 18.0%  lr: 0.018038  loss: 0.007471  eta: 0h5m  tot: 0h9m52s  (63.6%)\rEpoch: 18.1%  lr: 0.018038  loss: 0.007456  eta: 0h5m  tot: 0h9m52s  (63.6%)\rEpoch: 18.2%  lr: 0.018028  loss: 0.007435  eta: 0h5m  tot: 0h9m52s  (63.6%)\rEpoch: 18.3%  lr: 0.018018  loss: 0.007434  eta: 0h5m  tot: 0h9m52s  (63.7%)\rEpoch: 18.4%  lr: 0.018008  loss: 0.007431  eta: 0h5m  tot: 0h9m53s  (63.7%)\rEpoch: 18.5%  lr: 0.018008  loss: 0.007449  eta: 0h5m  tot: 0h9m53s  (63.7%)\rEpoch: 18.5%  lr: 0.017998  loss: 0.007456  eta: 0h5m  tot: 0h9m53s  (63.7%)\rEpoch: 18.6%  lr: 0.017978  loss: 0.007488  eta: 0h5m  tot: 0h9m53s  (63.7%)\rEpoch: 18.7%  lr: 0.017978  loss: 0.007490  eta: 0h5m  tot: 0h9m53s  (63.7%)\rEpoch: 18.8%  lr: 0.017978  loss: 0.007502  eta: 0h5m  tot: 0h9m53s  (63.8%)\rEpoch: 18.9%  lr: 0.017968  loss: 0.007504  eta: 0h5m  tot: 0h9m54s  (63.8%)\rEpoch: 19.0%  lr: 0.017968  loss: 0.007517  eta: 0h5m  tot: 0h9m54s  (63.8%)\rEpoch: 19.1%  lr: 0.017958  loss: 0.007495  eta: 0h5m  tot: 0h9m54s  (63.8%)\rEpoch: 19.2%  lr: 0.017958  loss: 0.007508  eta: 0h5m  tot: 0h9m54s  (63.8%)\rEpoch: 19.3%  lr: 0.017958  loss: 0.007523  eta: 0h5m  tot: 0h9m54s  (63.9%)\rEpoch: 19.4%  lr: 0.017948  loss: 0.007516  eta: 0h5m  tot: 0h9m54s  (63.9%)\rEpoch: 19.4%  lr: 0.017938  loss: 0.007497  eta: 0h5m  tot: 0h9m54s  (63.9%)\rEpoch: 19.5%  lr: 0.017938  loss: 0.007482  eta: 0h5m  tot: 0h9m55s  (63.9%)\rEpoch: 19.6%  lr: 0.017938  loss: 0.007496  eta: 0h5m  tot: 0h9m55s  (63.9%)\rEpoch: 19.7%  lr: 0.017928  loss: 0.007508  eta: 0h5m  tot: 0h9m55s  (63.9%)\rEpoch: 19.8%  lr: 0.017908  loss: 0.007546  eta: 0h5m  tot: 0h9m55s  (64.0%)\rEpoch: 19.9%  lr: 0.017898  loss: 0.007521  eta: 0h5m  tot: 0h9m55s  (64.0%)\rEpoch: 20.0%  lr: 0.017898  loss: 0.007510  eta: 0h5m  tot: 0h9m55s  (64.0%)\rEpoch: 20.1%  lr: 0.017888  loss: 0.007495  eta: 0h5m  tot: 0h9m56s  (64.0%)\rEpoch: 20.2%  lr: 0.017888  loss: 0.007520  eta: 0h5m  tot: 0h9m56s  (64.0%)\rEpoch: 20.3%  lr: 0.017888  loss: 0.007512  eta: 0h5m  tot: 0h9m56s  (64.1%)\rEpoch: 20.3%  lr: 0.017868  loss: 0.007552  eta: 0h5m  tot: 0h9m56s  (64.1%)\rEpoch: 20.4%  lr: 0.017858  loss: 0.007589  eta: 0h5m  tot: 0h9m56s  (64.1%)\rEpoch: 20.5%  lr: 0.017858  loss: 0.007582  eta: 0h5m  tot: 0h9m56s  (64.1%)\rEpoch: 20.6%  lr: 0.017858  loss: 0.007605  eta: 0h5m  tot: 0h9m57s  (64.1%)\rEpoch: 20.7%  lr: 0.017858  loss: 0.007600  eta: 0h5m  tot: 0h9m57s  (64.1%)\rEpoch: 20.8%  lr: 0.017848  loss: 0.007603  eta: 0h5m  tot: 0h9m57s  (64.2%)\rEpoch: 20.9%  lr: 0.017848  loss: 0.007602  eta: 0h5m  tot: 0h9m57s  (64.2%)\rEpoch: 21.0%  lr: 0.017838  loss: 0.007604  eta: 0h5m  tot: 0h9m57s  (64.2%)\rEpoch: 21.1%  lr: 0.017828  loss: 0.007576  eta: 0h5m  tot: 0h9m57s  (64.2%)\rEpoch: 21.2%  lr: 0.017808  loss: 0.007648  eta: 0h5m  tot: 0h9m57s  (64.2%)\rEpoch: 21.2%  lr: 0.017798  loss: 0.007652  eta: 0h5m  tot: 0h9m58s  (64.2%)\rEpoch: 21.3%  lr: 0.017798  loss: 0.007644  eta: 0h5m  tot: 0h9m58s  (64.3%)\rEpoch: 21.4%  lr: 0.017798  loss: 0.007627  eta: 0h5m  tot: 0h9m58s  (64.3%)\rEpoch: 21.5%  lr: 0.017798  loss: 0.007621  eta: 0h5m  tot: 0h9m58s  (64.3%)\rEpoch: 21.6%  lr: 0.017788  loss: 0.007601  eta: 0h5m  tot: 0h9m58s  (64.3%)\rEpoch: 21.7%  lr: 0.017768  loss: 0.007607  eta: 0h5m  tot: 0h9m58s  (64.3%)\rEpoch: 21.8%  lr: 0.017768  loss: 0.007605  eta: 0h5m  tot: 0h9m59s  (64.4%)\rEpoch: 21.9%  lr: 0.017738  loss: 0.007601  eta: 0h5m  tot: 0h9m59s  (64.4%)\rEpoch: 22.0%  lr: 0.017738  loss: 0.007621  eta: 0h5m  tot: 0h9m59s  (64.4%)\rEpoch: 22.1%  lr: 0.017718  loss: 0.007606  eta: 0h5m  tot: 0h9m59s  (64.4%)\rEpoch: 22.1%  lr: 0.017718  loss: 0.007592  eta: 0h5m  tot: 0h9m59s  (64.4%)\rEpoch: 22.2%  lr: 0.017708  loss: 0.007587  eta: 0h5m  tot: 0h9m59s  (64.4%)\rEpoch: 22.3%  lr: 0.017698  loss: 0.007578  eta: 0h5m  tot: 0h10m0s  (64.5%)\rEpoch: 22.4%  lr: 0.017698  loss: 0.007574  eta: 0h5m  tot: 0h10m0s  (64.5%)\rEpoch: 22.5%  lr: 0.017688  loss: 0.007559  eta: 0h5m  tot: 0h10m0s  (64.5%)\rEpoch: 22.6%  lr: 0.017668  loss: 0.007569  eta: 0h5m  tot: 0h10m0s  (64.5%)\rEpoch: 22.7%  lr: 0.017658  loss: 0.007573  eta: 0h5m  tot: 0h10m0s  (64.5%)\rEpoch: 22.8%  lr: 0.017648  loss: 0.007580  eta: 0h5m  tot: 0h10m0s  (64.6%)\rEpoch: 22.9%  lr: 0.017638  loss: 0.007581  eta: 0h5m  tot: 0h10m0s  (64.6%)\rEpoch: 23.0%  lr: 0.017638  loss: 0.007582  eta: 0h5m  tot: 0h10m1s  (64.6%)\rEpoch: 23.0%  lr: 0.017628  loss: 0.007576  eta: 0h5m  tot: 0h10m1s  (64.6%)\rEpoch: 23.1%  lr: 0.017628  loss: 0.007572  eta: 0h5m  tot: 0h10m1s  (64.6%)\rEpoch: 23.2%  lr: 0.017598  loss: 0.007565  eta: 0h5m  tot: 0h10m1s  (64.6%)\rEpoch: 23.3%  lr: 0.017588  loss: 0.007572  eta: 0h5m  tot: 0h10m1s  (64.7%)\rEpoch: 23.4%  lr: 0.017588  loss: 0.007569  eta: 0h5m  tot: 0h10m1s  (64.7%)\rEpoch: 23.5%  lr: 0.017568  loss: 0.007546  eta: 0h5m  tot: 0h10m2s  (64.7%)\rEpoch: 23.6%  lr: 0.017568  loss: 0.007563  eta: 0h5m  tot: 0h10m2s  (64.7%)\rEpoch: 23.7%  lr: 0.017558  loss: 0.007563  eta: 0h5m  tot: 0h10m2s  (64.7%)\rEpoch: 23.8%  lr: 0.017548  loss: 0.007550  eta: 0h5m  tot: 0h10m2s  (64.8%)\rEpoch: 23.9%  lr: 0.017548  loss: 0.007543  eta: 0h5m  tot: 0h10m2s  (64.8%)\rEpoch: 23.9%  lr: 0.017538  loss: 0.007522  eta: 0h5m  tot: 0h10m2s  (64.8%)\rEpoch: 24.0%  lr: 0.017538  loss: 0.007515  eta: 0h5m  tot: 0h10m3s  (64.8%)\rEpoch: 24.1%  lr: 0.017528  loss: 0.007526  eta: 0h5m  tot: 0h10m3s  (64.8%)\rEpoch: 24.2%  lr: 0.017528  loss: 0.007511  eta: 0h5m  tot: 0h10m3s  (64.8%)\rEpoch: 24.3%  lr: 0.017498  loss: 0.007510  eta: 0h5m  tot: 0h10m3s  (64.9%)\rEpoch: 24.4%  lr: 0.017498  loss: 0.007560  eta: 0h5m  tot: 0h10m3s  (64.9%)\rEpoch: 24.5%  lr: 0.017498  loss: 0.007569  eta: 0h5m  tot: 0h10m3s  (64.9%)\rEpoch: 24.6%  lr: 0.017488  loss: 0.007592  eta: 0h5m  tot: 0h10m3s  (64.9%)\rEpoch: 24.7%  lr: 0.017457  loss: 0.007599  eta: 0h5m  tot: 0h10m4s  (64.9%)\rEpoch: 24.8%  lr: 0.017447  loss: 0.007597  eta: 0h5m  tot: 0h10m4s  (65.0%)\rEpoch: 24.8%  lr: 0.017447  loss: 0.007598  eta: 0h5m  tot: 0h10m4s  (65.0%)\rEpoch: 24.9%  lr: 0.017437  loss: 0.007578  eta: 0h5m  tot: 0h10m4s  (65.0%)\rEpoch: 25.0%  lr: 0.017437  loss: 0.007576  eta: 0h5m  tot: 0h10m4s  (65.0%)\rEpoch: 25.1%  lr: 0.017437  loss: 0.007554  eta: 0h5m  tot: 0h10m4s  (65.0%)\rEpoch: 25.2%  lr: 0.017437  loss: 0.007547  eta: 0h5m  tot: 0h10m5s  (65.0%)\rEpoch: 25.3%  lr: 0.017437  loss: 0.007525  eta: 0h5m  tot: 0h10m5s  (65.1%)\rEpoch: 25.4%  lr: 0.017427  loss: 0.007518  eta: 0h5m  tot: 0h10m5s  (65.1%)\rEpoch: 25.5%  lr: 0.017417  loss: 0.007507  eta: 0h5m  tot: 0h10m5s  (65.1%)\rEpoch: 25.6%  lr: 0.017407  loss: 0.007517  eta: 0h5m  tot: 0h10m5s  (65.1%)\rEpoch: 25.7%  lr: 0.017407  loss: 0.007538  eta: 0h5m  tot: 0h10m5s  (65.1%)\rEpoch: 25.7%  lr: 0.017397  loss: 0.007535  eta: 0h5m  tot: 0h10m5s  (65.1%)\rEpoch: 25.8%  lr: 0.017397  loss: 0.007537  eta: 0h5m  tot: 0h10m6s  (65.2%)\rEpoch: 25.9%  lr: 0.017397  loss: 0.007544  eta: 0h5m  tot: 0h10m6s  (65.2%)\rEpoch: 26.0%  lr: 0.017397  loss: 0.007541  eta: 0h5m  tot: 0h10m6s  (65.2%)\rEpoch: 26.1%  lr: 0.017397  loss: 0.007542  eta: 0h5m  tot: 0h10m6s  (65.2%)\rEpoch: 26.2%  lr: 0.017377  loss: 0.007546  eta: 0h5m  tot: 0h10m6s  (65.2%)\rEpoch: 26.3%  lr: 0.017367  loss: 0.007546  eta: 0h5m  tot: 0h10m6s  (65.3%)\rEpoch: 26.4%  lr: 0.017337  loss: 0.007531  eta: 0h5m  tot: 0h10m7s  (65.3%)\rEpoch: 26.5%  lr: 0.017337  loss: 0.007549  eta: 0h5m  tot: 0h10m7s  (65.3%)\rEpoch: 26.6%  lr: 0.017337  loss: 0.007535  eta: 0h5m  tot: 0h10m7s  (65.3%)\rEpoch: 26.6%  lr: 0.017327  loss: 0.007551  eta: 0h5m  tot: 0h10m7s  (65.3%)\rEpoch: 26.7%  lr: 0.017317  loss: 0.007533  eta: 0h5m  tot: 0h10m7s  (65.3%)\rEpoch: 26.8%  lr: 0.017297  loss: 0.007534  eta: 0h5m  tot: 0h10m7s  (65.4%)\rEpoch: 26.9%  lr: 0.017287  loss: 0.007523  eta: 0h5m  tot: 0h10m8s  (65.4%)\rEpoch: 27.0%  lr: 0.017277  loss: 0.007522  eta: 0h5m  tot: 0h10m8s  (65.4%)\rEpoch: 27.1%  lr: 0.017277  loss: 0.007518  eta: 0h5m  tot: 0h10m8s  (65.4%)\rEpoch: 27.2%  lr: 0.017277  loss: 0.007500  eta: 0h5m  tot: 0h10m8s  (65.4%)\rEpoch: 27.3%  lr: 0.017277  loss: 0.007510  eta: 0h5m  tot: 0h10m8s  (65.5%)\rEpoch: 27.4%  lr: 0.017267  loss: 0.007502  eta: 0h5m  tot: 0h10m8s  (65.5%)\rEpoch: 27.5%  lr: 0.017247  loss: 0.007520  eta: 0h5m  tot: 0h10m8s  (65.5%)\rEpoch: 27.5%  lr: 0.017247  loss: 0.007527  eta: 0h5m  tot: 0h10m9s  (65.5%)\rEpoch: 27.6%  lr: 0.017237  loss: 0.007539  eta: 0h5m  tot: 0h10m9s  (65.5%)\rEpoch: 27.7%  lr: 0.017227  loss: 0.007539  eta: 0h5m  tot: 0h10m9s  (65.5%)\rEpoch: 27.8%  lr: 0.017207  loss: 0.007525  eta: 0h5m  tot: 0h10m9s  (65.6%)\rEpoch: 27.9%  lr: 0.017207  loss: 0.007515  eta: 0h5m  tot: 0h10m9s  (65.6%)\rEpoch: 28.0%  lr: 0.017207  loss: 0.007512  eta: 0h5m  tot: 0h10m9s  (65.6%)\rEpoch: 28.1%  lr: 0.017187  loss: 0.007498  eta: 0h5m  tot: 0h10m10s  (65.6%)\rEpoch: 28.2%  lr: 0.017177  loss: 0.007508  eta: 0h5m  tot: 0h10m10s  (65.6%)\rEpoch: 28.3%  lr: 0.017167  loss: 0.007488  eta: 0h5m  tot: 0h10m10s  (65.7%)\rEpoch: 28.4%  lr: 0.017157  loss: 0.007500  eta: 0h5m  tot: 0h10m10s  (65.7%)\rEpoch: 28.4%  lr: 0.017157  loss: 0.007488  eta: 0h5m  tot: 0h10m10s  (65.7%)\rEpoch: 28.5%  lr: 0.017157  loss: 0.007478  eta: 0h5m  tot: 0h10m10s  (65.7%)\rEpoch: 28.6%  lr: 0.017157  loss: 0.007464  eta: 0h5m  tot: 0h10m11s  (65.7%)\rEpoch: 28.7%  lr: 0.017157  loss: 0.007465  eta: 0h5m  tot: 0h10m11s  (65.7%)\rEpoch: 28.8%  lr: 0.017157  loss: 0.007459  eta: 0h5m  tot: 0h10m11s  (65.8%)\rEpoch: 28.9%  lr: 0.017127  loss: 0.007444  eta: 0h5m  tot: 0h10m11s  (65.8%)\rEpoch: 29.0%  lr: 0.017127  loss: 0.007431  eta: 0h5m  tot: 0h10m11s  (65.8%)\rEpoch: 29.1%  lr: 0.017117  loss: 0.007429  eta: 0h5m  tot: 0h10m11s  (65.8%)\rEpoch: 29.2%  lr: 0.017107  loss: 0.007425  eta: 0h5m  tot: 0h10m12s  (65.8%)\rEpoch: 29.3%  lr: 0.017107  loss: 0.007426  eta: 0h5m  tot: 0h10m12s  (65.9%)\rEpoch: 29.3%  lr: 0.017107  loss: 0.007421  eta: 0h5m  tot: 0h10m12s  (65.9%)\rEpoch: 29.4%  lr: 0.017107  loss: 0.007419  eta: 0h5m  tot: 0h10m12s  (65.9%)\rEpoch: 29.5%  lr: 0.017097  loss: 0.007432  eta: 0h5m  tot: 0h10m12s  (65.9%)\rEpoch: 29.6%  lr: 0.017097  loss: 0.007447  eta: 0h5m  tot: 0h10m12s  (65.9%)\rEpoch: 29.7%  lr: 0.017097  loss: 0.007436  eta: 0h5m  tot: 0h10m12s  (65.9%)\rEpoch: 29.8%  lr: 0.017077  loss: 0.007431  eta: 0h5m  tot: 0h10m13s  (66.0%)\rEpoch: 29.9%  lr: 0.017077  loss: 0.007422  eta: 0h5m  tot: 0h10m13s  (66.0%)\rEpoch: 30.0%  lr: 0.017077  loss: 0.007412  eta: 0h4m  tot: 0h10m13s  (66.0%)\rEpoch: 30.1%  lr: 0.017057  loss: 0.007406  eta: 0h4m  tot: 0h10m13s  (66.0%)\rEpoch: 30.2%  lr: 0.017057  loss: 0.007393  eta: 0h4m  tot: 0h10m13s  (66.0%)\rEpoch: 30.2%  lr: 0.017057  loss: 0.007401  eta: 0h4m  tot: 0h10m13s  (66.0%)\rEpoch: 30.3%  lr: 0.017047  loss: 0.007399  eta: 0h4m  tot: 0h10m14s  (66.1%)\rEpoch: 30.4%  lr: 0.017047  loss: 0.007422  eta: 0h4m  tot: 0h10m14s  (66.1%)\rEpoch: 30.5%  lr: 0.017047  loss: 0.007412  eta: 0h4m  tot: 0h10m14s  (66.1%)\rEpoch: 30.6%  lr: 0.017037  loss: 0.007401  eta: 0h4m  tot: 0h10m14s  (66.1%)\rEpoch: 30.7%  lr: 0.017017  loss: 0.007395  eta: 0h4m  tot: 0h10m14s  (66.1%)\rEpoch: 30.8%  lr: 0.017017  loss: 0.007389  eta: 0h4m  tot: 0h10m14s  (66.2%)\rEpoch: 30.9%  lr: 0.017017  loss: 0.007390  eta: 0h4m  tot: 0h10m14s  (66.2%)\rEpoch: 31.0%  lr: 0.017007  loss: 0.007394  eta: 0h4m  tot: 0h10m15s  (66.2%)\rEpoch: 31.1%  lr: 0.017007  loss: 0.007379  eta: 0h4m  tot: 0h10m15s  (66.2%)\rEpoch: 31.1%  lr: 0.016997  loss: 0.007407  eta: 0h4m  tot: 0h10m15s  (66.2%)\rEpoch: 31.2%  lr: 0.016967  loss: 0.007413  eta: 0h4m  tot: 0h10m15s  (66.2%)\rEpoch: 31.3%  lr: 0.016947  loss: 0.007418  eta: 0h4m  tot: 0h10m15s  (66.3%)\rEpoch: 31.4%  lr: 0.016927  loss: 0.007443  eta: 0h4m  tot: 0h10m15s  (66.3%)\rEpoch: 31.5%  lr: 0.016927  loss: 0.007429  eta: 0h4m  tot: 0h10m16s  (66.3%)\rEpoch: 31.6%  lr: 0.016927  loss: 0.007424  eta: 0h4m  tot: 0h10m16s  (66.3%)\rEpoch: 31.7%  lr: 0.016917  loss: 0.007426  eta: 0h4m  tot: 0h10m16s  (66.3%)\rEpoch: 31.8%  lr: 0.016907  loss: 0.007455  eta: 0h4m  tot: 0h10m16s  (66.4%)\rEpoch: 31.9%  lr: 0.016897  loss: 0.007446  eta: 0h4m  tot: 0h10m16s  (66.4%)\rEpoch: 32.0%  lr: 0.016887  loss: 0.007453  eta: 0h4m  tot: 0h10m16s  (66.4%)\rEpoch: 32.0%  lr: 0.016877  loss: 0.007461  eta: 0h4m  tot: 0h10m17s  (66.4%)\rEpoch: 32.1%  lr: 0.016857  loss: 0.007456  eta: 0h4m  tot: 0h10m17s  (66.4%)\rEpoch: 32.2%  lr: 0.016837  loss: 0.007476  eta: 0h4m  tot: 0h10m17s  (66.4%)\rEpoch: 32.3%  lr: 0.016837  loss: 0.007479  eta: 0h4m  tot: 0h10m17s  (66.5%)\rEpoch: 32.4%  lr: 0.016837  loss: 0.007480  eta: 0h4m  tot: 0h10m17s  (66.5%)\rEpoch: 32.5%  lr: 0.016827  loss: 0.007468  eta: 0h4m  tot: 0h10m17s  (66.5%)\rEpoch: 32.6%  lr: 0.016807  loss: 0.007459  eta: 0h4m  tot: 0h10m18s  (66.5%)\rEpoch: 32.7%  lr: 0.016807  loss: 0.007450  eta: 0h4m  tot: 0h10m18s  (66.5%)\rEpoch: 32.8%  lr: 0.016807  loss: 0.007458  eta: 0h4m  tot: 0h10m18s  (66.6%)\rEpoch: 32.9%  lr: 0.016807  loss: 0.007454  eta: 0h4m  tot: 0h10m18s  (66.6%)\rEpoch: 32.9%  lr: 0.016807  loss: 0.007460  eta: 0h4m  tot: 0h10m18s  (66.6%)\rEpoch: 33.0%  lr: 0.016797  loss: 0.007450  eta: 0h4m  tot: 0h10m18s  (66.6%)\rEpoch: 33.1%  lr: 0.016797  loss: 0.007453  eta: 0h4m  tot: 0h10m18s  (66.6%)\rEpoch: 33.2%  lr: 0.016777  loss: 0.007447  eta: 0h4m  tot: 0h10m19s  (66.6%)\rEpoch: 33.3%  lr: 0.016767  loss: 0.007458  eta: 0h4m  tot: 0h10m19s  (66.7%)\rEpoch: 33.4%  lr: 0.016767  loss: 0.007466  eta: 0h4m  tot: 0h10m19s  (66.7%)\rEpoch: 33.5%  lr: 0.016767  loss: 0.007455  eta: 0h4m  tot: 0h10m19s  (66.7%)\rEpoch: 33.6%  lr: 0.016767  loss: 0.007451  eta: 0h4m  tot: 0h10m19s  (66.7%)\rEpoch: 33.7%  lr: 0.016737  loss: 0.007451  eta: 0h4m  tot: 0h10m19s  (66.7%)\rEpoch: 33.8%  lr: 0.016717  loss: 0.007442  eta: 0h4m  tot: 0h10m20s  (66.8%)\rEpoch: 33.8%  lr: 0.016707  loss: 0.007426  eta: 0h4m  tot: 0h10m20s  (66.8%)\rEpoch: 33.9%  lr: 0.016697  loss: 0.007450  eta: 0h4m  tot: 0h10m20s  (66.8%)\rEpoch: 34.0%  lr: 0.016697  loss: 0.007441  eta: 0h4m  tot: 0h10m20s  (66.8%)\rEpoch: 34.1%  lr: 0.016697  loss: 0.007438  eta: 0h4m  tot: 0h10m20s  (66.8%)\rEpoch: 34.2%  lr: 0.016677  loss: 0.007442  eta: 0h4m  tot: 0h10m20s  (66.8%)\rEpoch: 34.3%  lr: 0.016667  loss: 0.007440  eta: 0h4m  tot: 0h10m20s  (66.9%)\rEpoch: 34.4%  lr: 0.016667  loss: 0.007441  eta: 0h4m  tot: 0h10m21s  (66.9%)\rEpoch: 34.5%  lr: 0.016667  loss: 0.007452  eta: 0h4m  tot: 0h10m21s  (66.9%)\rEpoch: 34.6%  lr: 0.016667  loss: 0.007472  eta: 0h4m  tot: 0h10m21s  (66.9%)\rEpoch: 34.7%  lr: 0.016657  loss: 0.007491  eta: 0h4m  tot: 0h10m21s  (66.9%)\rEpoch: 34.7%  lr: 0.016657  loss: 0.007495  eta: 0h4m  tot: 0h10m21s  (66.9%)\rEpoch: 34.8%  lr: 0.016647  loss: 0.007515  eta: 0h4m  tot: 0h10m21s  (67.0%)\rEpoch: 34.9%  lr: 0.016637  loss: 0.007510  eta: 0h4m  tot: 0h10m22s  (67.0%)\rEpoch: 35.0%  lr: 0.016617  loss: 0.007508  eta: 0h4m  tot: 0h10m22s  (67.0%)\rEpoch: 35.1%  lr: 0.016617  loss: 0.007514  eta: 0h4m  tot: 0h10m22s  (67.0%)\rEpoch: 35.2%  lr: 0.016597  loss: 0.007544  eta: 0h4m  tot: 0h10m22s  (67.0%)\rEpoch: 35.3%  lr: 0.016577  loss: 0.007568  eta: 0h4m  tot: 0h10m22s  (67.1%)\rEpoch: 35.4%  lr: 0.016537  loss: 0.007582  eta: 0h4m  tot: 0h10m22s  (67.1%)\rEpoch: 35.5%  lr: 0.016527  loss: 0.007576  eta: 0h4m  tot: 0h10m23s  (67.1%)\rEpoch: 35.6%  lr: 0.016527  loss: 0.007569  eta: 0h4m  tot: 0h10m23s  (67.1%)\rEpoch: 35.6%  lr: 0.016507  loss: 0.007563  eta: 0h4m  tot: 0h10m23s  (67.1%)\rEpoch: 35.7%  lr: 0.016507  loss: 0.007588  eta: 0h4m  tot: 0h10m23s  (67.1%)\rEpoch: 35.8%  lr: 0.016497  loss: 0.007583  eta: 0h4m  tot: 0h10m23s  (67.2%)\rEpoch: 35.9%  lr: 0.016497  loss: 0.007588  eta: 0h4m  tot: 0h10m23s  (67.2%)\rEpoch: 36.0%  lr: 0.016487  loss: 0.007586  eta: 0h4m  tot: 0h10m24s  (67.2%)\rEpoch: 36.1%  lr: 0.016457  loss: 0.007588  eta: 0h4m  tot: 0h10m24s  (67.2%)\rEpoch: 36.2%  lr: 0.016447  loss: 0.007588  eta: 0h4m  tot: 0h10m24s  (67.2%)\rEpoch: 36.3%  lr: 0.016447  loss: 0.007587  eta: 0h4m  tot: 0h10m24s  (67.3%)\rEpoch: 36.4%  lr: 0.016447  loss: 0.007587  eta: 0h4m  tot: 0h10m24s  (67.3%)\rEpoch: 36.5%  lr: 0.016447  loss: 0.007590  eta: 0h4m  tot: 0h10m24s  (67.3%)\rEpoch: 36.5%  lr: 0.016447  loss: 0.007582  eta: 0h4m  tot: 0h10m25s  (67.3%)\rEpoch: 36.6%  lr: 0.016426  loss: 0.007579  eta: 0h4m  tot: 0h10m25s  (67.3%)\rEpoch: 36.7%  lr: 0.016416  loss: 0.007579  eta: 0h4m  tot: 0h10m25s  (67.3%)\rEpoch: 36.8%  lr: 0.016416  loss: 0.007575  eta: 0h4m  tot: 0h10m25s  (67.4%)\rEpoch: 36.9%  lr: 0.016416  loss: 0.007572  eta: 0h4m  tot: 0h10m25s  (67.4%)\rEpoch: 37.0%  lr: 0.016386  loss: 0.007583  eta: 0h4m  tot: 0h10m25s  (67.4%)\rEpoch: 37.1%  lr: 0.016386  loss: 0.007575  eta: 0h4m  tot: 0h10m26s  (67.4%)\rEpoch: 37.2%  lr: 0.016386  loss: 0.007567  eta: 0h4m  tot: 0h10m26s  (67.4%)\rEpoch: 37.3%  lr: 0.016386  loss: 0.007561  eta: 0h4m  tot: 0h10m26s  (67.5%)\rEpoch: 37.4%  lr: 0.016386  loss: 0.007559  eta: 0h4m  tot: 0h10m26s  (67.5%)\rEpoch: 37.4%  lr: 0.016386  loss: 0.007551  eta: 0h4m  tot: 0h10m26s  (67.5%)\rEpoch: 37.5%  lr: 0.016366  loss: 0.007544  eta: 0h4m  tot: 0h10m26s  (67.5%)\rEpoch: 37.6%  lr: 0.016356  loss: 0.007534  eta: 0h4m  tot: 0h10m26s  (67.5%)\rEpoch: 37.7%  lr: 0.016336  loss: 0.007542  eta: 0h4m  tot: 0h10m27s  (67.5%)\rEpoch: 37.8%  lr: 0.016336  loss: 0.007537  eta: 0h4m  tot: 0h10m27s  (67.6%)\rEpoch: 37.9%  lr: 0.016326  loss: 0.007534  eta: 0h4m  tot: 0h10m27s  (67.6%)\rEpoch: 38.0%  lr: 0.016316  loss: 0.007524  eta: 0h4m  tot: 0h10m27s  (67.6%)\rEpoch: 38.1%  lr: 0.016306  loss: 0.007514  eta: 0h4m  tot: 0h10m27s  (67.6%)\rEpoch: 38.2%  lr: 0.016296  loss: 0.007513  eta: 0h4m  tot: 0h10m27s  (67.6%)\rEpoch: 38.3%  lr: 0.016286  loss: 0.007506  eta: 0h4m  tot: 0h10m28s  (67.7%)\rEpoch: 38.3%  lr: 0.016286  loss: 0.007503  eta: 0h4m  tot: 0h10m28s  (67.7%)\rEpoch: 38.4%  lr: 0.016276  loss: 0.007490  eta: 0h4m  tot: 0h10m28s  (67.7%)\rEpoch: 38.5%  lr: 0.016266  loss: 0.007485  eta: 0h4m  tot: 0h10m28s  (67.7%)\rEpoch: 38.6%  lr: 0.016266  loss: 0.007484  eta: 0h4m  tot: 0h10m28s  (67.7%)\rEpoch: 38.7%  lr: 0.016266  loss: 0.007491  eta: 0h4m  tot: 0h10m28s  (67.7%)\rEpoch: 38.8%  lr: 0.016246  loss: 0.007488  eta: 0h4m  tot: 0h10m29s  (67.8%)\rEpoch: 38.9%  lr: 0.016236  loss: 0.007487  eta: 0h4m  tot: 0h10m29s  (67.8%)\rEpoch: 39.0%  lr: 0.016236  loss: 0.007494  eta: 0h4m  tot: 0h10m29s  (67.8%)\rEpoch: 39.1%  lr: 0.016216  loss: 0.007506  eta: 0h4m  tot: 0h10m29s  (67.8%)\rEpoch: 39.2%  lr: 0.016216  loss: 0.007508  eta: 0h4m  tot: 0h10m29s  (67.8%)\rEpoch: 39.2%  lr: 0.016206  loss: 0.007507  eta: 0h4m  tot: 0h10m29s  (67.8%)\rEpoch: 39.3%  lr: 0.016206  loss: 0.007502  eta: 0h4m  tot: 0h10m29s  (67.9%)\rEpoch: 39.4%  lr: 0.016206  loss: 0.007493  eta: 0h4m  tot: 0h10m29s  (67.9%)\rEpoch: 39.5%  lr: 0.016206  loss: 0.007478  eta: 0h4m  tot: 0h10m30s  (67.9%)\rEpoch: 39.6%  lr: 0.016206  loss: 0.007481  eta: 0h4m  tot: 0h10m30s  (67.9%)\rEpoch: 39.7%  lr: 0.016196  loss: 0.007478  eta: 0h4m  tot: 0h10m30s  (67.9%)\rEpoch: 39.8%  lr: 0.016176  loss: 0.007478  eta: 0h4m  tot: 0h10m30s  (68.0%)\rEpoch: 39.9%  lr: 0.016146  loss: 0.007487  eta: 0h4m  tot: 0h10m30s  (68.0%)\rEpoch: 40.0%  lr: 0.016146  loss: 0.007478  eta: 0h4m  tot: 0h10m30s  (68.0%)\rEpoch: 40.1%  lr: 0.016136  loss: 0.007477  eta: 0h4m  tot: 0h10m31s  (68.0%)\rEpoch: 40.1%  lr: 0.016136  loss: 0.007483  eta: 0h4m  tot: 0h10m31s  (68.0%)\rEpoch: 40.2%  lr: 0.016126  loss: 0.007504  eta: 0h4m  tot: 0h10m31s  (68.0%)\rEpoch: 40.3%  lr: 0.016126  loss: 0.007499  eta: 0h4m  tot: 0h10m31s  (68.1%)\rEpoch: 40.4%  lr: 0.016116  loss: 0.007500  eta: 0h4m  tot: 0h10m31s  (68.1%)\rEpoch: 40.5%  lr: 0.016096  loss: 0.007488  eta: 0h4m  tot: 0h10m31s  (68.1%)\rEpoch: 40.6%  lr: 0.016086  loss: 0.007489  eta: 0h4m  tot: 0h10m31s  (68.1%)\rEpoch: 40.7%  lr: 0.016086  loss: 0.007514  eta: 0h4m  tot: 0h10m32s  (68.1%)\rEpoch: 40.8%  lr: 0.016076  loss: 0.007513  eta: 0h4m  tot: 0h10m32s  (68.2%)\rEpoch: 40.9%  lr: 0.016076  loss: 0.007503  eta: 0h4m  tot: 0h10m32s  (68.2%)\rEpoch: 41.0%  lr: 0.016076  loss: 0.007505  eta: 0h4m  tot: 0h10m32s  (68.2%)\rEpoch: 41.0%  lr: 0.016076  loss: 0.007495  eta: 0h4m  tot: 0h10m32s  (68.2%)\rEpoch: 41.1%  lr: 0.016076  loss: 0.007498  eta: 0h4m  tot: 0h10m32s  (68.2%)\rEpoch: 41.2%  lr: 0.016076  loss: 0.007509  eta: 0h4m  tot: 0h10m33s  (68.2%)\rEpoch: 41.3%  lr: 0.016076  loss: 0.007508  eta: 0h4m  tot: 0h10m33s  (68.3%)\rEpoch: 41.4%  lr: 0.016076  loss: 0.007499  eta: 0h4m  tot: 0h10m33s  (68.3%)\rEpoch: 41.5%  lr: 0.016056  loss: 0.007499  eta: 0h4m  tot: 0h10m33s  (68.3%)\rEpoch: 41.6%  lr: 0.016056  loss: 0.007493  eta: 0h4m  tot: 0h10m33s  (68.3%)\rEpoch: 41.7%  lr: 0.016056  loss: 0.007502  eta: 0h4m  tot: 0h10m33s  (68.3%)\rEpoch: 41.8%  lr: 0.016046  loss: 0.007496  eta: 0h4m  tot: 0h10m34s  (68.4%)\rEpoch: 41.9%  lr: 0.016036  loss: 0.007525  eta: 0h4m  tot: 0h10m34s  (68.4%)\rEpoch: 42.0%  lr: 0.016026  loss: 0.007522  eta: 0h4m  tot: 0h10m34s  (68.4%)\rEpoch: 42.0%  lr: 0.016006  loss: 0.007520  eta: 0h4m  tot: 0h10m34s  (68.4%)\rEpoch: 42.1%  lr: 0.015996  loss: 0.007523  eta: 0h4m  tot: 0h10m34s  (68.4%)\rEpoch: 42.2%  lr: 0.015996  loss: 0.007513  eta: 0h4m  tot: 0h10m34s  (68.4%)\rEpoch: 42.3%  lr: 0.015986  loss: 0.007510  eta: 0h4m  tot: 0h10m35s  (68.5%)\rEpoch: 42.4%  lr: 0.015986  loss: 0.007508  eta: 0h4m  tot: 0h10m35s  (68.5%)\rEpoch: 42.5%  lr: 0.015966  loss: 0.007498  eta: 0h4m  tot: 0h10m35s  (68.5%)\rEpoch: 42.6%  lr: 0.015956  loss: 0.007514  eta: 0h4m  tot: 0h10m35s  (68.5%)\rEpoch: 42.7%  lr: 0.015956  loss: 0.007511  eta: 0h4m  tot: 0h10m35s  (68.5%)\rEpoch: 42.8%  lr: 0.015956  loss: 0.007502  eta: 0h4m  tot: 0h10m35s  (68.6%)\rEpoch: 42.9%  lr: 0.015946  loss: 0.007514  eta: 0h4m  tot: 0h10m35s  (68.6%)\rEpoch: 42.9%  lr: 0.015946  loss: 0.007514  eta: 0h4m  tot: 0h10m36s  (68.6%)\rEpoch: 43.0%  lr: 0.015946  loss: 0.007510  eta: 0h4m  tot: 0h10m36s  (68.6%)\rEpoch: 43.1%  lr: 0.015916  loss: 0.007506  eta: 0h4m  tot: 0h10m36s  (68.6%)\rEpoch: 43.2%  lr: 0.015906  loss: 0.007520  eta: 0h4m  tot: 0h10m36s  (68.6%)\rEpoch: 43.3%  lr: 0.015886  loss: 0.007516  eta: 0h4m  tot: 0h10m36s  (68.7%)\rEpoch: 43.4%  lr: 0.015886  loss: 0.007516  eta: 0h4m  tot: 0h10m36s  (68.7%)\rEpoch: 43.5%  lr: 0.015886  loss: 0.007503  eta: 0h4m  tot: 0h10m37s  (68.7%)\rEpoch: 43.6%  lr: 0.015886  loss: 0.007490  eta: 0h4m  tot: 0h10m37s  (68.7%)\rEpoch: 43.7%  lr: 0.015856  loss: 0.007502  eta: 0h4m  tot: 0h10m37s  (68.7%)\rEpoch: 43.8%  lr: 0.015856  loss: 0.007496  eta: 0h4m  tot: 0h10m37s  (68.8%)\rEpoch: 43.8%  lr: 0.015856  loss: 0.007484  eta: 0h4m  tot: 0h10m37s  (68.8%)\rEpoch: 43.9%  lr: 0.015856  loss: 0.007485  eta: 0h4m  tot: 0h10m37s  (68.8%)\rEpoch: 44.0%  lr: 0.015846  loss: 0.007476  eta: 0h4m  tot: 0h10m37s  (68.8%)\rEpoch: 44.1%  lr: 0.015836  loss: 0.007480  eta: 0h4m  tot: 0h10m38s  (68.8%)\rEpoch: 44.2%  lr: 0.015836  loss: 0.007489  eta: 0h4m  tot: 0h10m38s  (68.8%)\rEpoch: 44.3%  lr: 0.015836  loss: 0.007487  eta: 0h4m  tot: 0h10m38s  (68.9%)\rEpoch: 44.4%  lr: 0.015826  loss: 0.007496  eta: 0h4m  tot: 0h10m38s  (68.9%)\rEpoch: 44.5%  lr: 0.015796  loss: 0.007507  eta: 0h4m  tot: 0h10m38s  (68.9%)\rEpoch: 44.6%  lr: 0.015796  loss: 0.007506  eta: 0h4m  tot: 0h10m38s  (68.9%)\rEpoch: 44.7%  lr: 0.015796  loss: 0.007535  eta: 0h4m  tot: 0h10m39s  (68.9%)\rEpoch: 44.7%  lr: 0.015796  loss: 0.007530  eta: 0h4m  tot: 0h10m39s  (68.9%)\rEpoch: 44.8%  lr: 0.015776  loss: 0.007528  eta: 0h4m  tot: 0h10m39s  (69.0%)\rEpoch: 44.9%  lr: 0.015776  loss: 0.007525  eta: 0h4m  tot: 0h10m39s  (69.0%)\rEpoch: 45.0%  lr: 0.015756  loss: 0.007537  eta: 0h4m  tot: 0h10m39s  (69.0%)\rEpoch: 45.1%  lr: 0.015756  loss: 0.007537  eta: 0h4m  tot: 0h10m39s  (69.0%)\rEpoch: 45.2%  lr: 0.015726  loss: 0.007528  eta: 0h4m  tot: 0h10m40s  (69.0%)\rEpoch: 45.3%  lr: 0.015696  loss: 0.007518  eta: 0h4m  tot: 0h10m40s  (69.1%)\rEpoch: 45.4%  lr: 0.015676  loss: 0.007513  eta: 0h4m  tot: 0h10m40s  (69.1%)\rEpoch: 45.5%  lr: 0.015666  loss: 0.007515  eta: 0h4m  tot: 0h10m40s  (69.1%)\rEpoch: 45.6%  lr: 0.015656  loss: 0.007523  eta: 0h4m  tot: 0h10m40s  (69.1%)\rEpoch: 45.6%  lr: 0.015646  loss: 0.007520  eta: 0h4m  tot: 0h10m40s  (69.1%)\rEpoch: 45.7%  lr: 0.015646  loss: 0.007516  eta: 0h4m  tot: 0h10m40s  (69.1%)\rEpoch: 45.8%  lr: 0.015626  loss: 0.007508  eta: 0h4m  tot: 0h10m41s  (69.2%)\rEpoch: 45.9%  lr: 0.015626  loss: 0.007501  eta: 0h4m  tot: 0h10m41s  (69.2%)\rEpoch: 46.0%  lr: 0.015606  loss: 0.007501  eta: 0h4m  tot: 0h10m41s  (69.2%)\rEpoch: 46.1%  lr: 0.015596  loss: 0.007500  eta: 0h4m  tot: 0h10m41s  (69.2%)\rEpoch: 46.2%  lr: 0.015596  loss: 0.007497  eta: 0h4m  tot: 0h10m41s  (69.2%)\rEpoch: 46.3%  lr: 0.015596  loss: 0.007498  eta: 0h4m  tot: 0h10m41s  (69.3%)\rEpoch: 46.4%  lr: 0.015586  loss: 0.007493  eta: 0h4m  tot: 0h10m42s  (69.3%)\rEpoch: 46.5%  lr: 0.015566  loss: 0.007488  eta: 0h4m  tot: 0h10m42s  (69.3%)\rEpoch: 46.5%  lr: 0.015556  loss: 0.007479  eta: 0h4m  tot: 0h10m42s  (69.3%)\rEpoch: 46.6%  lr: 0.015546  loss: 0.007474  eta: 0h4m  tot: 0h10m42s  (69.3%)\rEpoch: 46.7%  lr: 0.015546  loss: 0.007470  eta: 0h4m  tot: 0h10m42s  (69.3%)\rEpoch: 46.8%  lr: 0.015536  loss: 0.007465  eta: 0h4m  tot: 0h10m42s  (69.4%)\rEpoch: 46.9%  lr: 0.015516  loss: 0.007454  eta: 0h4m  tot: 0h10m43s  (69.4%)\rEpoch: 47.0%  lr: 0.015516  loss: 0.007449  eta: 0h4m  tot: 0h10m43s  (69.4%)\rEpoch: 47.1%  lr: 0.015506  loss: 0.007456  eta: 0h4m  tot: 0h10m43s  (69.4%)\rEpoch: 47.2%  lr: 0.015496  loss: 0.007468  eta: 0h4m  tot: 0h10m43s  (69.4%)\rEpoch: 47.3%  lr: 0.015476  loss: 0.007476  eta: 0h4m  tot: 0h10m43s  (69.5%)\rEpoch: 47.4%  lr: 0.015446  loss: 0.007480  eta: 0h4m  tot: 0h10m43s  (69.5%)\rEpoch: 47.4%  lr: 0.015425  loss: 0.007474  eta: 0h4m  tot: 0h10m43s  (69.5%)\rEpoch: 47.5%  lr: 0.015405  loss: 0.007468  eta: 0h4m  tot: 0h10m44s  (69.5%)\rEpoch: 47.6%  lr: 0.015395  loss: 0.007458  eta: 0h4m  tot: 0h10m44s  (69.5%)\rEpoch: 47.7%  lr: 0.015355  loss: 0.007459  eta: 0h4m  tot: 0h10m44s  (69.5%)\rEpoch: 47.8%  lr: 0.015345  loss: 0.007451  eta: 0h4m  tot: 0h10m44s  (69.6%)\rEpoch: 47.9%  lr: 0.015335  loss: 0.007454  eta: 0h4m  tot: 0h10m44s  (69.6%)\rEpoch: 48.0%  lr: 0.015315  loss: 0.007448  eta: 0h4m  tot: 0h10m44s  (69.6%)\rEpoch: 48.1%  lr: 0.015295  loss: 0.007440  eta: 0h4m  tot: 0h10m45s  (69.6%)\rEpoch: 48.2%  lr: 0.015295  loss: 0.007444  eta: 0h4m  tot: 0h10m45s  (69.6%)\rEpoch: 48.3%  lr: 0.015295  loss: 0.007452  eta: 0h4m  tot: 0h10m45s  (69.7%)\rEpoch: 48.3%  lr: 0.015295  loss: 0.007456  eta: 0h4m  tot: 0h10m45s  (69.7%)\rEpoch: 48.4%  lr: 0.015295  loss: 0.007457  eta: 0h4m  tot: 0h10m45s  (69.7%)\rEpoch: 48.5%  lr: 0.015265  loss: 0.007463  eta: 0h4m  tot: 0h10m45s  (69.7%)\rEpoch: 48.6%  lr: 0.015255  loss: 0.007456  eta: 0h4m  tot: 0h10m46s  (69.7%)\rEpoch: 48.7%  lr: 0.015255  loss: 0.007450  eta: 0h4m  tot: 0h10m46s  (69.7%)\rEpoch: 48.8%  lr: 0.015245  loss: 0.007454  eta: 0h4m  tot: 0h10m46s  (69.8%)\rEpoch: 48.9%  lr: 0.015225  loss: 0.007452  eta: 0h4m  tot: 0h10m46s  (69.8%)\rEpoch: 49.0%  lr: 0.015215  loss: 0.007456  eta: 0h4m  tot: 0h10m46s  (69.8%)\rEpoch: 49.1%  lr: 0.015215  loss: 0.007445  eta: 0h4m  tot: 0h10m46s  (69.8%)\rEpoch: 49.2%  lr: 0.015205  loss: 0.007438  eta: 0h4m  tot: 0h10m46s  (69.8%)\rEpoch: 49.2%  lr: 0.015195  loss: 0.007440  eta: 0h4m  tot: 0h10m47s  (69.8%)\rEpoch: 49.3%  lr: 0.015195  loss: 0.007442  eta: 0h4m  tot: 0h10m47s  (69.9%)\rEpoch: 49.4%  lr: 0.015175  loss: 0.007442  eta: 0h4m  tot: 0h10m47s  (69.9%)\rEpoch: 49.5%  lr: 0.015165  loss: 0.007437  eta: 0h4m  tot: 0h10m47s  (69.9%)\rEpoch: 49.6%  lr: 0.015155  loss: 0.007460  eta: 0h4m  tot: 0h10m47s  (69.9%)\rEpoch: 49.7%  lr: 0.015155  loss: 0.007457  eta: 0h4m  tot: 0h10m47s  (69.9%)\rEpoch: 49.8%  lr: 0.015135  loss: 0.007456  eta: 0h4m  tot: 0h10m48s  (70.0%)\rEpoch: 49.9%  lr: 0.015115  loss: 0.007447  eta: 0h4m  tot: 0h10m48s  (70.0%)\rEpoch: 50.0%  lr: 0.015105  loss: 0.007451  eta: 0h4m  tot: 0h10m48s  (70.0%)\rEpoch: 50.1%  lr: 0.015105  loss: 0.007448  eta: 0h4m  tot: 0h10m48s  (70.0%)\rEpoch: 50.1%  lr: 0.015105  loss: 0.007456  eta: 0h4m  tot: 0h10m48s  (70.0%)\rEpoch: 50.2%  lr: 0.015105  loss: 0.007461  eta: 0h4m  tot: 0h10m48s  (70.0%)\rEpoch: 50.3%  lr: 0.015095  loss: 0.007455  eta: 0h4m  tot: 0h10m48s  (70.1%)\rEpoch: 50.4%  lr: 0.015065  loss: 0.007450  eta: 0h4m  tot: 0h10m49s  (70.1%)\rEpoch: 50.5%  lr: 0.015065  loss: 0.007444  eta: 0h4m  tot: 0h10m49s  (70.1%)\rEpoch: 50.6%  lr: 0.015065  loss: 0.007447  eta: 0h4m  tot: 0h10m49s  (70.1%)\rEpoch: 50.7%  lr: 0.015025  loss: 0.007448  eta: 0h4m  tot: 0h10m49s  (70.1%)\rEpoch: 50.8%  lr: 0.015005  loss: 0.007436  eta: 0h4m  tot: 0h10m49s  (70.2%)\rEpoch: 50.9%  lr: 0.014995  loss: 0.007430  eta: 0h4m  tot: 0h10m49s  (70.2%)\rEpoch: 51.0%  lr: 0.014975  loss: 0.007431  eta: 0h4m  tot: 0h10m50s  (70.2%)\rEpoch: 51.0%  lr: 0.014965  loss: 0.007425  eta: 0h4m  tot: 0h10m50s  (70.2%)\rEpoch: 51.1%  lr: 0.014965  loss: 0.007429  eta: 0h4m  tot: 0h10m50s  (70.2%)\rEpoch: 51.2%  lr: 0.014945  loss: 0.007424  eta: 0h4m  tot: 0h10m50s  (70.2%)\rEpoch: 51.3%  lr: 0.014915  loss: 0.007425  eta: 0h4m  tot: 0h10m50s  (70.3%)\rEpoch: 51.4%  lr: 0.014905  loss: 0.007434  eta: 0h4m  tot: 0h10m50s  (70.3%)\rEpoch: 51.5%  lr: 0.014895  loss: 0.007433  eta: 0h4m  tot: 0h10m51s  (70.3%)\rEpoch: 51.6%  lr: 0.014885  loss: 0.007425  eta: 0h4m  tot: 0h10m51s  (70.3%)\rEpoch: 51.7%  lr: 0.014875  loss: 0.007430  eta: 0h4m  tot: 0h10m51s  (70.3%)\rEpoch: 51.8%  lr: 0.014865  loss: 0.007433  eta: 0h4m  tot: 0h10m51s  (70.4%)\rEpoch: 51.9%  lr: 0.014855  loss: 0.007434  eta: 0h4m  tot: 0h10m51s  (70.4%)\rEpoch: 51.9%  lr: 0.014835  loss: 0.007445  eta: 0h4m  tot: 0h10m51s  (70.4%)\rEpoch: 52.0%  lr: 0.014825  loss: 0.007437  eta: 0h4m  tot: 0h10m51s  (70.4%)\rEpoch: 52.1%  lr: 0.014785  loss: 0.007431  eta: 0h4m  tot: 0h10m52s  (70.4%)\rEpoch: 52.2%  lr: 0.014785  loss: 0.007428  eta: 0h4m  tot: 0h10m52s  (70.4%)\rEpoch: 52.3%  lr: 0.014775  loss: 0.007421  eta: 0h4m  tot: 0h10m52s  (70.5%)\rEpoch: 52.4%  lr: 0.014775  loss: 0.007418  eta: 0h4m  tot: 0h10m52s  (70.5%)\rEpoch: 52.5%  lr: 0.014775  loss: 0.007427  eta: 0h4m  tot: 0h10m52s  (70.5%)\rEpoch: 52.6%  lr: 0.014755  loss: 0.007418  eta: 0h4m  tot: 0h10m52s  (70.5%)\rEpoch: 52.7%  lr: 0.014755  loss: 0.007425  eta: 0h4m  tot: 0h10m53s  (70.5%)\rEpoch: 52.8%  lr: 0.014745  loss: 0.007433  eta: 0h4m  tot: 0h10m53s  (70.6%)\rEpoch: 52.8%  lr: 0.014735  loss: 0.007435  eta: 0h4m  tot: 0h10m53s  (70.6%)\rEpoch: 52.9%  lr: 0.014735  loss: 0.007426  eta: 0h4m  tot: 0h10m53s  (70.6%)\rEpoch: 53.0%  lr: 0.014715  loss: 0.007423  eta: 0h4m  tot: 0h10m53s  (70.6%)\rEpoch: 53.1%  lr: 0.014705  loss: 0.007429  eta: 0h4m  tot: 0h10m53s  (70.6%)\rEpoch: 53.2%  lr: 0.014695  loss: 0.007424  eta: 0h4m  tot: 0h10m54s  (70.6%)\rEpoch: 53.3%  lr: 0.014685  loss: 0.007425  eta: 0h4m  tot: 0h10m54s  (70.7%)\rEpoch: 53.4%  lr: 0.014665  loss: 0.007424  eta: 0h4m  tot: 0h10m54s  (70.7%)\rEpoch: 53.5%  lr: 0.014655  loss: 0.007426  eta: 0h4m  tot: 0h10m54s  (70.7%)\rEpoch: 53.6%  lr: 0.014625  loss: 0.007431  eta: 0h4m  tot: 0h10m54s  (70.7%)\rEpoch: 53.7%  lr: 0.014615  loss: 0.007427  eta: 0h4m  tot: 0h10m54s  (70.7%)\rEpoch: 53.7%  lr: 0.014605  loss: 0.007443  eta: 0h4m  tot: 0h10m55s  (70.7%)\rEpoch: 53.8%  lr: 0.014595  loss: 0.007451  eta: 0h4m  tot: 0h10m55s  (70.8%)\rEpoch: 53.9%  lr: 0.014575  loss: 0.007447  eta: 0h4m  tot: 0h10m55s  (70.8%)\rEpoch: 54.0%  lr: 0.014575  loss: 0.007456  eta: 0h4m  tot: 0h10m55s  (70.8%)\rEpoch: 54.1%  lr: 0.014565  loss: 0.007463  eta: 0h4m  tot: 0h10m55s  (70.8%)\rEpoch: 54.2%  lr: 0.014565  loss: 0.007462  eta: 0h4m  tot: 0h10m55s  (70.8%)\rEpoch: 54.3%  lr: 0.014545  loss: 0.007456  eta: 0h4m  tot: 0h10m55s  (70.9%)\rEpoch: 54.4%  lr: 0.014545  loss: 0.007454  eta: 0h4m  tot: 0h10m56s  (70.9%)\rEpoch: 54.5%  lr: 0.014535  loss: 0.007459  eta: 0h4m  tot: 0h10m56s  (70.9%)\rEpoch: 54.6%  lr: 0.014525  loss: 0.007452  eta: 0h4m  tot: 0h10m56s  (70.9%)\rEpoch: 54.6%  lr: 0.014515  loss: 0.007448  eta: 0h4m  tot: 0h10m56s  (70.9%)\rEpoch: 54.7%  lr: 0.014505  loss: 0.007445  eta: 0h4m  tot: 0h10m56s  (70.9%)\rEpoch: 54.8%  lr: 0.014495  loss: 0.007444  eta: 0h4m  tot: 0h10m56s  (71.0%)\rEpoch: 54.9%  lr: 0.014475  loss: 0.007437  eta: 0h4m  tot: 0h10m57s  (71.0%)\rEpoch: 55.0%  lr: 0.014455  loss: 0.007433  eta: 0h4m  tot: 0h10m57s  (71.0%)\rEpoch: 55.1%  lr: 0.014435  loss: 0.007446  eta: 0h4m  tot: 0h10m57s  (71.0%)\rEpoch: 55.2%  lr: 0.014425  loss: 0.007456  eta: 0h4m  tot: 0h10m57s  (71.0%)\rEpoch: 55.3%  lr: 0.014394  loss: 0.007451  eta: 0h4m  tot: 0h10m57s  (71.1%)\rEpoch: 55.4%  lr: 0.014394  loss: 0.007444  eta: 0h4m  tot: 0h10m57s  (71.1%)\rEpoch: 55.5%  lr: 0.014394  loss: 0.007445  eta: 0h4m  tot: 0h10m58s  (71.1%)\rEpoch: 55.5%  lr: 0.014394  loss: 0.007442  eta: 0h4m  tot: 0h10m58s  (71.1%)\rEpoch: 55.6%  lr: 0.014384  loss: 0.007443  eta: 0h4m  tot: 0h10m58s  (71.1%)\rEpoch: 55.7%  lr: 0.014384  loss: 0.007445  eta: 0h4m  tot: 0h10m58s  (71.1%)\rEpoch: 55.8%  lr: 0.014374  loss: 0.007443  eta: 0h4m  tot: 0h10m58s  (71.2%)\rEpoch: 55.9%  lr: 0.014364  loss: 0.007451  eta: 0h4m  tot: 0h10m58s  (71.2%)\rEpoch: 56.0%  lr: 0.014334  loss: 0.007460  eta: 0h4m  tot: 0h10m58s  (71.2%)\rEpoch: 56.1%  lr: 0.014334  loss: 0.007463  eta: 0h4m  tot: 0h10m59s  (71.2%)\rEpoch: 56.2%  lr: 0.014324  loss: 0.007472  eta: 0h4m  tot: 0h10m59s  (71.2%)\rEpoch: 56.3%  lr: 0.014324  loss: 0.007468  eta: 0h4m  tot: 0h10m59s  (71.3%)\rEpoch: 56.4%  lr: 0.014324  loss: 0.007468  eta: 0h4m  tot: 0h10m59s  (71.3%)\rEpoch: 56.4%  lr: 0.014324  loss: 0.007466  eta: 0h4m  tot: 0h10m59s  (71.3%)\rEpoch: 56.5%  lr: 0.014304  loss: 0.007466  eta: 0h4m  tot: 0h10m59s  (71.3%)\rEpoch: 56.6%  lr: 0.014294  loss: 0.007463  eta: 0h4m  tot: 0h11m0s  (71.3%)\rEpoch: 56.7%  lr: 0.014284  loss: 0.007490  eta: 0h4m  tot: 0h11m0s  (71.3%)\rEpoch: 56.8%  lr: 0.014284  loss: 0.007491  eta: 0h4m  tot: 0h11m0s  (71.4%)\rEpoch: 56.9%  lr: 0.014274  loss: 0.007483  eta: 0h4m  tot: 0h11m0s  (71.4%)\rEpoch: 57.0%  lr: 0.014264  loss: 0.007479  eta: 0h4m  tot: 0h11m0s  (71.4%)\rEpoch: 57.1%  lr: 0.014234  loss: 0.007475  eta: 0h4m  tot: 0h11m0s  (71.4%)\rEpoch: 57.2%  lr: 0.014224  loss: 0.007469  eta: 0h4m  tot: 0h11m1s  (71.4%)\rEpoch: 57.3%  lr: 0.014214  loss: 0.007474  eta: 0h4m  tot: 0h11m1s  (71.5%)\rEpoch: 57.3%  lr: 0.014194  loss: 0.007466  eta: 0h4m  tot: 0h11m1s  (71.5%)\rEpoch: 57.4%  lr: 0.014174  loss: 0.007479  eta: 0h4m  tot: 0h11m1s  (71.5%)\rEpoch: 57.5%  lr: 0.014164  loss: 0.007491  eta: 0h4m  tot: 0h11m1s  (71.5%)\rEpoch: 57.6%  lr: 0.014164  loss: 0.007488  eta: 0h4m  tot: 0h11m1s  (71.5%)\rEpoch: 57.7%  lr: 0.014144  loss: 0.007484  eta: 0h4m  tot: 0h11m2s  (71.5%)\rEpoch: 57.8%  lr: 0.014134  loss: 0.007483  eta: 0h4m  tot: 0h11m2s  (71.6%)\rEpoch: 57.9%  lr: 0.014104  loss: 0.007477  eta: 0h4m  tot: 0h11m2s  (71.6%)\rEpoch: 58.0%  lr: 0.014104  loss: 0.007477  eta: 0h4m  tot: 0h11m2s  (71.6%)\rEpoch: 58.1%  lr: 0.014094  loss: 0.007477  eta: 0h4m  tot: 0h11m2s  (71.6%)\rEpoch: 58.2%  lr: 0.014094  loss: 0.007467  eta: 0h4m  tot: 0h11m2s  (71.6%)\rEpoch: 58.2%  lr: 0.014074  loss: 0.007475  eta: 0h4m  tot: 0h11m3s  (71.6%)\rEpoch: 58.3%  lr: 0.014074  loss: 0.007473  eta: 0h4m  tot: 0h11m3s  (71.7%)\rEpoch: 58.4%  lr: 0.014044  loss: 0.007470  eta: 0h4m  tot: 0h11m3s  (71.7%)\rEpoch: 58.5%  lr: 0.014034  loss: 0.007472  eta: 0h4m  tot: 0h11m3s  (71.7%)\rEpoch: 58.6%  lr: 0.014034  loss: 0.007462  eta: 0h4m  tot: 0h11m3s  (71.7%)\rEpoch: 58.7%  lr: 0.014024  loss: 0.007457  eta: 0h4m  tot: 0h11m3s  (71.7%)\rEpoch: 58.8%  lr: 0.014014  loss: 0.007451  eta: 0h4m  tot: 0h11m4s  (71.8%)\rEpoch: 58.9%  lr: 0.014014  loss: 0.007459  eta: 0h4m  tot: 0h11m4s  (71.8%)\rEpoch: 59.0%  lr: 0.014004  loss: 0.007468  eta: 0h4m  tot: 0h11m4s  (71.8%)\rEpoch: 59.1%  lr: 0.013984  loss: 0.007466  eta: 0h4m  tot: 0h11m4s  (71.8%)\rEpoch: 59.1%  lr: 0.013974  loss: 0.007464  eta: 0h4m  tot: 0h11m4s  (71.8%)\rEpoch: 59.2%  lr: 0.013974  loss: 0.007463  eta: 0h4m  tot: 0h11m4s  (71.8%)\rEpoch: 59.3%  lr: 0.013974  loss: 0.007457  eta: 0h4m  tot: 0h11m5s  (71.9%)\rEpoch: 59.4%  lr: 0.013974  loss: 0.007463  eta: 0h4m  tot: 0h11m5s  (71.9%)\rEpoch: 59.5%  lr: 0.013974  loss: 0.007471  eta: 0h4m  tot: 0h11m5s  (71.9%)\rEpoch: 59.6%  lr: 0.013974  loss: 0.007466  eta: 0h4m  tot: 0h11m5s  (71.9%)\rEpoch: 59.7%  lr: 0.013954  loss: 0.007471  eta: 0h4m  tot: 0h11m5s  (71.9%)\rEpoch: 59.8%  lr: 0.013944  loss: 0.007474  eta: 0h4m  tot: 0h11m5s  (72.0%)\rEpoch: 59.9%  lr: 0.013944  loss: 0.007473  eta: 0h4m  tot: 0h11m5s  (72.0%)\rEpoch: 60.0%  lr: 0.013944  loss: 0.007471  eta: 0h4m  tot: 0h11m6s  (72.0%)\rEpoch: 60.0%  lr: 0.013924  loss: 0.007474  eta: 0h4m  tot: 0h11m6s  (72.0%)\rEpoch: 60.1%  lr: 0.013894  loss: 0.007473  eta: 0h4m  tot: 0h11m6s  (72.0%)\rEpoch: 60.2%  lr: 0.013894  loss: 0.007475  eta: 0h4m  tot: 0h11m6s  (72.0%)\rEpoch: 60.3%  lr: 0.013894  loss: 0.007471  eta: 0h4m  tot: 0h11m6s  (72.1%)\rEpoch: 60.4%  lr: 0.013894  loss: 0.007468  eta: 0h4m  tot: 0h11m6s  (72.1%)\rEpoch: 60.5%  lr: 0.013894  loss: 0.007459  eta: 0h4m  tot: 0h11m6s  (72.1%)\rEpoch: 60.6%  lr: 0.013884  loss: 0.007458  eta: 0h4m  tot: 0h11m7s  (72.1%)\rEpoch: 60.7%  lr: 0.013884  loss: 0.007456  eta: 0h4m  tot: 0h11m7s  (72.1%)\rEpoch: 60.8%  lr: 0.013884  loss: 0.007452  eta: 0h4m  tot: 0h11m7s  (72.2%)\rEpoch: 60.9%  lr: 0.013874  loss: 0.007459  eta: 0h4m  tot: 0h11m7s  (72.2%)\rEpoch: 60.9%  lr: 0.013854  loss: 0.007473  eta: 0h4m  tot: 0h11m7s  (72.2%)\rEpoch: 61.0%  lr: 0.013834  loss: 0.007473  eta: 0h4m  tot: 0h11m7s  (72.2%)\rEpoch: 61.1%  lr: 0.013834  loss: 0.007471  eta: 0h4m  tot: 0h11m8s  (72.2%)\rEpoch: 61.2%  lr: 0.013824  loss: 0.007478  eta: 0h4m  tot: 0h11m8s  (72.2%)\rEpoch: 61.3%  lr: 0.013824  loss: 0.007482  eta: 0h4m  tot: 0h11m8s  (72.3%)\rEpoch: 61.4%  lr: 0.013814  loss: 0.007476  eta: 0h4m  tot: 0h11m8s  (72.3%)\rEpoch: 61.5%  lr: 0.013804  loss: 0.007477  eta: 0h4m  tot: 0h11m8s  (72.3%)\rEpoch: 61.6%  lr: 0.013804  loss: 0.007483  eta: 0h4m  tot: 0h11m8s  (72.3%)\rEpoch: 61.7%  lr: 0.013794  loss: 0.007477  eta: 0h4m  tot: 0h11m9s  (72.3%)\rEpoch: 61.8%  lr: 0.013774  loss: 0.007474  eta: 0h4m  tot: 0h11m9s  (72.4%)\rEpoch: 61.8%  lr: 0.013764  loss: 0.007479  eta: 0h4m  tot: 0h11m9s  (72.4%)\rEpoch: 61.9%  lr: 0.013764  loss: 0.007477  eta: 0h4m  tot: 0h11m9s  (72.4%)\rEpoch: 62.0%  lr: 0.013764  loss: 0.007481  eta: 0h4m  tot: 0h11m9s  (72.4%)\rEpoch: 62.1%  lr: 0.013744  loss: 0.007479  eta: 0h4m  tot: 0h11m9s  (72.4%)\rEpoch: 62.2%  lr: 0.013744  loss: 0.007484  eta: 0h4m  tot: 0h11m10s  (72.4%)\rEpoch: 62.3%  lr: 0.013744  loss: 0.007481  eta: 0h4m  tot: 0h11m10s  (72.5%)\rEpoch: 62.4%  lr: 0.013744  loss: 0.007478  eta: 0h4m  tot: 0h11m10s  (72.5%)\rEpoch: 62.5%  lr: 0.013744  loss: 0.007472  eta: 0h4m  tot: 0h11m10s  (72.5%)\rEpoch: 62.6%  lr: 0.013734  loss: 0.007476  eta: 0h4m  tot: 0h11m10s  (72.5%)\rEpoch: 62.7%  lr: 0.013724  loss: 0.007476  eta: 0h4m  tot: 0h11m10s  (72.5%)\rEpoch: 62.7%  lr: 0.013704  loss: 0.007474  eta: 0h4m  tot: 0h11m10s  (72.5%)\rEpoch: 62.8%  lr: 0.013704  loss: 0.007471  eta: 0h4m  tot: 0h11m11s  (72.6%)\rEpoch: 62.9%  lr: 0.013694  loss: 0.007465  eta: 0h4m  tot: 0h11m11s  (72.6%)\rEpoch: 63.0%  lr: 0.013684  loss: 0.007458  eta: 0h4m  tot: 0h11m11s  (72.6%)\rEpoch: 63.1%  lr: 0.013684  loss: 0.007449  eta: 0h4m  tot: 0h11m11s  (72.6%)\rEpoch: 63.2%  lr: 0.013684  loss: 0.007460  eta: 0h4m  tot: 0h11m11s  (72.6%)\rEpoch: 63.3%  lr: 0.013664  loss: 0.007473  eta: 0h4m  tot: 0h11m11s  (72.7%)\rEpoch: 63.4%  lr: 0.013664  loss: 0.007469  eta: 0h4m  tot: 0h11m12s  (72.7%)\rEpoch: 63.5%  lr: 0.013644  loss: 0.007469  eta: 0h4m  tot: 0h11m12s  (72.7%)\rEpoch: 63.6%  lr: 0.013634  loss: 0.007470  eta: 0h4m  tot: 0h11m12s  (72.7%)\rEpoch: 63.6%  lr: 0.013624  loss: 0.007471  eta: 0h4m  tot: 0h11m12s  (72.7%)\rEpoch: 63.7%  lr: 0.013624  loss: 0.007471  eta: 0h3m  tot: 0h11m12s  (72.7%)\rEpoch: 63.8%  lr: 0.013614  loss: 0.007490  eta: 0h3m  tot: 0h11m12s  (72.8%)\rEpoch: 63.9%  lr: 0.013604  loss: 0.007493  eta: 0h3m  tot: 0h11m13s  (72.8%)\rEpoch: 64.0%  lr: 0.013594  loss: 0.007495  eta: 0h3m  tot: 0h11m13s  (72.8%)\rEpoch: 64.1%  lr: 0.013584  loss: 0.007493  eta: 0h3m  tot: 0h11m13s  (72.8%)\rEpoch: 64.2%  lr: 0.013574  loss: 0.007487  eta: 0h3m  tot: 0h11m13s  (72.8%)\rEpoch: 64.3%  lr: 0.013574  loss: 0.007480  eta: 0h3m  tot: 0h11m13s  (72.9%)\rEpoch: 64.4%  lr: 0.013564  loss: 0.007480  eta: 0h3m  tot: 0h11m13s  (72.9%)\rEpoch: 64.5%  lr: 0.013564  loss: 0.007475  eta: 0h3m  tot: 0h11m14s  (72.9%)\rEpoch: 64.5%  lr: 0.013554  loss: 0.007471  eta: 0h3m  tot: 0h11m14s  (72.9%)\rEpoch: 64.6%  lr: 0.013554  loss: 0.007478  eta: 0h3m  tot: 0h11m14s  (72.9%)\rEpoch: 64.7%  lr: 0.013544  loss: 0.007476  eta: 0h3m  tot: 0h11m14s  (72.9%)\rEpoch: 64.8%  lr: 0.013524  loss: 0.007476  eta: 0h3m  tot: 0h11m14s  (73.0%)\rEpoch: 64.9%  lr: 0.013484  loss: 0.007475  eta: 0h3m  tot: 0h11m14s  (73.0%)\rEpoch: 65.0%  lr: 0.013484  loss: 0.007479  eta: 0h3m  tot: 0h11m15s  (73.0%)\rEpoch: 65.1%  lr: 0.013464  loss: 0.007494  eta: 0h3m  tot: 0h11m15s  (73.0%)\rEpoch: 65.2%  lr: 0.013454  loss: 0.007494  eta: 0h3m  tot: 0h11m15s  (73.0%)\rEpoch: 65.3%  lr: 0.013434  loss: 0.007492  eta: 0h3m  tot: 0h11m15s  (73.1%)\rEpoch: 65.4%  lr: 0.013434  loss: 0.007499  eta: 0h3m  tot: 0h11m15s  (73.1%)\rEpoch: 65.4%  lr: 0.013434  loss: 0.007500  eta: 0h3m  tot: 0h11m15s  (73.1%)\rEpoch: 65.5%  lr: 0.013434  loss: 0.007496  eta: 0h3m  tot: 0h11m15s  (73.1%)\rEpoch: 65.6%  lr: 0.013424  loss: 0.007501  eta: 0h3m  tot: 0h11m16s  (73.1%)\rEpoch: 65.7%  lr: 0.013424  loss: 0.007499  eta: 0h3m  tot: 0h11m16s  (73.1%)\rEpoch: 65.8%  lr: 0.013414  loss: 0.007500  eta: 0h3m  tot: 0h11m16s  (73.2%)\rEpoch: 65.9%  lr: 0.013414  loss: 0.007496  eta: 0h3m  tot: 0h11m16s  (73.2%)\rEpoch: 66.0%  lr: 0.013383  loss: 0.007500  eta: 0h3m  tot: 0h11m16s  (73.2%)\rEpoch: 66.1%  lr: 0.013383  loss: 0.007498  eta: 0h3m  tot: 0h11m16s  (73.2%)\rEpoch: 66.2%  lr: 0.013383  loss: 0.007510  eta: 0h3m  tot: 0h11m17s  (73.2%)\rEpoch: 66.3%  lr: 0.013373  loss: 0.007507  eta: 0h3m  tot: 0h11m17s  (73.3%)\rEpoch: 66.3%  lr: 0.013363  loss: 0.007518  eta: 0h3m  tot: 0h11m17s  (73.3%)\rEpoch: 66.4%  lr: 0.013353  loss: 0.007528  eta: 0h3m  tot: 0h11m17s  (73.3%)\rEpoch: 66.5%  lr: 0.013333  loss: 0.007530  eta: 0h3m  tot: 0h11m17s  (73.3%)\rEpoch: 66.6%  lr: 0.013333  loss: 0.007529  eta: 0h3m  tot: 0h11m17s  (73.3%)\rEpoch: 66.7%  lr: 0.013313  loss: 0.007529  eta: 0h3m  tot: 0h11m17s  (73.3%)\rEpoch: 66.8%  lr: 0.013313  loss: 0.007529  eta: 0h3m  tot: 0h11m18s  (73.4%)\rEpoch: 66.9%  lr: 0.013293  loss: 0.007526  eta: 0h3m  tot: 0h11m18s  (73.4%)\rEpoch: 67.0%  lr: 0.013283  loss: 0.007525  eta: 0h3m  tot: 0h11m18s  (73.4%)\rEpoch: 67.1%  lr: 0.013273  loss: 0.007525  eta: 0h3m  tot: 0h11m18s  (73.4%)\rEpoch: 67.2%  lr: 0.013263  loss: 0.007524  eta: 0h3m  tot: 0h11m18s  (73.4%)\rEpoch: 67.2%  lr: 0.013253  loss: 0.007522  eta: 0h3m  tot: 0h11m18s  (73.4%)\rEpoch: 67.3%  lr: 0.013243  loss: 0.007523  eta: 0h3m  tot: 0h11m19s  (73.5%)\rEpoch: 67.4%  lr: 0.013233  loss: 0.007526  eta: 0h3m  tot: 0h11m19s  (73.5%)\rEpoch: 67.5%  lr: 0.013223  loss: 0.007523  eta: 0h3m  tot: 0h11m19s  (73.5%)\rEpoch: 67.6%  lr: 0.013193  loss: 0.007522  eta: 0h3m  tot: 0h11m19s  (73.5%)\rEpoch: 67.7%  lr: 0.013183  loss: 0.007529  eta: 0h3m  tot: 0h11m19s  (73.5%)\rEpoch: 67.8%  lr: 0.013173  loss: 0.007526  eta: 0h3m  tot: 0h11m19s  (73.6%)\rEpoch: 67.9%  lr: 0.013163  loss: 0.007521  eta: 0h3m  tot: 0h11m20s  (73.6%)\rEpoch: 68.0%  lr: 0.013163  loss: 0.007520  eta: 0h3m  tot: 0h11m20s  (73.6%)\rEpoch: 68.1%  lr: 0.013153  loss: 0.007514  eta: 0h3m  tot: 0h11m20s  (73.6%)\rEpoch: 68.1%  lr: 0.013133  loss: 0.007517  eta: 0h3m  tot: 0h11m20s  (73.6%)\rEpoch: 68.2%  lr: 0.013113  loss: 0.007517  eta: 0h3m  tot: 0h11m20s  (73.6%)\rEpoch: 68.3%  lr: 0.013113  loss: 0.007522  eta: 0h3m  tot: 0h11m20s  (73.7%)\rEpoch: 68.4%  lr: 0.013093  loss: 0.007517  eta: 0h3m  tot: 0h11m21s  (73.7%)\rEpoch: 68.5%  lr: 0.013093  loss: 0.007511  eta: 0h3m  tot: 0h11m21s  (73.7%)\rEpoch: 68.6%  lr: 0.013073  loss: 0.007517  eta: 0h3m  tot: 0h11m21s  (73.7%)\rEpoch: 68.7%  lr: 0.013073  loss: 0.007521  eta: 0h3m  tot: 0h11m21s  (73.7%)\rEpoch: 68.8%  lr: 0.013073  loss: 0.007520  eta: 0h3m  tot: 0h11m21s  (73.8%)\rEpoch: 68.9%  lr: 0.013063  loss: 0.007523  eta: 0h3m  tot: 0h11m21s  (73.8%)\rEpoch: 69.0%  lr: 0.013053  loss: 0.007516  eta: 0h3m  tot: 0h11m21s  (73.8%)\rEpoch: 69.0%  lr: 0.013043  loss: 0.007515  eta: 0h3m  tot: 0h11m22s  (73.8%)\rEpoch: 69.1%  lr: 0.013033  loss: 0.007515  eta: 0h3m  tot: 0h11m22s  (73.8%)\rEpoch: 69.2%  lr: 0.013023  loss: 0.007516  eta: 0h3m  tot: 0h11m22s  (73.8%)\rEpoch: 69.3%  lr: 0.012993  loss: 0.007530  eta: 0h3m  tot: 0h11m22s  (73.9%)\rEpoch: 69.4%  lr: 0.012973  loss: 0.007534  eta: 0h3m  tot: 0h11m22s  (73.9%)\rEpoch: 69.5%  lr: 0.012973  loss: 0.007531  eta: 0h3m  tot: 0h11m22s  (73.9%)\rEpoch: 69.6%  lr: 0.012963  loss: 0.007523  eta: 0h3m  tot: 0h11m23s  (73.9%)\rEpoch: 69.7%  lr: 0.012953  loss: 0.007528  eta: 0h3m  tot: 0h11m23s  (73.9%)\rEpoch: 69.8%  lr: 0.012943  loss: 0.007525  eta: 0h3m  tot: 0h11m23s  (74.0%)\rEpoch: 69.9%  lr: 0.012943  loss: 0.007526  eta: 0h3m  tot: 0h11m23s  (74.0%)\rEpoch: 69.9%  lr: 0.012943  loss: 0.007534  eta: 0h3m  tot: 0h11m23s  (74.0%)\rEpoch: 70.0%  lr: 0.012913  loss: 0.007527  eta: 0h3m  tot: 0h11m23s  (74.0%)\rEpoch: 70.1%  lr: 0.012893  loss: 0.007521  eta: 0h3m  tot: 0h11m24s  (74.0%)\rEpoch: 70.2%  lr: 0.012893  loss: 0.007520  eta: 0h3m  tot: 0h11m24s  (74.0%)\rEpoch: 70.3%  lr: 0.012893  loss: 0.007519  eta: 0h3m  tot: 0h11m24s  (74.1%)\rEpoch: 70.4%  lr: 0.012893  loss: 0.007521  eta: 0h3m  tot: 0h11m24s  (74.1%)\rEpoch: 70.5%  lr: 0.012893  loss: 0.007524  eta: 0h3m  tot: 0h11m24s  (74.1%)\rEpoch: 70.6%  lr: 0.012893  loss: 0.007522  eta: 0h3m  tot: 0h11m24s  (74.1%)\rEpoch: 70.7%  lr: 0.012883  loss: 0.007527  eta: 0h3m  tot: 0h11m24s  (74.1%)\rEpoch: 70.8%  lr: 0.012873  loss: 0.007526  eta: 0h3m  tot: 0h11m25s  (74.2%)\rEpoch: 70.8%  lr: 0.012863  loss: 0.007525  eta: 0h3m  tot: 0h11m25s  (74.2%)\rEpoch: 70.9%  lr: 0.012863  loss: 0.007530  eta: 0h3m  tot: 0h11m25s  (74.2%)\rEpoch: 71.0%  lr: 0.012843  loss: 0.007531  eta: 0h3m  tot: 0h11m25s  (74.2%)\rEpoch: 71.1%  lr: 0.012823  loss: 0.007527  eta: 0h3m  tot: 0h11m25s  (74.2%)\rEpoch: 71.2%  lr: 0.012823  loss: 0.007527  eta: 0h3m  tot: 0h11m25s  (74.2%)\rEpoch: 71.3%  lr: 0.012793  loss: 0.007524  eta: 0h3m  tot: 0h11m26s  (74.3%)\rEpoch: 71.4%  lr: 0.012783  loss: 0.007521  eta: 0h3m  tot: 0h11m26s  (74.3%)\rEpoch: 71.5%  lr: 0.012763  loss: 0.007526  eta: 0h3m  tot: 0h11m26s  (74.3%)\rEpoch: 71.6%  lr: 0.012763  loss: 0.007529  eta: 0h3m  tot: 0h11m26s  (74.3%)\rEpoch: 71.7%  lr: 0.012763  loss: 0.007528  eta: 0h3m  tot: 0h11m26s  (74.3%)\rEpoch: 71.7%  lr: 0.012743  loss: 0.007533  eta: 0h3m  tot: 0h11m26s  (74.3%)\rEpoch: 71.8%  lr: 0.012743  loss: 0.007529  eta: 0h3m  tot: 0h11m27s  (74.4%)\rEpoch: 71.9%  lr: 0.012723  loss: 0.007545  eta: 0h3m  tot: 0h11m27s  (74.4%)\rEpoch: 72.0%  lr: 0.012723  loss: 0.007546  eta: 0h3m  tot: 0h11m27s  (74.4%)\rEpoch: 72.1%  lr: 0.012713  loss: 0.007553  eta: 0h3m  tot: 0h11m27s  (74.4%)\rEpoch: 72.2%  lr: 0.012703  loss: 0.007552  eta: 0h3m  tot: 0h11m27s  (74.4%)\rEpoch: 72.3%  lr: 0.012693  loss: 0.007549  eta: 0h3m  tot: 0h11m27s  (74.5%)\rEpoch: 72.4%  lr: 0.012693  loss: 0.007551  eta: 0h3m  tot: 0h11m28s  (74.5%)\rEpoch: 72.5%  lr: 0.012673  loss: 0.007553  eta: 0h3m  tot: 0h11m28s  (74.5%)\rEpoch: 72.6%  lr: 0.012673  loss: 0.007553  eta: 0h3m  tot: 0h11m28s  (74.5%)\rEpoch: 72.6%  lr: 0.012653  loss: 0.007561  eta: 0h3m  tot: 0h11m28s  (74.5%)\rEpoch: 72.7%  lr: 0.012653  loss: 0.007557  eta: 0h3m  tot: 0h11m28s  (74.5%)\rEpoch: 72.8%  lr: 0.012643  loss: 0.007551  eta: 0h3m  tot: 0h11m28s  (74.6%)\rEpoch: 72.9%  lr: 0.012643  loss: 0.007552  eta: 0h3m  tot: 0h11m28s  (74.6%)\rEpoch: 73.0%  lr: 0.012633  loss: 0.007550  eta: 0h3m  tot: 0h11m29s  (74.6%)\rEpoch: 73.1%  lr: 0.012613  loss: 0.007543  eta: 0h3m  tot: 0h11m29s  (74.6%)\rEpoch: 73.2%  lr: 0.012613  loss: 0.007538  eta: 0h3m  tot: 0h11m29s  (74.6%)\rEpoch: 73.3%  lr: 0.012603  loss: 0.007533  eta: 0h3m  tot: 0h11m29s  (74.7%)\rEpoch: 73.4%  lr: 0.012593  loss: 0.007531  eta: 0h3m  tot: 0h11m29s  (74.7%)\rEpoch: 73.5%  lr: 0.012583  loss: 0.007536  eta: 0h3m  tot: 0h11m29s  (74.7%)\rEpoch: 73.5%  lr: 0.012583  loss: 0.007533  eta: 0h3m  tot: 0h11m30s  (74.7%)\rEpoch: 73.6%  lr: 0.012583  loss: 0.007528  eta: 0h3m  tot: 0h11m30s  (74.7%)\rEpoch: 73.7%  lr: 0.012583  loss: 0.007529  eta: 0h3m  tot: 0h11m30s  (74.7%)\rEpoch: 73.8%  lr: 0.012583  loss: 0.007529  eta: 0h3m  tot: 0h11m30s  (74.8%)\rEpoch: 73.9%  lr: 0.012563  loss: 0.007528  eta: 0h3m  tot: 0h11m30s  (74.8%)\rEpoch: 74.0%  lr: 0.012553  loss: 0.007527  eta: 0h3m  tot: 0h11m30s  (74.8%)\rEpoch: 74.1%  lr: 0.012543  loss: 0.007526  eta: 0h3m  tot: 0h11m30s  (74.8%)\rEpoch: 74.2%  lr: 0.012543  loss: 0.007524  eta: 0h3m  tot: 0h11m31s  (74.8%)\rEpoch: 74.3%  lr: 0.012543  loss: 0.007521  eta: 0h3m  tot: 0h11m31s  (74.9%)\rEpoch: 74.4%  lr: 0.012533  loss: 0.007519  eta: 0h3m  tot: 0h11m31s  (74.9%)\rEpoch: 74.4%  lr: 0.012523  loss: 0.007513  eta: 0h3m  tot: 0h11m31s  (74.9%)\rEpoch: 74.5%  lr: 0.012513  loss: 0.007511  eta: 0h3m  tot: 0h11m31s  (74.9%)\rEpoch: 74.6%  lr: 0.012503  loss: 0.007508  eta: 0h3m  tot: 0h11m31s  (74.9%)\rEpoch: 74.7%  lr: 0.012503  loss: 0.007510  eta: 0h3m  tot: 0h11m32s  (74.9%)\rEpoch: 74.8%  lr: 0.012503  loss: 0.007513  eta: 0h3m  tot: 0h11m32s  (75.0%)\rEpoch: 74.9%  lr: 0.012503  loss: 0.007508  eta: 0h3m  tot: 0h11m32s  (75.0%)\rEpoch: 75.0%  lr: 0.012503  loss: 0.007505  eta: 0h3m  tot: 0h11m32s  (75.0%)\rEpoch: 75.1%  lr: 0.012493  loss: 0.007507  eta: 0h3m  tot: 0h11m32s  (75.0%)\rEpoch: 75.2%  lr: 0.012493  loss: 0.007503  eta: 0h3m  tot: 0h11m32s  (75.0%)\rEpoch: 75.3%  lr: 0.012473  loss: 0.007501  eta: 0h3m  tot: 0h11m33s  (75.1%)\rEpoch: 75.3%  lr: 0.012473  loss: 0.007497  eta: 0h3m  tot: 0h11m33s  (75.1%)\rEpoch: 75.4%  lr: 0.012473  loss: 0.007494  eta: 0h3m  tot: 0h11m33s  (75.1%)\rEpoch: 75.5%  lr: 0.012473  loss: 0.007489  eta: 0h3m  tot: 0h11m33s  (75.1%)\rEpoch: 75.6%  lr: 0.012473  loss: 0.007492  eta: 0h3m  tot: 0h11m33s  (75.1%)\rEpoch: 75.7%  lr: 0.012473  loss: 0.007493  eta: 0h3m  tot: 0h11m33s  (75.1%)\rEpoch: 75.8%  lr: 0.012473  loss: 0.007491  eta: 0h3m  tot: 0h11m33s  (75.2%)\rEpoch: 75.9%  lr: 0.012463  loss: 0.007499  eta: 0h3m  tot: 0h11m34s  (75.2%)\rEpoch: 76.0%  lr: 0.012463  loss: 0.007498  eta: 0h3m  tot: 0h11m34s  (75.2%)\rEpoch: 76.1%  lr: 0.012463  loss: 0.007496  eta: 0h3m  tot: 0h11m34s  (75.2%)\rEpoch: 76.2%  lr: 0.012453  loss: 0.007490  eta: 0h3m  tot: 0h11m34s  (75.2%)\rEpoch: 76.2%  lr: 0.012453  loss: 0.007489  eta: 0h3m  tot: 0h11m34s  (75.2%)\rEpoch: 76.3%  lr: 0.012443  loss: 0.007483  eta: 0h3m  tot: 0h11m34s  (75.3%)\rEpoch: 76.4%  lr: 0.012443  loss: 0.007485  eta: 0h3m  tot: 0h11m35s  (75.3%)\rEpoch: 76.5%  lr: 0.012443  loss: 0.007481  eta: 0h3m  tot: 0h11m35s  (75.3%)\rEpoch: 76.6%  lr: 0.012423  loss: 0.007479  eta: 0h3m  tot: 0h11m35s  (75.3%)\rEpoch: 76.7%  lr: 0.012413  loss: 0.007479  eta: 0h3m  tot: 0h11m35s  (75.3%)\rEpoch: 76.8%  lr: 0.012413  loss: 0.007478  eta: 0h3m  tot: 0h11m35s  (75.4%)\rEpoch: 76.9%  lr: 0.012393  loss: 0.007475  eta: 0h3m  tot: 0h11m35s  (75.4%)\rEpoch: 77.0%  lr: 0.012372  loss: 0.007487  eta: 0h3m  tot: 0h11m35s  (75.4%)\rEpoch: 77.1%  lr: 0.012372  loss: 0.007483  eta: 0h3m  tot: 0h11m36s  (75.4%)\rEpoch: 77.1%  lr: 0.012372  loss: 0.007477  eta: 0h3m  tot: 0h11m36s  (75.4%)\rEpoch: 77.2%  lr: 0.012372  loss: 0.007475  eta: 0h3m  tot: 0h11m36s  (75.4%)\rEpoch: 77.3%  lr: 0.012352  loss: 0.007478  eta: 0h3m  tot: 0h11m36s  (75.5%)\rEpoch: 77.4%  lr: 0.012342  loss: 0.007473  eta: 0h3m  tot: 0h11m36s  (75.5%)\rEpoch: 77.5%  lr: 0.012342  loss: 0.007477  eta: 0h3m  tot: 0h11m36s  (75.5%)\rEpoch: 77.6%  lr: 0.012322  loss: 0.007475  eta: 0h3m  tot: 0h11m37s  (75.5%)\rEpoch: 77.7%  lr: 0.012322  loss: 0.007479  eta: 0h3m  tot: 0h11m37s  (75.5%)\rEpoch: 77.8%  lr: 0.012322  loss: 0.007475  eta: 0h3m  tot: 0h11m37s  (75.6%)\rEpoch: 77.9%  lr: 0.012322  loss: 0.007472  eta: 0h3m  tot: 0h11m37s  (75.6%)\rEpoch: 78.0%  lr: 0.012312  loss: 0.007477  eta: 0h3m  tot: 0h11m37s  (75.6%)\rEpoch: 78.0%  lr: 0.012312  loss: 0.007476  eta: 0h3m  tot: 0h11m37s  (75.6%)\rEpoch: 78.1%  lr: 0.012312  loss: 0.007480  eta: 0h3m  tot: 0h11m38s  (75.6%)\rEpoch: 78.2%  lr: 0.012312  loss: 0.007479  eta: 0h3m  tot: 0h11m38s  (75.6%)\rEpoch: 78.3%  lr: 0.012302  loss: 0.007485  eta: 0h3m  tot: 0h11m38s  (75.7%)\rEpoch: 78.4%  lr: 0.012292  loss: 0.007485  eta: 0h3m  tot: 0h11m38s  (75.7%)\rEpoch: 78.5%  lr: 0.012282  loss: 0.007480  eta: 0h3m  tot: 0h11m38s  (75.7%)\rEpoch: 78.6%  lr: 0.012282  loss: 0.007482  eta: 0h3m  tot: 0h11m38s  (75.7%)\rEpoch: 78.7%  lr: 0.012272  loss: 0.007481  eta: 0h3m  tot: 0h11m38s  (75.7%)\rEpoch: 78.8%  lr: 0.012272  loss: 0.007481  eta: 0h3m  tot: 0h11m39s  (75.8%)\rEpoch: 78.9%  lr: 0.012272  loss: 0.007492  eta: 0h3m  tot: 0h11m39s  (75.8%)\rEpoch: 78.9%  lr: 0.012262  loss: 0.007499  eta: 0h3m  tot: 0h11m39s  (75.8%)\rEpoch: 79.0%  lr: 0.012232  loss: 0.007499  eta: 0h3m  tot: 0h11m39s  (75.8%)\rEpoch: 79.1%  lr: 0.012232  loss: 0.007499  eta: 0h3m  tot: 0h11m39s  (75.8%)\rEpoch: 79.2%  lr: 0.012222  loss: 0.007493  eta: 0h3m  tot: 0h11m39s  (75.8%)\rEpoch: 79.3%  lr: 0.012212  loss: 0.007489  eta: 0h3m  tot: 0h11m40s  (75.9%)\rEpoch: 79.4%  lr: 0.012212  loss: 0.007493  eta: 0h3m  tot: 0h11m40s  (75.9%)\rEpoch: 79.5%  lr: 0.012212  loss: 0.007489  eta: 0h3m  tot: 0h11m40s  (75.9%)\rEpoch: 79.6%  lr: 0.012212  loss: 0.007489  eta: 0h3m  tot: 0h11m40s  (75.9%)\rEpoch: 79.7%  lr: 0.012202  loss: 0.007488  eta: 0h3m  tot: 0h11m40s  (75.9%)\rEpoch: 79.8%  lr: 0.012182  loss: 0.007487  eta: 0h3m  tot: 0h11m40s  (76.0%)\rEpoch: 79.9%  lr: 0.012162  loss: 0.007482  eta: 0h3m  tot: 0h11m41s  (76.0%)\rEpoch: 79.9%  lr: 0.012152  loss: 0.007477  eta: 0h3m  tot: 0h11m41s  (76.0%)\rEpoch: 80.0%  lr: 0.012142  loss: 0.007472  eta: 0h3m  tot: 0h11m41s  (76.0%)\rEpoch: 80.1%  lr: 0.012142  loss: 0.007474  eta: 0h3m  tot: 0h11m41s  (76.0%)\rEpoch: 80.2%  lr: 0.012142  loss: 0.007471  eta: 0h3m  tot: 0h11m41s  (76.0%)\rEpoch: 80.3%  lr: 0.012132  loss: 0.007470  eta: 0h3m  tot: 0h11m41s  (76.1%)\rEpoch: 80.4%  lr: 0.012112  loss: 0.007465  eta: 0h3m  tot: 0h11m41s  (76.1%)\rEpoch: 80.5%  lr: 0.012102  loss: 0.007460  eta: 0h3m  tot: 0h11m42s  (76.1%)\rEpoch: 80.6%  lr: 0.012092  loss: 0.007456  eta: 0h3m  tot: 0h11m42s  (76.1%)\rEpoch: 80.7%  lr: 0.012082  loss: 0.007457  eta: 0h3m  tot: 0h11m42s  (76.1%)\rEpoch: 80.8%  lr: 0.012082  loss: 0.007454  eta: 0h3m  tot: 0h11m42s  (76.2%)\rEpoch: 80.8%  lr: 0.012082  loss: 0.007457  eta: 0h3m  tot: 0h11m42s  (76.2%)\rEpoch: 80.9%  lr: 0.012072  loss: 0.007456  eta: 0h3m  tot: 0h11m42s  (76.2%)\rEpoch: 81.0%  lr: 0.012072  loss: 0.007451  eta: 0h3m  tot: 0h11m43s  (76.2%)\rEpoch: 81.1%  lr: 0.012072  loss: 0.007445  eta: 0h3m  tot: 0h11m43s  (76.2%)\rEpoch: 81.2%  lr: 0.012062  loss: 0.007441  eta: 0h3m  tot: 0h11m43s  (76.2%)\rEpoch: 81.3%  lr: 0.012062  loss: 0.007436  eta: 0h3m  tot: 0h11m43s  (76.3%)\rEpoch: 81.4%  lr: 0.012062  loss: 0.007429  eta: 0h3m  tot: 0h11m43s  (76.3%)\rEpoch: 81.5%  lr: 0.012042  loss: 0.007428  eta: 0h3m  tot: 0h11m43s  (76.3%)\rEpoch: 81.6%  lr: 0.012022  loss: 0.007429  eta: 0h3m  tot: 0h11m43s  (76.3%)\rEpoch: 81.7%  lr: 0.012022  loss: 0.007427  eta: 0h3m  tot: 0h11m44s  (76.3%)\rEpoch: 81.7%  lr: 0.012022  loss: 0.007421  eta: 0h3m  tot: 0h11m44s  (76.3%)\rEpoch: 81.8%  lr: 0.012022  loss: 0.007417  eta: 0h3m  tot: 0h11m44s  (76.4%)\rEpoch: 81.9%  lr: 0.012022  loss: 0.007415  eta: 0h3m  tot: 0h11m44s  (76.4%)\rEpoch: 82.0%  lr: 0.012012  loss: 0.007414  eta: 0h3m  tot: 0h11m44s  (76.4%)\rEpoch: 82.1%  lr: 0.011992  loss: 0.007413  eta: 0h3m  tot: 0h11m44s  (76.4%)\rEpoch: 82.2%  lr: 0.011962  loss: 0.007410  eta: 0h3m  tot: 0h11m45s  (76.4%)\rEpoch: 82.3%  lr: 0.011952  loss: 0.007408  eta: 0h3m  tot: 0h11m45s  (76.5%)\rEpoch: 82.4%  lr: 0.011942  loss: 0.007422  eta: 0h3m  tot: 0h11m45s  (76.5%)\rEpoch: 82.5%  lr: 0.011902  loss: 0.007420  eta: 0h3m  tot: 0h11m45s  (76.5%)\rEpoch: 82.6%  lr: 0.011892  loss: 0.007423  eta: 0h3m  tot: 0h11m45s  (76.5%)\rEpoch: 82.6%  lr: 0.011882  loss: 0.007418  eta: 0h3m  tot: 0h11m45s  (76.5%)\rEpoch: 82.7%  lr: 0.011882  loss: 0.007414  eta: 0h3m  tot: 0h11m46s  (76.5%)\rEpoch: 82.8%  lr: 0.011882  loss: 0.007416  eta: 0h3m  tot: 0h11m46s  (76.6%)\rEpoch: 82.9%  lr: 0.011872  loss: 0.007419  eta: 0h3m  tot: 0h11m46s  (76.6%)\rEpoch: 83.0%  lr: 0.011872  loss: 0.007421  eta: 0h3m  tot: 0h11m46s  (76.6%)\rEpoch: 83.1%  lr: 0.011872  loss: 0.007420  eta: 0h3m  tot: 0h11m46s  (76.6%)\rEpoch: 83.2%  lr: 0.011852  loss: 0.007418  eta: 0h3m  tot: 0h11m46s  (76.6%)\rEpoch: 83.3%  lr: 0.011852  loss: 0.007423  eta: 0h3m  tot: 0h11m46s  (76.7%)\rEpoch: 83.4%  lr: 0.011832  loss: 0.007429  eta: 0h3m  tot: 0h11m47s  (76.7%)\rEpoch: 83.5%  lr: 0.011832  loss: 0.007428  eta: 0h3m  tot: 0h11m47s  (76.7%)\rEpoch: 83.5%  lr: 0.011832  loss: 0.007441  eta: 0h3m  tot: 0h11m47s  (76.7%)\rEpoch: 83.6%  lr: 0.011822  loss: 0.007441  eta: 0h3m  tot: 0h11m47s  (76.7%)\rEpoch: 83.7%  lr: 0.011812  loss: 0.007439  eta: 0h3m  tot: 0h11m47s  (76.7%)\rEpoch: 83.8%  lr: 0.011812  loss: 0.007440  eta: 0h3m  tot: 0h11m47s  (76.8%)\rEpoch: 83.9%  lr: 0.011802  loss: 0.007435  eta: 0h3m  tot: 0h11m48s  (76.8%)\rEpoch: 84.0%  lr: 0.011792  loss: 0.007437  eta: 0h3m  tot: 0h11m48s  (76.8%)\rEpoch: 84.1%  lr: 0.011772  loss: 0.007432  eta: 0h3m  tot: 0h11m48s  (76.8%)\rEpoch: 84.2%  lr: 0.011772  loss: 0.007441  eta: 0h3m  tot: 0h11m48s  (76.8%)\rEpoch: 84.3%  lr: 0.011762  loss: 0.007447  eta: 0h3m  tot: 0h11m48s  (76.9%)\rEpoch: 84.4%  lr: 0.011762  loss: 0.007443  eta: 0h3m  tot: 0h11m48s  (76.9%)\rEpoch: 84.4%  lr: 0.011762  loss: 0.007451  eta: 0h3m  tot: 0h11m49s  (76.9%)\rEpoch: 84.5%  lr: 0.011752  loss: 0.007449  eta: 0h3m  tot: 0h11m49s  (76.9%)\rEpoch: 84.6%  lr: 0.011742  loss: 0.007448  eta: 0h3m  tot: 0h11m49s  (76.9%)\rEpoch: 84.7%  lr: 0.011732  loss: 0.007448  eta: 0h3m  tot: 0h11m49s  (76.9%)\rEpoch: 84.8%  lr: 0.011722  loss: 0.007444  eta: 0h3m  tot: 0h11m49s  (77.0%)\rEpoch: 84.9%  lr: 0.011702  loss: 0.007455  eta: 0h3m  tot: 0h11m49s  (77.0%)\rEpoch: 85.0%  lr: 0.011692  loss: 0.007464  eta: 0h3m  tot: 0h11m50s  (77.0%)\rEpoch: 85.1%  lr: 0.011692  loss: 0.007457  eta: 0h3m  tot: 0h11m50s  (77.0%)\rEpoch: 85.2%  lr: 0.011692  loss: 0.007452  eta: 0h3m  tot: 0h11m50s  (77.0%)\rEpoch: 85.3%  lr: 0.011672  loss: 0.007452  eta: 0h3m  tot: 0h11m50s  (77.1%)\rEpoch: 85.3%  lr: 0.011672  loss: 0.007456  eta: 0h3m  tot: 0h11m50s  (77.1%)\rEpoch: 85.4%  lr: 0.011672  loss: 0.007452  eta: 0h3m  tot: 0h11m50s  (77.1%)\rEpoch: 85.5%  lr: 0.011672  loss: 0.007454  eta: 0h3m  tot: 0h11m50s  (77.1%)\rEpoch: 85.6%  lr: 0.011662  loss: 0.007453  eta: 0h3m  tot: 0h11m51s  (77.1%)\rEpoch: 85.7%  lr: 0.011642  loss: 0.007458  eta: 0h3m  tot: 0h11m51s  (77.1%)\rEpoch: 85.8%  lr: 0.011632  loss: 0.007464  eta: 0h3m  tot: 0h11m51s  (77.2%)\rEpoch: 85.9%  lr: 0.011622  loss: 0.007463  eta: 0h3m  tot: 0h11m51s  (77.2%)\rEpoch: 86.0%  lr: 0.011622  loss: 0.007472  eta: 0h3m  tot: 0h11m51s  (77.2%)\rEpoch: 86.1%  lr: 0.011622  loss: 0.007478  eta: 0h3m  tot: 0h11m51s  (77.2%)\rEpoch: 86.2%  lr: 0.011612  loss: 0.007480  eta: 0h3m  tot: 0h11m52s  (77.2%)\rEpoch: 86.2%  lr: 0.011592  loss: 0.007475  eta: 0h3m  tot: 0h11m52s  (77.2%)\rEpoch: 86.3%  lr: 0.011562  loss: 0.007475  eta: 0h3m  tot: 0h11m52s  (77.3%)\rEpoch: 86.4%  lr: 0.011542  loss: 0.007479  eta: 0h3m  tot: 0h11m52s  (77.3%)\rEpoch: 86.5%  lr: 0.011542  loss: 0.007478  eta: 0h3m  tot: 0h11m52s  (77.3%)\rEpoch: 86.6%  lr: 0.011542  loss: 0.007480  eta: 0h3m  tot: 0h11m52s  (77.3%)\rEpoch: 86.7%  lr: 0.011522  loss: 0.007478  eta: 0h3m  tot: 0h11m53s  (77.3%)\rEpoch: 86.8%  lr: 0.011522  loss: 0.007475  eta: 0h3m  tot: 0h11m53s  (77.4%)\rEpoch: 86.9%  lr: 0.011512  loss: 0.007472  eta: 0h3m  tot: 0h11m53s  (77.4%)\rEpoch: 87.0%  lr: 0.011502  loss: 0.007473  eta: 0h3m  tot: 0h11m53s  (77.4%)\rEpoch: 87.1%  lr: 0.011492  loss: 0.007469  eta: 0h3m  tot: 0h11m53s  (77.4%)\rEpoch: 87.1%  lr: 0.011482  loss: 0.007467  eta: 0h3m  tot: 0h11m53s  (77.4%)\rEpoch: 87.2%  lr: 0.011482  loss: 0.007465  eta: 0h3m  tot: 0h11m54s  (77.4%)\rEpoch: 87.3%  lr: 0.011482  loss: 0.007469  eta: 0h3m  tot: 0h11m54s  (77.5%)\rEpoch: 87.4%  lr: 0.011442  loss: 0.007477  eta: 0h3m  tot: 0h11m54s  (77.5%)\rEpoch: 87.5%  lr: 0.011432  loss: 0.007474  eta: 0h3m  tot: 0h11m54s  (77.5%)\rEpoch: 87.6%  lr: 0.011422  loss: 0.007473  eta: 0h3m  tot: 0h11m54s  (77.5%)\rEpoch: 87.7%  lr: 0.011392  loss: 0.007473  eta: 0h3m  tot: 0h11m54s  (77.5%)\rEpoch: 87.8%  lr: 0.011361  loss: 0.007471  eta: 0h3m  tot: 0h11m54s  (77.6%)\rEpoch: 87.9%  lr: 0.011351  loss: 0.007471  eta: 0h3m  tot: 0h11m55s  (77.6%)\rEpoch: 88.0%  lr: 0.011331  loss: 0.007467  eta: 0h3m  tot: 0h11m55s  (77.6%)\rEpoch: 88.0%  lr: 0.011331  loss: 0.007472  eta: 0h3m  tot: 0h11m55s  (77.6%)\rEpoch: 88.1%  lr: 0.011331  loss: 0.007470  eta: 0h3m  tot: 0h11m55s  (77.6%)\rEpoch: 88.2%  lr: 0.011321  loss: 0.007478  eta: 0h3m  tot: 0h11m55s  (77.6%)\rEpoch: 88.3%  lr: 0.011311  loss: 0.007477  eta: 0h3m  tot: 0h11m55s  (77.7%)\rEpoch: 88.4%  lr: 0.011311  loss: 0.007474  eta: 0h3m  tot: 0h11m56s  (77.7%)\rEpoch: 88.5%  lr: 0.011311  loss: 0.007471  eta: 0h3m  tot: 0h11m56s  (77.7%)\rEpoch: 88.6%  lr: 0.011311  loss: 0.007483  eta: 0h3m  tot: 0h11m56s  (77.7%)\rEpoch: 88.7%  lr: 0.011291  loss: 0.007489  eta: 0h3m  tot: 0h11m56s  (77.7%)\rEpoch: 88.8%  lr: 0.011271  loss: 0.007485  eta: 0h3m  tot: 0h11m56s  (77.8%)\rEpoch: 88.9%  lr: 0.011261  loss: 0.007490  eta: 0h3m  tot: 0h11m56s  (77.8%)\rEpoch: 88.9%  lr: 0.011251  loss: 0.007486  eta: 0h3m  tot: 0h11m57s  (77.8%)\rEpoch: 89.0%  lr: 0.011231  loss: 0.007485  eta: 0h3m  tot: 0h11m57s  (77.8%)\rEpoch: 89.1%  lr: 0.011231  loss: 0.007484  eta: 0h3m  tot: 0h11m57s  (77.8%)\rEpoch: 89.2%  lr: 0.011231  loss: 0.007489  eta: 0h3m  tot: 0h11m57s  (77.8%)\rEpoch: 89.3%  lr: 0.011201  loss: 0.007490  eta: 0h3m  tot: 0h11m57s  (77.9%)\rEpoch: 89.4%  lr: 0.011201  loss: 0.007487  eta: 0h3m  tot: 0h11m57s  (77.9%)\rEpoch: 89.5%  lr: 0.011191  loss: 0.007483  eta: 0h3m  tot: 0h11m57s  (77.9%)\rEpoch: 89.6%  lr: 0.011171  loss: 0.007481  eta: 0h3m  tot: 0h11m58s  (77.9%)\rEpoch: 89.7%  lr: 0.011171  loss: 0.007482  eta: 0h3m  tot: 0h11m58s  (77.9%)\rEpoch: 89.8%  lr: 0.011151  loss: 0.007479  eta: 0h3m  tot: 0h11m58s  (78.0%)\rEpoch: 89.8%  lr: 0.011151  loss: 0.007482  eta: 0h3m  tot: 0h11m58s  (78.0%)\rEpoch: 89.9%  lr: 0.011141  loss: 0.007482  eta: 0h3m  tot: 0h11m58s  (78.0%)\rEpoch: 90.0%  lr: 0.011131  loss: 0.007478  eta: 0h3m  tot: 0h11m58s  (78.0%)\rEpoch: 90.1%  lr: 0.011121  loss: 0.007486  eta: 0h3m  tot: 0h11m59s  (78.0%)\rEpoch: 90.2%  lr: 0.011111  loss: 0.007486  eta: 0h3m  tot: 0h11m59s  (78.0%)\rEpoch: 90.3%  lr: 0.011091  loss: 0.007484  eta: 0h3m  tot: 0h11m59s  (78.1%)\rEpoch: 90.4%  lr: 0.011071  loss: 0.007491  eta: 0h3m  tot: 0h11m59s  (78.1%)\rEpoch: 90.5%  lr: 0.011071  loss: 0.007492  eta: 0h3m  tot: 0h11m59s  (78.1%)\rEpoch: 90.6%  lr: 0.011071  loss: 0.007509  eta: 0h3m  tot: 0h11m59s  (78.1%)\rEpoch: 90.7%  lr: 0.011051  loss: 0.007504  eta: 0h3m  tot: 0h12m0s  (78.1%)\rEpoch: 90.7%  lr: 0.011051  loss: 0.007501  eta: 0h3m  tot: 0h12m0s  (78.1%)\rEpoch: 90.8%  lr: 0.011051  loss: 0.007508  eta: 0h3m  tot: 0h12m0s  (78.2%)\rEpoch: 90.9%  lr: 0.011031  loss: 0.007509  eta: 0h3m  tot: 0h12m0s  (78.2%)\rEpoch: 91.0%  lr: 0.011021  loss: 0.007506  eta: 0h3m  tot: 0h12m0s  (78.2%)\rEpoch: 91.1%  lr: 0.011001  loss: 0.007503  eta: 0h3m  tot: 0h12m0s  (78.2%)\rEpoch: 91.2%  lr: 0.010991  loss: 0.007506  eta: 0h3m  tot: 0h12m0s  (78.2%)\rEpoch: 91.3%  lr: 0.010981  loss: 0.007502  eta: 0h3m  tot: 0h12m1s  (78.3%)\rEpoch: 91.4%  lr: 0.010971  loss: 0.007501  eta: 0h3m  tot: 0h12m1s  (78.3%)\rEpoch: 91.5%  lr: 0.010941  loss: 0.007497  eta: 0h3m  tot: 0h12m1s  (78.3%)\rEpoch: 91.6%  lr: 0.010941  loss: 0.007496  eta: 0h3m  tot: 0h12m1s  (78.3%)\rEpoch: 91.6%  lr: 0.010931  loss: 0.007494  eta: 0h3m  tot: 0h12m1s  (78.3%)\rEpoch: 91.7%  lr: 0.010931  loss: 0.007493  eta: 0h3m  tot: 0h12m1s  (78.3%)\rEpoch: 91.8%  lr: 0.010911  loss: 0.007497  eta: 0h3m  tot: 0h12m2s  (78.4%)\rEpoch: 91.9%  lr: 0.010901  loss: 0.007496  eta: 0h3m  tot: 0h12m2s  (78.4%)\rEpoch: 92.0%  lr: 0.010891  loss: 0.007494  eta: 0h3m  tot: 0h12m2s  (78.4%)\rEpoch: 92.1%  lr: 0.010891  loss: 0.007498  eta: 0h3m  tot: 0h12m2s  (78.4%)\rEpoch: 92.2%  lr: 0.010881  loss: 0.007496  eta: 0h3m  tot: 0h12m2s  (78.4%)\rEpoch: 92.3%  lr: 0.010871  loss: 0.007493  eta: 0h3m  tot: 0h12m2s  (78.5%)\rEpoch: 92.4%  lr: 0.010871  loss: 0.007494  eta: 0h3m  tot: 0h12m3s  (78.5%)\rEpoch: 92.5%  lr: 0.010861  loss: 0.007489  eta: 0h3m  tot: 0h12m3s  (78.5%)\rEpoch: 92.5%  lr: 0.010861  loss: 0.007488  eta: 0h3m  tot: 0h12m3s  (78.5%)\rEpoch: 92.6%  lr: 0.010861  loss: 0.007484  eta: 0h3m  tot: 0h12m3s  (78.5%)\rEpoch: 92.7%  lr: 0.010861  loss: 0.007487  eta: 0h3m  tot: 0h12m3s  (78.5%)\rEpoch: 92.8%  lr: 0.010861  loss: 0.007483  eta: 0h3m  tot: 0h12m3s  (78.6%)\rEpoch: 92.9%  lr: 0.010831  loss: 0.007484  eta: 0h3m  tot: 0h12m4s  (78.6%)\rEpoch: 93.0%  lr: 0.010811  loss: 0.007488  eta: 0h3m  tot: 0h12m4s  (78.6%)\rEpoch: 93.1%  lr: 0.010801  loss: 0.007495  eta: 0h3m  tot: 0h12m4s  (78.6%)\rEpoch: 93.2%  lr: 0.010801  loss: 0.007494  eta: 0h3m  tot: 0h12m4s  (78.6%)\rEpoch: 93.3%  lr: 0.010801  loss: 0.007497  eta: 0h3m  tot: 0h12m4s  (78.7%)\rEpoch: 93.4%  lr: 0.010781  loss: 0.007495  eta: 0h3m  tot: 0h12m4s  (78.7%)\rEpoch: 93.4%  lr: 0.010761  loss: 0.007498  eta: 0h3m  tot: 0h12m5s  (78.7%)\rEpoch: 93.5%  lr: 0.010761  loss: 0.007496  eta: 0h3m  tot: 0h12m5s  (78.7%)\rEpoch: 93.6%  lr: 0.010741  loss: 0.007499  eta: 0h3m  tot: 0h12m5s  (78.7%)\rEpoch: 93.7%  lr: 0.010741  loss: 0.007496  eta: 0h3m  tot: 0h12m5s  (78.7%)\rEpoch: 93.8%  lr: 0.010741  loss: 0.007499  eta: 0h3m  tot: 0h12m5s  (78.8%)\rEpoch: 93.9%  lr: 0.010731  loss: 0.007498  eta: 0h3m  tot: 0h12m5s  (78.8%)\rEpoch: 94.0%  lr: 0.010731  loss: 0.007494  eta: 0h3m  tot: 0h12m5s  (78.8%)\rEpoch: 94.1%  lr: 0.010701  loss: 0.007491  eta: 0h3m  tot: 0h12m6s  (78.8%)\rEpoch: 94.2%  lr: 0.010701  loss: 0.007486  eta: 0h3m  tot: 0h12m6s  (78.8%)\rEpoch: 94.3%  lr: 0.010671  loss: 0.007483  eta: 0h3m  tot: 0h12m6s  (78.9%)\rEpoch: 94.3%  lr: 0.010661  loss: 0.007481  eta: 0h3m  tot: 0h12m6s  (78.9%)\rEpoch: 94.4%  lr: 0.010641  loss: 0.007488  eta: 0h3m  tot: 0h12m6s  (78.9%)\rEpoch: 94.5%  lr: 0.010641  loss: 0.007487  eta: 0h3m  tot: 0h12m6s  (78.9%)\rEpoch: 94.6%  lr: 0.010631  loss: 0.007492  eta: 0h3m  tot: 0h12m7s  (78.9%)\rEpoch: 94.7%  lr: 0.010621  loss: 0.007490  eta: 0h3m  tot: 0h12m7s  (78.9%)\rEpoch: 94.8%  lr: 0.010621  loss: 0.007488  eta: 0h3m  tot: 0h12m7s  (79.0%)\rEpoch: 94.9%  lr: 0.010621  loss: 0.007487  eta: 0h3m  tot: 0h12m7s  (79.0%)\rEpoch: 95.0%  lr: 0.010621  loss: 0.007493  eta: 0h3m  tot: 0h12m7s  (79.0%)\rEpoch: 95.1%  lr: 0.010611  loss: 0.007493  eta: 0h3m  tot: 0h12m7s  (79.0%)\rEpoch: 95.2%  lr: 0.010611  loss: 0.007492  eta: 0h3m  tot: 0h12m8s  (79.0%)\rEpoch: 95.2%  lr: 0.010591  loss: 0.007493  eta: 0h3m  tot: 0h12m8s  (79.0%)\rEpoch: 95.3%  lr: 0.010591  loss: 0.007492  eta: 0h3m  tot: 0h12m8s  (79.1%)\rEpoch: 95.4%  lr: 0.010591  loss: 0.007497  eta: 0h3m  tot: 0h12m8s  (79.1%)\rEpoch: 95.5%  lr: 0.010591  loss: 0.007496  eta: 0h3m  tot: 0h12m8s  (79.1%)\rEpoch: 95.6%  lr: 0.010561  loss: 0.007496  eta: 0h3m  tot: 0h12m8s  (79.1%)\rEpoch: 95.7%  lr: 0.010541  loss: 0.007495  eta: 0h3m  tot: 0h12m8s  (79.1%)\rEpoch: 95.8%  lr: 0.010511  loss: 0.007495  eta: 0h3m  tot: 0h12m9s  (79.2%)\rEpoch: 95.9%  lr: 0.010511  loss: 0.007492  eta: 0h3m  tot: 0h12m9s  (79.2%)\rEpoch: 96.0%  lr: 0.010511  loss: 0.007498  eta: 0h3m  tot: 0h12m9s  (79.2%)\rEpoch: 96.1%  lr: 0.010491  loss: 0.007499  eta: 0h3m  tot: 0h12m9s  (79.2%)\rEpoch: 96.1%  lr: 0.010481  loss: 0.007515  eta: 0h3m  tot: 0h12m9s  (79.2%)\rEpoch: 96.2%  lr: 0.010471  loss: 0.007517  eta: 0h3m  tot: 0h12m9s  (79.2%)\rEpoch: 96.3%  lr: 0.010451  loss: 0.007516  eta: 0h3m  tot: 0h12m10s  (79.3%)\rEpoch: 96.4%  lr: 0.010431  loss: 0.007522  eta: 0h3m  tot: 0h12m10s  (79.3%)\rEpoch: 96.5%  lr: 0.010431  loss: 0.007518  eta: 0h3m  tot: 0h12m10s  (79.3%)\rEpoch: 96.6%  lr: 0.010411  loss: 0.007514  eta: 0h3m  tot: 0h12m10s  (79.3%)\rEpoch: 96.7%  lr: 0.010401  loss: 0.007512  eta: 0h3m  tot: 0h12m10s  (79.3%)\rEpoch: 96.8%  lr: 0.010391  loss: 0.007515  eta: 0h3m  tot: 0h12m10s  (79.4%)\rEpoch: 96.9%  lr: 0.010371  loss: 0.007514  eta: 0h3m  tot: 0h12m11s  (79.4%)\rEpoch: 97.0%  lr: 0.010371  loss: 0.007515  eta: 0h3m  tot: 0h12m11s  (79.4%)\rEpoch: 97.0%  lr: 0.010361  loss: 0.007518  eta: 0h3m  tot: 0h12m11s  (79.4%)\rEpoch: 97.1%  lr: 0.010340  loss: 0.007517  eta: 0h3m  tot: 0h12m11s  (79.4%)\rEpoch: 97.2%  lr: 0.010330  loss: 0.007521  eta: 0h3m  tot: 0h12m11s  (79.4%)\rEpoch: 97.3%  lr: 0.010310  loss: 0.007517  eta: 0h3m  tot: 0h12m11s  (79.5%)\rEpoch: 97.4%  lr: 0.010310  loss: 0.007514  eta: 0h3m  tot: 0h12m11s  (79.5%)\rEpoch: 97.5%  lr: 0.010300  loss: 0.007509  eta: 0h3m  tot: 0h12m12s  (79.5%)\rEpoch: 97.6%  lr: 0.010290  loss: 0.007507  eta: 0h3m  tot: 0h12m12s  (79.5%)\rEpoch: 97.7%  lr: 0.010280  loss: 0.007510  eta: 0h3m  tot: 0h12m12s  (79.5%)\rEpoch: 97.8%  lr: 0.010270  loss: 0.007518  eta: 0h2m  tot: 0h12m12s  (79.6%)\rEpoch: 97.9%  lr: 0.010250  loss: 0.007517  eta: 0h2m  tot: 0h12m12s  (79.6%)\rEpoch: 97.9%  lr: 0.010240  loss: 0.007515  eta: 0h2m  tot: 0h12m12s  (79.6%)\rEpoch: 98.0%  lr: 0.010220  loss: 0.007512  eta: 0h2m  tot: 0h12m13s  (79.6%)\rEpoch: 98.1%  lr: 0.010210  loss: 0.007510  eta: 0h2m  tot: 0h12m13s  (79.6%)\rEpoch: 98.2%  lr: 0.010200  loss: 0.007508  eta: 0h2m  tot: 0h12m13s  (79.6%)\rEpoch: 98.3%  lr: 0.010190  loss: 0.007508  eta: 0h2m  tot: 0h12m13s  (79.7%)\rEpoch: 98.4%  lr: 0.010180  loss: 0.007505  eta: 0h2m  tot: 0h12m13s  (79.7%)\rEpoch: 98.5%  lr: 0.010170  loss: 0.007501  eta: 0h2m  tot: 0h12m13s  (79.7%)\rEpoch: 98.6%  lr: 0.010160  loss: 0.007500  eta: 0h2m  tot: 0h12m13s  (79.7%)\rEpoch: 98.7%  lr: 0.010150  loss: 0.007505  eta: 0h2m  tot: 0h12m14s  (79.7%)\rEpoch: 98.8%  lr: 0.010130  loss: 0.007504  eta: 0h2m  tot: 0h12m14s  (79.8%)\rEpoch: 98.8%  lr: 0.010120  loss: 0.007504  eta: 0h2m  tot: 0h12m14s  (79.8%)\rEpoch: 98.9%  lr: 0.010110  loss: 0.007500  eta: 0h2m  tot: 0h12m14s  (79.8%)\rEpoch: 99.0%  lr: 0.010100  loss: 0.007504  eta: 0h2m  tot: 0h12m14s  (79.8%)\rEpoch: 99.1%  lr: 0.010070  loss: 0.007501  eta: 0h2m  tot: 0h12m14s  (79.8%)\rEpoch: 99.2%  lr: 0.010070  loss: 0.007501  eta: 0h2m  tot: 0h12m15s  (79.8%)\rEpoch: 99.3%  lr: 0.010070  loss: 0.007498  eta: 0h2m  tot: 0h12m15s  (79.9%)\rEpoch: 99.4%  lr: 0.010060  loss: 0.007499  eta: 0h2m  tot: 0h12m15s  (79.9%)\rEpoch: 99.5%  lr: 0.010050  loss: 0.007500  eta: 0h2m  tot: 0h12m15s  (79.9%)\rEpoch: 99.6%  lr: 0.010040  loss: 0.007498  eta: 0h2m  tot: 0h12m15s  (79.9%)\rEpoch: 99.7%  lr: 0.010020  loss: 0.007497  eta: 0h2m  tot: 0h12m15s  (79.9%)\rEpoch: 99.7%  lr: 0.010010  loss: 0.007495  eta: 0h2m  tot: 0h12m15s  (79.9%)\rEpoch: 99.8%  lr: 0.010000  loss: 0.007493  eta: 0h2m  tot: 0h12m16s  (80.0%)\rEpoch: 99.9%  lr: 0.010000  loss: 0.007492  eta: 0h2m  tot: 0h12m16s  (80.0%)\rEpoch: 100.0%  lr: 0.010000  loss: 0.007488  eta: 0h2m  tot: 0h12m16s  (80.0%)\rEpoch: 0.1%  lr: 0.009980  loss: 0.004221  eta: 0h3m  tot: 0h12m16s  (80.0%)\rEpoch: 0.2%  lr: 0.009960  loss: 0.004460  eta: 0h3m  tot: 0h12m16s  (80.0%)\rEpoch: 0.3%  lr: 0.009960  loss: 0.004765  eta: 0h3m  tot: 0h12m16s  (80.1%)\rEpoch: 0.4%  lr: 0.009950  loss: 0.004293  eta: 0h3m  tot: 0h12m16s  (80.1%)\rEpoch: 0.4%  lr: 0.009950  loss: 0.004799  eta: 0h3m  tot: 0h12m17s  (80.1%)\rEpoch: 0.5%  lr: 0.009920  loss: 0.004809  eta: 0h3m  tot: 0h12m17s  (80.1%)\rEpoch: 0.6%  lr: 0.009910  loss: 0.005088  eta: 0h2m  tot: 0h12m17s  (80.1%)\rEpoch: 0.7%  lr: 0.009910  loss: 0.004798  eta: 0h2m  tot: 0h12m17s  (80.1%)\rEpoch: 0.8%  lr: 0.009900  loss: 0.004746  eta: 0h2m  tot: 0h12m17s  (80.2%)\rEpoch: 0.9%  lr: 0.009890  loss: 0.005249  eta: 0h2m  tot: 0h12m17s  (80.2%)\rEpoch: 1.0%  lr: 0.009880  loss: 0.005343  eta: 0h2m  tot: 0h12m18s  (80.2%)\rEpoch: 1.1%  lr: 0.009870  loss: 0.005753  eta: 0h2m  tot: 0h12m18s  (80.2%)\rEpoch: 1.2%  lr: 0.009870  loss: 0.006101  eta: 0h2m  tot: 0h12m18s  (80.2%)\rEpoch: 1.3%  lr: 0.009830  loss: 0.005844  eta: 0h2m  tot: 0h12m18s  (80.3%)\rEpoch: 1.3%  lr: 0.009820  loss: 0.005613  eta: 0h2m  tot: 0h12m18s  (80.3%)\rEpoch: 1.4%  lr: 0.009820  loss: 0.005668  eta: 0h2m  tot: 0h12m18s  (80.3%)\rEpoch: 1.5%  lr: 0.009800  loss: 0.005416  eta: 0h2m  tot: 0h12m18s  (80.3%)\rEpoch: 1.6%  lr: 0.009800  loss: 0.005672  eta: 0h2m  tot: 0h12m19s  (80.3%)\rEpoch: 1.7%  lr: 0.009790  loss: 0.006047  eta: 0h2m  tot: 0h12m19s  (80.3%)\rEpoch: 1.8%  lr: 0.009790  loss: 0.005992  eta: 0h2m  tot: 0h12m19s  (80.4%)\rEpoch: 1.9%  lr: 0.009790  loss: 0.006390  eta: 0h2m  tot: 0h12m19s  (80.4%)\rEpoch: 2.0%  lr: 0.009780  loss: 0.006284  eta: 0h2m  tot: 0h12m19s  (80.4%)\rEpoch: 2.1%  lr: 0.009780  loss: 0.006680  eta: 0h2m  tot: 0h12m19s  (80.4%)\rEpoch: 2.2%  lr: 0.009770  loss: 0.006750  eta: 0h2m  tot: 0h12m20s  (80.4%)\rEpoch: 2.2%  lr: 0.009750  loss: 0.006956  eta: 0h2m  tot: 0h12m20s  (80.4%)\rEpoch: 2.3%  lr: 0.009750  loss: 0.006752  eta: 0h2m  tot: 0h12m20s  (80.5%)\rEpoch: 2.4%  lr: 0.009740  loss: 0.006679  eta: 0h2m  tot: 0h12m20s  (80.5%)\rEpoch: 2.5%  lr: 0.009730  loss: 0.006536  eta: 0h2m  tot: 0h12m20s  (80.5%)\rEpoch: 2.6%  lr: 0.009710  loss: 0.006430  eta: 0h2m  tot: 0h12m20s  (80.5%)\rEpoch: 2.7%  lr: 0.009700  loss: 0.006305  eta: 0h2m  tot: 0h12m21s  (80.5%)\rEpoch: 2.8%  lr: 0.009680  loss: 0.006568  eta: 0h2m  tot: 0h12m21s  (80.6%)\rEpoch: 2.9%  lr: 0.009670  loss: 0.006540  eta: 0h2m  tot: 0h12m21s  (80.6%)\rEpoch: 3.0%  lr: 0.009660  loss: 0.006454  eta: 0h2m  tot: 0h12m21s  (80.6%)\rEpoch: 3.1%  lr: 0.009660  loss: 0.006402  eta: 0h2m  tot: 0h12m21s  (80.6%)\rEpoch: 3.1%  lr: 0.009650  loss: 0.006588  eta: 0h2m  tot: 0h12m21s  (80.6%)\rEpoch: 3.2%  lr: 0.009650  loss: 0.006504  eta: 0h2m  tot: 0h12m21s  (80.6%)\rEpoch: 3.3%  lr: 0.009650  loss: 0.006484  eta: 0h2m  tot: 0h12m22s  (80.7%)\rEpoch: 3.4%  lr: 0.009610  loss: 0.006450  eta: 0h2m  tot: 0h12m22s  (80.7%)\rEpoch: 3.5%  lr: 0.009600  loss: 0.006306  eta: 0h2m  tot: 0h12m22s  (80.7%)\rEpoch: 3.6%  lr: 0.009600  loss: 0.006223  eta: 0h2m  tot: 0h12m22s  (80.7%)\rEpoch: 3.7%  lr: 0.009560  loss: 0.006333  eta: 0h2m  tot: 0h12m22s  (80.7%)\rEpoch: 3.8%  lr: 0.009550  loss: 0.006537  eta: 0h2m  tot: 0h12m22s  (80.8%)\rEpoch: 3.9%  lr: 0.009530  loss: 0.006550  eta: 0h2m  tot: 0h12m23s  (80.8%)\rEpoch: 4.0%  lr: 0.009500  loss: 0.006593  eta: 0h2m  tot: 0h12m23s  (80.8%)\rEpoch: 4.1%  lr: 0.009500  loss: 0.006632  eta: 0h2m  tot: 0h12m23s  (80.8%)\rEpoch: 4.1%  lr: 0.009489  loss: 0.006570  eta: 0h2m  tot: 0h12m23s  (80.8%)\rEpoch: 4.2%  lr: 0.009479  loss: 0.006542  eta: 0h2m  tot: 0h12m23s  (80.8%)\rEpoch: 4.3%  lr: 0.009469  loss: 0.006518  eta: 0h2m  tot: 0h12m23s  (80.9%)\rEpoch: 4.4%  lr: 0.009459  loss: 0.006603  eta: 0h2m  tot: 0h12m24s  (80.9%)\rEpoch: 4.5%  lr: 0.009459  loss: 0.006541  eta: 0h2m  tot: 0h12m24s  (80.9%)\rEpoch: 4.6%  lr: 0.009459  loss: 0.006613  eta: 0h2m  tot: 0h12m24s  (80.9%)\rEpoch: 4.7%  lr: 0.009449  loss: 0.006505  eta: 0h2m  tot: 0h12m24s  (80.9%)\rEpoch: 4.8%  lr: 0.009439  loss: 0.006476  eta: 0h2m  tot: 0h12m24s  (81.0%)\rEpoch: 4.9%  lr: 0.009429  loss: 0.006435  eta: 0h2m  tot: 0h12m24s  (81.0%)\rEpoch: 5.0%  lr: 0.009419  loss: 0.006385  eta: 0h2m  tot: 0h12m24s  (81.0%)\rEpoch: 5.0%  lr: 0.009409  loss: 0.006365  eta: 0h2m  tot: 0h12m25s  (81.0%)\rEpoch: 5.1%  lr: 0.009399  loss: 0.006459  eta: 0h2m  tot: 0h12m25s  (81.0%)\rEpoch: 5.2%  lr: 0.009389  loss: 0.006430  eta: 0h2m  tot: 0h12m25s  (81.0%)\rEpoch: 5.3%  lr: 0.009369  loss: 0.006441  eta: 0h2m  tot: 0h12m25s  (81.1%)\rEpoch: 5.4%  lr: 0.009369  loss: 0.006476  eta: 0h2m  tot: 0h12m25s  (81.1%)\rEpoch: 5.5%  lr: 0.009359  loss: 0.006523  eta: 0h2m  tot: 0h12m25s  (81.1%)\rEpoch: 5.6%  lr: 0.009349  loss: 0.006498  eta: 0h2m  tot: 0h12m26s  (81.1%)\rEpoch: 5.7%  lr: 0.009329  loss: 0.006603  eta: 0h2m  tot: 0h12m26s  (81.1%)\rEpoch: 5.8%  lr: 0.009329  loss: 0.006593  eta: 0h2m  tot: 0h12m26s  (81.2%)\rEpoch: 5.9%  lr: 0.009309  loss: 0.006546  eta: 0h2m  tot: 0h12m26s  (81.2%)\rEpoch: 5.9%  lr: 0.009289  loss: 0.006505  eta: 0h2m  tot: 0h12m26s  (81.2%)\rEpoch: 6.0%  lr: 0.009289  loss: 0.006515  eta: 0h2m  tot: 0h12m26s  (81.2%)\rEpoch: 6.1%  lr: 0.009289  loss: 0.006533  eta: 0h2m  tot: 0h12m26s  (81.2%)\rEpoch: 6.2%  lr: 0.009269  loss: 0.006571  eta: 0h2m  tot: 0h12m27s  (81.2%)\rEpoch: 6.3%  lr: 0.009269  loss: 0.006592  eta: 0h2m  tot: 0h12m27s  (81.3%)\rEpoch: 6.4%  lr: 0.009259  loss: 0.006548  eta: 0h2m  tot: 0h12m27s  (81.3%)\rEpoch: 6.5%  lr: 0.009259  loss: 0.006536  eta: 0h2m  tot: 0h12m27s  (81.3%)\rEpoch: 6.6%  lr: 0.009249  loss: 0.006466  eta: 0h2m  tot: 0h12m27s  (81.3%)\rEpoch: 6.7%  lr: 0.009249  loss: 0.006396  eta: 0h2m  tot: 0h12m27s  (81.3%)\rEpoch: 6.8%  lr: 0.009239  loss: 0.006391  eta: 0h2m  tot: 0h12m27s  (81.4%)\rEpoch: 6.8%  lr: 0.009239  loss: 0.006409  eta: 0h2m  tot: 0h12m28s  (81.4%)\rEpoch: 6.9%  lr: 0.009239  loss: 0.006416  eta: 0h2m  tot: 0h12m28s  (81.4%)\rEpoch: 7.0%  lr: 0.009229  loss: 0.006352  eta: 0h2m  tot: 0h12m28s  (81.4%)\rEpoch: 7.1%  lr: 0.009229  loss: 0.006388  eta: 0h2m  tot: 0h12m28s  (81.4%)\rEpoch: 7.2%  lr: 0.009229  loss: 0.006509  eta: 0h2m  tot: 0h12m28s  (81.4%)\rEpoch: 7.3%  lr: 0.009229  loss: 0.006470  eta: 0h2m  tot: 0h12m28s  (81.5%)\rEpoch: 7.4%  lr: 0.009199  loss: 0.006442  eta: 0h2m  tot: 0h12m29s  (81.5%)\rEpoch: 7.5%  lr: 0.009159  loss: 0.006451  eta: 0h2m  tot: 0h12m29s  (81.5%)\rEpoch: 7.6%  lr: 0.009149  loss: 0.006420  eta: 0h2m  tot: 0h12m29s  (81.5%)\rEpoch: 7.7%  lr: 0.009149  loss: 0.006452  eta: 0h2m  tot: 0h12m29s  (81.5%)\rEpoch: 7.7%  lr: 0.009139  loss: 0.006409  eta: 0h2m  tot: 0h12m29s  (81.5%)\rEpoch: 7.8%  lr: 0.009129  loss: 0.006370  eta: 0h2m  tot: 0h12m29s  (81.6%)\rEpoch: 7.9%  lr: 0.009119  loss: 0.006342  eta: 0h2m  tot: 0h12m30s  (81.6%)\rEpoch: 8.0%  lr: 0.009109  loss: 0.006312  eta: 0h2m  tot: 0h12m30s  (81.6%)\rEpoch: 8.1%  lr: 0.009099  loss: 0.006346  eta: 0h2m  tot: 0h12m30s  (81.6%)\rEpoch: 8.2%  lr: 0.009099  loss: 0.006436  eta: 0h2m  tot: 0h12m30s  (81.6%)\rEpoch: 8.3%  lr: 0.009089  loss: 0.006467  eta: 0h2m  tot: 0h12m30s  (81.7%)\rEpoch: 8.4%  lr: 0.009079  loss: 0.006504  eta: 0h2m  tot: 0h12m30s  (81.7%)\rEpoch: 8.5%  lr: 0.009069  loss: 0.006515  eta: 0h2m  tot: 0h12m30s  (81.7%)\rEpoch: 8.6%  lr: 0.009069  loss: 0.006480  eta: 0h2m  tot: 0h12m31s  (81.7%)\rEpoch: 8.6%  lr: 0.009069  loss: 0.006442  eta: 0h2m  tot: 0h12m31s  (81.7%)\rEpoch: 8.7%  lr: 0.009059  loss: 0.006432  eta: 0h2m  tot: 0h12m31s  (81.7%)\rEpoch: 8.8%  lr: 0.009049  loss: 0.006476  eta: 0h2m  tot: 0h12m31s  (81.8%)\rEpoch: 8.9%  lr: 0.009029  loss: 0.006480  eta: 0h2m  tot: 0h12m31s  (81.8%)\rEpoch: 9.0%  lr: 0.009019  loss: 0.006444  eta: 0h2m  tot: 0h12m31s  (81.8%)\rEpoch: 9.1%  lr: 0.009009  loss: 0.006482  eta: 0h2m  tot: 0h12m32s  (81.8%)\rEpoch: 9.2%  lr: 0.009009  loss: 0.006489  eta: 0h2m  tot: 0h12m32s  (81.8%)\rEpoch: 9.3%  lr: 0.008999  loss: 0.006592  eta: 0h2m  tot: 0h12m32s  (81.9%)\rEpoch: 9.4%  lr: 0.008989  loss: 0.006549  eta: 0h2m  tot: 0h12m32s  (81.9%)\rEpoch: 9.5%  lr: 0.008989  loss: 0.006539  eta: 0h2m  tot: 0h12m32s  (81.9%)\rEpoch: 9.5%  lr: 0.008979  loss: 0.006543  eta: 0h2m  tot: 0h12m32s  (81.9%)\rEpoch: 9.6%  lr: 0.008979  loss: 0.006548  eta: 0h2m  tot: 0h12m32s  (81.9%)\rEpoch: 9.7%  lr: 0.008979  loss: 0.006632  eta: 0h2m  tot: 0h12m33s  (81.9%)\rEpoch: 9.8%  lr: 0.008959  loss: 0.006708  eta: 0h2m  tot: 0h12m33s  (82.0%)\rEpoch: 9.9%  lr: 0.008959  loss: 0.006682  eta: 0h2m  tot: 0h12m33s  (82.0%)\rEpoch: 10.0%  lr: 0.008959  loss: 0.006654  eta: 0h2m  tot: 0h12m33s  (82.0%)\rEpoch: 10.1%  lr: 0.008959  loss: 0.006651  eta: 0h2m  tot: 0h12m33s  (82.0%)\rEpoch: 10.2%  lr: 0.008939  loss: 0.006642  eta: 0h2m  tot: 0h12m33s  (82.0%)\rEpoch: 10.3%  lr: 0.008939  loss: 0.006648  eta: 0h2m  tot: 0h12m34s  (82.1%)\rEpoch: 10.4%  lr: 0.008939  loss: 0.006622  eta: 0h2m  tot: 0h12m34s  (82.1%)\rEpoch: 10.4%  lr: 0.008939  loss: 0.006608  eta: 0h2m  tot: 0h12m34s  (82.1%)\rEpoch: 10.5%  lr: 0.008939  loss: 0.006573  eta: 0h2m  tot: 0h12m34s  (82.1%)\rEpoch: 10.6%  lr: 0.008929  loss: 0.006579  eta: 0h2m  tot: 0h12m34s  (82.1%)\rEpoch: 10.7%  lr: 0.008929  loss: 0.006544  eta: 0h2m  tot: 0h12m34s  (82.1%)\rEpoch: 10.8%  lr: 0.008929  loss: 0.006516  eta: 0h2m  tot: 0h12m34s  (82.2%)\rEpoch: 10.9%  lr: 0.008919  loss: 0.006499  eta: 0h2m  tot: 0h12m35s  (82.2%)\rEpoch: 11.0%  lr: 0.008919  loss: 0.006477  eta: 0h2m  tot: 0h12m35s  (82.2%)\rEpoch: 11.1%  lr: 0.008919  loss: 0.006475  eta: 0h2m  tot: 0h12m35s  (82.2%)\rEpoch: 11.2%  lr: 0.008909  loss: 0.006454  eta: 0h2m  tot: 0h12m35s  (82.2%)\rEpoch: 11.3%  lr: 0.008899  loss: 0.006448  eta: 0h2m  tot: 0h12m35s  (82.3%)\rEpoch: 11.3%  lr: 0.008889  loss: 0.006509  eta: 0h2m  tot: 0h12m35s  (82.3%)\rEpoch: 11.4%  lr: 0.008879  loss: 0.006511  eta: 0h2m  tot: 0h12m36s  (82.3%)\rEpoch: 11.5%  lr: 0.008869  loss: 0.006517  eta: 0h2m  tot: 0h12m36s  (82.3%)\rEpoch: 11.6%  lr: 0.008869  loss: 0.006532  eta: 0h2m  tot: 0h12m36s  (82.3%)\rEpoch: 11.7%  lr: 0.008869  loss: 0.006525  eta: 0h2m  tot: 0h12m36s  (82.3%)\rEpoch: 11.8%  lr: 0.008869  loss: 0.006515  eta: 0h2m  tot: 0h12m36s  (82.4%)\rEpoch: 11.9%  lr: 0.008869  loss: 0.006528  eta: 0h2m  tot: 0h12m36s  (82.4%)\rEpoch: 12.0%  lr: 0.008859  loss: 0.006531  eta: 0h2m  tot: 0h12m37s  (82.4%)\rEpoch: 12.1%  lr: 0.008859  loss: 0.006500  eta: 0h2m  tot: 0h12m37s  (82.4%)\rEpoch: 12.2%  lr: 0.008839  loss: 0.006490  eta: 0h2m  tot: 0h12m37s  (82.4%)\rEpoch: 12.2%  lr: 0.008829  loss: 0.006448  eta: 0h2m  tot: 0h12m37s  (82.4%)\rEpoch: 12.3%  lr: 0.008819  loss: 0.006474  eta: 0h2m  tot: 0h12m37s  (82.5%)\rEpoch: 12.4%  lr: 0.008819  loss: 0.006467  eta: 0h2m  tot: 0h12m37s  (82.5%)\rEpoch: 12.5%  lr: 0.008819  loss: 0.006483  eta: 0h2m  tot: 0h12m38s  (82.5%)\rEpoch: 12.6%  lr: 0.008789  loss: 0.006513  eta: 0h2m  tot: 0h12m38s  (82.5%)\rEpoch: 12.7%  lr: 0.008749  loss: 0.006503  eta: 0h2m  tot: 0h12m38s  (82.5%)\rEpoch: 12.8%  lr: 0.008719  loss: 0.006485  eta: 0h2m  tot: 0h12m38s  (82.6%)\rEpoch: 12.9%  lr: 0.008709  loss: 0.006472  eta: 0h2m  tot: 0h12m38s  (82.6%)\rEpoch: 13.0%  lr: 0.008689  loss: 0.006451  eta: 0h2m  tot: 0h12m38s  (82.6%)\rEpoch: 13.1%  lr: 0.008679  loss: 0.006432  eta: 0h2m  tot: 0h12m38s  (82.6%)\rEpoch: 13.1%  lr: 0.008679  loss: 0.006454  eta: 0h2m  tot: 0h12m39s  (82.6%)\rEpoch: 13.2%  lr: 0.008679  loss: 0.006448  eta: 0h2m  tot: 0h12m39s  (82.6%)\rEpoch: 13.3%  lr: 0.008669  loss: 0.006427  eta: 0h2m  tot: 0h12m39s  (82.7%)\rEpoch: 13.4%  lr: 0.008659  loss: 0.006470  eta: 0h2m  tot: 0h12m39s  (82.7%)\rEpoch: 13.5%  lr: 0.008659  loss: 0.006463  eta: 0h2m  tot: 0h12m39s  (82.7%)\rEpoch: 13.6%  lr: 0.008649  loss: 0.006498  eta: 0h2m  tot: 0h12m39s  (82.7%)\rEpoch: 13.7%  lr: 0.008649  loss: 0.006490  eta: 0h2m  tot: 0h12m40s  (82.7%)\rEpoch: 13.8%  lr: 0.008639  loss: 0.006488  eta: 0h2m  tot: 0h12m40s  (82.8%)\rEpoch: 13.9%  lr: 0.008629  loss: 0.006486  eta: 0h2m  tot: 0h12m40s  (82.8%)\rEpoch: 14.0%  lr: 0.008619  loss: 0.006480  eta: 0h2m  tot: 0h12m40s  (82.8%)\rEpoch: 14.0%  lr: 0.008619  loss: 0.006523  eta: 0h2m  tot: 0h12m40s  (82.8%)\rEpoch: 14.1%  lr: 0.008619  loss: 0.006511  eta: 0h2m  tot: 0h12m40s  (82.8%)\rEpoch: 14.2%  lr: 0.008619  loss: 0.006507  eta: 0h2m  tot: 0h12m40s  (82.8%)\rEpoch: 14.3%  lr: 0.008609  loss: 0.006490  eta: 0h2m  tot: 0h12m41s  (82.9%)\rEpoch: 14.4%  lr: 0.008609  loss: 0.006508  eta: 0h2m  tot: 0h12m41s  (82.9%)\rEpoch: 14.5%  lr: 0.008609  loss: 0.006515  eta: 0h2m  tot: 0h12m41s  (82.9%)\rEpoch: 14.6%  lr: 0.008609  loss: 0.006552  eta: 0h2m  tot: 0h12m41s  (82.9%)\rEpoch: 14.7%  lr: 0.008609  loss: 0.006554  eta: 0h2m  tot: 0h12m41s  (82.9%)\rEpoch: 14.8%  lr: 0.008589  loss: 0.006576  eta: 0h2m  tot: 0h12m41s  (83.0%)\rEpoch: 14.9%  lr: 0.008579  loss: 0.006577  eta: 0h2m  tot: 0h12m42s  (83.0%)\rEpoch: 14.9%  lr: 0.008579  loss: 0.006575  eta: 0h2m  tot: 0h12m42s  (83.0%)\rEpoch: 15.0%  lr: 0.008579  loss: 0.006545  eta: 0h2m  tot: 0h12m42s  (83.0%)\rEpoch: 15.1%  lr: 0.008579  loss: 0.006544  eta: 0h2m  tot: 0h12m42s  (83.0%)\rEpoch: 15.2%  lr: 0.008579  loss: 0.006563  eta: 0h2m  tot: 0h12m42s  (83.0%)\rEpoch: 15.3%  lr: 0.008569  loss: 0.006562  eta: 0h2m  tot: 0h12m42s  (83.1%)\rEpoch: 15.4%  lr: 0.008549  loss: 0.006609  eta: 0h2m  tot: 0h12m43s  (83.1%)\rEpoch: 15.5%  lr: 0.008539  loss: 0.006589  eta: 0h2m  tot: 0h12m43s  (83.1%)\rEpoch: 15.6%  lr: 0.008529  loss: 0.006575  eta: 0h2m  tot: 0h12m43s  (83.1%)\rEpoch: 15.7%  lr: 0.008529  loss: 0.006563  eta: 0h2m  tot: 0h12m43s  (83.1%)\rEpoch: 15.8%  lr: 0.008529  loss: 0.006550  eta: 0h2m  tot: 0h12m43s  (83.2%)\rEpoch: 15.8%  lr: 0.008499  loss: 0.006563  eta: 0h2m  tot: 0h12m43s  (83.2%)\rEpoch: 15.9%  lr: 0.008499  loss: 0.006572  eta: 0h2m  tot: 0h12m44s  (83.2%)\rEpoch: 16.0%  lr: 0.008479  loss: 0.006575  eta: 0h2m  tot: 0h12m44s  (83.2%)\rEpoch: 16.1%  lr: 0.008479  loss: 0.006568  eta: 0h2m  tot: 0h12m44s  (83.2%)\rEpoch: 16.2%  lr: 0.008458  loss: 0.006559  eta: 0h2m  tot: 0h12m44s  (83.2%)\rEpoch: 16.3%  lr: 0.008458  loss: 0.006565  eta: 0h2m  tot: 0h12m44s  (83.3%)\rEpoch: 16.4%  lr: 0.008458  loss: 0.006556  eta: 0h2m  tot: 0h12m44s  (83.3%)\rEpoch: 16.5%  lr: 0.008458  loss: 0.006539  eta: 0h2m  tot: 0h12m45s  (83.3%)\rEpoch: 16.6%  lr: 0.008448  loss: 0.006557  eta: 0h2m  tot: 0h12m45s  (83.3%)\rEpoch: 16.7%  lr: 0.008438  loss: 0.006546  eta: 0h2m  tot: 0h12m45s  (83.3%)\rEpoch: 16.7%  lr: 0.008418  loss: 0.006540  eta: 0h2m  tot: 0h12m45s  (83.3%)\rEpoch: 16.8%  lr: 0.008408  loss: 0.006541  eta: 0h2m  tot: 0h12m45s  (83.4%)\rEpoch: 16.9%  lr: 0.008408  loss: 0.006561  eta: 0h2m  tot: 0h12m45s  (83.4%)\rEpoch: 17.0%  lr: 0.008408  loss: 0.006560  eta: 0h2m  tot: 0h12m45s  (83.4%)\rEpoch: 17.1%  lr: 0.008388  loss: 0.006560  eta: 0h2m  tot: 0h12m46s  (83.4%)\rEpoch: 17.2%  lr: 0.008368  loss: 0.006562  eta: 0h2m  tot: 0h12m46s  (83.4%)\rEpoch: 17.3%  lr: 0.008358  loss: 0.006540  eta: 0h2m  tot: 0h12m46s  (83.5%)\rEpoch: 17.4%  lr: 0.008328  loss: 0.006569  eta: 0h2m  tot: 0h12m46s  (83.5%)\rEpoch: 17.5%  lr: 0.008318  loss: 0.006590  eta: 0h2m  tot: 0h12m46s  (83.5%)\rEpoch: 17.6%  lr: 0.008308  loss: 0.006610  eta: 0h2m  tot: 0h12m46s  (83.5%)\rEpoch: 17.6%  lr: 0.008298  loss: 0.006609  eta: 0h2m  tot: 0h12m47s  (83.5%)\rEpoch: 17.7%  lr: 0.008288  loss: 0.006609  eta: 0h2m  tot: 0h12m47s  (83.5%)\rEpoch: 17.8%  lr: 0.008278  loss: 0.006595  eta: 0h2m  tot: 0h12m47s  (83.6%)\rEpoch: 17.9%  lr: 0.008278  loss: 0.006623  eta: 0h2m  tot: 0h12m47s  (83.6%)\rEpoch: 18.0%  lr: 0.008268  loss: 0.006619  eta: 0h2m  tot: 0h12m47s  (83.6%)\rEpoch: 18.1%  lr: 0.008268  loss: 0.006607  eta: 0h2m  tot: 0h12m47s  (83.6%)\rEpoch: 18.2%  lr: 0.008268  loss: 0.006599  eta: 0h2m  tot: 0h12m47s  (83.6%)\rEpoch: 18.3%  lr: 0.008248  loss: 0.006569  eta: 0h2m  tot: 0h12m48s  (83.7%)\rEpoch: 18.4%  lr: 0.008248  loss: 0.006572  eta: 0h2m  tot: 0h12m48s  (83.7%)\rEpoch: 18.5%  lr: 0.008238  loss: 0.006550  eta: 0h2m  tot: 0h12m48s  (83.7%)\rEpoch: 18.5%  lr: 0.008228  loss: 0.006556  eta: 0h2m  tot: 0h12m48s  (83.7%)\rEpoch: 18.6%  lr: 0.008228  loss: 0.006552  eta: 0h2m  tot: 0h12m48s  (83.7%)\rEpoch: 18.7%  lr: 0.008228  loss: 0.006579  eta: 0h2m  tot: 0h12m48s  (83.7%)\rEpoch: 18.8%  lr: 0.008218  loss: 0.006561  eta: 0h2m  tot: 0h12m49s  (83.8%)\rEpoch: 18.9%  lr: 0.008218  loss: 0.006541  eta: 0h2m  tot: 0h12m49s  (83.8%)\rEpoch: 19.0%  lr: 0.008208  loss: 0.006521  eta: 0h2m  tot: 0h12m49s  (83.8%)\rEpoch: 19.1%  lr: 0.008208  loss: 0.006530  eta: 0h2m  tot: 0h12m49s  (83.8%)\rEpoch: 19.2%  lr: 0.008208  loss: 0.006533  eta: 0h2m  tot: 0h12m49s  (83.8%)\rEpoch: 19.3%  lr: 0.008208  loss: 0.006528  eta: 0h2m  tot: 0h12m49s  (83.9%)\rEpoch: 19.4%  lr: 0.008208  loss: 0.006575  eta: 0h2m  tot: 0h12m50s  (83.9%)\rEpoch: 19.4%  lr: 0.008198  loss: 0.006576  eta: 0h2m  tot: 0h12m50s  (83.9%)\rEpoch: 19.5%  lr: 0.008198  loss: 0.006599  eta: 0h2m  tot: 0h12m50s  (83.9%)\rEpoch: 19.6%  lr: 0.008198  loss: 0.006592  eta: 0h2m  tot: 0h12m50s  (83.9%)\rEpoch: 19.7%  lr: 0.008198  loss: 0.006578  eta: 0h2m  tot: 0h12m50s  (83.9%)\rEpoch: 19.8%  lr: 0.008198  loss: 0.006580  eta: 0h2m  tot: 0h12m50s  (84.0%)\rEpoch: 19.9%  lr: 0.008178  loss: 0.006589  eta: 0h2m  tot: 0h12m51s  (84.0%)\rEpoch: 20.0%  lr: 0.008158  loss: 0.006579  eta: 0h2m  tot: 0h12m51s  (84.0%)\rEpoch: 20.1%  lr: 0.008158  loss: 0.006585  eta: 0h2m  tot: 0h12m51s  (84.0%)\rEpoch: 20.2%  lr: 0.008138  loss: 0.006585  eta: 0h2m  tot: 0h12m51s  (84.0%)\rEpoch: 20.3%  lr: 0.008118  loss: 0.006653  eta: 0h2m  tot: 0h12m51s  (84.1%)\rEpoch: 20.3%  lr: 0.008118  loss: 0.006658  eta: 0h2m  tot: 0h12m51s  (84.1%)\rEpoch: 20.4%  lr: 0.008108  loss: 0.006646  eta: 0h2m  tot: 0h12m51s  (84.1%)\rEpoch: 20.5%  lr: 0.008108  loss: 0.006649  eta: 0h2m  tot: 0h12m52s  (84.1%)\rEpoch: 20.6%  lr: 0.008098  loss: 0.006631  eta: 0h2m  tot: 0h12m52s  (84.1%)\rEpoch: 20.7%  lr: 0.008098  loss: 0.006622  eta: 0h2m  tot: 0h12m52s  (84.1%)\rEpoch: 20.8%  lr: 0.008078  loss: 0.006598  eta: 0h2m  tot: 0h12m52s  (84.2%)\rEpoch: 20.9%  lr: 0.008048  loss: 0.006603  eta: 0h2m  tot: 0h12m52s  (84.2%)\rEpoch: 21.0%  lr: 0.008048  loss: 0.006621  eta: 0h2m  tot: 0h12m52s  (84.2%)\rEpoch: 21.1%  lr: 0.008028  loss: 0.006609  eta: 0h2m  tot: 0h12m53s  (84.2%)\rEpoch: 21.2%  lr: 0.008018  loss: 0.006631  eta: 0h2m  tot: 0h12m53s  (84.2%)\rEpoch: 21.2%  lr: 0.008018  loss: 0.006623  eta: 0h2m  tot: 0h12m53s  (84.2%)\rEpoch: 21.3%  lr: 0.008018  loss: 0.006624  eta: 0h2m  tot: 0h12m53s  (84.3%)\rEpoch: 21.4%  lr: 0.008008  loss: 0.006678  eta: 0h2m  tot: 0h12m53s  (84.3%)\rEpoch: 21.5%  lr: 0.008008  loss: 0.006704  eta: 0h2m  tot: 0h12m53s  (84.3%)\rEpoch: 21.6%  lr: 0.007998  loss: 0.006705  eta: 0h2m  tot: 0h12m54s  (84.3%)\rEpoch: 21.7%  lr: 0.007978  loss: 0.006715  eta: 0h2m  tot: 0h12m54s  (84.3%)\rEpoch: 21.8%  lr: 0.007968  loss: 0.006707  eta: 0h2m  tot: 0h12m54s  (84.4%)\rEpoch: 21.9%  lr: 0.007968  loss: 0.006706  eta: 0h2m  tot: 0h12m54s  (84.4%)\rEpoch: 22.0%  lr: 0.007958  loss: 0.006704  eta: 0h2m  tot: 0h12m54s  (84.4%)\rEpoch: 22.1%  lr: 0.007958  loss: 0.006704  eta: 0h2m  tot: 0h12m54s  (84.4%)\rEpoch: 22.1%  lr: 0.007948  loss: 0.006693  eta: 0h2m  tot: 0h12m54s  (84.4%)\rEpoch: 22.2%  lr: 0.007928  loss: 0.006697  eta: 0h2m  tot: 0h12m55s  (84.4%)\rEpoch: 22.3%  lr: 0.007918  loss: 0.006677  eta: 0h2m  tot: 0h12m55s  (84.5%)\rEpoch: 22.4%  lr: 0.007918  loss: 0.006670  eta: 0h2m  tot: 0h12m55s  (84.5%)\rEpoch: 22.5%  lr: 0.007888  loss: 0.006678  eta: 0h2m  tot: 0h12m55s  (84.5%)\rEpoch: 22.6%  lr: 0.007878  loss: 0.006681  eta: 0h2m  tot: 0h12m55s  (84.5%)\rEpoch: 22.7%  lr: 0.007838  loss: 0.006692  eta: 0h2m  tot: 0h12m56s  (84.5%)\rEpoch: 22.8%  lr: 0.007828  loss: 0.006692  eta: 0h2m  tot: 0h12m56s  (84.6%)\rEpoch: 22.9%  lr: 0.007818  loss: 0.006696  eta: 0h2m  tot: 0h12m56s  (84.6%)\rEpoch: 23.0%  lr: 0.007808  loss: 0.006703  eta: 0h2m  tot: 0h12m56s  (84.6%)\rEpoch: 23.0%  lr: 0.007808  loss: 0.006702  eta: 0h2m  tot: 0h12m56s  (84.6%)\rEpoch: 23.1%  lr: 0.007798  loss: 0.006693  eta: 0h2m  tot: 0h12m56s  (84.6%)\rEpoch: 23.2%  lr: 0.007768  loss: 0.006693  eta: 0h2m  tot: 0h12m56s  (84.6%)\rEpoch: 23.3%  lr: 0.007768  loss: 0.006687  eta: 0h2m  tot: 0h12m57s  (84.7%)\rEpoch: 23.4%  lr: 0.007768  loss: 0.006704  eta: 0h2m  tot: 0h12m57s  (84.7%)\rEpoch: 23.5%  lr: 0.007758  loss: 0.006689  eta: 0h2m  tot: 0h12m57s  (84.7%)\rEpoch: 23.6%  lr: 0.007758  loss: 0.006676  eta: 0h2m  tot: 0h12m57s  (84.7%)\rEpoch: 23.7%  lr: 0.007748  loss: 0.006678  eta: 0h2m  tot: 0h12m57s  (84.7%)\rEpoch: 23.8%  lr: 0.007738  loss: 0.006662  eta: 0h2m  tot: 0h12m57s  (84.8%)\rEpoch: 23.9%  lr: 0.007738  loss: 0.006669  eta: 0h2m  tot: 0h12m58s  (84.8%)\rEpoch: 23.9%  lr: 0.007738  loss: 0.006655  eta: 0h2m  tot: 0h12m58s  (84.8%)\rEpoch: 24.0%  lr: 0.007728  loss: 0.006688  eta: 0h2m  tot: 0h12m58s  (84.8%)\rEpoch: 24.1%  lr: 0.007718  loss: 0.006680  eta: 0h2m  tot: 0h12m58s  (84.8%)\rEpoch: 24.2%  lr: 0.007718  loss: 0.006674  eta: 0h2m  tot: 0h12m58s  (84.8%)\rEpoch: 24.3%  lr: 0.007708  loss: 0.006667  eta: 0h2m  tot: 0h12m58s  (84.9%)\rEpoch: 24.4%  lr: 0.007698  loss: 0.006661  eta: 0h2m  tot: 0h12m59s  (84.9%)\rEpoch: 24.5%  lr: 0.007678  loss: 0.006650  eta: 0h2m  tot: 0h12m59s  (84.9%)\rEpoch: 24.6%  lr: 0.007678  loss: 0.006640  eta: 0h2m  tot: 0h12m59s  (84.9%)\rEpoch: 24.7%  lr: 0.007668  loss: 0.006631  eta: 0h2m  tot: 0h12m59s  (84.9%)\rEpoch: 24.8%  lr: 0.007668  loss: 0.006634  eta: 0h2m  tot: 0h12m59s  (85.0%)\rEpoch: 24.8%  lr: 0.007668  loss: 0.006646  eta: 0h2m  tot: 0h12m59s  (85.0%)\rEpoch: 24.9%  lr: 0.007648  loss: 0.006635  eta: 0h2m  tot: 0h12m59s  (85.0%)\rEpoch: 25.0%  lr: 0.007648  loss: 0.006637  eta: 0h2m  tot: 0h13m0s  (85.0%)\rEpoch: 25.1%  lr: 0.007638  loss: 0.006629  eta: 0h2m  tot: 0h13m0s  (85.0%)\rEpoch: 25.2%  lr: 0.007628  loss: 0.006624  eta: 0h2m  tot: 0h13m0s  (85.0%)\rEpoch: 25.3%  lr: 0.007628  loss: 0.006623  eta: 0h2m  tot: 0h13m0s  (85.1%)\rEpoch: 25.4%  lr: 0.007618  loss: 0.006625  eta: 0h2m  tot: 0h13m0s  (85.1%)\rEpoch: 25.5%  lr: 0.007608  loss: 0.006621  eta: 0h2m  tot: 0h13m0s  (85.1%)\rEpoch: 25.6%  lr: 0.007608  loss: 0.006647  eta: 0h2m  tot: 0h13m1s  (85.1%)\rEpoch: 25.7%  lr: 0.007608  loss: 0.006644  eta: 0h2m  tot: 0h13m1s  (85.1%)\rEpoch: 25.7%  lr: 0.007598  loss: 0.006626  eta: 0h2m  tot: 0h13m1s  (85.1%)\rEpoch: 25.8%  lr: 0.007598  loss: 0.006652  eta: 0h2m  tot: 0h13m1s  (85.2%)\rEpoch: 25.9%  lr: 0.007578  loss: 0.006653  eta: 0h2m  tot: 0h13m1s  (85.2%)\rEpoch: 26.0%  lr: 0.007568  loss: 0.006636  eta: 0h2m  tot: 0h13m1s  (85.2%)\rEpoch: 26.1%  lr: 0.007558  loss: 0.006628  eta: 0h2m  tot: 0h13m1s  (85.2%)\rEpoch: 26.2%  lr: 0.007558  loss: 0.006621  eta: 0h2m  tot: 0h13m2s  (85.2%)\rEpoch: 26.3%  lr: 0.007558  loss: 0.006619  eta: 0h2m  tot: 0h13m2s  (85.3%)\rEpoch: 26.4%  lr: 0.007558  loss: 0.006638  eta: 0h2m  tot: 0h13m2s  (85.3%)\rEpoch: 26.5%  lr: 0.007538  loss: 0.006641  eta: 0h2m  tot: 0h13m2s  (85.3%)\rEpoch: 26.6%  lr: 0.007528  loss: 0.006663  eta: 0h2m  tot: 0h13m2s  (85.3%)\rEpoch: 26.6%  lr: 0.007528  loss: 0.006671  eta: 0h2m  tot: 0h13m2s  (85.3%)\rEpoch: 26.7%  lr: 0.007508  loss: 0.006664  eta: 0h2m  tot: 0h13m3s  (85.3%)\rEpoch: 26.8%  lr: 0.007488  loss: 0.006665  eta: 0h2m  tot: 0h13m3s  (85.4%)\rEpoch: 26.9%  lr: 0.007478  loss: 0.006671  eta: 0h2m  tot: 0h13m3s  (85.4%)\rEpoch: 27.0%  lr: 0.007468  loss: 0.006691  eta: 0h2m  tot: 0h13m3s  (85.4%)\rEpoch: 27.1%  lr: 0.007468  loss: 0.006690  eta: 0h2m  tot: 0h13m3s  (85.4%)\rEpoch: 27.2%  lr: 0.007468  loss: 0.006703  eta: 0h2m  tot: 0h13m3s  (85.4%)\rEpoch: 27.3%  lr: 0.007457  loss: 0.006700  eta: 0h2m  tot: 0h13m4s  (85.5%)\rEpoch: 27.4%  lr: 0.007457  loss: 0.006695  eta: 0h2m  tot: 0h13m4s  (85.5%)\rEpoch: 27.5%  lr: 0.007437  loss: 0.006694  eta: 0h2m  tot: 0h13m4s  (85.5%)\rEpoch: 27.5%  lr: 0.007437  loss: 0.006688  eta: 0h2m  tot: 0h13m4s  (85.5%)\rEpoch: 27.6%  lr: 0.007437  loss: 0.006686  eta: 0h2m  tot: 0h13m4s  (85.5%)\rEpoch: 27.7%  lr: 0.007417  loss: 0.006678  eta: 0h2m  tot: 0h13m4s  (85.5%)\rEpoch: 27.8%  lr: 0.007407  loss: 0.006688  eta: 0h2m  tot: 0h13m4s  (85.6%)\rEpoch: 27.9%  lr: 0.007387  loss: 0.006682  eta: 0h2m  tot: 0h13m5s  (85.6%)\rEpoch: 28.0%  lr: 0.007357  loss: 0.006697  eta: 0h2m  tot: 0h13m5s  (85.6%)\rEpoch: 28.1%  lr: 0.007357  loss: 0.006688  eta: 0h2m  tot: 0h13m5s  (85.6%)\rEpoch: 28.2%  lr: 0.007357  loss: 0.006689  eta: 0h2m  tot: 0h13m5s  (85.6%)\rEpoch: 28.3%  lr: 0.007347  loss: 0.006685  eta: 0h2m  tot: 0h13m5s  (85.7%)\rEpoch: 28.4%  lr: 0.007337  loss: 0.006676  eta: 0h2m  tot: 0h13m5s  (85.7%)\rEpoch: 28.4%  lr: 0.007337  loss: 0.006671  eta: 0h2m  tot: 0h13m6s  (85.7%)\rEpoch: 28.5%  lr: 0.007337  loss: 0.006668  eta: 0h2m  tot: 0h13m6s  (85.7%)\rEpoch: 28.6%  lr: 0.007327  loss: 0.006688  eta: 0h2m  tot: 0h13m6s  (85.7%)\rEpoch: 28.7%  lr: 0.007317  loss: 0.006684  eta: 0h2m  tot: 0h13m6s  (85.7%)\rEpoch: 28.8%  lr: 0.007317  loss: 0.006673  eta: 0h2m  tot: 0h13m6s  (85.8%)\rEpoch: 28.9%  lr: 0.007297  loss: 0.006667  eta: 0h2m  tot: 0h13m6s  (85.8%)\rEpoch: 29.0%  lr: 0.007297  loss: 0.006661  eta: 0h2m  tot: 0h13m6s  (85.8%)\rEpoch: 29.1%  lr: 0.007287  loss: 0.006659  eta: 0h2m  tot: 0h13m7s  (85.8%)\rEpoch: 29.2%  lr: 0.007267  loss: 0.006664  eta: 0h2m  tot: 0h13m7s  (85.8%)\rEpoch: 29.3%  lr: 0.007267  loss: 0.006652  eta: 0h2m  tot: 0h13m7s  (85.9%)\rEpoch: 29.3%  lr: 0.007267  loss: 0.006660  eta: 0h2m  tot: 0h13m7s  (85.9%)\rEpoch: 29.4%  lr: 0.007267  loss: 0.006653  eta: 0h2m  tot: 0h13m7s  (85.9%)\rEpoch: 29.5%  lr: 0.007267  loss: 0.006664  eta: 0h2m  tot: 0h13m7s  (85.9%)\rEpoch: 29.6%  lr: 0.007267  loss: 0.006657  eta: 0h2m  tot: 0h13m8s  (85.9%)\rEpoch: 29.7%  lr: 0.007267  loss: 0.006656  eta: 0h2m  tot: 0h13m8s  (85.9%)\rEpoch: 29.8%  lr: 0.007247  loss: 0.006645  eta: 0h2m  tot: 0h13m8s  (86.0%)\rEpoch: 29.9%  lr: 0.007237  loss: 0.006631  eta: 0h2m  tot: 0h13m8s  (86.0%)\rEpoch: 30.0%  lr: 0.007227  loss: 0.006636  eta: 0h2m  tot: 0h13m8s  (86.0%)\rEpoch: 30.1%  lr: 0.007217  loss: 0.006630  eta: 0h2m  tot: 0h13m8s  (86.0%)\rEpoch: 30.2%  lr: 0.007217  loss: 0.006630  eta: 0h2m  tot: 0h13m8s  (86.0%)\rEpoch: 30.2%  lr: 0.007217  loss: 0.006638  eta: 0h2m  tot: 0h13m9s  (86.0%)\rEpoch: 30.3%  lr: 0.007207  loss: 0.006628  eta: 0h2m  tot: 0h13m9s  (86.1%)\rEpoch: 30.4%  lr: 0.007187  loss: 0.006628  eta: 0h2m  tot: 0h13m9s  (86.1%)\rEpoch: 30.5%  lr: 0.007177  loss: 0.006672  eta: 0h2m  tot: 0h13m9s  (86.1%)\rEpoch: 30.6%  lr: 0.007177  loss: 0.006673  eta: 0h2m  tot: 0h13m9s  (86.1%)\rEpoch: 30.7%  lr: 0.007177  loss: 0.006686  eta: 0h2m  tot: 0h13m9s  (86.1%)\rEpoch: 30.8%  lr: 0.007167  loss: 0.006698  eta: 0h2m  tot: 0h13m10s  (86.2%)\rEpoch: 30.9%  lr: 0.007167  loss: 0.006698  eta: 0h2m  tot: 0h13m10s  (86.2%)\rEpoch: 31.0%  lr: 0.007167  loss: 0.006716  eta: 0h2m  tot: 0h13m10s  (86.2%)\rEpoch: 31.1%  lr: 0.007157  loss: 0.006698  eta: 0h2m  tot: 0h13m10s  (86.2%)\rEpoch: 31.1%  lr: 0.007147  loss: 0.006695  eta: 0h2m  tot: 0h13m10s  (86.2%)\rEpoch: 31.2%  lr: 0.007147  loss: 0.006687  eta: 0h2m  tot: 0h13m10s  (86.2%)\rEpoch: 31.3%  lr: 0.007137  loss: 0.006683  eta: 0h2m  tot: 0h13m11s  (86.3%)\rEpoch: 31.4%  lr: 0.007107  loss: 0.006673  eta: 0h1m  tot: 0h13m11s  (86.3%)\rEpoch: 31.5%  lr: 0.007107  loss: 0.006662  eta: 0h1m  tot: 0h13m11s  (86.3%)\rEpoch: 31.6%  lr: 0.007087  loss: 0.006657  eta: 0h1m  tot: 0h13m11s  (86.3%)\rEpoch: 31.7%  lr: 0.007077  loss: 0.006652  eta: 0h1m  tot: 0h13m11s  (86.3%)\rEpoch: 31.8%  lr: 0.007057  loss: 0.006644  eta: 0h1m  tot: 0h13m11s  (86.4%)\rEpoch: 31.9%  lr: 0.007047  loss: 0.006644  eta: 0h1m  tot: 0h13m12s  (86.4%)\rEpoch: 32.0%  lr: 0.007017  loss: 0.006638  eta: 0h1m  tot: 0h13m12s  (86.4%)\rEpoch: 32.0%  lr: 0.007007  loss: 0.006630  eta: 0h1m  tot: 0h13m12s  (86.4%)\rEpoch: 32.1%  lr: 0.007007  loss: 0.006623  eta: 0h1m  tot: 0h13m12s  (86.4%)\rEpoch: 32.2%  lr: 0.007007  loss: 0.006630  eta: 0h1m  tot: 0h13m12s  (86.4%)\rEpoch: 32.3%  lr: 0.006987  loss: 0.006650  eta: 0h1m  tot: 0h13m12s  (86.5%)\rEpoch: 32.4%  lr: 0.006977  loss: 0.006639  eta: 0h1m  tot: 0h13m12s  (86.5%)\rEpoch: 32.5%  lr: 0.006977  loss: 0.006646  eta: 0h1m  tot: 0h13m13s  (86.5%)\rEpoch: 32.6%  lr: 0.006967  loss: 0.006663  eta: 0h1m  tot: 0h13m13s  (86.5%)\rEpoch: 32.7%  lr: 0.006957  loss: 0.006671  eta: 0h1m  tot: 0h13m13s  (86.5%)\rEpoch: 32.8%  lr: 0.006957  loss: 0.006666  eta: 0h1m  tot: 0h13m13s  (86.6%)\rEpoch: 32.9%  lr: 0.006947  loss: 0.006685  eta: 0h1m  tot: 0h13m13s  (86.6%)\rEpoch: 32.9%  lr: 0.006937  loss: 0.006689  eta: 0h1m  tot: 0h13m13s  (86.6%)\rEpoch: 33.0%  lr: 0.006927  loss: 0.006681  eta: 0h1m  tot: 0h13m14s  (86.6%)\rEpoch: 33.1%  lr: 0.006917  loss: 0.006684  eta: 0h1m  tot: 0h13m14s  (86.6%)\rEpoch: 33.2%  lr: 0.006907  loss: 0.006690  eta: 0h1m  tot: 0h13m14s  (86.6%)\rEpoch: 33.3%  lr: 0.006907  loss: 0.006702  eta: 0h1m  tot: 0h13m14s  (86.7%)\rEpoch: 33.4%  lr: 0.006907  loss: 0.006714  eta: 0h1m  tot: 0h13m14s  (86.7%)\rEpoch: 33.5%  lr: 0.006907  loss: 0.006708  eta: 0h1m  tot: 0h13m14s  (86.7%)\rEpoch: 33.6%  lr: 0.006897  loss: 0.006726  eta: 0h1m  tot: 0h13m15s  (86.7%)\rEpoch: 33.7%  lr: 0.006867  loss: 0.006744  eta: 0h1m  tot: 0h13m15s  (86.7%)\rEpoch: 33.8%  lr: 0.006857  loss: 0.006740  eta: 0h1m  tot: 0h13m15s  (86.8%)\rEpoch: 33.8%  lr: 0.006847  loss: 0.006745  eta: 0h1m  tot: 0h13m15s  (86.8%)\rEpoch: 33.9%  lr: 0.006847  loss: 0.006758  eta: 0h1m  tot: 0h13m15s  (86.8%)\rEpoch: 34.0%  lr: 0.006847  loss: 0.006747  eta: 0h1m  tot: 0h13m15s  (86.8%)\rEpoch: 34.1%  lr: 0.006837  loss: 0.006736  eta: 0h1m  tot: 0h13m15s  (86.8%)\rEpoch: 34.2%  lr: 0.006827  loss: 0.006729  eta: 0h1m  tot: 0h13m16s  (86.8%)\rEpoch: 34.3%  lr: 0.006827  loss: 0.006725  eta: 0h1m  tot: 0h13m16s  (86.9%)\rEpoch: 34.4%  lr: 0.006827  loss: 0.006722  eta: 0h1m  tot: 0h13m16s  (86.9%)\rEpoch: 34.5%  lr: 0.006827  loss: 0.006714  eta: 0h1m  tot: 0h13m16s  (86.9%)\rEpoch: 34.6%  lr: 0.006817  loss: 0.006712  eta: 0h1m  tot: 0h13m16s  (86.9%)\rEpoch: 34.7%  lr: 0.006787  loss: 0.006717  eta: 0h1m  tot: 0h13m16s  (86.9%)\rEpoch: 34.7%  lr: 0.006777  loss: 0.006717  eta: 0h1m  tot: 0h13m17s  (86.9%)\rEpoch: 34.8%  lr: 0.006767  loss: 0.006711  eta: 0h1m  tot: 0h13m17s  (87.0%)\rEpoch: 34.9%  lr: 0.006757  loss: 0.006703  eta: 0h1m  tot: 0h13m17s  (87.0%)\rEpoch: 35.0%  lr: 0.006747  loss: 0.006710  eta: 0h1m  tot: 0h13m17s  (87.0%)\rEpoch: 35.1%  lr: 0.006737  loss: 0.006731  eta: 0h1m  tot: 0h13m17s  (87.0%)\rEpoch: 35.2%  lr: 0.006717  loss: 0.006726  eta: 0h1m  tot: 0h13m17s  (87.0%)\rEpoch: 35.3%  lr: 0.006717  loss: 0.006731  eta: 0h1m  tot: 0h13m18s  (87.1%)\rEpoch: 35.4%  lr: 0.006697  loss: 0.006722  eta: 0h1m  tot: 0h13m18s  (87.1%)\rEpoch: 35.5%  lr: 0.006697  loss: 0.006727  eta: 0h1m  tot: 0h13m18s  (87.1%)\rEpoch: 35.6%  lr: 0.006667  loss: 0.006714  eta: 0h1m  tot: 0h13m18s  (87.1%)\rEpoch: 35.6%  lr: 0.006667  loss: 0.006722  eta: 0h1m  tot: 0h13m18s  (87.1%)\rEpoch: 35.7%  lr: 0.006667  loss: 0.006730  eta: 0h1m  tot: 0h13m18s  (87.1%)\rEpoch: 35.8%  lr: 0.006667  loss: 0.006725  eta: 0h1m  tot: 0h13m19s  (87.2%)\rEpoch: 35.9%  lr: 0.006647  loss: 0.006719  eta: 0h1m  tot: 0h13m19s  (87.2%)\rEpoch: 36.0%  lr: 0.006647  loss: 0.006726  eta: 0h1m  tot: 0h13m19s  (87.2%)\rEpoch: 36.1%  lr: 0.006647  loss: 0.006732  eta: 0h1m  tot: 0h13m19s  (87.2%)\rEpoch: 36.2%  lr: 0.006647  loss: 0.006736  eta: 0h1m  tot: 0h13m19s  (87.2%)\rEpoch: 36.3%  lr: 0.006637  loss: 0.006763  eta: 0h1m  tot: 0h13m19s  (87.3%)\rEpoch: 36.4%  lr: 0.006627  loss: 0.006755  eta: 0h1m  tot: 0h13m20s  (87.3%)\rEpoch: 36.5%  lr: 0.006627  loss: 0.006760  eta: 0h1m  tot: 0h13m20s  (87.3%)\rEpoch: 36.5%  lr: 0.006617  loss: 0.006756  eta: 0h1m  tot: 0h13m20s  (87.3%)\rEpoch: 36.6%  lr: 0.006607  loss: 0.006764  eta: 0h1m  tot: 0h13m20s  (87.3%)\rEpoch: 36.7%  lr: 0.006597  loss: 0.006759  eta: 0h1m  tot: 0h13m20s  (87.3%)\rEpoch: 36.8%  lr: 0.006597  loss: 0.006752  eta: 0h1m  tot: 0h13m20s  (87.4%)\rEpoch: 36.9%  lr: 0.006587  loss: 0.006751  eta: 0h1m  tot: 0h13m20s  (87.4%)\rEpoch: 37.0%  lr: 0.006577  loss: 0.006744  eta: 0h1m  tot: 0h13m21s  (87.4%)\rEpoch: 37.1%  lr: 0.006567  loss: 0.006745  eta: 0h1m  tot: 0h13m21s  (87.4%)\rEpoch: 37.2%  lr: 0.006557  loss: 0.006766  eta: 0h1m  tot: 0h13m21s  (87.4%)\rEpoch: 37.3%  lr: 0.006557  loss: 0.006763  eta: 0h1m  tot: 0h13m21s  (87.5%)\rEpoch: 37.4%  lr: 0.006557  loss: 0.006782  eta: 0h1m  tot: 0h13m21s  (87.5%)\rEpoch: 37.4%  lr: 0.006547  loss: 0.006776  eta: 0h1m  tot: 0h13m21s  (87.5%)\rEpoch: 37.5%  lr: 0.006537  loss: 0.006774  eta: 0h1m  tot: 0h13m21s  (87.5%)\rEpoch: 37.6%  lr: 0.006527  loss: 0.006780  eta: 0h1m  tot: 0h13m22s  (87.5%)\rEpoch: 37.7%  lr: 0.006527  loss: 0.006820  eta: 0h1m  tot: 0h13m22s  (87.5%)\rEpoch: 37.8%  lr: 0.006507  loss: 0.006823  eta: 0h1m  tot: 0h13m22s  (87.6%)\rEpoch: 37.9%  lr: 0.006497  loss: 0.006823  eta: 0h1m  tot: 0h13m22s  (87.6%)\rEpoch: 38.0%  lr: 0.006487  loss: 0.006822  eta: 0h1m  tot: 0h13m22s  (87.6%)\rEpoch: 38.1%  lr: 0.006477  loss: 0.006818  eta: 0h1m  tot: 0h13m22s  (87.6%)\rEpoch: 38.2%  lr: 0.006467  loss: 0.006817  eta: 0h1m  tot: 0h13m23s  (87.6%)\rEpoch: 38.3%  lr: 0.006447  loss: 0.006819  eta: 0h1m  tot: 0h13m23s  (87.7%)\rEpoch: 38.3%  lr: 0.006447  loss: 0.006813  eta: 0h1m  tot: 0h13m23s  (87.7%)\rEpoch: 38.4%  lr: 0.006436  loss: 0.006805  eta: 0h1m  tot: 0h13m23s  (87.7%)\rEpoch: 38.5%  lr: 0.006436  loss: 0.006801  eta: 0h1m  tot: 0h13m23s  (87.7%)\rEpoch: 38.6%  lr: 0.006416  loss: 0.006791  eta: 0h1m  tot: 0h13m23s  (87.7%)\rEpoch: 38.7%  lr: 0.006406  loss: 0.006789  eta: 0h1m  tot: 0h13m23s  (87.7%)\rEpoch: 38.8%  lr: 0.006406  loss: 0.006796  eta: 0h1m  tot: 0h13m24s  (87.8%)\rEpoch: 38.9%  lr: 0.006386  loss: 0.006796  eta: 0h1m  tot: 0h13m24s  (87.8%)\rEpoch: 39.0%  lr: 0.006386  loss: 0.006804  eta: 0h1m  tot: 0h13m24s  (87.8%)\rEpoch: 39.1%  lr: 0.006376  loss: 0.006798  eta: 0h1m  tot: 0h13m24s  (87.8%)\rEpoch: 39.2%  lr: 0.006366  loss: 0.006794  eta: 0h1m  tot: 0h13m24s  (87.8%)\rEpoch: 39.2%  lr: 0.006366  loss: 0.006799  eta: 0h1m  tot: 0h13m24s  (87.8%)\rEpoch: 39.3%  lr: 0.006366  loss: 0.006806  eta: 0h1m  tot: 0h13m25s  (87.9%)\rEpoch: 39.4%  lr: 0.006346  loss: 0.006809  eta: 0h1m  tot: 0h13m25s  (87.9%)\rEpoch: 39.5%  lr: 0.006346  loss: 0.006811  eta: 0h1m  tot: 0h13m25s  (87.9%)\rEpoch: 39.6%  lr: 0.006336  loss: 0.006824  eta: 0h1m  tot: 0h13m25s  (87.9%)\rEpoch: 39.7%  lr: 0.006326  loss: 0.006818  eta: 0h1m  tot: 0h13m25s  (87.9%)\rEpoch: 39.8%  lr: 0.006326  loss: 0.006816  eta: 0h1m  tot: 0h13m25s  (88.0%)\rEpoch: 39.9%  lr: 0.006296  loss: 0.006815  eta: 0h1m  tot: 0h13m26s  (88.0%)\rEpoch: 40.0%  lr: 0.006286  loss: 0.006828  eta: 0h1m  tot: 0h13m26s  (88.0%)\rEpoch: 40.1%  lr: 0.006276  loss: 0.006827  eta: 0h1m  tot: 0h13m26s  (88.0%)\rEpoch: 40.1%  lr: 0.006266  loss: 0.006826  eta: 0h1m  tot: 0h13m26s  (88.0%)\rEpoch: 40.2%  lr: 0.006256  loss: 0.006822  eta: 0h1m  tot: 0h13m26s  (88.0%)\rEpoch: 40.3%  lr: 0.006246  loss: 0.006834  eta: 0h1m  tot: 0h13m26s  (88.1%)\rEpoch: 40.4%  lr: 0.006236  loss: 0.006833  eta: 0h1m  tot: 0h13m26s  (88.1%)\rEpoch: 40.5%  lr: 0.006216  loss: 0.006832  eta: 0h1m  tot: 0h13m27s  (88.1%)\rEpoch: 40.6%  lr: 0.006206  loss: 0.006838  eta: 0h1m  tot: 0h13m27s  (88.1%)\rEpoch: 40.7%  lr: 0.006206  loss: 0.006841  eta: 0h1m  tot: 0h13m27s  (88.1%)\rEpoch: 40.8%  lr: 0.006206  loss: 0.006856  eta: 0h1m  tot: 0h13m27s  (88.2%)\rEpoch: 40.9%  lr: 0.006196  loss: 0.006862  eta: 0h1m  tot: 0h13m27s  (88.2%)\rEpoch: 41.0%  lr: 0.006196  loss: 0.006855  eta: 0h1m  tot: 0h13m27s  (88.2%)\rEpoch: 41.0%  lr: 0.006196  loss: 0.006858  eta: 0h1m  tot: 0h13m28s  (88.2%)\rEpoch: 41.1%  lr: 0.006186  loss: 0.006850  eta: 0h1m  tot: 0h13m28s  (88.2%)\rEpoch: 41.2%  lr: 0.006176  loss: 0.006849  eta: 0h1m  tot: 0h13m28s  (88.2%)\rEpoch: 41.3%  lr: 0.006156  loss: 0.006851  eta: 0h1m  tot: 0h13m28s  (88.3%)\rEpoch: 41.4%  lr: 0.006146  loss: 0.006849  eta: 0h1m  tot: 0h13m28s  (88.3%)\rEpoch: 41.5%  lr: 0.006126  loss: 0.006843  eta: 0h1m  tot: 0h13m28s  (88.3%)\rEpoch: 41.6%  lr: 0.006106  loss: 0.006836  eta: 0h1m  tot: 0h13m28s  (88.3%)\rEpoch: 41.7%  lr: 0.006086  loss: 0.006849  eta: 0h1m  tot: 0h13m29s  (88.3%)\rEpoch: 41.8%  lr: 0.006066  loss: 0.006841  eta: 0h1m  tot: 0h13m29s  (88.4%)\rEpoch: 41.9%  lr: 0.006066  loss: 0.006837  eta: 0h1m  tot: 0h13m29s  (88.4%)\rEpoch: 42.0%  lr: 0.006066  loss: 0.006844  eta: 0h1m  tot: 0h13m29s  (88.4%)\rEpoch: 42.0%  lr: 0.006066  loss: 0.006839  eta: 0h1m  tot: 0h13m29s  (88.4%)\rEpoch: 42.1%  lr: 0.006056  loss: 0.006830  eta: 0h1m  tot: 0h13m29s  (88.4%)\rEpoch: 42.2%  lr: 0.006026  loss: 0.006822  eta: 0h1m  tot: 0h13m30s  (88.4%)\rEpoch: 42.3%  lr: 0.006016  loss: 0.006815  eta: 0h1m  tot: 0h13m30s  (88.5%)\rEpoch: 42.4%  lr: 0.005996  loss: 0.006820  eta: 0h1m  tot: 0h13m30s  (88.5%)\rEpoch: 42.5%  lr: 0.005986  loss: 0.006824  eta: 0h1m  tot: 0h13m30s  (88.5%)\rEpoch: 42.6%  lr: 0.005986  loss: 0.006836  eta: 0h1m  tot: 0h13m30s  (88.5%)\rEpoch: 42.7%  lr: 0.005986  loss: 0.006831  eta: 0h1m  tot: 0h13m30s  (88.5%)\rEpoch: 42.8%  lr: 0.005966  loss: 0.006824  eta: 0h1m  tot: 0h13m31s  (88.6%)\rEpoch: 42.9%  lr: 0.005956  loss: 0.006834  eta: 0h1m  tot: 0h13m31s  (88.6%)\rEpoch: 42.9%  lr: 0.005946  loss: 0.006832  eta: 0h1m  tot: 0h13m31s  (88.6%)\rEpoch: 43.0%  lr: 0.005916  loss: 0.006824  eta: 0h1m  tot: 0h13m31s  (88.6%)\rEpoch: 43.1%  lr: 0.005906  loss: 0.006840  eta: 0h1m  tot: 0h13m31s  (88.6%)\rEpoch: 43.2%  lr: 0.005886  loss: 0.006840  eta: 0h1m  tot: 0h13m31s  (88.6%)\rEpoch: 43.3%  lr: 0.005876  loss: 0.006838  eta: 0h1m  tot: 0h13m32s  (88.7%)\rEpoch: 43.4%  lr: 0.005876  loss: 0.006837  eta: 0h1m  tot: 0h13m32s  (88.7%)\rEpoch: 43.5%  lr: 0.005876  loss: 0.006840  eta: 0h1m  tot: 0h13m32s  (88.7%)\rEpoch: 43.6%  lr: 0.005846  loss: 0.006833  eta: 0h1m  tot: 0h13m32s  (88.7%)\rEpoch: 43.7%  lr: 0.005836  loss: 0.006832  eta: 0h1m  tot: 0h13m32s  (88.7%)\rEpoch: 43.8%  lr: 0.005826  loss: 0.006854  eta: 0h1m  tot: 0h13m32s  (88.8%)\rEpoch: 43.8%  lr: 0.005816  loss: 0.006862  eta: 0h1m  tot: 0h13m32s  (88.8%)\rEpoch: 43.9%  lr: 0.005796  loss: 0.006859  eta: 0h1m  tot: 0h13m33s  (88.8%)\rEpoch: 44.0%  lr: 0.005786  loss: 0.006854  eta: 0h1m  tot: 0h13m33s  (88.8%)\rEpoch: 44.1%  lr: 0.005786  loss: 0.006854  eta: 0h1m  tot: 0h13m33s  (88.8%)\rEpoch: 44.2%  lr: 0.005786  loss: 0.006847  eta: 0h1m  tot: 0h13m33s  (88.8%)\rEpoch: 44.3%  lr: 0.005786  loss: 0.006848  eta: 0h1m  tot: 0h13m33s  (88.9%)\rEpoch: 44.4%  lr: 0.005756  loss: 0.006844  eta: 0h1m  tot: 0h13m33s  (88.9%)\rEpoch: 44.5%  lr: 0.005736  loss: 0.006834  eta: 0h1m  tot: 0h13m34s  (88.9%)\rEpoch: 44.6%  lr: 0.005726  loss: 0.006828  eta: 0h1m  tot: 0h13m34s  (88.9%)\rEpoch: 44.7%  lr: 0.005726  loss: 0.006825  eta: 0h1m  tot: 0h13m34s  (88.9%)\rEpoch: 44.7%  lr: 0.005726  loss: 0.006838  eta: 0h1m  tot: 0h13m34s  (88.9%)\rEpoch: 44.8%  lr: 0.005726  loss: 0.006836  eta: 0h1m  tot: 0h13m34s  (89.0%)\rEpoch: 44.9%  lr: 0.005716  loss: 0.006829  eta: 0h1m  tot: 0h13m34s  (89.0%)\rEpoch: 45.0%  lr: 0.005696  loss: 0.006834  eta: 0h1m  tot: 0h13m35s  (89.0%)\rEpoch: 45.1%  lr: 0.005696  loss: 0.006837  eta: 0h1m  tot: 0h13m35s  (89.0%)\rEpoch: 45.2%  lr: 0.005686  loss: 0.006829  eta: 0h1m  tot: 0h13m35s  (89.0%)\rEpoch: 45.3%  lr: 0.005676  loss: 0.006824  eta: 0h1m  tot: 0h13m35s  (89.1%)\rEpoch: 45.4%  lr: 0.005676  loss: 0.006836  eta: 0h1m  tot: 0h13m35s  (89.1%)\rEpoch: 45.5%  lr: 0.005636  loss: 0.006839  eta: 0h1m  tot: 0h13m35s  (89.1%)\rEpoch: 45.6%  lr: 0.005636  loss: 0.006833  eta: 0h1m  tot: 0h13m36s  (89.1%)\rEpoch: 45.6%  lr: 0.005616  loss: 0.006837  eta: 0h1m  tot: 0h13m36s  (89.1%)\rEpoch: 45.7%  lr: 0.005606  loss: 0.006835  eta: 0h1m  tot: 0h13m36s  (89.1%)\rEpoch: 45.8%  lr: 0.005606  loss: 0.006849  eta: 0h1m  tot: 0h13m36s  (89.2%)\rEpoch: 45.9%  lr: 0.005596  loss: 0.006842  eta: 0h1m  tot: 0h13m36s  (89.2%)\rEpoch: 46.0%  lr: 0.005596  loss: 0.006846  eta: 0h1m  tot: 0h13m36s  (89.2%)\rEpoch: 46.1%  lr: 0.005596  loss: 0.006846  eta: 0h1m  tot: 0h13m36s  (89.2%)\rEpoch: 46.2%  lr: 0.005586  loss: 0.006843  eta: 0h1m  tot: 0h13m37s  (89.2%)\rEpoch: 46.3%  lr: 0.005586  loss: 0.006847  eta: 0h1m  tot: 0h13m37s  (89.3%)\rEpoch: 46.4%  lr: 0.005586  loss: 0.006847  eta: 0h1m  tot: 0h13m37s  (89.3%)\rEpoch: 46.5%  lr: 0.005556  loss: 0.006854  eta: 0h1m  tot: 0h13m37s  (89.3%)\rEpoch: 46.5%  lr: 0.005556  loss: 0.006854  eta: 0h1m  tot: 0h13m37s  (89.3%)\rEpoch: 46.6%  lr: 0.005536  loss: 0.006855  eta: 0h1m  tot: 0h13m37s  (89.3%)\rEpoch: 46.7%  lr: 0.005536  loss: 0.006852  eta: 0h1m  tot: 0h13m38s  (89.3%)\rEpoch: 46.8%  lr: 0.005526  loss: 0.006858  eta: 0h1m  tot: 0h13m38s  (89.4%)\rEpoch: 46.9%  lr: 0.005526  loss: 0.006849  eta: 0h1m  tot: 0h13m38s  (89.4%)\rEpoch: 47.0%  lr: 0.005526  loss: 0.006852  eta: 0h1m  tot: 0h13m38s  (89.4%)\rEpoch: 47.1%  lr: 0.005526  loss: 0.006847  eta: 0h1m  tot: 0h13m38s  (89.4%)\rEpoch: 47.2%  lr: 0.005496  loss: 0.006841  eta: 0h1m  tot: 0h13m38s  (89.4%)\rEpoch: 47.3%  lr: 0.005486  loss: 0.006842  eta: 0h1m  tot: 0h13m38s  (89.5%)\rEpoch: 47.4%  lr: 0.005456  loss: 0.006840  eta: 0h1m  tot: 0h13m39s  (89.5%)\rEpoch: 47.4%  lr: 0.005436  loss: 0.006845  eta: 0h1m  tot: 0h13m39s  (89.5%)\rEpoch: 47.5%  lr: 0.005425  loss: 0.006842  eta: 0h1m  tot: 0h13m39s  (89.5%)\rEpoch: 47.6%  lr: 0.005415  loss: 0.006843  eta: 0h1m  tot: 0h13m39s  (89.5%)\rEpoch: 47.7%  lr: 0.005405  loss: 0.006857  eta: 0h1m  tot: 0h13m39s  (89.5%)\rEpoch: 47.8%  lr: 0.005405  loss: 0.006855  eta: 0h1m  tot: 0h13m39s  (89.6%)\rEpoch: 47.9%  lr: 0.005395  loss: 0.006863  eta: 0h1m  tot: 0h13m40s  (89.6%)\rEpoch: 48.0%  lr: 0.005375  loss: 0.006861  eta: 0h1m  tot: 0h13m40s  (89.6%)\rEpoch: 48.1%  lr: 0.005375  loss: 0.006856  eta: 0h1m  tot: 0h13m40s  (89.6%)\rEpoch: 48.2%  lr: 0.005365  loss: 0.006846  eta: 0h1m  tot: 0h13m40s  (89.6%)\rEpoch: 48.3%  lr: 0.005365  loss: 0.006843  eta: 0h1m  tot: 0h13m40s  (89.7%)\rEpoch: 48.3%  lr: 0.005355  loss: 0.006835  eta: 0h1m  tot: 0h13m40s  (89.7%)\rEpoch: 48.4%  lr: 0.005355  loss: 0.006833  eta: 0h1m  tot: 0h13m41s  (89.7%)\rEpoch: 48.5%  lr: 0.005345  loss: 0.006830  eta: 0h1m  tot: 0h13m41s  (89.7%)\rEpoch: 48.6%  lr: 0.005335  loss: 0.006837  eta: 0h1m  tot: 0h13m41s  (89.7%)\rEpoch: 48.7%  lr: 0.005335  loss: 0.006842  eta: 0h1m  tot: 0h13m41s  (89.7%)\rEpoch: 48.8%  lr: 0.005335  loss: 0.006848  eta: 0h1m  tot: 0h13m41s  (89.8%)\rEpoch: 48.9%  lr: 0.005335  loss: 0.006842  eta: 0h1m  tot: 0h13m41s  (89.8%)\rEpoch: 49.0%  lr: 0.005325  loss: 0.006843  eta: 0h1m  tot: 0h13m41s  (89.8%)\rEpoch: 49.1%  lr: 0.005325  loss: 0.006840  eta: 0h1m  tot: 0h13m42s  (89.8%)\rEpoch: 49.2%  lr: 0.005325  loss: 0.006836  eta: 0h1m  tot: 0h13m42s  (89.8%)\rEpoch: 49.2%  lr: 0.005325  loss: 0.006825  eta: 0h1m  tot: 0h13m42s  (89.8%)\rEpoch: 49.3%  lr: 0.005325  loss: 0.006826  eta: 0h1m  tot: 0h13m42s  (89.9%)\rEpoch: 49.4%  lr: 0.005315  loss: 0.006823  eta: 0h1m  tot: 0h13m42s  (89.9%)\rEpoch: 49.5%  lr: 0.005295  loss: 0.006813  eta: 0h1m  tot: 0h13m42s  (89.9%)\rEpoch: 49.6%  lr: 0.005295  loss: 0.006813  eta: 0h1m  tot: 0h13m43s  (89.9%)\rEpoch: 49.7%  lr: 0.005255  loss: 0.006810  eta: 0h1m  tot: 0h13m43s  (89.9%)\rEpoch: 49.8%  lr: 0.005245  loss: 0.006803  eta: 0h1m  tot: 0h13m43s  (90.0%)\rEpoch: 49.9%  lr: 0.005245  loss: 0.006808  eta: 0h1m  tot: 0h13m43s  (90.0%)\rEpoch: 50.0%  lr: 0.005225  loss: 0.006803  eta: 0h1m  tot: 0h13m43s  (90.0%)\rEpoch: 50.1%  lr: 0.005205  loss: 0.006804  eta: 0h1m  tot: 0h13m43s  (90.0%)\rEpoch: 50.1%  lr: 0.005205  loss: 0.006802  eta: 0h1m  tot: 0h13m44s  (90.0%)\rEpoch: 50.2%  lr: 0.005175  loss: 0.006800  eta: 0h1m  tot: 0h13m44s  (90.0%)\rEpoch: 50.3%  lr: 0.005165  loss: 0.006802  eta: 0h1m  tot: 0h13m44s  (90.1%)\rEpoch: 50.4%  lr: 0.005155  loss: 0.006795  eta: 0h1m  tot: 0h13m44s  (90.1%)\rEpoch: 50.5%  lr: 0.005145  loss: 0.006794  eta: 0h1m  tot: 0h13m44s  (90.1%)\rEpoch: 50.6%  lr: 0.005145  loss: 0.006788  eta: 0h1m  tot: 0h13m44s  (90.1%)\rEpoch: 50.7%  lr: 0.005145  loss: 0.006784  eta: 0h1m  tot: 0h13m44s  (90.1%)\rEpoch: 50.8%  lr: 0.005145  loss: 0.006780  eta: 0h1m  tot: 0h13m45s  (90.2%)\rEpoch: 50.9%  lr: 0.005125  loss: 0.006784  eta: 0h1m  tot: 0h13m45s  (90.2%)\rEpoch: 51.0%  lr: 0.005125  loss: 0.006782  eta: 0h1m  tot: 0h13m45s  (90.2%)\rEpoch: 51.0%  lr: 0.005105  loss: 0.006777  eta: 0h1m  tot: 0h13m45s  (90.2%)\rEpoch: 51.1%  lr: 0.005085  loss: 0.006781  eta: 0h1m  tot: 0h13m45s  (90.2%)\rEpoch: 51.2%  lr: 0.005085  loss: 0.006779  eta: 0h1m  tot: 0h13m45s  (90.2%)\rEpoch: 51.3%  lr: 0.005075  loss: 0.006776  eta: 0h1m  tot: 0h13m46s  (90.3%)\rEpoch: 51.4%  lr: 0.005075  loss: 0.006780  eta: 0h1m  tot: 0h13m46s  (90.3%)\rEpoch: 51.5%  lr: 0.005065  loss: 0.006775  eta: 0h1m  tot: 0h13m46s  (90.3%)\rEpoch: 51.6%  lr: 0.005055  loss: 0.006778  eta: 0h1m  tot: 0h13m46s  (90.3%)\rEpoch: 51.7%  lr: 0.005045  loss: 0.006780  eta: 0h1m  tot: 0h13m46s  (90.3%)\rEpoch: 51.8%  lr: 0.005045  loss: 0.006771  eta: 0h1m  tot: 0h13m46s  (90.4%)\rEpoch: 51.9%  lr: 0.005035  loss: 0.006776  eta: 0h1m  tot: 0h13m47s  (90.4%)\rEpoch: 51.9%  lr: 0.005025  loss: 0.006770  eta: 0h1m  tot: 0h13m47s  (90.4%)\rEpoch: 52.0%  lr: 0.005025  loss: 0.006771  eta: 0h1m  tot: 0h13m47s  (90.4%)\rEpoch: 52.1%  lr: 0.005025  loss: 0.006767  eta: 0h1m  tot: 0h13m47s  (90.4%)\rEpoch: 52.2%  lr: 0.005025  loss: 0.006769  eta: 0h1m  tot: 0h13m47s  (90.4%)\rEpoch: 52.3%  lr: 0.005025  loss: 0.006768  eta: 0h1m  tot: 0h13m47s  (90.5%)\rEpoch: 52.4%  lr: 0.005005  loss: 0.006773  eta: 0h1m  tot: 0h13m48s  (90.5%)\rEpoch: 52.5%  lr: 0.004985  loss: 0.006787  eta: 0h1m  tot: 0h13m48s  (90.5%)\rEpoch: 52.6%  lr: 0.004975  loss: 0.006787  eta: 0h1m  tot: 0h13m48s  (90.5%)\rEpoch: 52.7%  lr: 0.004975  loss: 0.006779  eta: 0h1m  tot: 0h13m48s  (90.5%)\rEpoch: 52.8%  lr: 0.004955  loss: 0.006780  eta: 0h1m  tot: 0h13m48s  (90.6%)\rEpoch: 52.8%  lr: 0.004955  loss: 0.006777  eta: 0h1m  tot: 0h13m48s  (90.6%)\rEpoch: 52.9%  lr: 0.004955  loss: 0.006791  eta: 0h1m  tot: 0h13m48s  (90.6%)\rEpoch: 53.0%  lr: 0.004945  loss: 0.006797  eta: 0h1m  tot: 0h13m49s  (90.6%)\rEpoch: 53.1%  lr: 0.004935  loss: 0.006805  eta: 0h1m  tot: 0h13m49s  (90.6%)\rEpoch: 53.2%  lr: 0.004935  loss: 0.006802  eta: 0h1m  tot: 0h13m49s  (90.6%)\rEpoch: 53.3%  lr: 0.004935  loss: 0.006806  eta: 0h1m  tot: 0h13m49s  (90.7%)\rEpoch: 53.4%  lr: 0.004935  loss: 0.006801  eta: 0h1m  tot: 0h13m49s  (90.7%)\rEpoch: 53.5%  lr: 0.004935  loss: 0.006792  eta: 0h1m  tot: 0h13m49s  (90.7%)\rEpoch: 53.6%  lr: 0.004935  loss: 0.006789  eta: 0h1m  tot: 0h13m50s  (90.7%)\rEpoch: 53.7%  lr: 0.004925  loss: 0.006784  eta: 0h1m  tot: 0h13m50s  (90.7%)\rEpoch: 53.7%  lr: 0.004925  loss: 0.006789  eta: 0h1m  tot: 0h13m50s  (90.7%)\rEpoch: 53.8%  lr: 0.004915  loss: 0.006785  eta: 0h1m  tot: 0h13m50s  (90.8%)\rEpoch: 53.9%  lr: 0.004905  loss: 0.006786  eta: 0h1m  tot: 0h13m50s  (90.8%)\rEpoch: 54.0%  lr: 0.004905  loss: 0.006789  eta: 0h1m  tot: 0h13m50s  (90.8%)\rEpoch: 54.1%  lr: 0.004905  loss: 0.006786  eta: 0h1m  tot: 0h13m50s  (90.8%)\rEpoch: 54.2%  lr: 0.004905  loss: 0.006806  eta: 0h1m  tot: 0h13m51s  (90.8%)\rEpoch: 54.3%  lr: 0.004905  loss: 0.006815  eta: 0h1m  tot: 0h13m51s  (90.9%)\rEpoch: 54.4%  lr: 0.004905  loss: 0.006826  eta: 0h1m  tot: 0h13m51s  (90.9%)\rEpoch: 54.5%  lr: 0.004875  loss: 0.006835  eta: 0h1m  tot: 0h13m51s  (90.9%)\rEpoch: 54.6%  lr: 0.004865  loss: 0.006838  eta: 0h1m  tot: 0h13m51s  (90.9%)\rEpoch: 54.6%  lr: 0.004865  loss: 0.006839  eta: 0h1m  tot: 0h13m51s  (90.9%)\rEpoch: 54.7%  lr: 0.004865  loss: 0.006848  eta: 0h1m  tot: 0h13m52s  (90.9%)\rEpoch: 54.8%  lr: 0.004865  loss: 0.006844  eta: 0h1m  tot: 0h13m52s  (91.0%)\rEpoch: 54.9%  lr: 0.004855  loss: 0.006841  eta: 0h1m  tot: 0h13m52s  (91.0%)\rEpoch: 55.0%  lr: 0.004825  loss: 0.006833  eta: 0h1m  tot: 0h13m52s  (91.0%)\rEpoch: 55.1%  lr: 0.004795  loss: 0.006839  eta: 0h1m  tot: 0h13m52s  (91.0%)\rEpoch: 55.2%  lr: 0.004795  loss: 0.006835  eta: 0h1m  tot: 0h13m52s  (91.0%)\rEpoch: 55.3%  lr: 0.004785  loss: 0.006838  eta: 0h1m  tot: 0h13m53s  (91.1%)\rEpoch: 55.4%  lr: 0.004775  loss: 0.006835  eta: 0h1m  tot: 0h13m53s  (91.1%)\rEpoch: 55.5%  lr: 0.004755  loss: 0.006847  eta: 0h1m  tot: 0h13m53s  (91.1%)\rEpoch: 55.5%  lr: 0.004755  loss: 0.006841  eta: 0h1m  tot: 0h13m53s  (91.1%)\rEpoch: 55.6%  lr: 0.004745  loss: 0.006837  eta: 0h1m  tot: 0h13m53s  (91.1%)\rEpoch: 55.7%  lr: 0.004735  loss: 0.006844  eta: 0h1m  tot: 0h13m53s  (91.1%)\rEpoch: 55.8%  lr: 0.004715  loss: 0.006841  eta: 0h1m  tot: 0h13m53s  (91.2%)\rEpoch: 55.9%  lr: 0.004715  loss: 0.006834  eta: 0h1m  tot: 0h13m54s  (91.2%)\rEpoch: 56.0%  lr: 0.004705  loss: 0.006824  eta: 0h1m  tot: 0h13m54s  (91.2%)\rEpoch: 56.1%  lr: 0.004705  loss: 0.006830  eta: 0h1m  tot: 0h13m54s  (91.2%)\rEpoch: 56.2%  lr: 0.004695  loss: 0.006826  eta: 0h1m  tot: 0h13m54s  (91.2%)\rEpoch: 56.3%  lr: 0.004695  loss: 0.006830  eta: 0h1m  tot: 0h13m54s  (91.3%)\rEpoch: 56.4%  lr: 0.004685  loss: 0.006826  eta: 0h1m  tot: 0h13m54s  (91.3%)\rEpoch: 56.4%  lr: 0.004655  loss: 0.006828  eta: 0h1m  tot: 0h13m55s  (91.3%)\rEpoch: 56.5%  lr: 0.004625  loss: 0.006827  eta: 0h1m  tot: 0h13m55s  (91.3%)\rEpoch: 56.6%  lr: 0.004605  loss: 0.006817  eta: 0h1m  tot: 0h13m55s  (91.3%)\rEpoch: 56.7%  lr: 0.004595  loss: 0.006810  eta: 0h1m  tot: 0h13m55s  (91.3%)\rEpoch: 56.8%  lr: 0.004595  loss: 0.006813  eta: 0h1m  tot: 0h13m55s  (91.4%)\rEpoch: 56.9%  lr: 0.004585  loss: 0.006810  eta: 0h1m  tot: 0h13m55s  (91.4%)\rEpoch: 57.0%  lr: 0.004575  loss: 0.006806  eta: 0h1m  tot: 0h13m55s  (91.4%)\rEpoch: 57.1%  lr: 0.004565  loss: 0.006804  eta: 0h1m  tot: 0h13m56s  (91.4%)\rEpoch: 57.2%  lr: 0.004565  loss: 0.006821  eta: 0h1m  tot: 0h13m56s  (91.4%)\rEpoch: 57.3%  lr: 0.004555  loss: 0.006817  eta: 0h1m  tot: 0h13m56s  (91.5%)\rEpoch: 57.3%  lr: 0.004555  loss: 0.006811  eta: 0h1m  tot: 0h13m56s  (91.5%)\rEpoch: 57.4%  lr: 0.004555  loss: 0.006819  eta: 0h1m  tot: 0h13m56s  (91.5%)\rEpoch: 57.5%  lr: 0.004555  loss: 0.006820  eta: 0h1m  tot: 0h13m56s  (91.5%)\rEpoch: 57.6%  lr: 0.004535  loss: 0.006832  eta: 0h1m  tot: 0h13m57s  (91.5%)\rEpoch: 57.7%  lr: 0.004525  loss: 0.006829  eta: 0h1m  tot: 0h13m57s  (91.5%)\rEpoch: 57.8%  lr: 0.004525  loss: 0.006823  eta: 0h1m  tot: 0h13m57s  (91.6%)\rEpoch: 57.9%  lr: 0.004515  loss: 0.006822  eta: 0h1m  tot: 0h13m57s  (91.6%)\rEpoch: 58.0%  lr: 0.004515  loss: 0.006820  eta: 0h1m  tot: 0h13m57s  (91.6%)\rEpoch: 58.1%  lr: 0.004495  loss: 0.006814  eta: 0h1m  tot: 0h13m57s  (91.6%)\rEpoch: 58.2%  lr: 0.004495  loss: 0.006830  eta: 0h1m  tot: 0h13m58s  (91.6%)\rEpoch: 58.2%  lr: 0.004475  loss: 0.006824  eta: 0h1m  tot: 0h13m58s  (91.6%)\rEpoch: 58.3%  lr: 0.004465  loss: 0.006825  eta: 0h1m  tot: 0h13m58s  (91.7%)\rEpoch: 58.4%  lr: 0.004465  loss: 0.006823  eta: 0h1m  tot: 0h13m58s  (91.7%)\rEpoch: 58.5%  lr: 0.004455  loss: 0.006816  eta: 0h1m  tot: 0h13m58s  (91.7%)\rEpoch: 58.6%  lr: 0.004445  loss: 0.006819  eta: 0h1m  tot: 0h13m58s  (91.7%)\rEpoch: 58.7%  lr: 0.004445  loss: 0.006824  eta: 0h1m  tot: 0h13m59s  (91.7%)\rEpoch: 58.8%  lr: 0.004445  loss: 0.006820  eta: 0h1m  tot: 0h13m59s  (91.8%)\rEpoch: 58.9%  lr: 0.004435  loss: 0.006827  eta: 0h1m  tot: 0h13m59s  (91.8%)\rEpoch: 59.0%  lr: 0.004435  loss: 0.006836  eta: 0h1m  tot: 0h13m59s  (91.8%)\rEpoch: 59.1%  lr: 0.004435  loss: 0.006836  eta: 0h1m  tot: 0h13m59s  (91.8%)\rEpoch: 59.1%  lr: 0.004435  loss: 0.006840  eta: 0h1m  tot: 0h13m59s  (91.8%)\rEpoch: 59.2%  lr: 0.004425  loss: 0.006844  eta: 0h1m  tot: 0h14m0s  (91.8%)\rEpoch: 59.3%  lr: 0.004415  loss: 0.006850  eta: 0h1m  tot: 0h14m0s  (91.9%)\rEpoch: 59.4%  lr: 0.004404  loss: 0.006847  eta: 0h1m  tot: 0h14m0s  (91.9%)\rEpoch: 59.5%  lr: 0.004404  loss: 0.006846  eta: 0h1m  tot: 0h14m0s  (91.9%)\rEpoch: 59.6%  lr: 0.004404  loss: 0.006855  eta: 0h1m  tot: 0h14m0s  (91.9%)\rEpoch: 59.7%  lr: 0.004394  loss: 0.006860  eta: 0h1m  tot: 0h14m0s  (91.9%)\rEpoch: 59.8%  lr: 0.004394  loss: 0.006864  eta: 0h1m  tot: 0h14m1s  (92.0%)\rEpoch: 59.9%  lr: 0.004394  loss: 0.006869  eta: 0h1m  tot: 0h14m1s  (92.0%)\rEpoch: 60.0%  lr: 0.004354  loss: 0.006871  eta: 0h1m  tot: 0h14m1s  (92.0%)\rEpoch: 60.0%  lr: 0.004334  loss: 0.006872  eta: 0h1m  tot: 0h14m1s  (92.0%)\rEpoch: 60.1%  lr: 0.004324  loss: 0.006873  eta: 0h1m  tot: 0h14m1s  (92.0%)\rEpoch: 60.2%  lr: 0.004324  loss: 0.006869  eta: 0h1m  tot: 0h14m1s  (92.0%)\rEpoch: 60.3%  lr: 0.004314  loss: 0.006867  eta: 0h1m  tot: 0h14m1s  (92.1%)\rEpoch: 60.4%  lr: 0.004314  loss: 0.006869  eta: 0h1m  tot: 0h14m2s  (92.1%)\rEpoch: 60.5%  lr: 0.004294  loss: 0.006865  eta: 0h1m  tot: 0h14m2s  (92.1%)\rEpoch: 60.6%  lr: 0.004294  loss: 0.006863  eta: 0h1m  tot: 0h14m2s  (92.1%)\rEpoch: 60.7%  lr: 0.004294  loss: 0.006857  eta: 0h1m  tot: 0h14m2s  (92.1%)\rEpoch: 60.8%  lr: 0.004294  loss: 0.006860  eta: 0h1m  tot: 0h14m2s  (92.2%)\rEpoch: 60.9%  lr: 0.004294  loss: 0.006863  eta: 0h1m  tot: 0h14m2s  (92.2%)\rEpoch: 60.9%  lr: 0.004294  loss: 0.006874  eta: 0h1m  tot: 0h14m3s  (92.2%)\rEpoch: 61.0%  lr: 0.004274  loss: 0.006868  eta: 0h1m  tot: 0h14m3s  (92.2%)\rEpoch: 61.1%  lr: 0.004254  loss: 0.006872  eta: 0h1m  tot: 0h14m3s  (92.2%)\rEpoch: 61.2%  lr: 0.004224  loss: 0.006883  eta: 0h1m  tot: 0h14m3s  (92.2%)\rEpoch: 61.3%  lr: 0.004214  loss: 0.006877  eta: 0h1m  tot: 0h14m3s  (92.3%)\rEpoch: 61.4%  lr: 0.004194  loss: 0.006870  eta: 0h1m  tot: 0h14m3s  (92.3%)\rEpoch: 61.5%  lr: 0.004184  loss: 0.006872  eta: 0h1m  tot: 0h14m4s  (92.3%)\rEpoch: 61.6%  lr: 0.004164  loss: 0.006869  eta: 0h1m  tot: 0h14m4s  (92.3%)\rEpoch: 61.7%  lr: 0.004164  loss: 0.006864  eta: 0h1m  tot: 0h14m4s  (92.3%)\rEpoch: 61.8%  lr: 0.004154  loss: 0.006857  eta: 0h1m  tot: 0h14m4s  (92.4%)\rEpoch: 61.8%  lr: 0.004144  loss: 0.006854  eta: 0h1m  tot: 0h14m4s  (92.4%)\rEpoch: 61.9%  lr: 0.004144  loss: 0.006853  eta: 0h1m  tot: 0h14m4s  (92.4%)\rEpoch: 62.0%  lr: 0.004144  loss: 0.006851  eta: 0h1m  tot: 0h14m5s  (92.4%)\rEpoch: 62.1%  lr: 0.004144  loss: 0.006844  eta: 0h1m  tot: 0h14m5s  (92.4%)\rEpoch: 62.2%  lr: 0.004134  loss: 0.006841  eta: 0h1m  tot: 0h14m5s  (92.4%)\rEpoch: 62.3%  lr: 0.004124  loss: 0.006843  eta: 0h1m  tot: 0h14m5s  (92.5%)\rEpoch: 62.4%  lr: 0.004114  loss: 0.006842  eta: 0h1m  tot: 0h14m5s  (92.5%)\rEpoch: 62.5%  lr: 0.004094  loss: 0.006838  eta: 0h1m  tot: 0h14m5s  (92.5%)\rEpoch: 62.6%  lr: 0.004084  loss: 0.006849  eta: 0h1m  tot: 0h14m5s  (92.5%)\rEpoch: 62.7%  lr: 0.004054  loss: 0.006851  eta: 0h1m  tot: 0h14m6s  (92.5%)\rEpoch: 62.7%  lr: 0.004054  loss: 0.006849  eta: 0h1m  tot: 0h14m6s  (92.5%)\rEpoch: 62.8%  lr: 0.004044  loss: 0.006845  eta: 0h1m  tot: 0h14m6s  (92.6%)\rEpoch: 62.9%  lr: 0.004044  loss: 0.006853  eta: 0h1m  tot: 0h14m6s  (92.6%)\rEpoch: 63.0%  lr: 0.004034  loss: 0.006870  eta: 0h1m  tot: 0h14m6s  (92.6%)\rEpoch: 63.1%  lr: 0.004024  loss: 0.006866  eta: 0h1m  tot: 0h14m6s  (92.6%)\rEpoch: 63.2%  lr: 0.004014  loss: 0.006870  eta: 0h1m  tot: 0h14m7s  (92.6%)\rEpoch: 63.3%  lr: 0.003994  loss: 0.006870  eta: 0h1m  tot: 0h14m7s  (92.7%)\rEpoch: 63.4%  lr: 0.003984  loss: 0.006868  eta: 0h1m  tot: 0h14m7s  (92.7%)\rEpoch: 63.5%  lr: 0.003974  loss: 0.006863  eta: 0h1m  tot: 0h14m7s  (92.7%)\rEpoch: 63.6%  lr: 0.003974  loss: 0.006858  eta: 0h1m  tot: 0h14m7s  (92.7%)\rEpoch: 63.6%  lr: 0.003954  loss: 0.006857  eta: 0h1m  tot: 0h14m7s  (92.7%)\rEpoch: 63.7%  lr: 0.003944  loss: 0.006857  eta: 0h1m  tot: 0h14m7s  (92.7%)\rEpoch: 63.8%  lr: 0.003944  loss: 0.006851  eta: 0h1m  tot: 0h14m8s  (92.8%)\rEpoch: 63.9%  lr: 0.003944  loss: 0.006850  eta: 0h1m  tot: 0h14m8s  (92.8%)\rEpoch: 64.0%  lr: 0.003944  loss: 0.006860  eta: 0h1m  tot: 0h14m8s  (92.8%)\rEpoch: 64.1%  lr: 0.003944  loss: 0.006857  eta: 0h1m  tot: 0h14m8s  (92.8%)\rEpoch: 64.2%  lr: 0.003934  loss: 0.006851  eta: 0h1m  tot: 0h14m8s  (92.8%)\rEpoch: 64.3%  lr: 0.003904  loss: 0.006848  eta: 0h1m  tot: 0h14m9s  (92.9%)\rEpoch: 64.4%  lr: 0.003894  loss: 0.006848  eta: 0h1m  tot: 0h14m9s  (92.9%)\rEpoch: 64.5%  lr: 0.003894  loss: 0.006847  eta: 0h1m  tot: 0h14m9s  (92.9%)\rEpoch: 64.5%  lr: 0.003874  loss: 0.006840  eta: 0h1m  tot: 0h14m9s  (92.9%)\rEpoch: 64.6%  lr: 0.003854  loss: 0.006848  eta: 0h1m  tot: 0h14m9s  (92.9%)\rEpoch: 64.7%  lr: 0.003844  loss: 0.006839  eta: 0h1m  tot: 0h14m9s  (92.9%)\rEpoch: 64.8%  lr: 0.003834  loss: 0.006834  eta: 0h1m  tot: 0h14m9s  (93.0%)\rEpoch: 64.9%  lr: 0.003814  loss: 0.006841  eta: 0h1m  tot: 0h14m10s  (93.0%)\rEpoch: 65.0%  lr: 0.003784  loss: 0.006835  eta: 0h1m  tot: 0h14m10s  (93.0%)\rEpoch: 65.1%  lr: 0.003784  loss: 0.006829  eta: 0h1m  tot: 0h14m10s  (93.0%)\rEpoch: 65.2%  lr: 0.003744  loss: 0.006834  eta: 0h1m  tot: 0h14m10s  (93.0%)\rEpoch: 65.3%  lr: 0.003734  loss: 0.006831  eta: 0h1m  tot: 0h14m10s  (93.1%)\rEpoch: 65.4%  lr: 0.003734  loss: 0.006836  eta: 0h1m  tot: 0h14m10s  (93.1%)\rEpoch: 65.4%  lr: 0.003724  loss: 0.006832  eta: 0h1m  tot: 0h14m11s  (93.1%)\rEpoch: 65.5%  lr: 0.003724  loss: 0.006826  eta: 0h1m  tot: 0h14m11s  (93.1%)\rEpoch: 65.6%  lr: 0.003724  loss: 0.006823  eta: 0h1m  tot: 0h14m11s  (93.1%)\rEpoch: 65.7%  lr: 0.003714  loss: 0.006822  eta: 0h1m  tot: 0h14m11s  (93.1%)\rEpoch: 65.8%  lr: 0.003684  loss: 0.006820  eta: <1min   tot: 0h14m11s  (93.2%)\rEpoch: 65.9%  lr: 0.003684  loss: 0.006819  eta: <1min   tot: 0h14m11s  (93.2%)\rEpoch: 66.0%  lr: 0.003684  loss: 0.006813  eta: <1min   tot: 0h14m12s  (93.2%)\rEpoch: 66.1%  lr: 0.003684  loss: 0.006817  eta: <1min   tot: 0h14m12s  (93.2%)\rEpoch: 66.2%  lr: 0.003674  loss: 0.006814  eta: <1min   tot: 0h14m12s  (93.2%)\rEpoch: 66.3%  lr: 0.003664  loss: 0.006818  eta: <1min   tot: 0h14m12s  (93.3%)\rEpoch: 66.3%  lr: 0.003644  loss: 0.006819  eta: <1min   tot: 0h14m12s  (93.3%)\rEpoch: 66.4%  lr: 0.003624  loss: 0.006830  eta: <1min   tot: 0h14m12s  (93.3%)\rEpoch: 66.5%  lr: 0.003604  loss: 0.006835  eta: <1min   tot: 0h14m12s  (93.3%)\rEpoch: 66.6%  lr: 0.003584  loss: 0.006836  eta: <1min   tot: 0h14m13s  (93.3%)\rEpoch: 66.7%  lr: 0.003584  loss: 0.006853  eta: <1min   tot: 0h14m13s  (93.3%)\rEpoch: 66.8%  lr: 0.003554  loss: 0.006849  eta: <1min   tot: 0h14m13s  (93.4%)\rEpoch: 66.9%  lr: 0.003554  loss: 0.006851  eta: <1min   tot: 0h14m13s  (93.4%)\rEpoch: 67.0%  lr: 0.003544  loss: 0.006851  eta: <1min   tot: 0h14m13s  (93.4%)\rEpoch: 67.1%  lr: 0.003544  loss: 0.006849  eta: <1min   tot: 0h14m13s  (93.4%)\rEpoch: 67.2%  lr: 0.003544  loss: 0.006848  eta: <1min   tot: 0h14m14s  (93.4%)\rEpoch: 67.2%  lr: 0.003524  loss: 0.006845  eta: <1min   tot: 0h14m14s  (93.4%)\rEpoch: 67.3%  lr: 0.003504  loss: 0.006848  eta: <1min   tot: 0h14m14s  (93.5%)\rEpoch: 67.4%  lr: 0.003494  loss: 0.006847  eta: <1min   tot: 0h14m14s  (93.5%)\rEpoch: 67.5%  lr: 0.003494  loss: 0.006840  eta: <1min   tot: 0h14m14s  (93.5%)\rEpoch: 67.6%  lr: 0.003494  loss: 0.006849  eta: <1min   tot: 0h14m14s  (93.5%)\rEpoch: 67.7%  lr: 0.003494  loss: 0.006842  eta: <1min   tot: 0h14m15s  (93.5%)\rEpoch: 67.8%  lr: 0.003494  loss: 0.006850  eta: <1min   tot: 0h14m15s  (93.6%)\rEpoch: 67.9%  lr: 0.003464  loss: 0.006851  eta: <1min   tot: 0h14m15s  (93.6%)\rEpoch: 68.0%  lr: 0.003464  loss: 0.006854  eta: <1min   tot: 0h14m15s  (93.6%)\rEpoch: 68.1%  lr: 0.003454  loss: 0.006855  eta: <1min   tot: 0h14m15s  (93.6%)\rEpoch: 68.1%  lr: 0.003434  loss: 0.006862  eta: <1min   tot: 0h14m15s  (93.6%)\rEpoch: 68.2%  lr: 0.003434  loss: 0.006868  eta: <1min   tot: 0h14m15s  (93.6%)\rEpoch: 68.3%  lr: 0.003424  loss: 0.006865  eta: <1min   tot: 0h14m16s  (93.7%)\rEpoch: 68.4%  lr: 0.003414  loss: 0.006871  eta: <1min   tot: 0h14m16s  (93.7%)\rEpoch: 68.5%  lr: 0.003414  loss: 0.006870  eta: <1min   tot: 0h14m16s  (93.7%)\rEpoch: 68.6%  lr: 0.003414  loss: 0.006870  eta: <1min   tot: 0h14m16s  (93.7%)\rEpoch: 68.7%  lr: 0.003403  loss: 0.006869  eta: <1min   tot: 0h14m16s  (93.7%)\rEpoch: 68.8%  lr: 0.003403  loss: 0.006869  eta: <1min   tot: 0h14m16s  (93.8%)\rEpoch: 68.9%  lr: 0.003403  loss: 0.006867  eta: <1min   tot: 0h14m17s  (93.8%)\rEpoch: 69.0%  lr: 0.003393  loss: 0.006870  eta: <1min   tot: 0h14m17s  (93.8%)\rEpoch: 69.0%  lr: 0.003363  loss: 0.006867  eta: <1min   tot: 0h14m17s  (93.8%)\rEpoch: 69.1%  lr: 0.003353  loss: 0.006866  eta: <1min   tot: 0h14m17s  (93.8%)\rEpoch: 69.2%  lr: 0.003353  loss: 0.006861  eta: <1min   tot: 0h14m17s  (93.8%)\rEpoch: 69.3%  lr: 0.003353  loss: 0.006863  eta: <1min   tot: 0h14m17s  (93.9%)\rEpoch: 69.4%  lr: 0.003353  loss: 0.006866  eta: <1min   tot: 0h14m18s  (93.9%)\rEpoch: 69.5%  lr: 0.003353  loss: 0.006863  eta: <1min   tot: 0h14m18s  (93.9%)\rEpoch: 69.6%  lr: 0.003333  loss: 0.006860  eta: <1min   tot: 0h14m18s  (93.9%)\rEpoch: 69.7%  lr: 0.003313  loss: 0.006856  eta: <1min   tot: 0h14m18s  (93.9%)\rEpoch: 69.8%  lr: 0.003293  loss: 0.006852  eta: <1min   tot: 0h14m18s  (94.0%)\rEpoch: 69.9%  lr: 0.003293  loss: 0.006861  eta: <1min   tot: 0h14m18s  (94.0%)\rEpoch: 69.9%  lr: 0.003273  loss: 0.006863  eta: <1min   tot: 0h14m18s  (94.0%)\rEpoch: 70.0%  lr: 0.003263  loss: 0.006871  eta: <1min   tot: 0h14m19s  (94.0%)\rEpoch: 70.1%  lr: 0.003243  loss: 0.006869  eta: <1min   tot: 0h14m19s  (94.0%)\rEpoch: 70.2%  lr: 0.003203  loss: 0.006865  eta: <1min   tot: 0h14m19s  (94.0%)\rEpoch: 70.3%  lr: 0.003193  loss: 0.006862  eta: <1min   tot: 0h14m19s  (94.1%)\rEpoch: 70.4%  lr: 0.003193  loss: 0.006865  eta: <1min   tot: 0h14m19s  (94.1%)\rEpoch: 70.5%  lr: 0.003183  loss: 0.006859  eta: <1min   tot: 0h14m19s  (94.1%)\rEpoch: 70.6%  lr: 0.003183  loss: 0.006855  eta: <1min   tot: 0h14m20s  (94.1%)\rEpoch: 70.7%  lr: 0.003173  loss: 0.006852  eta: <1min   tot: 0h14m20s  (94.1%)\rEpoch: 70.8%  lr: 0.003163  loss: 0.006844  eta: <1min   tot: 0h14m20s  (94.2%)\rEpoch: 70.8%  lr: 0.003153  loss: 0.006848  eta: <1min   tot: 0h14m20s  (94.2%)\rEpoch: 70.9%  lr: 0.003153  loss: 0.006860  eta: <1min   tot: 0h14m20s  (94.2%)\rEpoch: 71.0%  lr: 0.003143  loss: 0.006865  eta: <1min   tot: 0h14m20s  (94.2%)\rEpoch: 71.1%  lr: 0.003133  loss: 0.006866  eta: <1min   tot: 0h14m20s  (94.2%)\rEpoch: 71.2%  lr: 0.003123  loss: 0.006865  eta: <1min   tot: 0h14m21s  (94.2%)\rEpoch: 71.3%  lr: 0.003113  loss: 0.006861  eta: <1min   tot: 0h14m21s  (94.3%)\rEpoch: 71.4%  lr: 0.003113  loss: 0.006870  eta: <1min   tot: 0h14m21s  (94.3%)\rEpoch: 71.5%  lr: 0.003113  loss: 0.006874  eta: <1min   tot: 0h14m21s  (94.3%)\rEpoch: 71.6%  lr: 0.003093  loss: 0.006875  eta: <1min   tot: 0h14m21s  (94.3%)\rEpoch: 71.7%  lr: 0.003073  loss: 0.006870  eta: <1min   tot: 0h14m21s  (94.3%)\rEpoch: 71.7%  lr: 0.003073  loss: 0.006866  eta: <1min   tot: 0h14m22s  (94.3%)\rEpoch: 71.8%  lr: 0.003063  loss: 0.006859  eta: <1min   tot: 0h14m22s  (94.4%)\rEpoch: 71.9%  lr: 0.003053  loss: 0.006856  eta: <1min   tot: 0h14m22s  (94.4%)\rEpoch: 72.0%  lr: 0.003043  loss: 0.006859  eta: <1min   tot: 0h14m22s  (94.4%)\rEpoch: 72.1%  lr: 0.003033  loss: 0.006858  eta: <1min   tot: 0h14m22s  (94.4%)\rEpoch: 72.2%  lr: 0.003003  loss: 0.006854  eta: <1min   tot: 0h14m22s  (94.4%)\rEpoch: 72.3%  lr: 0.002993  loss: 0.006850  eta: <1min   tot: 0h14m22s  (94.5%)\rEpoch: 72.4%  lr: 0.002983  loss: 0.006858  eta: <1min   tot: 0h14m23s  (94.5%)\rEpoch: 72.5%  lr: 0.002973  loss: 0.006860  eta: <1min   tot: 0h14m23s  (94.5%)\rEpoch: 72.6%  lr: 0.002973  loss: 0.006860  eta: <1min   tot: 0h14m23s  (94.5%)\rEpoch: 72.6%  lr: 0.002963  loss: 0.006855  eta: <1min   tot: 0h14m23s  (94.5%)\rEpoch: 72.7%  lr: 0.002963  loss: 0.006854  eta: <1min   tot: 0h14m23s  (94.5%)\rEpoch: 72.8%  lr: 0.002953  loss: 0.006853  eta: <1min   tot: 0h14m23s  (94.6%)\rEpoch: 72.9%  lr: 0.002953  loss: 0.006852  eta: <1min   tot: 0h14m24s  (94.6%)\rEpoch: 73.0%  lr: 0.002953  loss: 0.006852  eta: <1min   tot: 0h14m24s  (94.6%)\rEpoch: 73.1%  lr: 0.002953  loss: 0.006848  eta: <1min   tot: 0h14m24s  (94.6%)\rEpoch: 73.2%  lr: 0.002933  loss: 0.006853  eta: <1min   tot: 0h14m24s  (94.6%)\rEpoch: 73.3%  lr: 0.002933  loss: 0.006856  eta: <1min   tot: 0h14m24s  (94.7%)\rEpoch: 73.4%  lr: 0.002923  loss: 0.006854  eta: <1min   tot: 0h14m24s  (94.7%)\rEpoch: 73.5%  lr: 0.002923  loss: 0.006854  eta: <1min   tot: 0h14m24s  (94.7%)\rEpoch: 73.5%  lr: 0.002913  loss: 0.006851  eta: <1min   tot: 0h14m25s  (94.7%)\rEpoch: 73.6%  lr: 0.002893  loss: 0.006845  eta: <1min   tot: 0h14m25s  (94.7%)\rEpoch: 73.7%  lr: 0.002883  loss: 0.006843  eta: <1min   tot: 0h14m25s  (94.7%)\rEpoch: 73.8%  lr: 0.002873  loss: 0.006844  eta: <1min   tot: 0h14m25s  (94.8%)\rEpoch: 73.9%  lr: 0.002863  loss: 0.006839  eta: <1min   tot: 0h14m25s  (94.8%)\rEpoch: 74.0%  lr: 0.002843  loss: 0.006836  eta: <1min   tot: 0h14m25s  (94.8%)\rEpoch: 74.1%  lr: 0.002833  loss: 0.006845  eta: <1min   tot: 0h14m26s  (94.8%)\rEpoch: 74.2%  lr: 0.002803  loss: 0.006854  eta: <1min   tot: 0h14m26s  (94.8%)\rEpoch: 74.3%  lr: 0.002793  loss: 0.006849  eta: <1min   tot: 0h14m26s  (94.9%)\rEpoch: 74.4%  lr: 0.002793  loss: 0.006842  eta: <1min   tot: 0h14m26s  (94.9%)\rEpoch: 74.4%  lr: 0.002783  loss: 0.006845  eta: <1min   tot: 0h14m26s  (94.9%)\rEpoch: 74.5%  lr: 0.002773  loss: 0.006840  eta: <1min   tot: 0h14m26s  (94.9%)\rEpoch: 74.6%  lr: 0.002773  loss: 0.006838  eta: <1min   tot: 0h14m26s  (94.9%)\rEpoch: 74.7%  lr: 0.002763  loss: 0.006844  eta: <1min   tot: 0h14m27s  (94.9%)\rEpoch: 74.8%  lr: 0.002723  loss: 0.006842  eta: <1min   tot: 0h14m27s  (95.0%)\rEpoch: 74.9%  lr: 0.002723  loss: 0.006850  eta: <1min   tot: 0h14m27s  (95.0%)\rEpoch: 75.0%  lr: 0.002703  loss: 0.006846  eta: <1min   tot: 0h14m27s  (95.0%)\rEpoch: 75.1%  lr: 0.002703  loss: 0.006852  eta: <1min   tot: 0h14m27s  (95.0%)\rEpoch: 75.2%  lr: 0.002693  loss: 0.006855  eta: <1min   tot: 0h14m27s  (95.0%)\rEpoch: 75.3%  lr: 0.002693  loss: 0.006850  eta: <1min   tot: 0h14m28s  (95.1%)\rEpoch: 75.3%  lr: 0.002683  loss: 0.006852  eta: <1min   tot: 0h14m28s  (95.1%)\rEpoch: 75.4%  lr: 0.002653  loss: 0.006851  eta: <1min   tot: 0h14m28s  (95.1%)\rEpoch: 75.5%  lr: 0.002653  loss: 0.006857  eta: <1min   tot: 0h14m28s  (95.1%)\rEpoch: 75.6%  lr: 0.002633  loss: 0.006850  eta: <1min   tot: 0h14m28s  (95.1%)\rEpoch: 75.7%  lr: 0.002633  loss: 0.006848  eta: <1min   tot: 0h14m28s  (95.1%)\rEpoch: 75.8%  lr: 0.002623  loss: 0.006843  eta: <1min   tot: 0h14m28s  (95.2%)\rEpoch: 75.9%  lr: 0.002613  loss: 0.006840  eta: <1min   tot: 0h14m29s  (95.2%)\rEpoch: 76.0%  lr: 0.002593  loss: 0.006840  eta: <1min   tot: 0h14m29s  (95.2%)\rEpoch: 76.1%  lr: 0.002573  loss: 0.006845  eta: <1min   tot: 0h14m29s  (95.2%)\rEpoch: 76.2%  lr: 0.002563  loss: 0.006843  eta: <1min   tot: 0h14m29s  (95.2%)\rEpoch: 76.2%  lr: 0.002553  loss: 0.006839  eta: <1min   tot: 0h14m29s  (95.2%)\rEpoch: 76.3%  lr: 0.002533  loss: 0.006840  eta: <1min   tot: 0h14m29s  (95.3%)\rEpoch: 76.4%  lr: 0.002533  loss: 0.006842  eta: <1min   tot: 0h14m30s  (95.3%)\rEpoch: 76.5%  lr: 0.002533  loss: 0.006842  eta: <1min   tot: 0h14m30s  (95.3%)\rEpoch: 76.6%  lr: 0.002523  loss: 0.006843  eta: <1min   tot: 0h14m30s  (95.3%)\rEpoch: 76.7%  lr: 0.002523  loss: 0.006847  eta: <1min   tot: 0h14m30s  (95.3%)\rEpoch: 76.8%  lr: 0.002523  loss: 0.006847  eta: <1min   tot: 0h14m30s  (95.4%)\rEpoch: 76.9%  lr: 0.002513  loss: 0.006848  eta: <1min   tot: 0h14m30s  (95.4%)\rEpoch: 77.0%  lr: 0.002493  loss: 0.006848  eta: <1min   tot: 0h14m31s  (95.4%)\rEpoch: 77.1%  lr: 0.002473  loss: 0.006846  eta: <1min   tot: 0h14m31s  (95.4%)\rEpoch: 77.1%  lr: 0.002473  loss: 0.006850  eta: <1min   tot: 0h14m31s  (95.4%)\rEpoch: 77.2%  lr: 0.002463  loss: 0.006851  eta: <1min   tot: 0h14m31s  (95.4%)\rEpoch: 77.3%  lr: 0.002463  loss: 0.006868  eta: <1min   tot: 0h14m31s  (95.5%)\rEpoch: 77.4%  lr: 0.002463  loss: 0.006869  eta: <1min   tot: 0h14m31s  (95.5%)\rEpoch: 77.5%  lr: 0.002453  loss: 0.006870  eta: <1min   tot: 0h14m31s  (95.5%)\rEpoch: 77.6%  lr: 0.002412  loss: 0.006868  eta: <1min   tot: 0h14m32s  (95.5%)\rEpoch: 77.7%  lr: 0.002402  loss: 0.006869  eta: <1min   tot: 0h14m32s  (95.5%)\rEpoch: 77.8%  lr: 0.002392  loss: 0.006868  eta: <1min   tot: 0h14m32s  (95.6%)\rEpoch: 77.9%  lr: 0.002382  loss: 0.006866  eta: <1min   tot: 0h14m32s  (95.6%)\rEpoch: 78.0%  lr: 0.002362  loss: 0.006871  eta: <1min   tot: 0h14m32s  (95.6%)\rEpoch: 78.0%  lr: 0.002352  loss: 0.006872  eta: <1min   tot: 0h14m32s  (95.6%)\rEpoch: 78.1%  lr: 0.002342  loss: 0.006868  eta: <1min   tot: 0h14m33s  (95.6%)\rEpoch: 78.2%  lr: 0.002332  loss: 0.006865  eta: <1min   tot: 0h14m33s  (95.6%)\rEpoch: 78.3%  lr: 0.002322  loss: 0.006870  eta: <1min   tot: 0h14m33s  (95.7%)\rEpoch: 78.4%  lr: 0.002312  loss: 0.006870  eta: <1min   tot: 0h14m33s  (95.7%)\rEpoch: 78.5%  lr: 0.002312  loss: 0.006865  eta: <1min   tot: 0h14m33s  (95.7%)\rEpoch: 78.6%  lr: 0.002302  loss: 0.006863  eta: <1min   tot: 0h14m33s  (95.7%)\rEpoch: 78.7%  lr: 0.002292  loss: 0.006864  eta: <1min   tot: 0h14m33s  (95.7%)\rEpoch: 78.8%  lr: 0.002292  loss: 0.006861  eta: <1min   tot: 0h14m34s  (95.8%)\rEpoch: 78.9%  lr: 0.002292  loss: 0.006864  eta: <1min   tot: 0h14m34s  (95.8%)\rEpoch: 78.9%  lr: 0.002292  loss: 0.006870  eta: <1min   tot: 0h14m34s  (95.8%)\rEpoch: 79.0%  lr: 0.002292  loss: 0.006868  eta: <1min   tot: 0h14m34s  (95.8%)\rEpoch: 79.1%  lr: 0.002272  loss: 0.006863  eta: <1min   tot: 0h14m34s  (95.8%)\rEpoch: 79.2%  lr: 0.002262  loss: 0.006863  eta: <1min   tot: 0h14m34s  (95.8%)\rEpoch: 79.3%  lr: 0.002242  loss: 0.006862  eta: <1min   tot: 0h14m35s  (95.9%)\rEpoch: 79.4%  lr: 0.002192  loss: 0.006859  eta: <1min   tot: 0h14m35s  (95.9%)\rEpoch: 79.5%  lr: 0.002182  loss: 0.006858  eta: <1min   tot: 0h14m35s  (95.9%)\rEpoch: 79.6%  lr: 0.002172  loss: 0.006857  eta: <1min   tot: 0h14m35s  (95.9%)\rEpoch: 79.7%  lr: 0.002162  loss: 0.006851  eta: <1min   tot: 0h14m35s  (95.9%)\rEpoch: 79.8%  lr: 0.002142  loss: 0.006856  eta: <1min   tot: 0h14m35s  (96.0%)\rEpoch: 79.9%  lr: 0.002132  loss: 0.006863  eta: <1min   tot: 0h14m35s  (96.0%)\rEpoch: 79.9%  lr: 0.002122  loss: 0.006864  eta: <1min   tot: 0h14m36s  (96.0%)\rEpoch: 80.0%  lr: 0.002122  loss: 0.006868  eta: <1min   tot: 0h14m36s  (96.0%)\rEpoch: 80.1%  lr: 0.002122  loss: 0.006863  eta: <1min   tot: 0h14m36s  (96.0%)\rEpoch: 80.2%  lr: 0.002112  loss: 0.006864  eta: <1min   tot: 0h14m36s  (96.0%)\rEpoch: 80.3%  lr: 0.002112  loss: 0.006864  eta: <1min   tot: 0h14m36s  (96.1%)\rEpoch: 80.4%  lr: 0.002112  loss: 0.006875  eta: <1min   tot: 0h14m36s  (96.1%)\rEpoch: 80.5%  lr: 0.002102  loss: 0.006869  eta: <1min   tot: 0h14m37s  (96.1%)\rEpoch: 80.6%  lr: 0.002092  loss: 0.006872  eta: <1min   tot: 0h14m37s  (96.1%)\rEpoch: 80.7%  lr: 0.002072  loss: 0.006866  eta: <1min   tot: 0h14m37s  (96.1%)\rEpoch: 80.8%  lr: 0.002072  loss: 0.006864  eta: <1min   tot: 0h14m37s  (96.2%)\rEpoch: 80.8%  lr: 0.002062  loss: 0.006861  eta: <1min   tot: 0h14m37s  (96.2%)\rEpoch: 80.9%  lr: 0.002052  loss: 0.006863  eta: <1min   tot: 0h14m37s  (96.2%)\rEpoch: 81.0%  lr: 0.002052  loss: 0.006863  eta: <1min   tot: 0h14m37s  (96.2%)\rEpoch: 81.1%  lr: 0.002042  loss: 0.006858  eta: <1min   tot: 0h14m38s  (96.2%)\rEpoch: 81.2%  lr: 0.002042  loss: 0.006855  eta: <1min   tot: 0h14m38s  (96.2%)\rEpoch: 81.3%  lr: 0.002032  loss: 0.006855  eta: <1min   tot: 0h14m38s  (96.3%)\rEpoch: 81.4%  lr: 0.002032  loss: 0.006858  eta: <1min   tot: 0h14m38s  (96.3%)\rEpoch: 81.5%  lr: 0.002012  loss: 0.006863  eta: <1min   tot: 0h14m38s  (96.3%)\rEpoch: 81.6%  lr: 0.002012  loss: 0.006860  eta: <1min   tot: 0h14m38s  (96.3%)\rEpoch: 81.7%  lr: 0.001992  loss: 0.006863  eta: <1min   tot: 0h14m39s  (96.3%)\rEpoch: 81.7%  lr: 0.001982  loss: 0.006868  eta: <1min   tot: 0h14m39s  (96.3%)\rEpoch: 81.8%  lr: 0.001982  loss: 0.006865  eta: <1min   tot: 0h14m39s  (96.4%)\rEpoch: 81.9%  lr: 0.001952  loss: 0.006859  eta: <1min   tot: 0h14m39s  (96.4%)\rEpoch: 82.0%  lr: 0.001932  loss: 0.006858  eta: <1min   tot: 0h14m39s  (96.4%)\rEpoch: 82.1%  lr: 0.001922  loss: 0.006855  eta: <1min   tot: 0h14m39s  (96.4%)\rEpoch: 82.2%  lr: 0.001922  loss: 0.006858  eta: <1min   tot: 0h14m39s  (96.4%)\rEpoch: 82.3%  lr: 0.001922  loss: 0.006852  eta: <1min   tot: 0h14m40s  (96.5%)\rEpoch: 82.4%  lr: 0.001892  loss: 0.006860  eta: <1min   tot: 0h14m40s  (96.5%)\rEpoch: 82.5%  lr: 0.001892  loss: 0.006858  eta: <1min   tot: 0h14m40s  (96.5%)\rEpoch: 82.6%  lr: 0.001882  loss: 0.006856  eta: <1min   tot: 0h14m40s  (96.5%)\rEpoch: 82.6%  lr: 0.001872  loss: 0.006851  eta: <1min   tot: 0h14m40s  (96.5%)\rEpoch: 82.7%  lr: 0.001852  loss: 0.006854  eta: <1min   tot: 0h14m40s  (96.5%)\rEpoch: 82.8%  lr: 0.001842  loss: 0.006855  eta: <1min   tot: 0h14m41s  (96.6%)\rEpoch: 82.9%  lr: 0.001802  loss: 0.006861  eta: <1min   tot: 0h14m41s  (96.6%)\rEpoch: 83.0%  lr: 0.001802  loss: 0.006859  eta: <1min   tot: 0h14m41s  (96.6%)\rEpoch: 83.1%  lr: 0.001792  loss: 0.006857  eta: <1min   tot: 0h14m41s  (96.6%)\rEpoch: 83.2%  lr: 0.001792  loss: 0.006862  eta: <1min   tot: 0h14m41s  (96.6%)\rEpoch: 83.3%  lr: 0.001782  loss: 0.006860  eta: <1min   tot: 0h14m41s  (96.7%)\rEpoch: 83.4%  lr: 0.001772  loss: 0.006857  eta: <1min   tot: 0h14m41s  (96.7%)\rEpoch: 83.5%  lr: 0.001762  loss: 0.006855  eta: <1min   tot: 0h14m42s  (96.7%)\rEpoch: 83.5%  lr: 0.001752  loss: 0.006856  eta: <1min   tot: 0h14m42s  (96.7%)\rEpoch: 83.6%  lr: 0.001752  loss: 0.006859  eta: <1min   tot: 0h14m42s  (96.7%)\rEpoch: 83.7%  lr: 0.001742  loss: 0.006858  eta: <1min   tot: 0h14m42s  (96.7%)\rEpoch: 83.8%  lr: 0.001722  loss: 0.006854  eta: <1min   tot: 0h14m42s  (96.8%)\rEpoch: 83.9%  lr: 0.001712  loss: 0.006852  eta: <1min   tot: 0h14m42s  (96.8%)\rEpoch: 84.0%  lr: 0.001692  loss: 0.006852  eta: <1min   tot: 0h14m43s  (96.8%)\rEpoch: 84.1%  lr: 0.001692  loss: 0.006855  eta: <1min   tot: 0h14m43s  (96.8%)\rEpoch: 84.2%  lr: 0.001682  loss: 0.006851  eta: <1min   tot: 0h14m43s  (96.8%)\rEpoch: 84.3%  lr: 0.001662  loss: 0.006848  eta: <1min   tot: 0h14m43s  (96.9%)\rEpoch: 84.4%  lr: 0.001662  loss: 0.006846  eta: <1min   tot: 0h14m43s  (96.9%)\rEpoch: 84.4%  lr: 0.001662  loss: 0.006847  eta: <1min   tot: 0h14m43s  (96.9%)\rEpoch: 84.5%  lr: 0.001652  loss: 0.006844  eta: <1min   tot: 0h14m44s  (96.9%)\rEpoch: 84.6%  lr: 0.001642  loss: 0.006845  eta: <1min   tot: 0h14m44s  (96.9%)\rEpoch: 84.7%  lr: 0.001642  loss: 0.006841  eta: <1min   tot: 0h14m44s  (96.9%)\rEpoch: 84.8%  lr: 0.001642  loss: 0.006840  eta: <1min   tot: 0h14m44s  (97.0%)\rEpoch: 84.9%  lr: 0.001612  loss: 0.006834  eta: <1min   tot: 0h14m44s  (97.0%)\rEpoch: 85.0%  lr: 0.001602  loss: 0.006838  eta: <1min   tot: 0h14m44s  (97.0%)\rEpoch: 85.1%  lr: 0.001592  loss: 0.006842  eta: <1min   tot: 0h14m44s  (97.0%)\rEpoch: 85.2%  lr: 0.001582  loss: 0.006837  eta: <1min   tot: 0h14m45s  (97.0%)\rEpoch: 85.3%  lr: 0.001562  loss: 0.006841  eta: <1min   tot: 0h14m45s  (97.1%)\rEpoch: 85.3%  lr: 0.001562  loss: 0.006844  eta: <1min   tot: 0h14m45s  (97.1%)\rEpoch: 85.4%  lr: 0.001542  loss: 0.006841  eta: <1min   tot: 0h14m45s  (97.1%)\rEpoch: 85.5%  lr: 0.001532  loss: 0.006837  eta: <1min   tot: 0h14m45s  (97.1%)\rEpoch: 85.6%  lr: 0.001522  loss: 0.006837  eta: <1min   tot: 0h14m45s  (97.1%)\rEpoch: 85.7%  lr: 0.001512  loss: 0.006837  eta: <1min   tot: 0h14m46s  (97.1%)\rEpoch: 85.8%  lr: 0.001502  loss: 0.006833  eta: <1min   tot: 0h14m46s  (97.2%)\rEpoch: 85.9%  lr: 0.001482  loss: 0.006842  eta: <1min   tot: 0h14m46s  (97.2%)\rEpoch: 86.0%  lr: 0.001462  loss: 0.006844  eta: <1min   tot: 0h14m46s  (97.2%)\rEpoch: 86.1%  lr: 0.001462  loss: 0.006842  eta: <1min   tot: 0h14m46s  (97.2%)\rEpoch: 86.2%  lr: 0.001462  loss: 0.006843  eta: <1min   tot: 0h14m46s  (97.2%)\rEpoch: 86.2%  lr: 0.001452  loss: 0.006845  eta: <1min   tot: 0h14m46s  (97.2%)\rEpoch: 86.3%  lr: 0.001452  loss: 0.006846  eta: <1min   tot: 0h14m47s  (97.3%)\rEpoch: 86.4%  lr: 0.001452  loss: 0.006845  eta: <1min   tot: 0h14m47s  (97.3%)\rEpoch: 86.5%  lr: 0.001442  loss: 0.006848  eta: <1min   tot: 0h14m47s  (97.3%)\rEpoch: 86.6%  lr: 0.001432  loss: 0.006847  eta: <1min   tot: 0h14m47s  (97.3%)\rEpoch: 86.7%  lr: 0.001432  loss: 0.006846  eta: <1min   tot: 0h14m47s  (97.3%)\rEpoch: 86.8%  lr: 0.001432  loss: 0.006851  eta: <1min   tot: 0h14m47s  (97.4%)\rEpoch: 86.9%  lr: 0.001411  loss: 0.006851  eta: <1min   tot: 0h14m48s  (97.4%)\rEpoch: 87.0%  lr: 0.001391  loss: 0.006853  eta: <1min   tot: 0h14m48s  (97.4%)\rEpoch: 87.1%  lr: 0.001361  loss: 0.006854  eta: <1min   tot: 0h14m48s  (97.4%)\rEpoch: 87.1%  lr: 0.001341  loss: 0.006849  eta: <1min   tot: 0h14m48s  (97.4%)\rEpoch: 87.2%  lr: 0.001341  loss: 0.006847  eta: <1min   tot: 0h14m48s  (97.4%)\rEpoch: 87.3%  lr: 0.001331  loss: 0.006844  eta: <1min   tot: 0h14m48s  (97.5%)\rEpoch: 87.4%  lr: 0.001311  loss: 0.006844  eta: <1min   tot: 0h14m49s  (97.5%)\rEpoch: 87.5%  lr: 0.001311  loss: 0.006842  eta: <1min   tot: 0h14m49s  (97.5%)\rEpoch: 87.6%  lr: 0.001311  loss: 0.006845  eta: <1min   tot: 0h14m49s  (97.5%)\rEpoch: 87.7%  lr: 0.001301  loss: 0.006845  eta: <1min   tot: 0h14m49s  (97.5%)\rEpoch: 87.8%  lr: 0.001291  loss: 0.006846  eta: <1min   tot: 0h14m49s  (97.6%)\rEpoch: 87.9%  lr: 0.001271  loss: 0.006850  eta: <1min   tot: 0h14m49s  (97.6%)\rEpoch: 88.0%  lr: 0.001261  loss: 0.006852  eta: <1min   tot: 0h14m50s  (97.6%)\rEpoch: 88.0%  lr: 0.001261  loss: 0.006853  eta: <1min   tot: 0h14m50s  (97.6%)\rEpoch: 88.1%  lr: 0.001241  loss: 0.006855  eta: <1min   tot: 0h14m50s  (97.6%)\rEpoch: 88.2%  lr: 0.001231  loss: 0.006855  eta: <1min   tot: 0h14m50s  (97.6%)\rEpoch: 88.3%  lr: 0.001231  loss: 0.006852  eta: <1min   tot: 0h14m50s  (97.7%)\rEpoch: 88.4%  lr: 0.001211  loss: 0.006849  eta: <1min   tot: 0h14m50s  (97.7%)\rEpoch: 88.5%  lr: 0.001201  loss: 0.006849  eta: <1min   tot: 0h14m51s  (97.7%)\rEpoch: 88.6%  lr: 0.001201  loss: 0.006852  eta: <1min   tot: 0h14m51s  (97.7%)\rEpoch: 88.7%  lr: 0.001181  loss: 0.006849  eta: <1min   tot: 0h14m51s  (97.7%)\rEpoch: 88.8%  lr: 0.001171  loss: 0.006854  eta: <1min   tot: 0h14m51s  (97.8%)\rEpoch: 88.9%  lr: 0.001161  loss: 0.006851  eta: <1min   tot: 0h14m51s  (97.8%)\rEpoch: 88.9%  lr: 0.001141  loss: 0.006850  eta: <1min   tot: 0h14m51s  (97.8%)\rEpoch: 89.0%  lr: 0.001131  loss: 0.006846  eta: <1min   tot: 0h14m51s  (97.8%)\rEpoch: 89.1%  lr: 0.001131  loss: 0.006855  eta: <1min   tot: 0h14m52s  (97.8%)\rEpoch: 89.2%  lr: 0.001121  loss: 0.006853  eta: <1min   tot: 0h14m52s  (97.8%)\rEpoch: 89.3%  lr: 0.001091  loss: 0.006851  eta: <1min   tot: 0h14m52s  (97.9%)\rEpoch: 89.4%  lr: 0.001081  loss: 0.006855  eta: <1min   tot: 0h14m52s  (97.9%)\rEpoch: 89.5%  lr: 0.001061  loss: 0.006853  eta: <1min   tot: 0h14m52s  (97.9%)\rEpoch: 89.6%  lr: 0.001051  loss: 0.006855  eta: <1min   tot: 0h14m52s  (97.9%)\rEpoch: 89.7%  lr: 0.001051  loss: 0.006857  eta: <1min   tot: 0h14m53s  (97.9%)\rEpoch: 89.8%  lr: 0.001031  loss: 0.006852  eta: <1min   tot: 0h14m53s  (98.0%)\rEpoch: 89.8%  lr: 0.001021  loss: 0.006856  eta: <1min   tot: 0h14m53s  (98.0%)\rEpoch: 89.9%  lr: 0.001001  loss: 0.006854  eta: <1min   tot: 0h14m53s  (98.0%)\rEpoch: 90.0%  lr: 0.000991  loss: 0.006852  eta: <1min   tot: 0h14m53s  (98.0%)\rEpoch: 90.1%  lr: 0.000981  loss: 0.006850  eta: <1min   tot: 0h14m53s  (98.0%)\rEpoch: 90.2%  lr: 0.000971  loss: 0.006849  eta: <1min   tot: 0h14m53s  (98.0%)\rEpoch: 90.3%  lr: 0.000971  loss: 0.006854  eta: <1min   tot: 0h14m54s  (98.1%)\rEpoch: 90.4%  lr: 0.000951  loss: 0.006853  eta: <1min   tot: 0h14m54s  (98.1%)\rEpoch: 90.5%  lr: 0.000931  loss: 0.006853  eta: <1min   tot: 0h14m54s  (98.1%)\rEpoch: 90.6%  lr: 0.000921  loss: 0.006855  eta: <1min   tot: 0h14m54s  (98.1%)\rEpoch: 90.7%  lr: 0.000891  loss: 0.006852  eta: <1min   tot: 0h14m54s  (98.1%)\rEpoch: 90.7%  lr: 0.000891  loss: 0.006850  eta: <1min   tot: 0h14m54s  (98.1%)\rEpoch: 90.8%  lr: 0.000881  loss: 0.006853  eta: <1min   tot: 0h14m55s  (98.2%)\rEpoch: 90.9%  lr: 0.000871  loss: 0.006854  eta: <1min   tot: 0h14m55s  (98.2%)\rEpoch: 91.0%  lr: 0.000871  loss: 0.006852  eta: <1min   tot: 0h14m55s  (98.2%)\rEpoch: 91.1%  lr: 0.000851  loss: 0.006850  eta: <1min   tot: 0h14m55s  (98.2%)\rEpoch: 91.2%  lr: 0.000851  loss: 0.006854  eta: <1min   tot: 0h14m55s  (98.2%)\rEpoch: 91.3%  lr: 0.000841  loss: 0.006850  eta: <1min   tot: 0h14m55s  (98.3%)\rEpoch: 91.4%  lr: 0.000831  loss: 0.006849  eta: <1min   tot: 0h14m55s  (98.3%)\rEpoch: 91.5%  lr: 0.000831  loss: 0.006847  eta: <1min   tot: 0h14m56s  (98.3%)\rEpoch: 91.6%  lr: 0.000821  loss: 0.006846  eta: <1min   tot: 0h14m56s  (98.3%)\rEpoch: 91.6%  lr: 0.000821  loss: 0.006853  eta: <1min   tot: 0h14m56s  (98.3%)\rEpoch: 91.7%  lr: 0.000801  loss: 0.006853  eta: <1min   tot: 0h14m56s  (98.3%)\rEpoch: 91.8%  lr: 0.000791  loss: 0.006849  eta: <1min   tot: 0h14m56s  (98.4%)\rEpoch: 91.9%  lr: 0.000791  loss: 0.006852  eta: <1min   tot: 0h14m56s  (98.4%)\rEpoch: 92.0%  lr: 0.000771  loss: 0.006855  eta: <1min   tot: 0h14m57s  (98.4%)\rEpoch: 92.1%  lr: 0.000761  loss: 0.006860  eta: <1min   tot: 0h14m57s  (98.4%)\rEpoch: 92.2%  lr: 0.000751  loss: 0.006856  eta: <1min   tot: 0h14m57s  (98.4%)\rEpoch: 92.3%  lr: 0.000741  loss: 0.006850  eta: <1min   tot: 0h14m57s  (98.5%)\rEpoch: 92.4%  lr: 0.000731  loss: 0.006854  eta: <1min   tot: 0h14m57s  (98.5%)\rEpoch: 92.5%  lr: 0.000721  loss: 0.006856  eta: <1min   tot: 0h14m57s  (98.5%)\rEpoch: 92.5%  lr: 0.000721  loss: 0.006855  eta: <1min   tot: 0h14m58s  (98.5%)\rEpoch: 92.6%  lr: 0.000711  loss: 0.006856  eta: <1min   tot: 0h14m58s  (98.5%)\rEpoch: 92.7%  lr: 0.000711  loss: 0.006860  eta: <1min   tot: 0h14m58s  (98.5%)\rEpoch: 92.8%  lr: 0.000711  loss: 0.006866  eta: <1min   tot: 0h14m58s  (98.6%)\rEpoch: 92.9%  lr: 0.000681  loss: 0.006867  eta: <1min   tot: 0h14m58s  (98.6%)\rEpoch: 93.0%  lr: 0.000671  loss: 0.006864  eta: <1min   tot: 0h14m58s  (98.6%)\rEpoch: 93.1%  lr: 0.000671  loss: 0.006864  eta: <1min   tot: 0h14m58s  (98.6%)\rEpoch: 93.2%  lr: 0.000671  loss: 0.006861  eta: <1min   tot: 0h14m59s  (98.6%)\rEpoch: 93.3%  lr: 0.000671  loss: 0.006858  eta: <1min   tot: 0h14m59s  (98.7%)\rEpoch: 93.4%  lr: 0.000671  loss: 0.006856  eta: <1min   tot: 0h14m59s  (98.7%)\rEpoch: 93.4%  lr: 0.000661  loss: 0.006856  eta: <1min   tot: 0h14m59s  (98.7%)\rEpoch: 93.5%  lr: 0.000661  loss: 0.006857  eta: <1min   tot: 0h14m59s  (98.7%)\rEpoch: 93.6%  lr: 0.000651  loss: 0.006854  eta: <1min   tot: 0h14m59s  (98.7%)\rEpoch: 93.7%  lr: 0.000651  loss: 0.006856  eta: <1min   tot: 0h15m0s  (98.7%)\rEpoch: 93.8%  lr: 0.000631  loss: 0.006854  eta: <1min   tot: 0h15m0s  (98.8%)\rEpoch: 93.9%  lr: 0.000631  loss: 0.006853  eta: <1min   tot: 0h15m0s  (98.8%)\rEpoch: 94.0%  lr: 0.000591  loss: 0.006861  eta: <1min   tot: 0h15m0s  (98.8%)\rEpoch: 94.1%  lr: 0.000571  loss: 0.006863  eta: <1min   tot: 0h15m0s  (98.8%)\rEpoch: 94.2%  lr: 0.000541  loss: 0.006862  eta: <1min   tot: 0h15m0s  (98.8%)\rEpoch: 94.3%  lr: 0.000521  loss: 0.006865  eta: <1min   tot: 0h15m0s  (98.9%)\rEpoch: 94.3%  lr: 0.000511  loss: 0.006861  eta: <1min   tot: 0h15m1s  (98.9%)\rEpoch: 94.4%  lr: 0.000501  loss: 0.006856  eta: <1min   tot: 0h15m1s  (98.9%)\rEpoch: 94.5%  lr: 0.000501  loss: 0.006855  eta: <1min   tot: 0h15m1s  (98.9%)\rEpoch: 94.6%  lr: 0.000481  loss: 0.006853  eta: <1min   tot: 0h15m1s  (98.9%)\rEpoch: 94.7%  lr: 0.000481  loss: 0.006860  eta: <1min   tot: 0h15m1s  (98.9%)\rEpoch: 94.8%  lr: 0.000471  loss: 0.006859  eta: <1min   tot: 0h15m1s  (99.0%)\rEpoch: 94.9%  lr: 0.000461  loss: 0.006856  eta: <1min   tot: 0h15m2s  (99.0%)\rEpoch: 95.0%  lr: 0.000451  loss: 0.006855  eta: <1min   tot: 0h15m2s  (99.0%)\rEpoch: 95.1%  lr: 0.000441  loss: 0.006859  eta: <1min   tot: 0h15m2s  (99.0%)\rEpoch: 95.2%  lr: 0.000441  loss: 0.006857  eta: <1min   tot: 0h15m2s  (99.0%)\rEpoch: 95.2%  lr: 0.000431  loss: 0.006865  eta: <1min   tot: 0h15m2s  (99.0%)\rEpoch: 95.3%  lr: 0.000431  loss: 0.006863  eta: <1min   tot: 0h15m2s  (99.1%)\rEpoch: 95.4%  lr: 0.000421  loss: 0.006863  eta: <1min   tot: 0h15m2s  (99.1%)\rEpoch: 95.5%  lr: 0.000421  loss: 0.006868  eta: <1min   tot: 0h15m3s  (99.1%)\rEpoch: 95.6%  lr: 0.000421  loss: 0.006866  eta: <1min   tot: 0h15m3s  (99.1%)\rEpoch: 95.7%  lr: 0.000400  loss: 0.006864  eta: <1min   tot: 0h15m3s  (99.1%)\rEpoch: 95.8%  lr: 0.000390  loss: 0.006865  eta: <1min   tot: 0h15m3s  (99.2%)\rEpoch: 95.9%  lr: 0.000380  loss: 0.006868  eta: <1min   tot: 0h15m3s  (99.2%)\rEpoch: 96.0%  lr: 0.000380  loss: 0.006870  eta: <1min   tot: 0h15m3s  (99.2%)\rEpoch: 96.1%  lr: 0.000360  loss: 0.006868  eta: <1min   tot: 0h15m4s  (99.2%)\rEpoch: 96.1%  lr: 0.000350  loss: 0.006869  eta: <1min   tot: 0h15m4s  (99.2%)\rEpoch: 96.2%  lr: 0.000340  loss: 0.006872  eta: <1min   tot: 0h15m4s  (99.2%)\rEpoch: 96.3%  lr: 0.000330  loss: 0.006870  eta: <1min   tot: 0h15m4s  (99.3%)\rEpoch: 96.4%  lr: 0.000310  loss: 0.006865  eta: <1min   tot: 0h15m4s  (99.3%)\rEpoch: 96.5%  lr: 0.000310  loss: 0.006863  eta: <1min   tot: 0h15m4s  (99.3%)\rEpoch: 96.6%  lr: 0.000310  loss: 0.006865  eta: <1min   tot: 0h15m4s  (99.3%)\rEpoch: 96.7%  lr: 0.000310  loss: 0.006860  eta: <1min   tot: 0h15m5s  (99.3%)\rEpoch: 96.8%  lr: 0.000300  loss: 0.006857  eta: <1min   tot: 0h15m5s  (99.4%)\rEpoch: 96.9%  lr: 0.000290  loss: 0.006864  eta: <1min   tot: 0h15m5s  (99.4%)\rEpoch: 97.0%  lr: 0.000290  loss: 0.006862  eta: <1min   tot: 0h15m5s  (99.4%)\rEpoch: 97.0%  lr: 0.000280  loss: 0.006861  eta: <1min   tot: 0h15m5s  (99.4%)\rEpoch: 97.1%  lr: 0.000270  loss: 0.006861  eta: <1min   tot: 0h15m5s  (99.4%)\rEpoch: 97.2%  lr: 0.000270  loss: 0.006860  eta: <1min   tot: 0h15m6s  (99.4%)\rEpoch: 97.3%  lr: 0.000270  loss: 0.006859  eta: <1min   tot: 0h15m6s  (99.5%)\rEpoch: 97.4%  lr: 0.000270  loss: 0.006859  eta: <1min   tot: 0h15m6s  (99.5%)\rEpoch: 97.5%  lr: 0.000250  loss: 0.006862  eta: <1min   tot: 0h15m6s  (99.5%)\rEpoch: 97.6%  lr: 0.000250  loss: 0.006862  eta: <1min   tot: 0h15m6s  (99.5%)\rEpoch: 97.7%  lr: 0.000240  loss: 0.006864  eta: <1min   tot: 0h15m6s  (99.5%)\rEpoch: 97.8%  lr: 0.000210  loss: 0.006863  eta: <1min   tot: 0h15m7s  (99.6%)\rEpoch: 97.9%  lr: 0.000200  loss: 0.006859  eta: <1min   tot: 0h15m7s  (99.6%)\rEpoch: 97.9%  lr: 0.000180  loss: 0.006868  eta: <1min   tot: 0h15m7s  (99.6%)\rEpoch: 98.0%  lr: 0.000170  loss: 0.006876  eta: <1min   tot: 0h15m7s  (99.6%)\rEpoch: 98.1%  lr: 0.000170  loss: 0.006872  eta: <1min   tot: 0h15m7s  (99.6%)\rEpoch: 98.2%  lr: 0.000150  loss: 0.006870  eta: <1min   tot: 0h15m7s  (99.6%)\rEpoch: 98.3%  lr: 0.000140  loss: 0.006868  eta: <1min   tot: 0h15m7s  (99.7%)\rEpoch: 98.4%  lr: 0.000140  loss: 0.006865  eta: <1min   tot: 0h15m8s  (99.7%)\rEpoch: 98.5%  lr: 0.000100  loss: 0.006862  eta: <1min   tot: 0h15m8s  (99.7%)\rEpoch: 98.6%  lr: 0.000100  loss: 0.006869  eta: <1min   tot: 0h15m8s  (99.7%)\rEpoch: 98.7%  lr: 0.000100  loss: 0.006865  eta: <1min   tot: 0h15m8s  (99.7%)\rEpoch: 98.8%  lr: 0.000080  loss: 0.006870  eta: <1min   tot: 0h15m8s  (99.8%)\rEpoch: 98.8%  lr: 0.000080  loss: 0.006868  eta: <1min   tot: 0h15m8s  (99.8%)\rEpoch: 98.9%  lr: 0.000070  loss: 0.006866  eta: <1min   tot: 0h15m9s  (99.8%)\rEpoch: 99.0%  lr: 0.000060  loss: 0.006868  eta: <1min   tot: 0h15m9s  (99.8%)\rEpoch: 99.1%  lr: 0.000040  loss: 0.006865  eta: <1min   tot: 0h15m9s  (99.8%)\rEpoch: 99.2%  lr: 0.000040  loss: 0.006862  eta: <1min   tot: 0h15m9s  (99.8%)\rEpoch: 99.3%  lr: 0.000040  loss: 0.006860  eta: <1min   tot: 0h15m9s  (99.9%)\rEpoch: 99.4%  lr: 0.000020  loss: 0.006859  eta: <1min   tot: 0h15m9s  (99.9%)\rEpoch: 99.5%  lr: 0.000010  loss: 0.006856  eta: <1min   tot: 0h15m9s  (99.9%)\rEpoch: 99.6%  lr: 0.000010  loss: 0.006855  eta: <1min   tot: 0h15m10s  (99.9%)\rEpoch: 99.7%  lr: 0.000000  loss: 0.006853  eta: <1min   tot: 0h15m10s  (99.9%)\rEpoch: 99.7%  lr: 0.000000  loss: 0.006857  eta: <1min   tot: 0h15m10s  (99.9%)\rEpoch: 99.8%  lr: 0.000000  loss: 0.006854  eta: <1min   tot: 0h15m10s  (100.0%)\rEpoch: 99.9%  lr: 0.000000  loss: 0.006852  eta: <1min   tot: 0h15m10s  (100.0%)\rEpoch: 100.0%  lr: 0.000000  loss: 0.006849  eta: <1min   tot: 0h15m10s  (100.0%)"
          ],
          "name": "stderr"
        }
      ]
    },
    {
      "cell_type": "markdown",
      "metadata": {
        "collapsed": true,
        "id": "6EbWjHcjSkVY",
        "colab_type": "text"
      },
      "source": [
        "And now we can compare the new embeddings with the previous ones. You can find trained word vectors in the file *[model_file_name].tsv*. Upload the embeddings from StarSpace into a dict. "
      ]
    },
    {
      "cell_type": "code",
      "metadata": {
        "id": "mJW4FCZ0SkVY",
        "colab_type": "code",
        "colab": {}
      },
      "source": [
        "starspace_embeddings = {}\n",
        "for line in open(\"Starspace_embedding.tsv\"):\n",
        "  tokenizer = nltk.tokenize.WhitespaceTokenizer()\n",
        "  emb = tokenizer.tokenize(line)\n",
        "  starspace_embeddings[emb[0]] = [float(emb[i]) for i in range(1, len(emb))]"
      ],
      "execution_count": null,
      "outputs": []
    },
    {
      "cell_type": "code",
      "metadata": {
        "id": "4rErhn0USkVZ",
        "colab_type": "code",
        "colab": {}
      },
      "source": [
        "ss_prepared_ranking = []\n",
        "for line in prepared_validation:\n",
        "    q, *ex = line\n",
        "    ranks = rank_candidates(q, ex, starspace_embeddings, 100)\n",
        "    ss_prepared_ranking.append([r[0] for r in ranks].index(0) + 1)"
      ],
      "execution_count": null,
      "outputs": []
    },
    {
      "cell_type": "code",
      "metadata": {
        "id": "HJyhUyBgSkVc",
        "colab_type": "code",
        "colab": {
          "base_uri": "https://localhost:8080/",
          "height": 118
        },
        "outputId": "fd7ead2d-2755-48b9-e377-72f9141bfc1a"
      },
      "source": [
        "for k in [1, 5, 10, 100, 500, 1000]:\n",
        "    print(\"DCG@%4d: %.3f | Hits@%4d: %.3f\" % (k, dcg_score(ss_prepared_ranking, k), \n",
        "                                               k, hits_count(ss_prepared_ranking, k)))"
      ],
      "execution_count": null,
      "outputs": [
        {
          "output_type": "stream",
          "text": [
            "DCG@   1: 0.517 | Hits@   1: 0.517\n",
            "DCG@   5: 0.612 | Hits@   5: 0.694\n",
            "DCG@  10: 0.632 | Hits@  10: 0.755\n",
            "DCG@ 100: 0.664 | Hits@ 100: 0.905\n",
            "DCG@ 500: 0.674 | Hits@ 500: 0.981\n",
            "DCG@1000: 0.675 | Hits@1000: 1.000\n"
          ],
          "name": "stdout"
        }
      ]
    },
    {
      "cell_type": "markdown",
      "metadata": {
        "id": "oxaN15ZRSkVd",
        "colab_type": "text"
      },
      "source": [
        "Due to training for the particular task with the supervised data, you should expect to obtain a higher quality than for the previous approach. In additiion, despite the fact that StarSpace's trained vectors have a smaller dimension than word2vec's, it provides better results in this task."
      ]
    },
    {
      "cell_type": "markdown",
      "metadata": {
        "id": "y-0XWOnkSkVe",
        "colab_type": "text"
      },
      "source": [
        "**Task 5 (StarSpaceRanks).** For each question from prepared *test.tsv* submit the ranks of the candidates for trained representation."
      ]
    },
    {
      "cell_type": "code",
      "metadata": {
        "id": "Di5sHQmISkVe",
        "colab_type": "code",
        "colab": {
          "base_uri": "https://localhost:8080/",
          "height": 54
        },
        "outputId": "be847581-9ad4-4c0d-e448-d3529811b91d"
      },
      "source": [
        "starspace_ranks_results = []\n",
        "prepared_test_data = 'data/test_prepare.tsv'\n",
        "for line in open(prepared_test_data):\n",
        "    q, *ex = line.strip().split('\\t')\n",
        "    ranks = rank_candidates(q, ex, starspace_embeddings, 100)\n",
        "    ranked_candidates = [r[0] for r in ranks]\n",
        "    starspace_ranks_results.append([ranked_candidates.index(i) + 1 for i in range(len(ranked_candidates))])\n",
        "    \n",
        "grader.submit_tag('StarSpaceRanks', matrix_to_string(starspace_ranks_results))"
      ],
      "execution_count": null,
      "outputs": [
        {
          "output_type": "stream",
          "text": [
            "Current answer for task StarSpaceRanks is: 53\t67\t72\t83\t32\t95\t82\t73\t20\t68\t17\t26\t22\t31\t100\t59\t19\t37\t52\t87\t45\t78\t25\t63\t89\t13\t76\t88\t79\t4\t85\t61\t39\t7...\n"
          ],
          "name": "stdout"
        }
      ]
    },
    {
      "cell_type": "markdown",
      "metadata": {
        "id": "uk7zkQ-YSkVg",
        "colab_type": "text"
      },
      "source": [
        "Please, **don't remove** the file with these embeddings because you will need them in the final project."
      ]
    },
    {
      "cell_type": "markdown",
      "metadata": {
        "id": "6ObDbAiOSkVg",
        "colab_type": "text"
      },
      "source": [
        "### Authorization & Submission\n",
        "To submit assignment parts to Cousera platform, please, enter your e-mail and token into variables below. You can generate token on this programming assignment page. <b>Note:</b> Token expires 30 minutes after generation."
      ]
    },
    {
      "cell_type": "code",
      "metadata": {
        "id": "lKSoKJ3qSkVg",
        "colab_type": "code",
        "colab": {
          "base_uri": "https://localhost:8080/",
          "height": 608
        },
        "outputId": "8a2c6937-e686-4dfb-d256-34d30a722486"
      },
      "source": [
        "STUDENT_EMAIL = 'ansari.f@husky.neu.edu' \n",
        "STUDENT_TOKEN = '7SOoTcjce5Dqn72X' \n",
        "grader.status()"
      ],
      "execution_count": null,
      "outputs": [
        {
          "output_type": "stream",
          "text": [
            "You want to submit these parts:\n",
            "Task Question2Vec: 0.019293891059027776\n",
            "-0.028727213541666668\n",
            "0.046056111653645836\n",
            "0.08525933159722222\n",
            "0.02430555555555...\n",
            "Task HitsCount: 1.0\n",
            "0.5\n",
            "1.0\n",
            "0.5\n",
            "1.0\n",
            "0.3333333333333333\n",
            "0.6666666666666666\n",
            "1.0\n",
            "0.1\n",
            "0.2\n",
            "0.3\n",
            "0.4\n",
            "0.5\n",
            "0.6\n",
            "0.7\n",
            "0.8\n",
            "0.9\n",
            "1....\n",
            "Task DCGScore: 1.0\n",
            "0.5\n",
            "0.8154648767857288\n",
            "0.5\n",
            "0.8154648767857288\n",
            "0.3333333333333333\n",
            "0.5436432511904858\n",
            "0.7103099178...\n",
            "Task W2VTokenizedRanks: 95\t94\t7\t9\t64\t36\t31\t93\t23\t100\t99\t20\t60\t6\t97\t48\t70\t37\t41\t96\t29\t56\t2\t65\t68\t44\t27\t25\t57\t62\t11\t87\t50\t66\t7...\n",
            "Task StarSpaceRanks: 53\t67\t72\t83\t32\t95\t82\t73\t20\t68\t17\t26\t22\t31\t100\t59\t19\t37\t52\t87\t45\t78\t25\t63\t89\t13\t76\t88\t79\t4\t85\t61\t39\t7...\n"
          ],
          "name": "stdout"
        }
      ]
    },
    {
      "cell_type": "markdown",
      "metadata": {
        "id": "6tuiPTs7SkVj",
        "colab_type": "text"
      },
      "source": [
        "If you want to submit these answers, run cell below"
      ]
    },
    {
      "cell_type": "code",
      "metadata": {
        "id": "my5WzD7KSkVj",
        "colab_type": "code",
        "colab": {
          "base_uri": "https://localhost:8080/",
          "height": 34
        },
        "outputId": "2760c269-6063-4f98-9881-7523ea6161ec"
      },
      "source": [
        "grader.submit(STUDENT_EMAIL, STUDENT_TOKEN)"
      ],
      "execution_count": null,
      "outputs": [
        {
          "output_type": "stream",
          "text": [
            "Submitted to Coursera platform. See results on assignment page!\n"
          ],
          "name": "stdout"
        }
      ]
    },
    {
      "cell_type": "code",
      "metadata": {
        "id": "hDE7es8mSkVl",
        "colab_type": "code",
        "colab": {}
      },
      "source": [
        ""
      ],
      "execution_count": null,
      "outputs": []
    }
  ]
}